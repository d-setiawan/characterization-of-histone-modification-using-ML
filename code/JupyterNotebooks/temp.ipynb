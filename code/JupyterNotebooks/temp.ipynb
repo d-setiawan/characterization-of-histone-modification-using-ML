{
 "cells": [
  {
   "cell_type": "code",
   "execution_count": 1,
   "metadata": {},
   "outputs": [],
   "source": [
    "import numpy as np\n",
    "import pandas as pd\n",
    "import xgboost as xgb\n",
    "import optuna\n",
    "from shap_analysis import SHAPAnalyzer, function_map\n",
    "from sklearn.model_selection import train_test_split\n",
    "import shap\n",
    "\n",
    "df = pd.read_csv(\"thesis_cleaned_transformed_histone_dataset_categorical(H3K23me1).tsv\", sep=\"\\t\")\n",
    "\n",
    "X = df.drop(columns = ['Gene Expression (FPKM)_log'])\n",
    "y = df['Gene Expression (FPKM)_log']\n",
    "\n",
    "X_train, X_test, y_train, y_test = train_test_split(X, y, test_size=0.2, random_state=42)"
   ]
  },
  {
   "cell_type": "code",
   "execution_count": 2,
   "metadata": {},
   "outputs": [
    {
     "name": "stderr",
     "output_type": "stream",
     "text": [
      "[I 2025-03-12 18:13:56,242] A new study created in memory with name: no-name-4cbdb5ad-319e-4db2-a673-014c85a0b9fe\n",
      "[18:14:03] WARNING: /home/conda/feedstock_root/build_artifacts/xgboost-split_1707159369174/work/src/c_api/c_api.cc:1240: Saving into deprecated binary model format, please consider using `json` or `ubj`. Model format will default to JSON in XGBoost 2.2 if not specified.\n",
      "[I 2025-03-12 18:14:07,182] Trial 0 finished with value: 1.6983465573271133 and parameters: {'learning_rate': 0.014715977813907235, 'max_depth': 22, 'subsample': 0.9921555906784988, 'gamma': 0.2732788339988851, 'colsample_bytree': 0.9631124447854944, 'lambda': 7.7698252060498625, 'alpha': 2.4945277557578533}. Best is trial 0 with value: 1.6983465573271133.\n"
     ]
    },
    {
     "name": "stdout",
     "output_type": "stream",
     "text": [
      "\n",
      "--- Trial 0 ---\n",
      "Params: {'booster': 'gbtree', 'objective': 'reg:squarederror', 'eval_metric': 'rmse', 'tree_method': 'hist', 'device': 'cuda', 'learning_rate': 0.014715977813907235, 'max_depth': 22, 'subsample': 0.9921555906784988, 'gamma': 0.2732788339988851, 'colsample_bytree': 0.9631124447854944, 'lambda': 7.7698252060498625, 'alpha': 2.4945277557578533}\n",
      "Accuracy: 0.8125\n",
      "Total Matches: 13, Total Mismatches: 3\n",
      "Objective Score: 1.6983\n"
     ]
    },
    {
     "name": "stderr",
     "output_type": "stream",
     "text": [
      "[18:14:08] WARNING: /home/conda/feedstock_root/build_artifacts/xgboost-split_1707159369174/work/src/c_api/c_api.cc:1240: Saving into deprecated binary model format, please consider using `json` or `ubj`. Model format will default to JSON in XGBoost 2.2 if not specified.\n",
      "[I 2025-03-12 18:14:09,496] Trial 1 finished with value: 2.301152271567844 and parameters: {'learning_rate': 0.02069520388540478, 'max_depth': 12, 'subsample': 0.948762259940102, 'gamma': 0.8825084265416093, 'colsample_bytree': 0.5382543624212902, 'lambda': 10.560065324004052, 'alpha': 11.760904947993541}. Best is trial 1 with value: 2.301152271567844.\n"
     ]
    },
    {
     "name": "stdout",
     "output_type": "stream",
     "text": [
      "\n",
      "--- Trial 1 ---\n",
      "Params: {'booster': 'gbtree', 'objective': 'reg:squarederror', 'eval_metric': 'rmse', 'tree_method': 'hist', 'device': 'cuda', 'learning_rate': 0.02069520388540478, 'max_depth': 12, 'subsample': 0.948762259940102, 'gamma': 0.8825084265416093, 'colsample_bytree': 0.5382543624212902, 'lambda': 10.560065324004052, 'alpha': 11.760904947993541}\n",
      "Accuracy: 0.8750\n",
      "Total Matches: 14, Total Mismatches: 2\n",
      "Objective Score: 2.3012\n"
     ]
    },
    {
     "name": "stderr",
     "output_type": "stream",
     "text": [
      "[18:14:11] WARNING: /home/conda/feedstock_root/build_artifacts/xgboost-split_1707159369174/work/src/c_api/c_api.cc:1240: Saving into deprecated binary model format, please consider using `json` or `ubj`. Model format will default to JSON in XGBoost 2.2 if not specified.\n",
      "[I 2025-03-12 18:14:12,051] Trial 2 finished with value: 2.229872065363452 and parameters: {'learning_rate': 0.019140323486613143, 'max_depth': 30, 'subsample': 0.4286746691175212, 'gamma': 0.9644929141008773, 'colsample_bytree': 0.5513437844559965, 'lambda': 9.063242025002944, 'alpha': 7.889030726670226}. Best is trial 1 with value: 2.301152271567844.\n"
     ]
    },
    {
     "name": "stdout",
     "output_type": "stream",
     "text": [
      "\n",
      "--- Trial 2 ---\n",
      "Params: {'booster': 'gbtree', 'objective': 'reg:squarederror', 'eval_metric': 'rmse', 'tree_method': 'hist', 'device': 'cuda', 'learning_rate': 0.019140323486613143, 'max_depth': 30, 'subsample': 0.4286746691175212, 'gamma': 0.9644929141008773, 'colsample_bytree': 0.5513437844559965, 'lambda': 9.063242025002944, 'alpha': 7.889030726670226}\n",
      "Accuracy: 0.8750\n",
      "Total Matches: 14, Total Mismatches: 2\n",
      "Objective Score: 2.2299\n"
     ]
    },
    {
     "name": "stderr",
     "output_type": "stream",
     "text": [
      "[18:14:15] WARNING: /home/conda/feedstock_root/build_artifacts/xgboost-split_1707159369174/work/src/c_api/c_api.cc:1240: Saving into deprecated binary model format, please consider using `json` or `ubj`. Model format will default to JSON in XGBoost 2.2 if not specified.\n",
      "[I 2025-03-12 18:14:17,047] Trial 3 finished with value: 2.127400759141892 and parameters: {'learning_rate': 0.02479477165218259, 'max_depth': 30, 'subsample': 0.8799171251231359, 'gamma': 0.8405150445364147, 'colsample_bytree': 0.6362741311890352, 'lambda': 12.94298129036365, 'alpha': 4.747850308696964}. Best is trial 1 with value: 2.301152271567844.\n"
     ]
    },
    {
     "name": "stdout",
     "output_type": "stream",
     "text": [
      "\n",
      "--- Trial 3 ---\n",
      "Params: {'booster': 'gbtree', 'objective': 'reg:squarederror', 'eval_metric': 'rmse', 'tree_method': 'hist', 'device': 'cuda', 'learning_rate': 0.02479477165218259, 'max_depth': 30, 'subsample': 0.8799171251231359, 'gamma': 0.8405150445364147, 'colsample_bytree': 0.6362741311890352, 'lambda': 12.94298129036365, 'alpha': 4.747850308696964}\n",
      "Accuracy: 0.8125\n",
      "Total Matches: 13, Total Mismatches: 3\n",
      "Objective Score: 2.1274\n"
     ]
    },
    {
     "name": "stderr",
     "output_type": "stream",
     "text": [
      "[18:14:19] WARNING: /home/conda/feedstock_root/build_artifacts/xgboost-split_1707159369174/work/src/c_api/c_api.cc:1240: Saving into deprecated binary model format, please consider using `json` or `ubj`. Model format will default to JSON in XGBoost 2.2 if not specified.\n",
      "[I 2025-03-12 18:14:20,278] Trial 4 finished with value: 2.008821577997878 and parameters: {'learning_rate': 0.01801862290349689, 'max_depth': 30, 'subsample': 0.4008140866141183, 'gamma': 0.05212303534179319, 'colsample_bytree': 0.7435155141677408, 'lambda': 11.471514524501686, 'alpha': 10.098442874431115}. Best is trial 1 with value: 2.301152271567844.\n"
     ]
    },
    {
     "name": "stdout",
     "output_type": "stream",
     "text": [
      "\n",
      "--- Trial 4 ---\n",
      "Params: {'booster': 'gbtree', 'objective': 'reg:squarederror', 'eval_metric': 'rmse', 'tree_method': 'hist', 'device': 'cuda', 'learning_rate': 0.01801862290349689, 'max_depth': 30, 'subsample': 0.4008140866141183, 'gamma': 0.05212303534179319, 'colsample_bytree': 0.7435155141677408, 'lambda': 11.471514524501686, 'alpha': 10.098442874431115}\n",
      "Accuracy: 0.8750\n",
      "Total Matches: 14, Total Mismatches: 2\n",
      "Objective Score: 2.0088\n"
     ]
    },
    {
     "name": "stderr",
     "output_type": "stream",
     "text": [
      "[18:14:23] WARNING: /home/conda/feedstock_root/build_artifacts/xgboost-split_1707159369174/work/src/c_api/c_api.cc:1240: Saving into deprecated binary model format, please consider using `json` or `ubj`. Model format will default to JSON in XGBoost 2.2 if not specified.\n",
      "[I 2025-03-12 18:14:24,999] Trial 5 finished with value: 1.9073729591909796 and parameters: {'learning_rate': 0.02112767520776773, 'max_depth': 27, 'subsample': 0.5171187535005963, 'gamma': 0.8831321877408248, 'colsample_bytree': 0.7514233660343388, 'lambda': 6.169397054067545, 'alpha': 3.0605608413102026}. Best is trial 1 with value: 2.301152271567844.\n"
     ]
    },
    {
     "name": "stdout",
     "output_type": "stream",
     "text": [
      "\n",
      "--- Trial 5 ---\n",
      "Params: {'booster': 'gbtree', 'objective': 'reg:squarederror', 'eval_metric': 'rmse', 'tree_method': 'hist', 'device': 'cuda', 'learning_rate': 0.02112767520776773, 'max_depth': 27, 'subsample': 0.5171187535005963, 'gamma': 0.8831321877408248, 'colsample_bytree': 0.7514233660343388, 'lambda': 6.169397054067545, 'alpha': 3.0605608413102026}\n",
      "Accuracy: 0.8125\n",
      "Total Matches: 13, Total Mismatches: 3\n",
      "Objective Score: 1.9074\n"
     ]
    },
    {
     "name": "stderr",
     "output_type": "stream",
     "text": [
      "[18:14:30] WARNING: /home/conda/feedstock_root/build_artifacts/xgboost-split_1707159369174/work/src/c_api/c_api.cc:1240: Saving into deprecated binary model format, please consider using `json` or `ubj`. Model format will default to JSON in XGBoost 2.2 if not specified.\n",
      "[I 2025-03-12 18:14:32,673] Trial 6 finished with value: 1.7916032411158085 and parameters: {'learning_rate': 0.04084544903398633, 'max_depth': 25, 'subsample': 0.7116157184709012, 'gamma': 0.015127621161250215, 'colsample_bytree': 0.9770001554734962, 'lambda': 11.119804290148533, 'alpha': 8.586134642953077}. Best is trial 1 with value: 2.301152271567844.\n"
     ]
    },
    {
     "name": "stdout",
     "output_type": "stream",
     "text": [
      "\n",
      "--- Trial 6 ---\n",
      "Params: {'booster': 'gbtree', 'objective': 'reg:squarederror', 'eval_metric': 'rmse', 'tree_method': 'hist', 'device': 'cuda', 'learning_rate': 0.04084544903398633, 'max_depth': 25, 'subsample': 0.7116157184709012, 'gamma': 0.015127621161250215, 'colsample_bytree': 0.9770001554734962, 'lambda': 11.119804290148533, 'alpha': 8.586134642953077}\n",
      "Accuracy: 0.7500\n",
      "Total Matches: 12, Total Mismatches: 4\n",
      "Objective Score: 1.7916\n"
     ]
    },
    {
     "name": "stderr",
     "output_type": "stream",
     "text": [
      "[18:14:34] WARNING: /home/conda/feedstock_root/build_artifacts/xgboost-split_1707159369174/work/src/c_api/c_api.cc:1240: Saving into deprecated binary model format, please consider using `json` or `ubj`. Model format will default to JSON in XGBoost 2.2 if not specified.\n",
      "[I 2025-03-12 18:14:35,424] Trial 7 finished with value: 2.1112621654756367 and parameters: {'learning_rate': 0.03663266701488651, 'max_depth': 18, 'subsample': 0.5569486817259668, 'gamma': 0.6885263805469146, 'colsample_bytree': 0.6328884841591912, 'lambda': 8.74871978457392, 'alpha': 11.109836962092125}. Best is trial 1 with value: 2.301152271567844.\n"
     ]
    },
    {
     "name": "stdout",
     "output_type": "stream",
     "text": [
      "\n",
      "--- Trial 7 ---\n",
      "Params: {'booster': 'gbtree', 'objective': 'reg:squarederror', 'eval_metric': 'rmse', 'tree_method': 'hist', 'device': 'cuda', 'learning_rate': 0.03663266701488651, 'max_depth': 18, 'subsample': 0.5569486817259668, 'gamma': 0.6885263805469146, 'colsample_bytree': 0.6328884841591912, 'lambda': 8.74871978457392, 'alpha': 11.109836962092125}\n",
      "Accuracy: 0.8125\n",
      "Total Matches: 13, Total Mismatches: 3\n",
      "Objective Score: 2.1113\n"
     ]
    },
    {
     "name": "stderr",
     "output_type": "stream",
     "text": [
      "[18:14:39] WARNING: /home/conda/feedstock_root/build_artifacts/xgboost-split_1707159369174/work/src/c_api/c_api.cc:1240: Saving into deprecated binary model format, please consider using `json` or `ubj`. Model format will default to JSON in XGBoost 2.2 if not specified.\n",
      "[I 2025-03-12 18:14:41,760] Trial 8 finished with value: 1.7764457510784268 and parameters: {'learning_rate': 0.03666230154520923, 'max_depth': 23, 'subsample': 0.9824205997536833, 'gamma': 0.7735665861994405, 'colsample_bytree': 0.9320650853555215, 'lambda': 9.119849021294387, 'alpha': 4.741370856789936}. Best is trial 1 with value: 2.301152271567844.\n"
     ]
    },
    {
     "name": "stdout",
     "output_type": "stream",
     "text": [
      "\n",
      "--- Trial 8 ---\n",
      "Params: {'booster': 'gbtree', 'objective': 'reg:squarederror', 'eval_metric': 'rmse', 'tree_method': 'hist', 'device': 'cuda', 'learning_rate': 0.03666230154520923, 'max_depth': 23, 'subsample': 0.9824205997536833, 'gamma': 0.7735665861994405, 'colsample_bytree': 0.9320650853555215, 'lambda': 9.119849021294387, 'alpha': 4.741370856789936}\n",
      "Accuracy: 0.7500\n",
      "Total Matches: 12, Total Mismatches: 4\n",
      "Objective Score: 1.7764\n"
     ]
    },
    {
     "name": "stderr",
     "output_type": "stream",
     "text": [
      "[18:14:44] WARNING: /home/conda/feedstock_root/build_artifacts/xgboost-split_1707159369174/work/src/c_api/c_api.cc:1240: Saving into deprecated binary model format, please consider using `json` or `ubj`. Model format will default to JSON in XGBoost 2.2 if not specified.\n",
      "[I 2025-03-12 18:14:45,128] Trial 9 finished with value: 1.9179410715587437 and parameters: {'learning_rate': 0.03824732073335431, 'max_depth': 22, 'subsample': 0.8058287996393749, 'gamma': 0.9221583518864686, 'colsample_bytree': 0.6659760163220951, 'lambda': 2.1234760004055473, 'alpha': 14.437620116529338}. Best is trial 1 with value: 2.301152271567844.\n"
     ]
    },
    {
     "name": "stdout",
     "output_type": "stream",
     "text": [
      "\n",
      "--- Trial 9 ---\n",
      "Params: {'booster': 'gbtree', 'objective': 'reg:squarederror', 'eval_metric': 'rmse', 'tree_method': 'hist', 'device': 'cuda', 'learning_rate': 0.03824732073335431, 'max_depth': 22, 'subsample': 0.8058287996393749, 'gamma': 0.9221583518864686, 'colsample_bytree': 0.6659760163220951, 'lambda': 2.1234760004055473, 'alpha': 14.437620116529338}\n",
      "Accuracy: 0.7500\n",
      "Total Matches: 12, Total Mismatches: 4\n",
      "Objective Score: 1.9179\n"
     ]
    },
    {
     "name": "stderr",
     "output_type": "stream",
     "text": [
      "[18:14:46] WARNING: /home/conda/feedstock_root/build_artifacts/xgboost-split_1707159369174/work/src/c_api/c_api.cc:1240: Saving into deprecated binary model format, please consider using `json` or `ubj`. Model format will default to JSON in XGBoost 2.2 if not specified.\n",
      "[I 2025-03-12 18:14:47,267] Trial 10 finished with value: 1.2009717000255478 and parameters: {'learning_rate': 0.00284590820542293, 'max_depth': 11, 'subsample': 0.6894944213888641, 'gamma': 0.5277274685478255, 'colsample_bytree': 0.5081980397156184, 'lambda': 3.972910367693024, 'alpha': 14.847852741706756}. Best is trial 1 with value: 2.301152271567844.\n"
     ]
    },
    {
     "name": "stdout",
     "output_type": "stream",
     "text": [
      "\n",
      "--- Trial 10 ---\n",
      "Params: {'booster': 'gbtree', 'objective': 'reg:squarederror', 'eval_metric': 'rmse', 'tree_method': 'hist', 'device': 'cuda', 'learning_rate': 0.00284590820542293, 'max_depth': 11, 'subsample': 0.6894944213888641, 'gamma': 0.5277274685478255, 'colsample_bytree': 0.5081980397156184, 'lambda': 3.972910367693024, 'alpha': 14.847852741706756}\n",
      "Accuracy: 0.7500\n",
      "Total Matches: 12, Total Mismatches: 4\n",
      "Objective Score: 1.2010\n"
     ]
    },
    {
     "name": "stderr",
     "output_type": "stream",
     "text": [
      "[18:14:48] WARNING: /home/conda/feedstock_root/build_artifacts/xgboost-split_1707159369174/work/src/c_api/c_api.cc:1240: Saving into deprecated binary model format, please consider using `json` or `ubj`. Model format will default to JSON in XGBoost 2.2 if not specified.\n",
      "[I 2025-03-12 18:14:49,195] Trial 11 finished with value: 1.7569165478926152 and parameters: {'learning_rate': 0.0075641834912999265, 'max_depth': 16, 'subsample': 0.4084860059795144, 'gamma': 0.6143131003947493, 'colsample_bytree': 0.5020036305858584, 'lambda': 14.225798997421396, 'alpha': 11.859436366647886}. Best is trial 1 with value: 2.301152271567844.\n"
     ]
    },
    {
     "name": "stdout",
     "output_type": "stream",
     "text": [
      "\n",
      "--- Trial 11 ---\n",
      "Params: {'booster': 'gbtree', 'objective': 'reg:squarederror', 'eval_metric': 'rmse', 'tree_method': 'hist', 'device': 'cuda', 'learning_rate': 0.0075641834912999265, 'max_depth': 16, 'subsample': 0.4084860059795144, 'gamma': 0.6143131003947493, 'colsample_bytree': 0.5020036305858584, 'lambda': 14.225798997421396, 'alpha': 11.859436366647886}\n",
      "Accuracy: 0.8125\n",
      "Total Matches: 13, Total Mismatches: 3\n",
      "Objective Score: 1.7569\n"
     ]
    },
    {
     "name": "stderr",
     "output_type": "stream",
     "text": [
      "[18:14:50] WARNING: /home/conda/feedstock_root/build_artifacts/xgboost-split_1707159369174/work/src/c_api/c_api.cc:1240: Saving into deprecated binary model format, please consider using `json` or `ubj`. Model format will default to JSON in XGBoost 2.2 if not specified.\n",
      "[I 2025-03-12 18:14:50,919] Trial 12 finished with value: 2.204691101098433 and parameters: {'learning_rate': 0.02993595082069729, 'max_depth': 10, 'subsample': 0.6150029821298841, 'gamma': 0.9864344689584024, 'colsample_bytree': 0.5760087177339762, 'lambda': 5.580287051673742, 'alpha': 7.61524143566164}. Best is trial 1 with value: 2.301152271567844.\n"
     ]
    },
    {
     "name": "stdout",
     "output_type": "stream",
     "text": [
      "\n",
      "--- Trial 12 ---\n",
      "Params: {'booster': 'gbtree', 'objective': 'reg:squarederror', 'eval_metric': 'rmse', 'tree_method': 'hist', 'device': 'cuda', 'learning_rate': 0.02993595082069729, 'max_depth': 10, 'subsample': 0.6150029821298841, 'gamma': 0.9864344689584024, 'colsample_bytree': 0.5760087177339762, 'lambda': 5.580287051673742, 'alpha': 7.61524143566164}\n",
      "Accuracy: 0.8125\n",
      "Total Matches: 13, Total Mismatches: 3\n",
      "Objective Score: 2.2047\n"
     ]
    },
    {
     "name": "stderr",
     "output_type": "stream",
     "text": [
      "[18:14:53] WARNING: /home/conda/feedstock_root/build_artifacts/xgboost-split_1707159369174/work/src/c_api/c_api.cc:1240: Saving into deprecated binary model format, please consider using `json` or `ubj`. Model format will default to JSON in XGBoost 2.2 if not specified.\n",
      "[I 2025-03-12 18:14:55,104] Trial 13 finished with value: 1.7059608711861074 and parameters: {'learning_rate': 0.048761528329329715, 'max_depth': 14, 'subsample': 0.8480090286878593, 'gamma': 0.33458067739766095, 'colsample_bytree': 0.833766220469757, 'lambda': 10.427274280447326, 'alpha': 6.113974264217122}. Best is trial 1 with value: 2.301152271567844.\n"
     ]
    },
    {
     "name": "stdout",
     "output_type": "stream",
     "text": [
      "\n",
      "--- Trial 13 ---\n",
      "Params: {'booster': 'gbtree', 'objective': 'reg:squarederror', 'eval_metric': 'rmse', 'tree_method': 'hist', 'device': 'cuda', 'learning_rate': 0.048761528329329715, 'max_depth': 14, 'subsample': 0.8480090286878593, 'gamma': 0.33458067739766095, 'colsample_bytree': 0.833766220469757, 'lambda': 10.427274280447326, 'alpha': 6.113974264217122}\n",
      "Accuracy: 0.6875\n",
      "Total Matches: 11, Total Mismatches: 5\n",
      "Objective Score: 1.7060\n"
     ]
    },
    {
     "name": "stderr",
     "output_type": "stream",
     "text": [
      "[18:14:58] WARNING: /home/conda/feedstock_root/build_artifacts/xgboost-split_1707159369174/work/src/c_api/c_api.cc:1240: Saving into deprecated binary model format, please consider using `json` or `ubj`. Model format will default to JSON in XGBoost 2.2 if not specified.\n",
      "[I 2025-03-12 18:14:59,671] Trial 14 finished with value: 1.9863093516323715 and parameters: {'learning_rate': 0.010904256927973543, 'max_depth': 14, 'subsample': 0.7542241591899093, 'gamma': 0.7429776099080041, 'colsample_bytree': 0.562016471885547, 'lambda': 14.981951373070522, 'alpha': 0.03669495584080451}. Best is trial 1 with value: 2.301152271567844.\n"
     ]
    },
    {
     "name": "stdout",
     "output_type": "stream",
     "text": [
      "\n",
      "--- Trial 14 ---\n",
      "Params: {'booster': 'gbtree', 'objective': 'reg:squarederror', 'eval_metric': 'rmse', 'tree_method': 'hist', 'device': 'cuda', 'learning_rate': 0.010904256927973543, 'max_depth': 14, 'subsample': 0.7542241591899093, 'gamma': 0.7429776099080041, 'colsample_bytree': 0.562016471885547, 'lambda': 14.981951373070522, 'alpha': 0.03669495584080451}\n",
      "Accuracy: 0.8750\n",
      "Total Matches: 14, Total Mismatches: 2\n",
      "Objective Score: 1.9863\n"
     ]
    },
    {
     "name": "stderr",
     "output_type": "stream",
     "text": [
      "[18:15:02] WARNING: /home/conda/feedstock_root/build_artifacts/xgboost-split_1707159369174/work/src/c_api/c_api.cc:1240: Saving into deprecated binary model format, please consider using `json` or `ubj`. Model format will default to JSON in XGBoost 2.2 if not specified.\n",
      "[I 2025-03-12 18:15:03,462] Trial 15 finished with value: 1.9069971211720258 and parameters: {'learning_rate': 0.028081050383468593, 'max_depth': 20, 'subsample': 0.9045657778744616, 'gamma': 0.9735657950651906, 'colsample_bytree': 0.713660988808985, 'lambda': 0.5968272926425078, 'alpha': 12.143290356671823}. Best is trial 1 with value: 2.301152271567844.\n"
     ]
    },
    {
     "name": "stdout",
     "output_type": "stream",
     "text": [
      "\n",
      "--- Trial 15 ---\n",
      "Params: {'booster': 'gbtree', 'objective': 'reg:squarederror', 'eval_metric': 'rmse', 'tree_method': 'hist', 'device': 'cuda', 'learning_rate': 0.028081050383468593, 'max_depth': 20, 'subsample': 0.9045657778744616, 'gamma': 0.9735657950651906, 'colsample_bytree': 0.713660988808985, 'lambda': 0.5968272926425078, 'alpha': 12.143290356671823}\n",
      "Accuracy: 0.7500\n",
      "Total Matches: 12, Total Mismatches: 4\n",
      "Objective Score: 1.9070\n"
     ]
    },
    {
     "name": "stderr",
     "output_type": "stream",
     "text": [
      "[18:15:05] WARNING: /home/conda/feedstock_root/build_artifacts/xgboost-split_1707159369174/work/src/c_api/c_api.cc:1240: Saving into deprecated binary model format, please consider using `json` or `ubj`. Model format will default to JSON in XGBoost 2.2 if not specified.\n",
      "[I 2025-03-12 18:15:06,785] Trial 16 finished with value: 2.2777666044421494 and parameters: {'learning_rate': 0.021669156178359933, 'max_depth': 27, 'subsample': 0.49921318890808963, 'gamma': 0.4561484054761447, 'colsample_bytree': 0.5734657854377272, 'lambda': 6.49596433704368, 'alpha': 9.297277632117545}. Best is trial 1 with value: 2.301152271567844.\n"
     ]
    },
    {
     "name": "stdout",
     "output_type": "stream",
     "text": [
      "\n",
      "--- Trial 16 ---\n",
      "Params: {'booster': 'gbtree', 'objective': 'reg:squarederror', 'eval_metric': 'rmse', 'tree_method': 'hist', 'device': 'cuda', 'learning_rate': 0.021669156178359933, 'max_depth': 27, 'subsample': 0.49921318890808963, 'gamma': 0.4561484054761447, 'colsample_bytree': 0.5734657854377272, 'lambda': 6.49596433704368, 'alpha': 9.297277632117545}\n",
      "Accuracy: 0.8750\n",
      "Total Matches: 14, Total Mismatches: 2\n",
      "Objective Score: 2.2778\n"
     ]
    },
    {
     "name": "stderr",
     "output_type": "stream",
     "text": [
      "[18:15:10] WARNING: /home/conda/feedstock_root/build_artifacts/xgboost-split_1707159369174/work/src/c_api/c_api.cc:1240: Saving into deprecated binary model format, please consider using `json` or `ubj`. Model format will default to JSON in XGBoost 2.2 if not specified.\n",
      "[I 2025-03-12 18:15:11,478] Trial 17 finished with value: 1.8402756890282035 and parameters: {'learning_rate': 0.03103203574902562, 'max_depth': 26, 'subsample': 0.6015813586894008, 'gamma': 0.3808387596639138, 'colsample_bytree': 0.830363129275748, 'lambda': 5.340836782766576, 'alpha': 9.47436700256835}. Best is trial 1 with value: 2.301152271567844.\n"
     ]
    },
    {
     "name": "stdout",
     "output_type": "stream",
     "text": [
      "\n",
      "--- Trial 17 ---\n",
      "Params: {'booster': 'gbtree', 'objective': 'reg:squarederror', 'eval_metric': 'rmse', 'tree_method': 'hist', 'device': 'cuda', 'learning_rate': 0.03103203574902562, 'max_depth': 26, 'subsample': 0.6015813586894008, 'gamma': 0.3808387596639138, 'colsample_bytree': 0.830363129275748, 'lambda': 5.340836782766576, 'alpha': 9.47436700256835}\n",
      "Accuracy: 0.7500\n",
      "Total Matches: 12, Total Mismatches: 4\n",
      "Objective Score: 1.8403\n"
     ]
    },
    {
     "name": "stderr",
     "output_type": "stream",
     "text": [
      "[18:15:13] WARNING: /home/conda/feedstock_root/build_artifacts/xgboost-split_1707159369174/work/src/c_api/c_api.cc:1240: Saving into deprecated binary model format, please consider using `json` or `ubj`. Model format will default to JSON in XGBoost 2.2 if not specified.\n",
      "[I 2025-03-12 18:15:14,259] Trial 18 finished with value: 2.0680167167447507 and parameters: {'learning_rate': 0.013446424249480752, 'max_depth': 19, 'subsample': 0.48939450773304033, 'gamma': 0.466420776042869, 'colsample_bytree': 0.6002733153441482, 'lambda': 3.2693860511519626, 'alpha': 12.88473199426628}. Best is trial 1 with value: 2.301152271567844.\n"
     ]
    },
    {
     "name": "stdout",
     "output_type": "stream",
     "text": [
      "\n",
      "--- Trial 18 ---\n",
      "Params: {'booster': 'gbtree', 'objective': 'reg:squarederror', 'eval_metric': 'rmse', 'tree_method': 'hist', 'device': 'cuda', 'learning_rate': 0.013446424249480752, 'max_depth': 19, 'subsample': 0.48939450773304033, 'gamma': 0.466420776042869, 'colsample_bytree': 0.6002733153441482, 'lambda': 3.2693860511519626, 'alpha': 12.88473199426628}\n",
      "Accuracy: 0.8750\n",
      "Total Matches: 14, Total Mismatches: 2\n",
      "Objective Score: 2.0680\n"
     ]
    },
    {
     "name": "stderr",
     "output_type": "stream",
     "text": [
      "[18:15:15] WARNING: /home/conda/feedstock_root/build_artifacts/xgboost-split_1707159369174/work/src/c_api/c_api.cc:1240: Saving into deprecated binary model format, please consider using `json` or `ubj`. Model format will default to JSON in XGBoost 2.2 if not specified.\n",
      "[I 2025-03-12 18:15:16,731] Trial 19 finished with value: 2.023478734306991 and parameters: {'learning_rate': 0.023084121734535955, 'max_depth': 13, 'subsample': 0.6237972747240889, 'gamma': 0.13967056238416087, 'colsample_bytree': 0.6810954052159508, 'lambda': 7.214232603024644, 'alpha': 13.375985935434539}. Best is trial 1 with value: 2.301152271567844.\n"
     ]
    },
    {
     "name": "stdout",
     "output_type": "stream",
     "text": [
      "\n",
      "--- Trial 19 ---\n",
      "Params: {'booster': 'gbtree', 'objective': 'reg:squarederror', 'eval_metric': 'rmse', 'tree_method': 'hist', 'device': 'cuda', 'learning_rate': 0.023084121734535955, 'max_depth': 13, 'subsample': 0.6237972747240889, 'gamma': 0.13967056238416087, 'colsample_bytree': 0.6810954052159508, 'lambda': 7.214232603024644, 'alpha': 13.375985935434539}\n",
      "Accuracy: 0.8125\n",
      "Total Matches: 13, Total Mismatches: 3\n",
      "Objective Score: 2.0235\n"
     ]
    },
    {
     "name": "stderr",
     "output_type": "stream",
     "text": [
      "[18:15:19] WARNING: /home/conda/feedstock_root/build_artifacts/xgboost-split_1707159369174/work/src/c_api/c_api.cc:1240: Saving into deprecated binary model format, please consider using `json` or `ubj`. Model format will default to JSON in XGBoost 2.2 if not specified.\n",
      "[I 2025-03-12 18:15:20,451] Trial 20 finished with value: 1.022917958900507 and parameters: {'learning_rate': 0.001140560377039114, 'max_depth': 17, 'subsample': 0.9332472850229088, 'gamma': 0.5762704678737975, 'colsample_bytree': 0.7930167252852104, 'lambda': 12.299669304557996, 'alpha': 10.457859953311708}. Best is trial 1 with value: 2.301152271567844.\n"
     ]
    },
    {
     "name": "stdout",
     "output_type": "stream",
     "text": [
      "\n",
      "--- Trial 20 ---\n",
      "Params: {'booster': 'gbtree', 'objective': 'reg:squarederror', 'eval_metric': 'rmse', 'tree_method': 'hist', 'device': 'cuda', 'learning_rate': 0.001140560377039114, 'max_depth': 17, 'subsample': 0.9332472850229088, 'gamma': 0.5762704678737975, 'colsample_bytree': 0.7930167252852104, 'lambda': 12.299669304557996, 'alpha': 10.457859953311708}\n",
      "Accuracy: 0.8750\n",
      "Total Matches: 14, Total Mismatches: 2\n",
      "Objective Score: 1.0229\n"
     ]
    },
    {
     "name": "stderr",
     "output_type": "stream",
     "text": [
      "[18:15:22] WARNING: /home/conda/feedstock_root/build_artifacts/xgboost-split_1707159369174/work/src/c_api/c_api.cc:1240: Saving into deprecated binary model format, please consider using `json` or `ubj`. Model format will default to JSON in XGBoost 2.2 if not specified.\n",
      "[I 2025-03-12 18:15:23,317] Trial 21 finished with value: 2.2683818503282964 and parameters: {'learning_rate': 0.019153707937817573, 'max_depth': 28, 'subsample': 0.4857949810982265, 'gamma': 0.8156121296994584, 'colsample_bytree': 0.5288417003505491, 'lambda': 9.438974559794614, 'alpha': 8.421521344383912}. Best is trial 1 with value: 2.301152271567844.\n"
     ]
    },
    {
     "name": "stdout",
     "output_type": "stream",
     "text": [
      "\n",
      "--- Trial 21 ---\n",
      "Params: {'booster': 'gbtree', 'objective': 'reg:squarederror', 'eval_metric': 'rmse', 'tree_method': 'hist', 'device': 'cuda', 'learning_rate': 0.019153707937817573, 'max_depth': 28, 'subsample': 0.4857949810982265, 'gamma': 0.8156121296994584, 'colsample_bytree': 0.5288417003505491, 'lambda': 9.438974559794614, 'alpha': 8.421521344383912}\n",
      "Accuracy: 0.8750\n",
      "Total Matches: 14, Total Mismatches: 2\n",
      "Objective Score: 2.2684\n"
     ]
    },
    {
     "name": "stderr",
     "output_type": "stream",
     "text": [
      "[18:15:25] WARNING: /home/conda/feedstock_root/build_artifacts/xgboost-split_1707159369174/work/src/c_api/c_api.cc:1240: Saving into deprecated binary model format, please consider using `json` or `ubj`. Model format will default to JSON in XGBoost 2.2 if not specified.\n",
      "[I 2025-03-12 18:15:26,224] Trial 22 finished with value: 2.243279942777008 and parameters: {'learning_rate': 0.017397487669590775, 'max_depth': 28, 'subsample': 0.490802089184289, 'gamma': 0.6701703357208904, 'colsample_bytree': 0.5343517781858741, 'lambda': 9.988661943585072, 'alpha': 9.05913002451176}. Best is trial 1 with value: 2.301152271567844.\n"
     ]
    },
    {
     "name": "stdout",
     "output_type": "stream",
     "text": [
      "\n",
      "--- Trial 22 ---\n",
      "Params: {'booster': 'gbtree', 'objective': 'reg:squarederror', 'eval_metric': 'rmse', 'tree_method': 'hist', 'device': 'cuda', 'learning_rate': 0.017397487669590775, 'max_depth': 28, 'subsample': 0.490802089184289, 'gamma': 0.6701703357208904, 'colsample_bytree': 0.5343517781858741, 'lambda': 9.988661943585072, 'alpha': 9.05913002451176}\n",
      "Accuracy: 0.8750\n",
      "Total Matches: 14, Total Mismatches: 2\n",
      "Objective Score: 2.2433\n"
     ]
    },
    {
     "name": "stderr",
     "output_type": "stream",
     "text": [
      "[18:15:28] WARNING: /home/conda/feedstock_root/build_artifacts/xgboost-split_1707159369174/work/src/c_api/c_api.cc:1240: Saving into deprecated binary model format, please consider using `json` or `ubj`. Model format will default to JSON in XGBoost 2.2 if not specified.\n",
      "[I 2025-03-12 18:15:29,764] Trial 23 finished with value: 1.878454803605564 and parameters: {'learning_rate': 0.009525717235956636, 'max_depth': 24, 'subsample': 0.5526721068910619, 'gamma': 0.8038814663164487, 'colsample_bytree': 0.6058790034236666, 'lambda': 7.291557224961778, 'alpha': 6.151191203618207}. Best is trial 1 with value: 2.301152271567844.\n"
     ]
    },
    {
     "name": "stdout",
     "output_type": "stream",
     "text": [
      "\n",
      "--- Trial 23 ---\n",
      "Params: {'booster': 'gbtree', 'objective': 'reg:squarederror', 'eval_metric': 'rmse', 'tree_method': 'hist', 'device': 'cuda', 'learning_rate': 0.009525717235956636, 'max_depth': 24, 'subsample': 0.5526721068910619, 'gamma': 0.8038814663164487, 'colsample_bytree': 0.6058790034236666, 'lambda': 7.291557224961778, 'alpha': 6.151191203618207}\n",
      "Accuracy: 0.8750\n",
      "Total Matches: 14, Total Mismatches: 2\n",
      "Objective Score: 1.8785\n"
     ]
    },
    {
     "name": "stderr",
     "output_type": "stream",
     "text": [
      "[18:15:32] WARNING: /home/conda/feedstock_root/build_artifacts/xgboost-split_1707159369174/work/src/c_api/c_api.cc:1240: Saving into deprecated binary model format, please consider using `json` or `ubj`. Model format will default to JSON in XGBoost 2.2 if not specified.\n",
      "[I 2025-03-12 18:15:33,464] Trial 24 finished with value: 2.2760867071338 and parameters: {'learning_rate': 0.02651440937609259, 'max_depth': 28, 'subsample': 0.46130944372646565, 'gamma': 0.4301442302625928, 'colsample_bytree': 0.5287171191473629, 'lambda': 8.06949664099937, 'alpha': 6.492490549768506}. Best is trial 1 with value: 2.301152271567844.\n"
     ]
    },
    {
     "name": "stdout",
     "output_type": "stream",
     "text": [
      "\n",
      "--- Trial 24 ---\n",
      "Params: {'booster': 'gbtree', 'objective': 'reg:squarederror', 'eval_metric': 'rmse', 'tree_method': 'hist', 'device': 'cuda', 'learning_rate': 0.02651440937609259, 'max_depth': 28, 'subsample': 0.46130944372646565, 'gamma': 0.4301442302625928, 'colsample_bytree': 0.5287171191473629, 'lambda': 8.06949664099937, 'alpha': 6.492490549768506}\n",
      "Accuracy: 0.8750\n",
      "Total Matches: 14, Total Mismatches: 2\n",
      "Objective Score: 2.2761\n"
     ]
    },
    {
     "name": "stderr",
     "output_type": "stream",
     "text": [
      "[18:15:36] WARNING: /home/conda/feedstock_root/build_artifacts/xgboost-split_1707159369174/work/src/c_api/c_api.cc:1240: Saving into deprecated binary model format, please consider using `json` or `ubj`. Model format will default to JSON in XGBoost 2.2 if not specified.\n",
      "[I 2025-03-12 18:15:38,182] Trial 25 finished with value: 2.3037865106016397 and parameters: {'learning_rate': 0.026521137651065316, 'max_depth': 21, 'subsample': 0.6719852698075321, 'gamma': 0.43026863434907603, 'colsample_bytree': 0.5806761969991712, 'lambda': 6.516363371053004, 'alpha': 6.591249847249316}. Best is trial 25 with value: 2.3037865106016397.\n"
     ]
    },
    {
     "name": "stdout",
     "output_type": "stream",
     "text": [
      "\n",
      "--- Trial 25 ---\n",
      "Params: {'booster': 'gbtree', 'objective': 'reg:squarederror', 'eval_metric': 'rmse', 'tree_method': 'hist', 'device': 'cuda', 'learning_rate': 0.026521137651065316, 'max_depth': 21, 'subsample': 0.6719852698075321, 'gamma': 0.43026863434907603, 'colsample_bytree': 0.5806761969991712, 'lambda': 6.516363371053004, 'alpha': 6.591249847249316}\n",
      "Accuracy: 0.8750\n",
      "Total Matches: 14, Total Mismatches: 2\n",
      "Objective Score: 2.3038\n"
     ]
    },
    {
     "name": "stderr",
     "output_type": "stream",
     "text": [
      "[18:15:41] WARNING: /home/conda/feedstock_root/build_artifacts/xgboost-split_1707159369174/work/src/c_api/c_api.cc:1240: Saving into deprecated binary model format, please consider using `json` or `ubj`. Model format will default to JSON in XGBoost 2.2 if not specified.\n",
      "[I 2025-03-12 18:15:42,372] Trial 26 finished with value: 2.282735658576712 and parameters: {'learning_rate': 0.030384756245687743, 'max_depth': 21, 'subsample': 0.692976170046728, 'gamma': 0.2799759769677116, 'colsample_bytree': 0.5900474580627509, 'lambda': 4.603117549382585, 'alpha': 11.033609941006272}. Best is trial 25 with value: 2.3037865106016397.\n"
     ]
    },
    {
     "name": "stdout",
     "output_type": "stream",
     "text": [
      "\n",
      "--- Trial 26 ---\n",
      "Params: {'booster': 'gbtree', 'objective': 'reg:squarederror', 'eval_metric': 'rmse', 'tree_method': 'hist', 'device': 'cuda', 'learning_rate': 0.030384756245687743, 'max_depth': 21, 'subsample': 0.692976170046728, 'gamma': 0.2799759769677116, 'colsample_bytree': 0.5900474580627509, 'lambda': 4.603117549382585, 'alpha': 11.033609941006272}\n",
      "Accuracy: 0.8750\n",
      "Total Matches: 14, Total Mismatches: 2\n",
      "Objective Score: 2.2827\n"
     ]
    },
    {
     "name": "stderr",
     "output_type": "stream",
     "text": [
      "[18:15:45] WARNING: /home/conda/feedstock_root/build_artifacts/xgboost-split_1707159369174/work/src/c_api/c_api.cc:1240: Saving into deprecated binary model format, please consider using `json` or `ubj`. Model format will default to JSON in XGBoost 2.2 if not specified.\n",
      "[I 2025-03-12 18:15:46,188] Trial 27 finished with value: 2.119131209794432 and parameters: {'learning_rate': 0.032319256915750674, 'max_depth': 21, 'subsample': 0.6846890454117892, 'gamma': 0.24534033631327315, 'colsample_bytree': 0.6156250292913403, 'lambda': 4.274763928306976, 'alpha': 13.504557269664469}. Best is trial 25 with value: 2.3037865106016397.\n"
     ]
    },
    {
     "name": "stdout",
     "output_type": "stream",
     "text": [
      "\n",
      "--- Trial 27 ---\n",
      "Params: {'booster': 'gbtree', 'objective': 'reg:squarederror', 'eval_metric': 'rmse', 'tree_method': 'hist', 'device': 'cuda', 'learning_rate': 0.032319256915750674, 'max_depth': 21, 'subsample': 0.6846890454117892, 'gamma': 0.24534033631327315, 'colsample_bytree': 0.6156250292913403, 'lambda': 4.274763928306976, 'alpha': 13.504557269664469}\n",
      "Accuracy: 0.8125\n",
      "Total Matches: 13, Total Mismatches: 3\n",
      "Objective Score: 2.1191\n"
     ]
    },
    {
     "name": "stderr",
     "output_type": "stream",
     "text": [
      "[18:15:49] WARNING: /home/conda/feedstock_root/build_artifacts/xgboost-split_1707159369174/work/src/c_api/c_api.cc:1240: Saving into deprecated binary model format, please consider using `json` or `ubj`. Model format will default to JSON in XGBoost 2.2 if not specified.\n",
      "[I 2025-03-12 18:15:50,853] Trial 28 finished with value: 1.9751031696796417 and parameters: {'learning_rate': 0.033800769161477943, 'max_depth': 20, 'subsample': 0.7695791526685994, 'gamma': 0.23031919420468805, 'colsample_bytree': 0.6690821119941248, 'lambda': 4.9281188358987595, 'alpha': 10.969532422719698}. Best is trial 25 with value: 2.3037865106016397.\n"
     ]
    },
    {
     "name": "stdout",
     "output_type": "stream",
     "text": [
      "\n",
      "--- Trial 28 ---\n",
      "Params: {'booster': 'gbtree', 'objective': 'reg:squarederror', 'eval_metric': 'rmse', 'tree_method': 'hist', 'device': 'cuda', 'learning_rate': 0.033800769161477943, 'max_depth': 20, 'subsample': 0.7695791526685994, 'gamma': 0.23031919420468805, 'colsample_bytree': 0.6690821119941248, 'lambda': 4.9281188358987595, 'alpha': 10.969532422719698}\n",
      "Accuracy: 0.7500\n",
      "Total Matches: 12, Total Mismatches: 4\n",
      "Objective Score: 1.9751\n"
     ]
    },
    {
     "name": "stderr",
     "output_type": "stream",
     "text": [
      "[18:15:54] WARNING: /home/conda/feedstock_root/build_artifacts/xgboost-split_1707159369174/work/src/c_api/c_api.cc:1240: Saving into deprecated binary model format, please consider using `json` or `ubj`. Model format will default to JSON in XGBoost 2.2 if not specified.\n",
      "[I 2025-03-12 18:15:56,117] Trial 29 finished with value: 1.9977149413898587 and parameters: {'learning_rate': 0.04420135371582514, 'max_depth': 16, 'subsample': 0.6600024430914075, 'gamma': 0.3167833057127617, 'colsample_bytree': 0.5941123753193995, 'lambda': 2.954249038187774, 'alpha': 4.3319845395035035}. Best is trial 25 with value: 2.3037865106016397.\n"
     ]
    },
    {
     "name": "stdout",
     "output_type": "stream",
     "text": [
      "\n",
      "--- Trial 29 ---\n",
      "Params: {'booster': 'gbtree', 'objective': 'reg:squarederror', 'eval_metric': 'rmse', 'tree_method': 'hist', 'device': 'cuda', 'learning_rate': 0.04420135371582514, 'max_depth': 16, 'subsample': 0.6600024430914075, 'gamma': 0.3167833057127617, 'colsample_bytree': 0.5941123753193995, 'lambda': 2.954249038187774, 'alpha': 4.3319845395035035}\n",
      "Accuracy: 0.7500\n",
      "Total Matches: 12, Total Mismatches: 4\n",
      "Objective Score: 1.9977\n"
     ]
    },
    {
     "name": "stderr",
     "output_type": "stream",
     "text": [
      "[18:16:01] WARNING: /home/conda/feedstock_root/build_artifacts/xgboost-split_1707159369174/work/src/c_api/c_api.cc:1240: Saving into deprecated binary model format, please consider using `json` or `ubj`. Model format will default to JSON in XGBoost 2.2 if not specified.\n",
      "[I 2025-03-12 18:16:03,269] Trial 30 finished with value: 1.814103933982551 and parameters: {'learning_rate': 0.02685136161697841, 'max_depth': 22, 'subsample': 0.7412399243666569, 'gamma': 0.17958800099814892, 'colsample_bytree': 0.8997529139448448, 'lambda': 0.4488558024190912, 'alpha': 7.192410549264191}. Best is trial 25 with value: 2.3037865106016397.\n"
     ]
    },
    {
     "name": "stdout",
     "output_type": "stream",
     "text": [
      "\n",
      "--- Trial 30 ---\n",
      "Params: {'booster': 'gbtree', 'objective': 'reg:squarederror', 'eval_metric': 'rmse', 'tree_method': 'hist', 'device': 'cuda', 'learning_rate': 0.02685136161697841, 'max_depth': 22, 'subsample': 0.7412399243666569, 'gamma': 0.17958800099814892, 'colsample_bytree': 0.8997529139448448, 'lambda': 0.4488558024190912, 'alpha': 7.192410549264191}\n",
      "Accuracy: 0.7500\n",
      "Total Matches: 12, Total Mismatches: 4\n",
      "Objective Score: 1.8141\n"
     ]
    },
    {
     "name": "stderr",
     "output_type": "stream",
     "text": [
      "[18:16:06] WARNING: /home/conda/feedstock_root/build_artifacts/xgboost-split_1707159369174/work/src/c_api/c_api.cc:1240: Saving into deprecated binary model format, please consider using `json` or `ubj`. Model format will default to JSON in XGBoost 2.2 if not specified.\n",
      "[I 2025-03-12 18:16:07,677] Trial 31 finished with value: 2.2782688387669623 and parameters: {'learning_rate': 0.023221972193122067, 'max_depth': 24, 'subsample': 0.8118950607135025, 'gamma': 0.40382431389862844, 'colsample_bytree': 0.5706083790894264, 'lambda': 5.934388330854285, 'alpha': 9.787845868456795}. Best is trial 25 with value: 2.3037865106016397.\n"
     ]
    },
    {
     "name": "stdout",
     "output_type": "stream",
     "text": [
      "\n",
      "--- Trial 31 ---\n",
      "Params: {'booster': 'gbtree', 'objective': 'reg:squarederror', 'eval_metric': 'rmse', 'tree_method': 'hist', 'device': 'cuda', 'learning_rate': 0.023221972193122067, 'max_depth': 24, 'subsample': 0.8118950607135025, 'gamma': 0.40382431389862844, 'colsample_bytree': 0.5706083790894264, 'lambda': 5.934388330854285, 'alpha': 9.787845868456795}\n",
      "Accuracy: 0.8750\n",
      "Total Matches: 14, Total Mismatches: 2\n",
      "Objective Score: 2.2783\n"
     ]
    },
    {
     "name": "stderr",
     "output_type": "stream",
     "text": [
      "[18:16:10] WARNING: /home/conda/feedstock_root/build_artifacts/xgboost-split_1707159369174/work/src/c_api/c_api.cc:1240: Saving into deprecated binary model format, please consider using `json` or `ubj`. Model format will default to JSON in XGBoost 2.2 if not specified.\n",
      "[I 2025-03-12 18:16:11,679] Trial 32 finished with value: 2.148855665116571 and parameters: {'learning_rate': 0.01494048580258763, 'max_depth': 24, 'subsample': 0.8238311084000084, 'gamma': 0.3785125967140912, 'colsample_bytree': 0.5565162526780111, 'lambda': 6.751773986018567, 'alpha': 11.82878415347832}. Best is trial 25 with value: 2.3037865106016397.\n"
     ]
    },
    {
     "name": "stdout",
     "output_type": "stream",
     "text": [
      "\n",
      "--- Trial 32 ---\n",
      "Params: {'booster': 'gbtree', 'objective': 'reg:squarederror', 'eval_metric': 'rmse', 'tree_method': 'hist', 'device': 'cuda', 'learning_rate': 0.01494048580258763, 'max_depth': 24, 'subsample': 0.8238311084000084, 'gamma': 0.3785125967140912, 'colsample_bytree': 0.5565162526780111, 'lambda': 6.751773986018567, 'alpha': 11.82878415347832}\n",
      "Accuracy: 0.8750\n",
      "Total Matches: 14, Total Mismatches: 2\n",
      "Objective Score: 2.1489\n"
     ]
    },
    {
     "name": "stderr",
     "output_type": "stream",
     "text": [
      "[18:16:14] WARNING: /home/conda/feedstock_root/build_artifacts/xgboost-split_1707159369174/work/src/c_api/c_api.cc:1240: Saving into deprecated binary model format, please consider using `json` or `ubj`. Model format will default to JSON in XGBoost 2.2 if not specified.\n",
      "[I 2025-03-12 18:16:16,397] Trial 33 finished with value: 2.0303154151770286 and parameters: {'learning_rate': 0.023249346448182568, 'max_depth': 21, 'subsample': 0.997342057856586, 'gamma': 0.5267051342518233, 'colsample_bytree': 0.6450074092652763, 'lambda': 8.016667262323521, 'alpha': 9.988959231237809}. Best is trial 25 with value: 2.3037865106016397.\n"
     ]
    },
    {
     "name": "stdout",
     "output_type": "stream",
     "text": [
      "\n",
      "--- Trial 33 ---\n",
      "Params: {'booster': 'gbtree', 'objective': 'reg:squarederror', 'eval_metric': 'rmse', 'tree_method': 'hist', 'device': 'cuda', 'learning_rate': 0.023249346448182568, 'max_depth': 21, 'subsample': 0.997342057856586, 'gamma': 0.5267051342518233, 'colsample_bytree': 0.6450074092652763, 'lambda': 8.016667262323521, 'alpha': 9.988959231237809}\n",
      "Accuracy: 0.8125\n",
      "Total Matches: 13, Total Mismatches: 3\n",
      "Objective Score: 2.0303\n"
     ]
    },
    {
     "name": "stderr",
     "output_type": "stream",
     "text": [
      "[18:16:19] WARNING: /home/conda/feedstock_root/build_artifacts/xgboost-split_1707159369174/work/src/c_api/c_api.cc:1240: Saving into deprecated binary model format, please consider using `json` or `ubj`. Model format will default to JSON in XGBoost 2.2 if not specified.\n",
      "[I 2025-03-12 18:16:20,894] Trial 34 finished with value: 2.2906116913072765 and parameters: {'learning_rate': 0.029585064171025778, 'max_depth': 19, 'subsample': 0.7850931870074418, 'gamma': 0.30796241709441685, 'colsample_bytree': 0.5814219984149335, 'lambda': 1.8725688791818662, 'alpha': 11.005464224239807}. Best is trial 25 with value: 2.3037865106016397.\n"
     ]
    },
    {
     "name": "stdout",
     "output_type": "stream",
     "text": [
      "\n",
      "--- Trial 34 ---\n",
      "Params: {'booster': 'gbtree', 'objective': 'reg:squarederror', 'eval_metric': 'rmse', 'tree_method': 'hist', 'device': 'cuda', 'learning_rate': 0.029585064171025778, 'max_depth': 19, 'subsample': 0.7850931870074418, 'gamma': 0.30796241709441685, 'colsample_bytree': 0.5814219984149335, 'lambda': 1.8725688791818662, 'alpha': 11.005464224239807}\n",
      "Accuracy: 0.8750\n",
      "Total Matches: 14, Total Mismatches: 2\n",
      "Objective Score: 2.2906\n"
     ]
    },
    {
     "name": "stderr",
     "output_type": "stream",
     "text": [
      "[18:16:23] WARNING: /home/conda/feedstock_root/build_artifacts/xgboost-split_1707159369174/work/src/c_api/c_api.cc:1240: Saving into deprecated binary model format, please consider using `json` or `ubj`. Model format will default to JSON in XGBoost 2.2 if not specified.\n",
      "[I 2025-03-12 18:16:25,126] Trial 35 finished with value: 1.9247946387622505 and parameters: {'learning_rate': 0.028722657031316316, 'max_depth': 19, 'subsample': 0.645702740256217, 'gamma': 0.1092467331755767, 'colsample_bytree': 0.6990677379386856, 'lambda': 1.1287028995479336, 'alpha': 12.606794625031618}. Best is trial 25 with value: 2.3037865106016397.\n"
     ]
    },
    {
     "name": "stdout",
     "output_type": "stream",
     "text": [
      "\n",
      "--- Trial 35 ---\n",
      "Params: {'booster': 'gbtree', 'objective': 'reg:squarederror', 'eval_metric': 'rmse', 'tree_method': 'hist', 'device': 'cuda', 'learning_rate': 0.028722657031316316, 'max_depth': 19, 'subsample': 0.645702740256217, 'gamma': 0.1092467331755767, 'colsample_bytree': 0.6990677379386856, 'lambda': 1.1287028995479336, 'alpha': 12.606794625031618}\n",
      "Accuracy: 0.7500\n",
      "Total Matches: 12, Total Mismatches: 4\n",
      "Objective Score: 1.9248\n"
     ]
    },
    {
     "name": "stderr",
     "output_type": "stream",
     "text": [
      "[18:16:28] WARNING: /home/conda/feedstock_root/build_artifacts/xgboost-split_1707159369174/work/src/c_api/c_api.cc:1240: Saving into deprecated binary model format, please consider using `json` or `ubj`. Model format will default to JSON in XGBoost 2.2 if not specified.\n",
      "[I 2025-03-12 18:16:29,246] Trial 36 finished with value: 2.14725695643574 and parameters: {'learning_rate': 0.03377369203237876, 'max_depth': 18, 'subsample': 0.7265778736158756, 'gamma': 0.3008152277682298, 'colsample_bytree': 0.6310400348416443, 'lambda': 1.9528606658055268, 'alpha': 11.252877695165497}. Best is trial 25 with value: 2.3037865106016397.\n"
     ]
    },
    {
     "name": "stdout",
     "output_type": "stream",
     "text": [
      "\n",
      "--- Trial 36 ---\n",
      "Params: {'booster': 'gbtree', 'objective': 'reg:squarederror', 'eval_metric': 'rmse', 'tree_method': 'hist', 'device': 'cuda', 'learning_rate': 0.03377369203237876, 'max_depth': 18, 'subsample': 0.7265778736158756, 'gamma': 0.3008152277682298, 'colsample_bytree': 0.6310400348416443, 'lambda': 1.9528606658055268, 'alpha': 11.252877695165497}\n",
      "Accuracy: 0.8125\n",
      "Total Matches: 13, Total Mismatches: 3\n",
      "Objective Score: 2.1473\n"
     ]
    },
    {
     "name": "stderr",
     "output_type": "stream",
     "text": [
      "[18:16:30] WARNING: /home/conda/feedstock_root/build_artifacts/xgboost-split_1707159369174/work/src/c_api/c_api.cc:1240: Saving into deprecated binary model format, please consider using `json` or `ubj`. Model format will default to JSON in XGBoost 2.2 if not specified.\n",
      "[I 2025-03-12 18:16:31,657] Trial 37 finished with value: 2.3461772378068417 and parameters: {'learning_rate': 0.025164257494145467, 'max_depth': 12, 'subsample': 0.7850542635688373, 'gamma': 0.2160002687864781, 'colsample_bytree': 0.540208460957051, 'lambda': 4.325555953489561, 'alpha': 13.92956186746909}. Best is trial 37 with value: 2.3461772378068417.\n"
     ]
    },
    {
     "name": "stdout",
     "output_type": "stream",
     "text": [
      "\n",
      "--- Trial 37 ---\n",
      "Params: {'booster': 'gbtree', 'objective': 'reg:squarederror', 'eval_metric': 'rmse', 'tree_method': 'hist', 'device': 'cuda', 'learning_rate': 0.025164257494145467, 'max_depth': 12, 'subsample': 0.7850542635688373, 'gamma': 0.2160002687864781, 'colsample_bytree': 0.540208460957051, 'lambda': 4.325555953489561, 'alpha': 13.92956186746909}\n",
      "Accuracy: 0.8750\n",
      "Total Matches: 14, Total Mismatches: 2\n",
      "Objective Score: 2.3462\n"
     ]
    },
    {
     "name": "stderr",
     "output_type": "stream",
     "text": [
      "[18:16:33] WARNING: /home/conda/feedstock_root/build_artifacts/xgboost-split_1707159369174/work/src/c_api/c_api.cc:1240: Saving into deprecated binary model format, please consider using `json` or `ubj`. Model format will default to JSON in XGBoost 2.2 if not specified.\n",
      "[I 2025-03-12 18:16:34,105] Trial 38 finished with value: 2.3218957385979593 and parameters: {'learning_rate': 0.025857341382557353, 'max_depth': 12, 'subsample': 0.8644434372341688, 'gamma': 0.19402154240860864, 'colsample_bytree': 0.5416408091956492, 'lambda': 3.4782363616971477, 'alpha': 13.89276057412212}. Best is trial 37 with value: 2.3461772378068417.\n"
     ]
    },
    {
     "name": "stdout",
     "output_type": "stream",
     "text": [
      "\n",
      "--- Trial 38 ---\n",
      "Params: {'booster': 'gbtree', 'objective': 'reg:squarederror', 'eval_metric': 'rmse', 'tree_method': 'hist', 'device': 'cuda', 'learning_rate': 0.025857341382557353, 'max_depth': 12, 'subsample': 0.8644434372341688, 'gamma': 0.19402154240860864, 'colsample_bytree': 0.5416408091956492, 'lambda': 3.4782363616971477, 'alpha': 13.89276057412212}\n",
      "Accuracy: 0.8750\n",
      "Total Matches: 14, Total Mismatches: 2\n",
      "Objective Score: 2.3219\n"
     ]
    },
    {
     "name": "stderr",
     "output_type": "stream",
     "text": [
      "[18:16:35] WARNING: /home/conda/feedstock_root/build_artifacts/xgboost-split_1707159369174/work/src/c_api/c_api.cc:1240: Saving into deprecated binary model format, please consider using `json` or `ubj`. Model format will default to JSON in XGBoost 2.2 if not specified.\n",
      "[I 2025-03-12 18:16:36,842] Trial 39 finished with value: 2.26564429118298 and parameters: {'learning_rate': 0.025038846832004427, 'max_depth': 12, 'subsample': 0.9538535474129732, 'gamma': 0.06532449103098584, 'colsample_bytree': 0.5385741314297902, 'lambda': 3.544843892575082, 'alpha': 13.921778497728099}. Best is trial 37 with value: 2.3461772378068417.\n"
     ]
    },
    {
     "name": "stdout",
     "output_type": "stream",
     "text": [
      "\n",
      "--- Trial 39 ---\n",
      "Params: {'booster': 'gbtree', 'objective': 'reg:squarederror', 'eval_metric': 'rmse', 'tree_method': 'hist', 'device': 'cuda', 'learning_rate': 0.025038846832004427, 'max_depth': 12, 'subsample': 0.9538535474129732, 'gamma': 0.06532449103098584, 'colsample_bytree': 0.5385741314297902, 'lambda': 3.544843892575082, 'alpha': 13.921778497728099}\n",
      "Accuracy: 0.8125\n",
      "Total Matches: 13, Total Mismatches: 3\n",
      "Objective Score: 2.2656\n"
     ]
    },
    {
     "name": "stderr",
     "output_type": "stream",
     "text": [
      "[18:16:38] WARNING: /home/conda/feedstock_root/build_artifacts/xgboost-split_1707159369174/work/src/c_api/c_api.cc:1240: Saving into deprecated binary model format, please consider using `json` or `ubj`. Model format will default to JSON in XGBoost 2.2 if not specified.\n",
      "[I 2025-03-12 18:16:38,849] Trial 40 finished with value: 2.297886025859043 and parameters: {'learning_rate': 0.01936522420792095, 'max_depth': 11, 'subsample': 0.865289932091079, 'gamma': 0.15138536263504743, 'colsample_bytree': 0.5043549317277598, 'lambda': 2.647942183651625, 'alpha': 14.911847491758056}. Best is trial 37 with value: 2.3461772378068417.\n"
     ]
    },
    {
     "name": "stdout",
     "output_type": "stream",
     "text": [
      "\n",
      "--- Trial 40 ---\n",
      "Params: {'booster': 'gbtree', 'objective': 'reg:squarederror', 'eval_metric': 'rmse', 'tree_method': 'hist', 'device': 'cuda', 'learning_rate': 0.01936522420792095, 'max_depth': 11, 'subsample': 0.865289932091079, 'gamma': 0.15138536263504743, 'colsample_bytree': 0.5043549317277598, 'lambda': 2.647942183651625, 'alpha': 14.911847491758056}\n",
      "Accuracy: 0.8750\n",
      "Total Matches: 14, Total Mismatches: 2\n",
      "Objective Score: 2.2979\n"
     ]
    },
    {
     "name": "stderr",
     "output_type": "stream",
     "text": [
      "[18:16:40] WARNING: /home/conda/feedstock_root/build_artifacts/xgboost-split_1707159369174/work/src/c_api/c_api.cc:1240: Saving into deprecated binary model format, please consider using `json` or `ubj`. Model format will default to JSON in XGBoost 2.2 if not specified.\n",
      "[I 2025-03-12 18:16:40,651] Trial 41 finished with value: 2.285387633368373 and parameters: {'learning_rate': 0.019619598296652104, 'max_depth': 10, 'subsample': 0.8711198432841373, 'gamma': 0.20392049696514805, 'colsample_bytree': 0.5004331995817984, 'lambda': 2.816812504076068, 'alpha': 14.9945666837888}. Best is trial 37 with value: 2.3461772378068417.\n"
     ]
    },
    {
     "name": "stdout",
     "output_type": "stream",
     "text": [
      "\n",
      "--- Trial 41 ---\n",
      "Params: {'booster': 'gbtree', 'objective': 'reg:squarederror', 'eval_metric': 'rmse', 'tree_method': 'hist', 'device': 'cuda', 'learning_rate': 0.019619598296652104, 'max_depth': 10, 'subsample': 0.8711198432841373, 'gamma': 0.20392049696514805, 'colsample_bytree': 0.5004331995817984, 'lambda': 2.816812504076068, 'alpha': 14.9945666837888}\n",
      "Accuracy: 0.8750\n",
      "Total Matches: 14, Total Mismatches: 2\n",
      "Objective Score: 2.2854\n"
     ]
    },
    {
     "name": "stderr",
     "output_type": "stream",
     "text": [
      "[18:16:42] WARNING: /home/conda/feedstock_root/build_artifacts/xgboost-split_1707159369174/work/src/c_api/c_api.cc:1240: Saving into deprecated binary model format, please consider using `json` or `ubj`. Model format will default to JSON in XGBoost 2.2 if not specified.\n",
      "[I 2025-03-12 18:16:43,551] Trial 42 finished with value: 2.224140545586124 and parameters: {'learning_rate': 0.016263490265334957, 'max_depth': 12, 'subsample': 0.8923708364023973, 'gamma': 0.003532588031240763, 'colsample_bytree': 0.5215023572589231, 'lambda': 3.984023214879273, 'alpha': 13.938823850380789}. Best is trial 37 with value: 2.3461772378068417.\n"
     ]
    },
    {
     "name": "stdout",
     "output_type": "stream",
     "text": [
      "\n",
      "--- Trial 42 ---\n",
      "Params: {'booster': 'gbtree', 'objective': 'reg:squarederror', 'eval_metric': 'rmse', 'tree_method': 'hist', 'device': 'cuda', 'learning_rate': 0.016263490265334957, 'max_depth': 12, 'subsample': 0.8923708364023973, 'gamma': 0.003532588031240763, 'colsample_bytree': 0.5215023572589231, 'lambda': 3.984023214879273, 'alpha': 13.938823850380789}\n",
      "Accuracy: 0.8750\n",
      "Total Matches: 14, Total Mismatches: 2\n",
      "Objective Score: 2.2241\n"
     ]
    },
    {
     "name": "stderr",
     "output_type": "stream",
     "text": [
      "[18:16:46] WARNING: /home/conda/feedstock_root/build_artifacts/xgboost-split_1707159369174/work/src/c_api/c_api.cc:1240: Saving into deprecated binary model format, please consider using `json` or `ubj`. Model format will default to JSON in XGBoost 2.2 if not specified.\n",
      "[I 2025-03-12 18:16:47,768] Trial 43 finished with value: 2.2702867228072137 and parameters: {'learning_rate': 0.020661508265485982, 'max_depth': 14, 'subsample': 0.8512367236015389, 'gamma': 0.14832989001880348, 'colsample_bytree': 0.5534877501829046, 'lambda': 2.462627497590323, 'alpha': 14.241785721865075}. Best is trial 37 with value: 2.3461772378068417.\n"
     ]
    },
    {
     "name": "stdout",
     "output_type": "stream",
     "text": [
      "\n",
      "--- Trial 43 ---\n",
      "Params: {'booster': 'gbtree', 'objective': 'reg:squarederror', 'eval_metric': 'rmse', 'tree_method': 'hist', 'device': 'cuda', 'learning_rate': 0.020661508265485982, 'max_depth': 14, 'subsample': 0.8512367236015389, 'gamma': 0.14832989001880348, 'colsample_bytree': 0.5534877501829046, 'lambda': 2.462627497590323, 'alpha': 14.241785721865075}\n",
      "Accuracy: 0.8750\n",
      "Total Matches: 14, Total Mismatches: 2\n",
      "Objective Score: 2.2703\n"
     ]
    },
    {
     "name": "stderr",
     "output_type": "stream",
     "text": [
      "[18:16:49] WARNING: /home/conda/feedstock_root/build_artifacts/xgboost-split_1707159369174/work/src/c_api/c_api.cc:1240: Saving into deprecated binary model format, please consider using `json` or `ubj`. Model format will default to JSON in XGBoost 2.2 if not specified.\n",
      "[I 2025-03-12 18:16:50,147] Trial 44 finished with value: 2.344513481017202 and parameters: {'learning_rate': 0.024814939984494133, 'max_depth': 11, 'subsample': 0.9214239420425158, 'gamma': 0.08143917982194138, 'colsample_bytree': 0.5415982279110424, 'lambda': 11.677931927684092, 'alpha': 13.061417884618097}. Best is trial 37 with value: 2.3461772378068417.\n"
     ]
    },
    {
     "name": "stdout",
     "output_type": "stream",
     "text": [
      "\n",
      "--- Trial 44 ---\n",
      "Params: {'booster': 'gbtree', 'objective': 'reg:squarederror', 'eval_metric': 'rmse', 'tree_method': 'hist', 'device': 'cuda', 'learning_rate': 0.024814939984494133, 'max_depth': 11, 'subsample': 0.9214239420425158, 'gamma': 0.08143917982194138, 'colsample_bytree': 0.5415982279110424, 'lambda': 11.677931927684092, 'alpha': 13.061417884618097}\n",
      "Accuracy: 0.8750\n",
      "Total Matches: 14, Total Mismatches: 2\n",
      "Objective Score: 2.3445\n"
     ]
    },
    {
     "name": "stderr",
     "output_type": "stream",
     "text": [
      "[18:16:52] WARNING: /home/conda/feedstock_root/build_artifacts/xgboost-split_1707159369174/work/src/c_api/c_api.cc:1240: Saving into deprecated binary model format, please consider using `json` or `ubj`. Model format will default to JSON in XGBoost 2.2 if not specified.\n",
      "[I 2025-03-12 18:16:54,134] Trial 45 finished with value: 2.2956828179303557 and parameters: {'learning_rate': 0.025026564384167553, 'max_depth': 15, 'subsample': 0.9545462668056133, 'gamma': 0.08550465014885308, 'colsample_bytree': 0.546050616528263, 'lambda': 11.746172234806364, 'alpha': 12.779504526761373}. Best is trial 37 with value: 2.3461772378068417.\n"
     ]
    },
    {
     "name": "stdout",
     "output_type": "stream",
     "text": [
      "\n",
      "--- Trial 45 ---\n",
      "Params: {'booster': 'gbtree', 'objective': 'reg:squarederror', 'eval_metric': 'rmse', 'tree_method': 'hist', 'device': 'cuda', 'learning_rate': 0.025026564384167553, 'max_depth': 15, 'subsample': 0.9545462668056133, 'gamma': 0.08550465014885308, 'colsample_bytree': 0.546050616528263, 'lambda': 11.746172234806364, 'alpha': 12.779504526761373}\n",
      "Accuracy: 0.8750\n",
      "Total Matches: 14, Total Mismatches: 2\n",
      "Objective Score: 2.2957\n"
     ]
    },
    {
     "name": "stderr",
     "output_type": "stream",
     "text": [
      "[18:16:56] WARNING: /home/conda/feedstock_root/build_artifacts/xgboost-split_1707159369174/work/src/c_api/c_api.cc:1240: Saving into deprecated binary model format, please consider using `json` or `ubj`. Model format will default to JSON in XGBoost 2.2 if not specified.\n",
      "[I 2025-03-12 18:16:58,034] Trial 46 finished with value: 2.095370397903025 and parameters: {'learning_rate': 0.026599934684172193, 'max_depth': 12, 'subsample': 0.9135867968676895, 'gamma': 0.05154951510518746, 'colsample_bytree': 0.6226096905701298, 'lambda': 12.981945195133221, 'alpha': 3.472826133473333}. Best is trial 37 with value: 2.3461772378068417.\n"
     ]
    },
    {
     "name": "stdout",
     "output_type": "stream",
     "text": [
      "\n",
      "--- Trial 46 ---\n",
      "Params: {'booster': 'gbtree', 'objective': 'reg:squarederror', 'eval_metric': 'rmse', 'tree_method': 'hist', 'device': 'cuda', 'learning_rate': 0.026599934684172193, 'max_depth': 12, 'subsample': 0.9135867968676895, 'gamma': 0.05154951510518746, 'colsample_bytree': 0.6226096905701298, 'lambda': 12.981945195133221, 'alpha': 3.472826133473333}\n",
      "Accuracy: 0.8125\n",
      "Total Matches: 13, Total Mismatches: 3\n",
      "Objective Score: 2.0954\n"
     ]
    },
    {
     "name": "stderr",
     "output_type": "stream",
     "text": [
      "[18:16:59] WARNING: /home/conda/feedstock_root/build_artifacts/xgboost-split_1707159369174/work/src/c_api/c_api.cc:1240: Saving into deprecated binary model format, please consider using `json` or `ubj`. Model format will default to JSON in XGBoost 2.2 if not specified.\n",
      "[I 2025-03-12 18:16:59,988] Trial 47 finished with value: 2.0055690142326057 and parameters: {'learning_rate': 0.021718847546855945, 'max_depth': 11, 'subsample': 0.8351050790534655, 'gamma': 0.9132406689780038, 'colsample_bytree': 0.6568819380175368, 'lambda': 10.95134605257732, 'alpha': 13.364179874728457}. Best is trial 37 with value: 2.3461772378068417.\n"
     ]
    },
    {
     "name": "stdout",
     "output_type": "stream",
     "text": [
      "\n",
      "--- Trial 47 ---\n",
      "Params: {'booster': 'gbtree', 'objective': 'reg:squarederror', 'eval_metric': 'rmse', 'tree_method': 'hist', 'device': 'cuda', 'learning_rate': 0.021718847546855945, 'max_depth': 11, 'subsample': 0.8351050790534655, 'gamma': 0.9132406689780038, 'colsample_bytree': 0.6568819380175368, 'lambda': 10.95134605257732, 'alpha': 13.364179874728457}\n",
      "Accuracy: 0.8125\n",
      "Total Matches: 13, Total Mismatches: 3\n",
      "Objective Score: 2.0056\n"
     ]
    },
    {
     "name": "stderr",
     "output_type": "stream",
     "text": [
      "[18:17:03] WARNING: /home/conda/feedstock_root/build_artifacts/xgboost-split_1707159369174/work/src/c_api/c_api.cc:1240: Saving into deprecated binary model format, please consider using `json` or `ubj`. Model format will default to JSON in XGBoost 2.2 if not specified.\n",
      "[I 2025-03-12 18:17:05,418] Trial 48 finished with value: 2.1755171162076294 and parameters: {'learning_rate': 0.03514562556193167, 'max_depth': 13, 'subsample': 0.9328701232573765, 'gamma': 0.2525165534635573, 'colsample_bytree': 0.5550157817163434, 'lambda': 8.767264372035887, 'alpha': 1.071269579015338}. Best is trial 37 with value: 2.3461772378068417.\n"
     ]
    },
    {
     "name": "stdout",
     "output_type": "stream",
     "text": [
      "\n",
      "--- Trial 48 ---\n",
      "Params: {'booster': 'gbtree', 'objective': 'reg:squarederror', 'eval_metric': 'rmse', 'tree_method': 'hist', 'device': 'cuda', 'learning_rate': 0.03514562556193167, 'max_depth': 13, 'subsample': 0.9328701232573765, 'gamma': 0.2525165534635573, 'colsample_bytree': 0.5550157817163434, 'lambda': 8.767264372035887, 'alpha': 1.071269579015338}\n",
      "Accuracy: 0.8125\n",
      "Total Matches: 13, Total Mismatches: 3\n",
      "Objective Score: 2.1755\n"
     ]
    },
    {
     "name": "stderr",
     "output_type": "stream",
     "text": [
      "[18:17:06] WARNING: /home/conda/feedstock_root/build_artifacts/xgboost-split_1707159369174/work/src/c_api/c_api.cc:1240: Saving into deprecated binary model format, please consider using `json` or `ubj`. Model format will default to JSON in XGBoost 2.2 if not specified.\n",
      "[I 2025-03-12 18:17:07,437] Trial 49 finished with value: 1.7174207412172109 and parameters: {'learning_rate': 0.03959690373647591, 'max_depth': 10, 'subsample': 0.9768174658222755, 'gamma': 0.6981524332901201, 'colsample_bytree': 0.7577867919148589, 'lambda': 12.940450262588445, 'alpha': 5.376604961282443}. Best is trial 37 with value: 2.3461772378068417.\n"
     ]
    },
    {
     "name": "stdout",
     "output_type": "stream",
     "text": [
      "\n",
      "--- Trial 49 ---\n",
      "Params: {'booster': 'gbtree', 'objective': 'reg:squarederror', 'eval_metric': 'rmse', 'tree_method': 'hist', 'device': 'cuda', 'learning_rate': 0.03959690373647591, 'max_depth': 10, 'subsample': 0.9768174658222755, 'gamma': 0.6981524332901201, 'colsample_bytree': 0.7577867919148589, 'lambda': 12.940450262588445, 'alpha': 5.376604961282443}\n",
      "Accuracy: 0.6875\n",
      "Total Matches: 11, Total Mismatches: 5\n",
      "Objective Score: 1.7174\n"
     ]
    },
    {
     "name": "stderr",
     "output_type": "stream",
     "text": [
      "[18:17:09] WARNING: /home/conda/feedstock_root/build_artifacts/xgboost-split_1707159369174/work/src/c_api/c_api.cc:1240: Saving into deprecated binary model format, please consider using `json` or `ubj`. Model format will default to JSON in XGBoost 2.2 if not specified.\n",
      "[I 2025-03-12 18:17:09,946] Trial 50 finished with value: 2.1172061755205505 and parameters: {'learning_rate': 0.013732007569406976, 'max_depth': 13, 'subsample': 0.7860738703884838, 'gamma': 0.6157140728045685, 'colsample_bytree': 0.5820152463345463, 'lambda': 13.813157108156513, 'alpha': 12.204599418881767}. Best is trial 37 with value: 2.3461772378068417.\n"
     ]
    },
    {
     "name": "stdout",
     "output_type": "stream",
     "text": [
      "\n",
      "--- Trial 50 ---\n",
      "Params: {'booster': 'gbtree', 'objective': 'reg:squarederror', 'eval_metric': 'rmse', 'tree_method': 'hist', 'device': 'cuda', 'learning_rate': 0.013732007569406976, 'max_depth': 13, 'subsample': 0.7860738703884838, 'gamma': 0.6157140728045685, 'colsample_bytree': 0.5820152463345463, 'lambda': 13.813157108156513, 'alpha': 12.204599418881767}\n",
      "Accuracy: 0.8750\n",
      "Total Matches: 14, Total Mismatches: 2\n",
      "Objective Score: 2.1172\n"
     ]
    },
    {
     "name": "stderr",
     "output_type": "stream",
     "text": [
      "[18:17:11] WARNING: /home/conda/feedstock_root/build_artifacts/xgboost-split_1707159369174/work/src/c_api/c_api.cc:1240: Saving into deprecated binary model format, please consider using `json` or `ubj`. Model format will default to JSON in XGBoost 2.2 if not specified.\n",
      "[I 2025-03-12 18:17:12,230] Trial 51 finished with value: 2.2672701112460345 and parameters: {'learning_rate': 0.01796610630415039, 'max_depth': 11, 'subsample': 0.8956027701845215, 'gamma': 0.15572082815646915, 'colsample_bytree': 0.5113554092198971, 'lambda': 5.53073758634619, 'alpha': 14.363739546858659}. Best is trial 37 with value: 2.3461772378068417.\n"
     ]
    },
    {
     "name": "stdout",
     "output_type": "stream",
     "text": [
      "\n",
      "--- Trial 51 ---\n",
      "Params: {'booster': 'gbtree', 'objective': 'reg:squarederror', 'eval_metric': 'rmse', 'tree_method': 'hist', 'device': 'cuda', 'learning_rate': 0.01796610630415039, 'max_depth': 11, 'subsample': 0.8956027701845215, 'gamma': 0.15572082815646915, 'colsample_bytree': 0.5113554092198971, 'lambda': 5.53073758634619, 'alpha': 14.363739546858659}\n",
      "Accuracy: 0.8750\n",
      "Total Matches: 14, Total Mismatches: 2\n",
      "Objective Score: 2.2673\n"
     ]
    },
    {
     "name": "stderr",
     "output_type": "stream",
     "text": [
      "[18:17:13] WARNING: /home/conda/feedstock_root/build_artifacts/xgboost-split_1707159369174/work/src/c_api/c_api.cc:1240: Saving into deprecated binary model format, please consider using `json` or `ubj`. Model format will default to JSON in XGBoost 2.2 if not specified.\n",
      "[I 2025-03-12 18:17:14,294] Trial 52 finished with value: 2.3184232756029814 and parameters: {'learning_rate': 0.023837243936141728, 'max_depth': 11, 'subsample': 0.8702360648521517, 'gamma': 0.1105998392067296, 'colsample_bytree': 0.5005002849741959, 'lambda': 3.602906041915862, 'alpha': 14.884614904476484}. Best is trial 37 with value: 2.3461772378068417.\n"
     ]
    },
    {
     "name": "stdout",
     "output_type": "stream",
     "text": [
      "\n",
      "--- Trial 52 ---\n",
      "Params: {'booster': 'gbtree', 'objective': 'reg:squarederror', 'eval_metric': 'rmse', 'tree_method': 'hist', 'device': 'cuda', 'learning_rate': 0.023837243936141728, 'max_depth': 11, 'subsample': 0.8702360648521517, 'gamma': 0.1105998392067296, 'colsample_bytree': 0.5005002849741959, 'lambda': 3.602906041915862, 'alpha': 14.884614904476484}\n",
      "Accuracy: 0.8750\n",
      "Total Matches: 14, Total Mismatches: 2\n",
      "Objective Score: 2.3184\n"
     ]
    },
    {
     "name": "stderr",
     "output_type": "stream",
     "text": [
      "[18:17:17] WARNING: /home/conda/feedstock_root/build_artifacts/xgboost-split_1707159369174/work/src/c_api/c_api.cc:1240: Saving into deprecated binary model format, please consider using `json` or `ubj`. Model format will default to JSON in XGBoost 2.2 if not specified.\n",
      "[I 2025-03-12 18:17:18,303] Trial 53 finished with value: 2.3395117523614317 and parameters: {'learning_rate': 0.027713296208045433, 'max_depth': 15, 'subsample': 0.9273642396690767, 'gamma': 0.10457597881654684, 'colsample_bytree': 0.5228142639360337, 'lambda': 4.8783620549593, 'alpha': 13.183300368490897}. Best is trial 37 with value: 2.3461772378068417.\n"
     ]
    },
    {
     "name": "stdout",
     "output_type": "stream",
     "text": [
      "\n",
      "--- Trial 53 ---\n",
      "Params: {'booster': 'gbtree', 'objective': 'reg:squarederror', 'eval_metric': 'rmse', 'tree_method': 'hist', 'device': 'cuda', 'learning_rate': 0.027713296208045433, 'max_depth': 15, 'subsample': 0.9273642396690767, 'gamma': 0.10457597881654684, 'colsample_bytree': 0.5228142639360337, 'lambda': 4.8783620549593, 'alpha': 13.183300368490897}\n",
      "Accuracy: 0.8750\n",
      "Total Matches: 14, Total Mismatches: 2\n",
      "Objective Score: 2.3395\n"
     ]
    },
    {
     "name": "stderr",
     "output_type": "stream",
     "text": [
      "[18:17:22] WARNING: /home/conda/feedstock_root/build_artifacts/xgboost-split_1707159369174/work/src/c_api/c_api.cc:1240: Saving into deprecated binary model format, please consider using `json` or `ubj`. Model format will default to JSON in XGBoost 2.2 if not specified.\n",
      "[I 2025-03-12 18:17:24,675] Trial 54 finished with value: 2.325259124627337 and parameters: {'learning_rate': 0.027854883598522198, 'max_depth': 15, 'subsample': 0.9195454729318105, 'gamma': 0.10771538806927997, 'colsample_bytree': 0.5250695271581659, 'lambda': 5.0665519947037465, 'alpha': 13.288811089958234}. Best is trial 37 with value: 2.3461772378068417.\n"
     ]
    },
    {
     "name": "stdout",
     "output_type": "stream",
     "text": [
      "\n",
      "--- Trial 54 ---\n",
      "Params: {'booster': 'gbtree', 'objective': 'reg:squarederror', 'eval_metric': 'rmse', 'tree_method': 'hist', 'device': 'cuda', 'learning_rate': 0.027854883598522198, 'max_depth': 15, 'subsample': 0.9195454729318105, 'gamma': 0.10771538806927997, 'colsample_bytree': 0.5250695271581659, 'lambda': 5.0665519947037465, 'alpha': 13.288811089958234}\n",
      "Accuracy: 0.8750\n",
      "Total Matches: 14, Total Mismatches: 2\n",
      "Objective Score: 2.3253\n"
     ]
    },
    {
     "name": "stderr",
     "output_type": "stream",
     "text": [
      "[18:17:29] WARNING: /home/conda/feedstock_root/build_artifacts/xgboost-split_1707159369174/work/src/c_api/c_api.cc:1240: Saving into deprecated binary model format, please consider using `json` or `ubj`. Model format will default to JSON in XGBoost 2.2 if not specified.\n",
      "[I 2025-03-12 18:17:31,528] Trial 55 finished with value: 2.342321458272636 and parameters: {'learning_rate': 0.028092897660467315, 'max_depth': 15, 'subsample': 0.9363566465831501, 'gamma': 0.1067062807486952, 'colsample_bytree': 0.5247870866054308, 'lambda': 4.871090301909983, 'alpha': 13.212807736287967}. Best is trial 37 with value: 2.3461772378068417.\n"
     ]
    },
    {
     "name": "stdout",
     "output_type": "stream",
     "text": [
      "\n",
      "--- Trial 55 ---\n",
      "Params: {'booster': 'gbtree', 'objective': 'reg:squarederror', 'eval_metric': 'rmse', 'tree_method': 'hist', 'device': 'cuda', 'learning_rate': 0.028092897660467315, 'max_depth': 15, 'subsample': 0.9363566465831501, 'gamma': 0.1067062807486952, 'colsample_bytree': 0.5247870866054308, 'lambda': 4.871090301909983, 'alpha': 13.212807736287967}\n",
      "Accuracy: 0.8750\n",
      "Total Matches: 14, Total Mismatches: 2\n",
      "Objective Score: 2.3423\n"
     ]
    },
    {
     "name": "stderr",
     "output_type": "stream",
     "text": [
      "[18:17:36] WARNING: /home/conda/feedstock_root/build_artifacts/xgboost-split_1707159369174/work/src/c_api/c_api.cc:1240: Saving into deprecated binary model format, please consider using `json` or `ubj`. Model format will default to JSON in XGBoost 2.2 if not specified.\n",
      "[I 2025-03-12 18:17:38,411] Trial 56 finished with value: 2.2694038375047967 and parameters: {'learning_rate': 0.03236024559329935, 'max_depth': 15, 'subsample': 0.9290537202967807, 'gamma': 0.028757478117279106, 'colsample_bytree': 0.521005777770264, 'lambda': 5.052300050740476, 'alpha': 13.121491890514758}. Best is trial 37 with value: 2.3461772378068417.\n"
     ]
    },
    {
     "name": "stdout",
     "output_type": "stream",
     "text": [
      "\n",
      "--- Trial 56 ---\n",
      "Params: {'booster': 'gbtree', 'objective': 'reg:squarederror', 'eval_metric': 'rmse', 'tree_method': 'hist', 'device': 'cuda', 'learning_rate': 0.03236024559329935, 'max_depth': 15, 'subsample': 0.9290537202967807, 'gamma': 0.028757478117279106, 'colsample_bytree': 0.521005777770264, 'lambda': 5.052300050740476, 'alpha': 13.121491890514758}\n",
      "Accuracy: 0.8125\n",
      "Total Matches: 13, Total Mismatches: 3\n",
      "Objective Score: 2.2694\n"
     ]
    },
    {
     "name": "stderr",
     "output_type": "stream",
     "text": [
      "[18:17:44] WARNING: /home/conda/feedstock_root/build_artifacts/xgboost-split_1707159369174/work/src/c_api/c_api.cc:1240: Saving into deprecated binary model format, please consider using `json` or `ubj`. Model format will default to JSON in XGBoost 2.2 if not specified.\n",
      "[I 2025-03-12 18:17:46,523] Trial 57 finished with value: 1.767168807797134 and parameters: {'learning_rate': 0.028196377189495338, 'max_depth': 15, 'subsample': 0.9727201920141259, 'gamma': 0.19923623330753684, 'colsample_bytree': 0.9985922158040046, 'lambda': 4.58213399577457, 'alpha': 12.481709958640845}. Best is trial 37 with value: 2.3461772378068417.\n"
     ]
    },
    {
     "name": "stdout",
     "output_type": "stream",
     "text": [
      "\n",
      "--- Trial 57 ---\n",
      "Params: {'booster': 'gbtree', 'objective': 'reg:squarederror', 'eval_metric': 'rmse', 'tree_method': 'hist', 'device': 'cuda', 'learning_rate': 0.028196377189495338, 'max_depth': 15, 'subsample': 0.9727201920141259, 'gamma': 0.19923623330753684, 'colsample_bytree': 0.9985922158040046, 'lambda': 4.58213399577457, 'alpha': 12.481709958640845}\n",
      "Accuracy: 0.7500\n",
      "Total Matches: 12, Total Mismatches: 4\n",
      "Objective Score: 1.7672\n"
     ]
    },
    {
     "name": "stderr",
     "output_type": "stream",
     "text": [
      "[18:17:52] WARNING: /home/conda/feedstock_root/build_artifacts/xgboost-split_1707159369174/work/src/c_api/c_api.cc:1240: Saving into deprecated binary model format, please consider using `json` or `ubj`. Model format will default to JSON in XGBoost 2.2 if not specified.\n",
      "[I 2025-03-12 18:17:54,518] Trial 58 finished with value: 2.3256120999576524 and parameters: {'learning_rate': 0.031275447446706184, 'max_depth': 16, 'subsample': 0.9113628816235851, 'gamma': 0.07298537338507416, 'colsample_bytree': 0.5421956725501801, 'lambda': 5.9617161284810525, 'alpha': 13.925938424677138}. Best is trial 37 with value: 2.3461772378068417.\n"
     ]
    },
    {
     "name": "stdout",
     "output_type": "stream",
     "text": [
      "\n",
      "--- Trial 58 ---\n",
      "Params: {'booster': 'gbtree', 'objective': 'reg:squarederror', 'eval_metric': 'rmse', 'tree_method': 'hist', 'device': 'cuda', 'learning_rate': 0.031275447446706184, 'max_depth': 16, 'subsample': 0.9113628816235851, 'gamma': 0.07298537338507416, 'colsample_bytree': 0.5421956725501801, 'lambda': 5.9617161284810525, 'alpha': 13.925938424677138}\n",
      "Accuracy: 0.8750\n",
      "Total Matches: 14, Total Mismatches: 2\n",
      "Objective Score: 2.3256\n"
     ]
    },
    {
     "name": "stderr",
     "output_type": "stream",
     "text": [
      "[18:18:00] WARNING: /home/conda/feedstock_root/build_artifacts/xgboost-split_1707159369174/work/src/c_api/c_api.cc:1240: Saving into deprecated binary model format, please consider using `json` or `ubj`. Model format will default to JSON in XGBoost 2.2 if not specified.\n",
      "[I 2025-03-12 18:18:02,408] Trial 59 finished with value: 2.178978461306542 and parameters: {'learning_rate': 0.036918317904023994, 'max_depth': 17, 'subsample': 0.9228063431687676, 'gamma': 0.09978938017844119, 'colsample_bytree': 0.5645201976617129, 'lambda': 6.366293439506723, 'alpha': 11.69515797595328}. Best is trial 37 with value: 2.3461772378068417.\n"
     ]
    },
    {
     "name": "stdout",
     "output_type": "stream",
     "text": [
      "\n",
      "--- Trial 59 ---\n",
      "Params: {'booster': 'gbtree', 'objective': 'reg:squarederror', 'eval_metric': 'rmse', 'tree_method': 'hist', 'device': 'cuda', 'learning_rate': 0.036918317904023994, 'max_depth': 17, 'subsample': 0.9228063431687676, 'gamma': 0.09978938017844119, 'colsample_bytree': 0.5645201976617129, 'lambda': 6.366293439506723, 'alpha': 11.69515797595328}\n",
      "Accuracy: 0.8125\n",
      "Total Matches: 13, Total Mismatches: 3\n",
      "Objective Score: 2.1790\n"
     ]
    },
    {
     "name": "stderr",
     "output_type": "stream",
     "text": [
      "[18:18:09] WARNING: /home/conda/feedstock_root/build_artifacts/xgboost-split_1707159369174/work/src/c_api/c_api.cc:1240: Saving into deprecated binary model format, please consider using `json` or `ubj`. Model format will default to JSON in XGBoost 2.2 if not specified.\n",
      "[I 2025-03-12 18:18:11,079] Trial 60 finished with value: 2.2690437177661806 and parameters: {'learning_rate': 0.03208694531314844, 'max_depth': 16, 'subsample': 0.949894983989153, 'gamma': 0.0382213386081483, 'colsample_bytree': 0.5252655496427587, 'lambda': 5.796173997447276, 'alpha': 13.567728971603136}. Best is trial 37 with value: 2.3461772378068417.\n"
     ]
    },
    {
     "name": "stdout",
     "output_type": "stream",
     "text": [
      "\n",
      "--- Trial 60 ---\n",
      "Params: {'booster': 'gbtree', 'objective': 'reg:squarederror', 'eval_metric': 'rmse', 'tree_method': 'hist', 'device': 'cuda', 'learning_rate': 0.03208694531314844, 'max_depth': 16, 'subsample': 0.949894983989153, 'gamma': 0.0382213386081483, 'colsample_bytree': 0.5252655496427587, 'lambda': 5.796173997447276, 'alpha': 13.567728971603136}\n",
      "Accuracy: 0.8125\n",
      "Total Matches: 13, Total Mismatches: 3\n",
      "Objective Score: 2.2690\n"
     ]
    },
    {
     "name": "stderr",
     "output_type": "stream",
     "text": [
      "[18:18:13] WARNING: /home/conda/feedstock_root/build_artifacts/xgboost-split_1707159369174/work/src/c_api/c_api.cc:1240: Saving into deprecated binary model format, please consider using `json` or `ubj`. Model format will default to JSON in XGBoost 2.2 if not specified.\n",
      "[I 2025-03-12 18:18:15,263] Trial 61 finished with value: 2.330454745562747 and parameters: {'learning_rate': 0.027934604791720472, 'max_depth': 14, 'subsample': 0.9060842062243919, 'gamma': 0.07160804793854968, 'colsample_bytree': 0.5414391555147291, 'lambda': 5.1224763421166015, 'alpha': 13.862683189965091}. Best is trial 37 with value: 2.3461772378068417.\n"
     ]
    },
    {
     "name": "stdout",
     "output_type": "stream",
     "text": [
      "\n",
      "--- Trial 61 ---\n",
      "Params: {'booster': 'gbtree', 'objective': 'reg:squarederror', 'eval_metric': 'rmse', 'tree_method': 'hist', 'device': 'cuda', 'learning_rate': 0.027934604791720472, 'max_depth': 14, 'subsample': 0.9060842062243919, 'gamma': 0.07160804793854968, 'colsample_bytree': 0.5414391555147291, 'lambda': 5.1224763421166015, 'alpha': 13.862683189965091}\n",
      "Accuracy: 0.8750\n",
      "Total Matches: 14, Total Mismatches: 2\n",
      "Objective Score: 2.3305\n"
     ]
    },
    {
     "name": "stderr",
     "output_type": "stream",
     "text": [
      "[18:18:21] WARNING: /home/conda/feedstock_root/build_artifacts/xgboost-split_1707159369174/work/src/c_api/c_api.cc:1240: Saving into deprecated binary model format, please consider using `json` or `ubj`. Model format will default to JSON in XGBoost 2.2 if not specified.\n",
      "[I 2025-03-12 18:18:22,822] Trial 62 finished with value: 2.328634151490405 and parameters: {'learning_rate': 0.028079375856305547, 'max_depth': 14, 'subsample': 0.9013832507314274, 'gamma': 0.07231641130751842, 'colsample_bytree': 0.5447827373556489, 'lambda': 5.086526939668755, 'alpha': 13.015849444380388}. Best is trial 37 with value: 2.3461772378068417.\n"
     ]
    },
    {
     "name": "stdout",
     "output_type": "stream",
     "text": [
      "\n",
      "--- Trial 62 ---\n",
      "Params: {'booster': 'gbtree', 'objective': 'reg:squarederror', 'eval_metric': 'rmse', 'tree_method': 'hist', 'device': 'cuda', 'learning_rate': 0.028079375856305547, 'max_depth': 14, 'subsample': 0.9013832507314274, 'gamma': 0.07231641130751842, 'colsample_bytree': 0.5447827373556489, 'lambda': 5.086526939668755, 'alpha': 13.015849444380388}\n",
      "Accuracy: 0.8750\n",
      "Total Matches: 14, Total Mismatches: 2\n",
      "Objective Score: 2.3286\n"
     ]
    },
    {
     "name": "stderr",
     "output_type": "stream",
     "text": [
      "[18:18:27] WARNING: /home/conda/feedstock_root/build_artifacts/xgboost-split_1707159369174/work/src/c_api/c_api.cc:1240: Saving into deprecated binary model format, please consider using `json` or `ubj`. Model format will default to JSON in XGBoost 2.2 if not specified.\n",
      "[I 2025-03-12 18:18:29,175] Trial 63 finished with value: 2.1312318816781044 and parameters: {'learning_rate': 0.029742940767981122, 'max_depth': 14, 'subsample': 0.9041344398156159, 'gamma': 0.005964221137152059, 'colsample_bytree': 0.605227438530615, 'lambda': 6.921624490155517, 'alpha': 12.847122080152436}. Best is trial 37 with value: 2.3461772378068417.\n"
     ]
    },
    {
     "name": "stdout",
     "output_type": "stream",
     "text": [
      "\n",
      "--- Trial 63 ---\n",
      "Params: {'booster': 'gbtree', 'objective': 'reg:squarederror', 'eval_metric': 'rmse', 'tree_method': 'hist', 'device': 'cuda', 'learning_rate': 0.029742940767981122, 'max_depth': 14, 'subsample': 0.9041344398156159, 'gamma': 0.005964221137152059, 'colsample_bytree': 0.605227438530615, 'lambda': 6.921624490155517, 'alpha': 12.847122080152436}\n",
      "Accuracy: 0.8125\n",
      "Total Matches: 13, Total Mismatches: 3\n",
      "Objective Score: 2.1312\n"
     ]
    },
    {
     "name": "stderr",
     "output_type": "stream",
     "text": [
      "[18:18:33] WARNING: /home/conda/feedstock_root/build_artifacts/xgboost-split_1707159369174/work/src/c_api/c_api.cc:1240: Saving into deprecated binary model format, please consider using `json` or `ubj`. Model format will default to JSON in XGBoost 2.2 if not specified.\n",
      "[I 2025-03-12 18:18:34,604] Trial 64 finished with value: 2.1898504897544626 and parameters: {'learning_rate': 0.03090305767238383, 'max_depth': 13, 'subsample': 0.9683803436676093, 'gamma': 0.0834228876603454, 'colsample_bytree': 0.5469314171530392, 'lambda': 4.264974019431337, 'alpha': 14.430621490990662}. Best is trial 37 with value: 2.3461772378068417.\n"
     ]
    },
    {
     "name": "stdout",
     "output_type": "stream",
     "text": [
      "\n",
      "--- Trial 64 ---\n",
      "Params: {'booster': 'gbtree', 'objective': 'reg:squarederror', 'eval_metric': 'rmse', 'tree_method': 'hist', 'device': 'cuda', 'learning_rate': 0.03090305767238383, 'max_depth': 13, 'subsample': 0.9683803436676093, 'gamma': 0.0834228876603454, 'colsample_bytree': 0.5469314171530392, 'lambda': 4.264974019431337, 'alpha': 14.430621490990662}\n",
      "Accuracy: 0.8125\n",
      "Total Matches: 13, Total Mismatches: 3\n",
      "Objective Score: 2.1899\n"
     ]
    },
    {
     "name": "stderr",
     "output_type": "stream",
     "text": [
      "[18:18:40] WARNING: /home/conda/feedstock_root/build_artifacts/xgboost-split_1707159369174/work/src/c_api/c_api.cc:1240: Saving into deprecated binary model format, please consider using `json` or `ubj`. Model format will default to JSON in XGBoost 2.2 if not specified.\n",
      "[I 2025-03-12 18:18:41,975] Trial 65 finished with value: 2.184481235453859 and parameters: {'learning_rate': 0.03392401913215581, 'max_depth': 16, 'subsample': 0.8429260757318473, 'gamma': 0.06779593689184742, 'colsample_bytree': 0.5675379556497672, 'lambda': 6.154992007936184, 'alpha': 13.86857519870369}. Best is trial 37 with value: 2.3461772378068417.\n"
     ]
    },
    {
     "name": "stdout",
     "output_type": "stream",
     "text": [
      "\n",
      "--- Trial 65 ---\n",
      "Params: {'booster': 'gbtree', 'objective': 'reg:squarederror', 'eval_metric': 'rmse', 'tree_method': 'hist', 'device': 'cuda', 'learning_rate': 0.03392401913215581, 'max_depth': 16, 'subsample': 0.8429260757318473, 'gamma': 0.06779593689184742, 'colsample_bytree': 0.5675379556497672, 'lambda': 6.154992007936184, 'alpha': 13.86857519870369}\n",
      "Accuracy: 0.8125\n",
      "Total Matches: 13, Total Mismatches: 3\n",
      "Objective Score: 2.1845\n"
     ]
    },
    {
     "name": "stderr",
     "output_type": "stream",
     "text": [
      "[18:18:46] WARNING: /home/conda/feedstock_root/build_artifacts/xgboost-split_1707159369174/work/src/c_api/c_api.cc:1240: Saving into deprecated binary model format, please consider using `json` or `ubj`. Model format will default to JSON in XGBoost 2.2 if not specified.\n",
      "[I 2025-03-12 18:18:48,081] Trial 66 finished with value: 2.289540405618027 and parameters: {'learning_rate': 0.021566100700807236, 'max_depth': 13, 'subsample': 0.8855709913513368, 'gamma': 0.12409766343322931, 'colsample_bytree': 0.5421977882222109, 'lambda': 5.497186607640536, 'alpha': 12.02488917271186}. Best is trial 37 with value: 2.3461772378068417.\n"
     ]
    },
    {
     "name": "stdout",
     "output_type": "stream",
     "text": [
      "\n",
      "--- Trial 66 ---\n",
      "Params: {'booster': 'gbtree', 'objective': 'reg:squarederror', 'eval_metric': 'rmse', 'tree_method': 'hist', 'device': 'cuda', 'learning_rate': 0.021566100700807236, 'max_depth': 13, 'subsample': 0.8855709913513368, 'gamma': 0.12409766343322931, 'colsample_bytree': 0.5421977882222109, 'lambda': 5.497186607640536, 'alpha': 12.02488917271186}\n",
      "Accuracy: 0.8750\n",
      "Total Matches: 14, Total Mismatches: 2\n",
      "Objective Score: 2.2895\n"
     ]
    },
    {
     "name": "stderr",
     "output_type": "stream",
     "text": [
      "[18:18:54] WARNING: /home/conda/feedstock_root/build_artifacts/xgboost-split_1707159369174/work/src/c_api/c_api.cc:1240: Saving into deprecated binary model format, please consider using `json` or `ubj`. Model format will default to JSON in XGBoost 2.2 if not specified.\n",
      "[I 2025-03-12 18:18:56,778] Trial 67 finished with value: 1.8453703923150897 and parameters: {'learning_rate': 0.024404040764500326, 'max_depth': 14, 'subsample': 0.9981951628992916, 'gamma': 0.04674432291979612, 'colsample_bytree': 0.9029133884804549, 'lambda': 7.619623195563445, 'alpha': 11.471285142776857}. Best is trial 37 with value: 2.3461772378068417.\n"
     ]
    },
    {
     "name": "stdout",
     "output_type": "stream",
     "text": [
      "\n",
      "--- Trial 67 ---\n",
      "Params: {'booster': 'gbtree', 'objective': 'reg:squarederror', 'eval_metric': 'rmse', 'tree_method': 'hist', 'device': 'cuda', 'learning_rate': 0.024404040764500326, 'max_depth': 14, 'subsample': 0.9981951628992916, 'gamma': 0.04674432291979612, 'colsample_bytree': 0.9029133884804549, 'lambda': 7.619623195563445, 'alpha': 11.471285142776857}\n",
      "Accuracy: 0.8125\n",
      "Total Matches: 13, Total Mismatches: 3\n",
      "Objective Score: 1.8454\n"
     ]
    },
    {
     "name": "stderr",
     "output_type": "stream",
     "text": [
      "[18:19:01] WARNING: /home/conda/feedstock_root/build_artifacts/xgboost-split_1707159369174/work/src/c_api/c_api.cc:1240: Saving into deprecated binary model format, please consider using `json` or `ubj`. Model format will default to JSON in XGBoost 2.2 if not specified.\n",
      "[I 2025-03-12 18:19:03,760] Trial 68 finished with value: 2.3342261917423457 and parameters: {'learning_rate': 0.02767920778762867, 'max_depth': 17, 'subsample': 0.9455797926050354, 'gamma': 0.1614113826850176, 'colsample_bytree': 0.5161642488930964, 'lambda': 4.777621519459049, 'alpha': 12.271075251993246}. Best is trial 37 with value: 2.3461772378068417.\n"
     ]
    },
    {
     "name": "stdout",
     "output_type": "stream",
     "text": [
      "\n",
      "--- Trial 68 ---\n",
      "Params: {'booster': 'gbtree', 'objective': 'reg:squarederror', 'eval_metric': 'rmse', 'tree_method': 'hist', 'device': 'cuda', 'learning_rate': 0.02767920778762867, 'max_depth': 17, 'subsample': 0.9455797926050354, 'gamma': 0.1614113826850176, 'colsample_bytree': 0.5161642488930964, 'lambda': 4.777621519459049, 'alpha': 12.271075251993246}\n",
      "Accuracy: 0.8750\n",
      "Total Matches: 14, Total Mismatches: 2\n",
      "Objective Score: 2.3342\n"
     ]
    },
    {
     "name": "stderr",
     "output_type": "stream",
     "text": [
      "[18:19:10] WARNING: /home/conda/feedstock_root/build_artifacts/xgboost-split_1707159369174/work/src/c_api/c_api.cc:1240: Saving into deprecated binary model format, please consider using `json` or `ubj`. Model format will default to JSON in XGBoost 2.2 if not specified.\n",
      "[I 2025-03-12 18:19:12,536] Trial 69 finished with value: 2.343060347950086 and parameters: {'learning_rate': 0.027775560927890467, 'max_depth': 17, 'subsample': 0.9393580314769678, 'gamma': 0.17815435084924403, 'colsample_bytree': 0.5213910089864899, 'lambda': 4.686693586873075, 'alpha': 12.385071305033751}. Best is trial 37 with value: 2.3461772378068417.\n"
     ]
    },
    {
     "name": "stdout",
     "output_type": "stream",
     "text": [
      "\n",
      "--- Trial 69 ---\n",
      "Params: {'booster': 'gbtree', 'objective': 'reg:squarederror', 'eval_metric': 'rmse', 'tree_method': 'hist', 'device': 'cuda', 'learning_rate': 0.027775560927890467, 'max_depth': 17, 'subsample': 0.9393580314769678, 'gamma': 0.17815435084924403, 'colsample_bytree': 0.5213910089864899, 'lambda': 4.686693586873075, 'alpha': 12.385071305033751}\n",
      "Accuracy: 0.8750\n",
      "Total Matches: 14, Total Mismatches: 2\n",
      "Objective Score: 2.3431\n"
     ]
    },
    {
     "name": "stderr",
     "output_type": "stream",
     "text": [
      "[18:19:16] WARNING: /home/conda/feedstock_root/build_artifacts/xgboost-split_1707159369174/work/src/c_api/c_api.cc:1240: Saving into deprecated binary model format, please consider using `json` or `ubj`. Model format will default to JSON in XGBoost 2.2 if not specified.\n",
      "[I 2025-03-12 18:19:18,775] Trial 70 finished with value: 2.3218971751630306 and parameters: {'learning_rate': 0.022464996210142977, 'max_depth': 17, 'subsample': 0.9422090114335362, 'gamma': 0.17752452585433984, 'colsample_bytree': 0.5166708924116663, 'lambda': 4.552824463120411, 'alpha': 12.416544455986704}. Best is trial 37 with value: 2.3461772378068417.\n"
     ]
    },
    {
     "name": "stdout",
     "output_type": "stream",
     "text": [
      "\n",
      "--- Trial 70 ---\n",
      "Params: {'booster': 'gbtree', 'objective': 'reg:squarederror', 'eval_metric': 'rmse', 'tree_method': 'hist', 'device': 'cuda', 'learning_rate': 0.022464996210142977, 'max_depth': 17, 'subsample': 0.9422090114335362, 'gamma': 0.17752452585433984, 'colsample_bytree': 0.5166708924116663, 'lambda': 4.552824463120411, 'alpha': 12.416544455986704}\n",
      "Accuracy: 0.8750\n",
      "Total Matches: 14, Total Mismatches: 2\n",
      "Objective Score: 2.3219\n"
     ]
    },
    {
     "name": "stderr",
     "output_type": "stream",
     "text": [
      "[18:19:27] WARNING: /home/conda/feedstock_root/build_artifacts/xgboost-split_1707159369174/work/src/c_api/c_api.cc:1240: Saving into deprecated binary model format, please consider using `json` or `ubj`. Model format will default to JSON in XGBoost 2.2 if not specified.\n",
      "[I 2025-03-12 18:19:29,580] Trial 71 finished with value: 2.2900788330007344 and parameters: {'learning_rate': 0.02819010538140464, 'max_depth': 18, 'subsample': 0.9601808742276298, 'gamma': 0.2177235998122669, 'colsample_bytree': 0.5629339046498923, 'lambda': 4.002549376099364, 'alpha': 10.365366998968835}. Best is trial 37 with value: 2.3461772378068417.\n"
     ]
    },
    {
     "name": "stdout",
     "output_type": "stream",
     "text": [
      "\n",
      "--- Trial 71 ---\n",
      "Params: {'booster': 'gbtree', 'objective': 'reg:squarederror', 'eval_metric': 'rmse', 'tree_method': 'hist', 'device': 'cuda', 'learning_rate': 0.02819010538140464, 'max_depth': 18, 'subsample': 0.9601808742276298, 'gamma': 0.2177235998122669, 'colsample_bytree': 0.5629339046498923, 'lambda': 4.002549376099364, 'alpha': 10.365366998968835}\n",
      "Accuracy: 0.8750\n",
      "Total Matches: 14, Total Mismatches: 2\n",
      "Objective Score: 2.2901\n"
     ]
    },
    {
     "name": "stderr",
     "output_type": "stream",
     "text": [
      "[18:19:34] WARNING: /home/conda/feedstock_root/build_artifacts/xgboost-split_1707159369174/work/src/c_api/c_api.cc:1240: Saving into deprecated binary model format, please consider using `json` or `ubj`. Model format will default to JSON in XGBoost 2.2 if not specified.\n",
      "[I 2025-03-12 18:19:36,056] Trial 72 finished with value: 2.3378515378572047 and parameters: {'learning_rate': 0.029210582632407837, 'max_depth': 17, 'subsample': 0.9858036807289445, 'gamma': 0.16477226408163362, 'colsample_bytree': 0.5156072161899367, 'lambda': 5.1777015068101235, 'alpha': 13.157386523996692}. Best is trial 37 with value: 2.3461772378068417.\n"
     ]
    },
    {
     "name": "stdout",
     "output_type": "stream",
     "text": [
      "\n",
      "--- Trial 72 ---\n",
      "Params: {'booster': 'gbtree', 'objective': 'reg:squarederror', 'eval_metric': 'rmse', 'tree_method': 'hist', 'device': 'cuda', 'learning_rate': 0.029210582632407837, 'max_depth': 17, 'subsample': 0.9858036807289445, 'gamma': 0.16477226408163362, 'colsample_bytree': 0.5156072161899367, 'lambda': 5.1777015068101235, 'alpha': 13.157386523996692}\n",
      "Accuracy: 0.8750\n",
      "Total Matches: 14, Total Mismatches: 2\n",
      "Objective Score: 2.3379\n"
     ]
    },
    {
     "name": "stderr",
     "output_type": "stream",
     "text": [
      "[18:19:43] WARNING: /home/conda/feedstock_root/build_artifacts/xgboost-split_1707159369174/work/src/c_api/c_api.cc:1240: Saving into deprecated binary model format, please consider using `json` or `ubj`. Model format will default to JSON in XGBoost 2.2 if not specified.\n",
      "[I 2025-03-12 18:19:45,759] Trial 73 finished with value: 2.33595546358265 and parameters: {'learning_rate': 0.025845259910833616, 'max_depth': 17, 'subsample': 0.983816155751746, 'gamma': 0.16473865045555508, 'colsample_bytree': 0.5156629394932566, 'lambda': 3.216743691339431, 'alpha': 10.59833428880075}. Best is trial 37 with value: 2.3461772378068417.\n"
     ]
    },
    {
     "name": "stdout",
     "output_type": "stream",
     "text": [
      "\n",
      "--- Trial 73 ---\n",
      "Params: {'booster': 'gbtree', 'objective': 'reg:squarederror', 'eval_metric': 'rmse', 'tree_method': 'hist', 'device': 'cuda', 'learning_rate': 0.025845259910833616, 'max_depth': 17, 'subsample': 0.983816155751746, 'gamma': 0.16473865045555508, 'colsample_bytree': 0.5156629394932566, 'lambda': 3.216743691339431, 'alpha': 10.59833428880075}\n",
      "Accuracy: 0.8750\n",
      "Total Matches: 14, Total Mismatches: 2\n",
      "Objective Score: 2.3360\n"
     ]
    },
    {
     "name": "stderr",
     "output_type": "stream",
     "text": [
      "[18:19:52] WARNING: /home/conda/feedstock_root/build_artifacts/xgboost-split_1707159369174/work/src/c_api/c_api.cc:1240: Saving into deprecated binary model format, please consider using `json` or `ubj`. Model format will default to JSON in XGBoost 2.2 if not specified.\n",
      "[I 2025-03-12 18:19:55,038] Trial 74 finished with value: 2.3551790644414723 and parameters: {'learning_rate': 0.025676353387498563, 'max_depth': 17, 'subsample': 0.9917062302935468, 'gamma': 0.1692202071340728, 'colsample_bytree': 0.5089421534430815, 'lambda': 1.386350901902838, 'alpha': 12.06874097935106}. Best is trial 74 with value: 2.3551790644414723.\n"
     ]
    },
    {
     "name": "stdout",
     "output_type": "stream",
     "text": [
      "\n",
      "--- Trial 74 ---\n",
      "Params: {'booster': 'gbtree', 'objective': 'reg:squarederror', 'eval_metric': 'rmse', 'tree_method': 'hist', 'device': 'cuda', 'learning_rate': 0.025676353387498563, 'max_depth': 17, 'subsample': 0.9917062302935468, 'gamma': 0.1692202071340728, 'colsample_bytree': 0.5089421534430815, 'lambda': 1.386350901902838, 'alpha': 12.06874097935106}\n",
      "Accuracy: 0.8750\n",
      "Total Matches: 14, Total Mismatches: 2\n",
      "Objective Score: 2.3552\n"
     ]
    },
    {
     "name": "stderr",
     "output_type": "stream",
     "text": [
      "[18:20:01] WARNING: /home/conda/feedstock_root/build_artifacts/xgboost-split_1707159369174/work/src/c_api/c_api.cc:1240: Saving into deprecated binary model format, please consider using `json` or `ubj`. Model format will default to JSON in XGBoost 2.2 if not specified.\n",
      "[I 2025-03-12 18:20:03,789] Trial 75 finished with value: 2.3455494466470554 and parameters: {'learning_rate': 0.026059904052846868, 'max_depth': 17, 'subsample': 0.984620638346415, 'gamma': 0.2652067775309108, 'colsample_bytree': 0.5294029527813884, 'lambda': 1.3800334484202073, 'alpha': 10.664370352241166}. Best is trial 74 with value: 2.3551790644414723.\n"
     ]
    },
    {
     "name": "stdout",
     "output_type": "stream",
     "text": [
      "\n",
      "--- Trial 75 ---\n",
      "Params: {'booster': 'gbtree', 'objective': 'reg:squarederror', 'eval_metric': 'rmse', 'tree_method': 'hist', 'device': 'cuda', 'learning_rate': 0.026059904052846868, 'max_depth': 17, 'subsample': 0.984620638346415, 'gamma': 0.2652067775309108, 'colsample_bytree': 0.5294029527813884, 'lambda': 1.3800334484202073, 'alpha': 10.664370352241166}\n",
      "Accuracy: 0.8750\n",
      "Total Matches: 14, Total Mismatches: 2\n",
      "Objective Score: 2.3455\n"
     ]
    },
    {
     "name": "stderr",
     "output_type": "stream",
     "text": [
      "[18:20:10] WARNING: /home/conda/feedstock_root/build_artifacts/xgboost-split_1707159369174/work/src/c_api/c_api.cc:1240: Saving into deprecated binary model format, please consider using `json` or `ubj`. Model format will default to JSON in XGBoost 2.2 if not specified.\n",
      "[I 2025-03-12 18:20:13,451] Trial 76 finished with value: 2.3420338215801166 and parameters: {'learning_rate': 0.02939055066552368, 'max_depth': 18, 'subsample': 0.988645695830313, 'gamma': 0.2673637370542126, 'colsample_bytree': 0.5302533083299436, 'lambda': 1.3112945790331225, 'alpha': 11.457862530511031}. Best is trial 74 with value: 2.3551790644414723.\n"
     ]
    },
    {
     "name": "stdout",
     "output_type": "stream",
     "text": [
      "\n",
      "--- Trial 76 ---\n",
      "Params: {'booster': 'gbtree', 'objective': 'reg:squarederror', 'eval_metric': 'rmse', 'tree_method': 'hist', 'device': 'cuda', 'learning_rate': 0.02939055066552368, 'max_depth': 18, 'subsample': 0.988645695830313, 'gamma': 0.2673637370542126, 'colsample_bytree': 0.5302533083299436, 'lambda': 1.3112945790331225, 'alpha': 11.457862530511031}\n",
      "Accuracy: 0.8750\n",
      "Total Matches: 14, Total Mismatches: 2\n",
      "Objective Score: 2.3420\n"
     ]
    },
    {
     "name": "stderr",
     "output_type": "stream",
     "text": [
      "[18:20:21] WARNING: /home/conda/feedstock_root/build_artifacts/xgboost-split_1707159369174/work/src/c_api/c_api.cc:1240: Saving into deprecated binary model format, please consider using `json` or `ubj`. Model format will default to JSON in XGBoost 2.2 if not specified.\n",
      "[I 2025-03-12 18:20:23,216] Trial 77 finished with value: 2.308115026797168 and parameters: {'learning_rate': 0.024964414721776424, 'max_depth': 18, 'subsample': 0.965535367058558, 'gamma': 0.27019618692524994, 'colsample_bytree': 0.5847771579323754, 'lambda': 0.04984466627256623, 'alpha': 11.45521666879525}. Best is trial 74 with value: 2.3551790644414723.\n"
     ]
    },
    {
     "name": "stdout",
     "output_type": "stream",
     "text": [
      "\n",
      "--- Trial 77 ---\n",
      "Params: {'booster': 'gbtree', 'objective': 'reg:squarederror', 'eval_metric': 'rmse', 'tree_method': 'hist', 'device': 'cuda', 'learning_rate': 0.024964414721776424, 'max_depth': 18, 'subsample': 0.965535367058558, 'gamma': 0.27019618692524994, 'colsample_bytree': 0.5847771579323754, 'lambda': 0.04984466627256623, 'alpha': 11.45521666879525}\n",
      "Accuracy: 0.8750\n",
      "Total Matches: 14, Total Mismatches: 2\n",
      "Objective Score: 2.3081\n"
     ]
    },
    {
     "name": "stderr",
     "output_type": "stream",
     "text": [
      "[18:20:32] WARNING: /home/conda/feedstock_root/build_artifacts/xgboost-split_1707159369174/work/src/c_api/c_api.cc:1240: Saving into deprecated binary model format, please consider using `json` or `ubj`. Model format will default to JSON in XGBoost 2.2 if not specified.\n",
      "[I 2025-03-12 18:20:34,916] Trial 78 finished with value: 2.306632393389009 and parameters: {'learning_rate': 0.020560609975113303, 'max_depth': 19, 'subsample': 0.9788774456902433, 'gamma': 0.33047267275185227, 'colsample_bytree': 0.5311539676680008, 'lambda': 1.35402677488212, 'alpha': 8.676166181730384}. Best is trial 74 with value: 2.3551790644414723.\n"
     ]
    },
    {
     "name": "stdout",
     "output_type": "stream",
     "text": [
      "\n",
      "--- Trial 78 ---\n",
      "Params: {'booster': 'gbtree', 'objective': 'reg:squarederror', 'eval_metric': 'rmse', 'tree_method': 'hist', 'device': 'cuda', 'learning_rate': 0.020560609975113303, 'max_depth': 19, 'subsample': 0.9788774456902433, 'gamma': 0.33047267275185227, 'colsample_bytree': 0.5311539676680008, 'lambda': 1.35402677488212, 'alpha': 8.676166181730384}\n",
      "Accuracy: 0.8750\n",
      "Total Matches: 14, Total Mismatches: 2\n",
      "Objective Score: 2.3066\n"
     ]
    },
    {
     "name": "stderr",
     "output_type": "stream",
     "text": [
      "[18:20:40] WARNING: /home/conda/feedstock_root/build_artifacts/xgboost-split_1707159369174/work/src/c_api/c_api.cc:1240: Saving into deprecated binary model format, please consider using `json` or `ubj`. Model format will default to JSON in XGBoost 2.2 if not specified.\n",
      "[I 2025-03-12 18:20:43,136] Trial 79 finished with value: 2.2077093007974327 and parameters: {'learning_rate': 0.023875584713748503, 'max_depth': 18, 'subsample': 0.99626267654884, 'gamma': 0.3692880563555987, 'colsample_bytree': 0.6001973746014498, 'lambda': 0.9863779667502336, 'alpha': 10.859275082485274}. Best is trial 74 with value: 2.3551790644414723.\n"
     ]
    },
    {
     "name": "stdout",
     "output_type": "stream",
     "text": [
      "\n",
      "--- Trial 79 ---\n",
      "Params: {'booster': 'gbtree', 'objective': 'reg:squarederror', 'eval_metric': 'rmse', 'tree_method': 'hist', 'device': 'cuda', 'learning_rate': 0.023875584713748503, 'max_depth': 18, 'subsample': 0.99626267654884, 'gamma': 0.3692880563555987, 'colsample_bytree': 0.6001973746014498, 'lambda': 0.9863779667502336, 'alpha': 10.859275082485274}\n",
      "Accuracy: 0.8750\n",
      "Total Matches: 14, Total Mismatches: 2\n",
      "Objective Score: 2.2077\n"
     ]
    },
    {
     "name": "stderr",
     "output_type": "stream",
     "text": [
      "[18:20:49] WARNING: /home/conda/feedstock_root/build_artifacts/xgboost-split_1707159369174/work/src/c_api/c_api.cc:1240: Saving into deprecated binary model format, please consider using `json` or `ubj`. Model format will default to JSON in XGBoost 2.2 if not specified.\n",
      "[I 2025-03-12 18:20:51,589] Trial 80 finished with value: 2.343854966107756 and parameters: {'learning_rate': 0.02646215401283548, 'max_depth': 19, 'subsample': 0.9454869666178689, 'gamma': 0.27961347574758283, 'colsample_bytree': 0.5003607860843052, 'lambda': 2.220307869750806, 'alpha': 11.754008357177007}. Best is trial 74 with value: 2.3551790644414723.\n"
     ]
    },
    {
     "name": "stdout",
     "output_type": "stream",
     "text": [
      "\n",
      "--- Trial 80 ---\n",
      "Params: {'booster': 'gbtree', 'objective': 'reg:squarederror', 'eval_metric': 'rmse', 'tree_method': 'hist', 'device': 'cuda', 'learning_rate': 0.02646215401283548, 'max_depth': 19, 'subsample': 0.9454869666178689, 'gamma': 0.27961347574758283, 'colsample_bytree': 0.5003607860843052, 'lambda': 2.220307869750806, 'alpha': 11.754008357177007}\n",
      "Accuracy: 0.8750\n",
      "Total Matches: 14, Total Mismatches: 2\n",
      "Objective Score: 2.3439\n"
     ]
    },
    {
     "name": "stderr",
     "output_type": "stream",
     "text": [
      "[18:20:59] WARNING: /home/conda/feedstock_root/build_artifacts/xgboost-split_1707159369174/work/src/c_api/c_api.cc:1240: Saving into deprecated binary model format, please consider using `json` or `ubj`. Model format will default to JSON in XGBoost 2.2 if not specified.\n",
      "[I 2025-03-12 18:21:00,641] Trial 81 finished with value: 2.3538564087139093 and parameters: {'learning_rate': 0.030463461306759643, 'max_depth': 20, 'subsample': 0.9399843294822096, 'gamma': 0.23617162485466314, 'colsample_bytree': 0.503046644344619, 'lambda': 1.672103572793619, 'alpha': 11.92702507443983}. Best is trial 74 with value: 2.3551790644414723.\n"
     ]
    },
    {
     "name": "stdout",
     "output_type": "stream",
     "text": [
      "\n",
      "--- Trial 81 ---\n",
      "Params: {'booster': 'gbtree', 'objective': 'reg:squarederror', 'eval_metric': 'rmse', 'tree_method': 'hist', 'device': 'cuda', 'learning_rate': 0.030463461306759643, 'max_depth': 20, 'subsample': 0.9399843294822096, 'gamma': 0.23617162485466314, 'colsample_bytree': 0.503046644344619, 'lambda': 1.672103572793619, 'alpha': 11.92702507443983}\n",
      "Accuracy: 0.8750\n",
      "Total Matches: 14, Total Mismatches: 2\n",
      "Objective Score: 2.3539\n"
     ]
    },
    {
     "name": "stderr",
     "output_type": "stream",
     "text": [
      "[18:21:07] WARNING: /home/conda/feedstock_root/build_artifacts/xgboost-split_1707159369174/work/src/c_api/c_api.cc:1240: Saving into deprecated binary model format, please consider using `json` or `ubj`. Model format will default to JSON in XGBoost 2.2 if not specified.\n",
      "[I 2025-03-12 18:21:09,480] Trial 82 finished with value: 2.350512618373614 and parameters: {'learning_rate': 0.026347295284057798, 'max_depth': 20, 'subsample': 0.942453245333863, 'gamma': 0.23256334406490664, 'colsample_bytree': 0.5010520661632316, 'lambda': 2.1952723017744176, 'alpha': 11.76276276835697}. Best is trial 74 with value: 2.3551790644414723.\n"
     ]
    },
    {
     "name": "stdout",
     "output_type": "stream",
     "text": [
      "\n",
      "--- Trial 82 ---\n",
      "Params: {'booster': 'gbtree', 'objective': 'reg:squarederror', 'eval_metric': 'rmse', 'tree_method': 'hist', 'device': 'cuda', 'learning_rate': 0.026347295284057798, 'max_depth': 20, 'subsample': 0.942453245333863, 'gamma': 0.23256334406490664, 'colsample_bytree': 0.5010520661632316, 'lambda': 2.1952723017744176, 'alpha': 11.76276276835697}\n",
      "Accuracy: 0.8750\n",
      "Total Matches: 14, Total Mismatches: 2\n",
      "Objective Score: 2.3505\n"
     ]
    },
    {
     "name": "stderr",
     "output_type": "stream",
     "text": [
      "[18:21:17] WARNING: /home/conda/feedstock_root/build_artifacts/xgboost-split_1707159369174/work/src/c_api/c_api.cc:1240: Saving into deprecated binary model format, please consider using `json` or `ubj`. Model format will default to JSON in XGBoost 2.2 if not specified.\n",
      "[I 2025-03-12 18:21:19,262] Trial 83 finished with value: 2.278611354959139 and parameters: {'learning_rate': 0.026336547105367647, 'max_depth': 20, 'subsample': 0.9473284409215644, 'gamma': 0.22865532038154038, 'colsample_bytree': 0.5092794087596179, 'lambda': 2.1433533541199856, 'alpha': 12.054038068816762}. Best is trial 74 with value: 2.3551790644414723.\n"
     ]
    },
    {
     "name": "stdout",
     "output_type": "stream",
     "text": [
      "\n",
      "--- Trial 83 ---\n",
      "Params: {'booster': 'gbtree', 'objective': 'reg:squarederror', 'eval_metric': 'rmse', 'tree_method': 'hist', 'device': 'cuda', 'learning_rate': 0.026336547105367647, 'max_depth': 20, 'subsample': 0.9473284409215644, 'gamma': 0.22865532038154038, 'colsample_bytree': 0.5092794087596179, 'lambda': 2.1433533541199856, 'alpha': 12.054038068816762}\n",
      "Accuracy: 0.8125\n",
      "Total Matches: 13, Total Mismatches: 3\n",
      "Objective Score: 2.2786\n"
     ]
    },
    {
     "name": "stderr",
     "output_type": "stream",
     "text": [
      "[18:21:26] WARNING: /home/conda/feedstock_root/build_artifacts/xgboost-split_1707159369174/work/src/c_api/c_api.cc:1240: Saving into deprecated binary model format, please consider using `json` or `ubj`. Model format will default to JSON in XGBoost 2.2 if not specified.\n",
      "[I 2025-03-12 18:21:27,821] Trial 84 finished with value: 2.3227839851751924 and parameters: {'learning_rate': 0.02304094292835098, 'max_depth': 19, 'subsample': 0.9384411649766706, 'gamma': 0.2841462066485584, 'colsample_bytree': 0.5024304622026311, 'lambda': 1.8246506101197824, 'alpha': 12.553608871332912}. Best is trial 74 with value: 2.3551790644414723.\n"
     ]
    },
    {
     "name": "stdout",
     "output_type": "stream",
     "text": [
      "\n",
      "--- Trial 84 ---\n",
      "Params: {'booster': 'gbtree', 'objective': 'reg:squarederror', 'eval_metric': 'rmse', 'tree_method': 'hist', 'device': 'cuda', 'learning_rate': 0.02304094292835098, 'max_depth': 19, 'subsample': 0.9384411649766706, 'gamma': 0.2841462066485584, 'colsample_bytree': 0.5024304622026311, 'lambda': 1.8246506101197824, 'alpha': 12.553608871332912}\n",
      "Accuracy: 0.8750\n",
      "Total Matches: 14, Total Mismatches: 2\n",
      "Objective Score: 2.3228\n"
     ]
    },
    {
     "name": "stderr",
     "output_type": "stream",
     "text": [
      "[18:21:35] WARNING: /home/conda/feedstock_root/build_artifacts/xgboost-split_1707159369174/work/src/c_api/c_api.cc:1240: Saving into deprecated binary model format, please consider using `json` or `ubj`. Model format will default to JSON in XGBoost 2.2 if not specified.\n",
      "[I 2025-03-12 18:21:38,699] Trial 85 finished with value: 2.31702704471536 and parameters: {'learning_rate': 0.025392818287173508, 'max_depth': 20, 'subsample': 0.962603316069275, 'gamma': 0.1326844801803974, 'colsample_bytree': 0.5547608885250059, 'lambda': 0.6094692718597692, 'alpha': 9.583310824105538}. Best is trial 74 with value: 2.3551790644414723.\n"
     ]
    },
    {
     "name": "stdout",
     "output_type": "stream",
     "text": [
      "\n",
      "--- Trial 85 ---\n",
      "Params: {'booster': 'gbtree', 'objective': 'reg:squarederror', 'eval_metric': 'rmse', 'tree_method': 'hist', 'device': 'cuda', 'learning_rate': 0.025392818287173508, 'max_depth': 20, 'subsample': 0.962603316069275, 'gamma': 0.1326844801803974, 'colsample_bytree': 0.5547608885250059, 'lambda': 0.6094692718597692, 'alpha': 9.583310824105538}\n",
      "Accuracy: 0.8750\n",
      "Total Matches: 14, Total Mismatches: 2\n",
      "Objective Score: 2.3170\n"
     ]
    },
    {
     "name": "stderr",
     "output_type": "stream",
     "text": [
      "[18:21:46] WARNING: /home/conda/feedstock_root/build_artifacts/xgboost-split_1707159369174/work/src/c_api/c_api.cc:1240: Saving into deprecated binary model format, please consider using `json` or `ubj`. Model format will default to JSON in XGBoost 2.2 if not specified.\n",
      "[I 2025-03-12 18:21:49,098] Trial 86 finished with value: 2.2607288664439693 and parameters: {'learning_rate': 0.031446578037636064, 'max_depth': 23, 'subsample': 0.9687716238887818, 'gamma': 0.25029799277749315, 'colsample_bytree': 0.5016006060266066, 'lambda': 1.603386725359455, 'alpha': 10.254356969784126}. Best is trial 74 with value: 2.3551790644414723.\n"
     ]
    },
    {
     "name": "stdout",
     "output_type": "stream",
     "text": [
      "\n",
      "--- Trial 86 ---\n",
      "Params: {'booster': 'gbtree', 'objective': 'reg:squarederror', 'eval_metric': 'rmse', 'tree_method': 'hist', 'device': 'cuda', 'learning_rate': 0.031446578037636064, 'max_depth': 23, 'subsample': 0.9687716238887818, 'gamma': 0.25029799277749315, 'colsample_bytree': 0.5016006060266066, 'lambda': 1.603386725359455, 'alpha': 10.254356969784126}\n",
      "Accuracy: 0.8125\n",
      "Total Matches: 13, Total Mismatches: 3\n",
      "Objective Score: 2.2607\n"
     ]
    },
    {
     "name": "stderr",
     "output_type": "stream",
     "text": [
      "[18:21:56] WARNING: /home/conda/feedstock_root/build_artifacts/xgboost-split_1707159369174/work/src/c_api/c_api.cc:1240: Saving into deprecated binary model format, please consider using `json` or `ubj`. Model format will default to JSON in XGBoost 2.2 if not specified.\n",
      "[I 2025-03-12 18:21:59,548] Trial 87 finished with value: 2.333015822339803 and parameters: {'learning_rate': 0.02689328844313453, 'max_depth': 22, 'subsample': 0.8868039351567943, 'gamma': 0.2038366823762028, 'colsample_bytree': 0.5321522117283141, 'lambda': 2.386201209091631, 'alpha': 11.916338913104816}. Best is trial 74 with value: 2.3551790644414723.\n"
     ]
    },
    {
     "name": "stdout",
     "output_type": "stream",
     "text": [
      "\n",
      "--- Trial 87 ---\n",
      "Params: {'booster': 'gbtree', 'objective': 'reg:squarederror', 'eval_metric': 'rmse', 'tree_method': 'hist', 'device': 'cuda', 'learning_rate': 0.02689328844313453, 'max_depth': 22, 'subsample': 0.8868039351567943, 'gamma': 0.2038366823762028, 'colsample_bytree': 0.5321522117283141, 'lambda': 2.386201209091631, 'alpha': 11.916338913104816}\n",
      "Accuracy: 0.8750\n",
      "Total Matches: 14, Total Mismatches: 2\n",
      "Objective Score: 2.3330\n"
     ]
    },
    {
     "name": "stderr",
     "output_type": "stream",
     "text": [
      "[18:22:05] WARNING: /home/conda/feedstock_root/build_artifacts/xgboost-split_1707159369174/work/src/c_api/c_api.cc:1240: Saving into deprecated binary model format, please consider using `json` or `ubj`. Model format will default to JSON in XGBoost 2.2 if not specified.\n",
      "[I 2025-03-12 18:22:08,723] Trial 88 finished with value: 1.8302823905833066 and parameters: {'learning_rate': 0.0304157655299194, 'max_depth': 20, 'subsample': 0.9225741518457273, 'gamma': 0.36392298716821114, 'colsample_bytree': 0.8360543360316239, 'lambda': 3.038823933329808, 'alpha': 10.605674358320352}. Best is trial 74 with value: 2.3551790644414723.\n"
     ]
    },
    {
     "name": "stdout",
     "output_type": "stream",
     "text": [
      "\n",
      "--- Trial 88 ---\n",
      "Params: {'booster': 'gbtree', 'objective': 'reg:squarederror', 'eval_metric': 'rmse', 'tree_method': 'hist', 'device': 'cuda', 'learning_rate': 0.0304157655299194, 'max_depth': 20, 'subsample': 0.9225741518457273, 'gamma': 0.36392298716821114, 'colsample_bytree': 0.8360543360316239, 'lambda': 3.038823933329808, 'alpha': 10.605674358320352}\n",
      "Accuracy: 0.7500\n",
      "Total Matches: 12, Total Mismatches: 4\n",
      "Objective Score: 1.8303\n"
     ]
    },
    {
     "name": "stderr",
     "output_type": "stream",
     "text": [
      "[18:22:16] WARNING: /home/conda/feedstock_root/build_artifacts/xgboost-split_1707159369174/work/src/c_api/c_api.cc:1240: Saving into deprecated binary model format, please consider using `json` or `ubj`. Model format will default to JSON in XGBoost 2.2 if not specified.\n",
      "[I 2025-03-12 18:22:18,746] Trial 89 finished with value: 2.259741846472025 and parameters: {'learning_rate': 0.020363771379013684, 'max_depth': 19, 'subsample': 0.8790676052769216, 'gamma': 0.3419925669291893, 'colsample_bytree': 0.5732009001970659, 'lambda': 0.9639195720608505, 'alpha': 11.253371255871995}. Best is trial 74 with value: 2.3551790644414723.\n"
     ]
    },
    {
     "name": "stdout",
     "output_type": "stream",
     "text": [
      "\n",
      "--- Trial 89 ---\n",
      "Params: {'booster': 'gbtree', 'objective': 'reg:squarederror', 'eval_metric': 'rmse', 'tree_method': 'hist', 'device': 'cuda', 'learning_rate': 0.020363771379013684, 'max_depth': 19, 'subsample': 0.8790676052769216, 'gamma': 0.3419925669291893, 'colsample_bytree': 0.5732009001970659, 'lambda': 0.9639195720608505, 'alpha': 11.253371255871995}\n",
      "Accuracy: 0.8750\n",
      "Total Matches: 14, Total Mismatches: 2\n",
      "Objective Score: 2.2597\n"
     ]
    },
    {
     "name": "stderr",
     "output_type": "stream",
     "text": [
      "[18:22:23] WARNING: /home/conda/feedstock_root/build_artifacts/xgboost-split_1707159369174/work/src/c_api/c_api.cc:1240: Saving into deprecated binary model format, please consider using `json` or `ubj`. Model format will default to JSON in XGBoost 2.2 if not specified.\n",
      "[I 2025-03-12 18:22:25,130] Trial 90 finished with value: 2.327334883273579 and parameters: {'learning_rate': 0.022376624667385075, 'max_depth': 18, 'subsample': 0.9393919877736041, 'gamma': 0.23174534645103068, 'colsample_bytree': 0.5333645672179457, 'lambda': 0.08264520115153062, 'alpha': 12.719573615520908}. Best is trial 74 with value: 2.3551790644414723.\n"
     ]
    },
    {
     "name": "stdout",
     "output_type": "stream",
     "text": [
      "\n",
      "--- Trial 90 ---\n",
      "Params: {'booster': 'gbtree', 'objective': 'reg:squarederror', 'eval_metric': 'rmse', 'tree_method': 'hist', 'device': 'cuda', 'learning_rate': 0.022376624667385075, 'max_depth': 18, 'subsample': 0.9393919877736041, 'gamma': 0.23174534645103068, 'colsample_bytree': 0.5333645672179457, 'lambda': 0.08264520115153062, 'alpha': 12.719573615520908}\n",
      "Accuracy: 0.8750\n",
      "Total Matches: 14, Total Mismatches: 2\n",
      "Objective Score: 2.3273\n"
     ]
    },
    {
     "name": "stderr",
     "output_type": "stream",
     "text": [
      "[18:22:32] WARNING: /home/conda/feedstock_root/build_artifacts/xgboost-split_1707159369174/work/src/c_api/c_api.cc:1240: Saving into deprecated binary model format, please consider using `json` or `ubj`. Model format will default to JSON in XGBoost 2.2 if not specified.\n",
      "[I 2025-03-12 18:22:35,034] Trial 91 finished with value: 2.3526062892051414 and parameters: {'learning_rate': 0.03314837751399455, 'max_depth': 21, 'subsample': 0.9994386586651806, 'gamma': 0.2804231856223175, 'colsample_bytree': 0.5123948031507137, 'lambda': 1.5113807792630702, 'alpha': 11.45492884245191}. Best is trial 74 with value: 2.3551790644414723.\n"
     ]
    },
    {
     "name": "stdout",
     "output_type": "stream",
     "text": [
      "\n",
      "--- Trial 91 ---\n",
      "Params: {'booster': 'gbtree', 'objective': 'reg:squarederror', 'eval_metric': 'rmse', 'tree_method': 'hist', 'device': 'cuda', 'learning_rate': 0.03314837751399455, 'max_depth': 21, 'subsample': 0.9994386586651806, 'gamma': 0.2804231856223175, 'colsample_bytree': 0.5123948031507137, 'lambda': 1.5113807792630702, 'alpha': 11.45492884245191}\n",
      "Accuracy: 0.8750\n",
      "Total Matches: 14, Total Mismatches: 2\n",
      "Objective Score: 2.3526\n"
     ]
    },
    {
     "name": "stderr",
     "output_type": "stream",
     "text": [
      "[18:22:42] WARNING: /home/conda/feedstock_root/build_artifacts/xgboost-split_1707159369174/work/src/c_api/c_api.cc:1240: Saving into deprecated binary model format, please consider using `json` or `ubj`. Model format will default to JSON in XGBoost 2.2 if not specified.\n",
      "[I 2025-03-12 18:22:44,404] Trial 92 finished with value: 2.3348620606557233 and parameters: {'learning_rate': 0.034777076353463346, 'max_depth': 21, 'subsample': 0.9778402756504653, 'gamma': 0.2888551381118586, 'colsample_bytree': 0.5099743627553501, 'lambda': 2.2449716888250237, 'alpha': 11.71498938790498}. Best is trial 74 with value: 2.3551790644414723.\n"
     ]
    },
    {
     "name": "stdout",
     "output_type": "stream",
     "text": [
      "\n",
      "--- Trial 92 ---\n",
      "Params: {'booster': 'gbtree', 'objective': 'reg:squarederror', 'eval_metric': 'rmse', 'tree_method': 'hist', 'device': 'cuda', 'learning_rate': 0.034777076353463346, 'max_depth': 21, 'subsample': 0.9778402756504653, 'gamma': 0.2888551381118586, 'colsample_bytree': 0.5099743627553501, 'lambda': 2.2449716888250237, 'alpha': 11.71498938790498}\n",
      "Accuracy: 0.8750\n",
      "Total Matches: 14, Total Mismatches: 2\n",
      "Objective Score: 2.3349\n"
     ]
    },
    {
     "name": "stderr",
     "output_type": "stream",
     "text": [
      "[18:22:50] WARNING: /home/conda/feedstock_root/build_artifacts/xgboost-split_1707159369174/work/src/c_api/c_api.cc:1240: Saving into deprecated binary model format, please consider using `json` or `ubj`. Model format will default to JSON in XGBoost 2.2 if not specified.\n",
      "[I 2025-03-12 18:22:52,689] Trial 93 finished with value: 2.1751949580793735 and parameters: {'learning_rate': 0.032920413618825764, 'max_depth': 22, 'subsample': 0.5638445911457205, 'gamma': 0.18033337733486438, 'colsample_bytree': 0.5568564450115572, 'lambda': 0.7514750898224016, 'alpha': 10.830361785320367}. Best is trial 74 with value: 2.3551790644414723.\n"
     ]
    },
    {
     "name": "stdout",
     "output_type": "stream",
     "text": [
      "\n",
      "--- Trial 93 ---\n",
      "Params: {'booster': 'gbtree', 'objective': 'reg:squarederror', 'eval_metric': 'rmse', 'tree_method': 'hist', 'device': 'cuda', 'learning_rate': 0.032920413618825764, 'max_depth': 22, 'subsample': 0.5638445911457205, 'gamma': 0.18033337733486438, 'colsample_bytree': 0.5568564450115572, 'lambda': 0.7514750898224016, 'alpha': 10.830361785320367}\n",
      "Accuracy: 0.7500\n",
      "Total Matches: 12, Total Mismatches: 4\n",
      "Objective Score: 2.1752\n"
     ]
    },
    {
     "name": "stderr",
     "output_type": "stream",
     "text": [
      "[18:22:58] WARNING: /home/conda/feedstock_root/build_artifacts/xgboost-split_1707159369174/work/src/c_api/c_api.cc:1240: Saving into deprecated binary model format, please consider using `json` or `ubj`. Model format will default to JSON in XGBoost 2.2 if not specified.\n",
      "[I 2025-03-12 18:23:00,311] Trial 94 finished with value: 2.2450212565017864 and parameters: {'learning_rate': 0.036356553406285894, 'max_depth': 20, 'subsample': 0.999880999939853, 'gamma': 0.3151726145353527, 'colsample_bytree': 0.5008377754889871, 'lambda': 1.5007805422630716, 'alpha': 13.630873807826305}. Best is trial 74 with value: 2.3551790644414723.\n"
     ]
    },
    {
     "name": "stdout",
     "output_type": "stream",
     "text": [
      "\n",
      "--- Trial 94 ---\n",
      "Params: {'booster': 'gbtree', 'objective': 'reg:squarederror', 'eval_metric': 'rmse', 'tree_method': 'hist', 'device': 'cuda', 'learning_rate': 0.036356553406285894, 'max_depth': 20, 'subsample': 0.999880999939853, 'gamma': 0.3151726145353527, 'colsample_bytree': 0.5008377754889871, 'lambda': 1.5007805422630716, 'alpha': 13.630873807826305}\n",
      "Accuracy: 0.8125\n",
      "Total Matches: 13, Total Mismatches: 3\n",
      "Objective Score: 2.2450\n"
     ]
    },
    {
     "name": "stderr",
     "output_type": "stream",
     "text": [
      "[18:23:08] WARNING: /home/conda/feedstock_root/build_artifacts/xgboost-split_1707159369174/work/src/c_api/c_api.cc:1240: Saving into deprecated binary model format, please consider using `json` or `ubj`. Model format will default to JSON in XGBoost 2.2 if not specified.\n",
      "[I 2025-03-12 18:23:10,702] Trial 95 finished with value: 2.339512304577511 and parameters: {'learning_rate': 0.024638728290838248, 'max_depth': 23, 'subsample': 0.9573902883470872, 'gamma': 0.2560830856776025, 'colsample_bytree': 0.5237573666462747, 'lambda': 1.7002896497594298, 'alpha': 12.396170969025954}. Best is trial 74 with value: 2.3551790644414723.\n"
     ]
    },
    {
     "name": "stdout",
     "output_type": "stream",
     "text": [
      "\n",
      "--- Trial 95 ---\n",
      "Params: {'booster': 'gbtree', 'objective': 'reg:squarederror', 'eval_metric': 'rmse', 'tree_method': 'hist', 'device': 'cuda', 'learning_rate': 0.024638728290838248, 'max_depth': 23, 'subsample': 0.9573902883470872, 'gamma': 0.2560830856776025, 'colsample_bytree': 0.5237573666462747, 'lambda': 1.7002896497594298, 'alpha': 12.396170969025954}\n",
      "Accuracy: 0.8750\n",
      "Total Matches: 14, Total Mismatches: 2\n",
      "Objective Score: 2.3395\n"
     ]
    },
    {
     "name": "stderr",
     "output_type": "stream",
     "text": [
      "[18:23:18] WARNING: /home/conda/feedstock_root/build_artifacts/xgboost-split_1707159369174/work/src/c_api/c_api.cc:1240: Saving into deprecated binary model format, please consider using `json` or `ubj`. Model format will default to JSON in XGBoost 2.2 if not specified.\n",
      "[I 2025-03-12 18:23:20,693] Trial 96 finished with value: 2.347654744866304 and parameters: {'learning_rate': 0.02918322688677325, 'max_depth': 21, 'subsample': 0.9305749664680562, 'gamma': 0.22584809746592216, 'colsample_bytree': 0.5361747654835667, 'lambda': 2.8016123296585143, 'alpha': 10.046333189964198}. Best is trial 74 with value: 2.3551790644414723.\n"
     ]
    },
    {
     "name": "stdout",
     "output_type": "stream",
     "text": [
      "\n",
      "--- Trial 96 ---\n",
      "Params: {'booster': 'gbtree', 'objective': 'reg:squarederror', 'eval_metric': 'rmse', 'tree_method': 'hist', 'device': 'cuda', 'learning_rate': 0.02918322688677325, 'max_depth': 21, 'subsample': 0.9305749664680562, 'gamma': 0.22584809746592216, 'colsample_bytree': 0.5361747654835667, 'lambda': 2.8016123296585143, 'alpha': 10.046333189964198}\n",
      "Accuracy: 0.8750\n",
      "Total Matches: 14, Total Mismatches: 2\n",
      "Objective Score: 2.3477\n"
     ]
    },
    {
     "name": "stderr",
     "output_type": "stream",
     "text": [
      "[18:23:29] WARNING: /home/conda/feedstock_root/build_artifacts/xgboost-split_1707159369174/work/src/c_api/c_api.cc:1240: Saving into deprecated binary model format, please consider using `json` or `ubj`. Model format will default to JSON in XGBoost 2.2 if not specified.\n",
      "[I 2025-03-12 18:23:31,348] Trial 97 finished with value: 2.3026193132973276 and parameters: {'learning_rate': 0.030411921647391336, 'max_depth': 21, 'subsample': 0.9520902468876217, 'gamma': 0.21987578478949363, 'colsample_bytree': 0.5515985004133551, 'lambda': 2.696123273412341, 'alpha': 9.97382343577853}. Best is trial 74 with value: 2.3551790644414723.\n"
     ]
    },
    {
     "name": "stdout",
     "output_type": "stream",
     "text": [
      "\n",
      "--- Trial 97 ---\n",
      "Params: {'booster': 'gbtree', 'objective': 'reg:squarederror', 'eval_metric': 'rmse', 'tree_method': 'hist', 'device': 'cuda', 'learning_rate': 0.030411921647391336, 'max_depth': 21, 'subsample': 0.9520902468876217, 'gamma': 0.21987578478949363, 'colsample_bytree': 0.5515985004133551, 'lambda': 2.696123273412341, 'alpha': 9.97382343577853}\n",
      "Accuracy: 0.8750\n",
      "Total Matches: 14, Total Mismatches: 2\n",
      "Objective Score: 2.3026\n"
     ]
    },
    {
     "name": "stderr",
     "output_type": "stream",
     "text": [
      "[18:23:41] WARNING: /home/conda/feedstock_root/build_artifacts/xgboost-split_1707159369174/work/src/c_api/c_api.cc:1240: Saving into deprecated binary model format, please consider using `json` or `ubj`. Model format will default to JSON in XGBoost 2.2 if not specified.\n",
      "[I 2025-03-12 18:23:44,162] Trial 98 finished with value: 2.3507472365163267 and parameters: {'learning_rate': 0.026947987948252487, 'max_depth': 21, 'subsample': 0.9163018617859224, 'gamma': 0.2940457357149802, 'colsample_bytree': 0.5356067651772336, 'lambda': 0.3528650724606863, 'alpha': 7.940071144651425}. Best is trial 74 with value: 2.3551790644414723.\n"
     ]
    },
    {
     "name": "stdout",
     "output_type": "stream",
     "text": [
      "\n",
      "--- Trial 98 ---\n",
      "Params: {'booster': 'gbtree', 'objective': 'reg:squarederror', 'eval_metric': 'rmse', 'tree_method': 'hist', 'device': 'cuda', 'learning_rate': 0.026947987948252487, 'max_depth': 21, 'subsample': 0.9163018617859224, 'gamma': 0.2940457357149802, 'colsample_bytree': 0.5356067651772336, 'lambda': 0.3528650724606863, 'alpha': 7.940071144651425}\n",
      "Accuracy: 0.8750\n",
      "Total Matches: 14, Total Mismatches: 2\n",
      "Objective Score: 2.3507\n"
     ]
    },
    {
     "name": "stderr",
     "output_type": "stream",
     "text": [
      "[18:23:50] WARNING: /home/conda/feedstock_root/build_artifacts/xgboost-split_1707159369174/work/src/c_api/c_api.cc:1240: Saving into deprecated binary model format, please consider using `json` or `ubj`. Model format will default to JSON in XGBoost 2.2 if not specified.\n",
      "[I 2025-03-12 18:23:53,401] Trial 99 finished with value: 2.08930490212515 and parameters: {'learning_rate': 0.042636306803579396, 'max_depth': 21, 'subsample': 0.7091829650744815, 'gamma': 0.29679140354986194, 'colsample_bytree': 0.5733902331166507, 'lambda': 0.29701753499797756, 'alpha': 7.139605281593096}. Best is trial 74 with value: 2.3551790644414723.\n"
     ]
    },
    {
     "name": "stdout",
     "output_type": "stream",
     "text": [
      "\n",
      "--- Trial 99 ---\n",
      "Params: {'booster': 'gbtree', 'objective': 'reg:squarederror', 'eval_metric': 'rmse', 'tree_method': 'hist', 'device': 'cuda', 'learning_rate': 0.042636306803579396, 'max_depth': 21, 'subsample': 0.7091829650744815, 'gamma': 0.29679140354986194, 'colsample_bytree': 0.5733902331166507, 'lambda': 0.29701753499797756, 'alpha': 7.139605281593096}\n",
      "Accuracy: 0.7500\n",
      "Total Matches: 12, Total Mismatches: 4\n",
      "Objective Score: 2.0893\n",
      "Best parameters: {'learning_rate': 0.025676353387498563, 'max_depth': 17, 'subsample': 0.9917062302935468, 'gamma': 0.1692202071340728, 'colsample_bytree': 0.5089421534430815, 'lambda': 1.386350901902838, 'alpha': 12.06874097935106}\n",
      "Best RMSE: 2.3551790644414723\n"
     ]
    }
   ],
   "source": [
    "def objective(trial):\n",
    "    # Define the hyperparameters to tune\n",
    "    params = {\n",
    "        'booster': 'gbtree',\n",
    "        'objective': 'reg:squarederror',\n",
    "        'eval_metric': 'rmse',\n",
    "        'tree_method': 'hist',\n",
    "        'device': 'cuda',\n",
    "        'learning_rate': trial.suggest_float(\"learning_rate\", 0.001, 0.05),\n",
    "        'max_depth': trial.suggest_int(\"max_depth\", 10, 30),\n",
    "        'subsample': trial.suggest_float(\"subsample\", 0.4, 1.0),\n",
    "        'gamma': trial.suggest_float(\"gamma\", 0.0, 1.0),\n",
    "        'colsample_bytree': trial.suggest_float(\"colsample_bytree\", 0.5, 1.0),\n",
    "        'lambda': trial.suggest_float(\"lambda\", 1e-3, 15),\n",
    "        'alpha': trial.suggest_float(\"alpha\", 1e-3, 15),\n",
    "    }\n",
    "\n",
    "    # Prepare the DMatrix\n",
    "    dtrain = xgb.DMatrix(X_train, label=y_train)\n",
    "    dvalid = xgb.DMatrix(X_test, label=y_test)\n",
    "\n",
    "    # Train the model\n",
    "    model = xgb.train(params, dtrain, num_boost_round=100, \n",
    "                      evals=[(dvalid, 'validation')],\n",
    "                      early_stopping_rounds=10, \n",
    "                      verbose_eval=False)\n",
    "\n",
    "    # Predict on validation data\n",
    "    explainer = shap.TreeExplainer(model)\n",
    "    shap_values = explainer.shap_values(X_test)\n",
    "\n",
    "\n",
    "    analyzer = SHAPAnalyzer(X_test, shap_values, function_map)\n",
    "\n",
    "    analyzer.calculate_high_value_shap_means()\n",
    "\n",
    "    results_df, total_score, result_summary = analyzer.get_results()\n",
    "\n",
    "    total_mismatches = result_summary.get(\"Mismatch\", 0)\n",
    "    total_matches = result_summary.get(\"Match\", 0)\n",
    "    accuracy = total_matches / (total_matches + total_mismatches) if (total_matches + total_mismatches) > 0 else 0\n",
    "\n",
    "    # Define the objective score\n",
    "    alpha = 1.0  # Weight for accuracy\n",
    "    beta = 1.0   # Weight for mismatch count\n",
    "    objective_score = alpha * accuracy + beta * total_score\n",
    "    \n",
    "    trial.set_user_attr(\"result_summary\", result_summary)\n",
    "    trial.set_user_attr(\"results_df\", results_df)\n",
    "\n",
    "    print(f\"\\n--- Trial {trial.number} ---\")\n",
    "    print(f\"Params: {params}\")\n",
    "    print(f\"Accuracy: {accuracy:.4f}\")\n",
    "    print(f\"Total Matches: {total_matches}, Total Mismatches: {total_mismatches}\")\n",
    "    print(f\"Objective Score: {objective_score:.4f}\")\n",
    "\n",
    "    return objective_score\n",
    "\n",
    "# Create a study object and optimize\n",
    "study = optuna.create_study(direction='maximize')\n",
    "study.optimize(objective, n_trials=100)\n",
    "\n",
    "# Output the best parameters\n",
    "print(\"Best parameters:\", study.best_params)\n",
    "print(\"Best RMSE:\", study.best_value)"
   ]
  },
  {
   "cell_type": "code",
   "execution_count": null,
   "metadata": {},
   "outputs": [
    {
     "ename": "NameError",
     "evalue": "name 'analyzer' is not defined",
     "output_type": "error",
     "traceback": [
      "\u001b[0;31m---------------------------------------------------------------------------\u001b[0m",
      "\u001b[0;31mNameError\u001b[0m                                 Traceback (most recent call last)",
      "Cell \u001b[0;32mIn[3], line 1\u001b[0m\n\u001b[0;32m----> 1\u001b[0m \u001b[43manalyzer\u001b[49m\u001b[38;5;241m.\u001b[39mget_results()\n",
      "\u001b[0;31mNameError\u001b[0m: name 'analyzer' is not defined"
     ]
    }
   ],
   "source": []
  }
 ],
 "metadata": {
  "kernelspec": {
   "display_name": "rapids-24.04",
   "language": "python",
   "name": "python3"
  },
  "language_info": {
   "codemirror_mode": {
    "name": "ipython",
    "version": 3
   },
   "file_extension": ".py",
   "mimetype": "text/x-python",
   "name": "python",
   "nbconvert_exporter": "python",
   "pygments_lexer": "ipython3",
   "version": "3.11.9"
  }
 },
 "nbformat": 4,
 "nbformat_minor": 2
}
