{
 "cells": [
  {
   "cell_type": "code",
   "execution_count": 9,
   "metadata": {},
   "outputs": [],
   "source": [
    "import xgboost as xgb\n",
    "import shap\n",
    "import pandas as pd\n",
    "import numpy as np\n",
    "from sklearn.model_selection import train_test_split\n",
    "from sklearn.metrics import root_mean_squared_error as rmse\n",
    "from shap_analysis import SHAPAnalyzer, function_map\n",
    "import optuna"
   ]
  },
  {
   "cell_type": "code",
   "execution_count": 2,
   "metadata": {},
   "outputs": [],
   "source": [
    "df = pd.read_csv(\"thesis_cleaned_transformed_histone_dataset_categorical(H3K23me1).tsv\", sep=\"\\t\")\n",
    "\n",
    "X = df.drop(columns = ['Gene Expression (FPKM)_log'])\n",
    "y = df['Gene Expression (FPKM)_log']\n",
    "\n",
    "X_train, X_test, y_train, y_test = train_test_split(X, y, test_size=0.2, random_state=42)"
   ]
  },
  {
   "cell_type": "code",
   "execution_count": 3,
   "metadata": {},
   "outputs": [],
   "source": [
    "def evaluate_model(X_train, X_test, y_train, y_test, params=None, optuna_study=None):\n",
    "    \"\"\"\n",
    "    Evaluate the model either using the provided parameters or the Optuna study's best trial.\n",
    "    \n",
    "    Parameters:\n",
    "    - X_train (pd.DataFrame): Training feature data.\n",
    "    - X_test (pd.DataFrame): Test feature data.\n",
    "    - y_train (pd.Series): Training target data.\n",
    "    - y_test (pd.Series): Test target data.\n",
    "    - params (dict): Parameters for the XGBoost model. If None, use `optuna_study`.\n",
    "    - optuna_study (optuna.Study): Optuna study object containing the best trial.\n",
    "    \n",
    "    Returns:\n",
    "    - model: Trained XGBoost model.\n",
    "    - total_score (float): The evaluation score based on SHAP analysis.\n",
    "    - result_summary (dict): Summary of matches and mismatches.\n",
    "    - results_df (pd.DataFrame): Detailed SHAP results for features.\n",
    "    \"\"\"\n",
    "    # Determine parameters: Use the best trial from Optuna if no parameters are provided\n",
    "    if optuna_study is not None and params is None:\n",
    "        params = optuna_study.best_trial.params\n",
    "        params.update({\n",
    "            'booster': 'gbtree',\n",
    "            'objective': 'reg:squarederror',\n",
    "            'eval_metric': 'rmse',\n",
    "            'tree_method': 'hist',\n",
    "            'device': 'cuda'\n",
    "        })\n",
    "\n",
    "    # Prepare the data\n",
    "    dtrain = xgb.DMatrix(X_train, label=y_train)\n",
    "    dtest = xgb.DMatrix(X_test, label=y_test)\n",
    "\n",
    "    # Train the model\n",
    "    model = xgb.train(\n",
    "        params, \n",
    "        dtrain, \n",
    "        num_boost_round=100, \n",
    "        evals=[(dtest, 'validation')],\n",
    "        early_stopping_rounds=10, \n",
    "        verbose_eval=False\n",
    "    )\n",
    "\n",
    "    # SHAP analysis\n",
    "    background_indices = np.random.choice(X_train.shape[0], size=200, replace=False)\n",
    "    background_sample = X_train.iloc[background_indices]\n",
    "\n",
    "    sample_indices = np.random.choice(X_test.shape[0], size=200, replace=False)\n",
    "    sample = X_test.iloc[sample_indices]\n",
    "\n",
    "    explainer = shap.TreeExplainer(model)\n",
    "    shap_values = explainer.shap_values(X_test)\n",
    "\n",
    "    # Use the SHAPAnalyzer to calculate metrics\n",
    "    analyzer = SHAPAnalyzer(X_test, shap_values, function_map)\n",
    "    analyzer.calculate_high_value_shap_means()\n",
    "\n",
    "    results_df, total_score, result_summary = analyzer.get_results()\n",
    "\n",
    "    print(f\"Results Summary: {result_summary}\")\n",
    "\n",
    "    return model, total_score, result_summary, results_df\n"
   ]
  },
  {
   "cell_type": "code",
   "execution_count": 4,
   "metadata": {},
   "outputs": [],
   "source": [
    "def feature_selection(X_train, X_test, y_train, y_test):\n",
    "    remaining_features = X_train.columns.tolist()\n",
    "    selected_features = []\n",
    "\n",
    "    while remaining_features:\n",
    "        print(f\"Remaining Features: {remaining_features}\")\n",
    "        reduced_X_train = X_train[remaining_features]\n",
    "        reduced_X_test = X_test[remaining_features]\n",
    "\n",
    "        model, total_score, result_summary, results_df = evaluate_model(\n",
    "            reduced_X_train, reduced_X_test, y_train, y_test\n",
    "            )\n",
    "\n",
    "        mismatch_features = results_df[results_df[\"Result\"] == \"Mismatch\"]\n",
    "        \n",
    "        if mismatch_features.empty:\n",
    "            selected_features = remaining_features\n",
    "            break\n",
    "\n",
    "        mismatch_to_remove = mismatch_features.sort_values(\n",
    "            by = \"Mean SHAP Value (High)\", ascending = False\n",
    "        ).iloc[0]['Features']\n",
    "\n",
    "        print(f\"Removing mismatch feature: {mismatch_to_remove}\")\n",
    "\n",
    "        remaining_features.remove(mismatch_to_remove)\n",
    "\n",
    "    return selected_features"
   ]
  },
  {
   "cell_type": "code",
   "execution_count": 6,
   "metadata": {},
   "outputs": [],
   "source": [
    "def feature_selection_with_optuna(X_train, X_test, y_train, y_test, function_map):\n",
    "    remaining_features = X_train.columns.tolist()\n",
    "    selected_features = []\n",
    "\n",
    "    def optuna_objective(trial, X_train, X_test, y_train, y_test):\n",
    "        params = {\n",
    "            'booster': 'gbtree',\n",
    "            'objective': 'reg:squarederror',\n",
    "            'eval_metric': 'rmse',\n",
    "            'tree_method': 'hist',\n",
    "            'device': 'cuda',\n",
    "            'learning_rate': trial.suggest_float(\"learning_rate\", 0.001, 0.05),\n",
    "            'max_depth': trial.suggest_int(\"max_depth\", 10, 30),\n",
    "            'subsample': trial.suggest_float(\"subsample\", 0.4, 1.0),\n",
    "            'gamma': trial.suggest_float(\"gamma\", 0.0, 1.0),\n",
    "            'colsample_bytree': trial.suggest_float(\"colsample_bytree\", 0.5, 1.0),\n",
    "            'lambda': trial.suggest_float(\"lambda\", 1e-3, 15),\n",
    "            'alpha': trial.suggest_float(\"alpha\", 1e-3, 15),\n",
    "    }\n",
    "\n",
    "        dtrain = xgb.DMatrix(X_train, label=y_train)\n",
    "        dvalid = xgb.DMatrix(X_test, label=y_test)\n",
    "\n",
    "        model = xgb.train(params, dtrain, num_boost_round=100,\n",
    "                          evals=[(dvalid, 'validation')],\n",
    "                          early_stopping_rounds=10,\n",
    "                          verbose_eval=False)\n",
    "\n",
    "        explainer = shap.TreeExplainer(model)\n",
    "        shap_values = explainer.shap_values(X_test)\n",
    "\n",
    "        analyzer = SHAPAnalyzer(X_test, shap_values, function_map)\n",
    "        analyzer.calculate_high_value_shap_means()\n",
    "\n",
    "        results_df, total_score, result_summary = analyzer.get_results()\n",
    "        total_mismatches = result_summary.get(\"Mismatch\", 0)\n",
    "        total_matches = result_summary.get(\"Match\", 0)\n",
    "        accuracy = total_matches / (total_matches + total_mismatches) if (total_matches + total_mismatches) > 0 else 0\n",
    "\n",
    "        preds = model.predict(dvalid)\n",
    "        rmse_score = rmse(y_test, preds)\n",
    "\n",
    "        # Define the objective score\n",
    "        alpha = 1.0  # Weight for accuracy\n",
    "        beta = 0.1   # Weight for rmse_score to penalize\n",
    "        objective_score = alpha * accuracy - beta * rmse_score\n",
    "        \n",
    "        trial.set_user_attr(\"result_summary\", result_summary)\n",
    "        trial.set_user_attr(\"results_df\", results_df)\n",
    "        \n",
    "        return objective_score\n",
    "\n",
    "    while remaining_features:\n",
    "        print(f\"Remaining Features: {remaining_features}\")\n",
    "        \n",
    "        # Run Optuna for the current subset of features\n",
    "        study = optuna.create_study(direction='maximize')\n",
    "        study.optimize(lambda trial: optuna_objective(trial, \n",
    "                                                      X_train[remaining_features], \n",
    "                                                      X_test[remaining_features], \n",
    "                                                      y_train, y_test), \n",
    "                       n_trials=40)\n",
    "        \n",
    "        best_params = study.best_params\n",
    "        print(f\"Best Parameters: {best_params}\")\n",
    "\n",
    "        # Evaluate model with the current subset\n",
    "        reduced_X_train = X_train[remaining_features]\n",
    "        reduced_X_test = X_test[remaining_features]\n",
    "\n",
    "        model, total_score, result_summary, results_df = evaluate_model(\n",
    "            reduced_X_train, reduced_X_test, y_train, y_test, optuna_study=study\n",
    ")\n",
    "\n",
    "        mismatch_features = results_df[results_df[\"Result\"] == \"Mismatch\"]\n",
    "\n",
    "        if mismatch_features.empty:\n",
    "            selected_features = remaining_features\n",
    "            break\n",
    "\n",
    "        # Sort mismatching features and remove the highest impact one\n",
    "        mismatch_to_remove = mismatch_features.sort_values(\n",
    "            by=\"Mean SHAP Value (High)\", ascending=False\n",
    "        ).iloc[0][\"Features\"]\n",
    "\n",
    "        print(f\"Removing mismatch feature: {mismatch_to_remove}\")\n",
    "        remaining_features.remove(mismatch_to_remove)\n",
    "\n",
    "    return selected_features, study\n"
   ]
  },
  {
   "cell_type": "code",
   "execution_count": 11,
   "metadata": {},
   "outputs": [
    {
     "name": "stdout",
     "output_type": "stream",
     "text": [
      "\n",
      "--- Performing LOO for feature H3K4me1 ---\n",
      "\n",
      "Remaining Features: ['H2A.2', 'H2A.13', 'H3K4me3', 'H3K36me3', 'H4K5Ac', 'H2A.Z.11', 'expression_category', 'H3K27me3_log', 'H3K9Ac_log', 'cpg_percentage_log', 'H3K9K14Ac_log', 'H3Ac_log', 'chh_percentage_log', 'H4K20me1_log', 'chg_percentage_log', 'H2A.W.7_log', 'H3K9me1_log', 'H2A.W.6_log', 'H2A.Z.9_log', 'H3K23me1_log', 'H3K9me2_log']\n"
     ]
    },
    {
     "name": "stderr",
     "output_type": "stream",
     "text": [
      "[03:31:34] WARNING: /home/conda/feedstock_root/build_artifacts/xgboost-split_1707159369174/work/src/c_api/c_api.cc:1240: Saving into deprecated binary model format, please consider using `json` or `ubj`. Model format will default to JSON in XGBoost 2.2 if not specified.\n",
      "[03:31:38] WARNING: /home/conda/feedstock_root/build_artifacts/xgboost-split_1707159369174/work/src/c_api/c_api.cc:1240: Saving into deprecated binary model format, please consider using `json` or `ubj`. Model format will default to JSON in XGBoost 2.2 if not specified.\n",
      "[03:31:40] WARNING: /home/conda/feedstock_root/build_artifacts/xgboost-split_1707159369174/work/src/c_api/c_api.cc:1240: Saving into deprecated binary model format, please consider using `json` or `ubj`. Model format will default to JSON in XGBoost 2.2 if not specified.\n",
      "[03:31:47] WARNING: /home/conda/feedstock_root/build_artifacts/xgboost-split_1707159369174/work/src/c_api/c_api.cc:1240: Saving into deprecated binary model format, please consider using `json` or `ubj`. Model format will default to JSON in XGBoost 2.2 if not specified.\n",
      "[03:31:53] WARNING: /home/conda/feedstock_root/build_artifacts/xgboost-split_1707159369174/work/src/c_api/c_api.cc:1240: Saving into deprecated binary model format, please consider using `json` or `ubj`. Model format will default to JSON in XGBoost 2.2 if not specified.\n",
      "[03:31:56] WARNING: /home/conda/feedstock_root/build_artifacts/xgboost-split_1707159369174/work/src/c_api/c_api.cc:1240: Saving into deprecated binary model format, please consider using `json` or `ubj`. Model format will default to JSON in XGBoost 2.2 if not specified.\n",
      "[03:32:01] WARNING: /home/conda/feedstock_root/build_artifacts/xgboost-split_1707159369174/work/src/c_api/c_api.cc:1240: Saving into deprecated binary model format, please consider using `json` or `ubj`. Model format will default to JSON in XGBoost 2.2 if not specified.\n",
      "[03:32:13] WARNING: /home/conda/feedstock_root/build_artifacts/xgboost-split_1707159369174/work/src/c_api/c_api.cc:1240: Saving into deprecated binary model format, please consider using `json` or `ubj`. Model format will default to JSON in XGBoost 2.2 if not specified.\n",
      "[03:32:21] WARNING: /home/conda/feedstock_root/build_artifacts/xgboost-split_1707159369174/work/src/c_api/c_api.cc:1240: Saving into deprecated binary model format, please consider using `json` or `ubj`. Model format will default to JSON in XGBoost 2.2 if not specified.\n",
      "[03:32:26] WARNING: /home/conda/feedstock_root/build_artifacts/xgboost-split_1707159369174/work/src/c_api/c_api.cc:1240: Saving into deprecated binary model format, please consider using `json` or `ubj`. Model format will default to JSON in XGBoost 2.2 if not specified.\n",
      "[03:32:32] WARNING: /home/conda/feedstock_root/build_artifacts/xgboost-split_1707159369174/work/src/c_api/c_api.cc:1240: Saving into deprecated binary model format, please consider using `json` or `ubj`. Model format will default to JSON in XGBoost 2.2 if not specified.\n",
      "[03:32:37] WARNING: /home/conda/feedstock_root/build_artifacts/xgboost-split_1707159369174/work/src/c_api/c_api.cc:1240: Saving into deprecated binary model format, please consider using `json` or `ubj`. Model format will default to JSON in XGBoost 2.2 if not specified.\n",
      "[03:32:40] WARNING: /home/conda/feedstock_root/build_artifacts/xgboost-split_1707159369174/work/src/c_api/c_api.cc:1240: Saving into deprecated binary model format, please consider using `json` or `ubj`. Model format will default to JSON in XGBoost 2.2 if not specified.\n",
      "[03:32:41] WARNING: /home/conda/feedstock_root/build_artifacts/xgboost-split_1707159369174/work/src/c_api/c_api.cc:1240: Saving into deprecated binary model format, please consider using `json` or `ubj`. Model format will default to JSON in XGBoost 2.2 if not specified.\n",
      "[03:32:45] WARNING: /home/conda/feedstock_root/build_artifacts/xgboost-split_1707159369174/work/src/c_api/c_api.cc:1240: Saving into deprecated binary model format, please consider using `json` or `ubj`. Model format will default to JSON in XGBoost 2.2 if not specified.\n",
      "[03:32:49] WARNING: /home/conda/feedstock_root/build_artifacts/xgboost-split_1707159369174/work/src/c_api/c_api.cc:1240: Saving into deprecated binary model format, please consider using `json` or `ubj`. Model format will default to JSON in XGBoost 2.2 if not specified.\n",
      "[03:32:52] WARNING: /home/conda/feedstock_root/build_artifacts/xgboost-split_1707159369174/work/src/c_api/c_api.cc:1240: Saving into deprecated binary model format, please consider using `json` or `ubj`. Model format will default to JSON in XGBoost 2.2 if not specified.\n",
      "[03:32:57] WARNING: /home/conda/feedstock_root/build_artifacts/xgboost-split_1707159369174/work/src/c_api/c_api.cc:1240: Saving into deprecated binary model format, please consider using `json` or `ubj`. Model format will default to JSON in XGBoost 2.2 if not specified.\n",
      "[03:33:02] WARNING: /home/conda/feedstock_root/build_artifacts/xgboost-split_1707159369174/work/src/c_api/c_api.cc:1240: Saving into deprecated binary model format, please consider using `json` or `ubj`. Model format will default to JSON in XGBoost 2.2 if not specified.\n",
      "[03:33:06] WARNING: /home/conda/feedstock_root/build_artifacts/xgboost-split_1707159369174/work/src/c_api/c_api.cc:1240: Saving into deprecated binary model format, please consider using `json` or `ubj`. Model format will default to JSON in XGBoost 2.2 if not specified.\n",
      "[03:33:10] WARNING: /home/conda/feedstock_root/build_artifacts/xgboost-split_1707159369174/work/src/c_api/c_api.cc:1240: Saving into deprecated binary model format, please consider using `json` or `ubj`. Model format will default to JSON in XGBoost 2.2 if not specified.\n",
      "[03:33:14] WARNING: /home/conda/feedstock_root/build_artifacts/xgboost-split_1707159369174/work/src/c_api/c_api.cc:1240: Saving into deprecated binary model format, please consider using `json` or `ubj`. Model format will default to JSON in XGBoost 2.2 if not specified.\n",
      "[03:33:17] WARNING: /home/conda/feedstock_root/build_artifacts/xgboost-split_1707159369174/work/src/c_api/c_api.cc:1240: Saving into deprecated binary model format, please consider using `json` or `ubj`. Model format will default to JSON in XGBoost 2.2 if not specified.\n",
      "[03:33:22] WARNING: /home/conda/feedstock_root/build_artifacts/xgboost-split_1707159369174/work/src/c_api/c_api.cc:1240: Saving into deprecated binary model format, please consider using `json` or `ubj`. Model format will default to JSON in XGBoost 2.2 if not specified.\n",
      "[03:33:27] WARNING: /home/conda/feedstock_root/build_artifacts/xgboost-split_1707159369174/work/src/c_api/c_api.cc:1240: Saving into deprecated binary model format, please consider using `json` or `ubj`. Model format will default to JSON in XGBoost 2.2 if not specified.\n",
      "[03:33:32] WARNING: /home/conda/feedstock_root/build_artifacts/xgboost-split_1707159369174/work/src/c_api/c_api.cc:1240: Saving into deprecated binary model format, please consider using `json` or `ubj`. Model format will default to JSON in XGBoost 2.2 if not specified.\n",
      "[03:33:37] WARNING: /home/conda/feedstock_root/build_artifacts/xgboost-split_1707159369174/work/src/c_api/c_api.cc:1240: Saving into deprecated binary model format, please consider using `json` or `ubj`. Model format will default to JSON in XGBoost 2.2 if not specified.\n",
      "[03:33:45] WARNING: /home/conda/feedstock_root/build_artifacts/xgboost-split_1707159369174/work/src/c_api/c_api.cc:1240: Saving into deprecated binary model format, please consider using `json` or `ubj`. Model format will default to JSON in XGBoost 2.2 if not specified.\n",
      "[03:33:50] WARNING: /home/conda/feedstock_root/build_artifacts/xgboost-split_1707159369174/work/src/c_api/c_api.cc:1240: Saving into deprecated binary model format, please consider using `json` or `ubj`. Model format will default to JSON in XGBoost 2.2 if not specified.\n",
      "[03:33:54] WARNING: /home/conda/feedstock_root/build_artifacts/xgboost-split_1707159369174/work/src/c_api/c_api.cc:1240: Saving into deprecated binary model format, please consider using `json` or `ubj`. Model format will default to JSON in XGBoost 2.2 if not specified.\n",
      "[03:33:58] WARNING: /home/conda/feedstock_root/build_artifacts/xgboost-split_1707159369174/work/src/c_api/c_api.cc:1240: Saving into deprecated binary model format, please consider using `json` or `ubj`. Model format will default to JSON in XGBoost 2.2 if not specified.\n",
      "[03:34:03] WARNING: /home/conda/feedstock_root/build_artifacts/xgboost-split_1707159369174/work/src/c_api/c_api.cc:1240: Saving into deprecated binary model format, please consider using `json` or `ubj`. Model format will default to JSON in XGBoost 2.2 if not specified.\n",
      "[03:34:09] WARNING: /home/conda/feedstock_root/build_artifacts/xgboost-split_1707159369174/work/src/c_api/c_api.cc:1240: Saving into deprecated binary model format, please consider using `json` or `ubj`. Model format will default to JSON in XGBoost 2.2 if not specified.\n",
      "[03:34:14] WARNING: /home/conda/feedstock_root/build_artifacts/xgboost-split_1707159369174/work/src/c_api/c_api.cc:1240: Saving into deprecated binary model format, please consider using `json` or `ubj`. Model format will default to JSON in XGBoost 2.2 if not specified.\n",
      "[03:34:19] WARNING: /home/conda/feedstock_root/build_artifacts/xgboost-split_1707159369174/work/src/c_api/c_api.cc:1240: Saving into deprecated binary model format, please consider using `json` or `ubj`. Model format will default to JSON in XGBoost 2.2 if not specified.\n",
      "[03:34:24] WARNING: /home/conda/feedstock_root/build_artifacts/xgboost-split_1707159369174/work/src/c_api/c_api.cc:1240: Saving into deprecated binary model format, please consider using `json` or `ubj`. Model format will default to JSON in XGBoost 2.2 if not specified.\n",
      "[03:34:27] WARNING: /home/conda/feedstock_root/build_artifacts/xgboost-split_1707159369174/work/src/c_api/c_api.cc:1240: Saving into deprecated binary model format, please consider using `json` or `ubj`. Model format will default to JSON in XGBoost 2.2 if not specified.\n",
      "[03:34:30] WARNING: /home/conda/feedstock_root/build_artifacts/xgboost-split_1707159369174/work/src/c_api/c_api.cc:1240: Saving into deprecated binary model format, please consider using `json` or `ubj`. Model format will default to JSON in XGBoost 2.2 if not specified.\n",
      "[03:34:33] WARNING: /home/conda/feedstock_root/build_artifacts/xgboost-split_1707159369174/work/src/c_api/c_api.cc:1240: Saving into deprecated binary model format, please consider using `json` or `ubj`. Model format will default to JSON in XGBoost 2.2 if not specified.\n",
      "[03:34:35] WARNING: /home/conda/feedstock_root/build_artifacts/xgboost-split_1707159369174/work/src/c_api/c_api.cc:1240: Saving into deprecated binary model format, please consider using `json` or `ubj`. Model format will default to JSON in XGBoost 2.2 if not specified.\n"
     ]
    },
    {
     "name": "stdout",
     "output_type": "stream",
     "text": [
      "Best Parameters: {'learning_rate': 0.012236880496338871, 'max_depth': 28, 'subsample': 0.4745770184811099, 'gamma': 0.29292571020236186, 'colsample_bytree': 0.9377761977062267, 'lambda': 6.4842569520924815, 'alpha': 13.953882512056131}\n"
     ]
    },
    {
     "name": "stderr",
     "output_type": "stream",
     "text": [
      "[03:34:38] WARNING: /home/conda/feedstock_root/build_artifacts/xgboost-split_1707159369174/work/src/c_api/c_api.cc:1240: Saving into deprecated binary model format, please consider using `json` or `ubj`. Model format will default to JSON in XGBoost 2.2 if not specified.\n"
     ]
    },
    {
     "name": "stdout",
     "output_type": "stream",
     "text": [
      "Results Summary: {'Match': 14, 'Mismatch': 1, 'No Evaluation': 1}\n",
      "Removing mismatch feature: H4K5Ac\n",
      "Remaining Features: ['H2A.2', 'H2A.13', 'H3K4me3', 'H3K36me3', 'H2A.Z.11', 'expression_category', 'H3K27me3_log', 'H3K9Ac_log', 'cpg_percentage_log', 'H3K9K14Ac_log', 'H3Ac_log', 'chh_percentage_log', 'H4K20me1_log', 'chg_percentage_log', 'H2A.W.7_log', 'H3K9me1_log', 'H2A.W.6_log', 'H2A.Z.9_log', 'H3K23me1_log', 'H3K9me2_log']\n"
     ]
    },
    {
     "name": "stderr",
     "output_type": "stream",
     "text": [
      "[03:34:41] WARNING: /home/conda/feedstock_root/build_artifacts/xgboost-split_1707159369174/work/src/c_api/c_api.cc:1240: Saving into deprecated binary model format, please consider using `json` or `ubj`. Model format will default to JSON in XGBoost 2.2 if not specified.\n",
      "[03:34:48] WARNING: /home/conda/feedstock_root/build_artifacts/xgboost-split_1707159369174/work/src/c_api/c_api.cc:1240: Saving into deprecated binary model format, please consider using `json` or `ubj`. Model format will default to JSON in XGBoost 2.2 if not specified.\n",
      "[03:34:54] WARNING: /home/conda/feedstock_root/build_artifacts/xgboost-split_1707159369174/work/src/c_api/c_api.cc:1240: Saving into deprecated binary model format, please consider using `json` or `ubj`. Model format will default to JSON in XGBoost 2.2 if not specified.\n",
      "[03:35:00] WARNING: /home/conda/feedstock_root/build_artifacts/xgboost-split_1707159369174/work/src/c_api/c_api.cc:1240: Saving into deprecated binary model format, please consider using `json` or `ubj`. Model format will default to JSON in XGBoost 2.2 if not specified.\n",
      "[03:35:05] WARNING: /home/conda/feedstock_root/build_artifacts/xgboost-split_1707159369174/work/src/c_api/c_api.cc:1240: Saving into deprecated binary model format, please consider using `json` or `ubj`. Model format will default to JSON in XGBoost 2.2 if not specified.\n",
      "[03:35:09] WARNING: /home/conda/feedstock_root/build_artifacts/xgboost-split_1707159369174/work/src/c_api/c_api.cc:1240: Saving into deprecated binary model format, please consider using `json` or `ubj`. Model format will default to JSON in XGBoost 2.2 if not specified.\n",
      "[03:35:14] WARNING: /home/conda/feedstock_root/build_artifacts/xgboost-split_1707159369174/work/src/c_api/c_api.cc:1240: Saving into deprecated binary model format, please consider using `json` or `ubj`. Model format will default to JSON in XGBoost 2.2 if not specified.\n",
      "[03:35:19] WARNING: /home/conda/feedstock_root/build_artifacts/xgboost-split_1707159369174/work/src/c_api/c_api.cc:1240: Saving into deprecated binary model format, please consider using `json` or `ubj`. Model format will default to JSON in XGBoost 2.2 if not specified.\n",
      "[03:35:22] WARNING: /home/conda/feedstock_root/build_artifacts/xgboost-split_1707159369174/work/src/c_api/c_api.cc:1240: Saving into deprecated binary model format, please consider using `json` or `ubj`. Model format will default to JSON in XGBoost 2.2 if not specified.\n",
      "[03:35:25] WARNING: /home/conda/feedstock_root/build_artifacts/xgboost-split_1707159369174/work/src/c_api/c_api.cc:1240: Saving into deprecated binary model format, please consider using `json` or `ubj`. Model format will default to JSON in XGBoost 2.2 if not specified.\n",
      "[03:35:28] WARNING: /home/conda/feedstock_root/build_artifacts/xgboost-split_1707159369174/work/src/c_api/c_api.cc:1240: Saving into deprecated binary model format, please consider using `json` or `ubj`. Model format will default to JSON in XGBoost 2.2 if not specified.\n",
      "[03:35:33] WARNING: /home/conda/feedstock_root/build_artifacts/xgboost-split_1707159369174/work/src/c_api/c_api.cc:1240: Saving into deprecated binary model format, please consider using `json` or `ubj`. Model format will default to JSON in XGBoost 2.2 if not specified.\n",
      "[03:35:37] WARNING: /home/conda/feedstock_root/build_artifacts/xgboost-split_1707159369174/work/src/c_api/c_api.cc:1240: Saving into deprecated binary model format, please consider using `json` or `ubj`. Model format will default to JSON in XGBoost 2.2 if not specified.\n",
      "[03:35:40] WARNING: /home/conda/feedstock_root/build_artifacts/xgboost-split_1707159369174/work/src/c_api/c_api.cc:1240: Saving into deprecated binary model format, please consider using `json` or `ubj`. Model format will default to JSON in XGBoost 2.2 if not specified.\n",
      "[03:35:44] WARNING: /home/conda/feedstock_root/build_artifacts/xgboost-split_1707159369174/work/src/c_api/c_api.cc:1240: Saving into deprecated binary model format, please consider using `json` or `ubj`. Model format will default to JSON in XGBoost 2.2 if not specified.\n",
      "[03:35:47] WARNING: /home/conda/feedstock_root/build_artifacts/xgboost-split_1707159369174/work/src/c_api/c_api.cc:1240: Saving into deprecated binary model format, please consider using `json` or `ubj`. Model format will default to JSON in XGBoost 2.2 if not specified.\n",
      "[03:35:50] WARNING: /home/conda/feedstock_root/build_artifacts/xgboost-split_1707159369174/work/src/c_api/c_api.cc:1240: Saving into deprecated binary model format, please consider using `json` or `ubj`. Model format will default to JSON in XGBoost 2.2 if not specified.\n",
      "[03:35:54] WARNING: /home/conda/feedstock_root/build_artifacts/xgboost-split_1707159369174/work/src/c_api/c_api.cc:1240: Saving into deprecated binary model format, please consider using `json` or `ubj`. Model format will default to JSON in XGBoost 2.2 if not specified.\n",
      "[03:35:58] WARNING: /home/conda/feedstock_root/build_artifacts/xgboost-split_1707159369174/work/src/c_api/c_api.cc:1240: Saving into deprecated binary model format, please consider using `json` or `ubj`. Model format will default to JSON in XGBoost 2.2 if not specified.\n",
      "[03:36:02] WARNING: /home/conda/feedstock_root/build_artifacts/xgboost-split_1707159369174/work/src/c_api/c_api.cc:1240: Saving into deprecated binary model format, please consider using `json` or `ubj`. Model format will default to JSON in XGBoost 2.2 if not specified.\n",
      "[03:36:07] WARNING: /home/conda/feedstock_root/build_artifacts/xgboost-split_1707159369174/work/src/c_api/c_api.cc:1240: Saving into deprecated binary model format, please consider using `json` or `ubj`. Model format will default to JSON in XGBoost 2.2 if not specified.\n",
      "[03:36:11] WARNING: /home/conda/feedstock_root/build_artifacts/xgboost-split_1707159369174/work/src/c_api/c_api.cc:1240: Saving into deprecated binary model format, please consider using `json` or `ubj`. Model format will default to JSON in XGBoost 2.2 if not specified.\n",
      "[03:36:16] WARNING: /home/conda/feedstock_root/build_artifacts/xgboost-split_1707159369174/work/src/c_api/c_api.cc:1240: Saving into deprecated binary model format, please consider using `json` or `ubj`. Model format will default to JSON in XGBoost 2.2 if not specified.\n",
      "[03:36:19] WARNING: /home/conda/feedstock_root/build_artifacts/xgboost-split_1707159369174/work/src/c_api/c_api.cc:1240: Saving into deprecated binary model format, please consider using `json` or `ubj`. Model format will default to JSON in XGBoost 2.2 if not specified.\n",
      "[03:36:22] WARNING: /home/conda/feedstock_root/build_artifacts/xgboost-split_1707159369174/work/src/c_api/c_api.cc:1240: Saving into deprecated binary model format, please consider using `json` or `ubj`. Model format will default to JSON in XGBoost 2.2 if not specified.\n",
      "[03:36:27] WARNING: /home/conda/feedstock_root/build_artifacts/xgboost-split_1707159369174/work/src/c_api/c_api.cc:1240: Saving into deprecated binary model format, please consider using `json` or `ubj`. Model format will default to JSON in XGBoost 2.2 if not specified.\n",
      "[03:36:31] WARNING: /home/conda/feedstock_root/build_artifacts/xgboost-split_1707159369174/work/src/c_api/c_api.cc:1240: Saving into deprecated binary model format, please consider using `json` or `ubj`. Model format will default to JSON in XGBoost 2.2 if not specified.\n",
      "[03:36:34] WARNING: /home/conda/feedstock_root/build_artifacts/xgboost-split_1707159369174/work/src/c_api/c_api.cc:1240: Saving into deprecated binary model format, please consider using `json` or `ubj`. Model format will default to JSON in XGBoost 2.2 if not specified.\n",
      "[03:36:39] WARNING: /home/conda/feedstock_root/build_artifacts/xgboost-split_1707159369174/work/src/c_api/c_api.cc:1240: Saving into deprecated binary model format, please consider using `json` or `ubj`. Model format will default to JSON in XGBoost 2.2 if not specified.\n",
      "[03:36:43] WARNING: /home/conda/feedstock_root/build_artifacts/xgboost-split_1707159369174/work/src/c_api/c_api.cc:1240: Saving into deprecated binary model format, please consider using `json` or `ubj`. Model format will default to JSON in XGBoost 2.2 if not specified.\n",
      "[03:36:48] WARNING: /home/conda/feedstock_root/build_artifacts/xgboost-split_1707159369174/work/src/c_api/c_api.cc:1240: Saving into deprecated binary model format, please consider using `json` or `ubj`. Model format will default to JSON in XGBoost 2.2 if not specified.\n",
      "[03:36:50] WARNING: /home/conda/feedstock_root/build_artifacts/xgboost-split_1707159369174/work/src/c_api/c_api.cc:1240: Saving into deprecated binary model format, please consider using `json` or `ubj`. Model format will default to JSON in XGBoost 2.2 if not specified.\n",
      "[03:36:53] WARNING: /home/conda/feedstock_root/build_artifacts/xgboost-split_1707159369174/work/src/c_api/c_api.cc:1240: Saving into deprecated binary model format, please consider using `json` or `ubj`. Model format will default to JSON in XGBoost 2.2 if not specified.\n",
      "[03:36:55] WARNING: /home/conda/feedstock_root/build_artifacts/xgboost-split_1707159369174/work/src/c_api/c_api.cc:1240: Saving into deprecated binary model format, please consider using `json` or `ubj`. Model format will default to JSON in XGBoost 2.2 if not specified.\n",
      "[03:36:58] WARNING: /home/conda/feedstock_root/build_artifacts/xgboost-split_1707159369174/work/src/c_api/c_api.cc:1240: Saving into deprecated binary model format, please consider using `json` or `ubj`. Model format will default to JSON in XGBoost 2.2 if not specified.\n",
      "[03:37:02] WARNING: /home/conda/feedstock_root/build_artifacts/xgboost-split_1707159369174/work/src/c_api/c_api.cc:1240: Saving into deprecated binary model format, please consider using `json` or `ubj`. Model format will default to JSON in XGBoost 2.2 if not specified.\n",
      "[03:37:04] WARNING: /home/conda/feedstock_root/build_artifacts/xgboost-split_1707159369174/work/src/c_api/c_api.cc:1240: Saving into deprecated binary model format, please consider using `json` or `ubj`. Model format will default to JSON in XGBoost 2.2 if not specified.\n",
      "[03:37:08] WARNING: /home/conda/feedstock_root/build_artifacts/xgboost-split_1707159369174/work/src/c_api/c_api.cc:1240: Saving into deprecated binary model format, please consider using `json` or `ubj`. Model format will default to JSON in XGBoost 2.2 if not specified.\n",
      "[03:37:13] WARNING: /home/conda/feedstock_root/build_artifacts/xgboost-split_1707159369174/work/src/c_api/c_api.cc:1240: Saving into deprecated binary model format, please consider using `json` or `ubj`. Model format will default to JSON in XGBoost 2.2 if not specified.\n",
      "[03:37:17] WARNING: /home/conda/feedstock_root/build_artifacts/xgboost-split_1707159369174/work/src/c_api/c_api.cc:1240: Saving into deprecated binary model format, please consider using `json` or `ubj`. Model format will default to JSON in XGBoost 2.2 if not specified.\n"
     ]
    },
    {
     "name": "stdout",
     "output_type": "stream",
     "text": [
      "Best Parameters: {'learning_rate': 0.02378682645167061, 'max_depth': 15, 'subsample': 0.8991973845415585, 'gamma': 0.4956642003559679, 'colsample_bytree': 0.6977598642682462, 'lambda': 4.3821912400049845, 'alpha': 8.300556448230695}\n"
     ]
    },
    {
     "name": "stderr",
     "output_type": "stream",
     "text": [
      "[03:37:21] WARNING: /home/conda/feedstock_root/build_artifacts/xgboost-split_1707159369174/work/src/c_api/c_api.cc:1240: Saving into deprecated binary model format, please consider using `json` or `ubj`. Model format will default to JSON in XGBoost 2.2 if not specified.\n"
     ]
    },
    {
     "name": "stdout",
     "output_type": "stream",
     "text": [
      "Results Summary: {'Match': 14, 'No Evaluation': 1}\n",
      "\n",
      "--- Evaluating model with feature H3K4me1 added back ---\n",
      "\n"
     ]
    },
    {
     "name": "stderr",
     "output_type": "stream",
     "text": [
      "[03:37:25] WARNING: /home/conda/feedstock_root/build_artifacts/xgboost-split_1707159369174/work/src/c_api/c_api.cc:1240: Saving into deprecated binary model format, please consider using `json` or `ubj`. Model format will default to JSON in XGBoost 2.2 if not specified.\n"
     ]
    },
    {
     "name": "stdout",
     "output_type": "stream",
     "text": [
      "Results Summary: {'Match': 13, 'Mismatch': 2, 'No Evaluation': 1}\n",
      "Feature: H3K4me1, Known Function: Activating, Result: Mismatch\n",
      "\n",
      "--- Performing LOO for feature H3K9me2_log ---\n",
      "\n",
      "Remaining Features: ['H2A.2', 'H3K4me1', 'H2A.13', 'H3K4me3', 'H3K36me3', 'H4K5Ac', 'H2A.Z.11', 'expression_category', 'H3K27me3_log', 'H3K9Ac_log', 'cpg_percentage_log', 'H3K9K14Ac_log', 'H3Ac_log', 'chh_percentage_log', 'H4K20me1_log', 'chg_percentage_log', 'H2A.W.7_log', 'H3K9me1_log', 'H2A.W.6_log', 'H2A.Z.9_log', 'H3K23me1_log']\n"
     ]
    },
    {
     "name": "stderr",
     "output_type": "stream",
     "text": [
      "[03:37:28] WARNING: /home/conda/feedstock_root/build_artifacts/xgboost-split_1707159369174/work/src/c_api/c_api.cc:1240: Saving into deprecated binary model format, please consider using `json` or `ubj`. Model format will default to JSON in XGBoost 2.2 if not specified.\n",
      "[03:37:32] WARNING: /home/conda/feedstock_root/build_artifacts/xgboost-split_1707159369174/work/src/c_api/c_api.cc:1240: Saving into deprecated binary model format, please consider using `json` or `ubj`. Model format will default to JSON in XGBoost 2.2 if not specified.\n",
      "[03:37:37] WARNING: /home/conda/feedstock_root/build_artifacts/xgboost-split_1707159369174/work/src/c_api/c_api.cc:1240: Saving into deprecated binary model format, please consider using `json` or `ubj`. Model format will default to JSON in XGBoost 2.2 if not specified.\n",
      "[03:37:40] WARNING: /home/conda/feedstock_root/build_artifacts/xgboost-split_1707159369174/work/src/c_api/c_api.cc:1240: Saving into deprecated binary model format, please consider using `json` or `ubj`. Model format will default to JSON in XGBoost 2.2 if not specified.\n",
      "[03:37:44] WARNING: /home/conda/feedstock_root/build_artifacts/xgboost-split_1707159369174/work/src/c_api/c_api.cc:1240: Saving into deprecated binary model format, please consider using `json` or `ubj`. Model format will default to JSON in XGBoost 2.2 if not specified.\n",
      "[03:37:46] WARNING: /home/conda/feedstock_root/build_artifacts/xgboost-split_1707159369174/work/src/c_api/c_api.cc:1240: Saving into deprecated binary model format, please consider using `json` or `ubj`. Model format will default to JSON in XGBoost 2.2 if not specified.\n",
      "[03:37:49] WARNING: /home/conda/feedstock_root/build_artifacts/xgboost-split_1707159369174/work/src/c_api/c_api.cc:1240: Saving into deprecated binary model format, please consider using `json` or `ubj`. Model format will default to JSON in XGBoost 2.2 if not specified.\n",
      "[03:37:53] WARNING: /home/conda/feedstock_root/build_artifacts/xgboost-split_1707159369174/work/src/c_api/c_api.cc:1240: Saving into deprecated binary model format, please consider using `json` or `ubj`. Model format will default to JSON in XGBoost 2.2 if not specified.\n",
      "[03:37:59] WARNING: /home/conda/feedstock_root/build_artifacts/xgboost-split_1707159369174/work/src/c_api/c_api.cc:1240: Saving into deprecated binary model format, please consider using `json` or `ubj`. Model format will default to JSON in XGBoost 2.2 if not specified.\n",
      "[03:38:03] WARNING: /home/conda/feedstock_root/build_artifacts/xgboost-split_1707159369174/work/src/c_api/c_api.cc:1240: Saving into deprecated binary model format, please consider using `json` or `ubj`. Model format will default to JSON in XGBoost 2.2 if not specified.\n",
      "[03:38:12] WARNING: /home/conda/feedstock_root/build_artifacts/xgboost-split_1707159369174/work/src/c_api/c_api.cc:1240: Saving into deprecated binary model format, please consider using `json` or `ubj`. Model format will default to JSON in XGBoost 2.2 if not specified.\n",
      "[03:38:19] WARNING: /home/conda/feedstock_root/build_artifacts/xgboost-split_1707159369174/work/src/c_api/c_api.cc:1240: Saving into deprecated binary model format, please consider using `json` or `ubj`. Model format will default to JSON in XGBoost 2.2 if not specified.\n",
      "[03:38:23] WARNING: /home/conda/feedstock_root/build_artifacts/xgboost-split_1707159369174/work/src/c_api/c_api.cc:1240: Saving into deprecated binary model format, please consider using `json` or `ubj`. Model format will default to JSON in XGBoost 2.2 if not specified.\n",
      "[03:38:27] WARNING: /home/conda/feedstock_root/build_artifacts/xgboost-split_1707159369174/work/src/c_api/c_api.cc:1240: Saving into deprecated binary model format, please consider using `json` or `ubj`. Model format will default to JSON in XGBoost 2.2 if not specified.\n",
      "[03:38:32] WARNING: /home/conda/feedstock_root/build_artifacts/xgboost-split_1707159369174/work/src/c_api/c_api.cc:1240: Saving into deprecated binary model format, please consider using `json` or `ubj`. Model format will default to JSON in XGBoost 2.2 if not specified.\n",
      "[03:38:36] WARNING: /home/conda/feedstock_root/build_artifacts/xgboost-split_1707159369174/work/src/c_api/c_api.cc:1240: Saving into deprecated binary model format, please consider using `json` or `ubj`. Model format will default to JSON in XGBoost 2.2 if not specified.\n",
      "[03:38:39] WARNING: /home/conda/feedstock_root/build_artifacts/xgboost-split_1707159369174/work/src/c_api/c_api.cc:1240: Saving into deprecated binary model format, please consider using `json` or `ubj`. Model format will default to JSON in XGBoost 2.2 if not specified.\n",
      "[03:38:43] WARNING: /home/conda/feedstock_root/build_artifacts/xgboost-split_1707159369174/work/src/c_api/c_api.cc:1240: Saving into deprecated binary model format, please consider using `json` or `ubj`. Model format will default to JSON in XGBoost 2.2 if not specified.\n",
      "[03:38:47] WARNING: /home/conda/feedstock_root/build_artifacts/xgboost-split_1707159369174/work/src/c_api/c_api.cc:1240: Saving into deprecated binary model format, please consider using `json` or `ubj`. Model format will default to JSON in XGBoost 2.2 if not specified.\n",
      "[03:38:49] WARNING: /home/conda/feedstock_root/build_artifacts/xgboost-split_1707159369174/work/src/c_api/c_api.cc:1240: Saving into deprecated binary model format, please consider using `json` or `ubj`. Model format will default to JSON in XGBoost 2.2 if not specified.\n",
      "[03:38:52] WARNING: /home/conda/feedstock_root/build_artifacts/xgboost-split_1707159369174/work/src/c_api/c_api.cc:1240: Saving into deprecated binary model format, please consider using `json` or `ubj`. Model format will default to JSON in XGBoost 2.2 if not specified.\n",
      "[03:38:55] WARNING: /home/conda/feedstock_root/build_artifacts/xgboost-split_1707159369174/work/src/c_api/c_api.cc:1240: Saving into deprecated binary model format, please consider using `json` or `ubj`. Model format will default to JSON in XGBoost 2.2 if not specified.\n",
      "[03:38:58] WARNING: /home/conda/feedstock_root/build_artifacts/xgboost-split_1707159369174/work/src/c_api/c_api.cc:1240: Saving into deprecated binary model format, please consider using `json` or `ubj`. Model format will default to JSON in XGBoost 2.2 if not specified.\n",
      "[03:39:00] WARNING: /home/conda/feedstock_root/build_artifacts/xgboost-split_1707159369174/work/src/c_api/c_api.cc:1240: Saving into deprecated binary model format, please consider using `json` or `ubj`. Model format will default to JSON in XGBoost 2.2 if not specified.\n",
      "[03:39:03] WARNING: /home/conda/feedstock_root/build_artifacts/xgboost-split_1707159369174/work/src/c_api/c_api.cc:1240: Saving into deprecated binary model format, please consider using `json` or `ubj`. Model format will default to JSON in XGBoost 2.2 if not specified.\n",
      "[03:39:06] WARNING: /home/conda/feedstock_root/build_artifacts/xgboost-split_1707159369174/work/src/c_api/c_api.cc:1240: Saving into deprecated binary model format, please consider using `json` or `ubj`. Model format will default to JSON in XGBoost 2.2 if not specified.\n",
      "[03:39:09] WARNING: /home/conda/feedstock_root/build_artifacts/xgboost-split_1707159369174/work/src/c_api/c_api.cc:1240: Saving into deprecated binary model format, please consider using `json` or `ubj`. Model format will default to JSON in XGBoost 2.2 if not specified.\n",
      "[03:39:11] WARNING: /home/conda/feedstock_root/build_artifacts/xgboost-split_1707159369174/work/src/c_api/c_api.cc:1240: Saving into deprecated binary model format, please consider using `json` or `ubj`. Model format will default to JSON in XGBoost 2.2 if not specified.\n",
      "[03:39:14] WARNING: /home/conda/feedstock_root/build_artifacts/xgboost-split_1707159369174/work/src/c_api/c_api.cc:1240: Saving into deprecated binary model format, please consider using `json` or `ubj`. Model format will default to JSON in XGBoost 2.2 if not specified.\n",
      "[03:39:17] WARNING: /home/conda/feedstock_root/build_artifacts/xgboost-split_1707159369174/work/src/c_api/c_api.cc:1240: Saving into deprecated binary model format, please consider using `json` or `ubj`. Model format will default to JSON in XGBoost 2.2 if not specified.\n",
      "[03:39:20] WARNING: /home/conda/feedstock_root/build_artifacts/xgboost-split_1707159369174/work/src/c_api/c_api.cc:1240: Saving into deprecated binary model format, please consider using `json` or `ubj`. Model format will default to JSON in XGBoost 2.2 if not specified.\n",
      "[03:39:23] WARNING: /home/conda/feedstock_root/build_artifacts/xgboost-split_1707159369174/work/src/c_api/c_api.cc:1240: Saving into deprecated binary model format, please consider using `json` or `ubj`. Model format will default to JSON in XGBoost 2.2 if not specified.\n",
      "[03:39:26] WARNING: /home/conda/feedstock_root/build_artifacts/xgboost-split_1707159369174/work/src/c_api/c_api.cc:1240: Saving into deprecated binary model format, please consider using `json` or `ubj`. Model format will default to JSON in XGBoost 2.2 if not specified.\n",
      "[03:39:28] WARNING: /home/conda/feedstock_root/build_artifacts/xgboost-split_1707159369174/work/src/c_api/c_api.cc:1240: Saving into deprecated binary model format, please consider using `json` or `ubj`. Model format will default to JSON in XGBoost 2.2 if not specified.\n",
      "[03:39:31] WARNING: /home/conda/feedstock_root/build_artifacts/xgboost-split_1707159369174/work/src/c_api/c_api.cc:1240: Saving into deprecated binary model format, please consider using `json` or `ubj`. Model format will default to JSON in XGBoost 2.2 if not specified.\n",
      "[03:39:34] WARNING: /home/conda/feedstock_root/build_artifacts/xgboost-split_1707159369174/work/src/c_api/c_api.cc:1240: Saving into deprecated binary model format, please consider using `json` or `ubj`. Model format will default to JSON in XGBoost 2.2 if not specified.\n",
      "[03:39:37] WARNING: /home/conda/feedstock_root/build_artifacts/xgboost-split_1707159369174/work/src/c_api/c_api.cc:1240: Saving into deprecated binary model format, please consider using `json` or `ubj`. Model format will default to JSON in XGBoost 2.2 if not specified.\n",
      "[03:39:41] WARNING: /home/conda/feedstock_root/build_artifacts/xgboost-split_1707159369174/work/src/c_api/c_api.cc:1240: Saving into deprecated binary model format, please consider using `json` or `ubj`. Model format will default to JSON in XGBoost 2.2 if not specified.\n",
      "[03:39:44] WARNING: /home/conda/feedstock_root/build_artifacts/xgboost-split_1707159369174/work/src/c_api/c_api.cc:1240: Saving into deprecated binary model format, please consider using `json` or `ubj`. Model format will default to JSON in XGBoost 2.2 if not specified.\n",
      "[03:39:48] WARNING: /home/conda/feedstock_root/build_artifacts/xgboost-split_1707159369174/work/src/c_api/c_api.cc:1240: Saving into deprecated binary model format, please consider using `json` or `ubj`. Model format will default to JSON in XGBoost 2.2 if not specified.\n"
     ]
    },
    {
     "name": "stdout",
     "output_type": "stream",
     "text": [
      "Best Parameters: {'learning_rate': 0.03506808561131743, 'max_depth': 16, 'subsample': 0.6498636467607665, 'gamma': 0.8856085290139792, 'colsample_bytree': 0.5516198700160942, 'lambda': 8.173211007257514, 'alpha': 9.921816287807793}\n"
     ]
    },
    {
     "name": "stderr",
     "output_type": "stream",
     "text": [
      "[03:39:51] WARNING: /home/conda/feedstock_root/build_artifacts/xgboost-split_1707159369174/work/src/c_api/c_api.cc:1240: Saving into deprecated binary model format, please consider using `json` or `ubj`. Model format will default to JSON in XGBoost 2.2 if not specified.\n"
     ]
    },
    {
     "name": "stdout",
     "output_type": "stream",
     "text": [
      "Results Summary: {'Match': 13, 'Mismatch': 2, 'No Evaluation': 1}\n",
      "Removing mismatch feature: H4K5Ac\n",
      "Remaining Features: ['H2A.2', 'H3K4me1', 'H2A.13', 'H3K4me3', 'H3K36me3', 'H2A.Z.11', 'expression_category', 'H3K27me3_log', 'H3K9Ac_log', 'cpg_percentage_log', 'H3K9K14Ac_log', 'H3Ac_log', 'chh_percentage_log', 'H4K20me1_log', 'chg_percentage_log', 'H2A.W.7_log', 'H3K9me1_log', 'H2A.W.6_log', 'H2A.Z.9_log', 'H3K23me1_log']\n"
     ]
    },
    {
     "name": "stderr",
     "output_type": "stream",
     "text": [
      "[03:39:54] WARNING: /home/conda/feedstock_root/build_artifacts/xgboost-split_1707159369174/work/src/c_api/c_api.cc:1240: Saving into deprecated binary model format, please consider using `json` or `ubj`. Model format will default to JSON in XGBoost 2.2 if not specified.\n",
      "[03:39:58] WARNING: /home/conda/feedstock_root/build_artifacts/xgboost-split_1707159369174/work/src/c_api/c_api.cc:1240: Saving into deprecated binary model format, please consider using `json` or `ubj`. Model format will default to JSON in XGBoost 2.2 if not specified.\n",
      "[03:40:04] WARNING: /home/conda/feedstock_root/build_artifacts/xgboost-split_1707159369174/work/src/c_api/c_api.cc:1240: Saving into deprecated binary model format, please consider using `json` or `ubj`. Model format will default to JSON in XGBoost 2.2 if not specified.\n",
      "[03:40:10] WARNING: /home/conda/feedstock_root/build_artifacts/xgboost-split_1707159369174/work/src/c_api/c_api.cc:1240: Saving into deprecated binary model format, please consider using `json` or `ubj`. Model format will default to JSON in XGBoost 2.2 if not specified.\n",
      "[03:40:14] WARNING: /home/conda/feedstock_root/build_artifacts/xgboost-split_1707159369174/work/src/c_api/c_api.cc:1240: Saving into deprecated binary model format, please consider using `json` or `ubj`. Model format will default to JSON in XGBoost 2.2 if not specified.\n",
      "[03:40:19] WARNING: /home/conda/feedstock_root/build_artifacts/xgboost-split_1707159369174/work/src/c_api/c_api.cc:1240: Saving into deprecated binary model format, please consider using `json` or `ubj`. Model format will default to JSON in XGBoost 2.2 if not specified.\n",
      "[03:40:23] WARNING: /home/conda/feedstock_root/build_artifacts/xgboost-split_1707159369174/work/src/c_api/c_api.cc:1240: Saving into deprecated binary model format, please consider using `json` or `ubj`. Model format will default to JSON in XGBoost 2.2 if not specified.\n",
      "[03:40:27] WARNING: /home/conda/feedstock_root/build_artifacts/xgboost-split_1707159369174/work/src/c_api/c_api.cc:1240: Saving into deprecated binary model format, please consider using `json` or `ubj`. Model format will default to JSON in XGBoost 2.2 if not specified.\n",
      "[03:40:33] WARNING: /home/conda/feedstock_root/build_artifacts/xgboost-split_1707159369174/work/src/c_api/c_api.cc:1240: Saving into deprecated binary model format, please consider using `json` or `ubj`. Model format will default to JSON in XGBoost 2.2 if not specified.\n",
      "[03:40:37] WARNING: /home/conda/feedstock_root/build_artifacts/xgboost-split_1707159369174/work/src/c_api/c_api.cc:1240: Saving into deprecated binary model format, please consider using `json` or `ubj`. Model format will default to JSON in XGBoost 2.2 if not specified.\n",
      "[03:40:39] WARNING: /home/conda/feedstock_root/build_artifacts/xgboost-split_1707159369174/work/src/c_api/c_api.cc:1240: Saving into deprecated binary model format, please consider using `json` or `ubj`. Model format will default to JSON in XGBoost 2.2 if not specified.\n",
      "[03:40:42] WARNING: /home/conda/feedstock_root/build_artifacts/xgboost-split_1707159369174/work/src/c_api/c_api.cc:1240: Saving into deprecated binary model format, please consider using `json` or `ubj`. Model format will default to JSON in XGBoost 2.2 if not specified.\n",
      "[03:40:45] WARNING: /home/conda/feedstock_root/build_artifacts/xgboost-split_1707159369174/work/src/c_api/c_api.cc:1240: Saving into deprecated binary model format, please consider using `json` or `ubj`. Model format will default to JSON in XGBoost 2.2 if not specified.\n",
      "[03:40:49] WARNING: /home/conda/feedstock_root/build_artifacts/xgboost-split_1707159369174/work/src/c_api/c_api.cc:1240: Saving into deprecated binary model format, please consider using `json` or `ubj`. Model format will default to JSON in XGBoost 2.2 if not specified.\n",
      "[03:40:53] WARNING: /home/conda/feedstock_root/build_artifacts/xgboost-split_1707159369174/work/src/c_api/c_api.cc:1240: Saving into deprecated binary model format, please consider using `json` or `ubj`. Model format will default to JSON in XGBoost 2.2 if not specified.\n",
      "[03:40:56] WARNING: /home/conda/feedstock_root/build_artifacts/xgboost-split_1707159369174/work/src/c_api/c_api.cc:1240: Saving into deprecated binary model format, please consider using `json` or `ubj`. Model format will default to JSON in XGBoost 2.2 if not specified.\n",
      "[03:40:59] WARNING: /home/conda/feedstock_root/build_artifacts/xgboost-split_1707159369174/work/src/c_api/c_api.cc:1240: Saving into deprecated binary model format, please consider using `json` or `ubj`. Model format will default to JSON in XGBoost 2.2 if not specified.\n",
      "[03:41:00] WARNING: /home/conda/feedstock_root/build_artifacts/xgboost-split_1707159369174/work/src/c_api/c_api.cc:1240: Saving into deprecated binary model format, please consider using `json` or `ubj`. Model format will default to JSON in XGBoost 2.2 if not specified.\n",
      "[03:41:03] WARNING: /home/conda/feedstock_root/build_artifacts/xgboost-split_1707159369174/work/src/c_api/c_api.cc:1240: Saving into deprecated binary model format, please consider using `json` or `ubj`. Model format will default to JSON in XGBoost 2.2 if not specified.\n",
      "[03:41:05] WARNING: /home/conda/feedstock_root/build_artifacts/xgboost-split_1707159369174/work/src/c_api/c_api.cc:1240: Saving into deprecated binary model format, please consider using `json` or `ubj`. Model format will default to JSON in XGBoost 2.2 if not specified.\n",
      "[03:41:08] WARNING: /home/conda/feedstock_root/build_artifacts/xgboost-split_1707159369174/work/src/c_api/c_api.cc:1240: Saving into deprecated binary model format, please consider using `json` or `ubj`. Model format will default to JSON in XGBoost 2.2 if not specified.\n",
      "[03:41:11] WARNING: /home/conda/feedstock_root/build_artifacts/xgboost-split_1707159369174/work/src/c_api/c_api.cc:1240: Saving into deprecated binary model format, please consider using `json` or `ubj`. Model format will default to JSON in XGBoost 2.2 if not specified.\n",
      "[03:41:13] WARNING: /home/conda/feedstock_root/build_artifacts/xgboost-split_1707159369174/work/src/c_api/c_api.cc:1240: Saving into deprecated binary model format, please consider using `json` or `ubj`. Model format will default to JSON in XGBoost 2.2 if not specified.\n",
      "[03:41:15] WARNING: /home/conda/feedstock_root/build_artifacts/xgboost-split_1707159369174/work/src/c_api/c_api.cc:1240: Saving into deprecated binary model format, please consider using `json` or `ubj`. Model format will default to JSON in XGBoost 2.2 if not specified.\n",
      "[03:41:18] WARNING: /home/conda/feedstock_root/build_artifacts/xgboost-split_1707159369174/work/src/c_api/c_api.cc:1240: Saving into deprecated binary model format, please consider using `json` or `ubj`. Model format will default to JSON in XGBoost 2.2 if not specified.\n",
      "[03:41:22] WARNING: /home/conda/feedstock_root/build_artifacts/xgboost-split_1707159369174/work/src/c_api/c_api.cc:1240: Saving into deprecated binary model format, please consider using `json` or `ubj`. Model format will default to JSON in XGBoost 2.2 if not specified.\n",
      "[03:41:26] WARNING: /home/conda/feedstock_root/build_artifacts/xgboost-split_1707159369174/work/src/c_api/c_api.cc:1240: Saving into deprecated binary model format, please consider using `json` or `ubj`. Model format will default to JSON in XGBoost 2.2 if not specified.\n",
      "[03:41:31] WARNING: /home/conda/feedstock_root/build_artifacts/xgboost-split_1707159369174/work/src/c_api/c_api.cc:1240: Saving into deprecated binary model format, please consider using `json` or `ubj`. Model format will default to JSON in XGBoost 2.2 if not specified.\n",
      "[03:41:35] WARNING: /home/conda/feedstock_root/build_artifacts/xgboost-split_1707159369174/work/src/c_api/c_api.cc:1240: Saving into deprecated binary model format, please consider using `json` or `ubj`. Model format will default to JSON in XGBoost 2.2 if not specified.\n",
      "[03:41:39] WARNING: /home/conda/feedstock_root/build_artifacts/xgboost-split_1707159369174/work/src/c_api/c_api.cc:1240: Saving into deprecated binary model format, please consider using `json` or `ubj`. Model format will default to JSON in XGBoost 2.2 if not specified.\n",
      "[03:41:43] WARNING: /home/conda/feedstock_root/build_artifacts/xgboost-split_1707159369174/work/src/c_api/c_api.cc:1240: Saving into deprecated binary model format, please consider using `json` or `ubj`. Model format will default to JSON in XGBoost 2.2 if not specified.\n",
      "[03:41:47] WARNING: /home/conda/feedstock_root/build_artifacts/xgboost-split_1707159369174/work/src/c_api/c_api.cc:1240: Saving into deprecated binary model format, please consider using `json` or `ubj`. Model format will default to JSON in XGBoost 2.2 if not specified.\n",
      "[03:41:51] WARNING: /home/conda/feedstock_root/build_artifacts/xgboost-split_1707159369174/work/src/c_api/c_api.cc:1240: Saving into deprecated binary model format, please consider using `json` or `ubj`. Model format will default to JSON in XGBoost 2.2 if not specified.\n",
      "[03:41:55] WARNING: /home/conda/feedstock_root/build_artifacts/xgboost-split_1707159369174/work/src/c_api/c_api.cc:1240: Saving into deprecated binary model format, please consider using `json` or `ubj`. Model format will default to JSON in XGBoost 2.2 if not specified.\n",
      "[03:41:59] WARNING: /home/conda/feedstock_root/build_artifacts/xgboost-split_1707159369174/work/src/c_api/c_api.cc:1240: Saving into deprecated binary model format, please consider using `json` or `ubj`. Model format will default to JSON in XGBoost 2.2 if not specified.\n",
      "[03:42:03] WARNING: /home/conda/feedstock_root/build_artifacts/xgboost-split_1707159369174/work/src/c_api/c_api.cc:1240: Saving into deprecated binary model format, please consider using `json` or `ubj`. Model format will default to JSON in XGBoost 2.2 if not specified.\n",
      "[03:42:07] WARNING: /home/conda/feedstock_root/build_artifacts/xgboost-split_1707159369174/work/src/c_api/c_api.cc:1240: Saving into deprecated binary model format, please consider using `json` or `ubj`. Model format will default to JSON in XGBoost 2.2 if not specified.\n",
      "[03:42:13] WARNING: /home/conda/feedstock_root/build_artifacts/xgboost-split_1707159369174/work/src/c_api/c_api.cc:1240: Saving into deprecated binary model format, please consider using `json` or `ubj`. Model format will default to JSON in XGBoost 2.2 if not specified.\n",
      "[03:42:16] WARNING: /home/conda/feedstock_root/build_artifacts/xgboost-split_1707159369174/work/src/c_api/c_api.cc:1240: Saving into deprecated binary model format, please consider using `json` or `ubj`. Model format will default to JSON in XGBoost 2.2 if not specified.\n",
      "[03:42:20] WARNING: /home/conda/feedstock_root/build_artifacts/xgboost-split_1707159369174/work/src/c_api/c_api.cc:1240: Saving into deprecated binary model format, please consider using `json` or `ubj`. Model format will default to JSON in XGBoost 2.2 if not specified.\n"
     ]
    },
    {
     "name": "stdout",
     "output_type": "stream",
     "text": [
      "Best Parameters: {'learning_rate': 0.028826189076504145, 'max_depth': 15, 'subsample': 0.8004197006566673, 'gamma': 0.06371364015713464, 'colsample_bytree': 0.7798558178415739, 'lambda': 6.864495372364853, 'alpha': 12.825748720675508}\n"
     ]
    },
    {
     "name": "stderr",
     "output_type": "stream",
     "text": [
      "[03:42:24] WARNING: /home/conda/feedstock_root/build_artifacts/xgboost-split_1707159369174/work/src/c_api/c_api.cc:1240: Saving into deprecated binary model format, please consider using `json` or `ubj`. Model format will default to JSON in XGBoost 2.2 if not specified.\n"
     ]
    },
    {
     "name": "stdout",
     "output_type": "stream",
     "text": [
      "Results Summary: {'Match': 13, 'Mismatch': 1, 'No Evaluation': 1}\n",
      "Removing mismatch feature: H3K4me1\n",
      "Remaining Features: ['H2A.2', 'H2A.13', 'H3K4me3', 'H3K36me3', 'H2A.Z.11', 'expression_category', 'H3K27me3_log', 'H3K9Ac_log', 'cpg_percentage_log', 'H3K9K14Ac_log', 'H3Ac_log', 'chh_percentage_log', 'H4K20me1_log', 'chg_percentage_log', 'H2A.W.7_log', 'H3K9me1_log', 'H2A.W.6_log', 'H2A.Z.9_log', 'H3K23me1_log']\n"
     ]
    },
    {
     "name": "stderr",
     "output_type": "stream",
     "text": [
      "[03:42:27] WARNING: /home/conda/feedstock_root/build_artifacts/xgboost-split_1707159369174/work/src/c_api/c_api.cc:1240: Saving into deprecated binary model format, please consider using `json` or `ubj`. Model format will default to JSON in XGBoost 2.2 if not specified.\n",
      "[03:42:31] WARNING: /home/conda/feedstock_root/build_artifacts/xgboost-split_1707159369174/work/src/c_api/c_api.cc:1240: Saving into deprecated binary model format, please consider using `json` or `ubj`. Model format will default to JSON in XGBoost 2.2 if not specified.\n",
      "[03:42:36] WARNING: /home/conda/feedstock_root/build_artifacts/xgboost-split_1707159369174/work/src/c_api/c_api.cc:1240: Saving into deprecated binary model format, please consider using `json` or `ubj`. Model format will default to JSON in XGBoost 2.2 if not specified.\n",
      "[03:42:40] WARNING: /home/conda/feedstock_root/build_artifacts/xgboost-split_1707159369174/work/src/c_api/c_api.cc:1240: Saving into deprecated binary model format, please consider using `json` or `ubj`. Model format will default to JSON in XGBoost 2.2 if not specified.\n",
      "[03:42:43] WARNING: /home/conda/feedstock_root/build_artifacts/xgboost-split_1707159369174/work/src/c_api/c_api.cc:1240: Saving into deprecated binary model format, please consider using `json` or `ubj`. Model format will default to JSON in XGBoost 2.2 if not specified.\n",
      "[03:42:50] WARNING: /home/conda/feedstock_root/build_artifacts/xgboost-split_1707159369174/work/src/c_api/c_api.cc:1240: Saving into deprecated binary model format, please consider using `json` or `ubj`. Model format will default to JSON in XGBoost 2.2 if not specified.\n",
      "[03:42:54] WARNING: /home/conda/feedstock_root/build_artifacts/xgboost-split_1707159369174/work/src/c_api/c_api.cc:1240: Saving into deprecated binary model format, please consider using `json` or `ubj`. Model format will default to JSON in XGBoost 2.2 if not specified.\n",
      "[03:42:57] WARNING: /home/conda/feedstock_root/build_artifacts/xgboost-split_1707159369174/work/src/c_api/c_api.cc:1240: Saving into deprecated binary model format, please consider using `json` or `ubj`. Model format will default to JSON in XGBoost 2.2 if not specified.\n",
      "[03:43:02] WARNING: /home/conda/feedstock_root/build_artifacts/xgboost-split_1707159369174/work/src/c_api/c_api.cc:1240: Saving into deprecated binary model format, please consider using `json` or `ubj`. Model format will default to JSON in XGBoost 2.2 if not specified.\n",
      "[03:43:06] WARNING: /home/conda/feedstock_root/build_artifacts/xgboost-split_1707159369174/work/src/c_api/c_api.cc:1240: Saving into deprecated binary model format, please consider using `json` or `ubj`. Model format will default to JSON in XGBoost 2.2 if not specified.\n",
      "[03:43:11] WARNING: /home/conda/feedstock_root/build_artifacts/xgboost-split_1707159369174/work/src/c_api/c_api.cc:1240: Saving into deprecated binary model format, please consider using `json` or `ubj`. Model format will default to JSON in XGBoost 2.2 if not specified.\n",
      "[03:43:16] WARNING: /home/conda/feedstock_root/build_artifacts/xgboost-split_1707159369174/work/src/c_api/c_api.cc:1240: Saving into deprecated binary model format, please consider using `json` or `ubj`. Model format will default to JSON in XGBoost 2.2 if not specified.\n",
      "[03:43:21] WARNING: /home/conda/feedstock_root/build_artifacts/xgboost-split_1707159369174/work/src/c_api/c_api.cc:1240: Saving into deprecated binary model format, please consider using `json` or `ubj`. Model format will default to JSON in XGBoost 2.2 if not specified.\n",
      "[03:43:25] WARNING: /home/conda/feedstock_root/build_artifacts/xgboost-split_1707159369174/work/src/c_api/c_api.cc:1240: Saving into deprecated binary model format, please consider using `json` or `ubj`. Model format will default to JSON in XGBoost 2.2 if not specified.\n",
      "[03:43:28] WARNING: /home/conda/feedstock_root/build_artifacts/xgboost-split_1707159369174/work/src/c_api/c_api.cc:1240: Saving into deprecated binary model format, please consider using `json` or `ubj`. Model format will default to JSON in XGBoost 2.2 if not specified.\n",
      "[03:43:31] WARNING: /home/conda/feedstock_root/build_artifacts/xgboost-split_1707159369174/work/src/c_api/c_api.cc:1240: Saving into deprecated binary model format, please consider using `json` or `ubj`. Model format will default to JSON in XGBoost 2.2 if not specified.\n",
      "[03:43:36] WARNING: /home/conda/feedstock_root/build_artifacts/xgboost-split_1707159369174/work/src/c_api/c_api.cc:1240: Saving into deprecated binary model format, please consider using `json` or `ubj`. Model format will default to JSON in XGBoost 2.2 if not specified.\n",
      "[03:43:41] WARNING: /home/conda/feedstock_root/build_artifacts/xgboost-split_1707159369174/work/src/c_api/c_api.cc:1240: Saving into deprecated binary model format, please consider using `json` or `ubj`. Model format will default to JSON in XGBoost 2.2 if not specified.\n",
      "[03:43:49] WARNING: /home/conda/feedstock_root/build_artifacts/xgboost-split_1707159369174/work/src/c_api/c_api.cc:1240: Saving into deprecated binary model format, please consider using `json` or `ubj`. Model format will default to JSON in XGBoost 2.2 if not specified.\n",
      "[03:43:54] WARNING: /home/conda/feedstock_root/build_artifacts/xgboost-split_1707159369174/work/src/c_api/c_api.cc:1240: Saving into deprecated binary model format, please consider using `json` or `ubj`. Model format will default to JSON in XGBoost 2.2 if not specified.\n",
      "[03:43:58] WARNING: /home/conda/feedstock_root/build_artifacts/xgboost-split_1707159369174/work/src/c_api/c_api.cc:1240: Saving into deprecated binary model format, please consider using `json` or `ubj`. Model format will default to JSON in XGBoost 2.2 if not specified.\n",
      "[03:44:02] WARNING: /home/conda/feedstock_root/build_artifacts/xgboost-split_1707159369174/work/src/c_api/c_api.cc:1240: Saving into deprecated binary model format, please consider using `json` or `ubj`. Model format will default to JSON in XGBoost 2.2 if not specified.\n",
      "[03:44:06] WARNING: /home/conda/feedstock_root/build_artifacts/xgboost-split_1707159369174/work/src/c_api/c_api.cc:1240: Saving into deprecated binary model format, please consider using `json` or `ubj`. Model format will default to JSON in XGBoost 2.2 if not specified.\n",
      "[03:44:10] WARNING: /home/conda/feedstock_root/build_artifacts/xgboost-split_1707159369174/work/src/c_api/c_api.cc:1240: Saving into deprecated binary model format, please consider using `json` or `ubj`. Model format will default to JSON in XGBoost 2.2 if not specified.\n",
      "[03:44:14] WARNING: /home/conda/feedstock_root/build_artifacts/xgboost-split_1707159369174/work/src/c_api/c_api.cc:1240: Saving into deprecated binary model format, please consider using `json` or `ubj`. Model format will default to JSON in XGBoost 2.2 if not specified.\n",
      "[03:44:19] WARNING: /home/conda/feedstock_root/build_artifacts/xgboost-split_1707159369174/work/src/c_api/c_api.cc:1240: Saving into deprecated binary model format, please consider using `json` or `ubj`. Model format will default to JSON in XGBoost 2.2 if not specified.\n",
      "[03:44:23] WARNING: /home/conda/feedstock_root/build_artifacts/xgboost-split_1707159369174/work/src/c_api/c_api.cc:1240: Saving into deprecated binary model format, please consider using `json` or `ubj`. Model format will default to JSON in XGBoost 2.2 if not specified.\n",
      "[03:44:27] WARNING: /home/conda/feedstock_root/build_artifacts/xgboost-split_1707159369174/work/src/c_api/c_api.cc:1240: Saving into deprecated binary model format, please consider using `json` or `ubj`. Model format will default to JSON in XGBoost 2.2 if not specified.\n",
      "[03:44:30] WARNING: /home/conda/feedstock_root/build_artifacts/xgboost-split_1707159369174/work/src/c_api/c_api.cc:1240: Saving into deprecated binary model format, please consider using `json` or `ubj`. Model format will default to JSON in XGBoost 2.2 if not specified.\n",
      "[03:44:33] WARNING: /home/conda/feedstock_root/build_artifacts/xgboost-split_1707159369174/work/src/c_api/c_api.cc:1240: Saving into deprecated binary model format, please consider using `json` or `ubj`. Model format will default to JSON in XGBoost 2.2 if not specified.\n",
      "[03:44:36] WARNING: /home/conda/feedstock_root/build_artifacts/xgboost-split_1707159369174/work/src/c_api/c_api.cc:1240: Saving into deprecated binary model format, please consider using `json` or `ubj`. Model format will default to JSON in XGBoost 2.2 if not specified.\n",
      "[03:44:40] WARNING: /home/conda/feedstock_root/build_artifacts/xgboost-split_1707159369174/work/src/c_api/c_api.cc:1240: Saving into deprecated binary model format, please consider using `json` or `ubj`. Model format will default to JSON in XGBoost 2.2 if not specified.\n",
      "[03:44:44] WARNING: /home/conda/feedstock_root/build_artifacts/xgboost-split_1707159369174/work/src/c_api/c_api.cc:1240: Saving into deprecated binary model format, please consider using `json` or `ubj`. Model format will default to JSON in XGBoost 2.2 if not specified.\n",
      "[03:44:47] WARNING: /home/conda/feedstock_root/build_artifacts/xgboost-split_1707159369174/work/src/c_api/c_api.cc:1240: Saving into deprecated binary model format, please consider using `json` or `ubj`. Model format will default to JSON in XGBoost 2.2 if not specified.\n",
      "[03:44:50] WARNING: /home/conda/feedstock_root/build_artifacts/xgboost-split_1707159369174/work/src/c_api/c_api.cc:1240: Saving into deprecated binary model format, please consider using `json` or `ubj`. Model format will default to JSON in XGBoost 2.2 if not specified.\n",
      "[03:44:52] WARNING: /home/conda/feedstock_root/build_artifacts/xgboost-split_1707159369174/work/src/c_api/c_api.cc:1240: Saving into deprecated binary model format, please consider using `json` or `ubj`. Model format will default to JSON in XGBoost 2.2 if not specified.\n",
      "[03:44:55] WARNING: /home/conda/feedstock_root/build_artifacts/xgboost-split_1707159369174/work/src/c_api/c_api.cc:1240: Saving into deprecated binary model format, please consider using `json` or `ubj`. Model format will default to JSON in XGBoost 2.2 if not specified.\n",
      "[03:44:57] WARNING: /home/conda/feedstock_root/build_artifacts/xgboost-split_1707159369174/work/src/c_api/c_api.cc:1240: Saving into deprecated binary model format, please consider using `json` or `ubj`. Model format will default to JSON in XGBoost 2.2 if not specified.\n",
      "[03:45:00] WARNING: /home/conda/feedstock_root/build_artifacts/xgboost-split_1707159369174/work/src/c_api/c_api.cc:1240: Saving into deprecated binary model format, please consider using `json` or `ubj`. Model format will default to JSON in XGBoost 2.2 if not specified.\n",
      "[03:45:03] WARNING: /home/conda/feedstock_root/build_artifacts/xgboost-split_1707159369174/work/src/c_api/c_api.cc:1240: Saving into deprecated binary model format, please consider using `json` or `ubj`. Model format will default to JSON in XGBoost 2.2 if not specified.\n"
     ]
    },
    {
     "name": "stdout",
     "output_type": "stream",
     "text": [
      "Best Parameters: {'learning_rate': 0.03407728395635277, 'max_depth': 25, 'subsample': 0.5520255680435977, 'gamma': 0.18832274197567922, 'colsample_bytree': 0.5783125834217426, 'lambda': 2.9475570698953373, 'alpha': 1.465327088524008}\n"
     ]
    },
    {
     "name": "stderr",
     "output_type": "stream",
     "text": [
      "[03:45:09] WARNING: /home/conda/feedstock_root/build_artifacts/xgboost-split_1707159369174/work/src/c_api/c_api.cc:1240: Saving into deprecated binary model format, please consider using `json` or `ubj`. Model format will default to JSON in XGBoost 2.2 if not specified.\n"
     ]
    },
    {
     "name": "stdout",
     "output_type": "stream",
     "text": [
      "Results Summary: {'Match': 13, 'No Evaluation': 1}\n",
      "\n",
      "--- Evaluating model with feature H3K9me2_log added back ---\n",
      "\n"
     ]
    },
    {
     "name": "stderr",
     "output_type": "stream",
     "text": [
      "[03:45:17] WARNING: /home/conda/feedstock_root/build_artifacts/xgboost-split_1707159369174/work/src/c_api/c_api.cc:1240: Saving into deprecated binary model format, please consider using `json` or `ubj`. Model format will default to JSON in XGBoost 2.2 if not specified.\n"
     ]
    },
    {
     "name": "stdout",
     "output_type": "stream",
     "text": [
      "Results Summary: {'Match': 11, 'Mismatch': 3, 'No Evaluation': 1}\n",
      "Feature: H3K9me2_log, Known Function: Repressive, Result: Match\n",
      "\n",
      "--- Performing LOO for feature H3K4me3 ---\n",
      "\n",
      "Remaining Features: ['H2A.2', 'H3K4me1', 'H2A.13', 'H3K36me3', 'H4K5Ac', 'H2A.Z.11', 'expression_category', 'H3K27me3_log', 'H3K9Ac_log', 'cpg_percentage_log', 'H3K9K14Ac_log', 'H3Ac_log', 'chh_percentage_log', 'H4K20me1_log', 'chg_percentage_log', 'H2A.W.7_log', 'H3K9me1_log', 'H2A.W.6_log', 'H2A.Z.9_log', 'H3K23me1_log', 'H3K9me2_log']\n"
     ]
    },
    {
     "name": "stderr",
     "output_type": "stream",
     "text": [
      "[03:45:24] WARNING: /home/conda/feedstock_root/build_artifacts/xgboost-split_1707159369174/work/src/c_api/c_api.cc:1240: Saving into deprecated binary model format, please consider using `json` or `ubj`. Model format will default to JSON in XGBoost 2.2 if not specified.\n",
      "[03:45:30] WARNING: /home/conda/feedstock_root/build_artifacts/xgboost-split_1707159369174/work/src/c_api/c_api.cc:1240: Saving into deprecated binary model format, please consider using `json` or `ubj`. Model format will default to JSON in XGBoost 2.2 if not specified.\n",
      "[03:45:35] WARNING: /home/conda/feedstock_root/build_artifacts/xgboost-split_1707159369174/work/src/c_api/c_api.cc:1240: Saving into deprecated binary model format, please consider using `json` or `ubj`. Model format will default to JSON in XGBoost 2.2 if not specified.\n",
      "[03:45:39] WARNING: /home/conda/feedstock_root/build_artifacts/xgboost-split_1707159369174/work/src/c_api/c_api.cc:1240: Saving into deprecated binary model format, please consider using `json` or `ubj`. Model format will default to JSON in XGBoost 2.2 if not specified.\n",
      "[03:45:44] WARNING: /home/conda/feedstock_root/build_artifacts/xgboost-split_1707159369174/work/src/c_api/c_api.cc:1240: Saving into deprecated binary model format, please consider using `json` or `ubj`. Model format will default to JSON in XGBoost 2.2 if not specified.\n",
      "[03:45:53] WARNING: /home/conda/feedstock_root/build_artifacts/xgboost-split_1707159369174/work/src/c_api/c_api.cc:1240: Saving into deprecated binary model format, please consider using `json` or `ubj`. Model format will default to JSON in XGBoost 2.2 if not specified.\n",
      "[03:46:00] WARNING: /home/conda/feedstock_root/build_artifacts/xgboost-split_1707159369174/work/src/c_api/c_api.cc:1240: Saving into deprecated binary model format, please consider using `json` or `ubj`. Model format will default to JSON in XGBoost 2.2 if not specified.\n",
      "[03:46:08] WARNING: /home/conda/feedstock_root/build_artifacts/xgboost-split_1707159369174/work/src/c_api/c_api.cc:1240: Saving into deprecated binary model format, please consider using `json` or `ubj`. Model format will default to JSON in XGBoost 2.2 if not specified.\n",
      "[03:46:13] WARNING: /home/conda/feedstock_root/build_artifacts/xgboost-split_1707159369174/work/src/c_api/c_api.cc:1240: Saving into deprecated binary model format, please consider using `json` or `ubj`. Model format will default to JSON in XGBoost 2.2 if not specified.\n",
      "[03:46:17] WARNING: /home/conda/feedstock_root/build_artifacts/xgboost-split_1707159369174/work/src/c_api/c_api.cc:1240: Saving into deprecated binary model format, please consider using `json` or `ubj`. Model format will default to JSON in XGBoost 2.2 if not specified.\n",
      "[03:46:19] WARNING: /home/conda/feedstock_root/build_artifacts/xgboost-split_1707159369174/work/src/c_api/c_api.cc:1240: Saving into deprecated binary model format, please consider using `json` or `ubj`. Model format will default to JSON in XGBoost 2.2 if not specified.\n",
      "[03:46:22] WARNING: /home/conda/feedstock_root/build_artifacts/xgboost-split_1707159369174/work/src/c_api/c_api.cc:1240: Saving into deprecated binary model format, please consider using `json` or `ubj`. Model format will default to JSON in XGBoost 2.2 if not specified.\n",
      "[03:46:24] WARNING: /home/conda/feedstock_root/build_artifacts/xgboost-split_1707159369174/work/src/c_api/c_api.cc:1240: Saving into deprecated binary model format, please consider using `json` or `ubj`. Model format will default to JSON in XGBoost 2.2 if not specified.\n",
      "[03:46:28] WARNING: /home/conda/feedstock_root/build_artifacts/xgboost-split_1707159369174/work/src/c_api/c_api.cc:1240: Saving into deprecated binary model format, please consider using `json` or `ubj`. Model format will default to JSON in XGBoost 2.2 if not specified.\n",
      "[03:46:32] WARNING: /home/conda/feedstock_root/build_artifacts/xgboost-split_1707159369174/work/src/c_api/c_api.cc:1240: Saving into deprecated binary model format, please consider using `json` or `ubj`. Model format will default to JSON in XGBoost 2.2 if not specified.\n",
      "[03:46:34] WARNING: /home/conda/feedstock_root/build_artifacts/xgboost-split_1707159369174/work/src/c_api/c_api.cc:1240: Saving into deprecated binary model format, please consider using `json` or `ubj`. Model format will default to JSON in XGBoost 2.2 if not specified.\n",
      "[03:46:37] WARNING: /home/conda/feedstock_root/build_artifacts/xgboost-split_1707159369174/work/src/c_api/c_api.cc:1240: Saving into deprecated binary model format, please consider using `json` or `ubj`. Model format will default to JSON in XGBoost 2.2 if not specified.\n",
      "[03:46:39] WARNING: /home/conda/feedstock_root/build_artifacts/xgboost-split_1707159369174/work/src/c_api/c_api.cc:1240: Saving into deprecated binary model format, please consider using `json` or `ubj`. Model format will default to JSON in XGBoost 2.2 if not specified.\n",
      "[03:46:41] WARNING: /home/conda/feedstock_root/build_artifacts/xgboost-split_1707159369174/work/src/c_api/c_api.cc:1240: Saving into deprecated binary model format, please consider using `json` or `ubj`. Model format will default to JSON in XGBoost 2.2 if not specified.\n",
      "[03:46:43] WARNING: /home/conda/feedstock_root/build_artifacts/xgboost-split_1707159369174/work/src/c_api/c_api.cc:1240: Saving into deprecated binary model format, please consider using `json` or `ubj`. Model format will default to JSON in XGBoost 2.2 if not specified.\n",
      "[03:46:45] WARNING: /home/conda/feedstock_root/build_artifacts/xgboost-split_1707159369174/work/src/c_api/c_api.cc:1240: Saving into deprecated binary model format, please consider using `json` or `ubj`. Model format will default to JSON in XGBoost 2.2 if not specified.\n",
      "[03:46:47] WARNING: /home/conda/feedstock_root/build_artifacts/xgboost-split_1707159369174/work/src/c_api/c_api.cc:1240: Saving into deprecated binary model format, please consider using `json` or `ubj`. Model format will default to JSON in XGBoost 2.2 if not specified.\n",
      "[03:46:49] WARNING: /home/conda/feedstock_root/build_artifacts/xgboost-split_1707159369174/work/src/c_api/c_api.cc:1240: Saving into deprecated binary model format, please consider using `json` or `ubj`. Model format will default to JSON in XGBoost 2.2 if not specified.\n",
      "[03:46:52] WARNING: /home/conda/feedstock_root/build_artifacts/xgboost-split_1707159369174/work/src/c_api/c_api.cc:1240: Saving into deprecated binary model format, please consider using `json` or `ubj`. Model format will default to JSON in XGBoost 2.2 if not specified.\n",
      "[03:46:55] WARNING: /home/conda/feedstock_root/build_artifacts/xgboost-split_1707159369174/work/src/c_api/c_api.cc:1240: Saving into deprecated binary model format, please consider using `json` or `ubj`. Model format will default to JSON in XGBoost 2.2 if not specified.\n",
      "[03:46:57] WARNING: /home/conda/feedstock_root/build_artifacts/xgboost-split_1707159369174/work/src/c_api/c_api.cc:1240: Saving into deprecated binary model format, please consider using `json` or `ubj`. Model format will default to JSON in XGBoost 2.2 if not specified.\n",
      "[03:47:00] WARNING: /home/conda/feedstock_root/build_artifacts/xgboost-split_1707159369174/work/src/c_api/c_api.cc:1240: Saving into deprecated binary model format, please consider using `json` or `ubj`. Model format will default to JSON in XGBoost 2.2 if not specified.\n",
      "[03:47:02] WARNING: /home/conda/feedstock_root/build_artifacts/xgboost-split_1707159369174/work/src/c_api/c_api.cc:1240: Saving into deprecated binary model format, please consider using `json` or `ubj`. Model format will default to JSON in XGBoost 2.2 if not specified.\n",
      "[03:47:05] WARNING: /home/conda/feedstock_root/build_artifacts/xgboost-split_1707159369174/work/src/c_api/c_api.cc:1240: Saving into deprecated binary model format, please consider using `json` or `ubj`. Model format will default to JSON in XGBoost 2.2 if not specified.\n",
      "[03:47:09] WARNING: /home/conda/feedstock_root/build_artifacts/xgboost-split_1707159369174/work/src/c_api/c_api.cc:1240: Saving into deprecated binary model format, please consider using `json` or `ubj`. Model format will default to JSON in XGBoost 2.2 if not specified.\n",
      "[03:47:12] WARNING: /home/conda/feedstock_root/build_artifacts/xgboost-split_1707159369174/work/src/c_api/c_api.cc:1240: Saving into deprecated binary model format, please consider using `json` or `ubj`. Model format will default to JSON in XGBoost 2.2 if not specified.\n",
      "[03:47:15] WARNING: /home/conda/feedstock_root/build_artifacts/xgboost-split_1707159369174/work/src/c_api/c_api.cc:1240: Saving into deprecated binary model format, please consider using `json` or `ubj`. Model format will default to JSON in XGBoost 2.2 if not specified.\n",
      "[03:47:17] WARNING: /home/conda/feedstock_root/build_artifacts/xgboost-split_1707159369174/work/src/c_api/c_api.cc:1240: Saving into deprecated binary model format, please consider using `json` or `ubj`. Model format will default to JSON in XGBoost 2.2 if not specified.\n",
      "[03:47:20] WARNING: /home/conda/feedstock_root/build_artifacts/xgboost-split_1707159369174/work/src/c_api/c_api.cc:1240: Saving into deprecated binary model format, please consider using `json` or `ubj`. Model format will default to JSON in XGBoost 2.2 if not specified.\n",
      "[03:47:23] WARNING: /home/conda/feedstock_root/build_artifacts/xgboost-split_1707159369174/work/src/c_api/c_api.cc:1240: Saving into deprecated binary model format, please consider using `json` or `ubj`. Model format will default to JSON in XGBoost 2.2 if not specified.\n",
      "[03:47:26] WARNING: /home/conda/feedstock_root/build_artifacts/xgboost-split_1707159369174/work/src/c_api/c_api.cc:1240: Saving into deprecated binary model format, please consider using `json` or `ubj`. Model format will default to JSON in XGBoost 2.2 if not specified.\n",
      "[03:47:28] WARNING: /home/conda/feedstock_root/build_artifacts/xgboost-split_1707159369174/work/src/c_api/c_api.cc:1240: Saving into deprecated binary model format, please consider using `json` or `ubj`. Model format will default to JSON in XGBoost 2.2 if not specified.\n",
      "[03:47:32] WARNING: /home/conda/feedstock_root/build_artifacts/xgboost-split_1707159369174/work/src/c_api/c_api.cc:1240: Saving into deprecated binary model format, please consider using `json` or `ubj`. Model format will default to JSON in XGBoost 2.2 if not specified.\n",
      "[03:47:35] WARNING: /home/conda/feedstock_root/build_artifacts/xgboost-split_1707159369174/work/src/c_api/c_api.cc:1240: Saving into deprecated binary model format, please consider using `json` or `ubj`. Model format will default to JSON in XGBoost 2.2 if not specified.\n",
      "[03:47:39] WARNING: /home/conda/feedstock_root/build_artifacts/xgboost-split_1707159369174/work/src/c_api/c_api.cc:1240: Saving into deprecated binary model format, please consider using `json` or `ubj`. Model format will default to JSON in XGBoost 2.2 if not specified.\n"
     ]
    },
    {
     "name": "stdout",
     "output_type": "stream",
     "text": [
      "Best Parameters: {'learning_rate': 0.03319774133418583, 'max_depth': 22, 'subsample': 0.45530688421979926, 'gamma': 0.8924647781684371, 'colsample_bytree': 0.6100116220736771, 'lambda': 1.4878834264859935, 'alpha': 11.297285095391624}\n"
     ]
    },
    {
     "name": "stderr",
     "output_type": "stream",
     "text": [
      "[03:47:41] WARNING: /home/conda/feedstock_root/build_artifacts/xgboost-split_1707159369174/work/src/c_api/c_api.cc:1240: Saving into deprecated binary model format, please consider using `json` or `ubj`. Model format will default to JSON in XGBoost 2.2 if not specified.\n"
     ]
    },
    {
     "name": "stdout",
     "output_type": "stream",
     "text": [
      "Results Summary: {'Match': 13, 'Mismatch': 2, 'No Evaluation': 1}\n",
      "Removing mismatch feature: H4K5Ac\n",
      "Remaining Features: ['H2A.2', 'H3K4me1', 'H2A.13', 'H3K36me3', 'H2A.Z.11', 'expression_category', 'H3K27me3_log', 'H3K9Ac_log', 'cpg_percentage_log', 'H3K9K14Ac_log', 'H3Ac_log', 'chh_percentage_log', 'H4K20me1_log', 'chg_percentage_log', 'H2A.W.7_log', 'H3K9me1_log', 'H2A.W.6_log', 'H2A.Z.9_log', 'H3K23me1_log', 'H3K9me2_log']\n"
     ]
    },
    {
     "name": "stderr",
     "output_type": "stream",
     "text": [
      "[03:47:46] WARNING: /home/conda/feedstock_root/build_artifacts/xgboost-split_1707159369174/work/src/c_api/c_api.cc:1240: Saving into deprecated binary model format, please consider using `json` or `ubj`. Model format will default to JSON in XGBoost 2.2 if not specified.\n",
      "[03:47:50] WARNING: /home/conda/feedstock_root/build_artifacts/xgboost-split_1707159369174/work/src/c_api/c_api.cc:1240: Saving into deprecated binary model format, please consider using `json` or `ubj`. Model format will default to JSON in XGBoost 2.2 if not specified.\n",
      "[03:47:54] WARNING: /home/conda/feedstock_root/build_artifacts/xgboost-split_1707159369174/work/src/c_api/c_api.cc:1240: Saving into deprecated binary model format, please consider using `json` or `ubj`. Model format will default to JSON in XGBoost 2.2 if not specified.\n",
      "[03:47:58] WARNING: /home/conda/feedstock_root/build_artifacts/xgboost-split_1707159369174/work/src/c_api/c_api.cc:1240: Saving into deprecated binary model format, please consider using `json` or `ubj`. Model format will default to JSON in XGBoost 2.2 if not specified.\n",
      "[03:48:01] WARNING: /home/conda/feedstock_root/build_artifacts/xgboost-split_1707159369174/work/src/c_api/c_api.cc:1240: Saving into deprecated binary model format, please consider using `json` or `ubj`. Model format will default to JSON in XGBoost 2.2 if not specified.\n",
      "[03:48:03] WARNING: /home/conda/feedstock_root/build_artifacts/xgboost-split_1707159369174/work/src/c_api/c_api.cc:1240: Saving into deprecated binary model format, please consider using `json` or `ubj`. Model format will default to JSON in XGBoost 2.2 if not specified.\n",
      "[03:48:05] WARNING: /home/conda/feedstock_root/build_artifacts/xgboost-split_1707159369174/work/src/c_api/c_api.cc:1240: Saving into deprecated binary model format, please consider using `json` or `ubj`. Model format will default to JSON in XGBoost 2.2 if not specified.\n",
      "[03:48:07] WARNING: /home/conda/feedstock_root/build_artifacts/xgboost-split_1707159369174/work/src/c_api/c_api.cc:1240: Saving into deprecated binary model format, please consider using `json` or `ubj`. Model format will default to JSON in XGBoost 2.2 if not specified.\n",
      "[03:48:09] WARNING: /home/conda/feedstock_root/build_artifacts/xgboost-split_1707159369174/work/src/c_api/c_api.cc:1240: Saving into deprecated binary model format, please consider using `json` or `ubj`. Model format will default to JSON in XGBoost 2.2 if not specified.\n",
      "[03:48:11] WARNING: /home/conda/feedstock_root/build_artifacts/xgboost-split_1707159369174/work/src/c_api/c_api.cc:1240: Saving into deprecated binary model format, please consider using `json` or `ubj`. Model format will default to JSON in XGBoost 2.2 if not specified.\n",
      "[03:48:24] WARNING: /home/conda/feedstock_root/build_artifacts/xgboost-split_1707159369174/work/src/c_api/c_api.cc:1240: Saving into deprecated binary model format, please consider using `json` or `ubj`. Model format will default to JSON in XGBoost 2.2 if not specified.\n",
      "[03:48:33] WARNING: /home/conda/feedstock_root/build_artifacts/xgboost-split_1707159369174/work/src/c_api/c_api.cc:1240: Saving into deprecated binary model format, please consider using `json` or `ubj`. Model format will default to JSON in XGBoost 2.2 if not specified.\n",
      "[03:48:39] WARNING: /home/conda/feedstock_root/build_artifacts/xgboost-split_1707159369174/work/src/c_api/c_api.cc:1240: Saving into deprecated binary model format, please consider using `json` or `ubj`. Model format will default to JSON in XGBoost 2.2 if not specified.\n",
      "[03:48:44] WARNING: /home/conda/feedstock_root/build_artifacts/xgboost-split_1707159369174/work/src/c_api/c_api.cc:1240: Saving into deprecated binary model format, please consider using `json` or `ubj`. Model format will default to JSON in XGBoost 2.2 if not specified.\n",
      "[03:48:49] WARNING: /home/conda/feedstock_root/build_artifacts/xgboost-split_1707159369174/work/src/c_api/c_api.cc:1240: Saving into deprecated binary model format, please consider using `json` or `ubj`. Model format will default to JSON in XGBoost 2.2 if not specified.\n",
      "[03:48:54] WARNING: /home/conda/feedstock_root/build_artifacts/xgboost-split_1707159369174/work/src/c_api/c_api.cc:1240: Saving into deprecated binary model format, please consider using `json` or `ubj`. Model format will default to JSON in XGBoost 2.2 if not specified.\n",
      "[03:48:57] WARNING: /home/conda/feedstock_root/build_artifacts/xgboost-split_1707159369174/work/src/c_api/c_api.cc:1240: Saving into deprecated binary model format, please consider using `json` or `ubj`. Model format will default to JSON in XGBoost 2.2 if not specified.\n",
      "[03:48:59] WARNING: /home/conda/feedstock_root/build_artifacts/xgboost-split_1707159369174/work/src/c_api/c_api.cc:1240: Saving into deprecated binary model format, please consider using `json` or `ubj`. Model format will default to JSON in XGBoost 2.2 if not specified.\n",
      "[03:49:02] WARNING: /home/conda/feedstock_root/build_artifacts/xgboost-split_1707159369174/work/src/c_api/c_api.cc:1240: Saving into deprecated binary model format, please consider using `json` or `ubj`. Model format will default to JSON in XGBoost 2.2 if not specified.\n",
      "[03:49:06] WARNING: /home/conda/feedstock_root/build_artifacts/xgboost-split_1707159369174/work/src/c_api/c_api.cc:1240: Saving into deprecated binary model format, please consider using `json` or `ubj`. Model format will default to JSON in XGBoost 2.2 if not specified.\n",
      "[03:49:14] WARNING: /home/conda/feedstock_root/build_artifacts/xgboost-split_1707159369174/work/src/c_api/c_api.cc:1240: Saving into deprecated binary model format, please consider using `json` or `ubj`. Model format will default to JSON in XGBoost 2.2 if not specified.\n",
      "[03:49:25] WARNING: /home/conda/feedstock_root/build_artifacts/xgboost-split_1707159369174/work/src/c_api/c_api.cc:1240: Saving into deprecated binary model format, please consider using `json` or `ubj`. Model format will default to JSON in XGBoost 2.2 if not specified.\n",
      "[03:49:34] WARNING: /home/conda/feedstock_root/build_artifacts/xgboost-split_1707159369174/work/src/c_api/c_api.cc:1240: Saving into deprecated binary model format, please consider using `json` or `ubj`. Model format will default to JSON in XGBoost 2.2 if not specified.\n",
      "[03:49:43] WARNING: /home/conda/feedstock_root/build_artifacts/xgboost-split_1707159369174/work/src/c_api/c_api.cc:1240: Saving into deprecated binary model format, please consider using `json` or `ubj`. Model format will default to JSON in XGBoost 2.2 if not specified.\n",
      "[03:49:52] WARNING: /home/conda/feedstock_root/build_artifacts/xgboost-split_1707159369174/work/src/c_api/c_api.cc:1240: Saving into deprecated binary model format, please consider using `json` or `ubj`. Model format will default to JSON in XGBoost 2.2 if not specified.\n",
      "[03:50:00] WARNING: /home/conda/feedstock_root/build_artifacts/xgboost-split_1707159369174/work/src/c_api/c_api.cc:1240: Saving into deprecated binary model format, please consider using `json` or `ubj`. Model format will default to JSON in XGBoost 2.2 if not specified.\n",
      "[03:50:08] WARNING: /home/conda/feedstock_root/build_artifacts/xgboost-split_1707159369174/work/src/c_api/c_api.cc:1240: Saving into deprecated binary model format, please consider using `json` or `ubj`. Model format will default to JSON in XGBoost 2.2 if not specified.\n",
      "[03:50:13] WARNING: /home/conda/feedstock_root/build_artifacts/xgboost-split_1707159369174/work/src/c_api/c_api.cc:1240: Saving into deprecated binary model format, please consider using `json` or `ubj`. Model format will default to JSON in XGBoost 2.2 if not specified.\n",
      "[03:50:18] WARNING: /home/conda/feedstock_root/build_artifacts/xgboost-split_1707159369174/work/src/c_api/c_api.cc:1240: Saving into deprecated binary model format, please consider using `json` or `ubj`. Model format will default to JSON in XGBoost 2.2 if not specified.\n",
      "[03:50:23] WARNING: /home/conda/feedstock_root/build_artifacts/xgboost-split_1707159369174/work/src/c_api/c_api.cc:1240: Saving into deprecated binary model format, please consider using `json` or `ubj`. Model format will default to JSON in XGBoost 2.2 if not specified.\n",
      "[03:50:29] WARNING: /home/conda/feedstock_root/build_artifacts/xgboost-split_1707159369174/work/src/c_api/c_api.cc:1240: Saving into deprecated binary model format, please consider using `json` or `ubj`. Model format will default to JSON in XGBoost 2.2 if not specified.\n",
      "[03:50:37] WARNING: /home/conda/feedstock_root/build_artifacts/xgboost-split_1707159369174/work/src/c_api/c_api.cc:1240: Saving into deprecated binary model format, please consider using `json` or `ubj`. Model format will default to JSON in XGBoost 2.2 if not specified.\n",
      "[03:50:45] WARNING: /home/conda/feedstock_root/build_artifacts/xgboost-split_1707159369174/work/src/c_api/c_api.cc:1240: Saving into deprecated binary model format, please consider using `json` or `ubj`. Model format will default to JSON in XGBoost 2.2 if not specified.\n",
      "[03:50:52] WARNING: /home/conda/feedstock_root/build_artifacts/xgboost-split_1707159369174/work/src/c_api/c_api.cc:1240: Saving into deprecated binary model format, please consider using `json` or `ubj`. Model format will default to JSON in XGBoost 2.2 if not specified.\n",
      "[03:51:00] WARNING: /home/conda/feedstock_root/build_artifacts/xgboost-split_1707159369174/work/src/c_api/c_api.cc:1240: Saving into deprecated binary model format, please consider using `json` or `ubj`. Model format will default to JSON in XGBoost 2.2 if not specified.\n",
      "[03:51:06] WARNING: /home/conda/feedstock_root/build_artifacts/xgboost-split_1707159369174/work/src/c_api/c_api.cc:1240: Saving into deprecated binary model format, please consider using `json` or `ubj`. Model format will default to JSON in XGBoost 2.2 if not specified.\n",
      "[03:51:13] WARNING: /home/conda/feedstock_root/build_artifacts/xgboost-split_1707159369174/work/src/c_api/c_api.cc:1240: Saving into deprecated binary model format, please consider using `json` or `ubj`. Model format will default to JSON in XGBoost 2.2 if not specified.\n",
      "[03:51:21] WARNING: /home/conda/feedstock_root/build_artifacts/xgboost-split_1707159369174/work/src/c_api/c_api.cc:1240: Saving into deprecated binary model format, please consider using `json` or `ubj`. Model format will default to JSON in XGBoost 2.2 if not specified.\n",
      "[03:51:27] WARNING: /home/conda/feedstock_root/build_artifacts/xgboost-split_1707159369174/work/src/c_api/c_api.cc:1240: Saving into deprecated binary model format, please consider using `json` or `ubj`. Model format will default to JSON in XGBoost 2.2 if not specified.\n",
      "[03:51:33] WARNING: /home/conda/feedstock_root/build_artifacts/xgboost-split_1707159369174/work/src/c_api/c_api.cc:1240: Saving into deprecated binary model format, please consider using `json` or `ubj`. Model format will default to JSON in XGBoost 2.2 if not specified.\n"
     ]
    },
    {
     "name": "stdout",
     "output_type": "stream",
     "text": [
      "Best Parameters: {'learning_rate': 0.035513740517169316, 'max_depth': 21, 'subsample': 0.6687029376171939, 'gamma': 0.09047544937508789, 'colsample_bytree': 0.6504656636936443, 'lambda': 9.722422342765297, 'alpha': 3.8114938705679062}\n"
     ]
    },
    {
     "name": "stderr",
     "output_type": "stream",
     "text": [
      "[03:51:40] WARNING: /home/conda/feedstock_root/build_artifacts/xgboost-split_1707159369174/work/src/c_api/c_api.cc:1240: Saving into deprecated binary model format, please consider using `json` or `ubj`. Model format will default to JSON in XGBoost 2.2 if not specified.\n"
     ]
    },
    {
     "name": "stdout",
     "output_type": "stream",
     "text": [
      "Results Summary: {'Match': 13, 'Mismatch': 1, 'No Evaluation': 1}\n",
      "Removing mismatch feature: H3K4me1\n",
      "Remaining Features: ['H2A.2', 'H2A.13', 'H3K36me3', 'H2A.Z.11', 'expression_category', 'H3K27me3_log', 'H3K9Ac_log', 'cpg_percentage_log', 'H3K9K14Ac_log', 'H3Ac_log', 'chh_percentage_log', 'H4K20me1_log', 'chg_percentage_log', 'H2A.W.7_log', 'H3K9me1_log', 'H2A.W.6_log', 'H2A.Z.9_log', 'H3K23me1_log', 'H3K9me2_log']\n"
     ]
    },
    {
     "name": "stderr",
     "output_type": "stream",
     "text": [
      "[03:51:46] WARNING: /home/conda/feedstock_root/build_artifacts/xgboost-split_1707159369174/work/src/c_api/c_api.cc:1240: Saving into deprecated binary model format, please consider using `json` or `ubj`. Model format will default to JSON in XGBoost 2.2 if not specified.\n",
      "[03:51:49] WARNING: /home/conda/feedstock_root/build_artifacts/xgboost-split_1707159369174/work/src/c_api/c_api.cc:1240: Saving into deprecated binary model format, please consider using `json` or `ubj`. Model format will default to JSON in XGBoost 2.2 if not specified.\n",
      "[03:51:51] WARNING: /home/conda/feedstock_root/build_artifacts/xgboost-split_1707159369174/work/src/c_api/c_api.cc:1240: Saving into deprecated binary model format, please consider using `json` or `ubj`. Model format will default to JSON in XGBoost 2.2 if not specified.\n",
      "[03:51:55] WARNING: /home/conda/feedstock_root/build_artifacts/xgboost-split_1707159369174/work/src/c_api/c_api.cc:1240: Saving into deprecated binary model format, please consider using `json` or `ubj`. Model format will default to JSON in XGBoost 2.2 if not specified.\n",
      "[03:51:59] WARNING: /home/conda/feedstock_root/build_artifacts/xgboost-split_1707159369174/work/src/c_api/c_api.cc:1240: Saving into deprecated binary model format, please consider using `json` or `ubj`. Model format will default to JSON in XGBoost 2.2 if not specified.\n",
      "[03:52:02] WARNING: /home/conda/feedstock_root/build_artifacts/xgboost-split_1707159369174/work/src/c_api/c_api.cc:1240: Saving into deprecated binary model format, please consider using `json` or `ubj`. Model format will default to JSON in XGBoost 2.2 if not specified.\n",
      "[03:52:10] WARNING: /home/conda/feedstock_root/build_artifacts/xgboost-split_1707159369174/work/src/c_api/c_api.cc:1240: Saving into deprecated binary model format, please consider using `json` or `ubj`. Model format will default to JSON in XGBoost 2.2 if not specified.\n",
      "[03:52:18] WARNING: /home/conda/feedstock_root/build_artifacts/xgboost-split_1707159369174/work/src/c_api/c_api.cc:1240: Saving into deprecated binary model format, please consider using `json` or `ubj`. Model format will default to JSON in XGBoost 2.2 if not specified.\n",
      "[03:52:22] WARNING: /home/conda/feedstock_root/build_artifacts/xgboost-split_1707159369174/work/src/c_api/c_api.cc:1240: Saving into deprecated binary model format, please consider using `json` or `ubj`. Model format will default to JSON in XGBoost 2.2 if not specified.\n",
      "[03:52:24] WARNING: /home/conda/feedstock_root/build_artifacts/xgboost-split_1707159369174/work/src/c_api/c_api.cc:1240: Saving into deprecated binary model format, please consider using `json` or `ubj`. Model format will default to JSON in XGBoost 2.2 if not specified.\n",
      "[03:52:29] WARNING: /home/conda/feedstock_root/build_artifacts/xgboost-split_1707159369174/work/src/c_api/c_api.cc:1240: Saving into deprecated binary model format, please consider using `json` or `ubj`. Model format will default to JSON in XGBoost 2.2 if not specified.\n",
      "[03:52:35] WARNING: /home/conda/feedstock_root/build_artifacts/xgboost-split_1707159369174/work/src/c_api/c_api.cc:1240: Saving into deprecated binary model format, please consider using `json` or `ubj`. Model format will default to JSON in XGBoost 2.2 if not specified.\n",
      "[03:52:39] WARNING: /home/conda/feedstock_root/build_artifacts/xgboost-split_1707159369174/work/src/c_api/c_api.cc:1240: Saving into deprecated binary model format, please consider using `json` or `ubj`. Model format will default to JSON in XGBoost 2.2 if not specified.\n",
      "[03:52:46] WARNING: /home/conda/feedstock_root/build_artifacts/xgboost-split_1707159369174/work/src/c_api/c_api.cc:1240: Saving into deprecated binary model format, please consider using `json` or `ubj`. Model format will default to JSON in XGBoost 2.2 if not specified.\n",
      "[03:52:52] WARNING: /home/conda/feedstock_root/build_artifacts/xgboost-split_1707159369174/work/src/c_api/c_api.cc:1240: Saving into deprecated binary model format, please consider using `json` or `ubj`. Model format will default to JSON in XGBoost 2.2 if not specified.\n",
      "[03:52:58] WARNING: /home/conda/feedstock_root/build_artifacts/xgboost-split_1707159369174/work/src/c_api/c_api.cc:1240: Saving into deprecated binary model format, please consider using `json` or `ubj`. Model format will default to JSON in XGBoost 2.2 if not specified.\n",
      "[03:53:04] WARNING: /home/conda/feedstock_root/build_artifacts/xgboost-split_1707159369174/work/src/c_api/c_api.cc:1240: Saving into deprecated binary model format, please consider using `json` or `ubj`. Model format will default to JSON in XGBoost 2.2 if not specified.\n",
      "[03:53:11] WARNING: /home/conda/feedstock_root/build_artifacts/xgboost-split_1707159369174/work/src/c_api/c_api.cc:1240: Saving into deprecated binary model format, please consider using `json` or `ubj`. Model format will default to JSON in XGBoost 2.2 if not specified.\n",
      "[03:53:16] WARNING: /home/conda/feedstock_root/build_artifacts/xgboost-split_1707159369174/work/src/c_api/c_api.cc:1240: Saving into deprecated binary model format, please consider using `json` or `ubj`. Model format will default to JSON in XGBoost 2.2 if not specified.\n",
      "[03:53:18] WARNING: /home/conda/feedstock_root/build_artifacts/xgboost-split_1707159369174/work/src/c_api/c_api.cc:1240: Saving into deprecated binary model format, please consider using `json` or `ubj`. Model format will default to JSON in XGBoost 2.2 if not specified.\n",
      "[03:53:22] WARNING: /home/conda/feedstock_root/build_artifacts/xgboost-split_1707159369174/work/src/c_api/c_api.cc:1240: Saving into deprecated binary model format, please consider using `json` or `ubj`. Model format will default to JSON in XGBoost 2.2 if not specified.\n",
      "[03:53:26] WARNING: /home/conda/feedstock_root/build_artifacts/xgboost-split_1707159369174/work/src/c_api/c_api.cc:1240: Saving into deprecated binary model format, please consider using `json` or `ubj`. Model format will default to JSON in XGBoost 2.2 if not specified.\n",
      "[03:53:32] WARNING: /home/conda/feedstock_root/build_artifacts/xgboost-split_1707159369174/work/src/c_api/c_api.cc:1240: Saving into deprecated binary model format, please consider using `json` or `ubj`. Model format will default to JSON in XGBoost 2.2 if not specified.\n",
      "[03:53:37] WARNING: /home/conda/feedstock_root/build_artifacts/xgboost-split_1707159369174/work/src/c_api/c_api.cc:1240: Saving into deprecated binary model format, please consider using `json` or `ubj`. Model format will default to JSON in XGBoost 2.2 if not specified.\n",
      "[03:53:41] WARNING: /home/conda/feedstock_root/build_artifacts/xgboost-split_1707159369174/work/src/c_api/c_api.cc:1240: Saving into deprecated binary model format, please consider using `json` or `ubj`. Model format will default to JSON in XGBoost 2.2 if not specified.\n",
      "[03:53:47] WARNING: /home/conda/feedstock_root/build_artifacts/xgboost-split_1707159369174/work/src/c_api/c_api.cc:1240: Saving into deprecated binary model format, please consider using `json` or `ubj`. Model format will default to JSON in XGBoost 2.2 if not specified.\n",
      "[03:53:55] WARNING: /home/conda/feedstock_root/build_artifacts/xgboost-split_1707159369174/work/src/c_api/c_api.cc:1240: Saving into deprecated binary model format, please consider using `json` or `ubj`. Model format will default to JSON in XGBoost 2.2 if not specified.\n",
      "[03:54:01] WARNING: /home/conda/feedstock_root/build_artifacts/xgboost-split_1707159369174/work/src/c_api/c_api.cc:1240: Saving into deprecated binary model format, please consider using `json` or `ubj`. Model format will default to JSON in XGBoost 2.2 if not specified.\n",
      "[03:54:04] WARNING: /home/conda/feedstock_root/build_artifacts/xgboost-split_1707159369174/work/src/c_api/c_api.cc:1240: Saving into deprecated binary model format, please consider using `json` or `ubj`. Model format will default to JSON in XGBoost 2.2 if not specified.\n",
      "[03:54:08] WARNING: /home/conda/feedstock_root/build_artifacts/xgboost-split_1707159369174/work/src/c_api/c_api.cc:1240: Saving into deprecated binary model format, please consider using `json` or `ubj`. Model format will default to JSON in XGBoost 2.2 if not specified.\n",
      "[03:54:11] WARNING: /home/conda/feedstock_root/build_artifacts/xgboost-split_1707159369174/work/src/c_api/c_api.cc:1240: Saving into deprecated binary model format, please consider using `json` or `ubj`. Model format will default to JSON in XGBoost 2.2 if not specified.\n",
      "[03:54:17] WARNING: /home/conda/feedstock_root/build_artifacts/xgboost-split_1707159369174/work/src/c_api/c_api.cc:1240: Saving into deprecated binary model format, please consider using `json` or `ubj`. Model format will default to JSON in XGBoost 2.2 if not specified.\n",
      "[03:54:23] WARNING: /home/conda/feedstock_root/build_artifacts/xgboost-split_1707159369174/work/src/c_api/c_api.cc:1240: Saving into deprecated binary model format, please consider using `json` or `ubj`. Model format will default to JSON in XGBoost 2.2 if not specified.\n",
      "[03:54:32] WARNING: /home/conda/feedstock_root/build_artifacts/xgboost-split_1707159369174/work/src/c_api/c_api.cc:1240: Saving into deprecated binary model format, please consider using `json` or `ubj`. Model format will default to JSON in XGBoost 2.2 if not specified.\n",
      "[03:54:44] WARNING: /home/conda/feedstock_root/build_artifacts/xgboost-split_1707159369174/work/src/c_api/c_api.cc:1240: Saving into deprecated binary model format, please consider using `json` or `ubj`. Model format will default to JSON in XGBoost 2.2 if not specified.\n",
      "[03:54:59] WARNING: /home/conda/feedstock_root/build_artifacts/xgboost-split_1707159369174/work/src/c_api/c_api.cc:1240: Saving into deprecated binary model format, please consider using `json` or `ubj`. Model format will default to JSON in XGBoost 2.2 if not specified.\n",
      "[03:55:12] WARNING: /home/conda/feedstock_root/build_artifacts/xgboost-split_1707159369174/work/src/c_api/c_api.cc:1240: Saving into deprecated binary model format, please consider using `json` or `ubj`. Model format will default to JSON in XGBoost 2.2 if not specified.\n",
      "[03:55:24] WARNING: /home/conda/feedstock_root/build_artifacts/xgboost-split_1707159369174/work/src/c_api/c_api.cc:1240: Saving into deprecated binary model format, please consider using `json` or `ubj`. Model format will default to JSON in XGBoost 2.2 if not specified.\n",
      "[03:55:37] WARNING: /home/conda/feedstock_root/build_artifacts/xgboost-split_1707159369174/work/src/c_api/c_api.cc:1240: Saving into deprecated binary model format, please consider using `json` or `ubj`. Model format will default to JSON in XGBoost 2.2 if not specified.\n",
      "[03:55:49] WARNING: /home/conda/feedstock_root/build_artifacts/xgboost-split_1707159369174/work/src/c_api/c_api.cc:1240: Saving into deprecated binary model format, please consider using `json` or `ubj`. Model format will default to JSON in XGBoost 2.2 if not specified.\n"
     ]
    },
    {
     "name": "stdout",
     "output_type": "stream",
     "text": [
      "Best Parameters: {'learning_rate': 0.026421082358822567, 'max_depth': 25, 'subsample': 0.8137525649631564, 'gamma': 0.06469893622021176, 'colsample_bytree': 0.6668301925266502, 'lambda': 1.3993089756803478, 'alpha': 1.5642770929120475}\n"
     ]
    },
    {
     "name": "stderr",
     "output_type": "stream",
     "text": [
      "[03:56:02] WARNING: /home/conda/feedstock_root/build_artifacts/xgboost-split_1707159369174/work/src/c_api/c_api.cc:1240: Saving into deprecated binary model format, please consider using `json` or `ubj`. Model format will default to JSON in XGBoost 2.2 if not specified.\n"
     ]
    },
    {
     "name": "stdout",
     "output_type": "stream",
     "text": [
      "Results Summary: {'Match': 13, 'No Evaluation': 1}\n",
      "\n",
      "--- Evaluating model with feature H3K4me3 added back ---\n",
      "\n"
     ]
    },
    {
     "name": "stderr",
     "output_type": "stream",
     "text": [
      "[03:56:16] WARNING: /home/conda/feedstock_root/build_artifacts/xgboost-split_1707159369174/work/src/c_api/c_api.cc:1240: Saving into deprecated binary model format, please consider using `json` or `ubj`. Model format will default to JSON in XGBoost 2.2 if not specified.\n"
     ]
    },
    {
     "name": "stdout",
     "output_type": "stream",
     "text": [
      "Results Summary: {'Match': 13, 'Mismatch': 1, 'No Evaluation': 1}\n",
      "Feature: H3K4me3, Known Function: Activating, Result: Match\n",
      "\n",
      "--- Performing LOO for feature H3K36me3 ---\n",
      "\n",
      "Remaining Features: ['H2A.2', 'H3K4me1', 'H2A.13', 'H3K4me3', 'H4K5Ac', 'H2A.Z.11', 'expression_category', 'H3K27me3_log', 'H3K9Ac_log', 'cpg_percentage_log', 'H3K9K14Ac_log', 'H3Ac_log', 'chh_percentage_log', 'H4K20me1_log', 'chg_percentage_log', 'H2A.W.7_log', 'H3K9me1_log', 'H2A.W.6_log', 'H2A.Z.9_log', 'H3K23me1_log', 'H3K9me2_log']\n"
     ]
    },
    {
     "name": "stderr",
     "output_type": "stream",
     "text": [
      "[03:56:23] WARNING: /home/conda/feedstock_root/build_artifacts/xgboost-split_1707159369174/work/src/c_api/c_api.cc:1240: Saving into deprecated binary model format, please consider using `json` or `ubj`. Model format will default to JSON in XGBoost 2.2 if not specified.\n",
      "[03:56:26] WARNING: /home/conda/feedstock_root/build_artifacts/xgboost-split_1707159369174/work/src/c_api/c_api.cc:1240: Saving into deprecated binary model format, please consider using `json` or `ubj`. Model format will default to JSON in XGBoost 2.2 if not specified.\n",
      "[03:56:31] WARNING: /home/conda/feedstock_root/build_artifacts/xgboost-split_1707159369174/work/src/c_api/c_api.cc:1240: Saving into deprecated binary model format, please consider using `json` or `ubj`. Model format will default to JSON in XGBoost 2.2 if not specified.\n",
      "[03:56:36] WARNING: /home/conda/feedstock_root/build_artifacts/xgboost-split_1707159369174/work/src/c_api/c_api.cc:1240: Saving into deprecated binary model format, please consider using `json` or `ubj`. Model format will default to JSON in XGBoost 2.2 if not specified.\n",
      "[03:56:39] WARNING: /home/conda/feedstock_root/build_artifacts/xgboost-split_1707159369174/work/src/c_api/c_api.cc:1240: Saving into deprecated binary model format, please consider using `json` or `ubj`. Model format will default to JSON in XGBoost 2.2 if not specified.\n",
      "[03:56:43] WARNING: /home/conda/feedstock_root/build_artifacts/xgboost-split_1707159369174/work/src/c_api/c_api.cc:1240: Saving into deprecated binary model format, please consider using `json` or `ubj`. Model format will default to JSON in XGBoost 2.2 if not specified.\n",
      "[03:56:47] WARNING: /home/conda/feedstock_root/build_artifacts/xgboost-split_1707159369174/work/src/c_api/c_api.cc:1240: Saving into deprecated binary model format, please consider using `json` or `ubj`. Model format will default to JSON in XGBoost 2.2 if not specified.\n",
      "[03:56:52] WARNING: /home/conda/feedstock_root/build_artifacts/xgboost-split_1707159369174/work/src/c_api/c_api.cc:1240: Saving into deprecated binary model format, please consider using `json` or `ubj`. Model format will default to JSON in XGBoost 2.2 if not specified.\n",
      "[03:56:55] WARNING: /home/conda/feedstock_root/build_artifacts/xgboost-split_1707159369174/work/src/c_api/c_api.cc:1240: Saving into deprecated binary model format, please consider using `json` or `ubj`. Model format will default to JSON in XGBoost 2.2 if not specified.\n",
      "[03:56:57] WARNING: /home/conda/feedstock_root/build_artifacts/xgboost-split_1707159369174/work/src/c_api/c_api.cc:1240: Saving into deprecated binary model format, please consider using `json` or `ubj`. Model format will default to JSON in XGBoost 2.2 if not specified.\n",
      "[03:57:00] WARNING: /home/conda/feedstock_root/build_artifacts/xgboost-split_1707159369174/work/src/c_api/c_api.cc:1240: Saving into deprecated binary model format, please consider using `json` or `ubj`. Model format will default to JSON in XGBoost 2.2 if not specified.\n",
      "[03:57:03] WARNING: /home/conda/feedstock_root/build_artifacts/xgboost-split_1707159369174/work/src/c_api/c_api.cc:1240: Saving into deprecated binary model format, please consider using `json` or `ubj`. Model format will default to JSON in XGBoost 2.2 if not specified.\n",
      "[03:57:07] WARNING: /home/conda/feedstock_root/build_artifacts/xgboost-split_1707159369174/work/src/c_api/c_api.cc:1240: Saving into deprecated binary model format, please consider using `json` or `ubj`. Model format will default to JSON in XGBoost 2.2 if not specified.\n",
      "[03:57:10] WARNING: /home/conda/feedstock_root/build_artifacts/xgboost-split_1707159369174/work/src/c_api/c_api.cc:1240: Saving into deprecated binary model format, please consider using `json` or `ubj`. Model format will default to JSON in XGBoost 2.2 if not specified.\n",
      "[03:57:15] WARNING: /home/conda/feedstock_root/build_artifacts/xgboost-split_1707159369174/work/src/c_api/c_api.cc:1240: Saving into deprecated binary model format, please consider using `json` or `ubj`. Model format will default to JSON in XGBoost 2.2 if not specified.\n",
      "[03:57:19] WARNING: /home/conda/feedstock_root/build_artifacts/xgboost-split_1707159369174/work/src/c_api/c_api.cc:1240: Saving into deprecated binary model format, please consider using `json` or `ubj`. Model format will default to JSON in XGBoost 2.2 if not specified.\n",
      "[03:57:24] WARNING: /home/conda/feedstock_root/build_artifacts/xgboost-split_1707159369174/work/src/c_api/c_api.cc:1240: Saving into deprecated binary model format, please consider using `json` or `ubj`. Model format will default to JSON in XGBoost 2.2 if not specified.\n",
      "[03:57:29] WARNING: /home/conda/feedstock_root/build_artifacts/xgboost-split_1707159369174/work/src/c_api/c_api.cc:1240: Saving into deprecated binary model format, please consider using `json` or `ubj`. Model format will default to JSON in XGBoost 2.2 if not specified.\n",
      "[03:57:33] WARNING: /home/conda/feedstock_root/build_artifacts/xgboost-split_1707159369174/work/src/c_api/c_api.cc:1240: Saving into deprecated binary model format, please consider using `json` or `ubj`. Model format will default to JSON in XGBoost 2.2 if not specified.\n",
      "[03:57:38] WARNING: /home/conda/feedstock_root/build_artifacts/xgboost-split_1707159369174/work/src/c_api/c_api.cc:1240: Saving into deprecated binary model format, please consider using `json` or `ubj`. Model format will default to JSON in XGBoost 2.2 if not specified.\n",
      "[03:57:46] WARNING: /home/conda/feedstock_root/build_artifacts/xgboost-split_1707159369174/work/src/c_api/c_api.cc:1240: Saving into deprecated binary model format, please consider using `json` or `ubj`. Model format will default to JSON in XGBoost 2.2 if not specified.\n",
      "[03:57:53] WARNING: /home/conda/feedstock_root/build_artifacts/xgboost-split_1707159369174/work/src/c_api/c_api.cc:1240: Saving into deprecated binary model format, please consider using `json` or `ubj`. Model format will default to JSON in XGBoost 2.2 if not specified.\n",
      "[03:57:58] WARNING: /home/conda/feedstock_root/build_artifacts/xgboost-split_1707159369174/work/src/c_api/c_api.cc:1240: Saving into deprecated binary model format, please consider using `json` or `ubj`. Model format will default to JSON in XGBoost 2.2 if not specified.\n",
      "[03:58:03] WARNING: /home/conda/feedstock_root/build_artifacts/xgboost-split_1707159369174/work/src/c_api/c_api.cc:1240: Saving into deprecated binary model format, please consider using `json` or `ubj`. Model format will default to JSON in XGBoost 2.2 if not specified.\n",
      "[03:58:10] WARNING: /home/conda/feedstock_root/build_artifacts/xgboost-split_1707159369174/work/src/c_api/c_api.cc:1240: Saving into deprecated binary model format, please consider using `json` or `ubj`. Model format will default to JSON in XGBoost 2.2 if not specified.\n",
      "[03:58:16] WARNING: /home/conda/feedstock_root/build_artifacts/xgboost-split_1707159369174/work/src/c_api/c_api.cc:1240: Saving into deprecated binary model format, please consider using `json` or `ubj`. Model format will default to JSON in XGBoost 2.2 if not specified.\n",
      "[03:58:22] WARNING: /home/conda/feedstock_root/build_artifacts/xgboost-split_1707159369174/work/src/c_api/c_api.cc:1240: Saving into deprecated binary model format, please consider using `json` or `ubj`. Model format will default to JSON in XGBoost 2.2 if not specified.\n",
      "[03:58:27] WARNING: /home/conda/feedstock_root/build_artifacts/xgboost-split_1707159369174/work/src/c_api/c_api.cc:1240: Saving into deprecated binary model format, please consider using `json` or `ubj`. Model format will default to JSON in XGBoost 2.2 if not specified.\n",
      "[03:58:32] WARNING: /home/conda/feedstock_root/build_artifacts/xgboost-split_1707159369174/work/src/c_api/c_api.cc:1240: Saving into deprecated binary model format, please consider using `json` or `ubj`. Model format will default to JSON in XGBoost 2.2 if not specified.\n",
      "[03:58:38] WARNING: /home/conda/feedstock_root/build_artifacts/xgboost-split_1707159369174/work/src/c_api/c_api.cc:1240: Saving into deprecated binary model format, please consider using `json` or `ubj`. Model format will default to JSON in XGBoost 2.2 if not specified.\n",
      "[03:58:44] WARNING: /home/conda/feedstock_root/build_artifacts/xgboost-split_1707159369174/work/src/c_api/c_api.cc:1240: Saving into deprecated binary model format, please consider using `json` or `ubj`. Model format will default to JSON in XGBoost 2.2 if not specified.\n",
      "[03:58:49] WARNING: /home/conda/feedstock_root/build_artifacts/xgboost-split_1707159369174/work/src/c_api/c_api.cc:1240: Saving into deprecated binary model format, please consider using `json` or `ubj`. Model format will default to JSON in XGBoost 2.2 if not specified.\n",
      "[03:58:54] WARNING: /home/conda/feedstock_root/build_artifacts/xgboost-split_1707159369174/work/src/c_api/c_api.cc:1240: Saving into deprecated binary model format, please consider using `json` or `ubj`. Model format will default to JSON in XGBoost 2.2 if not specified.\n",
      "[03:58:58] WARNING: /home/conda/feedstock_root/build_artifacts/xgboost-split_1707159369174/work/src/c_api/c_api.cc:1240: Saving into deprecated binary model format, please consider using `json` or `ubj`. Model format will default to JSON in XGBoost 2.2 if not specified.\n",
      "[03:59:03] WARNING: /home/conda/feedstock_root/build_artifacts/xgboost-split_1707159369174/work/src/c_api/c_api.cc:1240: Saving into deprecated binary model format, please consider using `json` or `ubj`. Model format will default to JSON in XGBoost 2.2 if not specified.\n",
      "[03:59:07] WARNING: /home/conda/feedstock_root/build_artifacts/xgboost-split_1707159369174/work/src/c_api/c_api.cc:1240: Saving into deprecated binary model format, please consider using `json` or `ubj`. Model format will default to JSON in XGBoost 2.2 if not specified.\n",
      "[03:59:12] WARNING: /home/conda/feedstock_root/build_artifacts/xgboost-split_1707159369174/work/src/c_api/c_api.cc:1240: Saving into deprecated binary model format, please consider using `json` or `ubj`. Model format will default to JSON in XGBoost 2.2 if not specified.\n",
      "[03:59:16] WARNING: /home/conda/feedstock_root/build_artifacts/xgboost-split_1707159369174/work/src/c_api/c_api.cc:1240: Saving into deprecated binary model format, please consider using `json` or `ubj`. Model format will default to JSON in XGBoost 2.2 if not specified.\n",
      "[03:59:22] WARNING: /home/conda/feedstock_root/build_artifacts/xgboost-split_1707159369174/work/src/c_api/c_api.cc:1240: Saving into deprecated binary model format, please consider using `json` or `ubj`. Model format will default to JSON in XGBoost 2.2 if not specified.\n",
      "[03:59:28] WARNING: /home/conda/feedstock_root/build_artifacts/xgboost-split_1707159369174/work/src/c_api/c_api.cc:1240: Saving into deprecated binary model format, please consider using `json` or `ubj`. Model format will default to JSON in XGBoost 2.2 if not specified.\n"
     ]
    },
    {
     "name": "stdout",
     "output_type": "stream",
     "text": [
      "Best Parameters: {'learning_rate': 0.03909859317995872, 'max_depth': 25, 'subsample': 0.8120930926480786, 'gamma': 0.7972314199726304, 'colsample_bytree': 0.6413879047317694, 'lambda': 14.903957152200991, 'alpha': 4.348552116886552}\n"
     ]
    },
    {
     "name": "stderr",
     "output_type": "stream",
     "text": [
      "[03:59:33] WARNING: /home/conda/feedstock_root/build_artifacts/xgboost-split_1707159369174/work/src/c_api/c_api.cc:1240: Saving into deprecated binary model format, please consider using `json` or `ubj`. Model format will default to JSON in XGBoost 2.2 if not specified.\n"
     ]
    },
    {
     "name": "stdout",
     "output_type": "stream",
     "text": [
      "Results Summary: {'Match': 13, 'Mismatch': 2, 'No Evaluation': 1}\n",
      "Removing mismatch feature: H4K5Ac\n",
      "Remaining Features: ['H2A.2', 'H3K4me1', 'H2A.13', 'H3K4me3', 'H2A.Z.11', 'expression_category', 'H3K27me3_log', 'H3K9Ac_log', 'cpg_percentage_log', 'H3K9K14Ac_log', 'H3Ac_log', 'chh_percentage_log', 'H4K20me1_log', 'chg_percentage_log', 'H2A.W.7_log', 'H3K9me1_log', 'H2A.W.6_log', 'H2A.Z.9_log', 'H3K23me1_log', 'H3K9me2_log']\n"
     ]
    },
    {
     "name": "stderr",
     "output_type": "stream",
     "text": [
      "[03:59:39] WARNING: /home/conda/feedstock_root/build_artifacts/xgboost-split_1707159369174/work/src/c_api/c_api.cc:1240: Saving into deprecated binary model format, please consider using `json` or `ubj`. Model format will default to JSON in XGBoost 2.2 if not specified.\n",
      "[03:59:46] WARNING: /home/conda/feedstock_root/build_artifacts/xgboost-split_1707159369174/work/src/c_api/c_api.cc:1240: Saving into deprecated binary model format, please consider using `json` or `ubj`. Model format will default to JSON in XGBoost 2.2 if not specified.\n",
      "[03:59:50] WARNING: /home/conda/feedstock_root/build_artifacts/xgboost-split_1707159369174/work/src/c_api/c_api.cc:1240: Saving into deprecated binary model format, please consider using `json` or `ubj`. Model format will default to JSON in XGBoost 2.2 if not specified.\n",
      "[03:59:53] WARNING: /home/conda/feedstock_root/build_artifacts/xgboost-split_1707159369174/work/src/c_api/c_api.cc:1240: Saving into deprecated binary model format, please consider using `json` or `ubj`. Model format will default to JSON in XGBoost 2.2 if not specified.\n",
      "[03:59:56] WARNING: /home/conda/feedstock_root/build_artifacts/xgboost-split_1707159369174/work/src/c_api/c_api.cc:1240: Saving into deprecated binary model format, please consider using `json` or `ubj`. Model format will default to JSON in XGBoost 2.2 if not specified.\n",
      "[03:59:59] WARNING: /home/conda/feedstock_root/build_artifacts/xgboost-split_1707159369174/work/src/c_api/c_api.cc:1240: Saving into deprecated binary model format, please consider using `json` or `ubj`. Model format will default to JSON in XGBoost 2.2 if not specified.\n",
      "[04:00:03] WARNING: /home/conda/feedstock_root/build_artifacts/xgboost-split_1707159369174/work/src/c_api/c_api.cc:1240: Saving into deprecated binary model format, please consider using `json` or `ubj`. Model format will default to JSON in XGBoost 2.2 if not specified.\n",
      "[04:00:09] WARNING: /home/conda/feedstock_root/build_artifacts/xgboost-split_1707159369174/work/src/c_api/c_api.cc:1240: Saving into deprecated binary model format, please consider using `json` or `ubj`. Model format will default to JSON in XGBoost 2.2 if not specified.\n",
      "[04:00:15] WARNING: /home/conda/feedstock_root/build_artifacts/xgboost-split_1707159369174/work/src/c_api/c_api.cc:1240: Saving into deprecated binary model format, please consider using `json` or `ubj`. Model format will default to JSON in XGBoost 2.2 if not specified.\n",
      "[04:00:19] WARNING: /home/conda/feedstock_root/build_artifacts/xgboost-split_1707159369174/work/src/c_api/c_api.cc:1240: Saving into deprecated binary model format, please consider using `json` or `ubj`. Model format will default to JSON in XGBoost 2.2 if not specified.\n",
      "[04:00:23] WARNING: /home/conda/feedstock_root/build_artifacts/xgboost-split_1707159369174/work/src/c_api/c_api.cc:1240: Saving into deprecated binary model format, please consider using `json` or `ubj`. Model format will default to JSON in XGBoost 2.2 if not specified.\n",
      "[04:00:27] WARNING: /home/conda/feedstock_root/build_artifacts/xgboost-split_1707159369174/work/src/c_api/c_api.cc:1240: Saving into deprecated binary model format, please consider using `json` or `ubj`. Model format will default to JSON in XGBoost 2.2 if not specified.\n",
      "[04:00:32] WARNING: /home/conda/feedstock_root/build_artifacts/xgboost-split_1707159369174/work/src/c_api/c_api.cc:1240: Saving into deprecated binary model format, please consider using `json` or `ubj`. Model format will default to JSON in XGBoost 2.2 if not specified.\n",
      "[04:00:38] WARNING: /home/conda/feedstock_root/build_artifacts/xgboost-split_1707159369174/work/src/c_api/c_api.cc:1240: Saving into deprecated binary model format, please consider using `json` or `ubj`. Model format will default to JSON in XGBoost 2.2 if not specified.\n",
      "[04:00:43] WARNING: /home/conda/feedstock_root/build_artifacts/xgboost-split_1707159369174/work/src/c_api/c_api.cc:1240: Saving into deprecated binary model format, please consider using `json` or `ubj`. Model format will default to JSON in XGBoost 2.2 if not specified.\n",
      "[04:00:47] WARNING: /home/conda/feedstock_root/build_artifacts/xgboost-split_1707159369174/work/src/c_api/c_api.cc:1240: Saving into deprecated binary model format, please consider using `json` or `ubj`. Model format will default to JSON in XGBoost 2.2 if not specified.\n",
      "[04:00:52] WARNING: /home/conda/feedstock_root/build_artifacts/xgboost-split_1707159369174/work/src/c_api/c_api.cc:1240: Saving into deprecated binary model format, please consider using `json` or `ubj`. Model format will default to JSON in XGBoost 2.2 if not specified.\n",
      "[04:00:55] WARNING: /home/conda/feedstock_root/build_artifacts/xgboost-split_1707159369174/work/src/c_api/c_api.cc:1240: Saving into deprecated binary model format, please consider using `json` or `ubj`. Model format will default to JSON in XGBoost 2.2 if not specified.\n",
      "[04:01:00] WARNING: /home/conda/feedstock_root/build_artifacts/xgboost-split_1707159369174/work/src/c_api/c_api.cc:1240: Saving into deprecated binary model format, please consider using `json` or `ubj`. Model format will default to JSON in XGBoost 2.2 if not specified.\n",
      "[04:01:07] WARNING: /home/conda/feedstock_root/build_artifacts/xgboost-split_1707159369174/work/src/c_api/c_api.cc:1240: Saving into deprecated binary model format, please consider using `json` or `ubj`. Model format will default to JSON in XGBoost 2.2 if not specified.\n",
      "[04:01:12] WARNING: /home/conda/feedstock_root/build_artifacts/xgboost-split_1707159369174/work/src/c_api/c_api.cc:1240: Saving into deprecated binary model format, please consider using `json` or `ubj`. Model format will default to JSON in XGBoost 2.2 if not specified.\n",
      "[04:01:16] WARNING: /home/conda/feedstock_root/build_artifacts/xgboost-split_1707159369174/work/src/c_api/c_api.cc:1240: Saving into deprecated binary model format, please consider using `json` or `ubj`. Model format will default to JSON in XGBoost 2.2 if not specified.\n",
      "[04:01:20] WARNING: /home/conda/feedstock_root/build_artifacts/xgboost-split_1707159369174/work/src/c_api/c_api.cc:1240: Saving into deprecated binary model format, please consider using `json` or `ubj`. Model format will default to JSON in XGBoost 2.2 if not specified.\n",
      "[04:01:28] WARNING: /home/conda/feedstock_root/build_artifacts/xgboost-split_1707159369174/work/src/c_api/c_api.cc:1240: Saving into deprecated binary model format, please consider using `json` or `ubj`. Model format will default to JSON in XGBoost 2.2 if not specified.\n",
      "[04:01:35] WARNING: /home/conda/feedstock_root/build_artifacts/xgboost-split_1707159369174/work/src/c_api/c_api.cc:1240: Saving into deprecated binary model format, please consider using `json` or `ubj`. Model format will default to JSON in XGBoost 2.2 if not specified.\n",
      "[04:01:39] WARNING: /home/conda/feedstock_root/build_artifacts/xgboost-split_1707159369174/work/src/c_api/c_api.cc:1240: Saving into deprecated binary model format, please consider using `json` or `ubj`. Model format will default to JSON in XGBoost 2.2 if not specified.\n",
      "[04:01:44] WARNING: /home/conda/feedstock_root/build_artifacts/xgboost-split_1707159369174/work/src/c_api/c_api.cc:1240: Saving into deprecated binary model format, please consider using `json` or `ubj`. Model format will default to JSON in XGBoost 2.2 if not specified.\n",
      "[04:01:48] WARNING: /home/conda/feedstock_root/build_artifacts/xgboost-split_1707159369174/work/src/c_api/c_api.cc:1240: Saving into deprecated binary model format, please consider using `json` or `ubj`. Model format will default to JSON in XGBoost 2.2 if not specified.\n",
      "[04:01:53] WARNING: /home/conda/feedstock_root/build_artifacts/xgboost-split_1707159369174/work/src/c_api/c_api.cc:1240: Saving into deprecated binary model format, please consider using `json` or `ubj`. Model format will default to JSON in XGBoost 2.2 if not specified.\n",
      "[04:02:00] WARNING: /home/conda/feedstock_root/build_artifacts/xgboost-split_1707159369174/work/src/c_api/c_api.cc:1240: Saving into deprecated binary model format, please consider using `json` or `ubj`. Model format will default to JSON in XGBoost 2.2 if not specified.\n",
      "[04:02:07] WARNING: /home/conda/feedstock_root/build_artifacts/xgboost-split_1707159369174/work/src/c_api/c_api.cc:1240: Saving into deprecated binary model format, please consider using `json` or `ubj`. Model format will default to JSON in XGBoost 2.2 if not specified.\n",
      "[04:02:13] WARNING: /home/conda/feedstock_root/build_artifacts/xgboost-split_1707159369174/work/src/c_api/c_api.cc:1240: Saving into deprecated binary model format, please consider using `json` or `ubj`. Model format will default to JSON in XGBoost 2.2 if not specified.\n",
      "[04:02:20] WARNING: /home/conda/feedstock_root/build_artifacts/xgboost-split_1707159369174/work/src/c_api/c_api.cc:1240: Saving into deprecated binary model format, please consider using `json` or `ubj`. Model format will default to JSON in XGBoost 2.2 if not specified.\n",
      "[04:02:28] WARNING: /home/conda/feedstock_root/build_artifacts/xgboost-split_1707159369174/work/src/c_api/c_api.cc:1240: Saving into deprecated binary model format, please consider using `json` or `ubj`. Model format will default to JSON in XGBoost 2.2 if not specified.\n",
      "[04:02:34] WARNING: /home/conda/feedstock_root/build_artifacts/xgboost-split_1707159369174/work/src/c_api/c_api.cc:1240: Saving into deprecated binary model format, please consider using `json` or `ubj`. Model format will default to JSON in XGBoost 2.2 if not specified.\n",
      "[04:02:40] WARNING: /home/conda/feedstock_root/build_artifacts/xgboost-split_1707159369174/work/src/c_api/c_api.cc:1240: Saving into deprecated binary model format, please consider using `json` or `ubj`. Model format will default to JSON in XGBoost 2.2 if not specified.\n",
      "[04:02:46] WARNING: /home/conda/feedstock_root/build_artifacts/xgboost-split_1707159369174/work/src/c_api/c_api.cc:1240: Saving into deprecated binary model format, please consider using `json` or `ubj`. Model format will default to JSON in XGBoost 2.2 if not specified.\n",
      "[04:02:49] WARNING: /home/conda/feedstock_root/build_artifacts/xgboost-split_1707159369174/work/src/c_api/c_api.cc:1240: Saving into deprecated binary model format, please consider using `json` or `ubj`. Model format will default to JSON in XGBoost 2.2 if not specified.\n",
      "[04:02:53] WARNING: /home/conda/feedstock_root/build_artifacts/xgboost-split_1707159369174/work/src/c_api/c_api.cc:1240: Saving into deprecated binary model format, please consider using `json` or `ubj`. Model format will default to JSON in XGBoost 2.2 if not specified.\n",
      "[04:02:59] WARNING: /home/conda/feedstock_root/build_artifacts/xgboost-split_1707159369174/work/src/c_api/c_api.cc:1240: Saving into deprecated binary model format, please consider using `json` or `ubj`. Model format will default to JSON in XGBoost 2.2 if not specified.\n"
     ]
    },
    {
     "name": "stdout",
     "output_type": "stream",
     "text": [
      "Best Parameters: {'learning_rate': 0.025077276989491255, 'max_depth': 30, 'subsample': 0.9397802550145807, 'gamma': 0.3159765483958795, 'colsample_bytree': 0.6013363000619116, 'lambda': 6.011703985673551, 'alpha': 9.285325108291739}\n"
     ]
    },
    {
     "name": "stderr",
     "output_type": "stream",
     "text": [
      "[04:03:04] WARNING: /home/conda/feedstock_root/build_artifacts/xgboost-split_1707159369174/work/src/c_api/c_api.cc:1240: Saving into deprecated binary model format, please consider using `json` or `ubj`. Model format will default to JSON in XGBoost 2.2 if not specified.\n"
     ]
    },
    {
     "name": "stdout",
     "output_type": "stream",
     "text": [
      "Results Summary: {'Match': 13, 'Mismatch': 1, 'No Evaluation': 1}\n",
      "Removing mismatch feature: H3K4me1\n",
      "Remaining Features: ['H2A.2', 'H2A.13', 'H3K4me3', 'H2A.Z.11', 'expression_category', 'H3K27me3_log', 'H3K9Ac_log', 'cpg_percentage_log', 'H3K9K14Ac_log', 'H3Ac_log', 'chh_percentage_log', 'H4K20me1_log', 'chg_percentage_log', 'H2A.W.7_log', 'H3K9me1_log', 'H2A.W.6_log', 'H2A.Z.9_log', 'H3K23me1_log', 'H3K9me2_log']\n"
     ]
    },
    {
     "name": "stderr",
     "output_type": "stream",
     "text": [
      "[04:03:07] WARNING: /home/conda/feedstock_root/build_artifacts/xgboost-split_1707159369174/work/src/c_api/c_api.cc:1240: Saving into deprecated binary model format, please consider using `json` or `ubj`. Model format will default to JSON in XGBoost 2.2 if not specified.\n",
      "[04:03:11] WARNING: /home/conda/feedstock_root/build_artifacts/xgboost-split_1707159369174/work/src/c_api/c_api.cc:1240: Saving into deprecated binary model format, please consider using `json` or `ubj`. Model format will default to JSON in XGBoost 2.2 if not specified.\n",
      "[04:03:16] WARNING: /home/conda/feedstock_root/build_artifacts/xgboost-split_1707159369174/work/src/c_api/c_api.cc:1240: Saving into deprecated binary model format, please consider using `json` or `ubj`. Model format will default to JSON in XGBoost 2.2 if not specified.\n",
      "[04:03:21] WARNING: /home/conda/feedstock_root/build_artifacts/xgboost-split_1707159369174/work/src/c_api/c_api.cc:1240: Saving into deprecated binary model format, please consider using `json` or `ubj`. Model format will default to JSON in XGBoost 2.2 if not specified.\n",
      "[04:03:25] WARNING: /home/conda/feedstock_root/build_artifacts/xgboost-split_1707159369174/work/src/c_api/c_api.cc:1240: Saving into deprecated binary model format, please consider using `json` or `ubj`. Model format will default to JSON in XGBoost 2.2 if not specified.\n",
      "[04:03:32] WARNING: /home/conda/feedstock_root/build_artifacts/xgboost-split_1707159369174/work/src/c_api/c_api.cc:1240: Saving into deprecated binary model format, please consider using `json` or `ubj`. Model format will default to JSON in XGBoost 2.2 if not specified.\n",
      "[04:03:40] WARNING: /home/conda/feedstock_root/build_artifacts/xgboost-split_1707159369174/work/src/c_api/c_api.cc:1240: Saving into deprecated binary model format, please consider using `json` or `ubj`. Model format will default to JSON in XGBoost 2.2 if not specified.\n",
      "[04:03:44] WARNING: /home/conda/feedstock_root/build_artifacts/xgboost-split_1707159369174/work/src/c_api/c_api.cc:1240: Saving into deprecated binary model format, please consider using `json` or `ubj`. Model format will default to JSON in XGBoost 2.2 if not specified.\n",
      "[04:03:47] WARNING: /home/conda/feedstock_root/build_artifacts/xgboost-split_1707159369174/work/src/c_api/c_api.cc:1240: Saving into deprecated binary model format, please consider using `json` or `ubj`. Model format will default to JSON in XGBoost 2.2 if not specified.\n",
      "[04:03:52] WARNING: /home/conda/feedstock_root/build_artifacts/xgboost-split_1707159369174/work/src/c_api/c_api.cc:1240: Saving into deprecated binary model format, please consider using `json` or `ubj`. Model format will default to JSON in XGBoost 2.2 if not specified.\n",
      "[04:03:55] WARNING: /home/conda/feedstock_root/build_artifacts/xgboost-split_1707159369174/work/src/c_api/c_api.cc:1240: Saving into deprecated binary model format, please consider using `json` or `ubj`. Model format will default to JSON in XGBoost 2.2 if not specified.\n",
      "[04:03:57] WARNING: /home/conda/feedstock_root/build_artifacts/xgboost-split_1707159369174/work/src/c_api/c_api.cc:1240: Saving into deprecated binary model format, please consider using `json` or `ubj`. Model format will default to JSON in XGBoost 2.2 if not specified.\n",
      "[04:04:00] WARNING: /home/conda/feedstock_root/build_artifacts/xgboost-split_1707159369174/work/src/c_api/c_api.cc:1240: Saving into deprecated binary model format, please consider using `json` or `ubj`. Model format will default to JSON in XGBoost 2.2 if not specified.\n",
      "[04:04:03] WARNING: /home/conda/feedstock_root/build_artifacts/xgboost-split_1707159369174/work/src/c_api/c_api.cc:1240: Saving into deprecated binary model format, please consider using `json` or `ubj`. Model format will default to JSON in XGBoost 2.2 if not specified.\n",
      "[04:04:06] WARNING: /home/conda/feedstock_root/build_artifacts/xgboost-split_1707159369174/work/src/c_api/c_api.cc:1240: Saving into deprecated binary model format, please consider using `json` or `ubj`. Model format will default to JSON in XGBoost 2.2 if not specified.\n",
      "[04:04:10] WARNING: /home/conda/feedstock_root/build_artifacts/xgboost-split_1707159369174/work/src/c_api/c_api.cc:1240: Saving into deprecated binary model format, please consider using `json` or `ubj`. Model format will default to JSON in XGBoost 2.2 if not specified.\n",
      "[04:04:14] WARNING: /home/conda/feedstock_root/build_artifacts/xgboost-split_1707159369174/work/src/c_api/c_api.cc:1240: Saving into deprecated binary model format, please consider using `json` or `ubj`. Model format will default to JSON in XGBoost 2.2 if not specified.\n",
      "[04:04:18] WARNING: /home/conda/feedstock_root/build_artifacts/xgboost-split_1707159369174/work/src/c_api/c_api.cc:1240: Saving into deprecated binary model format, please consider using `json` or `ubj`. Model format will default to JSON in XGBoost 2.2 if not specified.\n",
      "[04:04:20] WARNING: /home/conda/feedstock_root/build_artifacts/xgboost-split_1707159369174/work/src/c_api/c_api.cc:1240: Saving into deprecated binary model format, please consider using `json` or `ubj`. Model format will default to JSON in XGBoost 2.2 if not specified.\n",
      "[04:04:24] WARNING: /home/conda/feedstock_root/build_artifacts/xgboost-split_1707159369174/work/src/c_api/c_api.cc:1240: Saving into deprecated binary model format, please consider using `json` or `ubj`. Model format will default to JSON in XGBoost 2.2 if not specified.\n",
      "[04:04:28] WARNING: /home/conda/feedstock_root/build_artifacts/xgboost-split_1707159369174/work/src/c_api/c_api.cc:1240: Saving into deprecated binary model format, please consider using `json` or `ubj`. Model format will default to JSON in XGBoost 2.2 if not specified.\n",
      "[04:04:30] WARNING: /home/conda/feedstock_root/build_artifacts/xgboost-split_1707159369174/work/src/c_api/c_api.cc:1240: Saving into deprecated binary model format, please consider using `json` or `ubj`. Model format will default to JSON in XGBoost 2.2 if not specified.\n",
      "[04:04:33] WARNING: /home/conda/feedstock_root/build_artifacts/xgboost-split_1707159369174/work/src/c_api/c_api.cc:1240: Saving into deprecated binary model format, please consider using `json` or `ubj`. Model format will default to JSON in XGBoost 2.2 if not specified.\n",
      "[04:04:35] WARNING: /home/conda/feedstock_root/build_artifacts/xgboost-split_1707159369174/work/src/c_api/c_api.cc:1240: Saving into deprecated binary model format, please consider using `json` or `ubj`. Model format will default to JSON in XGBoost 2.2 if not specified.\n",
      "[04:04:38] WARNING: /home/conda/feedstock_root/build_artifacts/xgboost-split_1707159369174/work/src/c_api/c_api.cc:1240: Saving into deprecated binary model format, please consider using `json` or `ubj`. Model format will default to JSON in XGBoost 2.2 if not specified.\n",
      "[04:04:41] WARNING: /home/conda/feedstock_root/build_artifacts/xgboost-split_1707159369174/work/src/c_api/c_api.cc:1240: Saving into deprecated binary model format, please consider using `json` or `ubj`. Model format will default to JSON in XGBoost 2.2 if not specified.\n",
      "[04:04:44] WARNING: /home/conda/feedstock_root/build_artifacts/xgboost-split_1707159369174/work/src/c_api/c_api.cc:1240: Saving into deprecated binary model format, please consider using `json` or `ubj`. Model format will default to JSON in XGBoost 2.2 if not specified.\n",
      "[04:04:47] WARNING: /home/conda/feedstock_root/build_artifacts/xgboost-split_1707159369174/work/src/c_api/c_api.cc:1240: Saving into deprecated binary model format, please consider using `json` or `ubj`. Model format will default to JSON in XGBoost 2.2 if not specified.\n",
      "[04:04:50] WARNING: /home/conda/feedstock_root/build_artifacts/xgboost-split_1707159369174/work/src/c_api/c_api.cc:1240: Saving into deprecated binary model format, please consider using `json` or `ubj`. Model format will default to JSON in XGBoost 2.2 if not specified.\n",
      "[04:04:53] WARNING: /home/conda/feedstock_root/build_artifacts/xgboost-split_1707159369174/work/src/c_api/c_api.cc:1240: Saving into deprecated binary model format, please consider using `json` or `ubj`. Model format will default to JSON in XGBoost 2.2 if not specified.\n",
      "[04:04:56] WARNING: /home/conda/feedstock_root/build_artifacts/xgboost-split_1707159369174/work/src/c_api/c_api.cc:1240: Saving into deprecated binary model format, please consider using `json` or `ubj`. Model format will default to JSON in XGBoost 2.2 if not specified.\n",
      "[04:04:59] WARNING: /home/conda/feedstock_root/build_artifacts/xgboost-split_1707159369174/work/src/c_api/c_api.cc:1240: Saving into deprecated binary model format, please consider using `json` or `ubj`. Model format will default to JSON in XGBoost 2.2 if not specified.\n",
      "[04:05:02] WARNING: /home/conda/feedstock_root/build_artifacts/xgboost-split_1707159369174/work/src/c_api/c_api.cc:1240: Saving into deprecated binary model format, please consider using `json` or `ubj`. Model format will default to JSON in XGBoost 2.2 if not specified.\n",
      "[04:05:04] WARNING: /home/conda/feedstock_root/build_artifacts/xgboost-split_1707159369174/work/src/c_api/c_api.cc:1240: Saving into deprecated binary model format, please consider using `json` or `ubj`. Model format will default to JSON in XGBoost 2.2 if not specified.\n",
      "[04:05:07] WARNING: /home/conda/feedstock_root/build_artifacts/xgboost-split_1707159369174/work/src/c_api/c_api.cc:1240: Saving into deprecated binary model format, please consider using `json` or `ubj`. Model format will default to JSON in XGBoost 2.2 if not specified.\n",
      "[04:05:10] WARNING: /home/conda/feedstock_root/build_artifacts/xgboost-split_1707159369174/work/src/c_api/c_api.cc:1240: Saving into deprecated binary model format, please consider using `json` or `ubj`. Model format will default to JSON in XGBoost 2.2 if not specified.\n",
      "[04:05:14] WARNING: /home/conda/feedstock_root/build_artifacts/xgboost-split_1707159369174/work/src/c_api/c_api.cc:1240: Saving into deprecated binary model format, please consider using `json` or `ubj`. Model format will default to JSON in XGBoost 2.2 if not specified.\n",
      "[04:05:18] WARNING: /home/conda/feedstock_root/build_artifacts/xgboost-split_1707159369174/work/src/c_api/c_api.cc:1240: Saving into deprecated binary model format, please consider using `json` or `ubj`. Model format will default to JSON in XGBoost 2.2 if not specified.\n",
      "[04:05:22] WARNING: /home/conda/feedstock_root/build_artifacts/xgboost-split_1707159369174/work/src/c_api/c_api.cc:1240: Saving into deprecated binary model format, please consider using `json` or `ubj`. Model format will default to JSON in XGBoost 2.2 if not specified.\n",
      "[04:05:25] WARNING: /home/conda/feedstock_root/build_artifacts/xgboost-split_1707159369174/work/src/c_api/c_api.cc:1240: Saving into deprecated binary model format, please consider using `json` or `ubj`. Model format will default to JSON in XGBoost 2.2 if not specified.\n"
     ]
    },
    {
     "name": "stdout",
     "output_type": "stream",
     "text": [
      "Best Parameters: {'learning_rate': 0.017963460182627667, 'max_depth': 21, 'subsample': 0.40064740631003654, 'gamma': 0.33652056983432493, 'colsample_bytree': 0.7065351549296386, 'lambda': 10.692091115522373, 'alpha': 7.844295295534352}\n"
     ]
    },
    {
     "name": "stderr",
     "output_type": "stream",
     "text": [
      "[04:05:28] WARNING: /home/conda/feedstock_root/build_artifacts/xgboost-split_1707159369174/work/src/c_api/c_api.cc:1240: Saving into deprecated binary model format, please consider using `json` or `ubj`. Model format will default to JSON in XGBoost 2.2 if not specified.\n"
     ]
    },
    {
     "name": "stdout",
     "output_type": "stream",
     "text": [
      "Results Summary: {'Match': 13, 'No Evaluation': 1}\n",
      "\n",
      "--- Evaluating model with feature H3K36me3 added back ---\n",
      "\n"
     ]
    },
    {
     "name": "stderr",
     "output_type": "stream",
     "text": [
      "[04:05:31] WARNING: /home/conda/feedstock_root/build_artifacts/xgboost-split_1707159369174/work/src/c_api/c_api.cc:1240: Saving into deprecated binary model format, please consider using `json` or `ubj`. Model format will default to JSON in XGBoost 2.2 if not specified.\n"
     ]
    },
    {
     "name": "stdout",
     "output_type": "stream",
     "text": [
      "Results Summary: {'Match': 14, 'No Evaluation': 1}\n",
      "Feature: H3K36me3, Known Function: Activating, Result: Match\n",
      "\n",
      "--- Performing LOO for feature H4K5Ac ---\n",
      "\n",
      "Remaining Features: ['H2A.2', 'H3K4me1', 'H2A.13', 'H3K4me3', 'H3K36me3', 'H2A.Z.11', 'expression_category', 'H3K27me3_log', 'H3K9Ac_log', 'cpg_percentage_log', 'H3K9K14Ac_log', 'H3Ac_log', 'chh_percentage_log', 'H4K20me1_log', 'chg_percentage_log', 'H2A.W.7_log', 'H3K9me1_log', 'H2A.W.6_log', 'H2A.Z.9_log', 'H3K23me1_log', 'H3K9me2_log']\n"
     ]
    },
    {
     "name": "stderr",
     "output_type": "stream",
     "text": [
      "[04:05:36] WARNING: /home/conda/feedstock_root/build_artifacts/xgboost-split_1707159369174/work/src/c_api/c_api.cc:1240: Saving into deprecated binary model format, please consider using `json` or `ubj`. Model format will default to JSON in XGBoost 2.2 if not specified.\n",
      "[04:05:40] WARNING: /home/conda/feedstock_root/build_artifacts/xgboost-split_1707159369174/work/src/c_api/c_api.cc:1240: Saving into deprecated binary model format, please consider using `json` or `ubj`. Model format will default to JSON in XGBoost 2.2 if not specified.\n",
      "[04:05:43] WARNING: /home/conda/feedstock_root/build_artifacts/xgboost-split_1707159369174/work/src/c_api/c_api.cc:1240: Saving into deprecated binary model format, please consider using `json` or `ubj`. Model format will default to JSON in XGBoost 2.2 if not specified.\n",
      "[04:05:49] WARNING: /home/conda/feedstock_root/build_artifacts/xgboost-split_1707159369174/work/src/c_api/c_api.cc:1240: Saving into deprecated binary model format, please consider using `json` or `ubj`. Model format will default to JSON in XGBoost 2.2 if not specified.\n",
      "[04:05:55] WARNING: /home/conda/feedstock_root/build_artifacts/xgboost-split_1707159369174/work/src/c_api/c_api.cc:1240: Saving into deprecated binary model format, please consider using `json` or `ubj`. Model format will default to JSON in XGBoost 2.2 if not specified.\n",
      "[04:06:01] WARNING: /home/conda/feedstock_root/build_artifacts/xgboost-split_1707159369174/work/src/c_api/c_api.cc:1240: Saving into deprecated binary model format, please consider using `json` or `ubj`. Model format will default to JSON in XGBoost 2.2 if not specified.\n",
      "[04:06:04] WARNING: /home/conda/feedstock_root/build_artifacts/xgboost-split_1707159369174/work/src/c_api/c_api.cc:1240: Saving into deprecated binary model format, please consider using `json` or `ubj`. Model format will default to JSON in XGBoost 2.2 if not specified.\n",
      "[04:06:06] WARNING: /home/conda/feedstock_root/build_artifacts/xgboost-split_1707159369174/work/src/c_api/c_api.cc:1240: Saving into deprecated binary model format, please consider using `json` or `ubj`. Model format will default to JSON in XGBoost 2.2 if not specified.\n",
      "[04:06:10] WARNING: /home/conda/feedstock_root/build_artifacts/xgboost-split_1707159369174/work/src/c_api/c_api.cc:1240: Saving into deprecated binary model format, please consider using `json` or `ubj`. Model format will default to JSON in XGBoost 2.2 if not specified.\n",
      "[04:06:15] WARNING: /home/conda/feedstock_root/build_artifacts/xgboost-split_1707159369174/work/src/c_api/c_api.cc:1240: Saving into deprecated binary model format, please consider using `json` or `ubj`. Model format will default to JSON in XGBoost 2.2 if not specified.\n",
      "[04:06:18] WARNING: /home/conda/feedstock_root/build_artifacts/xgboost-split_1707159369174/work/src/c_api/c_api.cc:1240: Saving into deprecated binary model format, please consider using `json` or `ubj`. Model format will default to JSON in XGBoost 2.2 if not specified.\n",
      "[04:06:20] WARNING: /home/conda/feedstock_root/build_artifacts/xgboost-split_1707159369174/work/src/c_api/c_api.cc:1240: Saving into deprecated binary model format, please consider using `json` or `ubj`. Model format will default to JSON in XGBoost 2.2 if not specified.\n",
      "[04:06:25] WARNING: /home/conda/feedstock_root/build_artifacts/xgboost-split_1707159369174/work/src/c_api/c_api.cc:1240: Saving into deprecated binary model format, please consider using `json` or `ubj`. Model format will default to JSON in XGBoost 2.2 if not specified.\n",
      "[04:06:29] WARNING: /home/conda/feedstock_root/build_artifacts/xgboost-split_1707159369174/work/src/c_api/c_api.cc:1240: Saving into deprecated binary model format, please consider using `json` or `ubj`. Model format will default to JSON in XGBoost 2.2 if not specified.\n",
      "[04:06:33] WARNING: /home/conda/feedstock_root/build_artifacts/xgboost-split_1707159369174/work/src/c_api/c_api.cc:1240: Saving into deprecated binary model format, please consider using `json` or `ubj`. Model format will default to JSON in XGBoost 2.2 if not specified.\n",
      "[04:06:36] WARNING: /home/conda/feedstock_root/build_artifacts/xgboost-split_1707159369174/work/src/c_api/c_api.cc:1240: Saving into deprecated binary model format, please consider using `json` or `ubj`. Model format will default to JSON in XGBoost 2.2 if not specified.\n",
      "[04:06:40] WARNING: /home/conda/feedstock_root/build_artifacts/xgboost-split_1707159369174/work/src/c_api/c_api.cc:1240: Saving into deprecated binary model format, please consider using `json` or `ubj`. Model format will default to JSON in XGBoost 2.2 if not specified.\n",
      "[04:06:45] WARNING: /home/conda/feedstock_root/build_artifacts/xgboost-split_1707159369174/work/src/c_api/c_api.cc:1240: Saving into deprecated binary model format, please consider using `json` or `ubj`. Model format will default to JSON in XGBoost 2.2 if not specified.\n",
      "[04:06:51] WARNING: /home/conda/feedstock_root/build_artifacts/xgboost-split_1707159369174/work/src/c_api/c_api.cc:1240: Saving into deprecated binary model format, please consider using `json` or `ubj`. Model format will default to JSON in XGBoost 2.2 if not specified.\n",
      "[04:06:58] WARNING: /home/conda/feedstock_root/build_artifacts/xgboost-split_1707159369174/work/src/c_api/c_api.cc:1240: Saving into deprecated binary model format, please consider using `json` or `ubj`. Model format will default to JSON in XGBoost 2.2 if not specified.\n",
      "[04:07:04] WARNING: /home/conda/feedstock_root/build_artifacts/xgboost-split_1707159369174/work/src/c_api/c_api.cc:1240: Saving into deprecated binary model format, please consider using `json` or `ubj`. Model format will default to JSON in XGBoost 2.2 if not specified.\n",
      "[04:07:09] WARNING: /home/conda/feedstock_root/build_artifacts/xgboost-split_1707159369174/work/src/c_api/c_api.cc:1240: Saving into deprecated binary model format, please consider using `json` or `ubj`. Model format will default to JSON in XGBoost 2.2 if not specified.\n",
      "[04:07:13] WARNING: /home/conda/feedstock_root/build_artifacts/xgboost-split_1707159369174/work/src/c_api/c_api.cc:1240: Saving into deprecated binary model format, please consider using `json` or `ubj`. Model format will default to JSON in XGBoost 2.2 if not specified.\n",
      "[04:07:18] WARNING: /home/conda/feedstock_root/build_artifacts/xgboost-split_1707159369174/work/src/c_api/c_api.cc:1240: Saving into deprecated binary model format, please consider using `json` or `ubj`. Model format will default to JSON in XGBoost 2.2 if not specified.\n",
      "[04:07:23] WARNING: /home/conda/feedstock_root/build_artifacts/xgboost-split_1707159369174/work/src/c_api/c_api.cc:1240: Saving into deprecated binary model format, please consider using `json` or `ubj`. Model format will default to JSON in XGBoost 2.2 if not specified.\n",
      "[04:07:28] WARNING: /home/conda/feedstock_root/build_artifacts/xgboost-split_1707159369174/work/src/c_api/c_api.cc:1240: Saving into deprecated binary model format, please consider using `json` or `ubj`. Model format will default to JSON in XGBoost 2.2 if not specified.\n",
      "[04:07:32] WARNING: /home/conda/feedstock_root/build_artifacts/xgboost-split_1707159369174/work/src/c_api/c_api.cc:1240: Saving into deprecated binary model format, please consider using `json` or `ubj`. Model format will default to JSON in XGBoost 2.2 if not specified.\n",
      "[04:07:36] WARNING: /home/conda/feedstock_root/build_artifacts/xgboost-split_1707159369174/work/src/c_api/c_api.cc:1240: Saving into deprecated binary model format, please consider using `json` or `ubj`. Model format will default to JSON in XGBoost 2.2 if not specified.\n",
      "[04:07:40] WARNING: /home/conda/feedstock_root/build_artifacts/xgboost-split_1707159369174/work/src/c_api/c_api.cc:1240: Saving into deprecated binary model format, please consider using `json` or `ubj`. Model format will default to JSON in XGBoost 2.2 if not specified.\n",
      "[04:07:45] WARNING: /home/conda/feedstock_root/build_artifacts/xgboost-split_1707159369174/work/src/c_api/c_api.cc:1240: Saving into deprecated binary model format, please consider using `json` or `ubj`. Model format will default to JSON in XGBoost 2.2 if not specified.\n",
      "[04:07:51] WARNING: /home/conda/feedstock_root/build_artifacts/xgboost-split_1707159369174/work/src/c_api/c_api.cc:1240: Saving into deprecated binary model format, please consider using `json` or `ubj`. Model format will default to JSON in XGBoost 2.2 if not specified.\n",
      "[04:07:56] WARNING: /home/conda/feedstock_root/build_artifacts/xgboost-split_1707159369174/work/src/c_api/c_api.cc:1240: Saving into deprecated binary model format, please consider using `json` or `ubj`. Model format will default to JSON in XGBoost 2.2 if not specified.\n",
      "[04:08:01] WARNING: /home/conda/feedstock_root/build_artifacts/xgboost-split_1707159369174/work/src/c_api/c_api.cc:1240: Saving into deprecated binary model format, please consider using `json` or `ubj`. Model format will default to JSON in XGBoost 2.2 if not specified.\n",
      "[04:08:06] WARNING: /home/conda/feedstock_root/build_artifacts/xgboost-split_1707159369174/work/src/c_api/c_api.cc:1240: Saving into deprecated binary model format, please consider using `json` or `ubj`. Model format will default to JSON in XGBoost 2.2 if not specified.\n",
      "[04:08:11] WARNING: /home/conda/feedstock_root/build_artifacts/xgboost-split_1707159369174/work/src/c_api/c_api.cc:1240: Saving into deprecated binary model format, please consider using `json` or `ubj`. Model format will default to JSON in XGBoost 2.2 if not specified.\n",
      "[04:08:16] WARNING: /home/conda/feedstock_root/build_artifacts/xgboost-split_1707159369174/work/src/c_api/c_api.cc:1240: Saving into deprecated binary model format, please consider using `json` or `ubj`. Model format will default to JSON in XGBoost 2.2 if not specified.\n",
      "[04:08:20] WARNING: /home/conda/feedstock_root/build_artifacts/xgboost-split_1707159369174/work/src/c_api/c_api.cc:1240: Saving into deprecated binary model format, please consider using `json` or `ubj`. Model format will default to JSON in XGBoost 2.2 if not specified.\n",
      "[04:08:24] WARNING: /home/conda/feedstock_root/build_artifacts/xgboost-split_1707159369174/work/src/c_api/c_api.cc:1240: Saving into deprecated binary model format, please consider using `json` or `ubj`. Model format will default to JSON in XGBoost 2.2 if not specified.\n",
      "[04:08:29] WARNING: /home/conda/feedstock_root/build_artifacts/xgboost-split_1707159369174/work/src/c_api/c_api.cc:1240: Saving into deprecated binary model format, please consider using `json` or `ubj`. Model format will default to JSON in XGBoost 2.2 if not specified.\n",
      "[04:08:33] WARNING: /home/conda/feedstock_root/build_artifacts/xgboost-split_1707159369174/work/src/c_api/c_api.cc:1240: Saving into deprecated binary model format, please consider using `json` or `ubj`. Model format will default to JSON in XGBoost 2.2 if not specified.\n"
     ]
    },
    {
     "name": "stdout",
     "output_type": "stream",
     "text": [
      "Best Parameters: {'learning_rate': 0.03833182141987084, 'max_depth': 24, 'subsample': 0.5307431000221692, 'gamma': 0.8080943165548986, 'colsample_bytree': 0.6627076018711607, 'lambda': 8.04682125822817, 'alpha': 1.5422448256897452}\n"
     ]
    },
    {
     "name": "stderr",
     "output_type": "stream",
     "text": [
      "[04:08:38] WARNING: /home/conda/feedstock_root/build_artifacts/xgboost-split_1707159369174/work/src/c_api/c_api.cc:1240: Saving into deprecated binary model format, please consider using `json` or `ubj`. Model format will default to JSON in XGBoost 2.2 if not specified.\n"
     ]
    },
    {
     "name": "stdout",
     "output_type": "stream",
     "text": [
      "Results Summary: {'Match': 14, 'Mismatch': 1, 'No Evaluation': 1}\n",
      "Removing mismatch feature: H3K4me1\n",
      "Remaining Features: ['H2A.2', 'H2A.13', 'H3K4me3', 'H3K36me3', 'H2A.Z.11', 'expression_category', 'H3K27me3_log', 'H3K9Ac_log', 'cpg_percentage_log', 'H3K9K14Ac_log', 'H3Ac_log', 'chh_percentage_log', 'H4K20me1_log', 'chg_percentage_log', 'H2A.W.7_log', 'H3K9me1_log', 'H2A.W.6_log', 'H2A.Z.9_log', 'H3K23me1_log', 'H3K9me2_log']\n"
     ]
    },
    {
     "name": "stderr",
     "output_type": "stream",
     "text": [
      "[04:08:42] WARNING: /home/conda/feedstock_root/build_artifacts/xgboost-split_1707159369174/work/src/c_api/c_api.cc:1240: Saving into deprecated binary model format, please consider using `json` or `ubj`. Model format will default to JSON in XGBoost 2.2 if not specified.\n",
      "[04:08:52] WARNING: /home/conda/feedstock_root/build_artifacts/xgboost-split_1707159369174/work/src/c_api/c_api.cc:1240: Saving into deprecated binary model format, please consider using `json` or `ubj`. Model format will default to JSON in XGBoost 2.2 if not specified.\n",
      "[04:08:59] WARNING: /home/conda/feedstock_root/build_artifacts/xgboost-split_1707159369174/work/src/c_api/c_api.cc:1240: Saving into deprecated binary model format, please consider using `json` or `ubj`. Model format will default to JSON in XGBoost 2.2 if not specified.\n",
      "[04:09:01] WARNING: /home/conda/feedstock_root/build_artifacts/xgboost-split_1707159369174/work/src/c_api/c_api.cc:1240: Saving into deprecated binary model format, please consider using `json` or `ubj`. Model format will default to JSON in XGBoost 2.2 if not specified.\n",
      "[04:09:04] WARNING: /home/conda/feedstock_root/build_artifacts/xgboost-split_1707159369174/work/src/c_api/c_api.cc:1240: Saving into deprecated binary model format, please consider using `json` or `ubj`. Model format will default to JSON in XGBoost 2.2 if not specified.\n",
      "[04:09:08] WARNING: /home/conda/feedstock_root/build_artifacts/xgboost-split_1707159369174/work/src/c_api/c_api.cc:1240: Saving into deprecated binary model format, please consider using `json` or `ubj`. Model format will default to JSON in XGBoost 2.2 if not specified.\n",
      "[04:09:13] WARNING: /home/conda/feedstock_root/build_artifacts/xgboost-split_1707159369174/work/src/c_api/c_api.cc:1240: Saving into deprecated binary model format, please consider using `json` or `ubj`. Model format will default to JSON in XGBoost 2.2 if not specified.\n",
      "[04:09:17] WARNING: /home/conda/feedstock_root/build_artifacts/xgboost-split_1707159369174/work/src/c_api/c_api.cc:1240: Saving into deprecated binary model format, please consider using `json` or `ubj`. Model format will default to JSON in XGBoost 2.2 if not specified.\n",
      "[04:09:20] WARNING: /home/conda/feedstock_root/build_artifacts/xgboost-split_1707159369174/work/src/c_api/c_api.cc:1240: Saving into deprecated binary model format, please consider using `json` or `ubj`. Model format will default to JSON in XGBoost 2.2 if not specified.\n",
      "[04:09:24] WARNING: /home/conda/feedstock_root/build_artifacts/xgboost-split_1707159369174/work/src/c_api/c_api.cc:1240: Saving into deprecated binary model format, please consider using `json` or `ubj`. Model format will default to JSON in XGBoost 2.2 if not specified.\n",
      "[04:09:27] WARNING: /home/conda/feedstock_root/build_artifacts/xgboost-split_1707159369174/work/src/c_api/c_api.cc:1240: Saving into deprecated binary model format, please consider using `json` or `ubj`. Model format will default to JSON in XGBoost 2.2 if not specified.\n",
      "[04:09:29] WARNING: /home/conda/feedstock_root/build_artifacts/xgboost-split_1707159369174/work/src/c_api/c_api.cc:1240: Saving into deprecated binary model format, please consider using `json` or `ubj`. Model format will default to JSON in XGBoost 2.2 if not specified.\n",
      "[04:09:31] WARNING: /home/conda/feedstock_root/build_artifacts/xgboost-split_1707159369174/work/src/c_api/c_api.cc:1240: Saving into deprecated binary model format, please consider using `json` or `ubj`. Model format will default to JSON in XGBoost 2.2 if not specified.\n",
      "[04:09:33] WARNING: /home/conda/feedstock_root/build_artifacts/xgboost-split_1707159369174/work/src/c_api/c_api.cc:1240: Saving into deprecated binary model format, please consider using `json` or `ubj`. Model format will default to JSON in XGBoost 2.2 if not specified.\n",
      "[04:09:36] WARNING: /home/conda/feedstock_root/build_artifacts/xgboost-split_1707159369174/work/src/c_api/c_api.cc:1240: Saving into deprecated binary model format, please consider using `json` or `ubj`. Model format will default to JSON in XGBoost 2.2 if not specified.\n",
      "[04:09:38] WARNING: /home/conda/feedstock_root/build_artifacts/xgboost-split_1707159369174/work/src/c_api/c_api.cc:1240: Saving into deprecated binary model format, please consider using `json` or `ubj`. Model format will default to JSON in XGBoost 2.2 if not specified.\n",
      "[04:09:43] WARNING: /home/conda/feedstock_root/build_artifacts/xgboost-split_1707159369174/work/src/c_api/c_api.cc:1240: Saving into deprecated binary model format, please consider using `json` or `ubj`. Model format will default to JSON in XGBoost 2.2 if not specified.\n",
      "[04:09:49] WARNING: /home/conda/feedstock_root/build_artifacts/xgboost-split_1707159369174/work/src/c_api/c_api.cc:1240: Saving into deprecated binary model format, please consider using `json` or `ubj`. Model format will default to JSON in XGBoost 2.2 if not specified.\n",
      "[04:09:55] WARNING: /home/conda/feedstock_root/build_artifacts/xgboost-split_1707159369174/work/src/c_api/c_api.cc:1240: Saving into deprecated binary model format, please consider using `json` or `ubj`. Model format will default to JSON in XGBoost 2.2 if not specified.\n",
      "[04:10:00] WARNING: /home/conda/feedstock_root/build_artifacts/xgboost-split_1707159369174/work/src/c_api/c_api.cc:1240: Saving into deprecated binary model format, please consider using `json` or `ubj`. Model format will default to JSON in XGBoost 2.2 if not specified.\n",
      "[04:10:08] WARNING: /home/conda/feedstock_root/build_artifacts/xgboost-split_1707159369174/work/src/c_api/c_api.cc:1240: Saving into deprecated binary model format, please consider using `json` or `ubj`. Model format will default to JSON in XGBoost 2.2 if not specified.\n",
      "[04:10:18] WARNING: /home/conda/feedstock_root/build_artifacts/xgboost-split_1707159369174/work/src/c_api/c_api.cc:1240: Saving into deprecated binary model format, please consider using `json` or `ubj`. Model format will default to JSON in XGBoost 2.2 if not specified.\n",
      "[04:10:26] WARNING: /home/conda/feedstock_root/build_artifacts/xgboost-split_1707159369174/work/src/c_api/c_api.cc:1240: Saving into deprecated binary model format, please consider using `json` or `ubj`. Model format will default to JSON in XGBoost 2.2 if not specified.\n",
      "[04:10:34] WARNING: /home/conda/feedstock_root/build_artifacts/xgboost-split_1707159369174/work/src/c_api/c_api.cc:1240: Saving into deprecated binary model format, please consider using `json` or `ubj`. Model format will default to JSON in XGBoost 2.2 if not specified.\n",
      "[04:10:44] WARNING: /home/conda/feedstock_root/build_artifacts/xgboost-split_1707159369174/work/src/c_api/c_api.cc:1240: Saving into deprecated binary model format, please consider using `json` or `ubj`. Model format will default to JSON in XGBoost 2.2 if not specified.\n",
      "[04:10:54] WARNING: /home/conda/feedstock_root/build_artifacts/xgboost-split_1707159369174/work/src/c_api/c_api.cc:1240: Saving into deprecated binary model format, please consider using `json` or `ubj`. Model format will default to JSON in XGBoost 2.2 if not specified.\n",
      "[04:11:00] WARNING: /home/conda/feedstock_root/build_artifacts/xgboost-split_1707159369174/work/src/c_api/c_api.cc:1240: Saving into deprecated binary model format, please consider using `json` or `ubj`. Model format will default to JSON in XGBoost 2.2 if not specified.\n",
      "[04:11:07] WARNING: /home/conda/feedstock_root/build_artifacts/xgboost-split_1707159369174/work/src/c_api/c_api.cc:1240: Saving into deprecated binary model format, please consider using `json` or `ubj`. Model format will default to JSON in XGBoost 2.2 if not specified.\n",
      "[04:11:13] WARNING: /home/conda/feedstock_root/build_artifacts/xgboost-split_1707159369174/work/src/c_api/c_api.cc:1240: Saving into deprecated binary model format, please consider using `json` or `ubj`. Model format will default to JSON in XGBoost 2.2 if not specified.\n",
      "[04:11:18] WARNING: /home/conda/feedstock_root/build_artifacts/xgboost-split_1707159369174/work/src/c_api/c_api.cc:1240: Saving into deprecated binary model format, please consider using `json` or `ubj`. Model format will default to JSON in XGBoost 2.2 if not specified.\n",
      "[04:11:23] WARNING: /home/conda/feedstock_root/build_artifacts/xgboost-split_1707159369174/work/src/c_api/c_api.cc:1240: Saving into deprecated binary model format, please consider using `json` or `ubj`. Model format will default to JSON in XGBoost 2.2 if not specified.\n",
      "[04:11:29] WARNING: /home/conda/feedstock_root/build_artifacts/xgboost-split_1707159369174/work/src/c_api/c_api.cc:1240: Saving into deprecated binary model format, please consider using `json` or `ubj`. Model format will default to JSON in XGBoost 2.2 if not specified.\n",
      "[04:11:33] WARNING: /home/conda/feedstock_root/build_artifacts/xgboost-split_1707159369174/work/src/c_api/c_api.cc:1240: Saving into deprecated binary model format, please consider using `json` or `ubj`. Model format will default to JSON in XGBoost 2.2 if not specified.\n",
      "[04:11:38] WARNING: /home/conda/feedstock_root/build_artifacts/xgboost-split_1707159369174/work/src/c_api/c_api.cc:1240: Saving into deprecated binary model format, please consider using `json` or `ubj`. Model format will default to JSON in XGBoost 2.2 if not specified.\n",
      "[04:11:42] WARNING: /home/conda/feedstock_root/build_artifacts/xgboost-split_1707159369174/work/src/c_api/c_api.cc:1240: Saving into deprecated binary model format, please consider using `json` or `ubj`. Model format will default to JSON in XGBoost 2.2 if not specified.\n",
      "[04:11:47] WARNING: /home/conda/feedstock_root/build_artifacts/xgboost-split_1707159369174/work/src/c_api/c_api.cc:1240: Saving into deprecated binary model format, please consider using `json` or `ubj`. Model format will default to JSON in XGBoost 2.2 if not specified.\n",
      "[04:11:51] WARNING: /home/conda/feedstock_root/build_artifacts/xgboost-split_1707159369174/work/src/c_api/c_api.cc:1240: Saving into deprecated binary model format, please consider using `json` or `ubj`. Model format will default to JSON in XGBoost 2.2 if not specified.\n",
      "[04:11:56] WARNING: /home/conda/feedstock_root/build_artifacts/xgboost-split_1707159369174/work/src/c_api/c_api.cc:1240: Saving into deprecated binary model format, please consider using `json` or `ubj`. Model format will default to JSON in XGBoost 2.2 if not specified.\n",
      "[04:12:02] WARNING: /home/conda/feedstock_root/build_artifacts/xgboost-split_1707159369174/work/src/c_api/c_api.cc:1240: Saving into deprecated binary model format, please consider using `json` or `ubj`. Model format will default to JSON in XGBoost 2.2 if not specified.\n",
      "[04:12:08] WARNING: /home/conda/feedstock_root/build_artifacts/xgboost-split_1707159369174/work/src/c_api/c_api.cc:1240: Saving into deprecated binary model format, please consider using `json` or `ubj`. Model format will default to JSON in XGBoost 2.2 if not specified.\n"
     ]
    },
    {
     "name": "stdout",
     "output_type": "stream",
     "text": [
      "Best Parameters: {'learning_rate': 0.023362153187267608, 'max_depth': 19, 'subsample': 0.8901826120882665, 'gamma': 0.07348361013691362, 'colsample_bytree': 0.733646955077894, 'lambda': 4.702859702074418, 'alpha': 9.867953009605387}\n"
     ]
    },
    {
     "name": "stderr",
     "output_type": "stream",
     "text": [
      "[04:12:14] WARNING: /home/conda/feedstock_root/build_artifacts/xgboost-split_1707159369174/work/src/c_api/c_api.cc:1240: Saving into deprecated binary model format, please consider using `json` or `ubj`. Model format will default to JSON in XGBoost 2.2 if not specified.\n"
     ]
    },
    {
     "name": "stdout",
     "output_type": "stream",
     "text": [
      "Results Summary: {'Match': 14, 'No Evaluation': 1}\n",
      "\n",
      "--- Evaluating model with feature H4K5Ac added back ---\n",
      "\n"
     ]
    },
    {
     "name": "stderr",
     "output_type": "stream",
     "text": [
      "[04:12:20] WARNING: /home/conda/feedstock_root/build_artifacts/xgboost-split_1707159369174/work/src/c_api/c_api.cc:1240: Saving into deprecated binary model format, please consider using `json` or `ubj`. Model format will default to JSON in XGBoost 2.2 if not specified.\n"
     ]
    },
    {
     "name": "stdout",
     "output_type": "stream",
     "text": [
      "Results Summary: {'Match': 13, 'Mismatch': 2, 'No Evaluation': 1}\n",
      "Feature: H4K5Ac, Known Function: Activating, Result: Mismatch\n",
      "\n",
      "--- Performing LOO for feature H3K27me3_log ---\n",
      "\n",
      "Remaining Features: ['H2A.2', 'H3K4me1', 'H2A.13', 'H3K4me3', 'H3K36me3', 'H4K5Ac', 'H2A.Z.11', 'expression_category', 'H3K9Ac_log', 'cpg_percentage_log', 'H3K9K14Ac_log', 'H3Ac_log', 'chh_percentage_log', 'H4K20me1_log', 'chg_percentage_log', 'H2A.W.7_log', 'H3K9me1_log', 'H2A.W.6_log', 'H2A.Z.9_log', 'H3K23me1_log', 'H3K9me2_log']\n"
     ]
    },
    {
     "name": "stderr",
     "output_type": "stream",
     "text": [
      "[04:12:25] WARNING: /home/conda/feedstock_root/build_artifacts/xgboost-split_1707159369174/work/src/c_api/c_api.cc:1240: Saving into deprecated binary model format, please consider using `json` or `ubj`. Model format will default to JSON in XGBoost 2.2 if not specified.\n",
      "[04:12:28] WARNING: /home/conda/feedstock_root/build_artifacts/xgboost-split_1707159369174/work/src/c_api/c_api.cc:1240: Saving into deprecated binary model format, please consider using `json` or `ubj`. Model format will default to JSON in XGBoost 2.2 if not specified.\n",
      "[04:12:33] WARNING: /home/conda/feedstock_root/build_artifacts/xgboost-split_1707159369174/work/src/c_api/c_api.cc:1240: Saving into deprecated binary model format, please consider using `json` or `ubj`. Model format will default to JSON in XGBoost 2.2 if not specified.\n",
      "[04:12:39] WARNING: /home/conda/feedstock_root/build_artifacts/xgboost-split_1707159369174/work/src/c_api/c_api.cc:1240: Saving into deprecated binary model format, please consider using `json` or `ubj`. Model format will default to JSON in XGBoost 2.2 if not specified.\n",
      "[04:12:44] WARNING: /home/conda/feedstock_root/build_artifacts/xgboost-split_1707159369174/work/src/c_api/c_api.cc:1240: Saving into deprecated binary model format, please consider using `json` or `ubj`. Model format will default to JSON in XGBoost 2.2 if not specified.\n",
      "[04:12:49] WARNING: /home/conda/feedstock_root/build_artifacts/xgboost-split_1707159369174/work/src/c_api/c_api.cc:1240: Saving into deprecated binary model format, please consider using `json` or `ubj`. Model format will default to JSON in XGBoost 2.2 if not specified.\n",
      "[04:12:53] WARNING: /home/conda/feedstock_root/build_artifacts/xgboost-split_1707159369174/work/src/c_api/c_api.cc:1240: Saving into deprecated binary model format, please consider using `json` or `ubj`. Model format will default to JSON in XGBoost 2.2 if not specified.\n",
      "[04:12:58] WARNING: /home/conda/feedstock_root/build_artifacts/xgboost-split_1707159369174/work/src/c_api/c_api.cc:1240: Saving into deprecated binary model format, please consider using `json` or `ubj`. Model format will default to JSON in XGBoost 2.2 if not specified.\n",
      "[04:13:03] WARNING: /home/conda/feedstock_root/build_artifacts/xgboost-split_1707159369174/work/src/c_api/c_api.cc:1240: Saving into deprecated binary model format, please consider using `json` or `ubj`. Model format will default to JSON in XGBoost 2.2 if not specified.\n",
      "[04:13:09] WARNING: /home/conda/feedstock_root/build_artifacts/xgboost-split_1707159369174/work/src/c_api/c_api.cc:1240: Saving into deprecated binary model format, please consider using `json` or `ubj`. Model format will default to JSON in XGBoost 2.2 if not specified.\n",
      "[04:13:13] WARNING: /home/conda/feedstock_root/build_artifacts/xgboost-split_1707159369174/work/src/c_api/c_api.cc:1240: Saving into deprecated binary model format, please consider using `json` or `ubj`. Model format will default to JSON in XGBoost 2.2 if not specified.\n",
      "[04:13:18] WARNING: /home/conda/feedstock_root/build_artifacts/xgboost-split_1707159369174/work/src/c_api/c_api.cc:1240: Saving into deprecated binary model format, please consider using `json` or `ubj`. Model format will default to JSON in XGBoost 2.2 if not specified.\n",
      "[04:13:22] WARNING: /home/conda/feedstock_root/build_artifacts/xgboost-split_1707159369174/work/src/c_api/c_api.cc:1240: Saving into deprecated binary model format, please consider using `json` or `ubj`. Model format will default to JSON in XGBoost 2.2 if not specified.\n",
      "[04:13:25] WARNING: /home/conda/feedstock_root/build_artifacts/xgboost-split_1707159369174/work/src/c_api/c_api.cc:1240: Saving into deprecated binary model format, please consider using `json` or `ubj`. Model format will default to JSON in XGBoost 2.2 if not specified.\n",
      "[04:13:28] WARNING: /home/conda/feedstock_root/build_artifacts/xgboost-split_1707159369174/work/src/c_api/c_api.cc:1240: Saving into deprecated binary model format, please consider using `json` or `ubj`. Model format will default to JSON in XGBoost 2.2 if not specified.\n",
      "[04:13:31] WARNING: /home/conda/feedstock_root/build_artifacts/xgboost-split_1707159369174/work/src/c_api/c_api.cc:1240: Saving into deprecated binary model format, please consider using `json` or `ubj`. Model format will default to JSON in XGBoost 2.2 if not specified.\n",
      "[04:13:35] WARNING: /home/conda/feedstock_root/build_artifacts/xgboost-split_1707159369174/work/src/c_api/c_api.cc:1240: Saving into deprecated binary model format, please consider using `json` or `ubj`. Model format will default to JSON in XGBoost 2.2 if not specified.\n",
      "[04:13:38] WARNING: /home/conda/feedstock_root/build_artifacts/xgboost-split_1707159369174/work/src/c_api/c_api.cc:1240: Saving into deprecated binary model format, please consider using `json` or `ubj`. Model format will default to JSON in XGBoost 2.2 if not specified.\n",
      "[04:13:42] WARNING: /home/conda/feedstock_root/build_artifacts/xgboost-split_1707159369174/work/src/c_api/c_api.cc:1240: Saving into deprecated binary model format, please consider using `json` or `ubj`. Model format will default to JSON in XGBoost 2.2 if not specified.\n",
      "[04:13:46] WARNING: /home/conda/feedstock_root/build_artifacts/xgboost-split_1707159369174/work/src/c_api/c_api.cc:1240: Saving into deprecated binary model format, please consider using `json` or `ubj`. Model format will default to JSON in XGBoost 2.2 if not specified.\n",
      "[04:13:49] WARNING: /home/conda/feedstock_root/build_artifacts/xgboost-split_1707159369174/work/src/c_api/c_api.cc:1240: Saving into deprecated binary model format, please consider using `json` or `ubj`. Model format will default to JSON in XGBoost 2.2 if not specified.\n",
      "[04:13:53] WARNING: /home/conda/feedstock_root/build_artifacts/xgboost-split_1707159369174/work/src/c_api/c_api.cc:1240: Saving into deprecated binary model format, please consider using `json` or `ubj`. Model format will default to JSON in XGBoost 2.2 if not specified.\n",
      "[04:13:56] WARNING: /home/conda/feedstock_root/build_artifacts/xgboost-split_1707159369174/work/src/c_api/c_api.cc:1240: Saving into deprecated binary model format, please consider using `json` or `ubj`. Model format will default to JSON in XGBoost 2.2 if not specified.\n",
      "[04:14:01] WARNING: /home/conda/feedstock_root/build_artifacts/xgboost-split_1707159369174/work/src/c_api/c_api.cc:1240: Saving into deprecated binary model format, please consider using `json` or `ubj`. Model format will default to JSON in XGBoost 2.2 if not specified.\n",
      "[04:14:07] WARNING: /home/conda/feedstock_root/build_artifacts/xgboost-split_1707159369174/work/src/c_api/c_api.cc:1240: Saving into deprecated binary model format, please consider using `json` or `ubj`. Model format will default to JSON in XGBoost 2.2 if not specified.\n",
      "[04:14:12] WARNING: /home/conda/feedstock_root/build_artifacts/xgboost-split_1707159369174/work/src/c_api/c_api.cc:1240: Saving into deprecated binary model format, please consider using `json` or `ubj`. Model format will default to JSON in XGBoost 2.2 if not specified.\n",
      "[04:14:18] WARNING: /home/conda/feedstock_root/build_artifacts/xgboost-split_1707159369174/work/src/c_api/c_api.cc:1240: Saving into deprecated binary model format, please consider using `json` or `ubj`. Model format will default to JSON in XGBoost 2.2 if not specified.\n",
      "[04:14:22] WARNING: /home/conda/feedstock_root/build_artifacts/xgboost-split_1707159369174/work/src/c_api/c_api.cc:1240: Saving into deprecated binary model format, please consider using `json` or `ubj`. Model format will default to JSON in XGBoost 2.2 if not specified.\n",
      "[04:14:27] WARNING: /home/conda/feedstock_root/build_artifacts/xgboost-split_1707159369174/work/src/c_api/c_api.cc:1240: Saving into deprecated binary model format, please consider using `json` or `ubj`. Model format will default to JSON in XGBoost 2.2 if not specified.\n",
      "[04:14:33] WARNING: /home/conda/feedstock_root/build_artifacts/xgboost-split_1707159369174/work/src/c_api/c_api.cc:1240: Saving into deprecated binary model format, please consider using `json` or `ubj`. Model format will default to JSON in XGBoost 2.2 if not specified.\n",
      "[04:14:40] WARNING: /home/conda/feedstock_root/build_artifacts/xgboost-split_1707159369174/work/src/c_api/c_api.cc:1240: Saving into deprecated binary model format, please consider using `json` or `ubj`. Model format will default to JSON in XGBoost 2.2 if not specified.\n",
      "[04:14:45] WARNING: /home/conda/feedstock_root/build_artifacts/xgboost-split_1707159369174/work/src/c_api/c_api.cc:1240: Saving into deprecated binary model format, please consider using `json` or `ubj`. Model format will default to JSON in XGBoost 2.2 if not specified.\n",
      "[04:14:48] WARNING: /home/conda/feedstock_root/build_artifacts/xgboost-split_1707159369174/work/src/c_api/c_api.cc:1240: Saving into deprecated binary model format, please consider using `json` or `ubj`. Model format will default to JSON in XGBoost 2.2 if not specified.\n",
      "[04:14:52] WARNING: /home/conda/feedstock_root/build_artifacts/xgboost-split_1707159369174/work/src/c_api/c_api.cc:1240: Saving into deprecated binary model format, please consider using `json` or `ubj`. Model format will default to JSON in XGBoost 2.2 if not specified.\n",
      "[04:14:54] WARNING: /home/conda/feedstock_root/build_artifacts/xgboost-split_1707159369174/work/src/c_api/c_api.cc:1240: Saving into deprecated binary model format, please consider using `json` or `ubj`. Model format will default to JSON in XGBoost 2.2 if not specified.\n",
      "[04:14:58] WARNING: /home/conda/feedstock_root/build_artifacts/xgboost-split_1707159369174/work/src/c_api/c_api.cc:1240: Saving into deprecated binary model format, please consider using `json` or `ubj`. Model format will default to JSON in XGBoost 2.2 if not specified.\n",
      "[04:15:02] WARNING: /home/conda/feedstock_root/build_artifacts/xgboost-split_1707159369174/work/src/c_api/c_api.cc:1240: Saving into deprecated binary model format, please consider using `json` or `ubj`. Model format will default to JSON in XGBoost 2.2 if not specified.\n",
      "[04:15:08] WARNING: /home/conda/feedstock_root/build_artifacts/xgboost-split_1707159369174/work/src/c_api/c_api.cc:1240: Saving into deprecated binary model format, please consider using `json` or `ubj`. Model format will default to JSON in XGBoost 2.2 if not specified.\n",
      "[04:15:15] WARNING: /home/conda/feedstock_root/build_artifacts/xgboost-split_1707159369174/work/src/c_api/c_api.cc:1240: Saving into deprecated binary model format, please consider using `json` or `ubj`. Model format will default to JSON in XGBoost 2.2 if not specified.\n",
      "[04:15:22] WARNING: /home/conda/feedstock_root/build_artifacts/xgboost-split_1707159369174/work/src/c_api/c_api.cc:1240: Saving into deprecated binary model format, please consider using `json` or `ubj`. Model format will default to JSON in XGBoost 2.2 if not specified.\n"
     ]
    },
    {
     "name": "stdout",
     "output_type": "stream",
     "text": [
      "Best Parameters: {'learning_rate': 0.02892580730578519, 'max_depth': 26, 'subsample': 0.948223320794361, 'gamma': 0.09630993470483151, 'colsample_bytree': 0.744815244730518, 'lambda': 6.35014806156165, 'alpha': 8.148416197333045}\n"
     ]
    },
    {
     "name": "stderr",
     "output_type": "stream",
     "text": [
      "[04:15:28] WARNING: /home/conda/feedstock_root/build_artifacts/xgboost-split_1707159369174/work/src/c_api/c_api.cc:1240: Saving into deprecated binary model format, please consider using `json` or `ubj`. Model format will default to JSON in XGBoost 2.2 if not specified.\n"
     ]
    },
    {
     "name": "stdout",
     "output_type": "stream",
     "text": [
      "Results Summary: {'Match': 13, 'Mismatch': 2, 'No Evaluation': 1}\n",
      "Removing mismatch feature: H4K5Ac\n",
      "Remaining Features: ['H2A.2', 'H3K4me1', 'H2A.13', 'H3K4me3', 'H3K36me3', 'H2A.Z.11', 'expression_category', 'H3K9Ac_log', 'cpg_percentage_log', 'H3K9K14Ac_log', 'H3Ac_log', 'chh_percentage_log', 'H4K20me1_log', 'chg_percentage_log', 'H2A.W.7_log', 'H3K9me1_log', 'H2A.W.6_log', 'H2A.Z.9_log', 'H3K23me1_log', 'H3K9me2_log']\n"
     ]
    },
    {
     "name": "stderr",
     "output_type": "stream",
     "text": [
      "[04:15:36] WARNING: /home/conda/feedstock_root/build_artifacts/xgboost-split_1707159369174/work/src/c_api/c_api.cc:1240: Saving into deprecated binary model format, please consider using `json` or `ubj`. Model format will default to JSON in XGBoost 2.2 if not specified.\n",
      "[04:15:40] WARNING: /home/conda/feedstock_root/build_artifacts/xgboost-split_1707159369174/work/src/c_api/c_api.cc:1240: Saving into deprecated binary model format, please consider using `json` or `ubj`. Model format will default to JSON in XGBoost 2.2 if not specified.\n",
      "[04:15:43] WARNING: /home/conda/feedstock_root/build_artifacts/xgboost-split_1707159369174/work/src/c_api/c_api.cc:1240: Saving into deprecated binary model format, please consider using `json` or `ubj`. Model format will default to JSON in XGBoost 2.2 if not specified.\n",
      "[04:15:48] WARNING: /home/conda/feedstock_root/build_artifacts/xgboost-split_1707159369174/work/src/c_api/c_api.cc:1240: Saving into deprecated binary model format, please consider using `json` or `ubj`. Model format will default to JSON in XGBoost 2.2 if not specified.\n",
      "[04:15:53] WARNING: /home/conda/feedstock_root/build_artifacts/xgboost-split_1707159369174/work/src/c_api/c_api.cc:1240: Saving into deprecated binary model format, please consider using `json` or `ubj`. Model format will default to JSON in XGBoost 2.2 if not specified.\n",
      "[04:15:59] WARNING: /home/conda/feedstock_root/build_artifacts/xgboost-split_1707159369174/work/src/c_api/c_api.cc:1240: Saving into deprecated binary model format, please consider using `json` or `ubj`. Model format will default to JSON in XGBoost 2.2 if not specified.\n",
      "[04:16:04] WARNING: /home/conda/feedstock_root/build_artifacts/xgboost-split_1707159369174/work/src/c_api/c_api.cc:1240: Saving into deprecated binary model format, please consider using `json` or `ubj`. Model format will default to JSON in XGBoost 2.2 if not specified.\n",
      "[04:16:08] WARNING: /home/conda/feedstock_root/build_artifacts/xgboost-split_1707159369174/work/src/c_api/c_api.cc:1240: Saving into deprecated binary model format, please consider using `json` or `ubj`. Model format will default to JSON in XGBoost 2.2 if not specified.\n",
      "[04:16:14] WARNING: /home/conda/feedstock_root/build_artifacts/xgboost-split_1707159369174/work/src/c_api/c_api.cc:1240: Saving into deprecated binary model format, please consider using `json` or `ubj`. Model format will default to JSON in XGBoost 2.2 if not specified.\n",
      "[04:16:22] WARNING: /home/conda/feedstock_root/build_artifacts/xgboost-split_1707159369174/work/src/c_api/c_api.cc:1240: Saving into deprecated binary model format, please consider using `json` or `ubj`. Model format will default to JSON in XGBoost 2.2 if not specified.\n",
      "[04:16:27] WARNING: /home/conda/feedstock_root/build_artifacts/xgboost-split_1707159369174/work/src/c_api/c_api.cc:1240: Saving into deprecated binary model format, please consider using `json` or `ubj`. Model format will default to JSON in XGBoost 2.2 if not specified.\n",
      "[04:16:29] WARNING: /home/conda/feedstock_root/build_artifacts/xgboost-split_1707159369174/work/src/c_api/c_api.cc:1240: Saving into deprecated binary model format, please consider using `json` or `ubj`. Model format will default to JSON in XGBoost 2.2 if not specified.\n",
      "[04:16:32] WARNING: /home/conda/feedstock_root/build_artifacts/xgboost-split_1707159369174/work/src/c_api/c_api.cc:1240: Saving into deprecated binary model format, please consider using `json` or `ubj`. Model format will default to JSON in XGBoost 2.2 if not specified.\n",
      "[04:16:35] WARNING: /home/conda/feedstock_root/build_artifacts/xgboost-split_1707159369174/work/src/c_api/c_api.cc:1240: Saving into deprecated binary model format, please consider using `json` or `ubj`. Model format will default to JSON in XGBoost 2.2 if not specified.\n",
      "[04:16:40] WARNING: /home/conda/feedstock_root/build_artifacts/xgboost-split_1707159369174/work/src/c_api/c_api.cc:1240: Saving into deprecated binary model format, please consider using `json` or `ubj`. Model format will default to JSON in XGBoost 2.2 if not specified.\n",
      "[04:16:45] WARNING: /home/conda/feedstock_root/build_artifacts/xgboost-split_1707159369174/work/src/c_api/c_api.cc:1240: Saving into deprecated binary model format, please consider using `json` or `ubj`. Model format will default to JSON in XGBoost 2.2 if not specified.\n",
      "[04:16:51] WARNING: /home/conda/feedstock_root/build_artifacts/xgboost-split_1707159369174/work/src/c_api/c_api.cc:1240: Saving into deprecated binary model format, please consider using `json` or `ubj`. Model format will default to JSON in XGBoost 2.2 if not specified.\n",
      "[04:16:56] WARNING: /home/conda/feedstock_root/build_artifacts/xgboost-split_1707159369174/work/src/c_api/c_api.cc:1240: Saving into deprecated binary model format, please consider using `json` or `ubj`. Model format will default to JSON in XGBoost 2.2 if not specified.\n",
      "[04:17:00] WARNING: /home/conda/feedstock_root/build_artifacts/xgboost-split_1707159369174/work/src/c_api/c_api.cc:1240: Saving into deprecated binary model format, please consider using `json` or `ubj`. Model format will default to JSON in XGBoost 2.2 if not specified.\n",
      "[04:17:03] WARNING: /home/conda/feedstock_root/build_artifacts/xgboost-split_1707159369174/work/src/c_api/c_api.cc:1240: Saving into deprecated binary model format, please consider using `json` or `ubj`. Model format will default to JSON in XGBoost 2.2 if not specified.\n",
      "[04:17:08] WARNING: /home/conda/feedstock_root/build_artifacts/xgboost-split_1707159369174/work/src/c_api/c_api.cc:1240: Saving into deprecated binary model format, please consider using `json` or `ubj`. Model format will default to JSON in XGBoost 2.2 if not specified.\n",
      "[04:17:14] WARNING: /home/conda/feedstock_root/build_artifacts/xgboost-split_1707159369174/work/src/c_api/c_api.cc:1240: Saving into deprecated binary model format, please consider using `json` or `ubj`. Model format will default to JSON in XGBoost 2.2 if not specified.\n",
      "[04:17:20] WARNING: /home/conda/feedstock_root/build_artifacts/xgboost-split_1707159369174/work/src/c_api/c_api.cc:1240: Saving into deprecated binary model format, please consider using `json` or `ubj`. Model format will default to JSON in XGBoost 2.2 if not specified.\n",
      "[04:17:25] WARNING: /home/conda/feedstock_root/build_artifacts/xgboost-split_1707159369174/work/src/c_api/c_api.cc:1240: Saving into deprecated binary model format, please consider using `json` or `ubj`. Model format will default to JSON in XGBoost 2.2 if not specified.\n",
      "[04:17:29] WARNING: /home/conda/feedstock_root/build_artifacts/xgboost-split_1707159369174/work/src/c_api/c_api.cc:1240: Saving into deprecated binary model format, please consider using `json` or `ubj`. Model format will default to JSON in XGBoost 2.2 if not specified.\n",
      "[04:17:36] WARNING: /home/conda/feedstock_root/build_artifacts/xgboost-split_1707159369174/work/src/c_api/c_api.cc:1240: Saving into deprecated binary model format, please consider using `json` or `ubj`. Model format will default to JSON in XGBoost 2.2 if not specified.\n",
      "[04:17:45] WARNING: /home/conda/feedstock_root/build_artifacts/xgboost-split_1707159369174/work/src/c_api/c_api.cc:1240: Saving into deprecated binary model format, please consider using `json` or `ubj`. Model format will default to JSON in XGBoost 2.2 if not specified.\n",
      "[04:17:55] WARNING: /home/conda/feedstock_root/build_artifacts/xgboost-split_1707159369174/work/src/c_api/c_api.cc:1240: Saving into deprecated binary model format, please consider using `json` or `ubj`. Model format will default to JSON in XGBoost 2.2 if not specified.\n",
      "[04:18:05] WARNING: /home/conda/feedstock_root/build_artifacts/xgboost-split_1707159369174/work/src/c_api/c_api.cc:1240: Saving into deprecated binary model format, please consider using `json` or `ubj`. Model format will default to JSON in XGBoost 2.2 if not specified.\n",
      "[04:18:12] WARNING: /home/conda/feedstock_root/build_artifacts/xgboost-split_1707159369174/work/src/c_api/c_api.cc:1240: Saving into deprecated binary model format, please consider using `json` or `ubj`. Model format will default to JSON in XGBoost 2.2 if not specified.\n",
      "[04:18:18] WARNING: /home/conda/feedstock_root/build_artifacts/xgboost-split_1707159369174/work/src/c_api/c_api.cc:1240: Saving into deprecated binary model format, please consider using `json` or `ubj`. Model format will default to JSON in XGBoost 2.2 if not specified.\n",
      "[04:18:24] WARNING: /home/conda/feedstock_root/build_artifacts/xgboost-split_1707159369174/work/src/c_api/c_api.cc:1240: Saving into deprecated binary model format, please consider using `json` or `ubj`. Model format will default to JSON in XGBoost 2.2 if not specified.\n",
      "[04:18:30] WARNING: /home/conda/feedstock_root/build_artifacts/xgboost-split_1707159369174/work/src/c_api/c_api.cc:1240: Saving into deprecated binary model format, please consider using `json` or `ubj`. Model format will default to JSON in XGBoost 2.2 if not specified.\n",
      "[04:18:35] WARNING: /home/conda/feedstock_root/build_artifacts/xgboost-split_1707159369174/work/src/c_api/c_api.cc:1240: Saving into deprecated binary model format, please consider using `json` or `ubj`. Model format will default to JSON in XGBoost 2.2 if not specified.\n",
      "[04:18:42] WARNING: /home/conda/feedstock_root/build_artifacts/xgboost-split_1707159369174/work/src/c_api/c_api.cc:1240: Saving into deprecated binary model format, please consider using `json` or `ubj`. Model format will default to JSON in XGBoost 2.2 if not specified.\n",
      "[04:18:47] WARNING: /home/conda/feedstock_root/build_artifacts/xgboost-split_1707159369174/work/src/c_api/c_api.cc:1240: Saving into deprecated binary model format, please consider using `json` or `ubj`. Model format will default to JSON in XGBoost 2.2 if not specified.\n",
      "[04:18:52] WARNING: /home/conda/feedstock_root/build_artifacts/xgboost-split_1707159369174/work/src/c_api/c_api.cc:1240: Saving into deprecated binary model format, please consider using `json` or `ubj`. Model format will default to JSON in XGBoost 2.2 if not specified.\n",
      "[04:18:56] WARNING: /home/conda/feedstock_root/build_artifacts/xgboost-split_1707159369174/work/src/c_api/c_api.cc:1240: Saving into deprecated binary model format, please consider using `json` or `ubj`. Model format will default to JSON in XGBoost 2.2 if not specified.\n",
      "[04:19:03] WARNING: /home/conda/feedstock_root/build_artifacts/xgboost-split_1707159369174/work/src/c_api/c_api.cc:1240: Saving into deprecated binary model format, please consider using `json` or `ubj`. Model format will default to JSON in XGBoost 2.2 if not specified.\n",
      "[04:19:10] WARNING: /home/conda/feedstock_root/build_artifacts/xgboost-split_1707159369174/work/src/c_api/c_api.cc:1240: Saving into deprecated binary model format, please consider using `json` or `ubj`. Model format will default to JSON in XGBoost 2.2 if not specified.\n"
     ]
    },
    {
     "name": "stdout",
     "output_type": "stream",
     "text": [
      "Best Parameters: {'learning_rate': 0.027380111612647497, 'max_depth': 26, 'subsample': 0.4151017502275016, 'gamma': 0.10125921442978898, 'colsample_bytree': 0.6607200309243811, 'lambda': 12.304839132891793, 'alpha': 3.4406436054744534}\n"
     ]
    },
    {
     "name": "stderr",
     "output_type": "stream",
     "text": [
      "[04:19:16] WARNING: /home/conda/feedstock_root/build_artifacts/xgboost-split_1707159369174/work/src/c_api/c_api.cc:1240: Saving into deprecated binary model format, please consider using `json` or `ubj`. Model format will default to JSON in XGBoost 2.2 if not specified.\n"
     ]
    },
    {
     "name": "stdout",
     "output_type": "stream",
     "text": [
      "Results Summary: {'Match': 13, 'Mismatch': 1, 'No Evaluation': 1}\n",
      "Removing mismatch feature: H3K4me1\n",
      "Remaining Features: ['H2A.2', 'H2A.13', 'H3K4me3', 'H3K36me3', 'H2A.Z.11', 'expression_category', 'H3K9Ac_log', 'cpg_percentage_log', 'H3K9K14Ac_log', 'H3Ac_log', 'chh_percentage_log', 'H4K20me1_log', 'chg_percentage_log', 'H2A.W.7_log', 'H3K9me1_log', 'H2A.W.6_log', 'H2A.Z.9_log', 'H3K23me1_log', 'H3K9me2_log']\n"
     ]
    },
    {
     "name": "stderr",
     "output_type": "stream",
     "text": [
      "[04:19:20] WARNING: /home/conda/feedstock_root/build_artifacts/xgboost-split_1707159369174/work/src/c_api/c_api.cc:1240: Saving into deprecated binary model format, please consider using `json` or `ubj`. Model format will default to JSON in XGBoost 2.2 if not specified.\n",
      "[04:19:24] WARNING: /home/conda/feedstock_root/build_artifacts/xgboost-split_1707159369174/work/src/c_api/c_api.cc:1240: Saving into deprecated binary model format, please consider using `json` or `ubj`. Model format will default to JSON in XGBoost 2.2 if not specified.\n",
      "[04:19:27] WARNING: /home/conda/feedstock_root/build_artifacts/xgboost-split_1707159369174/work/src/c_api/c_api.cc:1240: Saving into deprecated binary model format, please consider using `json` or `ubj`. Model format will default to JSON in XGBoost 2.2 if not specified.\n",
      "[04:19:31] WARNING: /home/conda/feedstock_root/build_artifacts/xgboost-split_1707159369174/work/src/c_api/c_api.cc:1240: Saving into deprecated binary model format, please consider using `json` or `ubj`. Model format will default to JSON in XGBoost 2.2 if not specified.\n",
      "[04:19:35] WARNING: /home/conda/feedstock_root/build_artifacts/xgboost-split_1707159369174/work/src/c_api/c_api.cc:1240: Saving into deprecated binary model format, please consider using `json` or `ubj`. Model format will default to JSON in XGBoost 2.2 if not specified.\n",
      "[04:19:39] WARNING: /home/conda/feedstock_root/build_artifacts/xgboost-split_1707159369174/work/src/c_api/c_api.cc:1240: Saving into deprecated binary model format, please consider using `json` or `ubj`. Model format will default to JSON in XGBoost 2.2 if not specified.\n",
      "[04:19:44] WARNING: /home/conda/feedstock_root/build_artifacts/xgboost-split_1707159369174/work/src/c_api/c_api.cc:1240: Saving into deprecated binary model format, please consider using `json` or `ubj`. Model format will default to JSON in XGBoost 2.2 if not specified.\n",
      "[04:19:47] WARNING: /home/conda/feedstock_root/build_artifacts/xgboost-split_1707159369174/work/src/c_api/c_api.cc:1240: Saving into deprecated binary model format, please consider using `json` or `ubj`. Model format will default to JSON in XGBoost 2.2 if not specified.\n",
      "[04:19:49] WARNING: /home/conda/feedstock_root/build_artifacts/xgboost-split_1707159369174/work/src/c_api/c_api.cc:1240: Saving into deprecated binary model format, please consider using `json` or `ubj`. Model format will default to JSON in XGBoost 2.2 if not specified.\n",
      "[04:19:51] WARNING: /home/conda/feedstock_root/build_artifacts/xgboost-split_1707159369174/work/src/c_api/c_api.cc:1240: Saving into deprecated binary model format, please consider using `json` or `ubj`. Model format will default to JSON in XGBoost 2.2 if not specified.\n",
      "[04:19:54] WARNING: /home/conda/feedstock_root/build_artifacts/xgboost-split_1707159369174/work/src/c_api/c_api.cc:1240: Saving into deprecated binary model format, please consider using `json` or `ubj`. Model format will default to JSON in XGBoost 2.2 if not specified.\n",
      "[04:19:59] WARNING: /home/conda/feedstock_root/build_artifacts/xgboost-split_1707159369174/work/src/c_api/c_api.cc:1240: Saving into deprecated binary model format, please consider using `json` or `ubj`. Model format will default to JSON in XGBoost 2.2 if not specified.\n",
      "[04:20:04] WARNING: /home/conda/feedstock_root/build_artifacts/xgboost-split_1707159369174/work/src/c_api/c_api.cc:1240: Saving into deprecated binary model format, please consider using `json` or `ubj`. Model format will default to JSON in XGBoost 2.2 if not specified.\n",
      "[04:20:10] WARNING: /home/conda/feedstock_root/build_artifacts/xgboost-split_1707159369174/work/src/c_api/c_api.cc:1240: Saving into deprecated binary model format, please consider using `json` or `ubj`. Model format will default to JSON in XGBoost 2.2 if not specified.\n",
      "[04:20:17] WARNING: /home/conda/feedstock_root/build_artifacts/xgboost-split_1707159369174/work/src/c_api/c_api.cc:1240: Saving into deprecated binary model format, please consider using `json` or `ubj`. Model format will default to JSON in XGBoost 2.2 if not specified.\n",
      "[04:20:24] WARNING: /home/conda/feedstock_root/build_artifacts/xgboost-split_1707159369174/work/src/c_api/c_api.cc:1240: Saving into deprecated binary model format, please consider using `json` or `ubj`. Model format will default to JSON in XGBoost 2.2 if not specified.\n",
      "[04:20:31] WARNING: /home/conda/feedstock_root/build_artifacts/xgboost-split_1707159369174/work/src/c_api/c_api.cc:1240: Saving into deprecated binary model format, please consider using `json` or `ubj`. Model format will default to JSON in XGBoost 2.2 if not specified.\n",
      "[04:20:37] WARNING: /home/conda/feedstock_root/build_artifacts/xgboost-split_1707159369174/work/src/c_api/c_api.cc:1240: Saving into deprecated binary model format, please consider using `json` or `ubj`. Model format will default to JSON in XGBoost 2.2 if not specified.\n",
      "[04:20:45] WARNING: /home/conda/feedstock_root/build_artifacts/xgboost-split_1707159369174/work/src/c_api/c_api.cc:1240: Saving into deprecated binary model format, please consider using `json` or `ubj`. Model format will default to JSON in XGBoost 2.2 if not specified.\n",
      "[04:20:56] WARNING: /home/conda/feedstock_root/build_artifacts/xgboost-split_1707159369174/work/src/c_api/c_api.cc:1240: Saving into deprecated binary model format, please consider using `json` or `ubj`. Model format will default to JSON in XGBoost 2.2 if not specified.\n",
      "[04:21:09] WARNING: /home/conda/feedstock_root/build_artifacts/xgboost-split_1707159369174/work/src/c_api/c_api.cc:1240: Saving into deprecated binary model format, please consider using `json` or `ubj`. Model format will default to JSON in XGBoost 2.2 if not specified.\n",
      "[04:21:19] WARNING: /home/conda/feedstock_root/build_artifacts/xgboost-split_1707159369174/work/src/c_api/c_api.cc:1240: Saving into deprecated binary model format, please consider using `json` or `ubj`. Model format will default to JSON in XGBoost 2.2 if not specified.\n",
      "[04:21:25] WARNING: /home/conda/feedstock_root/build_artifacts/xgboost-split_1707159369174/work/src/c_api/c_api.cc:1240: Saving into deprecated binary model format, please consider using `json` or `ubj`. Model format will default to JSON in XGBoost 2.2 if not specified.\n",
      "[04:21:31] WARNING: /home/conda/feedstock_root/build_artifacts/xgboost-split_1707159369174/work/src/c_api/c_api.cc:1240: Saving into deprecated binary model format, please consider using `json` or `ubj`. Model format will default to JSON in XGBoost 2.2 if not specified.\n",
      "[04:21:36] WARNING: /home/conda/feedstock_root/build_artifacts/xgboost-split_1707159369174/work/src/c_api/c_api.cc:1240: Saving into deprecated binary model format, please consider using `json` or `ubj`. Model format will default to JSON in XGBoost 2.2 if not specified.\n",
      "[04:21:43] WARNING: /home/conda/feedstock_root/build_artifacts/xgboost-split_1707159369174/work/src/c_api/c_api.cc:1240: Saving into deprecated binary model format, please consider using `json` or `ubj`. Model format will default to JSON in XGBoost 2.2 if not specified.\n",
      "[04:21:53] WARNING: /home/conda/feedstock_root/build_artifacts/xgboost-split_1707159369174/work/src/c_api/c_api.cc:1240: Saving into deprecated binary model format, please consider using `json` or `ubj`. Model format will default to JSON in XGBoost 2.2 if not specified.\n",
      "[04:22:01] WARNING: /home/conda/feedstock_root/build_artifacts/xgboost-split_1707159369174/work/src/c_api/c_api.cc:1240: Saving into deprecated binary model format, please consider using `json` or `ubj`. Model format will default to JSON in XGBoost 2.2 if not specified.\n",
      "[04:22:08] WARNING: /home/conda/feedstock_root/build_artifacts/xgboost-split_1707159369174/work/src/c_api/c_api.cc:1240: Saving into deprecated binary model format, please consider using `json` or `ubj`. Model format will default to JSON in XGBoost 2.2 if not specified.\n",
      "[04:22:18] WARNING: /home/conda/feedstock_root/build_artifacts/xgboost-split_1707159369174/work/src/c_api/c_api.cc:1240: Saving into deprecated binary model format, please consider using `json` or `ubj`. Model format will default to JSON in XGBoost 2.2 if not specified.\n",
      "[04:22:25] WARNING: /home/conda/feedstock_root/build_artifacts/xgboost-split_1707159369174/work/src/c_api/c_api.cc:1240: Saving into deprecated binary model format, please consider using `json` or `ubj`. Model format will default to JSON in XGBoost 2.2 if not specified.\n",
      "[04:22:28] WARNING: /home/conda/feedstock_root/build_artifacts/xgboost-split_1707159369174/work/src/c_api/c_api.cc:1240: Saving into deprecated binary model format, please consider using `json` or `ubj`. Model format will default to JSON in XGBoost 2.2 if not specified.\n",
      "[04:22:32] WARNING: /home/conda/feedstock_root/build_artifacts/xgboost-split_1707159369174/work/src/c_api/c_api.cc:1240: Saving into deprecated binary model format, please consider using `json` or `ubj`. Model format will default to JSON in XGBoost 2.2 if not specified.\n",
      "[04:22:35] WARNING: /home/conda/feedstock_root/build_artifacts/xgboost-split_1707159369174/work/src/c_api/c_api.cc:1240: Saving into deprecated binary model format, please consider using `json` or `ubj`. Model format will default to JSON in XGBoost 2.2 if not specified.\n",
      "[04:22:39] WARNING: /home/conda/feedstock_root/build_artifacts/xgboost-split_1707159369174/work/src/c_api/c_api.cc:1240: Saving into deprecated binary model format, please consider using `json` or `ubj`. Model format will default to JSON in XGBoost 2.2 if not specified.\n",
      "[04:22:42] WARNING: /home/conda/feedstock_root/build_artifacts/xgboost-split_1707159369174/work/src/c_api/c_api.cc:1240: Saving into deprecated binary model format, please consider using `json` or `ubj`. Model format will default to JSON in XGBoost 2.2 if not specified.\n",
      "[04:22:46] WARNING: /home/conda/feedstock_root/build_artifacts/xgboost-split_1707159369174/work/src/c_api/c_api.cc:1240: Saving into deprecated binary model format, please consider using `json` or `ubj`. Model format will default to JSON in XGBoost 2.2 if not specified.\n",
      "[04:22:50] WARNING: /home/conda/feedstock_root/build_artifacts/xgboost-split_1707159369174/work/src/c_api/c_api.cc:1240: Saving into deprecated binary model format, please consider using `json` or `ubj`. Model format will default to JSON in XGBoost 2.2 if not specified.\n",
      "[04:22:54] WARNING: /home/conda/feedstock_root/build_artifacts/xgboost-split_1707159369174/work/src/c_api/c_api.cc:1240: Saving into deprecated binary model format, please consider using `json` or `ubj`. Model format will default to JSON in XGBoost 2.2 if not specified.\n",
      "[04:22:57] WARNING: /home/conda/feedstock_root/build_artifacts/xgboost-split_1707159369174/work/src/c_api/c_api.cc:1240: Saving into deprecated binary model format, please consider using `json` or `ubj`. Model format will default to JSON in XGBoost 2.2 if not specified.\n"
     ]
    },
    {
     "name": "stdout",
     "output_type": "stream",
     "text": [
      "Best Parameters: {'learning_rate': 0.021552300435809066, 'max_depth': 25, 'subsample': 0.7583003568159378, 'gamma': 0.22094252724341534, 'colsample_bytree': 0.7527423922495206, 'lambda': 11.271884614926863, 'alpha': 12.908499581394944}\n"
     ]
    },
    {
     "name": "stderr",
     "output_type": "stream",
     "text": [
      "[04:23:00] WARNING: /home/conda/feedstock_root/build_artifacts/xgboost-split_1707159369174/work/src/c_api/c_api.cc:1240: Saving into deprecated binary model format, please consider using `json` or `ubj`. Model format will default to JSON in XGBoost 2.2 if not specified.\n"
     ]
    },
    {
     "name": "stdout",
     "output_type": "stream",
     "text": [
      "Results Summary: {'Match': 13, 'No Evaluation': 1}\n",
      "\n",
      "--- Evaluating model with feature H3K27me3_log added back ---\n",
      "\n"
     ]
    },
    {
     "name": "stderr",
     "output_type": "stream",
     "text": [
      "[04:23:04] WARNING: /home/conda/feedstock_root/build_artifacts/xgboost-split_1707159369174/work/src/c_api/c_api.cc:1240: Saving into deprecated binary model format, please consider using `json` or `ubj`. Model format will default to JSON in XGBoost 2.2 if not specified.\n"
     ]
    },
    {
     "name": "stdout",
     "output_type": "stream",
     "text": [
      "Results Summary: {'Match': 13, 'Mismatch': 1, 'No Evaluation': 1}\n",
      "Feature: H3K27me3_log, Known Function: Repressive, Result: Match\n",
      "\n",
      "--- Performing LOO for feature H3K9Ac_log ---\n",
      "\n",
      "Remaining Features: ['H2A.2', 'H3K4me1', 'H2A.13', 'H3K4me3', 'H3K36me3', 'H4K5Ac', 'H2A.Z.11', 'expression_category', 'H3K27me3_log', 'cpg_percentage_log', 'H3K9K14Ac_log', 'H3Ac_log', 'chh_percentage_log', 'H4K20me1_log', 'chg_percentage_log', 'H2A.W.7_log', 'H3K9me1_log', 'H2A.W.6_log', 'H2A.Z.9_log', 'H3K23me1_log', 'H3K9me2_log']\n"
     ]
    },
    {
     "name": "stderr",
     "output_type": "stream",
     "text": [
      "[04:23:07] WARNING: /home/conda/feedstock_root/build_artifacts/xgboost-split_1707159369174/work/src/c_api/c_api.cc:1240: Saving into deprecated binary model format, please consider using `json` or `ubj`. Model format will default to JSON in XGBoost 2.2 if not specified.\n",
      "[04:23:11] WARNING: /home/conda/feedstock_root/build_artifacts/xgboost-split_1707159369174/work/src/c_api/c_api.cc:1240: Saving into deprecated binary model format, please consider using `json` or `ubj`. Model format will default to JSON in XGBoost 2.2 if not specified.\n",
      "[04:23:15] WARNING: /home/conda/feedstock_root/build_artifacts/xgboost-split_1707159369174/work/src/c_api/c_api.cc:1240: Saving into deprecated binary model format, please consider using `json` or `ubj`. Model format will default to JSON in XGBoost 2.2 if not specified.\n",
      "[04:23:21] WARNING: /home/conda/feedstock_root/build_artifacts/xgboost-split_1707159369174/work/src/c_api/c_api.cc:1240: Saving into deprecated binary model format, please consider using `json` or `ubj`. Model format will default to JSON in XGBoost 2.2 if not specified.\n",
      "[04:23:26] WARNING: /home/conda/feedstock_root/build_artifacts/xgboost-split_1707159369174/work/src/c_api/c_api.cc:1240: Saving into deprecated binary model format, please consider using `json` or `ubj`. Model format will default to JSON in XGBoost 2.2 if not specified.\n",
      "[04:23:29] WARNING: /home/conda/feedstock_root/build_artifacts/xgboost-split_1707159369174/work/src/c_api/c_api.cc:1240: Saving into deprecated binary model format, please consider using `json` or `ubj`. Model format will default to JSON in XGBoost 2.2 if not specified.\n",
      "[04:23:32] WARNING: /home/conda/feedstock_root/build_artifacts/xgboost-split_1707159369174/work/src/c_api/c_api.cc:1240: Saving into deprecated binary model format, please consider using `json` or `ubj`. Model format will default to JSON in XGBoost 2.2 if not specified.\n",
      "[04:23:40] WARNING: /home/conda/feedstock_root/build_artifacts/xgboost-split_1707159369174/work/src/c_api/c_api.cc:1240: Saving into deprecated binary model format, please consider using `json` or `ubj`. Model format will default to JSON in XGBoost 2.2 if not specified.\n",
      "[04:23:47] WARNING: /home/conda/feedstock_root/build_artifacts/xgboost-split_1707159369174/work/src/c_api/c_api.cc:1240: Saving into deprecated binary model format, please consider using `json` or `ubj`. Model format will default to JSON in XGBoost 2.2 if not specified.\n",
      "[04:23:54] WARNING: /home/conda/feedstock_root/build_artifacts/xgboost-split_1707159369174/work/src/c_api/c_api.cc:1240: Saving into deprecated binary model format, please consider using `json` or `ubj`. Model format will default to JSON in XGBoost 2.2 if not specified.\n",
      "[04:23:58] WARNING: /home/conda/feedstock_root/build_artifacts/xgboost-split_1707159369174/work/src/c_api/c_api.cc:1240: Saving into deprecated binary model format, please consider using `json` or `ubj`. Model format will default to JSON in XGBoost 2.2 if not specified.\n",
      "[04:24:02] WARNING: /home/conda/feedstock_root/build_artifacts/xgboost-split_1707159369174/work/src/c_api/c_api.cc:1240: Saving into deprecated binary model format, please consider using `json` or `ubj`. Model format will default to JSON in XGBoost 2.2 if not specified.\n",
      "[04:24:10] WARNING: /home/conda/feedstock_root/build_artifacts/xgboost-split_1707159369174/work/src/c_api/c_api.cc:1240: Saving into deprecated binary model format, please consider using `json` or `ubj`. Model format will default to JSON in XGBoost 2.2 if not specified.\n",
      "[04:24:17] WARNING: /home/conda/feedstock_root/build_artifacts/xgboost-split_1707159369174/work/src/c_api/c_api.cc:1240: Saving into deprecated binary model format, please consider using `json` or `ubj`. Model format will default to JSON in XGBoost 2.2 if not specified.\n",
      "[04:24:22] WARNING: /home/conda/feedstock_root/build_artifacts/xgboost-split_1707159369174/work/src/c_api/c_api.cc:1240: Saving into deprecated binary model format, please consider using `json` or `ubj`. Model format will default to JSON in XGBoost 2.2 if not specified.\n",
      "[04:24:26] WARNING: /home/conda/feedstock_root/build_artifacts/xgboost-split_1707159369174/work/src/c_api/c_api.cc:1240: Saving into deprecated binary model format, please consider using `json` or `ubj`. Model format will default to JSON in XGBoost 2.2 if not specified.\n",
      "[04:24:30] WARNING: /home/conda/feedstock_root/build_artifacts/xgboost-split_1707159369174/work/src/c_api/c_api.cc:1240: Saving into deprecated binary model format, please consider using `json` or `ubj`. Model format will default to JSON in XGBoost 2.2 if not specified.\n",
      "[04:24:34] WARNING: /home/conda/feedstock_root/build_artifacts/xgboost-split_1707159369174/work/src/c_api/c_api.cc:1240: Saving into deprecated binary model format, please consider using `json` or `ubj`. Model format will default to JSON in XGBoost 2.2 if not specified.\n",
      "[04:24:37] WARNING: /home/conda/feedstock_root/build_artifacts/xgboost-split_1707159369174/work/src/c_api/c_api.cc:1240: Saving into deprecated binary model format, please consider using `json` or `ubj`. Model format will default to JSON in XGBoost 2.2 if not specified.\n",
      "[04:24:40] WARNING: /home/conda/feedstock_root/build_artifacts/xgboost-split_1707159369174/work/src/c_api/c_api.cc:1240: Saving into deprecated binary model format, please consider using `json` or `ubj`. Model format will default to JSON in XGBoost 2.2 if not specified.\n",
      "[04:24:44] WARNING: /home/conda/feedstock_root/build_artifacts/xgboost-split_1707159369174/work/src/c_api/c_api.cc:1240: Saving into deprecated binary model format, please consider using `json` or `ubj`. Model format will default to JSON in XGBoost 2.2 if not specified.\n",
      "[04:24:47] WARNING: /home/conda/feedstock_root/build_artifacts/xgboost-split_1707159369174/work/src/c_api/c_api.cc:1240: Saving into deprecated binary model format, please consider using `json` or `ubj`. Model format will default to JSON in XGBoost 2.2 if not specified.\n",
      "[04:24:52] WARNING: /home/conda/feedstock_root/build_artifacts/xgboost-split_1707159369174/work/src/c_api/c_api.cc:1240: Saving into deprecated binary model format, please consider using `json` or `ubj`. Model format will default to JSON in XGBoost 2.2 if not specified.\n",
      "[04:24:56] WARNING: /home/conda/feedstock_root/build_artifacts/xgboost-split_1707159369174/work/src/c_api/c_api.cc:1240: Saving into deprecated binary model format, please consider using `json` or `ubj`. Model format will default to JSON in XGBoost 2.2 if not specified.\n",
      "[04:24:59] WARNING: /home/conda/feedstock_root/build_artifacts/xgboost-split_1707159369174/work/src/c_api/c_api.cc:1240: Saving into deprecated binary model format, please consider using `json` or `ubj`. Model format will default to JSON in XGBoost 2.2 if not specified.\n",
      "[04:25:03] WARNING: /home/conda/feedstock_root/build_artifacts/xgboost-split_1707159369174/work/src/c_api/c_api.cc:1240: Saving into deprecated binary model format, please consider using `json` or `ubj`. Model format will default to JSON in XGBoost 2.2 if not specified.\n",
      "[04:25:06] WARNING: /home/conda/feedstock_root/build_artifacts/xgboost-split_1707159369174/work/src/c_api/c_api.cc:1240: Saving into deprecated binary model format, please consider using `json` or `ubj`. Model format will default to JSON in XGBoost 2.2 if not specified.\n",
      "[04:25:08] WARNING: /home/conda/feedstock_root/build_artifacts/xgboost-split_1707159369174/work/src/c_api/c_api.cc:1240: Saving into deprecated binary model format, please consider using `json` or `ubj`. Model format will default to JSON in XGBoost 2.2 if not specified.\n",
      "[04:25:11] WARNING: /home/conda/feedstock_root/build_artifacts/xgboost-split_1707159369174/work/src/c_api/c_api.cc:1240: Saving into deprecated binary model format, please consider using `json` or `ubj`. Model format will default to JSON in XGBoost 2.2 if not specified.\n",
      "[04:25:13] WARNING: /home/conda/feedstock_root/build_artifacts/xgboost-split_1707159369174/work/src/c_api/c_api.cc:1240: Saving into deprecated binary model format, please consider using `json` or `ubj`. Model format will default to JSON in XGBoost 2.2 if not specified.\n",
      "[04:25:15] WARNING: /home/conda/feedstock_root/build_artifacts/xgboost-split_1707159369174/work/src/c_api/c_api.cc:1240: Saving into deprecated binary model format, please consider using `json` or `ubj`. Model format will default to JSON in XGBoost 2.2 if not specified.\n",
      "[04:25:18] WARNING: /home/conda/feedstock_root/build_artifacts/xgboost-split_1707159369174/work/src/c_api/c_api.cc:1240: Saving into deprecated binary model format, please consider using `json` or `ubj`. Model format will default to JSON in XGBoost 2.2 if not specified.\n",
      "[04:25:21] WARNING: /home/conda/feedstock_root/build_artifacts/xgboost-split_1707159369174/work/src/c_api/c_api.cc:1240: Saving into deprecated binary model format, please consider using `json` or `ubj`. Model format will default to JSON in XGBoost 2.2 if not specified.\n",
      "[04:25:24] WARNING: /home/conda/feedstock_root/build_artifacts/xgboost-split_1707159369174/work/src/c_api/c_api.cc:1240: Saving into deprecated binary model format, please consider using `json` or `ubj`. Model format will default to JSON in XGBoost 2.2 if not specified.\n",
      "[04:25:28] WARNING: /home/conda/feedstock_root/build_artifacts/xgboost-split_1707159369174/work/src/c_api/c_api.cc:1240: Saving into deprecated binary model format, please consider using `json` or `ubj`. Model format will default to JSON in XGBoost 2.2 if not specified.\n",
      "[04:25:30] WARNING: /home/conda/feedstock_root/build_artifacts/xgboost-split_1707159369174/work/src/c_api/c_api.cc:1240: Saving into deprecated binary model format, please consider using `json` or `ubj`. Model format will default to JSON in XGBoost 2.2 if not specified.\n",
      "[04:25:33] WARNING: /home/conda/feedstock_root/build_artifacts/xgboost-split_1707159369174/work/src/c_api/c_api.cc:1240: Saving into deprecated binary model format, please consider using `json` or `ubj`. Model format will default to JSON in XGBoost 2.2 if not specified.\n",
      "[04:25:35] WARNING: /home/conda/feedstock_root/build_artifacts/xgboost-split_1707159369174/work/src/c_api/c_api.cc:1240: Saving into deprecated binary model format, please consider using `json` or `ubj`. Model format will default to JSON in XGBoost 2.2 if not specified.\n",
      "[04:25:38] WARNING: /home/conda/feedstock_root/build_artifacts/xgboost-split_1707159369174/work/src/c_api/c_api.cc:1240: Saving into deprecated binary model format, please consider using `json` or `ubj`. Model format will default to JSON in XGBoost 2.2 if not specified.\n",
      "[04:25:40] WARNING: /home/conda/feedstock_root/build_artifacts/xgboost-split_1707159369174/work/src/c_api/c_api.cc:1240: Saving into deprecated binary model format, please consider using `json` or `ubj`. Model format will default to JSON in XGBoost 2.2 if not specified.\n"
     ]
    },
    {
     "name": "stdout",
     "output_type": "stream",
     "text": [
      "Best Parameters: {'learning_rate': 0.03820381115501854, 'max_depth': 19, 'subsample': 0.4997140168214311, 'gamma': 0.8803355910510404, 'colsample_bytree': 0.5363941320972655, 'lambda': 5.155815882051618, 'alpha': 14.371017421288151}\n"
     ]
    },
    {
     "name": "stderr",
     "output_type": "stream",
     "text": [
      "[04:25:42] WARNING: /home/conda/feedstock_root/build_artifacts/xgboost-split_1707159369174/work/src/c_api/c_api.cc:1240: Saving into deprecated binary model format, please consider using `json` or `ubj`. Model format will default to JSON in XGBoost 2.2 if not specified.\n"
     ]
    },
    {
     "name": "stdout",
     "output_type": "stream",
     "text": [
      "Results Summary: {'Match': 13, 'Mismatch': 2, 'No Evaluation': 1}\n",
      "Removing mismatch feature: H4K5Ac\n",
      "Remaining Features: ['H2A.2', 'H3K4me1', 'H2A.13', 'H3K4me3', 'H3K36me3', 'H2A.Z.11', 'expression_category', 'H3K27me3_log', 'cpg_percentage_log', 'H3K9K14Ac_log', 'H3Ac_log', 'chh_percentage_log', 'H4K20me1_log', 'chg_percentage_log', 'H2A.W.7_log', 'H3K9me1_log', 'H2A.W.6_log', 'H2A.Z.9_log', 'H3K23me1_log', 'H3K9me2_log']\n"
     ]
    },
    {
     "name": "stderr",
     "output_type": "stream",
     "text": [
      "[04:25:46] WARNING: /home/conda/feedstock_root/build_artifacts/xgboost-split_1707159369174/work/src/c_api/c_api.cc:1240: Saving into deprecated binary model format, please consider using `json` or `ubj`. Model format will default to JSON in XGBoost 2.2 if not specified.\n",
      "[04:25:49] WARNING: /home/conda/feedstock_root/build_artifacts/xgboost-split_1707159369174/work/src/c_api/c_api.cc:1240: Saving into deprecated binary model format, please consider using `json` or `ubj`. Model format will default to JSON in XGBoost 2.2 if not specified.\n",
      "[04:25:53] WARNING: /home/conda/feedstock_root/build_artifacts/xgboost-split_1707159369174/work/src/c_api/c_api.cc:1240: Saving into deprecated binary model format, please consider using `json` or `ubj`. Model format will default to JSON in XGBoost 2.2 if not specified.\n",
      "[04:25:57] WARNING: /home/conda/feedstock_root/build_artifacts/xgboost-split_1707159369174/work/src/c_api/c_api.cc:1240: Saving into deprecated binary model format, please consider using `json` or `ubj`. Model format will default to JSON in XGBoost 2.2 if not specified.\n",
      "[04:26:01] WARNING: /home/conda/feedstock_root/build_artifacts/xgboost-split_1707159369174/work/src/c_api/c_api.cc:1240: Saving into deprecated binary model format, please consider using `json` or `ubj`. Model format will default to JSON in XGBoost 2.2 if not specified.\n",
      "[04:26:07] WARNING: /home/conda/feedstock_root/build_artifacts/xgboost-split_1707159369174/work/src/c_api/c_api.cc:1240: Saving into deprecated binary model format, please consider using `json` or `ubj`. Model format will default to JSON in XGBoost 2.2 if not specified.\n",
      "[04:26:12] WARNING: /home/conda/feedstock_root/build_artifacts/xgboost-split_1707159369174/work/src/c_api/c_api.cc:1240: Saving into deprecated binary model format, please consider using `json` or `ubj`. Model format will default to JSON in XGBoost 2.2 if not specified.\n",
      "[04:26:16] WARNING: /home/conda/feedstock_root/build_artifacts/xgboost-split_1707159369174/work/src/c_api/c_api.cc:1240: Saving into deprecated binary model format, please consider using `json` or `ubj`. Model format will default to JSON in XGBoost 2.2 if not specified.\n",
      "[04:26:19] WARNING: /home/conda/feedstock_root/build_artifacts/xgboost-split_1707159369174/work/src/c_api/c_api.cc:1240: Saving into deprecated binary model format, please consider using `json` or `ubj`. Model format will default to JSON in XGBoost 2.2 if not specified.\n",
      "[04:26:21] WARNING: /home/conda/feedstock_root/build_artifacts/xgboost-split_1707159369174/work/src/c_api/c_api.cc:1240: Saving into deprecated binary model format, please consider using `json` or `ubj`. Model format will default to JSON in XGBoost 2.2 if not specified.\n",
      "[04:26:26] WARNING: /home/conda/feedstock_root/build_artifacts/xgboost-split_1707159369174/work/src/c_api/c_api.cc:1240: Saving into deprecated binary model format, please consider using `json` or `ubj`. Model format will default to JSON in XGBoost 2.2 if not specified.\n",
      "[04:26:33] WARNING: /home/conda/feedstock_root/build_artifacts/xgboost-split_1707159369174/work/src/c_api/c_api.cc:1240: Saving into deprecated binary model format, please consider using `json` or `ubj`. Model format will default to JSON in XGBoost 2.2 if not specified.\n",
      "[04:26:41] WARNING: /home/conda/feedstock_root/build_artifacts/xgboost-split_1707159369174/work/src/c_api/c_api.cc:1240: Saving into deprecated binary model format, please consider using `json` or `ubj`. Model format will default to JSON in XGBoost 2.2 if not specified.\n",
      "[04:26:49] WARNING: /home/conda/feedstock_root/build_artifacts/xgboost-split_1707159369174/work/src/c_api/c_api.cc:1240: Saving into deprecated binary model format, please consider using `json` or `ubj`. Model format will default to JSON in XGBoost 2.2 if not specified.\n",
      "[04:26:55] WARNING: /home/conda/feedstock_root/build_artifacts/xgboost-split_1707159369174/work/src/c_api/c_api.cc:1240: Saving into deprecated binary model format, please consider using `json` or `ubj`. Model format will default to JSON in XGBoost 2.2 if not specified.\n",
      "[04:27:03] WARNING: /home/conda/feedstock_root/build_artifacts/xgboost-split_1707159369174/work/src/c_api/c_api.cc:1240: Saving into deprecated binary model format, please consider using `json` or `ubj`. Model format will default to JSON in XGBoost 2.2 if not specified.\n",
      "[04:27:08] WARNING: /home/conda/feedstock_root/build_artifacts/xgboost-split_1707159369174/work/src/c_api/c_api.cc:1240: Saving into deprecated binary model format, please consider using `json` or `ubj`. Model format will default to JSON in XGBoost 2.2 if not specified.\n",
      "[04:27:11] WARNING: /home/conda/feedstock_root/build_artifacts/xgboost-split_1707159369174/work/src/c_api/c_api.cc:1240: Saving into deprecated binary model format, please consider using `json` or `ubj`. Model format will default to JSON in XGBoost 2.2 if not specified.\n",
      "[04:27:14] WARNING: /home/conda/feedstock_root/build_artifacts/xgboost-split_1707159369174/work/src/c_api/c_api.cc:1240: Saving into deprecated binary model format, please consider using `json` or `ubj`. Model format will default to JSON in XGBoost 2.2 if not specified.\n",
      "[04:27:17] WARNING: /home/conda/feedstock_root/build_artifacts/xgboost-split_1707159369174/work/src/c_api/c_api.cc:1240: Saving into deprecated binary model format, please consider using `json` or `ubj`. Model format will default to JSON in XGBoost 2.2 if not specified.\n",
      "[04:27:20] WARNING: /home/conda/feedstock_root/build_artifacts/xgboost-split_1707159369174/work/src/c_api/c_api.cc:1240: Saving into deprecated binary model format, please consider using `json` or `ubj`. Model format will default to JSON in XGBoost 2.2 if not specified.\n",
      "[04:27:23] WARNING: /home/conda/feedstock_root/build_artifacts/xgboost-split_1707159369174/work/src/c_api/c_api.cc:1240: Saving into deprecated binary model format, please consider using `json` or `ubj`. Model format will default to JSON in XGBoost 2.2 if not specified.\n",
      "[04:27:26] WARNING: /home/conda/feedstock_root/build_artifacts/xgboost-split_1707159369174/work/src/c_api/c_api.cc:1240: Saving into deprecated binary model format, please consider using `json` or `ubj`. Model format will default to JSON in XGBoost 2.2 if not specified.\n",
      "[04:27:29] WARNING: /home/conda/feedstock_root/build_artifacts/xgboost-split_1707159369174/work/src/c_api/c_api.cc:1240: Saving into deprecated binary model format, please consider using `json` or `ubj`. Model format will default to JSON in XGBoost 2.2 if not specified.\n",
      "[04:27:32] WARNING: /home/conda/feedstock_root/build_artifacts/xgboost-split_1707159369174/work/src/c_api/c_api.cc:1240: Saving into deprecated binary model format, please consider using `json` or `ubj`. Model format will default to JSON in XGBoost 2.2 if not specified.\n",
      "[04:27:35] WARNING: /home/conda/feedstock_root/build_artifacts/xgboost-split_1707159369174/work/src/c_api/c_api.cc:1240: Saving into deprecated binary model format, please consider using `json` or `ubj`. Model format will default to JSON in XGBoost 2.2 if not specified.\n",
      "[04:27:38] WARNING: /home/conda/feedstock_root/build_artifacts/xgboost-split_1707159369174/work/src/c_api/c_api.cc:1240: Saving into deprecated binary model format, please consider using `json` or `ubj`. Model format will default to JSON in XGBoost 2.2 if not specified.\n",
      "[04:27:42] WARNING: /home/conda/feedstock_root/build_artifacts/xgboost-split_1707159369174/work/src/c_api/c_api.cc:1240: Saving into deprecated binary model format, please consider using `json` or `ubj`. Model format will default to JSON in XGBoost 2.2 if not specified.\n",
      "[04:27:46] WARNING: /home/conda/feedstock_root/build_artifacts/xgboost-split_1707159369174/work/src/c_api/c_api.cc:1240: Saving into deprecated binary model format, please consider using `json` or `ubj`. Model format will default to JSON in XGBoost 2.2 if not specified.\n",
      "[04:27:50] WARNING: /home/conda/feedstock_root/build_artifacts/xgboost-split_1707159369174/work/src/c_api/c_api.cc:1240: Saving into deprecated binary model format, please consider using `json` or `ubj`. Model format will default to JSON in XGBoost 2.2 if not specified.\n",
      "[04:27:54] WARNING: /home/conda/feedstock_root/build_artifacts/xgboost-split_1707159369174/work/src/c_api/c_api.cc:1240: Saving into deprecated binary model format, please consider using `json` or `ubj`. Model format will default to JSON in XGBoost 2.2 if not specified.\n",
      "[04:27:57] WARNING: /home/conda/feedstock_root/build_artifacts/xgboost-split_1707159369174/work/src/c_api/c_api.cc:1240: Saving into deprecated binary model format, please consider using `json` or `ubj`. Model format will default to JSON in XGBoost 2.2 if not specified.\n",
      "[04:28:00] WARNING: /home/conda/feedstock_root/build_artifacts/xgboost-split_1707159369174/work/src/c_api/c_api.cc:1240: Saving into deprecated binary model format, please consider using `json` or `ubj`. Model format will default to JSON in XGBoost 2.2 if not specified.\n",
      "[04:28:04] WARNING: /home/conda/feedstock_root/build_artifacts/xgboost-split_1707159369174/work/src/c_api/c_api.cc:1240: Saving into deprecated binary model format, please consider using `json` or `ubj`. Model format will default to JSON in XGBoost 2.2 if not specified.\n",
      "[04:28:07] WARNING: /home/conda/feedstock_root/build_artifacts/xgboost-split_1707159369174/work/src/c_api/c_api.cc:1240: Saving into deprecated binary model format, please consider using `json` or `ubj`. Model format will default to JSON in XGBoost 2.2 if not specified.\n",
      "[04:28:11] WARNING: /home/conda/feedstock_root/build_artifacts/xgboost-split_1707159369174/work/src/c_api/c_api.cc:1240: Saving into deprecated binary model format, please consider using `json` or `ubj`. Model format will default to JSON in XGBoost 2.2 if not specified.\n",
      "[04:28:15] WARNING: /home/conda/feedstock_root/build_artifacts/xgboost-split_1707159369174/work/src/c_api/c_api.cc:1240: Saving into deprecated binary model format, please consider using `json` or `ubj`. Model format will default to JSON in XGBoost 2.2 if not specified.\n",
      "[04:28:18] WARNING: /home/conda/feedstock_root/build_artifacts/xgboost-split_1707159369174/work/src/c_api/c_api.cc:1240: Saving into deprecated binary model format, please consider using `json` or `ubj`. Model format will default to JSON in XGBoost 2.2 if not specified.\n",
      "[04:28:20] WARNING: /home/conda/feedstock_root/build_artifacts/xgboost-split_1707159369174/work/src/c_api/c_api.cc:1240: Saving into deprecated binary model format, please consider using `json` or `ubj`. Model format will default to JSON in XGBoost 2.2 if not specified.\n",
      "[04:28:25] WARNING: /home/conda/feedstock_root/build_artifacts/xgboost-split_1707159369174/work/src/c_api/c_api.cc:1240: Saving into deprecated binary model format, please consider using `json` or `ubj`. Model format will default to JSON in XGBoost 2.2 if not specified.\n"
     ]
    },
    {
     "name": "stdout",
     "output_type": "stream",
     "text": [
      "Best Parameters: {'learning_rate': 0.02512750153298072, 'max_depth': 16, 'subsample': 0.6010346744834041, 'gamma': 0.12918787025291245, 'colsample_bytree': 0.6659726372520971, 'lambda': 7.855236537083449, 'alpha': 3.3370685504201396}\n"
     ]
    },
    {
     "name": "stderr",
     "output_type": "stream",
     "text": [
      "[04:28:30] WARNING: /home/conda/feedstock_root/build_artifacts/xgboost-split_1707159369174/work/src/c_api/c_api.cc:1240: Saving into deprecated binary model format, please consider using `json` or `ubj`. Model format will default to JSON in XGBoost 2.2 if not specified.\n"
     ]
    },
    {
     "name": "stdout",
     "output_type": "stream",
     "text": [
      "Results Summary: {'Match': 13, 'Mismatch': 1, 'No Evaluation': 1}\n",
      "Removing mismatch feature: H3K4me1\n",
      "Remaining Features: ['H2A.2', 'H2A.13', 'H3K4me3', 'H3K36me3', 'H2A.Z.11', 'expression_category', 'H3K27me3_log', 'cpg_percentage_log', 'H3K9K14Ac_log', 'H3Ac_log', 'chh_percentage_log', 'H4K20me1_log', 'chg_percentage_log', 'H2A.W.7_log', 'H3K9me1_log', 'H2A.W.6_log', 'H2A.Z.9_log', 'H3K23me1_log', 'H3K9me2_log']\n"
     ]
    },
    {
     "name": "stderr",
     "output_type": "stream",
     "text": [
      "[04:28:36] WARNING: /home/conda/feedstock_root/build_artifacts/xgboost-split_1707159369174/work/src/c_api/c_api.cc:1240: Saving into deprecated binary model format, please consider using `json` or `ubj`. Model format will default to JSON in XGBoost 2.2 if not specified.\n",
      "[04:28:39] WARNING: /home/conda/feedstock_root/build_artifacts/xgboost-split_1707159369174/work/src/c_api/c_api.cc:1240: Saving into deprecated binary model format, please consider using `json` or `ubj`. Model format will default to JSON in XGBoost 2.2 if not specified.\n",
      "[04:28:43] WARNING: /home/conda/feedstock_root/build_artifacts/xgboost-split_1707159369174/work/src/c_api/c_api.cc:1240: Saving into deprecated binary model format, please consider using `json` or `ubj`. Model format will default to JSON in XGBoost 2.2 if not specified.\n",
      "[04:28:46] WARNING: /home/conda/feedstock_root/build_artifacts/xgboost-split_1707159369174/work/src/c_api/c_api.cc:1240: Saving into deprecated binary model format, please consider using `json` or `ubj`. Model format will default to JSON in XGBoost 2.2 if not specified.\n",
      "[04:28:50] WARNING: /home/conda/feedstock_root/build_artifacts/xgboost-split_1707159369174/work/src/c_api/c_api.cc:1240: Saving into deprecated binary model format, please consider using `json` or `ubj`. Model format will default to JSON in XGBoost 2.2 if not specified.\n",
      "[04:28:54] WARNING: /home/conda/feedstock_root/build_artifacts/xgboost-split_1707159369174/work/src/c_api/c_api.cc:1240: Saving into deprecated binary model format, please consider using `json` or `ubj`. Model format will default to JSON in XGBoost 2.2 if not specified.\n",
      "[04:28:57] WARNING: /home/conda/feedstock_root/build_artifacts/xgboost-split_1707159369174/work/src/c_api/c_api.cc:1240: Saving into deprecated binary model format, please consider using `json` or `ubj`. Model format will default to JSON in XGBoost 2.2 if not specified.\n",
      "[04:29:00] WARNING: /home/conda/feedstock_root/build_artifacts/xgboost-split_1707159369174/work/src/c_api/c_api.cc:1240: Saving into deprecated binary model format, please consider using `json` or `ubj`. Model format will default to JSON in XGBoost 2.2 if not specified.\n",
      "[04:29:03] WARNING: /home/conda/feedstock_root/build_artifacts/xgboost-split_1707159369174/work/src/c_api/c_api.cc:1240: Saving into deprecated binary model format, please consider using `json` or `ubj`. Model format will default to JSON in XGBoost 2.2 if not specified.\n",
      "[04:29:06] WARNING: /home/conda/feedstock_root/build_artifacts/xgboost-split_1707159369174/work/src/c_api/c_api.cc:1240: Saving into deprecated binary model format, please consider using `json` or `ubj`. Model format will default to JSON in XGBoost 2.2 if not specified.\n",
      "[04:29:09] WARNING: /home/conda/feedstock_root/build_artifacts/xgboost-split_1707159369174/work/src/c_api/c_api.cc:1240: Saving into deprecated binary model format, please consider using `json` or `ubj`. Model format will default to JSON in XGBoost 2.2 if not specified.\n",
      "[04:29:12] WARNING: /home/conda/feedstock_root/build_artifacts/xgboost-split_1707159369174/work/src/c_api/c_api.cc:1240: Saving into deprecated binary model format, please consider using `json` or `ubj`. Model format will default to JSON in XGBoost 2.2 if not specified.\n",
      "[04:29:16] WARNING: /home/conda/feedstock_root/build_artifacts/xgboost-split_1707159369174/work/src/c_api/c_api.cc:1240: Saving into deprecated binary model format, please consider using `json` or `ubj`. Model format will default to JSON in XGBoost 2.2 if not specified.\n",
      "[04:29:20] WARNING: /home/conda/feedstock_root/build_artifacts/xgboost-split_1707159369174/work/src/c_api/c_api.cc:1240: Saving into deprecated binary model format, please consider using `json` or `ubj`. Model format will default to JSON in XGBoost 2.2 if not specified.\n",
      "[04:29:25] WARNING: /home/conda/feedstock_root/build_artifacts/xgboost-split_1707159369174/work/src/c_api/c_api.cc:1240: Saving into deprecated binary model format, please consider using `json` or `ubj`. Model format will default to JSON in XGBoost 2.2 if not specified.\n",
      "[04:29:30] WARNING: /home/conda/feedstock_root/build_artifacts/xgboost-split_1707159369174/work/src/c_api/c_api.cc:1240: Saving into deprecated binary model format, please consider using `json` or `ubj`. Model format will default to JSON in XGBoost 2.2 if not specified.\n",
      "[04:29:33] WARNING: /home/conda/feedstock_root/build_artifacts/xgboost-split_1707159369174/work/src/c_api/c_api.cc:1240: Saving into deprecated binary model format, please consider using `json` or `ubj`. Model format will default to JSON in XGBoost 2.2 if not specified.\n",
      "[04:29:37] WARNING: /home/conda/feedstock_root/build_artifacts/xgboost-split_1707159369174/work/src/c_api/c_api.cc:1240: Saving into deprecated binary model format, please consider using `json` or `ubj`. Model format will default to JSON in XGBoost 2.2 if not specified.\n",
      "[04:29:42] WARNING: /home/conda/feedstock_root/build_artifacts/xgboost-split_1707159369174/work/src/c_api/c_api.cc:1240: Saving into deprecated binary model format, please consider using `json` or `ubj`. Model format will default to JSON in XGBoost 2.2 if not specified.\n",
      "[04:29:46] WARNING: /home/conda/feedstock_root/build_artifacts/xgboost-split_1707159369174/work/src/c_api/c_api.cc:1240: Saving into deprecated binary model format, please consider using `json` or `ubj`. Model format will default to JSON in XGBoost 2.2 if not specified.\n",
      "[04:29:49] WARNING: /home/conda/feedstock_root/build_artifacts/xgboost-split_1707159369174/work/src/c_api/c_api.cc:1240: Saving into deprecated binary model format, please consider using `json` or `ubj`. Model format will default to JSON in XGBoost 2.2 if not specified.\n",
      "[04:29:51] WARNING: /home/conda/feedstock_root/build_artifacts/xgboost-split_1707159369174/work/src/c_api/c_api.cc:1240: Saving into deprecated binary model format, please consider using `json` or `ubj`. Model format will default to JSON in XGBoost 2.2 if not specified.\n",
      "[04:29:54] WARNING: /home/conda/feedstock_root/build_artifacts/xgboost-split_1707159369174/work/src/c_api/c_api.cc:1240: Saving into deprecated binary model format, please consider using `json` or `ubj`. Model format will default to JSON in XGBoost 2.2 if not specified.\n",
      "[04:29:58] WARNING: /home/conda/feedstock_root/build_artifacts/xgboost-split_1707159369174/work/src/c_api/c_api.cc:1240: Saving into deprecated binary model format, please consider using `json` or `ubj`. Model format will default to JSON in XGBoost 2.2 if not specified.\n",
      "[04:30:01] WARNING: /home/conda/feedstock_root/build_artifacts/xgboost-split_1707159369174/work/src/c_api/c_api.cc:1240: Saving into deprecated binary model format, please consider using `json` or `ubj`. Model format will default to JSON in XGBoost 2.2 if not specified.\n",
      "[04:30:03] WARNING: /home/conda/feedstock_root/build_artifacts/xgboost-split_1707159369174/work/src/c_api/c_api.cc:1240: Saving into deprecated binary model format, please consider using `json` or `ubj`. Model format will default to JSON in XGBoost 2.2 if not specified.\n",
      "[04:30:05] WARNING: /home/conda/feedstock_root/build_artifacts/xgboost-split_1707159369174/work/src/c_api/c_api.cc:1240: Saving into deprecated binary model format, please consider using `json` or `ubj`. Model format will default to JSON in XGBoost 2.2 if not specified.\n",
      "[04:30:09] WARNING: /home/conda/feedstock_root/build_artifacts/xgboost-split_1707159369174/work/src/c_api/c_api.cc:1240: Saving into deprecated binary model format, please consider using `json` or `ubj`. Model format will default to JSON in XGBoost 2.2 if not specified.\n",
      "[04:30:16] WARNING: /home/conda/feedstock_root/build_artifacts/xgboost-split_1707159369174/work/src/c_api/c_api.cc:1240: Saving into deprecated binary model format, please consider using `json` or `ubj`. Model format will default to JSON in XGBoost 2.2 if not specified.\n",
      "[04:30:22] WARNING: /home/conda/feedstock_root/build_artifacts/xgboost-split_1707159369174/work/src/c_api/c_api.cc:1240: Saving into deprecated binary model format, please consider using `json` or `ubj`. Model format will default to JSON in XGBoost 2.2 if not specified.\n",
      "[04:30:25] WARNING: /home/conda/feedstock_root/build_artifacts/xgboost-split_1707159369174/work/src/c_api/c_api.cc:1240: Saving into deprecated binary model format, please consider using `json` or `ubj`. Model format will default to JSON in XGBoost 2.2 if not specified.\n",
      "[04:30:29] WARNING: /home/conda/feedstock_root/build_artifacts/xgboost-split_1707159369174/work/src/c_api/c_api.cc:1240: Saving into deprecated binary model format, please consider using `json` or `ubj`. Model format will default to JSON in XGBoost 2.2 if not specified.\n",
      "[04:30:34] WARNING: /home/conda/feedstock_root/build_artifacts/xgboost-split_1707159369174/work/src/c_api/c_api.cc:1240: Saving into deprecated binary model format, please consider using `json` or `ubj`. Model format will default to JSON in XGBoost 2.2 if not specified.\n",
      "[04:30:37] WARNING: /home/conda/feedstock_root/build_artifacts/xgboost-split_1707159369174/work/src/c_api/c_api.cc:1240: Saving into deprecated binary model format, please consider using `json` or `ubj`. Model format will default to JSON in XGBoost 2.2 if not specified.\n",
      "[04:30:41] WARNING: /home/conda/feedstock_root/build_artifacts/xgboost-split_1707159369174/work/src/c_api/c_api.cc:1240: Saving into deprecated binary model format, please consider using `json` or `ubj`. Model format will default to JSON in XGBoost 2.2 if not specified.\n",
      "[04:30:46] WARNING: /home/conda/feedstock_root/build_artifacts/xgboost-split_1707159369174/work/src/c_api/c_api.cc:1240: Saving into deprecated binary model format, please consider using `json` or `ubj`. Model format will default to JSON in XGBoost 2.2 if not specified.\n",
      "[04:30:50] WARNING: /home/conda/feedstock_root/build_artifacts/xgboost-split_1707159369174/work/src/c_api/c_api.cc:1240: Saving into deprecated binary model format, please consider using `json` or `ubj`. Model format will default to JSON in XGBoost 2.2 if not specified.\n",
      "[04:30:54] WARNING: /home/conda/feedstock_root/build_artifacts/xgboost-split_1707159369174/work/src/c_api/c_api.cc:1240: Saving into deprecated binary model format, please consider using `json` or `ubj`. Model format will default to JSON in XGBoost 2.2 if not specified.\n",
      "[04:30:58] WARNING: /home/conda/feedstock_root/build_artifacts/xgboost-split_1707159369174/work/src/c_api/c_api.cc:1240: Saving into deprecated binary model format, please consider using `json` or `ubj`. Model format will default to JSON in XGBoost 2.2 if not specified.\n",
      "[04:31:01] WARNING: /home/conda/feedstock_root/build_artifacts/xgboost-split_1707159369174/work/src/c_api/c_api.cc:1240: Saving into deprecated binary model format, please consider using `json` or `ubj`. Model format will default to JSON in XGBoost 2.2 if not specified.\n"
     ]
    },
    {
     "name": "stdout",
     "output_type": "stream",
     "text": [
      "Best Parameters: {'learning_rate': 0.01565941732150602, 'max_depth': 24, 'subsample': 0.7295696205552885, 'gamma': 0.41751833737041577, 'colsample_bytree': 0.8423233840719611, 'lambda': 13.986716618124442, 'alpha': 14.269211095450725}\n"
     ]
    },
    {
     "name": "stderr",
     "output_type": "stream",
     "text": [
      "[04:31:03] WARNING: /home/conda/feedstock_root/build_artifacts/xgboost-split_1707159369174/work/src/c_api/c_api.cc:1240: Saving into deprecated binary model format, please consider using `json` or `ubj`. Model format will default to JSON in XGBoost 2.2 if not specified.\n"
     ]
    },
    {
     "name": "stdout",
     "output_type": "stream",
     "text": [
      "Results Summary: {'Match': 13, 'No Evaluation': 1}\n",
      "\n",
      "--- Evaluating model with feature H3K9Ac_log added back ---\n",
      "\n"
     ]
    },
    {
     "name": "stderr",
     "output_type": "stream",
     "text": [
      "[04:31:07] WARNING: /home/conda/feedstock_root/build_artifacts/xgboost-split_1707159369174/work/src/c_api/c_api.cc:1240: Saving into deprecated binary model format, please consider using `json` or `ubj`. Model format will default to JSON in XGBoost 2.2 if not specified.\n"
     ]
    },
    {
     "name": "stdout",
     "output_type": "stream",
     "text": [
      "Results Summary: {'Match': 14, 'No Evaluation': 1}\n",
      "Feature: H3K9Ac_log, Known Function: Activating, Result: Match\n",
      "\n",
      "--- Performing LOO for feature cpg_percentage_log ---\n",
      "\n",
      "Remaining Features: ['H2A.2', 'H3K4me1', 'H2A.13', 'H3K4me3', 'H3K36me3', 'H4K5Ac', 'H2A.Z.11', 'expression_category', 'H3K27me3_log', 'H3K9Ac_log', 'H3K9K14Ac_log', 'H3Ac_log', 'chh_percentage_log', 'H4K20me1_log', 'chg_percentage_log', 'H2A.W.7_log', 'H3K9me1_log', 'H2A.W.6_log', 'H2A.Z.9_log', 'H3K23me1_log', 'H3K9me2_log']\n"
     ]
    },
    {
     "name": "stderr",
     "output_type": "stream",
     "text": [
      "[04:31:10] WARNING: /home/conda/feedstock_root/build_artifacts/xgboost-split_1707159369174/work/src/c_api/c_api.cc:1240: Saving into deprecated binary model format, please consider using `json` or `ubj`. Model format will default to JSON in XGBoost 2.2 if not specified.\n",
      "[04:31:13] WARNING: /home/conda/feedstock_root/build_artifacts/xgboost-split_1707159369174/work/src/c_api/c_api.cc:1240: Saving into deprecated binary model format, please consider using `json` or `ubj`. Model format will default to JSON in XGBoost 2.2 if not specified.\n",
      "[04:31:17] WARNING: /home/conda/feedstock_root/build_artifacts/xgboost-split_1707159369174/work/src/c_api/c_api.cc:1240: Saving into deprecated binary model format, please consider using `json` or `ubj`. Model format will default to JSON in XGBoost 2.2 if not specified.\n",
      "[04:31:20] WARNING: /home/conda/feedstock_root/build_artifacts/xgboost-split_1707159369174/work/src/c_api/c_api.cc:1240: Saving into deprecated binary model format, please consider using `json` or `ubj`. Model format will default to JSON in XGBoost 2.2 if not specified.\n",
      "[04:31:25] WARNING: /home/conda/feedstock_root/build_artifacts/xgboost-split_1707159369174/work/src/c_api/c_api.cc:1240: Saving into deprecated binary model format, please consider using `json` or `ubj`. Model format will default to JSON in XGBoost 2.2 if not specified.\n",
      "[04:31:29] WARNING: /home/conda/feedstock_root/build_artifacts/xgboost-split_1707159369174/work/src/c_api/c_api.cc:1240: Saving into deprecated binary model format, please consider using `json` or `ubj`. Model format will default to JSON in XGBoost 2.2 if not specified.\n",
      "[04:31:32] WARNING: /home/conda/feedstock_root/build_artifacts/xgboost-split_1707159369174/work/src/c_api/c_api.cc:1240: Saving into deprecated binary model format, please consider using `json` or `ubj`. Model format will default to JSON in XGBoost 2.2 if not specified.\n",
      "[04:31:35] WARNING: /home/conda/feedstock_root/build_artifacts/xgboost-split_1707159369174/work/src/c_api/c_api.cc:1240: Saving into deprecated binary model format, please consider using `json` or `ubj`. Model format will default to JSON in XGBoost 2.2 if not specified.\n",
      "[04:31:38] WARNING: /home/conda/feedstock_root/build_artifacts/xgboost-split_1707159369174/work/src/c_api/c_api.cc:1240: Saving into deprecated binary model format, please consider using `json` or `ubj`. Model format will default to JSON in XGBoost 2.2 if not specified.\n",
      "[04:31:41] WARNING: /home/conda/feedstock_root/build_artifacts/xgboost-split_1707159369174/work/src/c_api/c_api.cc:1240: Saving into deprecated binary model format, please consider using `json` or `ubj`. Model format will default to JSON in XGBoost 2.2 if not specified.\n",
      "[04:31:43] WARNING: /home/conda/feedstock_root/build_artifacts/xgboost-split_1707159369174/work/src/c_api/c_api.cc:1240: Saving into deprecated binary model format, please consider using `json` or `ubj`. Model format will default to JSON in XGBoost 2.2 if not specified.\n",
      "[04:31:47] WARNING: /home/conda/feedstock_root/build_artifacts/xgboost-split_1707159369174/work/src/c_api/c_api.cc:1240: Saving into deprecated binary model format, please consider using `json` or `ubj`. Model format will default to JSON in XGBoost 2.2 if not specified.\n",
      "[04:31:52] WARNING: /home/conda/feedstock_root/build_artifacts/xgboost-split_1707159369174/work/src/c_api/c_api.cc:1240: Saving into deprecated binary model format, please consider using `json` or `ubj`. Model format will default to JSON in XGBoost 2.2 if not specified.\n",
      "[04:31:55] WARNING: /home/conda/feedstock_root/build_artifacts/xgboost-split_1707159369174/work/src/c_api/c_api.cc:1240: Saving into deprecated binary model format, please consider using `json` or `ubj`. Model format will default to JSON in XGBoost 2.2 if not specified.\n",
      "[04:31:58] WARNING: /home/conda/feedstock_root/build_artifacts/xgboost-split_1707159369174/work/src/c_api/c_api.cc:1240: Saving into deprecated binary model format, please consider using `json` or `ubj`. Model format will default to JSON in XGBoost 2.2 if not specified.\n",
      "[04:32:06] WARNING: /home/conda/feedstock_root/build_artifacts/xgboost-split_1707159369174/work/src/c_api/c_api.cc:1240: Saving into deprecated binary model format, please consider using `json` or `ubj`. Model format will default to JSON in XGBoost 2.2 if not specified.\n",
      "[04:32:12] WARNING: /home/conda/feedstock_root/build_artifacts/xgboost-split_1707159369174/work/src/c_api/c_api.cc:1240: Saving into deprecated binary model format, please consider using `json` or `ubj`. Model format will default to JSON in XGBoost 2.2 if not specified.\n",
      "[04:32:16] WARNING: /home/conda/feedstock_root/build_artifacts/xgboost-split_1707159369174/work/src/c_api/c_api.cc:1240: Saving into deprecated binary model format, please consider using `json` or `ubj`. Model format will default to JSON in XGBoost 2.2 if not specified.\n",
      "[04:32:19] WARNING: /home/conda/feedstock_root/build_artifacts/xgboost-split_1707159369174/work/src/c_api/c_api.cc:1240: Saving into deprecated binary model format, please consider using `json` or `ubj`. Model format will default to JSON in XGBoost 2.2 if not specified.\n",
      "[04:32:23] WARNING: /home/conda/feedstock_root/build_artifacts/xgboost-split_1707159369174/work/src/c_api/c_api.cc:1240: Saving into deprecated binary model format, please consider using `json` or `ubj`. Model format will default to JSON in XGBoost 2.2 if not specified.\n",
      "[04:32:26] WARNING: /home/conda/feedstock_root/build_artifacts/xgboost-split_1707159369174/work/src/c_api/c_api.cc:1240: Saving into deprecated binary model format, please consider using `json` or `ubj`. Model format will default to JSON in XGBoost 2.2 if not specified.\n",
      "[04:32:28] WARNING: /home/conda/feedstock_root/build_artifacts/xgboost-split_1707159369174/work/src/c_api/c_api.cc:1240: Saving into deprecated binary model format, please consider using `json` or `ubj`. Model format will default to JSON in XGBoost 2.2 if not specified.\n",
      "[04:32:30] WARNING: /home/conda/feedstock_root/build_artifacts/xgboost-split_1707159369174/work/src/c_api/c_api.cc:1240: Saving into deprecated binary model format, please consider using `json` or `ubj`. Model format will default to JSON in XGBoost 2.2 if not specified.\n",
      "[04:32:32] WARNING: /home/conda/feedstock_root/build_artifacts/xgboost-split_1707159369174/work/src/c_api/c_api.cc:1240: Saving into deprecated binary model format, please consider using `json` or `ubj`. Model format will default to JSON in XGBoost 2.2 if not specified.\n",
      "[04:32:34] WARNING: /home/conda/feedstock_root/build_artifacts/xgboost-split_1707159369174/work/src/c_api/c_api.cc:1240: Saving into deprecated binary model format, please consider using `json` or `ubj`. Model format will default to JSON in XGBoost 2.2 if not specified.\n",
      "[04:32:37] WARNING: /home/conda/feedstock_root/build_artifacts/xgboost-split_1707159369174/work/src/c_api/c_api.cc:1240: Saving into deprecated binary model format, please consider using `json` or `ubj`. Model format will default to JSON in XGBoost 2.2 if not specified.\n",
      "[04:32:40] WARNING: /home/conda/feedstock_root/build_artifacts/xgboost-split_1707159369174/work/src/c_api/c_api.cc:1240: Saving into deprecated binary model format, please consider using `json` or `ubj`. Model format will default to JSON in XGBoost 2.2 if not specified.\n",
      "[04:32:44] WARNING: /home/conda/feedstock_root/build_artifacts/xgboost-split_1707159369174/work/src/c_api/c_api.cc:1240: Saving into deprecated binary model format, please consider using `json` or `ubj`. Model format will default to JSON in XGBoost 2.2 if not specified.\n",
      "[04:32:48] WARNING: /home/conda/feedstock_root/build_artifacts/xgboost-split_1707159369174/work/src/c_api/c_api.cc:1240: Saving into deprecated binary model format, please consider using `json` or `ubj`. Model format will default to JSON in XGBoost 2.2 if not specified.\n",
      "[04:32:51] WARNING: /home/conda/feedstock_root/build_artifacts/xgboost-split_1707159369174/work/src/c_api/c_api.cc:1240: Saving into deprecated binary model format, please consider using `json` or `ubj`. Model format will default to JSON in XGBoost 2.2 if not specified.\n",
      "[04:32:54] WARNING: /home/conda/feedstock_root/build_artifacts/xgboost-split_1707159369174/work/src/c_api/c_api.cc:1240: Saving into deprecated binary model format, please consider using `json` or `ubj`. Model format will default to JSON in XGBoost 2.2 if not specified.\n",
      "[04:32:58] WARNING: /home/conda/feedstock_root/build_artifacts/xgboost-split_1707159369174/work/src/c_api/c_api.cc:1240: Saving into deprecated binary model format, please consider using `json` or `ubj`. Model format will default to JSON in XGBoost 2.2 if not specified.\n",
      "[04:33:02] WARNING: /home/conda/feedstock_root/build_artifacts/xgboost-split_1707159369174/work/src/c_api/c_api.cc:1240: Saving into deprecated binary model format, please consider using `json` or `ubj`. Model format will default to JSON in XGBoost 2.2 if not specified.\n",
      "[04:33:06] WARNING: /home/conda/feedstock_root/build_artifacts/xgboost-split_1707159369174/work/src/c_api/c_api.cc:1240: Saving into deprecated binary model format, please consider using `json` or `ubj`. Model format will default to JSON in XGBoost 2.2 if not specified.\n",
      "[04:33:10] WARNING: /home/conda/feedstock_root/build_artifacts/xgboost-split_1707159369174/work/src/c_api/c_api.cc:1240: Saving into deprecated binary model format, please consider using `json` or `ubj`. Model format will default to JSON in XGBoost 2.2 if not specified.\n",
      "[04:33:14] WARNING: /home/conda/feedstock_root/build_artifacts/xgboost-split_1707159369174/work/src/c_api/c_api.cc:1240: Saving into deprecated binary model format, please consider using `json` or `ubj`. Model format will default to JSON in XGBoost 2.2 if not specified.\n",
      "[04:33:17] WARNING: /home/conda/feedstock_root/build_artifacts/xgboost-split_1707159369174/work/src/c_api/c_api.cc:1240: Saving into deprecated binary model format, please consider using `json` or `ubj`. Model format will default to JSON in XGBoost 2.2 if not specified.\n",
      "[04:33:20] WARNING: /home/conda/feedstock_root/build_artifacts/xgboost-split_1707159369174/work/src/c_api/c_api.cc:1240: Saving into deprecated binary model format, please consider using `json` or `ubj`. Model format will default to JSON in XGBoost 2.2 if not specified.\n",
      "[04:33:23] WARNING: /home/conda/feedstock_root/build_artifacts/xgboost-split_1707159369174/work/src/c_api/c_api.cc:1240: Saving into deprecated binary model format, please consider using `json` or `ubj`. Model format will default to JSON in XGBoost 2.2 if not specified.\n",
      "[04:33:26] WARNING: /home/conda/feedstock_root/build_artifacts/xgboost-split_1707159369174/work/src/c_api/c_api.cc:1240: Saving into deprecated binary model format, please consider using `json` or `ubj`. Model format will default to JSON in XGBoost 2.2 if not specified.\n"
     ]
    },
    {
     "name": "stdout",
     "output_type": "stream",
     "text": [
      "Best Parameters: {'learning_rate': 0.022895632273654654, 'max_depth': 14, 'subsample': 0.4320101079520008, 'gamma': 0.4350124023237894, 'colsample_bytree': 0.7618628244713155, 'lambda': 6.365473621584548, 'alpha': 13.271408453951556}\n"
     ]
    },
    {
     "name": "stderr",
     "output_type": "stream",
     "text": [
      "[04:33:28] WARNING: /home/conda/feedstock_root/build_artifacts/xgboost-split_1707159369174/work/src/c_api/c_api.cc:1240: Saving into deprecated binary model format, please consider using `json` or `ubj`. Model format will default to JSON in XGBoost 2.2 if not specified.\n"
     ]
    },
    {
     "name": "stdout",
     "output_type": "stream",
     "text": [
      "Results Summary: {'Match': 13, 'Mismatch': 2, 'No Evaluation': 1}\n",
      "Removing mismatch feature: H4K5Ac\n",
      "Remaining Features: ['H2A.2', 'H3K4me1', 'H2A.13', 'H3K4me3', 'H3K36me3', 'H2A.Z.11', 'expression_category', 'H3K27me3_log', 'H3K9Ac_log', 'H3K9K14Ac_log', 'H3Ac_log', 'chh_percentage_log', 'H4K20me1_log', 'chg_percentage_log', 'H2A.W.7_log', 'H3K9me1_log', 'H2A.W.6_log', 'H2A.Z.9_log', 'H3K23me1_log', 'H3K9me2_log']\n"
     ]
    },
    {
     "name": "stderr",
     "output_type": "stream",
     "text": [
      "[04:33:32] WARNING: /home/conda/feedstock_root/build_artifacts/xgboost-split_1707159369174/work/src/c_api/c_api.cc:1240: Saving into deprecated binary model format, please consider using `json` or `ubj`. Model format will default to JSON in XGBoost 2.2 if not specified.\n",
      "[04:33:39] WARNING: /home/conda/feedstock_root/build_artifacts/xgboost-split_1707159369174/work/src/c_api/c_api.cc:1240: Saving into deprecated binary model format, please consider using `json` or `ubj`. Model format will default to JSON in XGBoost 2.2 if not specified.\n",
      "[04:33:43] WARNING: /home/conda/feedstock_root/build_artifacts/xgboost-split_1707159369174/work/src/c_api/c_api.cc:1240: Saving into deprecated binary model format, please consider using `json` or `ubj`. Model format will default to JSON in XGBoost 2.2 if not specified.\n",
      "[04:33:46] WARNING: /home/conda/feedstock_root/build_artifacts/xgboost-split_1707159369174/work/src/c_api/c_api.cc:1240: Saving into deprecated binary model format, please consider using `json` or `ubj`. Model format will default to JSON in XGBoost 2.2 if not specified.\n",
      "[04:33:48] WARNING: /home/conda/feedstock_root/build_artifacts/xgboost-split_1707159369174/work/src/c_api/c_api.cc:1240: Saving into deprecated binary model format, please consider using `json` or `ubj`. Model format will default to JSON in XGBoost 2.2 if not specified.\n",
      "[04:33:53] WARNING: /home/conda/feedstock_root/build_artifacts/xgboost-split_1707159369174/work/src/c_api/c_api.cc:1240: Saving into deprecated binary model format, please consider using `json` or `ubj`. Model format will default to JSON in XGBoost 2.2 if not specified.\n",
      "[04:33:57] WARNING: /home/conda/feedstock_root/build_artifacts/xgboost-split_1707159369174/work/src/c_api/c_api.cc:1240: Saving into deprecated binary model format, please consider using `json` or `ubj`. Model format will default to JSON in XGBoost 2.2 if not specified.\n",
      "[04:34:00] WARNING: /home/conda/feedstock_root/build_artifacts/xgboost-split_1707159369174/work/src/c_api/c_api.cc:1240: Saving into deprecated binary model format, please consider using `json` or `ubj`. Model format will default to JSON in XGBoost 2.2 if not specified.\n",
      "[04:34:04] WARNING: /home/conda/feedstock_root/build_artifacts/xgboost-split_1707159369174/work/src/c_api/c_api.cc:1240: Saving into deprecated binary model format, please consider using `json` or `ubj`. Model format will default to JSON in XGBoost 2.2 if not specified.\n",
      "[04:34:07] WARNING: /home/conda/feedstock_root/build_artifacts/xgboost-split_1707159369174/work/src/c_api/c_api.cc:1240: Saving into deprecated binary model format, please consider using `json` or `ubj`. Model format will default to JSON in XGBoost 2.2 if not specified.\n",
      "[04:34:10] WARNING: /home/conda/feedstock_root/build_artifacts/xgboost-split_1707159369174/work/src/c_api/c_api.cc:1240: Saving into deprecated binary model format, please consider using `json` or `ubj`. Model format will default to JSON in XGBoost 2.2 if not specified.\n",
      "[04:34:12] WARNING: /home/conda/feedstock_root/build_artifacts/xgboost-split_1707159369174/work/src/c_api/c_api.cc:1240: Saving into deprecated binary model format, please consider using `json` or `ubj`. Model format will default to JSON in XGBoost 2.2 if not specified.\n",
      "[04:34:14] WARNING: /home/conda/feedstock_root/build_artifacts/xgboost-split_1707159369174/work/src/c_api/c_api.cc:1240: Saving into deprecated binary model format, please consider using `json` or `ubj`. Model format will default to JSON in XGBoost 2.2 if not specified.\n",
      "[04:34:16] WARNING: /home/conda/feedstock_root/build_artifacts/xgboost-split_1707159369174/work/src/c_api/c_api.cc:1240: Saving into deprecated binary model format, please consider using `json` or `ubj`. Model format will default to JSON in XGBoost 2.2 if not specified.\n",
      "[04:34:18] WARNING: /home/conda/feedstock_root/build_artifacts/xgboost-split_1707159369174/work/src/c_api/c_api.cc:1240: Saving into deprecated binary model format, please consider using `json` or `ubj`. Model format will default to JSON in XGBoost 2.2 if not specified.\n",
      "[04:34:21] WARNING: /home/conda/feedstock_root/build_artifacts/xgboost-split_1707159369174/work/src/c_api/c_api.cc:1240: Saving into deprecated binary model format, please consider using `json` or `ubj`. Model format will default to JSON in XGBoost 2.2 if not specified.\n",
      "[04:34:23] WARNING: /home/conda/feedstock_root/build_artifacts/xgboost-split_1707159369174/work/src/c_api/c_api.cc:1240: Saving into deprecated binary model format, please consider using `json` or `ubj`. Model format will default to JSON in XGBoost 2.2 if not specified.\n",
      "[04:34:25] WARNING: /home/conda/feedstock_root/build_artifacts/xgboost-split_1707159369174/work/src/c_api/c_api.cc:1240: Saving into deprecated binary model format, please consider using `json` or `ubj`. Model format will default to JSON in XGBoost 2.2 if not specified.\n",
      "[04:34:29] WARNING: /home/conda/feedstock_root/build_artifacts/xgboost-split_1707159369174/work/src/c_api/c_api.cc:1240: Saving into deprecated binary model format, please consider using `json` or `ubj`. Model format will default to JSON in XGBoost 2.2 if not specified.\n",
      "[04:34:31] WARNING: /home/conda/feedstock_root/build_artifacts/xgboost-split_1707159369174/work/src/c_api/c_api.cc:1240: Saving into deprecated binary model format, please consider using `json` or `ubj`. Model format will default to JSON in XGBoost 2.2 if not specified.\n",
      "[04:34:34] WARNING: /home/conda/feedstock_root/build_artifacts/xgboost-split_1707159369174/work/src/c_api/c_api.cc:1240: Saving into deprecated binary model format, please consider using `json` or `ubj`. Model format will default to JSON in XGBoost 2.2 if not specified.\n",
      "[04:34:36] WARNING: /home/conda/feedstock_root/build_artifacts/xgboost-split_1707159369174/work/src/c_api/c_api.cc:1240: Saving into deprecated binary model format, please consider using `json` or `ubj`. Model format will default to JSON in XGBoost 2.2 if not specified.\n",
      "[04:34:38] WARNING: /home/conda/feedstock_root/build_artifacts/xgboost-split_1707159369174/work/src/c_api/c_api.cc:1240: Saving into deprecated binary model format, please consider using `json` or `ubj`. Model format will default to JSON in XGBoost 2.2 if not specified.\n",
      "[04:34:40] WARNING: /home/conda/feedstock_root/build_artifacts/xgboost-split_1707159369174/work/src/c_api/c_api.cc:1240: Saving into deprecated binary model format, please consider using `json` or `ubj`. Model format will default to JSON in XGBoost 2.2 if not specified.\n",
      "[04:34:43] WARNING: /home/conda/feedstock_root/build_artifacts/xgboost-split_1707159369174/work/src/c_api/c_api.cc:1240: Saving into deprecated binary model format, please consider using `json` or `ubj`. Model format will default to JSON in XGBoost 2.2 if not specified.\n",
      "[04:34:45] WARNING: /home/conda/feedstock_root/build_artifacts/xgboost-split_1707159369174/work/src/c_api/c_api.cc:1240: Saving into deprecated binary model format, please consider using `json` or `ubj`. Model format will default to JSON in XGBoost 2.2 if not specified.\n",
      "[04:34:48] WARNING: /home/conda/feedstock_root/build_artifacts/xgboost-split_1707159369174/work/src/c_api/c_api.cc:1240: Saving into deprecated binary model format, please consider using `json` or `ubj`. Model format will default to JSON in XGBoost 2.2 if not specified.\n",
      "[04:34:51] WARNING: /home/conda/feedstock_root/build_artifacts/xgboost-split_1707159369174/work/src/c_api/c_api.cc:1240: Saving into deprecated binary model format, please consider using `json` or `ubj`. Model format will default to JSON in XGBoost 2.2 if not specified.\n",
      "[04:34:53] WARNING: /home/conda/feedstock_root/build_artifacts/xgboost-split_1707159369174/work/src/c_api/c_api.cc:1240: Saving into deprecated binary model format, please consider using `json` or `ubj`. Model format will default to JSON in XGBoost 2.2 if not specified.\n",
      "[04:34:55] WARNING: /home/conda/feedstock_root/build_artifacts/xgboost-split_1707159369174/work/src/c_api/c_api.cc:1240: Saving into deprecated binary model format, please consider using `json` or `ubj`. Model format will default to JSON in XGBoost 2.2 if not specified.\n",
      "[04:34:57] WARNING: /home/conda/feedstock_root/build_artifacts/xgboost-split_1707159369174/work/src/c_api/c_api.cc:1240: Saving into deprecated binary model format, please consider using `json` or `ubj`. Model format will default to JSON in XGBoost 2.2 if not specified.\n",
      "[04:35:00] WARNING: /home/conda/feedstock_root/build_artifacts/xgboost-split_1707159369174/work/src/c_api/c_api.cc:1240: Saving into deprecated binary model format, please consider using `json` or `ubj`. Model format will default to JSON in XGBoost 2.2 if not specified.\n",
      "[04:35:02] WARNING: /home/conda/feedstock_root/build_artifacts/xgboost-split_1707159369174/work/src/c_api/c_api.cc:1240: Saving into deprecated binary model format, please consider using `json` or `ubj`. Model format will default to JSON in XGBoost 2.2 if not specified.\n",
      "[04:35:05] WARNING: /home/conda/feedstock_root/build_artifacts/xgboost-split_1707159369174/work/src/c_api/c_api.cc:1240: Saving into deprecated binary model format, please consider using `json` or `ubj`. Model format will default to JSON in XGBoost 2.2 if not specified.\n",
      "[04:35:08] WARNING: /home/conda/feedstock_root/build_artifacts/xgboost-split_1707159369174/work/src/c_api/c_api.cc:1240: Saving into deprecated binary model format, please consider using `json` or `ubj`. Model format will default to JSON in XGBoost 2.2 if not specified.\n",
      "[04:35:11] WARNING: /home/conda/feedstock_root/build_artifacts/xgboost-split_1707159369174/work/src/c_api/c_api.cc:1240: Saving into deprecated binary model format, please consider using `json` or `ubj`. Model format will default to JSON in XGBoost 2.2 if not specified.\n",
      "[04:35:14] WARNING: /home/conda/feedstock_root/build_artifacts/xgboost-split_1707159369174/work/src/c_api/c_api.cc:1240: Saving into deprecated binary model format, please consider using `json` or `ubj`. Model format will default to JSON in XGBoost 2.2 if not specified.\n",
      "[04:35:16] WARNING: /home/conda/feedstock_root/build_artifacts/xgboost-split_1707159369174/work/src/c_api/c_api.cc:1240: Saving into deprecated binary model format, please consider using `json` or `ubj`. Model format will default to JSON in XGBoost 2.2 if not specified.\n",
      "[04:35:20] WARNING: /home/conda/feedstock_root/build_artifacts/xgboost-split_1707159369174/work/src/c_api/c_api.cc:1240: Saving into deprecated binary model format, please consider using `json` or `ubj`. Model format will default to JSON in XGBoost 2.2 if not specified.\n",
      "[04:35:23] WARNING: /home/conda/feedstock_root/build_artifacts/xgboost-split_1707159369174/work/src/c_api/c_api.cc:1240: Saving into deprecated binary model format, please consider using `json` or `ubj`. Model format will default to JSON in XGBoost 2.2 if not specified.\n"
     ]
    },
    {
     "name": "stdout",
     "output_type": "stream",
     "text": [
      "Best Parameters: {'learning_rate': 0.021241173552824774, 'max_depth': 16, 'subsample': 0.47110192351406754, 'gamma': 0.5567059000877569, 'colsample_bytree': 0.8045418479771533, 'lambda': 10.585189506044632, 'alpha': 12.758445552942318}\n"
     ]
    },
    {
     "name": "stderr",
     "output_type": "stream",
     "text": [
      "[04:35:25] WARNING: /home/conda/feedstock_root/build_artifacts/xgboost-split_1707159369174/work/src/c_api/c_api.cc:1240: Saving into deprecated binary model format, please consider using `json` or `ubj`. Model format will default to JSON in XGBoost 2.2 if not specified.\n"
     ]
    },
    {
     "name": "stdout",
     "output_type": "stream",
     "text": [
      "Results Summary: {'Match': 13, 'Mismatch': 1, 'No Evaluation': 1}\n",
      "Removing mismatch feature: H3K4me1\n",
      "Remaining Features: ['H2A.2', 'H2A.13', 'H3K4me3', 'H3K36me3', 'H2A.Z.11', 'expression_category', 'H3K27me3_log', 'H3K9Ac_log', 'H3K9K14Ac_log', 'H3Ac_log', 'chh_percentage_log', 'H4K20me1_log', 'chg_percentage_log', 'H2A.W.7_log', 'H3K9me1_log', 'H2A.W.6_log', 'H2A.Z.9_log', 'H3K23me1_log', 'H3K9me2_log']\n"
     ]
    },
    {
     "name": "stderr",
     "output_type": "stream",
     "text": [
      "[04:35:29] WARNING: /home/conda/feedstock_root/build_artifacts/xgboost-split_1707159369174/work/src/c_api/c_api.cc:1240: Saving into deprecated binary model format, please consider using `json` or `ubj`. Model format will default to JSON in XGBoost 2.2 if not specified.\n",
      "[04:35:34] WARNING: /home/conda/feedstock_root/build_artifacts/xgboost-split_1707159369174/work/src/c_api/c_api.cc:1240: Saving into deprecated binary model format, please consider using `json` or `ubj`. Model format will default to JSON in XGBoost 2.2 if not specified.\n",
      "[04:35:40] WARNING: /home/conda/feedstock_root/build_artifacts/xgboost-split_1707159369174/work/src/c_api/c_api.cc:1240: Saving into deprecated binary model format, please consider using `json` or `ubj`. Model format will default to JSON in XGBoost 2.2 if not specified.\n",
      "[04:35:45] WARNING: /home/conda/feedstock_root/build_artifacts/xgboost-split_1707159369174/work/src/c_api/c_api.cc:1240: Saving into deprecated binary model format, please consider using `json` or `ubj`. Model format will default to JSON in XGBoost 2.2 if not specified.\n",
      "[04:35:47] WARNING: /home/conda/feedstock_root/build_artifacts/xgboost-split_1707159369174/work/src/c_api/c_api.cc:1240: Saving into deprecated binary model format, please consider using `json` or `ubj`. Model format will default to JSON in XGBoost 2.2 if not specified.\n",
      "[04:35:49] WARNING: /home/conda/feedstock_root/build_artifacts/xgboost-split_1707159369174/work/src/c_api/c_api.cc:1240: Saving into deprecated binary model format, please consider using `json` or `ubj`. Model format will default to JSON in XGBoost 2.2 if not specified.\n",
      "[04:35:53] WARNING: /home/conda/feedstock_root/build_artifacts/xgboost-split_1707159369174/work/src/c_api/c_api.cc:1240: Saving into deprecated binary model format, please consider using `json` or `ubj`. Model format will default to JSON in XGBoost 2.2 if not specified.\n",
      "[04:35:57] WARNING: /home/conda/feedstock_root/build_artifacts/xgboost-split_1707159369174/work/src/c_api/c_api.cc:1240: Saving into deprecated binary model format, please consider using `json` or `ubj`. Model format will default to JSON in XGBoost 2.2 if not specified.\n",
      "[04:36:00] WARNING: /home/conda/feedstock_root/build_artifacts/xgboost-split_1707159369174/work/src/c_api/c_api.cc:1240: Saving into deprecated binary model format, please consider using `json` or `ubj`. Model format will default to JSON in XGBoost 2.2 if not specified.\n",
      "[04:36:04] WARNING: /home/conda/feedstock_root/build_artifacts/xgboost-split_1707159369174/work/src/c_api/c_api.cc:1240: Saving into deprecated binary model format, please consider using `json` or `ubj`. Model format will default to JSON in XGBoost 2.2 if not specified.\n",
      "[04:36:07] WARNING: /home/conda/feedstock_root/build_artifacts/xgboost-split_1707159369174/work/src/c_api/c_api.cc:1240: Saving into deprecated binary model format, please consider using `json` or `ubj`. Model format will default to JSON in XGBoost 2.2 if not specified.\n",
      "[04:36:10] WARNING: /home/conda/feedstock_root/build_artifacts/xgboost-split_1707159369174/work/src/c_api/c_api.cc:1240: Saving into deprecated binary model format, please consider using `json` or `ubj`. Model format will default to JSON in XGBoost 2.2 if not specified.\n",
      "[04:36:13] WARNING: /home/conda/feedstock_root/build_artifacts/xgboost-split_1707159369174/work/src/c_api/c_api.cc:1240: Saving into deprecated binary model format, please consider using `json` or `ubj`. Model format will default to JSON in XGBoost 2.2 if not specified.\n",
      "[04:36:16] WARNING: /home/conda/feedstock_root/build_artifacts/xgboost-split_1707159369174/work/src/c_api/c_api.cc:1240: Saving into deprecated binary model format, please consider using `json` or `ubj`. Model format will default to JSON in XGBoost 2.2 if not specified.\n",
      "[04:36:19] WARNING: /home/conda/feedstock_root/build_artifacts/xgboost-split_1707159369174/work/src/c_api/c_api.cc:1240: Saving into deprecated binary model format, please consider using `json` or `ubj`. Model format will default to JSON in XGBoost 2.2 if not specified.\n",
      "[04:36:22] WARNING: /home/conda/feedstock_root/build_artifacts/xgboost-split_1707159369174/work/src/c_api/c_api.cc:1240: Saving into deprecated binary model format, please consider using `json` or `ubj`. Model format will default to JSON in XGBoost 2.2 if not specified.\n",
      "[04:36:26] WARNING: /home/conda/feedstock_root/build_artifacts/xgboost-split_1707159369174/work/src/c_api/c_api.cc:1240: Saving into deprecated binary model format, please consider using `json` or `ubj`. Model format will default to JSON in XGBoost 2.2 if not specified.\n",
      "[04:36:29] WARNING: /home/conda/feedstock_root/build_artifacts/xgboost-split_1707159369174/work/src/c_api/c_api.cc:1240: Saving into deprecated binary model format, please consider using `json` or `ubj`. Model format will default to JSON in XGBoost 2.2 if not specified.\n",
      "[04:36:33] WARNING: /home/conda/feedstock_root/build_artifacts/xgboost-split_1707159369174/work/src/c_api/c_api.cc:1240: Saving into deprecated binary model format, please consider using `json` or `ubj`. Model format will default to JSON in XGBoost 2.2 if not specified.\n",
      "[04:36:36] WARNING: /home/conda/feedstock_root/build_artifacts/xgboost-split_1707159369174/work/src/c_api/c_api.cc:1240: Saving into deprecated binary model format, please consider using `json` or `ubj`. Model format will default to JSON in XGBoost 2.2 if not specified.\n",
      "[04:36:40] WARNING: /home/conda/feedstock_root/build_artifacts/xgboost-split_1707159369174/work/src/c_api/c_api.cc:1240: Saving into deprecated binary model format, please consider using `json` or `ubj`. Model format will default to JSON in XGBoost 2.2 if not specified.\n",
      "[04:36:44] WARNING: /home/conda/feedstock_root/build_artifacts/xgboost-split_1707159369174/work/src/c_api/c_api.cc:1240: Saving into deprecated binary model format, please consider using `json` or `ubj`. Model format will default to JSON in XGBoost 2.2 if not specified.\n",
      "[04:36:47] WARNING: /home/conda/feedstock_root/build_artifacts/xgboost-split_1707159369174/work/src/c_api/c_api.cc:1240: Saving into deprecated binary model format, please consider using `json` or `ubj`. Model format will default to JSON in XGBoost 2.2 if not specified.\n",
      "[04:36:52] WARNING: /home/conda/feedstock_root/build_artifacts/xgboost-split_1707159369174/work/src/c_api/c_api.cc:1240: Saving into deprecated binary model format, please consider using `json` or `ubj`. Model format will default to JSON in XGBoost 2.2 if not specified.\n",
      "[04:36:56] WARNING: /home/conda/feedstock_root/build_artifacts/xgboost-split_1707159369174/work/src/c_api/c_api.cc:1240: Saving into deprecated binary model format, please consider using `json` or `ubj`. Model format will default to JSON in XGBoost 2.2 if not specified.\n",
      "[04:37:02] WARNING: /home/conda/feedstock_root/build_artifacts/xgboost-split_1707159369174/work/src/c_api/c_api.cc:1240: Saving into deprecated binary model format, please consider using `json` or `ubj`. Model format will default to JSON in XGBoost 2.2 if not specified.\n",
      "[04:37:07] WARNING: /home/conda/feedstock_root/build_artifacts/xgboost-split_1707159369174/work/src/c_api/c_api.cc:1240: Saving into deprecated binary model format, please consider using `json` or `ubj`. Model format will default to JSON in XGBoost 2.2 if not specified.\n",
      "[04:37:13] WARNING: /home/conda/feedstock_root/build_artifacts/xgboost-split_1707159369174/work/src/c_api/c_api.cc:1240: Saving into deprecated binary model format, please consider using `json` or `ubj`. Model format will default to JSON in XGBoost 2.2 if not specified.\n",
      "[04:37:17] WARNING: /home/conda/feedstock_root/build_artifacts/xgboost-split_1707159369174/work/src/c_api/c_api.cc:1240: Saving into deprecated binary model format, please consider using `json` or `ubj`. Model format will default to JSON in XGBoost 2.2 if not specified.\n",
      "[04:37:21] WARNING: /home/conda/feedstock_root/build_artifacts/xgboost-split_1707159369174/work/src/c_api/c_api.cc:1240: Saving into deprecated binary model format, please consider using `json` or `ubj`. Model format will default to JSON in XGBoost 2.2 if not specified.\n",
      "[04:37:26] WARNING: /home/conda/feedstock_root/build_artifacts/xgboost-split_1707159369174/work/src/c_api/c_api.cc:1240: Saving into deprecated binary model format, please consider using `json` or `ubj`. Model format will default to JSON in XGBoost 2.2 if not specified.\n",
      "[04:37:31] WARNING: /home/conda/feedstock_root/build_artifacts/xgboost-split_1707159369174/work/src/c_api/c_api.cc:1240: Saving into deprecated binary model format, please consider using `json` or `ubj`. Model format will default to JSON in XGBoost 2.2 if not specified.\n",
      "[04:37:36] WARNING: /home/conda/feedstock_root/build_artifacts/xgboost-split_1707159369174/work/src/c_api/c_api.cc:1240: Saving into deprecated binary model format, please consider using `json` or `ubj`. Model format will default to JSON in XGBoost 2.2 if not specified.\n",
      "[04:37:40] WARNING: /home/conda/feedstock_root/build_artifacts/xgboost-split_1707159369174/work/src/c_api/c_api.cc:1240: Saving into deprecated binary model format, please consider using `json` or `ubj`. Model format will default to JSON in XGBoost 2.2 if not specified.\n",
      "[04:37:46] WARNING: /home/conda/feedstock_root/build_artifacts/xgboost-split_1707159369174/work/src/c_api/c_api.cc:1240: Saving into deprecated binary model format, please consider using `json` or `ubj`. Model format will default to JSON in XGBoost 2.2 if not specified.\n",
      "[04:37:53] WARNING: /home/conda/feedstock_root/build_artifacts/xgboost-split_1707159369174/work/src/c_api/c_api.cc:1240: Saving into deprecated binary model format, please consider using `json` or `ubj`. Model format will default to JSON in XGBoost 2.2 if not specified.\n",
      "[04:37:58] WARNING: /home/conda/feedstock_root/build_artifacts/xgboost-split_1707159369174/work/src/c_api/c_api.cc:1240: Saving into deprecated binary model format, please consider using `json` or `ubj`. Model format will default to JSON in XGBoost 2.2 if not specified.\n",
      "[04:38:02] WARNING: /home/conda/feedstock_root/build_artifacts/xgboost-split_1707159369174/work/src/c_api/c_api.cc:1240: Saving into deprecated binary model format, please consider using `json` or `ubj`. Model format will default to JSON in XGBoost 2.2 if not specified.\n",
      "[04:38:06] WARNING: /home/conda/feedstock_root/build_artifacts/xgboost-split_1707159369174/work/src/c_api/c_api.cc:1240: Saving into deprecated binary model format, please consider using `json` or `ubj`. Model format will default to JSON in XGBoost 2.2 if not specified.\n",
      "[04:38:10] WARNING: /home/conda/feedstock_root/build_artifacts/xgboost-split_1707159369174/work/src/c_api/c_api.cc:1240: Saving into deprecated binary model format, please consider using `json` or `ubj`. Model format will default to JSON in XGBoost 2.2 if not specified.\n"
     ]
    },
    {
     "name": "stdout",
     "output_type": "stream",
     "text": [
      "Best Parameters: {'learning_rate': 0.025625058361390476, 'max_depth': 27, 'subsample': 0.485170288437871, 'gamma': 0.2018482695718919, 'colsample_bytree': 0.6899410370115047, 'lambda': 5.230377680250164, 'alpha': 9.033197921351805}\n"
     ]
    },
    {
     "name": "stderr",
     "output_type": "stream",
     "text": [
      "[04:38:14] WARNING: /home/conda/feedstock_root/build_artifacts/xgboost-split_1707159369174/work/src/c_api/c_api.cc:1240: Saving into deprecated binary model format, please consider using `json` or `ubj`. Model format will default to JSON in XGBoost 2.2 if not specified.\n"
     ]
    },
    {
     "name": "stdout",
     "output_type": "stream",
     "text": [
      "Results Summary: {'Match': 13, 'No Evaluation': 1}\n",
      "\n",
      "--- Evaluating model with feature cpg_percentage_log added back ---\n",
      "\n"
     ]
    },
    {
     "name": "stderr",
     "output_type": "stream",
     "text": [
      "[04:38:18] WARNING: /home/conda/feedstock_root/build_artifacts/xgboost-split_1707159369174/work/src/c_api/c_api.cc:1240: Saving into deprecated binary model format, please consider using `json` or `ubj`. Model format will default to JSON in XGBoost 2.2 if not specified.\n"
     ]
    },
    {
     "name": "stdout",
     "output_type": "stream",
     "text": [
      "Results Summary: {'Match': 12, 'Mismatch': 2, 'No Evaluation': 1}\n",
      "Feature: cpg_percentage_log, Known Function: Repressive, Result: Match\n",
      "\n",
      "--- Performing LOO for feature chh_percentage_log ---\n",
      "\n",
      "Remaining Features: ['H2A.2', 'H3K4me1', 'H2A.13', 'H3K4me3', 'H3K36me3', 'H4K5Ac', 'H2A.Z.11', 'expression_category', 'H3K27me3_log', 'H3K9Ac_log', 'cpg_percentage_log', 'H3K9K14Ac_log', 'H3Ac_log', 'H4K20me1_log', 'chg_percentage_log', 'H2A.W.7_log', 'H3K9me1_log', 'H2A.W.6_log', 'H2A.Z.9_log', 'H3K23me1_log', 'H3K9me2_log']\n"
     ]
    },
    {
     "name": "stderr",
     "output_type": "stream",
     "text": [
      "[04:38:24] WARNING: /home/conda/feedstock_root/build_artifacts/xgboost-split_1707159369174/work/src/c_api/c_api.cc:1240: Saving into deprecated binary model format, please consider using `json` or `ubj`. Model format will default to JSON in XGBoost 2.2 if not specified.\n",
      "[04:38:30] WARNING: /home/conda/feedstock_root/build_artifacts/xgboost-split_1707159369174/work/src/c_api/c_api.cc:1240: Saving into deprecated binary model format, please consider using `json` or `ubj`. Model format will default to JSON in XGBoost 2.2 if not specified.\n",
      "[04:38:36] WARNING: /home/conda/feedstock_root/build_artifacts/xgboost-split_1707159369174/work/src/c_api/c_api.cc:1240: Saving into deprecated binary model format, please consider using `json` or `ubj`. Model format will default to JSON in XGBoost 2.2 if not specified.\n",
      "[04:38:40] WARNING: /home/conda/feedstock_root/build_artifacts/xgboost-split_1707159369174/work/src/c_api/c_api.cc:1240: Saving into deprecated binary model format, please consider using `json` or `ubj`. Model format will default to JSON in XGBoost 2.2 if not specified.\n",
      "[04:38:45] WARNING: /home/conda/feedstock_root/build_artifacts/xgboost-split_1707159369174/work/src/c_api/c_api.cc:1240: Saving into deprecated binary model format, please consider using `json` or `ubj`. Model format will default to JSON in XGBoost 2.2 if not specified.\n",
      "[04:38:48] WARNING: /home/conda/feedstock_root/build_artifacts/xgboost-split_1707159369174/work/src/c_api/c_api.cc:1240: Saving into deprecated binary model format, please consider using `json` or `ubj`. Model format will default to JSON in XGBoost 2.2 if not specified.\n",
      "[04:38:50] WARNING: /home/conda/feedstock_root/build_artifacts/xgboost-split_1707159369174/work/src/c_api/c_api.cc:1240: Saving into deprecated binary model format, please consider using `json` or `ubj`. Model format will default to JSON in XGBoost 2.2 if not specified.\n",
      "[04:38:55] WARNING: /home/conda/feedstock_root/build_artifacts/xgboost-split_1707159369174/work/src/c_api/c_api.cc:1240: Saving into deprecated binary model format, please consider using `json` or `ubj`. Model format will default to JSON in XGBoost 2.2 if not specified.\n",
      "[04:38:59] WARNING: /home/conda/feedstock_root/build_artifacts/xgboost-split_1707159369174/work/src/c_api/c_api.cc:1240: Saving into deprecated binary model format, please consider using `json` or `ubj`. Model format will default to JSON in XGBoost 2.2 if not specified.\n",
      "[04:39:04] WARNING: /home/conda/feedstock_root/build_artifacts/xgboost-split_1707159369174/work/src/c_api/c_api.cc:1240: Saving into deprecated binary model format, please consider using `json` or `ubj`. Model format will default to JSON in XGBoost 2.2 if not specified.\n",
      "[04:39:07] WARNING: /home/conda/feedstock_root/build_artifacts/xgboost-split_1707159369174/work/src/c_api/c_api.cc:1240: Saving into deprecated binary model format, please consider using `json` or `ubj`. Model format will default to JSON in XGBoost 2.2 if not specified.\n",
      "[04:39:11] WARNING: /home/conda/feedstock_root/build_artifacts/xgboost-split_1707159369174/work/src/c_api/c_api.cc:1240: Saving into deprecated binary model format, please consider using `json` or `ubj`. Model format will default to JSON in XGBoost 2.2 if not specified.\n",
      "[04:39:15] WARNING: /home/conda/feedstock_root/build_artifacts/xgboost-split_1707159369174/work/src/c_api/c_api.cc:1240: Saving into deprecated binary model format, please consider using `json` or `ubj`. Model format will default to JSON in XGBoost 2.2 if not specified.\n",
      "[04:39:17] WARNING: /home/conda/feedstock_root/build_artifacts/xgboost-split_1707159369174/work/src/c_api/c_api.cc:1240: Saving into deprecated binary model format, please consider using `json` or `ubj`. Model format will default to JSON in XGBoost 2.2 if not specified.\n",
      "[04:39:22] WARNING: /home/conda/feedstock_root/build_artifacts/xgboost-split_1707159369174/work/src/c_api/c_api.cc:1240: Saving into deprecated binary model format, please consider using `json` or `ubj`. Model format will default to JSON in XGBoost 2.2 if not specified.\n",
      "[04:39:27] WARNING: /home/conda/feedstock_root/build_artifacts/xgboost-split_1707159369174/work/src/c_api/c_api.cc:1240: Saving into deprecated binary model format, please consider using `json` or `ubj`. Model format will default to JSON in XGBoost 2.2 if not specified.\n",
      "[04:39:30] WARNING: /home/conda/feedstock_root/build_artifacts/xgboost-split_1707159369174/work/src/c_api/c_api.cc:1240: Saving into deprecated binary model format, please consider using `json` or `ubj`. Model format will default to JSON in XGBoost 2.2 if not specified.\n",
      "[04:39:34] WARNING: /home/conda/feedstock_root/build_artifacts/xgboost-split_1707159369174/work/src/c_api/c_api.cc:1240: Saving into deprecated binary model format, please consider using `json` or `ubj`. Model format will default to JSON in XGBoost 2.2 if not specified.\n",
      "[04:39:37] WARNING: /home/conda/feedstock_root/build_artifacts/xgboost-split_1707159369174/work/src/c_api/c_api.cc:1240: Saving into deprecated binary model format, please consider using `json` or `ubj`. Model format will default to JSON in XGBoost 2.2 if not specified.\n",
      "[04:39:43] WARNING: /home/conda/feedstock_root/build_artifacts/xgboost-split_1707159369174/work/src/c_api/c_api.cc:1240: Saving into deprecated binary model format, please consider using `json` or `ubj`. Model format will default to JSON in XGBoost 2.2 if not specified.\n",
      "[04:39:49] WARNING: /home/conda/feedstock_root/build_artifacts/xgboost-split_1707159369174/work/src/c_api/c_api.cc:1240: Saving into deprecated binary model format, please consider using `json` or `ubj`. Model format will default to JSON in XGBoost 2.2 if not specified.\n",
      "[04:39:53] WARNING: /home/conda/feedstock_root/build_artifacts/xgboost-split_1707159369174/work/src/c_api/c_api.cc:1240: Saving into deprecated binary model format, please consider using `json` or `ubj`. Model format will default to JSON in XGBoost 2.2 if not specified.\n",
      "[04:39:56] WARNING: /home/conda/feedstock_root/build_artifacts/xgboost-split_1707159369174/work/src/c_api/c_api.cc:1240: Saving into deprecated binary model format, please consider using `json` or `ubj`. Model format will default to JSON in XGBoost 2.2 if not specified.\n",
      "[04:39:59] WARNING: /home/conda/feedstock_root/build_artifacts/xgboost-split_1707159369174/work/src/c_api/c_api.cc:1240: Saving into deprecated binary model format, please consider using `json` or `ubj`. Model format will default to JSON in XGBoost 2.2 if not specified.\n",
      "[04:40:02] WARNING: /home/conda/feedstock_root/build_artifacts/xgboost-split_1707159369174/work/src/c_api/c_api.cc:1240: Saving into deprecated binary model format, please consider using `json` or `ubj`. Model format will default to JSON in XGBoost 2.2 if not specified.\n",
      "[04:40:04] WARNING: /home/conda/feedstock_root/build_artifacts/xgboost-split_1707159369174/work/src/c_api/c_api.cc:1240: Saving into deprecated binary model format, please consider using `json` or `ubj`. Model format will default to JSON in XGBoost 2.2 if not specified.\n",
      "[04:40:07] WARNING: /home/conda/feedstock_root/build_artifacts/xgboost-split_1707159369174/work/src/c_api/c_api.cc:1240: Saving into deprecated binary model format, please consider using `json` or `ubj`. Model format will default to JSON in XGBoost 2.2 if not specified.\n",
      "[04:40:10] WARNING: /home/conda/feedstock_root/build_artifacts/xgboost-split_1707159369174/work/src/c_api/c_api.cc:1240: Saving into deprecated binary model format, please consider using `json` or `ubj`. Model format will default to JSON in XGBoost 2.2 if not specified.\n",
      "[04:40:16] WARNING: /home/conda/feedstock_root/build_artifacts/xgboost-split_1707159369174/work/src/c_api/c_api.cc:1240: Saving into deprecated binary model format, please consider using `json` or `ubj`. Model format will default to JSON in XGBoost 2.2 if not specified.\n",
      "[04:40:20] WARNING: /home/conda/feedstock_root/build_artifacts/xgboost-split_1707159369174/work/src/c_api/c_api.cc:1240: Saving into deprecated binary model format, please consider using `json` or `ubj`. Model format will default to JSON in XGBoost 2.2 if not specified.\n",
      "[04:40:24] WARNING: /home/conda/feedstock_root/build_artifacts/xgboost-split_1707159369174/work/src/c_api/c_api.cc:1240: Saving into deprecated binary model format, please consider using `json` or `ubj`. Model format will default to JSON in XGBoost 2.2 if not specified.\n",
      "[04:40:27] WARNING: /home/conda/feedstock_root/build_artifacts/xgboost-split_1707159369174/work/src/c_api/c_api.cc:1240: Saving into deprecated binary model format, please consider using `json` or `ubj`. Model format will default to JSON in XGBoost 2.2 if not specified.\n",
      "[04:40:30] WARNING: /home/conda/feedstock_root/build_artifacts/xgboost-split_1707159369174/work/src/c_api/c_api.cc:1240: Saving into deprecated binary model format, please consider using `json` or `ubj`. Model format will default to JSON in XGBoost 2.2 if not specified.\n",
      "[04:40:33] WARNING: /home/conda/feedstock_root/build_artifacts/xgboost-split_1707159369174/work/src/c_api/c_api.cc:1240: Saving into deprecated binary model format, please consider using `json` or `ubj`. Model format will default to JSON in XGBoost 2.2 if not specified.\n",
      "[04:40:37] WARNING: /home/conda/feedstock_root/build_artifacts/xgboost-split_1707159369174/work/src/c_api/c_api.cc:1240: Saving into deprecated binary model format, please consider using `json` or `ubj`. Model format will default to JSON in XGBoost 2.2 if not specified.\n",
      "[04:40:43] WARNING: /home/conda/feedstock_root/build_artifacts/xgboost-split_1707159369174/work/src/c_api/c_api.cc:1240: Saving into deprecated binary model format, please consider using `json` or `ubj`. Model format will default to JSON in XGBoost 2.2 if not specified.\n",
      "[04:40:47] WARNING: /home/conda/feedstock_root/build_artifacts/xgboost-split_1707159369174/work/src/c_api/c_api.cc:1240: Saving into deprecated binary model format, please consider using `json` or `ubj`. Model format will default to JSON in XGBoost 2.2 if not specified.\n",
      "[04:40:49] WARNING: /home/conda/feedstock_root/build_artifacts/xgboost-split_1707159369174/work/src/c_api/c_api.cc:1240: Saving into deprecated binary model format, please consider using `json` or `ubj`. Model format will default to JSON in XGBoost 2.2 if not specified.\n",
      "[04:40:52] WARNING: /home/conda/feedstock_root/build_artifacts/xgboost-split_1707159369174/work/src/c_api/c_api.cc:1240: Saving into deprecated binary model format, please consider using `json` or `ubj`. Model format will default to JSON in XGBoost 2.2 if not specified.\n",
      "[04:40:55] WARNING: /home/conda/feedstock_root/build_artifacts/xgboost-split_1707159369174/work/src/c_api/c_api.cc:1240: Saving into deprecated binary model format, please consider using `json` or `ubj`. Model format will default to JSON in XGBoost 2.2 if not specified.\n"
     ]
    },
    {
     "name": "stdout",
     "output_type": "stream",
     "text": [
      "Best Parameters: {'learning_rate': 0.021670756240576638, 'max_depth': 17, 'subsample': 0.7571623111308438, 'gamma': 0.8645651530774588, 'colsample_bytree': 0.7391163564891179, 'lambda': 14.770451307247878, 'alpha': 9.484681352063305}\n"
     ]
    },
    {
     "name": "stderr",
     "output_type": "stream",
     "text": [
      "[04:40:59] WARNING: /home/conda/feedstock_root/build_artifacts/xgboost-split_1707159369174/work/src/c_api/c_api.cc:1240: Saving into deprecated binary model format, please consider using `json` or `ubj`. Model format will default to JSON in XGBoost 2.2 if not specified.\n"
     ]
    },
    {
     "name": "stdout",
     "output_type": "stream",
     "text": [
      "Results Summary: {'Match': 13, 'Mismatch': 2, 'No Evaluation': 1}\n",
      "Removing mismatch feature: H4K5Ac\n",
      "Remaining Features: ['H2A.2', 'H3K4me1', 'H2A.13', 'H3K4me3', 'H3K36me3', 'H2A.Z.11', 'expression_category', 'H3K27me3_log', 'H3K9Ac_log', 'cpg_percentage_log', 'H3K9K14Ac_log', 'H3Ac_log', 'H4K20me1_log', 'chg_percentage_log', 'H2A.W.7_log', 'H3K9me1_log', 'H2A.W.6_log', 'H2A.Z.9_log', 'H3K23me1_log', 'H3K9me2_log']\n"
     ]
    },
    {
     "name": "stderr",
     "output_type": "stream",
     "text": [
      "[04:41:03] WARNING: /home/conda/feedstock_root/build_artifacts/xgboost-split_1707159369174/work/src/c_api/c_api.cc:1240: Saving into deprecated binary model format, please consider using `json` or `ubj`. Model format will default to JSON in XGBoost 2.2 if not specified.\n",
      "[04:41:06] WARNING: /home/conda/feedstock_root/build_artifacts/xgboost-split_1707159369174/work/src/c_api/c_api.cc:1240: Saving into deprecated binary model format, please consider using `json` or `ubj`. Model format will default to JSON in XGBoost 2.2 if not specified.\n",
      "[04:41:10] WARNING: /home/conda/feedstock_root/build_artifacts/xgboost-split_1707159369174/work/src/c_api/c_api.cc:1240: Saving into deprecated binary model format, please consider using `json` or `ubj`. Model format will default to JSON in XGBoost 2.2 if not specified.\n",
      "[04:41:19] WARNING: /home/conda/feedstock_root/build_artifacts/xgboost-split_1707159369174/work/src/c_api/c_api.cc:1240: Saving into deprecated binary model format, please consider using `json` or `ubj`. Model format will default to JSON in XGBoost 2.2 if not specified.\n",
      "[04:41:24] WARNING: /home/conda/feedstock_root/build_artifacts/xgboost-split_1707159369174/work/src/c_api/c_api.cc:1240: Saving into deprecated binary model format, please consider using `json` or `ubj`. Model format will default to JSON in XGBoost 2.2 if not specified.\n",
      "[04:41:27] WARNING: /home/conda/feedstock_root/build_artifacts/xgboost-split_1707159369174/work/src/c_api/c_api.cc:1240: Saving into deprecated binary model format, please consider using `json` or `ubj`. Model format will default to JSON in XGBoost 2.2 if not specified.\n",
      "[04:41:32] WARNING: /home/conda/feedstock_root/build_artifacts/xgboost-split_1707159369174/work/src/c_api/c_api.cc:1240: Saving into deprecated binary model format, please consider using `json` or `ubj`. Model format will default to JSON in XGBoost 2.2 if not specified.\n",
      "[04:41:35] WARNING: /home/conda/feedstock_root/build_artifacts/xgboost-split_1707159369174/work/src/c_api/c_api.cc:1240: Saving into deprecated binary model format, please consider using `json` or `ubj`. Model format will default to JSON in XGBoost 2.2 if not specified.\n",
      "[04:41:37] WARNING: /home/conda/feedstock_root/build_artifacts/xgboost-split_1707159369174/work/src/c_api/c_api.cc:1240: Saving into deprecated binary model format, please consider using `json` or `ubj`. Model format will default to JSON in XGBoost 2.2 if not specified.\n",
      "[04:41:39] WARNING: /home/conda/feedstock_root/build_artifacts/xgboost-split_1707159369174/work/src/c_api/c_api.cc:1240: Saving into deprecated binary model format, please consider using `json` or `ubj`. Model format will default to JSON in XGBoost 2.2 if not specified.\n",
      "[04:41:46] WARNING: /home/conda/feedstock_root/build_artifacts/xgboost-split_1707159369174/work/src/c_api/c_api.cc:1240: Saving into deprecated binary model format, please consider using `json` or `ubj`. Model format will default to JSON in XGBoost 2.2 if not specified.\n",
      "[04:41:55] WARNING: /home/conda/feedstock_root/build_artifacts/xgboost-split_1707159369174/work/src/c_api/c_api.cc:1240: Saving into deprecated binary model format, please consider using `json` or `ubj`. Model format will default to JSON in XGBoost 2.2 if not specified.\n",
      "[04:42:06] WARNING: /home/conda/feedstock_root/build_artifacts/xgboost-split_1707159369174/work/src/c_api/c_api.cc:1240: Saving into deprecated binary model format, please consider using `json` or `ubj`. Model format will default to JSON in XGBoost 2.2 if not specified.\n",
      "[04:42:14] WARNING: /home/conda/feedstock_root/build_artifacts/xgboost-split_1707159369174/work/src/c_api/c_api.cc:1240: Saving into deprecated binary model format, please consider using `json` or `ubj`. Model format will default to JSON in XGBoost 2.2 if not specified.\n",
      "[04:42:20] WARNING: /home/conda/feedstock_root/build_artifacts/xgboost-split_1707159369174/work/src/c_api/c_api.cc:1240: Saving into deprecated binary model format, please consider using `json` or `ubj`. Model format will default to JSON in XGBoost 2.2 if not specified.\n",
      "[04:42:26] WARNING: /home/conda/feedstock_root/build_artifacts/xgboost-split_1707159369174/work/src/c_api/c_api.cc:1240: Saving into deprecated binary model format, please consider using `json` or `ubj`. Model format will default to JSON in XGBoost 2.2 if not specified.\n",
      "[04:42:34] WARNING: /home/conda/feedstock_root/build_artifacts/xgboost-split_1707159369174/work/src/c_api/c_api.cc:1240: Saving into deprecated binary model format, please consider using `json` or `ubj`. Model format will default to JSON in XGBoost 2.2 if not specified.\n",
      "[04:42:40] WARNING: /home/conda/feedstock_root/build_artifacts/xgboost-split_1707159369174/work/src/c_api/c_api.cc:1240: Saving into deprecated binary model format, please consider using `json` or `ubj`. Model format will default to JSON in XGBoost 2.2 if not specified.\n",
      "[04:42:46] WARNING: /home/conda/feedstock_root/build_artifacts/xgboost-split_1707159369174/work/src/c_api/c_api.cc:1240: Saving into deprecated binary model format, please consider using `json` or `ubj`. Model format will default to JSON in XGBoost 2.2 if not specified.\n",
      "[04:42:51] WARNING: /home/conda/feedstock_root/build_artifacts/xgboost-split_1707159369174/work/src/c_api/c_api.cc:1240: Saving into deprecated binary model format, please consider using `json` or `ubj`. Model format will default to JSON in XGBoost 2.2 if not specified.\n",
      "[04:42:55] WARNING: /home/conda/feedstock_root/build_artifacts/xgboost-split_1707159369174/work/src/c_api/c_api.cc:1240: Saving into deprecated binary model format, please consider using `json` or `ubj`. Model format will default to JSON in XGBoost 2.2 if not specified.\n",
      "[04:43:01] WARNING: /home/conda/feedstock_root/build_artifacts/xgboost-split_1707159369174/work/src/c_api/c_api.cc:1240: Saving into deprecated binary model format, please consider using `json` or `ubj`. Model format will default to JSON in XGBoost 2.2 if not specified.\n",
      "[04:43:10] WARNING: /home/conda/feedstock_root/build_artifacts/xgboost-split_1707159369174/work/src/c_api/c_api.cc:1240: Saving into deprecated binary model format, please consider using `json` or `ubj`. Model format will default to JSON in XGBoost 2.2 if not specified.\n",
      "[04:43:16] WARNING: /home/conda/feedstock_root/build_artifacts/xgboost-split_1707159369174/work/src/c_api/c_api.cc:1240: Saving into deprecated binary model format, please consider using `json` or `ubj`. Model format will default to JSON in XGBoost 2.2 if not specified.\n",
      "[04:43:23] WARNING: /home/conda/feedstock_root/build_artifacts/xgboost-split_1707159369174/work/src/c_api/c_api.cc:1240: Saving into deprecated binary model format, please consider using `json` or `ubj`. Model format will default to JSON in XGBoost 2.2 if not specified.\n",
      "[04:43:31] WARNING: /home/conda/feedstock_root/build_artifacts/xgboost-split_1707159369174/work/src/c_api/c_api.cc:1240: Saving into deprecated binary model format, please consider using `json` or `ubj`. Model format will default to JSON in XGBoost 2.2 if not specified.\n",
      "[04:43:37] WARNING: /home/conda/feedstock_root/build_artifacts/xgboost-split_1707159369174/work/src/c_api/c_api.cc:1240: Saving into deprecated binary model format, please consider using `json` or `ubj`. Model format will default to JSON in XGBoost 2.2 if not specified.\n",
      "[04:43:43] WARNING: /home/conda/feedstock_root/build_artifacts/xgboost-split_1707159369174/work/src/c_api/c_api.cc:1240: Saving into deprecated binary model format, please consider using `json` or `ubj`. Model format will default to JSON in XGBoost 2.2 if not specified.\n",
      "[04:43:53] WARNING: /home/conda/feedstock_root/build_artifacts/xgboost-split_1707159369174/work/src/c_api/c_api.cc:1240: Saving into deprecated binary model format, please consider using `json` or `ubj`. Model format will default to JSON in XGBoost 2.2 if not specified.\n",
      "[04:44:00] WARNING: /home/conda/feedstock_root/build_artifacts/xgboost-split_1707159369174/work/src/c_api/c_api.cc:1240: Saving into deprecated binary model format, please consider using `json` or `ubj`. Model format will default to JSON in XGBoost 2.2 if not specified.\n",
      "[04:44:05] WARNING: /home/conda/feedstock_root/build_artifacts/xgboost-split_1707159369174/work/src/c_api/c_api.cc:1240: Saving into deprecated binary model format, please consider using `json` or `ubj`. Model format will default to JSON in XGBoost 2.2 if not specified.\n",
      "[04:44:09] WARNING: /home/conda/feedstock_root/build_artifacts/xgboost-split_1707159369174/work/src/c_api/c_api.cc:1240: Saving into deprecated binary model format, please consider using `json` or `ubj`. Model format will default to JSON in XGBoost 2.2 if not specified.\n",
      "[04:44:14] WARNING: /home/conda/feedstock_root/build_artifacts/xgboost-split_1707159369174/work/src/c_api/c_api.cc:1240: Saving into deprecated binary model format, please consider using `json` or `ubj`. Model format will default to JSON in XGBoost 2.2 if not specified.\n",
      "[04:44:21] WARNING: /home/conda/feedstock_root/build_artifacts/xgboost-split_1707159369174/work/src/c_api/c_api.cc:1240: Saving into deprecated binary model format, please consider using `json` or `ubj`. Model format will default to JSON in XGBoost 2.2 if not specified.\n",
      "[04:44:27] WARNING: /home/conda/feedstock_root/build_artifacts/xgboost-split_1707159369174/work/src/c_api/c_api.cc:1240: Saving into deprecated binary model format, please consider using `json` or `ubj`. Model format will default to JSON in XGBoost 2.2 if not specified.\n",
      "[04:44:35] WARNING: /home/conda/feedstock_root/build_artifacts/xgboost-split_1707159369174/work/src/c_api/c_api.cc:1240: Saving into deprecated binary model format, please consider using `json` or `ubj`. Model format will default to JSON in XGBoost 2.2 if not specified.\n",
      "[04:44:40] WARNING: /home/conda/feedstock_root/build_artifacts/xgboost-split_1707159369174/work/src/c_api/c_api.cc:1240: Saving into deprecated binary model format, please consider using `json` or `ubj`. Model format will default to JSON in XGBoost 2.2 if not specified.\n",
      "[04:44:46] WARNING: /home/conda/feedstock_root/build_artifacts/xgboost-split_1707159369174/work/src/c_api/c_api.cc:1240: Saving into deprecated binary model format, please consider using `json` or `ubj`. Model format will default to JSON in XGBoost 2.2 if not specified.\n",
      "[04:44:50] WARNING: /home/conda/feedstock_root/build_artifacts/xgboost-split_1707159369174/work/src/c_api/c_api.cc:1240: Saving into deprecated binary model format, please consider using `json` or `ubj`. Model format will default to JSON in XGBoost 2.2 if not specified.\n",
      "[04:44:57] WARNING: /home/conda/feedstock_root/build_artifacts/xgboost-split_1707159369174/work/src/c_api/c_api.cc:1240: Saving into deprecated binary model format, please consider using `json` or `ubj`. Model format will default to JSON in XGBoost 2.2 if not specified.\n"
     ]
    },
    {
     "name": "stdout",
     "output_type": "stream",
     "text": [
      "Best Parameters: {'learning_rate': 0.04693632920828629, 'max_depth': 22, 'subsample': 0.9953604879266148, 'gamma': 0.19273499000679897, 'colsample_bytree': 0.5727166756291426, 'lambda': 11.596130276709172, 'alpha': 2.179985132509331}\n"
     ]
    },
    {
     "name": "stderr",
     "output_type": "stream",
     "text": [
      "[04:45:05] WARNING: /home/conda/feedstock_root/build_artifacts/xgboost-split_1707159369174/work/src/c_api/c_api.cc:1240: Saving into deprecated binary model format, please consider using `json` or `ubj`. Model format will default to JSON in XGBoost 2.2 if not specified.\n"
     ]
    },
    {
     "name": "stdout",
     "output_type": "stream",
     "text": [
      "Results Summary: {'Match': 13, 'Mismatch': 1, 'No Evaluation': 1}\n",
      "Removing mismatch feature: H3K4me1\n",
      "Remaining Features: ['H2A.2', 'H2A.13', 'H3K4me3', 'H3K36me3', 'H2A.Z.11', 'expression_category', 'H3K27me3_log', 'H3K9Ac_log', 'cpg_percentage_log', 'H3K9K14Ac_log', 'H3Ac_log', 'H4K20me1_log', 'chg_percentage_log', 'H2A.W.7_log', 'H3K9me1_log', 'H2A.W.6_log', 'H2A.Z.9_log', 'H3K23me1_log', 'H3K9me2_log']\n"
     ]
    },
    {
     "name": "stderr",
     "output_type": "stream",
     "text": [
      "[04:45:14] WARNING: /home/conda/feedstock_root/build_artifacts/xgboost-split_1707159369174/work/src/c_api/c_api.cc:1240: Saving into deprecated binary model format, please consider using `json` or `ubj`. Model format will default to JSON in XGBoost 2.2 if not specified.\n",
      "[04:45:19] WARNING: /home/conda/feedstock_root/build_artifacts/xgboost-split_1707159369174/work/src/c_api/c_api.cc:1240: Saving into deprecated binary model format, please consider using `json` or `ubj`. Model format will default to JSON in XGBoost 2.2 if not specified.\n",
      "[04:45:25] WARNING: /home/conda/feedstock_root/build_artifacts/xgboost-split_1707159369174/work/src/c_api/c_api.cc:1240: Saving into deprecated binary model format, please consider using `json` or `ubj`. Model format will default to JSON in XGBoost 2.2 if not specified.\n",
      "[04:45:31] WARNING: /home/conda/feedstock_root/build_artifacts/xgboost-split_1707159369174/work/src/c_api/c_api.cc:1240: Saving into deprecated binary model format, please consider using `json` or `ubj`. Model format will default to JSON in XGBoost 2.2 if not specified.\n",
      "[04:45:36] WARNING: /home/conda/feedstock_root/build_artifacts/xgboost-split_1707159369174/work/src/c_api/c_api.cc:1240: Saving into deprecated binary model format, please consider using `json` or `ubj`. Model format will default to JSON in XGBoost 2.2 if not specified.\n",
      "[04:45:40] WARNING: /home/conda/feedstock_root/build_artifacts/xgboost-split_1707159369174/work/src/c_api/c_api.cc:1240: Saving into deprecated binary model format, please consider using `json` or `ubj`. Model format will default to JSON in XGBoost 2.2 if not specified.\n",
      "[04:45:44] WARNING: /home/conda/feedstock_root/build_artifacts/xgboost-split_1707159369174/work/src/c_api/c_api.cc:1240: Saving into deprecated binary model format, please consider using `json` or `ubj`. Model format will default to JSON in XGBoost 2.2 if not specified.\n",
      "[04:45:49] WARNING: /home/conda/feedstock_root/build_artifacts/xgboost-split_1707159369174/work/src/c_api/c_api.cc:1240: Saving into deprecated binary model format, please consider using `json` or `ubj`. Model format will default to JSON in XGBoost 2.2 if not specified.\n",
      "[04:45:55] WARNING: /home/conda/feedstock_root/build_artifacts/xgboost-split_1707159369174/work/src/c_api/c_api.cc:1240: Saving into deprecated binary model format, please consider using `json` or `ubj`. Model format will default to JSON in XGBoost 2.2 if not specified.\n",
      "[04:46:01] WARNING: /home/conda/feedstock_root/build_artifacts/xgboost-split_1707159369174/work/src/c_api/c_api.cc:1240: Saving into deprecated binary model format, please consider using `json` or `ubj`. Model format will default to JSON in XGBoost 2.2 if not specified.\n",
      "[04:46:05] WARNING: /home/conda/feedstock_root/build_artifacts/xgboost-split_1707159369174/work/src/c_api/c_api.cc:1240: Saving into deprecated binary model format, please consider using `json` or `ubj`. Model format will default to JSON in XGBoost 2.2 if not specified.\n",
      "[04:46:09] WARNING: /home/conda/feedstock_root/build_artifacts/xgboost-split_1707159369174/work/src/c_api/c_api.cc:1240: Saving into deprecated binary model format, please consider using `json` or `ubj`. Model format will default to JSON in XGBoost 2.2 if not specified.\n",
      "[04:46:13] WARNING: /home/conda/feedstock_root/build_artifacts/xgboost-split_1707159369174/work/src/c_api/c_api.cc:1240: Saving into deprecated binary model format, please consider using `json` or `ubj`. Model format will default to JSON in XGBoost 2.2 if not specified.\n",
      "[04:46:17] WARNING: /home/conda/feedstock_root/build_artifacts/xgboost-split_1707159369174/work/src/c_api/c_api.cc:1240: Saving into deprecated binary model format, please consider using `json` or `ubj`. Model format will default to JSON in XGBoost 2.2 if not specified.\n",
      "[04:46:22] WARNING: /home/conda/feedstock_root/build_artifacts/xgboost-split_1707159369174/work/src/c_api/c_api.cc:1240: Saving into deprecated binary model format, please consider using `json` or `ubj`. Model format will default to JSON in XGBoost 2.2 if not specified.\n",
      "[04:46:26] WARNING: /home/conda/feedstock_root/build_artifacts/xgboost-split_1707159369174/work/src/c_api/c_api.cc:1240: Saving into deprecated binary model format, please consider using `json` or `ubj`. Model format will default to JSON in XGBoost 2.2 if not specified.\n",
      "[04:46:30] WARNING: /home/conda/feedstock_root/build_artifacts/xgboost-split_1707159369174/work/src/c_api/c_api.cc:1240: Saving into deprecated binary model format, please consider using `json` or `ubj`. Model format will default to JSON in XGBoost 2.2 if not specified.\n",
      "[04:46:34] WARNING: /home/conda/feedstock_root/build_artifacts/xgboost-split_1707159369174/work/src/c_api/c_api.cc:1240: Saving into deprecated binary model format, please consider using `json` or `ubj`. Model format will default to JSON in XGBoost 2.2 if not specified.\n",
      "[04:46:37] WARNING: /home/conda/feedstock_root/build_artifacts/xgboost-split_1707159369174/work/src/c_api/c_api.cc:1240: Saving into deprecated binary model format, please consider using `json` or `ubj`. Model format will default to JSON in XGBoost 2.2 if not specified.\n",
      "[04:46:40] WARNING: /home/conda/feedstock_root/build_artifacts/xgboost-split_1707159369174/work/src/c_api/c_api.cc:1240: Saving into deprecated binary model format, please consider using `json` or `ubj`. Model format will default to JSON in XGBoost 2.2 if not specified.\n",
      "[04:46:44] WARNING: /home/conda/feedstock_root/build_artifacts/xgboost-split_1707159369174/work/src/c_api/c_api.cc:1240: Saving into deprecated binary model format, please consider using `json` or `ubj`. Model format will default to JSON in XGBoost 2.2 if not specified.\n",
      "[04:46:47] WARNING: /home/conda/feedstock_root/build_artifacts/xgboost-split_1707159369174/work/src/c_api/c_api.cc:1240: Saving into deprecated binary model format, please consider using `json` or `ubj`. Model format will default to JSON in XGBoost 2.2 if not specified.\n",
      "[04:46:52] WARNING: /home/conda/feedstock_root/build_artifacts/xgboost-split_1707159369174/work/src/c_api/c_api.cc:1240: Saving into deprecated binary model format, please consider using `json` or `ubj`. Model format will default to JSON in XGBoost 2.2 if not specified.\n",
      "[04:46:56] WARNING: /home/conda/feedstock_root/build_artifacts/xgboost-split_1707159369174/work/src/c_api/c_api.cc:1240: Saving into deprecated binary model format, please consider using `json` or `ubj`. Model format will default to JSON in XGBoost 2.2 if not specified.\n",
      "[04:47:00] WARNING: /home/conda/feedstock_root/build_artifacts/xgboost-split_1707159369174/work/src/c_api/c_api.cc:1240: Saving into deprecated binary model format, please consider using `json` or `ubj`. Model format will default to JSON in XGBoost 2.2 if not specified.\n",
      "[04:47:03] WARNING: /home/conda/feedstock_root/build_artifacts/xgboost-split_1707159369174/work/src/c_api/c_api.cc:1240: Saving into deprecated binary model format, please consider using `json` or `ubj`. Model format will default to JSON in XGBoost 2.2 if not specified.\n",
      "[04:47:08] WARNING: /home/conda/feedstock_root/build_artifacts/xgboost-split_1707159369174/work/src/c_api/c_api.cc:1240: Saving into deprecated binary model format, please consider using `json` or `ubj`. Model format will default to JSON in XGBoost 2.2 if not specified.\n",
      "[04:47:12] WARNING: /home/conda/feedstock_root/build_artifacts/xgboost-split_1707159369174/work/src/c_api/c_api.cc:1240: Saving into deprecated binary model format, please consider using `json` or `ubj`. Model format will default to JSON in XGBoost 2.2 if not specified.\n",
      "[04:47:15] WARNING: /home/conda/feedstock_root/build_artifacts/xgboost-split_1707159369174/work/src/c_api/c_api.cc:1240: Saving into deprecated binary model format, please consider using `json` or `ubj`. Model format will default to JSON in XGBoost 2.2 if not specified.\n",
      "[04:47:21] WARNING: /home/conda/feedstock_root/build_artifacts/xgboost-split_1707159369174/work/src/c_api/c_api.cc:1240: Saving into deprecated binary model format, please consider using `json` or `ubj`. Model format will default to JSON in XGBoost 2.2 if not specified.\n",
      "[04:47:29] WARNING: /home/conda/feedstock_root/build_artifacts/xgboost-split_1707159369174/work/src/c_api/c_api.cc:1240: Saving into deprecated binary model format, please consider using `json` or `ubj`. Model format will default to JSON in XGBoost 2.2 if not specified.\n",
      "[04:47:34] WARNING: /home/conda/feedstock_root/build_artifacts/xgboost-split_1707159369174/work/src/c_api/c_api.cc:1240: Saving into deprecated binary model format, please consider using `json` or `ubj`. Model format will default to JSON in XGBoost 2.2 if not specified.\n",
      "[04:47:38] WARNING: /home/conda/feedstock_root/build_artifacts/xgboost-split_1707159369174/work/src/c_api/c_api.cc:1240: Saving into deprecated binary model format, please consider using `json` or `ubj`. Model format will default to JSON in XGBoost 2.2 if not specified.\n",
      "[04:47:42] WARNING: /home/conda/feedstock_root/build_artifacts/xgboost-split_1707159369174/work/src/c_api/c_api.cc:1240: Saving into deprecated binary model format, please consider using `json` or `ubj`. Model format will default to JSON in XGBoost 2.2 if not specified.\n",
      "[04:47:46] WARNING: /home/conda/feedstock_root/build_artifacts/xgboost-split_1707159369174/work/src/c_api/c_api.cc:1240: Saving into deprecated binary model format, please consider using `json` or `ubj`. Model format will default to JSON in XGBoost 2.2 if not specified.\n",
      "[04:47:48] WARNING: /home/conda/feedstock_root/build_artifacts/xgboost-split_1707159369174/work/src/c_api/c_api.cc:1240: Saving into deprecated binary model format, please consider using `json` or `ubj`. Model format will default to JSON in XGBoost 2.2 if not specified.\n",
      "[04:47:51] WARNING: /home/conda/feedstock_root/build_artifacts/xgboost-split_1707159369174/work/src/c_api/c_api.cc:1240: Saving into deprecated binary model format, please consider using `json` or `ubj`. Model format will default to JSON in XGBoost 2.2 if not specified.\n",
      "[04:47:53] WARNING: /home/conda/feedstock_root/build_artifacts/xgboost-split_1707159369174/work/src/c_api/c_api.cc:1240: Saving into deprecated binary model format, please consider using `json` or `ubj`. Model format will default to JSON in XGBoost 2.2 if not specified.\n",
      "[04:47:55] WARNING: /home/conda/feedstock_root/build_artifacts/xgboost-split_1707159369174/work/src/c_api/c_api.cc:1240: Saving into deprecated binary model format, please consider using `json` or `ubj`. Model format will default to JSON in XGBoost 2.2 if not specified.\n",
      "[04:47:57] WARNING: /home/conda/feedstock_root/build_artifacts/xgboost-split_1707159369174/work/src/c_api/c_api.cc:1240: Saving into deprecated binary model format, please consider using `json` or `ubj`. Model format will default to JSON in XGBoost 2.2 if not specified.\n"
     ]
    },
    {
     "name": "stdout",
     "output_type": "stream",
     "text": [
      "Best Parameters: {'learning_rate': 0.025302746430510198, 'max_depth': 23, 'subsample': 0.42065282303089135, 'gamma': 0.8120919140512447, 'colsample_bytree': 0.6213486468767021, 'lambda': 6.590291654299541, 'alpha': 11.67541536435165}\n"
     ]
    },
    {
     "name": "stderr",
     "output_type": "stream",
     "text": [
      "[04:48:00] WARNING: /home/conda/feedstock_root/build_artifacts/xgboost-split_1707159369174/work/src/c_api/c_api.cc:1240: Saving into deprecated binary model format, please consider using `json` or `ubj`. Model format will default to JSON in XGBoost 2.2 if not specified.\n"
     ]
    },
    {
     "name": "stdout",
     "output_type": "stream",
     "text": [
      "Results Summary: {'Match': 13, 'No Evaluation': 1}\n",
      "\n",
      "--- Evaluating model with feature chh_percentage_log added back ---\n",
      "\n"
     ]
    },
    {
     "name": "stderr",
     "output_type": "stream",
     "text": [
      "[04:48:02] WARNING: /home/conda/feedstock_root/build_artifacts/xgboost-split_1707159369174/work/src/c_api/c_api.cc:1240: Saving into deprecated binary model format, please consider using `json` or `ubj`. Model format will default to JSON in XGBoost 2.2 if not specified.\n"
     ]
    },
    {
     "name": "stdout",
     "output_type": "stream",
     "text": [
      "Results Summary: {'Match': 13, 'No Evaluation': 1, 'Mismatch': 1}\n",
      "Feature: chh_percentage_log, Known Function: Repressive, Result: Mismatch\n",
      "\n",
      "--- Performing LOO for feature H4K20me1_log ---\n",
      "\n",
      "Remaining Features: ['H2A.2', 'H3K4me1', 'H2A.13', 'H3K4me3', 'H3K36me3', 'H4K5Ac', 'H2A.Z.11', 'expression_category', 'H3K27me3_log', 'H3K9Ac_log', 'cpg_percentage_log', 'H3K9K14Ac_log', 'H3Ac_log', 'chh_percentage_log', 'chg_percentage_log', 'H2A.W.7_log', 'H3K9me1_log', 'H2A.W.6_log', 'H2A.Z.9_log', 'H3K23me1_log', 'H3K9me2_log']\n"
     ]
    },
    {
     "name": "stderr",
     "output_type": "stream",
     "text": [
      "[04:48:05] WARNING: /home/conda/feedstock_root/build_artifacts/xgboost-split_1707159369174/work/src/c_api/c_api.cc:1240: Saving into deprecated binary model format, please consider using `json` or `ubj`. Model format will default to JSON in XGBoost 2.2 if not specified.\n",
      "[04:48:08] WARNING: /home/conda/feedstock_root/build_artifacts/xgboost-split_1707159369174/work/src/c_api/c_api.cc:1240: Saving into deprecated binary model format, please consider using `json` or `ubj`. Model format will default to JSON in XGBoost 2.2 if not specified.\n",
      "[04:48:12] WARNING: /home/conda/feedstock_root/build_artifacts/xgboost-split_1707159369174/work/src/c_api/c_api.cc:1240: Saving into deprecated binary model format, please consider using `json` or `ubj`. Model format will default to JSON in XGBoost 2.2 if not specified.\n",
      "[04:48:15] WARNING: /home/conda/feedstock_root/build_artifacts/xgboost-split_1707159369174/work/src/c_api/c_api.cc:1240: Saving into deprecated binary model format, please consider using `json` or `ubj`. Model format will default to JSON in XGBoost 2.2 if not specified.\n",
      "[04:48:17] WARNING: /home/conda/feedstock_root/build_artifacts/xgboost-split_1707159369174/work/src/c_api/c_api.cc:1240: Saving into deprecated binary model format, please consider using `json` or `ubj`. Model format will default to JSON in XGBoost 2.2 if not specified.\n",
      "[04:48:21] WARNING: /home/conda/feedstock_root/build_artifacts/xgboost-split_1707159369174/work/src/c_api/c_api.cc:1240: Saving into deprecated binary model format, please consider using `json` or `ubj`. Model format will default to JSON in XGBoost 2.2 if not specified.\n",
      "[04:48:25] WARNING: /home/conda/feedstock_root/build_artifacts/xgboost-split_1707159369174/work/src/c_api/c_api.cc:1240: Saving into deprecated binary model format, please consider using `json` or `ubj`. Model format will default to JSON in XGBoost 2.2 if not specified.\n",
      "[04:48:29] WARNING: /home/conda/feedstock_root/build_artifacts/xgboost-split_1707159369174/work/src/c_api/c_api.cc:1240: Saving into deprecated binary model format, please consider using `json` or `ubj`. Model format will default to JSON in XGBoost 2.2 if not specified.\n",
      "[04:48:35] WARNING: /home/conda/feedstock_root/build_artifacts/xgboost-split_1707159369174/work/src/c_api/c_api.cc:1240: Saving into deprecated binary model format, please consider using `json` or `ubj`. Model format will default to JSON in XGBoost 2.2 if not specified.\n",
      "[04:48:39] WARNING: /home/conda/feedstock_root/build_artifacts/xgboost-split_1707159369174/work/src/c_api/c_api.cc:1240: Saving into deprecated binary model format, please consider using `json` or `ubj`. Model format will default to JSON in XGBoost 2.2 if not specified.\n",
      "[04:48:43] WARNING: /home/conda/feedstock_root/build_artifacts/xgboost-split_1707159369174/work/src/c_api/c_api.cc:1240: Saving into deprecated binary model format, please consider using `json` or `ubj`. Model format will default to JSON in XGBoost 2.2 if not specified.\n",
      "[04:48:46] WARNING: /home/conda/feedstock_root/build_artifacts/xgboost-split_1707159369174/work/src/c_api/c_api.cc:1240: Saving into deprecated binary model format, please consider using `json` or `ubj`. Model format will default to JSON in XGBoost 2.2 if not specified.\n",
      "[04:48:52] WARNING: /home/conda/feedstock_root/build_artifacts/xgboost-split_1707159369174/work/src/c_api/c_api.cc:1240: Saving into deprecated binary model format, please consider using `json` or `ubj`. Model format will default to JSON in XGBoost 2.2 if not specified.\n",
      "[04:48:57] WARNING: /home/conda/feedstock_root/build_artifacts/xgboost-split_1707159369174/work/src/c_api/c_api.cc:1240: Saving into deprecated binary model format, please consider using `json` or `ubj`. Model format will default to JSON in XGBoost 2.2 if not specified.\n",
      "[04:49:00] WARNING: /home/conda/feedstock_root/build_artifacts/xgboost-split_1707159369174/work/src/c_api/c_api.cc:1240: Saving into deprecated binary model format, please consider using `json` or `ubj`. Model format will default to JSON in XGBoost 2.2 if not specified.\n",
      "[04:49:04] WARNING: /home/conda/feedstock_root/build_artifacts/xgboost-split_1707159369174/work/src/c_api/c_api.cc:1240: Saving into deprecated binary model format, please consider using `json` or `ubj`. Model format will default to JSON in XGBoost 2.2 if not specified.\n",
      "[04:49:07] WARNING: /home/conda/feedstock_root/build_artifacts/xgboost-split_1707159369174/work/src/c_api/c_api.cc:1240: Saving into deprecated binary model format, please consider using `json` or `ubj`. Model format will default to JSON in XGBoost 2.2 if not specified.\n",
      "[04:49:10] WARNING: /home/conda/feedstock_root/build_artifacts/xgboost-split_1707159369174/work/src/c_api/c_api.cc:1240: Saving into deprecated binary model format, please consider using `json` or `ubj`. Model format will default to JSON in XGBoost 2.2 if not specified.\n",
      "[04:49:15] WARNING: /home/conda/feedstock_root/build_artifacts/xgboost-split_1707159369174/work/src/c_api/c_api.cc:1240: Saving into deprecated binary model format, please consider using `json` or `ubj`. Model format will default to JSON in XGBoost 2.2 if not specified.\n",
      "[04:49:20] WARNING: /home/conda/feedstock_root/build_artifacts/xgboost-split_1707159369174/work/src/c_api/c_api.cc:1240: Saving into deprecated binary model format, please consider using `json` or `ubj`. Model format will default to JSON in XGBoost 2.2 if not specified.\n",
      "[04:49:24] WARNING: /home/conda/feedstock_root/build_artifacts/xgboost-split_1707159369174/work/src/c_api/c_api.cc:1240: Saving into deprecated binary model format, please consider using `json` or `ubj`. Model format will default to JSON in XGBoost 2.2 if not specified.\n",
      "[04:49:26] WARNING: /home/conda/feedstock_root/build_artifacts/xgboost-split_1707159369174/work/src/c_api/c_api.cc:1240: Saving into deprecated binary model format, please consider using `json` or `ubj`. Model format will default to JSON in XGBoost 2.2 if not specified.\n",
      "[04:49:30] WARNING: /home/conda/feedstock_root/build_artifacts/xgboost-split_1707159369174/work/src/c_api/c_api.cc:1240: Saving into deprecated binary model format, please consider using `json` or `ubj`. Model format will default to JSON in XGBoost 2.2 if not specified.\n",
      "[04:49:35] WARNING: /home/conda/feedstock_root/build_artifacts/xgboost-split_1707159369174/work/src/c_api/c_api.cc:1240: Saving into deprecated binary model format, please consider using `json` or `ubj`. Model format will default to JSON in XGBoost 2.2 if not specified.\n",
      "[04:49:39] WARNING: /home/conda/feedstock_root/build_artifacts/xgboost-split_1707159369174/work/src/c_api/c_api.cc:1240: Saving into deprecated binary model format, please consider using `json` or `ubj`. Model format will default to JSON in XGBoost 2.2 if not specified.\n",
      "[04:49:42] WARNING: /home/conda/feedstock_root/build_artifacts/xgboost-split_1707159369174/work/src/c_api/c_api.cc:1240: Saving into deprecated binary model format, please consider using `json` or `ubj`. Model format will default to JSON in XGBoost 2.2 if not specified.\n",
      "[04:49:45] WARNING: /home/conda/feedstock_root/build_artifacts/xgboost-split_1707159369174/work/src/c_api/c_api.cc:1240: Saving into deprecated binary model format, please consider using `json` or `ubj`. Model format will default to JSON in XGBoost 2.2 if not specified.\n",
      "[04:49:49] WARNING: /home/conda/feedstock_root/build_artifacts/xgboost-split_1707159369174/work/src/c_api/c_api.cc:1240: Saving into deprecated binary model format, please consider using `json` or `ubj`. Model format will default to JSON in XGBoost 2.2 if not specified.\n",
      "[04:49:53] WARNING: /home/conda/feedstock_root/build_artifacts/xgboost-split_1707159369174/work/src/c_api/c_api.cc:1240: Saving into deprecated binary model format, please consider using `json` or `ubj`. Model format will default to JSON in XGBoost 2.2 if not specified.\n",
      "[04:49:56] WARNING: /home/conda/feedstock_root/build_artifacts/xgboost-split_1707159369174/work/src/c_api/c_api.cc:1240: Saving into deprecated binary model format, please consider using `json` or `ubj`. Model format will default to JSON in XGBoost 2.2 if not specified.\n",
      "[04:50:02] WARNING: /home/conda/feedstock_root/build_artifacts/xgboost-split_1707159369174/work/src/c_api/c_api.cc:1240: Saving into deprecated binary model format, please consider using `json` or `ubj`. Model format will default to JSON in XGBoost 2.2 if not specified.\n",
      "[04:50:07] WARNING: /home/conda/feedstock_root/build_artifacts/xgboost-split_1707159369174/work/src/c_api/c_api.cc:1240: Saving into deprecated binary model format, please consider using `json` or `ubj`. Model format will default to JSON in XGBoost 2.2 if not specified.\n",
      "[04:50:10] WARNING: /home/conda/feedstock_root/build_artifacts/xgboost-split_1707159369174/work/src/c_api/c_api.cc:1240: Saving into deprecated binary model format, please consider using `json` or `ubj`. Model format will default to JSON in XGBoost 2.2 if not specified.\n",
      "[04:50:13] WARNING: /home/conda/feedstock_root/build_artifacts/xgboost-split_1707159369174/work/src/c_api/c_api.cc:1240: Saving into deprecated binary model format, please consider using `json` or `ubj`. Model format will default to JSON in XGBoost 2.2 if not specified.\n",
      "[04:50:16] WARNING: /home/conda/feedstock_root/build_artifacts/xgboost-split_1707159369174/work/src/c_api/c_api.cc:1240: Saving into deprecated binary model format, please consider using `json` or `ubj`. Model format will default to JSON in XGBoost 2.2 if not specified.\n",
      "[04:50:20] WARNING: /home/conda/feedstock_root/build_artifacts/xgboost-split_1707159369174/work/src/c_api/c_api.cc:1240: Saving into deprecated binary model format, please consider using `json` or `ubj`. Model format will default to JSON in XGBoost 2.2 if not specified.\n",
      "[04:50:24] WARNING: /home/conda/feedstock_root/build_artifacts/xgboost-split_1707159369174/work/src/c_api/c_api.cc:1240: Saving into deprecated binary model format, please consider using `json` or `ubj`. Model format will default to JSON in XGBoost 2.2 if not specified.\n",
      "[04:50:27] WARNING: /home/conda/feedstock_root/build_artifacts/xgboost-split_1707159369174/work/src/c_api/c_api.cc:1240: Saving into deprecated binary model format, please consider using `json` or `ubj`. Model format will default to JSON in XGBoost 2.2 if not specified.\n",
      "[04:50:30] WARNING: /home/conda/feedstock_root/build_artifacts/xgboost-split_1707159369174/work/src/c_api/c_api.cc:1240: Saving into deprecated binary model format, please consider using `json` or `ubj`. Model format will default to JSON in XGBoost 2.2 if not specified.\n",
      "[04:50:34] WARNING: /home/conda/feedstock_root/build_artifacts/xgboost-split_1707159369174/work/src/c_api/c_api.cc:1240: Saving into deprecated binary model format, please consider using `json` or `ubj`. Model format will default to JSON in XGBoost 2.2 if not specified.\n"
     ]
    },
    {
     "name": "stdout",
     "output_type": "stream",
     "text": [
      "Best Parameters: {'learning_rate': 0.017791395333486913, 'max_depth': 30, 'subsample': 0.41193825743699153, 'gamma': 0.0032658299332038454, 'colsample_bytree': 0.9043233440434528, 'lambda': 14.836493164256936, 'alpha': 8.922556973436357}\n"
     ]
    },
    {
     "name": "stderr",
     "output_type": "stream",
     "text": [
      "[04:50:38] WARNING: /home/conda/feedstock_root/build_artifacts/xgboost-split_1707159369174/work/src/c_api/c_api.cc:1240: Saving into deprecated binary model format, please consider using `json` or `ubj`. Model format will default to JSON in XGBoost 2.2 if not specified.\n"
     ]
    },
    {
     "name": "stdout",
     "output_type": "stream",
     "text": [
      "Results Summary: {'Match': 13, 'Mismatch': 2, 'No Evaluation': 1}\n",
      "Removing mismatch feature: H4K5Ac\n",
      "Remaining Features: ['H2A.2', 'H3K4me1', 'H2A.13', 'H3K4me3', 'H3K36me3', 'H2A.Z.11', 'expression_category', 'H3K27me3_log', 'H3K9Ac_log', 'cpg_percentage_log', 'H3K9K14Ac_log', 'H3Ac_log', 'chh_percentage_log', 'chg_percentage_log', 'H2A.W.7_log', 'H3K9me1_log', 'H2A.W.6_log', 'H2A.Z.9_log', 'H3K23me1_log', 'H3K9me2_log']\n"
     ]
    },
    {
     "name": "stderr",
     "output_type": "stream",
     "text": [
      "[04:50:41] WARNING: /home/conda/feedstock_root/build_artifacts/xgboost-split_1707159369174/work/src/c_api/c_api.cc:1240: Saving into deprecated binary model format, please consider using `json` or `ubj`. Model format will default to JSON in XGBoost 2.2 if not specified.\n",
      "[04:50:45] WARNING: /home/conda/feedstock_root/build_artifacts/xgboost-split_1707159369174/work/src/c_api/c_api.cc:1240: Saving into deprecated binary model format, please consider using `json` or `ubj`. Model format will default to JSON in XGBoost 2.2 if not specified.\n",
      "[04:50:50] WARNING: /home/conda/feedstock_root/build_artifacts/xgboost-split_1707159369174/work/src/c_api/c_api.cc:1240: Saving into deprecated binary model format, please consider using `json` or `ubj`. Model format will default to JSON in XGBoost 2.2 if not specified.\n",
      "[04:50:53] WARNING: /home/conda/feedstock_root/build_artifacts/xgboost-split_1707159369174/work/src/c_api/c_api.cc:1240: Saving into deprecated binary model format, please consider using `json` or `ubj`. Model format will default to JSON in XGBoost 2.2 if not specified.\n",
      "[04:50:57] WARNING: /home/conda/feedstock_root/build_artifacts/xgboost-split_1707159369174/work/src/c_api/c_api.cc:1240: Saving into deprecated binary model format, please consider using `json` or `ubj`. Model format will default to JSON in XGBoost 2.2 if not specified.\n",
      "[04:51:00] WARNING: /home/conda/feedstock_root/build_artifacts/xgboost-split_1707159369174/work/src/c_api/c_api.cc:1240: Saving into deprecated binary model format, please consider using `json` or `ubj`. Model format will default to JSON in XGBoost 2.2 if not specified.\n",
      "[04:51:04] WARNING: /home/conda/feedstock_root/build_artifacts/xgboost-split_1707159369174/work/src/c_api/c_api.cc:1240: Saving into deprecated binary model format, please consider using `json` or `ubj`. Model format will default to JSON in XGBoost 2.2 if not specified.\n",
      "[04:51:07] WARNING: /home/conda/feedstock_root/build_artifacts/xgboost-split_1707159369174/work/src/c_api/c_api.cc:1240: Saving into deprecated binary model format, please consider using `json` or `ubj`. Model format will default to JSON in XGBoost 2.2 if not specified.\n",
      "[04:51:11] WARNING: /home/conda/feedstock_root/build_artifacts/xgboost-split_1707159369174/work/src/c_api/c_api.cc:1240: Saving into deprecated binary model format, please consider using `json` or `ubj`. Model format will default to JSON in XGBoost 2.2 if not specified.\n",
      "[04:51:15] WARNING: /home/conda/feedstock_root/build_artifacts/xgboost-split_1707159369174/work/src/c_api/c_api.cc:1240: Saving into deprecated binary model format, please consider using `json` or `ubj`. Model format will default to JSON in XGBoost 2.2 if not specified.\n",
      "[04:51:17] WARNING: /home/conda/feedstock_root/build_artifacts/xgboost-split_1707159369174/work/src/c_api/c_api.cc:1240: Saving into deprecated binary model format, please consider using `json` or `ubj`. Model format will default to JSON in XGBoost 2.2 if not specified.\n",
      "[04:51:21] WARNING: /home/conda/feedstock_root/build_artifacts/xgboost-split_1707159369174/work/src/c_api/c_api.cc:1240: Saving into deprecated binary model format, please consider using `json` or `ubj`. Model format will default to JSON in XGBoost 2.2 if not specified.\n",
      "[04:51:25] WARNING: /home/conda/feedstock_root/build_artifacts/xgboost-split_1707159369174/work/src/c_api/c_api.cc:1240: Saving into deprecated binary model format, please consider using `json` or `ubj`. Model format will default to JSON in XGBoost 2.2 if not specified.\n",
      "[04:51:27] WARNING: /home/conda/feedstock_root/build_artifacts/xgboost-split_1707159369174/work/src/c_api/c_api.cc:1240: Saving into deprecated binary model format, please consider using `json` or `ubj`. Model format will default to JSON in XGBoost 2.2 if not specified.\n",
      "[04:51:31] WARNING: /home/conda/feedstock_root/build_artifacts/xgboost-split_1707159369174/work/src/c_api/c_api.cc:1240: Saving into deprecated binary model format, please consider using `json` or `ubj`. Model format will default to JSON in XGBoost 2.2 if not specified.\n",
      "[04:51:34] WARNING: /home/conda/feedstock_root/build_artifacts/xgboost-split_1707159369174/work/src/c_api/c_api.cc:1240: Saving into deprecated binary model format, please consider using `json` or `ubj`. Model format will default to JSON in XGBoost 2.2 if not specified.\n",
      "[04:51:38] WARNING: /home/conda/feedstock_root/build_artifacts/xgboost-split_1707159369174/work/src/c_api/c_api.cc:1240: Saving into deprecated binary model format, please consider using `json` or `ubj`. Model format will default to JSON in XGBoost 2.2 if not specified.\n",
      "[04:51:41] WARNING: /home/conda/feedstock_root/build_artifacts/xgboost-split_1707159369174/work/src/c_api/c_api.cc:1240: Saving into deprecated binary model format, please consider using `json` or `ubj`. Model format will default to JSON in XGBoost 2.2 if not specified.\n",
      "[04:51:44] WARNING: /home/conda/feedstock_root/build_artifacts/xgboost-split_1707159369174/work/src/c_api/c_api.cc:1240: Saving into deprecated binary model format, please consider using `json` or `ubj`. Model format will default to JSON in XGBoost 2.2 if not specified.\n",
      "[04:51:49] WARNING: /home/conda/feedstock_root/build_artifacts/xgboost-split_1707159369174/work/src/c_api/c_api.cc:1240: Saving into deprecated binary model format, please consider using `json` or `ubj`. Model format will default to JSON in XGBoost 2.2 if not specified.\n",
      "[04:51:51] WARNING: /home/conda/feedstock_root/build_artifacts/xgboost-split_1707159369174/work/src/c_api/c_api.cc:1240: Saving into deprecated binary model format, please consider using `json` or `ubj`. Model format will default to JSON in XGBoost 2.2 if not specified.\n",
      "[04:51:55] WARNING: /home/conda/feedstock_root/build_artifacts/xgboost-split_1707159369174/work/src/c_api/c_api.cc:1240: Saving into deprecated binary model format, please consider using `json` or `ubj`. Model format will default to JSON in XGBoost 2.2 if not specified.\n",
      "[04:52:00] WARNING: /home/conda/feedstock_root/build_artifacts/xgboost-split_1707159369174/work/src/c_api/c_api.cc:1240: Saving into deprecated binary model format, please consider using `json` or `ubj`. Model format will default to JSON in XGBoost 2.2 if not specified.\n",
      "[04:52:04] WARNING: /home/conda/feedstock_root/build_artifacts/xgboost-split_1707159369174/work/src/c_api/c_api.cc:1240: Saving into deprecated binary model format, please consider using `json` or `ubj`. Model format will default to JSON in XGBoost 2.2 if not specified.\n",
      "[04:52:07] WARNING: /home/conda/feedstock_root/build_artifacts/xgboost-split_1707159369174/work/src/c_api/c_api.cc:1240: Saving into deprecated binary model format, please consider using `json` or `ubj`. Model format will default to JSON in XGBoost 2.2 if not specified.\n",
      "[04:52:11] WARNING: /home/conda/feedstock_root/build_artifacts/xgboost-split_1707159369174/work/src/c_api/c_api.cc:1240: Saving into deprecated binary model format, please consider using `json` or `ubj`. Model format will default to JSON in XGBoost 2.2 if not specified.\n",
      "[04:52:16] WARNING: /home/conda/feedstock_root/build_artifacts/xgboost-split_1707159369174/work/src/c_api/c_api.cc:1240: Saving into deprecated binary model format, please consider using `json` or `ubj`. Model format will default to JSON in XGBoost 2.2 if not specified.\n",
      "[04:52:20] WARNING: /home/conda/feedstock_root/build_artifacts/xgboost-split_1707159369174/work/src/c_api/c_api.cc:1240: Saving into deprecated binary model format, please consider using `json` or `ubj`. Model format will default to JSON in XGBoost 2.2 if not specified.\n",
      "[04:52:24] WARNING: /home/conda/feedstock_root/build_artifacts/xgboost-split_1707159369174/work/src/c_api/c_api.cc:1240: Saving into deprecated binary model format, please consider using `json` or `ubj`. Model format will default to JSON in XGBoost 2.2 if not specified.\n",
      "[04:52:26] WARNING: /home/conda/feedstock_root/build_artifacts/xgboost-split_1707159369174/work/src/c_api/c_api.cc:1240: Saving into deprecated binary model format, please consider using `json` or `ubj`. Model format will default to JSON in XGBoost 2.2 if not specified.\n",
      "[04:52:30] WARNING: /home/conda/feedstock_root/build_artifacts/xgboost-split_1707159369174/work/src/c_api/c_api.cc:1240: Saving into deprecated binary model format, please consider using `json` or `ubj`. Model format will default to JSON in XGBoost 2.2 if not specified.\n",
      "[04:52:34] WARNING: /home/conda/feedstock_root/build_artifacts/xgboost-split_1707159369174/work/src/c_api/c_api.cc:1240: Saving into deprecated binary model format, please consider using `json` or `ubj`. Model format will default to JSON in XGBoost 2.2 if not specified.\n",
      "[04:52:39] WARNING: /home/conda/feedstock_root/build_artifacts/xgboost-split_1707159369174/work/src/c_api/c_api.cc:1240: Saving into deprecated binary model format, please consider using `json` or `ubj`. Model format will default to JSON in XGBoost 2.2 if not specified.\n",
      "[04:52:45] WARNING: /home/conda/feedstock_root/build_artifacts/xgboost-split_1707159369174/work/src/c_api/c_api.cc:1240: Saving into deprecated binary model format, please consider using `json` or `ubj`. Model format will default to JSON in XGBoost 2.2 if not specified.\n",
      "[04:52:51] WARNING: /home/conda/feedstock_root/build_artifacts/xgboost-split_1707159369174/work/src/c_api/c_api.cc:1240: Saving into deprecated binary model format, please consider using `json` or `ubj`. Model format will default to JSON in XGBoost 2.2 if not specified.\n",
      "[04:52:57] WARNING: /home/conda/feedstock_root/build_artifacts/xgboost-split_1707159369174/work/src/c_api/c_api.cc:1240: Saving into deprecated binary model format, please consider using `json` or `ubj`. Model format will default to JSON in XGBoost 2.2 if not specified.\n",
      "[04:53:04] WARNING: /home/conda/feedstock_root/build_artifacts/xgboost-split_1707159369174/work/src/c_api/c_api.cc:1240: Saving into deprecated binary model format, please consider using `json` or `ubj`. Model format will default to JSON in XGBoost 2.2 if not specified.\n",
      "[04:53:08] WARNING: /home/conda/feedstock_root/build_artifacts/xgboost-split_1707159369174/work/src/c_api/c_api.cc:1240: Saving into deprecated binary model format, please consider using `json` or `ubj`. Model format will default to JSON in XGBoost 2.2 if not specified.\n",
      "[04:53:13] WARNING: /home/conda/feedstock_root/build_artifacts/xgboost-split_1707159369174/work/src/c_api/c_api.cc:1240: Saving into deprecated binary model format, please consider using `json` or `ubj`. Model format will default to JSON in XGBoost 2.2 if not specified.\n",
      "[04:53:17] WARNING: /home/conda/feedstock_root/build_artifacts/xgboost-split_1707159369174/work/src/c_api/c_api.cc:1240: Saving into deprecated binary model format, please consider using `json` or `ubj`. Model format will default to JSON in XGBoost 2.2 if not specified.\n"
     ]
    },
    {
     "name": "stdout",
     "output_type": "stream",
     "text": [
      "Best Parameters: {'learning_rate': 0.02521192179061783, 'max_depth': 29, 'subsample': 0.7812640644284516, 'gamma': 0.557075712517553, 'colsample_bytree': 0.6920942827580203, 'lambda': 6.926462998516765, 'alpha': 14.912261422326296}\n"
     ]
    },
    {
     "name": "stderr",
     "output_type": "stream",
     "text": [
      "[04:53:20] WARNING: /home/conda/feedstock_root/build_artifacts/xgboost-split_1707159369174/work/src/c_api/c_api.cc:1240: Saving into deprecated binary model format, please consider using `json` or `ubj`. Model format will default to JSON in XGBoost 2.2 if not specified.\n"
     ]
    },
    {
     "name": "stdout",
     "output_type": "stream",
     "text": [
      "Results Summary: {'Match': 13, 'Mismatch': 1, 'No Evaluation': 1}\n",
      "Removing mismatch feature: H3K4me1\n",
      "Remaining Features: ['H2A.2', 'H2A.13', 'H3K4me3', 'H3K36me3', 'H2A.Z.11', 'expression_category', 'H3K27me3_log', 'H3K9Ac_log', 'cpg_percentage_log', 'H3K9K14Ac_log', 'H3Ac_log', 'chh_percentage_log', 'chg_percentage_log', 'H2A.W.7_log', 'H3K9me1_log', 'H2A.W.6_log', 'H2A.Z.9_log', 'H3K23me1_log', 'H3K9me2_log']\n"
     ]
    },
    {
     "name": "stderr",
     "output_type": "stream",
     "text": [
      "[04:53:24] WARNING: /home/conda/feedstock_root/build_artifacts/xgboost-split_1707159369174/work/src/c_api/c_api.cc:1240: Saving into deprecated binary model format, please consider using `json` or `ubj`. Model format will default to JSON in XGBoost 2.2 if not specified.\n",
      "[04:53:27] WARNING: /home/conda/feedstock_root/build_artifacts/xgboost-split_1707159369174/work/src/c_api/c_api.cc:1240: Saving into deprecated binary model format, please consider using `json` or `ubj`. Model format will default to JSON in XGBoost 2.2 if not specified.\n",
      "[04:53:30] WARNING: /home/conda/feedstock_root/build_artifacts/xgboost-split_1707159369174/work/src/c_api/c_api.cc:1240: Saving into deprecated binary model format, please consider using `json` or `ubj`. Model format will default to JSON in XGBoost 2.2 if not specified.\n",
      "[04:53:33] WARNING: /home/conda/feedstock_root/build_artifacts/xgboost-split_1707159369174/work/src/c_api/c_api.cc:1240: Saving into deprecated binary model format, please consider using `json` or `ubj`. Model format will default to JSON in XGBoost 2.2 if not specified.\n",
      "[04:53:38] WARNING: /home/conda/feedstock_root/build_artifacts/xgboost-split_1707159369174/work/src/c_api/c_api.cc:1240: Saving into deprecated binary model format, please consider using `json` or `ubj`. Model format will default to JSON in XGBoost 2.2 if not specified.\n",
      "[04:53:42] WARNING: /home/conda/feedstock_root/build_artifacts/xgboost-split_1707159369174/work/src/c_api/c_api.cc:1240: Saving into deprecated binary model format, please consider using `json` or `ubj`. Model format will default to JSON in XGBoost 2.2 if not specified.\n",
      "[04:53:45] WARNING: /home/conda/feedstock_root/build_artifacts/xgboost-split_1707159369174/work/src/c_api/c_api.cc:1240: Saving into deprecated binary model format, please consider using `json` or `ubj`. Model format will default to JSON in XGBoost 2.2 if not specified.\n",
      "[04:53:48] WARNING: /home/conda/feedstock_root/build_artifacts/xgboost-split_1707159369174/work/src/c_api/c_api.cc:1240: Saving into deprecated binary model format, please consider using `json` or `ubj`. Model format will default to JSON in XGBoost 2.2 if not specified.\n",
      "[04:53:51] WARNING: /home/conda/feedstock_root/build_artifacts/xgboost-split_1707159369174/work/src/c_api/c_api.cc:1240: Saving into deprecated binary model format, please consider using `json` or `ubj`. Model format will default to JSON in XGBoost 2.2 if not specified.\n",
      "[04:53:54] WARNING: /home/conda/feedstock_root/build_artifacts/xgboost-split_1707159369174/work/src/c_api/c_api.cc:1240: Saving into deprecated binary model format, please consider using `json` or `ubj`. Model format will default to JSON in XGBoost 2.2 if not specified.\n",
      "[04:53:59] WARNING: /home/conda/feedstock_root/build_artifacts/xgboost-split_1707159369174/work/src/c_api/c_api.cc:1240: Saving into deprecated binary model format, please consider using `json` or `ubj`. Model format will default to JSON in XGBoost 2.2 if not specified.\n",
      "[04:54:06] WARNING: /home/conda/feedstock_root/build_artifacts/xgboost-split_1707159369174/work/src/c_api/c_api.cc:1240: Saving into deprecated binary model format, please consider using `json` or `ubj`. Model format will default to JSON in XGBoost 2.2 if not specified.\n",
      "[04:54:15] WARNING: /home/conda/feedstock_root/build_artifacts/xgboost-split_1707159369174/work/src/c_api/c_api.cc:1240: Saving into deprecated binary model format, please consider using `json` or `ubj`. Model format will default to JSON in XGBoost 2.2 if not specified.\n",
      "[04:54:20] WARNING: /home/conda/feedstock_root/build_artifacts/xgboost-split_1707159369174/work/src/c_api/c_api.cc:1240: Saving into deprecated binary model format, please consider using `json` or `ubj`. Model format will default to JSON in XGBoost 2.2 if not specified.\n",
      "[04:54:25] WARNING: /home/conda/feedstock_root/build_artifacts/xgboost-split_1707159369174/work/src/c_api/c_api.cc:1240: Saving into deprecated binary model format, please consider using `json` or `ubj`. Model format will default to JSON in XGBoost 2.2 if not specified.\n",
      "[04:54:29] WARNING: /home/conda/feedstock_root/build_artifacts/xgboost-split_1707159369174/work/src/c_api/c_api.cc:1240: Saving into deprecated binary model format, please consider using `json` or `ubj`. Model format will default to JSON in XGBoost 2.2 if not specified.\n",
      "[04:54:35] WARNING: /home/conda/feedstock_root/build_artifacts/xgboost-split_1707159369174/work/src/c_api/c_api.cc:1240: Saving into deprecated binary model format, please consider using `json` or `ubj`. Model format will default to JSON in XGBoost 2.2 if not specified.\n",
      "[04:54:40] WARNING: /home/conda/feedstock_root/build_artifacts/xgboost-split_1707159369174/work/src/c_api/c_api.cc:1240: Saving into deprecated binary model format, please consider using `json` or `ubj`. Model format will default to JSON in XGBoost 2.2 if not specified.\n",
      "[04:54:43] WARNING: /home/conda/feedstock_root/build_artifacts/xgboost-split_1707159369174/work/src/c_api/c_api.cc:1240: Saving into deprecated binary model format, please consider using `json` or `ubj`. Model format will default to JSON in XGBoost 2.2 if not specified.\n",
      "[04:54:50] WARNING: /home/conda/feedstock_root/build_artifacts/xgboost-split_1707159369174/work/src/c_api/c_api.cc:1240: Saving into deprecated binary model format, please consider using `json` or `ubj`. Model format will default to JSON in XGBoost 2.2 if not specified.\n",
      "[04:54:56] WARNING: /home/conda/feedstock_root/build_artifacts/xgboost-split_1707159369174/work/src/c_api/c_api.cc:1240: Saving into deprecated binary model format, please consider using `json` or `ubj`. Model format will default to JSON in XGBoost 2.2 if not specified.\n",
      "[04:55:00] WARNING: /home/conda/feedstock_root/build_artifacts/xgboost-split_1707159369174/work/src/c_api/c_api.cc:1240: Saving into deprecated binary model format, please consider using `json` or `ubj`. Model format will default to JSON in XGBoost 2.2 if not specified.\n",
      "[04:55:04] WARNING: /home/conda/feedstock_root/build_artifacts/xgboost-split_1707159369174/work/src/c_api/c_api.cc:1240: Saving into deprecated binary model format, please consider using `json` or `ubj`. Model format will default to JSON in XGBoost 2.2 if not specified.\n",
      "[04:55:08] WARNING: /home/conda/feedstock_root/build_artifacts/xgboost-split_1707159369174/work/src/c_api/c_api.cc:1240: Saving into deprecated binary model format, please consider using `json` or `ubj`. Model format will default to JSON in XGBoost 2.2 if not specified.\n",
      "[04:55:14] WARNING: /home/conda/feedstock_root/build_artifacts/xgboost-split_1707159369174/work/src/c_api/c_api.cc:1240: Saving into deprecated binary model format, please consider using `json` or `ubj`. Model format will default to JSON in XGBoost 2.2 if not specified.\n",
      "[04:55:17] WARNING: /home/conda/feedstock_root/build_artifacts/xgboost-split_1707159369174/work/src/c_api/c_api.cc:1240: Saving into deprecated binary model format, please consider using `json` or `ubj`. Model format will default to JSON in XGBoost 2.2 if not specified.\n",
      "[04:55:20] WARNING: /home/conda/feedstock_root/build_artifacts/xgboost-split_1707159369174/work/src/c_api/c_api.cc:1240: Saving into deprecated binary model format, please consider using `json` or `ubj`. Model format will default to JSON in XGBoost 2.2 if not specified.\n",
      "[04:55:24] WARNING: /home/conda/feedstock_root/build_artifacts/xgboost-split_1707159369174/work/src/c_api/c_api.cc:1240: Saving into deprecated binary model format, please consider using `json` or `ubj`. Model format will default to JSON in XGBoost 2.2 if not specified.\n",
      "[04:55:29] WARNING: /home/conda/feedstock_root/build_artifacts/xgboost-split_1707159369174/work/src/c_api/c_api.cc:1240: Saving into deprecated binary model format, please consider using `json` or `ubj`. Model format will default to JSON in XGBoost 2.2 if not specified.\n",
      "[04:55:35] WARNING: /home/conda/feedstock_root/build_artifacts/xgboost-split_1707159369174/work/src/c_api/c_api.cc:1240: Saving into deprecated binary model format, please consider using `json` or `ubj`. Model format will default to JSON in XGBoost 2.2 if not specified.\n",
      "[04:55:40] WARNING: /home/conda/feedstock_root/build_artifacts/xgboost-split_1707159369174/work/src/c_api/c_api.cc:1240: Saving into deprecated binary model format, please consider using `json` or `ubj`. Model format will default to JSON in XGBoost 2.2 if not specified.\n",
      "[04:55:45] WARNING: /home/conda/feedstock_root/build_artifacts/xgboost-split_1707159369174/work/src/c_api/c_api.cc:1240: Saving into deprecated binary model format, please consider using `json` or `ubj`. Model format will default to JSON in XGBoost 2.2 if not specified.\n",
      "[04:55:53] WARNING: /home/conda/feedstock_root/build_artifacts/xgboost-split_1707159369174/work/src/c_api/c_api.cc:1240: Saving into deprecated binary model format, please consider using `json` or `ubj`. Model format will default to JSON in XGBoost 2.2 if not specified.\n",
      "[04:56:02] WARNING: /home/conda/feedstock_root/build_artifacts/xgboost-split_1707159369174/work/src/c_api/c_api.cc:1240: Saving into deprecated binary model format, please consider using `json` or `ubj`. Model format will default to JSON in XGBoost 2.2 if not specified.\n",
      "[04:56:08] WARNING: /home/conda/feedstock_root/build_artifacts/xgboost-split_1707159369174/work/src/c_api/c_api.cc:1240: Saving into deprecated binary model format, please consider using `json` or `ubj`. Model format will default to JSON in XGBoost 2.2 if not specified.\n",
      "[04:56:13] WARNING: /home/conda/feedstock_root/build_artifacts/xgboost-split_1707159369174/work/src/c_api/c_api.cc:1240: Saving into deprecated binary model format, please consider using `json` or `ubj`. Model format will default to JSON in XGBoost 2.2 if not specified.\n",
      "[04:56:18] WARNING: /home/conda/feedstock_root/build_artifacts/xgboost-split_1707159369174/work/src/c_api/c_api.cc:1240: Saving into deprecated binary model format, please consider using `json` or `ubj`. Model format will default to JSON in XGBoost 2.2 if not specified.\n",
      "[04:56:22] WARNING: /home/conda/feedstock_root/build_artifacts/xgboost-split_1707159369174/work/src/c_api/c_api.cc:1240: Saving into deprecated binary model format, please consider using `json` or `ubj`. Model format will default to JSON in XGBoost 2.2 if not specified.\n",
      "[04:56:27] WARNING: /home/conda/feedstock_root/build_artifacts/xgboost-split_1707159369174/work/src/c_api/c_api.cc:1240: Saving into deprecated binary model format, please consider using `json` or `ubj`. Model format will default to JSON in XGBoost 2.2 if not specified.\n",
      "[04:56:32] WARNING: /home/conda/feedstock_root/build_artifacts/xgboost-split_1707159369174/work/src/c_api/c_api.cc:1240: Saving into deprecated binary model format, please consider using `json` or `ubj`. Model format will default to JSON in XGBoost 2.2 if not specified.\n"
     ]
    },
    {
     "name": "stdout",
     "output_type": "stream",
     "text": [
      "Best Parameters: {'learning_rate': 0.020422594946501886, 'max_depth': 25, 'subsample': 0.860744863837128, 'gamma': 0.4839890615636381, 'colsample_bytree': 0.8831067329287758, 'lambda': 11.604186905962827, 'alpha': 11.097587864332137}\n"
     ]
    },
    {
     "name": "stderr",
     "output_type": "stream",
     "text": [
      "[04:56:36] WARNING: /home/conda/feedstock_root/build_artifacts/xgboost-split_1707159369174/work/src/c_api/c_api.cc:1240: Saving into deprecated binary model format, please consider using `json` or `ubj`. Model format will default to JSON in XGBoost 2.2 if not specified.\n"
     ]
    },
    {
     "name": "stdout",
     "output_type": "stream",
     "text": [
      "Results Summary: {'Match': 13, 'No Evaluation': 1}\n",
      "\n",
      "--- Evaluating model with feature H4K20me1_log added back ---\n",
      "\n"
     ]
    },
    {
     "name": "stderr",
     "output_type": "stream",
     "text": [
      "[04:56:41] WARNING: /home/conda/feedstock_root/build_artifacts/xgboost-split_1707159369174/work/src/c_api/c_api.cc:1240: Saving into deprecated binary model format, please consider using `json` or `ubj`. Model format will default to JSON in XGBoost 2.2 if not specified.\n"
     ]
    },
    {
     "name": "stdout",
     "output_type": "stream",
     "text": [
      "Results Summary: {'Match': 14, 'No Evaluation': 1}\n",
      "Feature: H4K20me1_log, Known Function: Repressive, Result: Match\n",
      "\n",
      "--- Performing LOO for feature chg_percentage_log ---\n",
      "\n",
      "Remaining Features: ['H2A.2', 'H3K4me1', 'H2A.13', 'H3K4me3', 'H3K36me3', 'H4K5Ac', 'H2A.Z.11', 'expression_category', 'H3K27me3_log', 'H3K9Ac_log', 'cpg_percentage_log', 'H3K9K14Ac_log', 'H3Ac_log', 'chh_percentage_log', 'H4K20me1_log', 'H2A.W.7_log', 'H3K9me1_log', 'H2A.W.6_log', 'H2A.Z.9_log', 'H3K23me1_log', 'H3K9me2_log']\n"
     ]
    },
    {
     "name": "stderr",
     "output_type": "stream",
     "text": [
      "[04:56:45] WARNING: /home/conda/feedstock_root/build_artifacts/xgboost-split_1707159369174/work/src/c_api/c_api.cc:1240: Saving into deprecated binary model format, please consider using `json` or `ubj`. Model format will default to JSON in XGBoost 2.2 if not specified.\n",
      "[04:56:47] WARNING: /home/conda/feedstock_root/build_artifacts/xgboost-split_1707159369174/work/src/c_api/c_api.cc:1240: Saving into deprecated binary model format, please consider using `json` or `ubj`. Model format will default to JSON in XGBoost 2.2 if not specified.\n",
      "[04:56:51] WARNING: /home/conda/feedstock_root/build_artifacts/xgboost-split_1707159369174/work/src/c_api/c_api.cc:1240: Saving into deprecated binary model format, please consider using `json` or `ubj`. Model format will default to JSON in XGBoost 2.2 if not specified.\n",
      "[04:56:53] WARNING: /home/conda/feedstock_root/build_artifacts/xgboost-split_1707159369174/work/src/c_api/c_api.cc:1240: Saving into deprecated binary model format, please consider using `json` or `ubj`. Model format will default to JSON in XGBoost 2.2 if not specified.\n",
      "[04:56:55] WARNING: /home/conda/feedstock_root/build_artifacts/xgboost-split_1707159369174/work/src/c_api/c_api.cc:1240: Saving into deprecated binary model format, please consider using `json` or `ubj`. Model format will default to JSON in XGBoost 2.2 if not specified.\n",
      "[04:57:01] WARNING: /home/conda/feedstock_root/build_artifacts/xgboost-split_1707159369174/work/src/c_api/c_api.cc:1240: Saving into deprecated binary model format, please consider using `json` or `ubj`. Model format will default to JSON in XGBoost 2.2 if not specified.\n",
      "[04:57:05] WARNING: /home/conda/feedstock_root/build_artifacts/xgboost-split_1707159369174/work/src/c_api/c_api.cc:1240: Saving into deprecated binary model format, please consider using `json` or `ubj`. Model format will default to JSON in XGBoost 2.2 if not specified.\n",
      "[04:57:08] WARNING: /home/conda/feedstock_root/build_artifacts/xgboost-split_1707159369174/work/src/c_api/c_api.cc:1240: Saving into deprecated binary model format, please consider using `json` or `ubj`. Model format will default to JSON in XGBoost 2.2 if not specified.\n",
      "[04:57:12] WARNING: /home/conda/feedstock_root/build_artifacts/xgboost-split_1707159369174/work/src/c_api/c_api.cc:1240: Saving into deprecated binary model format, please consider using `json` or `ubj`. Model format will default to JSON in XGBoost 2.2 if not specified.\n",
      "[04:57:17] WARNING: /home/conda/feedstock_root/build_artifacts/xgboost-split_1707159369174/work/src/c_api/c_api.cc:1240: Saving into deprecated binary model format, please consider using `json` or `ubj`. Model format will default to JSON in XGBoost 2.2 if not specified.\n",
      "[04:57:23] WARNING: /home/conda/feedstock_root/build_artifacts/xgboost-split_1707159369174/work/src/c_api/c_api.cc:1240: Saving into deprecated binary model format, please consider using `json` or `ubj`. Model format will default to JSON in XGBoost 2.2 if not specified.\n",
      "[04:57:29] WARNING: /home/conda/feedstock_root/build_artifacts/xgboost-split_1707159369174/work/src/c_api/c_api.cc:1240: Saving into deprecated binary model format, please consider using `json` or `ubj`. Model format will default to JSON in XGBoost 2.2 if not specified.\n",
      "[04:57:36] WARNING: /home/conda/feedstock_root/build_artifacts/xgboost-split_1707159369174/work/src/c_api/c_api.cc:1240: Saving into deprecated binary model format, please consider using `json` or `ubj`. Model format will default to JSON in XGBoost 2.2 if not specified.\n",
      "[04:57:41] WARNING: /home/conda/feedstock_root/build_artifacts/xgboost-split_1707159369174/work/src/c_api/c_api.cc:1240: Saving into deprecated binary model format, please consider using `json` or `ubj`. Model format will default to JSON in XGBoost 2.2 if not specified.\n",
      "[04:57:46] WARNING: /home/conda/feedstock_root/build_artifacts/xgboost-split_1707159369174/work/src/c_api/c_api.cc:1240: Saving into deprecated binary model format, please consider using `json` or `ubj`. Model format will default to JSON in XGBoost 2.2 if not specified.\n",
      "[04:57:51] WARNING: /home/conda/feedstock_root/build_artifacts/xgboost-split_1707159369174/work/src/c_api/c_api.cc:1240: Saving into deprecated binary model format, please consider using `json` or `ubj`. Model format will default to JSON in XGBoost 2.2 if not specified.\n",
      "[04:57:56] WARNING: /home/conda/feedstock_root/build_artifacts/xgboost-split_1707159369174/work/src/c_api/c_api.cc:1240: Saving into deprecated binary model format, please consider using `json` or `ubj`. Model format will default to JSON in XGBoost 2.2 if not specified.\n",
      "[04:57:59] WARNING: /home/conda/feedstock_root/build_artifacts/xgboost-split_1707159369174/work/src/c_api/c_api.cc:1240: Saving into deprecated binary model format, please consider using `json` or `ubj`. Model format will default to JSON in XGBoost 2.2 if not specified.\n",
      "[04:58:05] WARNING: /home/conda/feedstock_root/build_artifacts/xgboost-split_1707159369174/work/src/c_api/c_api.cc:1240: Saving into deprecated binary model format, please consider using `json` or `ubj`. Model format will default to JSON in XGBoost 2.2 if not specified.\n",
      "[04:58:10] WARNING: /home/conda/feedstock_root/build_artifacts/xgboost-split_1707159369174/work/src/c_api/c_api.cc:1240: Saving into deprecated binary model format, please consider using `json` or `ubj`. Model format will default to JSON in XGBoost 2.2 if not specified.\n",
      "[04:58:14] WARNING: /home/conda/feedstock_root/build_artifacts/xgboost-split_1707159369174/work/src/c_api/c_api.cc:1240: Saving into deprecated binary model format, please consider using `json` or `ubj`. Model format will default to JSON in XGBoost 2.2 if not specified.\n",
      "[04:58:18] WARNING: /home/conda/feedstock_root/build_artifacts/xgboost-split_1707159369174/work/src/c_api/c_api.cc:1240: Saving into deprecated binary model format, please consider using `json` or `ubj`. Model format will default to JSON in XGBoost 2.2 if not specified.\n",
      "[04:58:21] WARNING: /home/conda/feedstock_root/build_artifacts/xgboost-split_1707159369174/work/src/c_api/c_api.cc:1240: Saving into deprecated binary model format, please consider using `json` or `ubj`. Model format will default to JSON in XGBoost 2.2 if not specified.\n",
      "[04:58:24] WARNING: /home/conda/feedstock_root/build_artifacts/xgboost-split_1707159369174/work/src/c_api/c_api.cc:1240: Saving into deprecated binary model format, please consider using `json` or `ubj`. Model format will default to JSON in XGBoost 2.2 if not specified.\n",
      "[04:58:27] WARNING: /home/conda/feedstock_root/build_artifacts/xgboost-split_1707159369174/work/src/c_api/c_api.cc:1240: Saving into deprecated binary model format, please consider using `json` or `ubj`. Model format will default to JSON in XGBoost 2.2 if not specified.\n",
      "[04:58:30] WARNING: /home/conda/feedstock_root/build_artifacts/xgboost-split_1707159369174/work/src/c_api/c_api.cc:1240: Saving into deprecated binary model format, please consider using `json` or `ubj`. Model format will default to JSON in XGBoost 2.2 if not specified.\n",
      "[04:58:34] WARNING: /home/conda/feedstock_root/build_artifacts/xgboost-split_1707159369174/work/src/c_api/c_api.cc:1240: Saving into deprecated binary model format, please consider using `json` or `ubj`. Model format will default to JSON in XGBoost 2.2 if not specified.\n",
      "[04:58:38] WARNING: /home/conda/feedstock_root/build_artifacts/xgboost-split_1707159369174/work/src/c_api/c_api.cc:1240: Saving into deprecated binary model format, please consider using `json` or `ubj`. Model format will default to JSON in XGBoost 2.2 if not specified.\n",
      "[04:58:41] WARNING: /home/conda/feedstock_root/build_artifacts/xgboost-split_1707159369174/work/src/c_api/c_api.cc:1240: Saving into deprecated binary model format, please consider using `json` or `ubj`. Model format will default to JSON in XGBoost 2.2 if not specified.\n",
      "[04:58:43] WARNING: /home/conda/feedstock_root/build_artifacts/xgboost-split_1707159369174/work/src/c_api/c_api.cc:1240: Saving into deprecated binary model format, please consider using `json` or `ubj`. Model format will default to JSON in XGBoost 2.2 if not specified.\n",
      "[04:58:45] WARNING: /home/conda/feedstock_root/build_artifacts/xgboost-split_1707159369174/work/src/c_api/c_api.cc:1240: Saving into deprecated binary model format, please consider using `json` or `ubj`. Model format will default to JSON in XGBoost 2.2 if not specified.\n",
      "[04:58:46] WARNING: /home/conda/feedstock_root/build_artifacts/xgboost-split_1707159369174/work/src/c_api/c_api.cc:1240: Saving into deprecated binary model format, please consider using `json` or `ubj`. Model format will default to JSON in XGBoost 2.2 if not specified.\n",
      "[04:58:48] WARNING: /home/conda/feedstock_root/build_artifacts/xgboost-split_1707159369174/work/src/c_api/c_api.cc:1240: Saving into deprecated binary model format, please consider using `json` or `ubj`. Model format will default to JSON in XGBoost 2.2 if not specified.\n",
      "[04:58:50] WARNING: /home/conda/feedstock_root/build_artifacts/xgboost-split_1707159369174/work/src/c_api/c_api.cc:1240: Saving into deprecated binary model format, please consider using `json` or `ubj`. Model format will default to JSON in XGBoost 2.2 if not specified.\n",
      "[04:58:52] WARNING: /home/conda/feedstock_root/build_artifacts/xgboost-split_1707159369174/work/src/c_api/c_api.cc:1240: Saving into deprecated binary model format, please consider using `json` or `ubj`. Model format will default to JSON in XGBoost 2.2 if not specified.\n",
      "[04:58:53] WARNING: /home/conda/feedstock_root/build_artifacts/xgboost-split_1707159369174/work/src/c_api/c_api.cc:1240: Saving into deprecated binary model format, please consider using `json` or `ubj`. Model format will default to JSON in XGBoost 2.2 if not specified.\n",
      "[04:58:55] WARNING: /home/conda/feedstock_root/build_artifacts/xgboost-split_1707159369174/work/src/c_api/c_api.cc:1240: Saving into deprecated binary model format, please consider using `json` or `ubj`. Model format will default to JSON in XGBoost 2.2 if not specified.\n",
      "[04:58:56] WARNING: /home/conda/feedstock_root/build_artifacts/xgboost-split_1707159369174/work/src/c_api/c_api.cc:1240: Saving into deprecated binary model format, please consider using `json` or `ubj`. Model format will default to JSON in XGBoost 2.2 if not specified.\n",
      "[04:58:58] WARNING: /home/conda/feedstock_root/build_artifacts/xgboost-split_1707159369174/work/src/c_api/c_api.cc:1240: Saving into deprecated binary model format, please consider using `json` or `ubj`. Model format will default to JSON in XGBoost 2.2 if not specified.\n",
      "[04:58:59] WARNING: /home/conda/feedstock_root/build_artifacts/xgboost-split_1707159369174/work/src/c_api/c_api.cc:1240: Saving into deprecated binary model format, please consider using `json` or `ubj`. Model format will default to JSON in XGBoost 2.2 if not specified.\n"
     ]
    },
    {
     "name": "stdout",
     "output_type": "stream",
     "text": [
      "Best Parameters: {'learning_rate': 0.026467596790864193, 'max_depth': 12, 'subsample': 0.5595996546251156, 'gamma': 0.6676514271643041, 'colsample_bytree': 0.5416002981286856, 'lambda': 8.359356120439385, 'alpha': 14.531717507005515}\n"
     ]
    },
    {
     "name": "stderr",
     "output_type": "stream",
     "text": [
      "[04:59:01] WARNING: /home/conda/feedstock_root/build_artifacts/xgboost-split_1707159369174/work/src/c_api/c_api.cc:1240: Saving into deprecated binary model format, please consider using `json` or `ubj`. Model format will default to JSON in XGBoost 2.2 if not specified.\n"
     ]
    },
    {
     "name": "stdout",
     "output_type": "stream",
     "text": [
      "Results Summary: {'Match': 13, 'Mismatch': 2, 'No Evaluation': 1}\n",
      "Removing mismatch feature: H4K5Ac\n",
      "Remaining Features: ['H2A.2', 'H3K4me1', 'H2A.13', 'H3K4me3', 'H3K36me3', 'H2A.Z.11', 'expression_category', 'H3K27me3_log', 'H3K9Ac_log', 'cpg_percentage_log', 'H3K9K14Ac_log', 'H3Ac_log', 'chh_percentage_log', 'H4K20me1_log', 'H2A.W.7_log', 'H3K9me1_log', 'H2A.W.6_log', 'H2A.Z.9_log', 'H3K23me1_log', 'H3K9me2_log']\n"
     ]
    },
    {
     "name": "stderr",
     "output_type": "stream",
     "text": [
      "[04:59:04] WARNING: /home/conda/feedstock_root/build_artifacts/xgboost-split_1707159369174/work/src/c_api/c_api.cc:1240: Saving into deprecated binary model format, please consider using `json` or `ubj`. Model format will default to JSON in XGBoost 2.2 if not specified.\n",
      "[04:59:08] WARNING: /home/conda/feedstock_root/build_artifacts/xgboost-split_1707159369174/work/src/c_api/c_api.cc:1240: Saving into deprecated binary model format, please consider using `json` or `ubj`. Model format will default to JSON in XGBoost 2.2 if not specified.\n",
      "[04:59:14] WARNING: /home/conda/feedstock_root/build_artifacts/xgboost-split_1707159369174/work/src/c_api/c_api.cc:1240: Saving into deprecated binary model format, please consider using `json` or `ubj`. Model format will default to JSON in XGBoost 2.2 if not specified.\n",
      "[04:59:18] WARNING: /home/conda/feedstock_root/build_artifacts/xgboost-split_1707159369174/work/src/c_api/c_api.cc:1240: Saving into deprecated binary model format, please consider using `json` or `ubj`. Model format will default to JSON in XGBoost 2.2 if not specified.\n",
      "[04:59:21] WARNING: /home/conda/feedstock_root/build_artifacts/xgboost-split_1707159369174/work/src/c_api/c_api.cc:1240: Saving into deprecated binary model format, please consider using `json` or `ubj`. Model format will default to JSON in XGBoost 2.2 if not specified.\n",
      "[04:59:25] WARNING: /home/conda/feedstock_root/build_artifacts/xgboost-split_1707159369174/work/src/c_api/c_api.cc:1240: Saving into deprecated binary model format, please consider using `json` or `ubj`. Model format will default to JSON in XGBoost 2.2 if not specified.\n",
      "[04:59:28] WARNING: /home/conda/feedstock_root/build_artifacts/xgboost-split_1707159369174/work/src/c_api/c_api.cc:1240: Saving into deprecated binary model format, please consider using `json` or `ubj`. Model format will default to JSON in XGBoost 2.2 if not specified.\n",
      "[04:59:32] WARNING: /home/conda/feedstock_root/build_artifacts/xgboost-split_1707159369174/work/src/c_api/c_api.cc:1240: Saving into deprecated binary model format, please consider using `json` or `ubj`. Model format will default to JSON in XGBoost 2.2 if not specified.\n",
      "[04:59:34] WARNING: /home/conda/feedstock_root/build_artifacts/xgboost-split_1707159369174/work/src/c_api/c_api.cc:1240: Saving into deprecated binary model format, please consider using `json` or `ubj`. Model format will default to JSON in XGBoost 2.2 if not specified.\n",
      "[04:59:38] WARNING: /home/conda/feedstock_root/build_artifacts/xgboost-split_1707159369174/work/src/c_api/c_api.cc:1240: Saving into deprecated binary model format, please consider using `json` or `ubj`. Model format will default to JSON in XGBoost 2.2 if not specified.\n",
      "[04:59:44] WARNING: /home/conda/feedstock_root/build_artifacts/xgboost-split_1707159369174/work/src/c_api/c_api.cc:1240: Saving into deprecated binary model format, please consider using `json` or `ubj`. Model format will default to JSON in XGBoost 2.2 if not specified.\n",
      "[04:59:48] WARNING: /home/conda/feedstock_root/build_artifacts/xgboost-split_1707159369174/work/src/c_api/c_api.cc:1240: Saving into deprecated binary model format, please consider using `json` or `ubj`. Model format will default to JSON in XGBoost 2.2 if not specified.\n",
      "[04:59:52] WARNING: /home/conda/feedstock_root/build_artifacts/xgboost-split_1707159369174/work/src/c_api/c_api.cc:1240: Saving into deprecated binary model format, please consider using `json` or `ubj`. Model format will default to JSON in XGBoost 2.2 if not specified.\n",
      "[04:59:56] WARNING: /home/conda/feedstock_root/build_artifacts/xgboost-split_1707159369174/work/src/c_api/c_api.cc:1240: Saving into deprecated binary model format, please consider using `json` or `ubj`. Model format will default to JSON in XGBoost 2.2 if not specified.\n",
      "[05:00:00] WARNING: /home/conda/feedstock_root/build_artifacts/xgboost-split_1707159369174/work/src/c_api/c_api.cc:1240: Saving into deprecated binary model format, please consider using `json` or `ubj`. Model format will default to JSON in XGBoost 2.2 if not specified.\n",
      "[05:00:05] WARNING: /home/conda/feedstock_root/build_artifacts/xgboost-split_1707159369174/work/src/c_api/c_api.cc:1240: Saving into deprecated binary model format, please consider using `json` or `ubj`. Model format will default to JSON in XGBoost 2.2 if not specified.\n",
      "[05:00:11] WARNING: /home/conda/feedstock_root/build_artifacts/xgboost-split_1707159369174/work/src/c_api/c_api.cc:1240: Saving into deprecated binary model format, please consider using `json` or `ubj`. Model format will default to JSON in XGBoost 2.2 if not specified.\n",
      "[05:00:15] WARNING: /home/conda/feedstock_root/build_artifacts/xgboost-split_1707159369174/work/src/c_api/c_api.cc:1240: Saving into deprecated binary model format, please consider using `json` or `ubj`. Model format will default to JSON in XGBoost 2.2 if not specified.\n",
      "[05:00:19] WARNING: /home/conda/feedstock_root/build_artifacts/xgboost-split_1707159369174/work/src/c_api/c_api.cc:1240: Saving into deprecated binary model format, please consider using `json` or `ubj`. Model format will default to JSON in XGBoost 2.2 if not specified.\n",
      "[05:00:22] WARNING: /home/conda/feedstock_root/build_artifacts/xgboost-split_1707159369174/work/src/c_api/c_api.cc:1240: Saving into deprecated binary model format, please consider using `json` or `ubj`. Model format will default to JSON in XGBoost 2.2 if not specified.\n",
      "[05:00:30] WARNING: /home/conda/feedstock_root/build_artifacts/xgboost-split_1707159369174/work/src/c_api/c_api.cc:1240: Saving into deprecated binary model format, please consider using `json` or `ubj`. Model format will default to JSON in XGBoost 2.2 if not specified.\n",
      "[05:00:37] WARNING: /home/conda/feedstock_root/build_artifacts/xgboost-split_1707159369174/work/src/c_api/c_api.cc:1240: Saving into deprecated binary model format, please consider using `json` or `ubj`. Model format will default to JSON in XGBoost 2.2 if not specified.\n",
      "[05:00:41] WARNING: /home/conda/feedstock_root/build_artifacts/xgboost-split_1707159369174/work/src/c_api/c_api.cc:1240: Saving into deprecated binary model format, please consider using `json` or `ubj`. Model format will default to JSON in XGBoost 2.2 if not specified.\n",
      "[05:00:45] WARNING: /home/conda/feedstock_root/build_artifacts/xgboost-split_1707159369174/work/src/c_api/c_api.cc:1240: Saving into deprecated binary model format, please consider using `json` or `ubj`. Model format will default to JSON in XGBoost 2.2 if not specified.\n",
      "[05:00:49] WARNING: /home/conda/feedstock_root/build_artifacts/xgboost-split_1707159369174/work/src/c_api/c_api.cc:1240: Saving into deprecated binary model format, please consider using `json` or `ubj`. Model format will default to JSON in XGBoost 2.2 if not specified.\n",
      "[05:00:53] WARNING: /home/conda/feedstock_root/build_artifacts/xgboost-split_1707159369174/work/src/c_api/c_api.cc:1240: Saving into deprecated binary model format, please consider using `json` or `ubj`. Model format will default to JSON in XGBoost 2.2 if not specified.\n",
      "[06:19:04] WARNING: /home/conda/feedstock_root/build_artifacts/xgboost-split_1707159369174/work/src/c_api/c_api.cc:1240: Saving into deprecated binary model format, please consider using `json` or `ubj`. Model format will default to JSON in XGBoost 2.2 if not specified.\n",
      "[06:19:09] WARNING: /home/conda/feedstock_root/build_artifacts/xgboost-split_1707159369174/work/src/c_api/c_api.cc:1240: Saving into deprecated binary model format, please consider using `json` or `ubj`. Model format will default to JSON in XGBoost 2.2 if not specified.\n",
      "[06:19:13] WARNING: /home/conda/feedstock_root/build_artifacts/xgboost-split_1707159369174/work/src/c_api/c_api.cc:1240: Saving into deprecated binary model format, please consider using `json` or `ubj`. Model format will default to JSON in XGBoost 2.2 if not specified.\n",
      "[06:19:17] WARNING: /home/conda/feedstock_root/build_artifacts/xgboost-split_1707159369174/work/src/c_api/c_api.cc:1240: Saving into deprecated binary model format, please consider using `json` or `ubj`. Model format will default to JSON in XGBoost 2.2 if not specified.\n",
      "[06:19:20] WARNING: /home/conda/feedstock_root/build_artifacts/xgboost-split_1707159369174/work/src/c_api/c_api.cc:1240: Saving into deprecated binary model format, please consider using `json` or `ubj`. Model format will default to JSON in XGBoost 2.2 if not specified.\n",
      "[06:19:23] WARNING: /home/conda/feedstock_root/build_artifacts/xgboost-split_1707159369174/work/src/c_api/c_api.cc:1240: Saving into deprecated binary model format, please consider using `json` or `ubj`. Model format will default to JSON in XGBoost 2.2 if not specified.\n",
      "[06:19:26] WARNING: /home/conda/feedstock_root/build_artifacts/xgboost-split_1707159369174/work/src/c_api/c_api.cc:1240: Saving into deprecated binary model format, please consider using `json` or `ubj`. Model format will default to JSON in XGBoost 2.2 if not specified.\n",
      "[06:19:29] WARNING: /home/conda/feedstock_root/build_artifacts/xgboost-split_1707159369174/work/src/c_api/c_api.cc:1240: Saving into deprecated binary model format, please consider using `json` or `ubj`. Model format will default to JSON in XGBoost 2.2 if not specified.\n",
      "[06:19:32] WARNING: /home/conda/feedstock_root/build_artifacts/xgboost-split_1707159369174/work/src/c_api/c_api.cc:1240: Saving into deprecated binary model format, please consider using `json` or `ubj`. Model format will default to JSON in XGBoost 2.2 if not specified.\n",
      "[06:19:35] WARNING: /home/conda/feedstock_root/build_artifacts/xgboost-split_1707159369174/work/src/c_api/c_api.cc:1240: Saving into deprecated binary model format, please consider using `json` or `ubj`. Model format will default to JSON in XGBoost 2.2 if not specified.\n",
      "[06:19:38] WARNING: /home/conda/feedstock_root/build_artifacts/xgboost-split_1707159369174/work/src/c_api/c_api.cc:1240: Saving into deprecated binary model format, please consider using `json` or `ubj`. Model format will default to JSON in XGBoost 2.2 if not specified.\n",
      "[06:19:41] WARNING: /home/conda/feedstock_root/build_artifacts/xgboost-split_1707159369174/work/src/c_api/c_api.cc:1240: Saving into deprecated binary model format, please consider using `json` or `ubj`. Model format will default to JSON in XGBoost 2.2 if not specified.\n",
      "[06:19:44] WARNING: /home/conda/feedstock_root/build_artifacts/xgboost-split_1707159369174/work/src/c_api/c_api.cc:1240: Saving into deprecated binary model format, please consider using `json` or `ubj`. Model format will default to JSON in XGBoost 2.2 if not specified.\n",
      "[06:19:47] WARNING: /home/conda/feedstock_root/build_artifacts/xgboost-split_1707159369174/work/src/c_api/c_api.cc:1240: Saving into deprecated binary model format, please consider using `json` or `ubj`. Model format will default to JSON in XGBoost 2.2 if not specified.\n"
     ]
    },
    {
     "name": "stdout",
     "output_type": "stream",
     "text": [
      "Best Parameters: {'learning_rate': 0.02695857775062374, 'max_depth': 18, 'subsample': 0.7792430701549422, 'gamma': 0.9678417794479801, 'colsample_bytree': 0.6103295066148161, 'lambda': 5.7054891636700145, 'alpha': 8.899923630079032}\n"
     ]
    },
    {
     "name": "stderr",
     "output_type": "stream",
     "text": [
      "[06:19:50] WARNING: /home/conda/feedstock_root/build_artifacts/xgboost-split_1707159369174/work/src/c_api/c_api.cc:1240: Saving into deprecated binary model format, please consider using `json` or `ubj`. Model format will default to JSON in XGBoost 2.2 if not specified.\n"
     ]
    },
    {
     "name": "stdout",
     "output_type": "stream",
     "text": [
      "Results Summary: {'Match': 13, 'Mismatch': 1, 'No Evaluation': 1}\n",
      "Removing mismatch feature: H3K4me1\n",
      "Remaining Features: ['H2A.2', 'H2A.13', 'H3K4me3', 'H3K36me3', 'H2A.Z.11', 'expression_category', 'H3K27me3_log', 'H3K9Ac_log', 'cpg_percentage_log', 'H3K9K14Ac_log', 'H3Ac_log', 'chh_percentage_log', 'H4K20me1_log', 'H2A.W.7_log', 'H3K9me1_log', 'H2A.W.6_log', 'H2A.Z.9_log', 'H3K23me1_log', 'H3K9me2_log']\n"
     ]
    },
    {
     "name": "stderr",
     "output_type": "stream",
     "text": [
      "[06:19:53] WARNING: /home/conda/feedstock_root/build_artifacts/xgboost-split_1707159369174/work/src/c_api/c_api.cc:1240: Saving into deprecated binary model format, please consider using `json` or `ubj`. Model format will default to JSON in XGBoost 2.2 if not specified.\n",
      "[06:19:57] WARNING: /home/conda/feedstock_root/build_artifacts/xgboost-split_1707159369174/work/src/c_api/c_api.cc:1240: Saving into deprecated binary model format, please consider using `json` or `ubj`. Model format will default to JSON in XGBoost 2.2 if not specified.\n",
      "[06:20:01] WARNING: /home/conda/feedstock_root/build_artifacts/xgboost-split_1707159369174/work/src/c_api/c_api.cc:1240: Saving into deprecated binary model format, please consider using `json` or `ubj`. Model format will default to JSON in XGBoost 2.2 if not specified.\n",
      "[06:20:07] WARNING: /home/conda/feedstock_root/build_artifacts/xgboost-split_1707159369174/work/src/c_api/c_api.cc:1240: Saving into deprecated binary model format, please consider using `json` or `ubj`. Model format will default to JSON in XGBoost 2.2 if not specified.\n",
      "[06:20:19] WARNING: /home/conda/feedstock_root/build_artifacts/xgboost-split_1707159369174/work/src/c_api/c_api.cc:1240: Saving into deprecated binary model format, please consider using `json` or `ubj`. Model format will default to JSON in XGBoost 2.2 if not specified.\n",
      "[06:20:23] WARNING: /home/conda/feedstock_root/build_artifacts/xgboost-split_1707159369174/work/src/c_api/c_api.cc:1240: Saving into deprecated binary model format, please consider using `json` or `ubj`. Model format will default to JSON in XGBoost 2.2 if not specified.\n",
      "[06:20:29] WARNING: /home/conda/feedstock_root/build_artifacts/xgboost-split_1707159369174/work/src/c_api/c_api.cc:1240: Saving into deprecated binary model format, please consider using `json` or `ubj`. Model format will default to JSON in XGBoost 2.2 if not specified.\n",
      "[06:20:36] WARNING: /home/conda/feedstock_root/build_artifacts/xgboost-split_1707159369174/work/src/c_api/c_api.cc:1240: Saving into deprecated binary model format, please consider using `json` or `ubj`. Model format will default to JSON in XGBoost 2.2 if not specified.\n",
      "[06:20:39] WARNING: /home/conda/feedstock_root/build_artifacts/xgboost-split_1707159369174/work/src/c_api/c_api.cc:1240: Saving into deprecated binary model format, please consider using `json` or `ubj`. Model format will default to JSON in XGBoost 2.2 if not specified.\n",
      "[06:20:43] WARNING: /home/conda/feedstock_root/build_artifacts/xgboost-split_1707159369174/work/src/c_api/c_api.cc:1240: Saving into deprecated binary model format, please consider using `json` or `ubj`. Model format will default to JSON in XGBoost 2.2 if not specified.\n",
      "[06:20:46] WARNING: /home/conda/feedstock_root/build_artifacts/xgboost-split_1707159369174/work/src/c_api/c_api.cc:1240: Saving into deprecated binary model format, please consider using `json` or `ubj`. Model format will default to JSON in XGBoost 2.2 if not specified.\n",
      "[06:20:49] WARNING: /home/conda/feedstock_root/build_artifacts/xgboost-split_1707159369174/work/src/c_api/c_api.cc:1240: Saving into deprecated binary model format, please consider using `json` or `ubj`. Model format will default to JSON in XGBoost 2.2 if not specified.\n",
      "[06:20:52] WARNING: /home/conda/feedstock_root/build_artifacts/xgboost-split_1707159369174/work/src/c_api/c_api.cc:1240: Saving into deprecated binary model format, please consider using `json` or `ubj`. Model format will default to JSON in XGBoost 2.2 if not specified.\n",
      "[06:20:55] WARNING: /home/conda/feedstock_root/build_artifacts/xgboost-split_1707159369174/work/src/c_api/c_api.cc:1240: Saving into deprecated binary model format, please consider using `json` or `ubj`. Model format will default to JSON in XGBoost 2.2 if not specified.\n",
      "[06:20:59] WARNING: /home/conda/feedstock_root/build_artifacts/xgboost-split_1707159369174/work/src/c_api/c_api.cc:1240: Saving into deprecated binary model format, please consider using `json` or `ubj`. Model format will default to JSON in XGBoost 2.2 if not specified.\n",
      "[06:21:02] WARNING: /home/conda/feedstock_root/build_artifacts/xgboost-split_1707159369174/work/src/c_api/c_api.cc:1240: Saving into deprecated binary model format, please consider using `json` or `ubj`. Model format will default to JSON in XGBoost 2.2 if not specified.\n",
      "[06:21:04] WARNING: /home/conda/feedstock_root/build_artifacts/xgboost-split_1707159369174/work/src/c_api/c_api.cc:1240: Saving into deprecated binary model format, please consider using `json` or `ubj`. Model format will default to JSON in XGBoost 2.2 if not specified.\n",
      "[06:21:08] WARNING: /home/conda/feedstock_root/build_artifacts/xgboost-split_1707159369174/work/src/c_api/c_api.cc:1240: Saving into deprecated binary model format, please consider using `json` or `ubj`. Model format will default to JSON in XGBoost 2.2 if not specified.\n",
      "[06:21:11] WARNING: /home/conda/feedstock_root/build_artifacts/xgboost-split_1707159369174/work/src/c_api/c_api.cc:1240: Saving into deprecated binary model format, please consider using `json` or `ubj`. Model format will default to JSON in XGBoost 2.2 if not specified.\n",
      "[06:21:15] WARNING: /home/conda/feedstock_root/build_artifacts/xgboost-split_1707159369174/work/src/c_api/c_api.cc:1240: Saving into deprecated binary model format, please consider using `json` or `ubj`. Model format will default to JSON in XGBoost 2.2 if not specified.\n",
      "[06:21:21] WARNING: /home/conda/feedstock_root/build_artifacts/xgboost-split_1707159369174/work/src/c_api/c_api.cc:1240: Saving into deprecated binary model format, please consider using `json` or `ubj`. Model format will default to JSON in XGBoost 2.2 if not specified.\n",
      "[06:21:25] WARNING: /home/conda/feedstock_root/build_artifacts/xgboost-split_1707159369174/work/src/c_api/c_api.cc:1240: Saving into deprecated binary model format, please consider using `json` or `ubj`. Model format will default to JSON in XGBoost 2.2 if not specified.\n",
      "[06:21:30] WARNING: /home/conda/feedstock_root/build_artifacts/xgboost-split_1707159369174/work/src/c_api/c_api.cc:1240: Saving into deprecated binary model format, please consider using `json` or `ubj`. Model format will default to JSON in XGBoost 2.2 if not specified.\n",
      "[06:21:34] WARNING: /home/conda/feedstock_root/build_artifacts/xgboost-split_1707159369174/work/src/c_api/c_api.cc:1240: Saving into deprecated binary model format, please consider using `json` or `ubj`. Model format will default to JSON in XGBoost 2.2 if not specified.\n",
      "[06:21:40] WARNING: /home/conda/feedstock_root/build_artifacts/xgboost-split_1707159369174/work/src/c_api/c_api.cc:1240: Saving into deprecated binary model format, please consider using `json` or `ubj`. Model format will default to JSON in XGBoost 2.2 if not specified.\n",
      "[06:21:45] WARNING: /home/conda/feedstock_root/build_artifacts/xgboost-split_1707159369174/work/src/c_api/c_api.cc:1240: Saving into deprecated binary model format, please consider using `json` or `ubj`. Model format will default to JSON in XGBoost 2.2 if not specified.\n",
      "[06:21:49] WARNING: /home/conda/feedstock_root/build_artifacts/xgboost-split_1707159369174/work/src/c_api/c_api.cc:1240: Saving into deprecated binary model format, please consider using `json` or `ubj`. Model format will default to JSON in XGBoost 2.2 if not specified.\n",
      "[06:21:53] WARNING: /home/conda/feedstock_root/build_artifacts/xgboost-split_1707159369174/work/src/c_api/c_api.cc:1240: Saving into deprecated binary model format, please consider using `json` or `ubj`. Model format will default to JSON in XGBoost 2.2 if not specified.\n",
      "[06:21:57] WARNING: /home/conda/feedstock_root/build_artifacts/xgboost-split_1707159369174/work/src/c_api/c_api.cc:1240: Saving into deprecated binary model format, please consider using `json` or `ubj`. Model format will default to JSON in XGBoost 2.2 if not specified.\n",
      "[06:22:01] WARNING: /home/conda/feedstock_root/build_artifacts/xgboost-split_1707159369174/work/src/c_api/c_api.cc:1240: Saving into deprecated binary model format, please consider using `json` or `ubj`. Model format will default to JSON in XGBoost 2.2 if not specified.\n",
      "[06:22:06] WARNING: /home/conda/feedstock_root/build_artifacts/xgboost-split_1707159369174/work/src/c_api/c_api.cc:1240: Saving into deprecated binary model format, please consider using `json` or `ubj`. Model format will default to JSON in XGBoost 2.2 if not specified.\n",
      "[06:22:11] WARNING: /home/conda/feedstock_root/build_artifacts/xgboost-split_1707159369174/work/src/c_api/c_api.cc:1240: Saving into deprecated binary model format, please consider using `json` or `ubj`. Model format will default to JSON in XGBoost 2.2 if not specified.\n",
      "[06:22:16] WARNING: /home/conda/feedstock_root/build_artifacts/xgboost-split_1707159369174/work/src/c_api/c_api.cc:1240: Saving into deprecated binary model format, please consider using `json` or `ubj`. Model format will default to JSON in XGBoost 2.2 if not specified.\n",
      "[06:22:20] WARNING: /home/conda/feedstock_root/build_artifacts/xgboost-split_1707159369174/work/src/c_api/c_api.cc:1240: Saving into deprecated binary model format, please consider using `json` or `ubj`. Model format will default to JSON in XGBoost 2.2 if not specified.\n",
      "[06:22:26] WARNING: /home/conda/feedstock_root/build_artifacts/xgboost-split_1707159369174/work/src/c_api/c_api.cc:1240: Saving into deprecated binary model format, please consider using `json` or `ubj`. Model format will default to JSON in XGBoost 2.2 if not specified.\n",
      "[06:22:31] WARNING: /home/conda/feedstock_root/build_artifacts/xgboost-split_1707159369174/work/src/c_api/c_api.cc:1240: Saving into deprecated binary model format, please consider using `json` or `ubj`. Model format will default to JSON in XGBoost 2.2 if not specified.\n",
      "[06:22:36] WARNING: /home/conda/feedstock_root/build_artifacts/xgboost-split_1707159369174/work/src/c_api/c_api.cc:1240: Saving into deprecated binary model format, please consider using `json` or `ubj`. Model format will default to JSON in XGBoost 2.2 if not specified.\n",
      "[06:22:44] WARNING: /home/conda/feedstock_root/build_artifacts/xgboost-split_1707159369174/work/src/c_api/c_api.cc:1240: Saving into deprecated binary model format, please consider using `json` or `ubj`. Model format will default to JSON in XGBoost 2.2 if not specified.\n",
      "[06:22:49] WARNING: /home/conda/feedstock_root/build_artifacts/xgboost-split_1707159369174/work/src/c_api/c_api.cc:1240: Saving into deprecated binary model format, please consider using `json` or `ubj`. Model format will default to JSON in XGBoost 2.2 if not specified.\n",
      "[06:22:53] WARNING: /home/conda/feedstock_root/build_artifacts/xgboost-split_1707159369174/work/src/c_api/c_api.cc:1240: Saving into deprecated binary model format, please consider using `json` or `ubj`. Model format will default to JSON in XGBoost 2.2 if not specified.\n"
     ]
    },
    {
     "name": "stdout",
     "output_type": "stream",
     "text": [
      "Best Parameters: {'learning_rate': 0.020098820660664533, 'max_depth': 25, 'subsample': 0.6184120609676036, 'gamma': 0.553743890027711, 'colsample_bytree': 0.6876013419899516, 'lambda': 5.910807748681368, 'alpha': 9.306192157429383}\n"
     ]
    },
    {
     "name": "stderr",
     "output_type": "stream",
     "text": [
      "[06:22:58] WARNING: /home/conda/feedstock_root/build_artifacts/xgboost-split_1707159369174/work/src/c_api/c_api.cc:1240: Saving into deprecated binary model format, please consider using `json` or `ubj`. Model format will default to JSON in XGBoost 2.2 if not specified.\n"
     ]
    },
    {
     "name": "stdout",
     "output_type": "stream",
     "text": [
      "Results Summary: {'Match': 13, 'No Evaluation': 1}\n",
      "\n",
      "--- Evaluating model with feature chg_percentage_log added back ---\n",
      "\n"
     ]
    },
    {
     "name": "stderr",
     "output_type": "stream",
     "text": [
      "[06:23:01] WARNING: /home/conda/feedstock_root/build_artifacts/xgboost-split_1707159369174/work/src/c_api/c_api.cc:1240: Saving into deprecated binary model format, please consider using `json` or `ubj`. Model format will default to JSON in XGBoost 2.2 if not specified.\n"
     ]
    },
    {
     "name": "stdout",
     "output_type": "stream",
     "text": [
      "Results Summary: {'Match': 14, 'No Evaluation': 1}\n",
      "Feature: chg_percentage_log, Known Function: Repressive, Result: Match\n",
      "\n",
      "--- Performing LOO for feature H2A.W.7_log ---\n",
      "\n",
      "Remaining Features: ['H2A.2', 'H3K4me1', 'H2A.13', 'H3K4me3', 'H3K36me3', 'H4K5Ac', 'H2A.Z.11', 'expression_category', 'H3K27me3_log', 'H3K9Ac_log', 'cpg_percentage_log', 'H3K9K14Ac_log', 'H3Ac_log', 'chh_percentage_log', 'H4K20me1_log', 'chg_percentage_log', 'H3K9me1_log', 'H2A.W.6_log', 'H2A.Z.9_log', 'H3K23me1_log', 'H3K9me2_log']\n"
     ]
    },
    {
     "name": "stderr",
     "output_type": "stream",
     "text": [
      "[06:23:04] WARNING: /home/conda/feedstock_root/build_artifacts/xgboost-split_1707159369174/work/src/c_api/c_api.cc:1240: Saving into deprecated binary model format, please consider using `json` or `ubj`. Model format will default to JSON in XGBoost 2.2 if not specified.\n",
      "[06:23:07] WARNING: /home/conda/feedstock_root/build_artifacts/xgboost-split_1707159369174/work/src/c_api/c_api.cc:1240: Saving into deprecated binary model format, please consider using `json` or `ubj`. Model format will default to JSON in XGBoost 2.2 if not specified.\n",
      "[06:23:09] WARNING: /home/conda/feedstock_root/build_artifacts/xgboost-split_1707159369174/work/src/c_api/c_api.cc:1240: Saving into deprecated binary model format, please consider using `json` or `ubj`. Model format will default to JSON in XGBoost 2.2 if not specified.\n",
      "[06:23:11] WARNING: /home/conda/feedstock_root/build_artifacts/xgboost-split_1707159369174/work/src/c_api/c_api.cc:1240: Saving into deprecated binary model format, please consider using `json` or `ubj`. Model format will default to JSON in XGBoost 2.2 if not specified.\n",
      "[06:23:16] WARNING: /home/conda/feedstock_root/build_artifacts/xgboost-split_1707159369174/work/src/c_api/c_api.cc:1240: Saving into deprecated binary model format, please consider using `json` or `ubj`. Model format will default to JSON in XGBoost 2.2 if not specified.\n",
      "[06:23:22] WARNING: /home/conda/feedstock_root/build_artifacts/xgboost-split_1707159369174/work/src/c_api/c_api.cc:1240: Saving into deprecated binary model format, please consider using `json` or `ubj`. Model format will default to JSON in XGBoost 2.2 if not specified.\n",
      "[06:23:28] WARNING: /home/conda/feedstock_root/build_artifacts/xgboost-split_1707159369174/work/src/c_api/c_api.cc:1240: Saving into deprecated binary model format, please consider using `json` or `ubj`. Model format will default to JSON in XGBoost 2.2 if not specified.\n",
      "[06:23:32] WARNING: /home/conda/feedstock_root/build_artifacts/xgboost-split_1707159369174/work/src/c_api/c_api.cc:1240: Saving into deprecated binary model format, please consider using `json` or `ubj`. Model format will default to JSON in XGBoost 2.2 if not specified.\n",
      "[06:23:36] WARNING: /home/conda/feedstock_root/build_artifacts/xgboost-split_1707159369174/work/src/c_api/c_api.cc:1240: Saving into deprecated binary model format, please consider using `json` or `ubj`. Model format will default to JSON in XGBoost 2.2 if not specified.\n",
      "[06:23:41] WARNING: /home/conda/feedstock_root/build_artifacts/xgboost-split_1707159369174/work/src/c_api/c_api.cc:1240: Saving into deprecated binary model format, please consider using `json` or `ubj`. Model format will default to JSON in XGBoost 2.2 if not specified.\n",
      "[06:23:45] WARNING: /home/conda/feedstock_root/build_artifacts/xgboost-split_1707159369174/work/src/c_api/c_api.cc:1240: Saving into deprecated binary model format, please consider using `json` or `ubj`. Model format will default to JSON in XGBoost 2.2 if not specified.\n",
      "[06:23:48] WARNING: /home/conda/feedstock_root/build_artifacts/xgboost-split_1707159369174/work/src/c_api/c_api.cc:1240: Saving into deprecated binary model format, please consider using `json` or `ubj`. Model format will default to JSON in XGBoost 2.2 if not specified.\n",
      "[06:23:51] WARNING: /home/conda/feedstock_root/build_artifacts/xgboost-split_1707159369174/work/src/c_api/c_api.cc:1240: Saving into deprecated binary model format, please consider using `json` or `ubj`. Model format will default to JSON in XGBoost 2.2 if not specified.\n",
      "[06:23:55] WARNING: /home/conda/feedstock_root/build_artifacts/xgboost-split_1707159369174/work/src/c_api/c_api.cc:1240: Saving into deprecated binary model format, please consider using `json` or `ubj`. Model format will default to JSON in XGBoost 2.2 if not specified.\n",
      "[06:23:59] WARNING: /home/conda/feedstock_root/build_artifacts/xgboost-split_1707159369174/work/src/c_api/c_api.cc:1240: Saving into deprecated binary model format, please consider using `json` or `ubj`. Model format will default to JSON in XGBoost 2.2 if not specified.\n",
      "[06:24:03] WARNING: /home/conda/feedstock_root/build_artifacts/xgboost-split_1707159369174/work/src/c_api/c_api.cc:1240: Saving into deprecated binary model format, please consider using `json` or `ubj`. Model format will default to JSON in XGBoost 2.2 if not specified.\n",
      "[06:24:06] WARNING: /home/conda/feedstock_root/build_artifacts/xgboost-split_1707159369174/work/src/c_api/c_api.cc:1240: Saving into deprecated binary model format, please consider using `json` or `ubj`. Model format will default to JSON in XGBoost 2.2 if not specified.\n",
      "[06:24:09] WARNING: /home/conda/feedstock_root/build_artifacts/xgboost-split_1707159369174/work/src/c_api/c_api.cc:1240: Saving into deprecated binary model format, please consider using `json` or `ubj`. Model format will default to JSON in XGBoost 2.2 if not specified.\n",
      "[06:24:14] WARNING: /home/conda/feedstock_root/build_artifacts/xgboost-split_1707159369174/work/src/c_api/c_api.cc:1240: Saving into deprecated binary model format, please consider using `json` or `ubj`. Model format will default to JSON in XGBoost 2.2 if not specified.\n",
      "[06:24:19] WARNING: /home/conda/feedstock_root/build_artifacts/xgboost-split_1707159369174/work/src/c_api/c_api.cc:1240: Saving into deprecated binary model format, please consider using `json` or `ubj`. Model format will default to JSON in XGBoost 2.2 if not specified.\n",
      "[06:24:24] WARNING: /home/conda/feedstock_root/build_artifacts/xgboost-split_1707159369174/work/src/c_api/c_api.cc:1240: Saving into deprecated binary model format, please consider using `json` or `ubj`. Model format will default to JSON in XGBoost 2.2 if not specified.\n",
      "[06:24:29] WARNING: /home/conda/feedstock_root/build_artifacts/xgboost-split_1707159369174/work/src/c_api/c_api.cc:1240: Saving into deprecated binary model format, please consider using `json` or `ubj`. Model format will default to JSON in XGBoost 2.2 if not specified.\n",
      "[06:24:33] WARNING: /home/conda/feedstock_root/build_artifacts/xgboost-split_1707159369174/work/src/c_api/c_api.cc:1240: Saving into deprecated binary model format, please consider using `json` or `ubj`. Model format will default to JSON in XGBoost 2.2 if not specified.\n",
      "[06:24:38] WARNING: /home/conda/feedstock_root/build_artifacts/xgboost-split_1707159369174/work/src/c_api/c_api.cc:1240: Saving into deprecated binary model format, please consider using `json` or `ubj`. Model format will default to JSON in XGBoost 2.2 if not specified.\n",
      "[06:24:43] WARNING: /home/conda/feedstock_root/build_artifacts/xgboost-split_1707159369174/work/src/c_api/c_api.cc:1240: Saving into deprecated binary model format, please consider using `json` or `ubj`. Model format will default to JSON in XGBoost 2.2 if not specified.\n",
      "[06:24:47] WARNING: /home/conda/feedstock_root/build_artifacts/xgboost-split_1707159369174/work/src/c_api/c_api.cc:1240: Saving into deprecated binary model format, please consider using `json` or `ubj`. Model format will default to JSON in XGBoost 2.2 if not specified.\n",
      "[06:24:53] WARNING: /home/conda/feedstock_root/build_artifacts/xgboost-split_1707159369174/work/src/c_api/c_api.cc:1240: Saving into deprecated binary model format, please consider using `json` or `ubj`. Model format will default to JSON in XGBoost 2.2 if not specified.\n",
      "[06:24:59] WARNING: /home/conda/feedstock_root/build_artifacts/xgboost-split_1707159369174/work/src/c_api/c_api.cc:1240: Saving into deprecated binary model format, please consider using `json` or `ubj`. Model format will default to JSON in XGBoost 2.2 if not specified.\n",
      "[06:25:06] WARNING: /home/conda/feedstock_root/build_artifacts/xgboost-split_1707159369174/work/src/c_api/c_api.cc:1240: Saving into deprecated binary model format, please consider using `json` or `ubj`. Model format will default to JSON in XGBoost 2.2 if not specified.\n",
      "[06:25:10] WARNING: /home/conda/feedstock_root/build_artifacts/xgboost-split_1707159369174/work/src/c_api/c_api.cc:1240: Saving into deprecated binary model format, please consider using `json` or `ubj`. Model format will default to JSON in XGBoost 2.2 if not specified.\n",
      "[06:25:13] WARNING: /home/conda/feedstock_root/build_artifacts/xgboost-split_1707159369174/work/src/c_api/c_api.cc:1240: Saving into deprecated binary model format, please consider using `json` or `ubj`. Model format will default to JSON in XGBoost 2.2 if not specified.\n",
      "[06:25:17] WARNING: /home/conda/feedstock_root/build_artifacts/xgboost-split_1707159369174/work/src/c_api/c_api.cc:1240: Saving into deprecated binary model format, please consider using `json` or `ubj`. Model format will default to JSON in XGBoost 2.2 if not specified.\n",
      "[06:25:20] WARNING: /home/conda/feedstock_root/build_artifacts/xgboost-split_1707159369174/work/src/c_api/c_api.cc:1240: Saving into deprecated binary model format, please consider using `json` or `ubj`. Model format will default to JSON in XGBoost 2.2 if not specified.\n",
      "[06:25:22] WARNING: /home/conda/feedstock_root/build_artifacts/xgboost-split_1707159369174/work/src/c_api/c_api.cc:1240: Saving into deprecated binary model format, please consider using `json` or `ubj`. Model format will default to JSON in XGBoost 2.2 if not specified.\n",
      "[06:25:25] WARNING: /home/conda/feedstock_root/build_artifacts/xgboost-split_1707159369174/work/src/c_api/c_api.cc:1240: Saving into deprecated binary model format, please consider using `json` or `ubj`. Model format will default to JSON in XGBoost 2.2 if not specified.\n",
      "[06:25:27] WARNING: /home/conda/feedstock_root/build_artifacts/xgboost-split_1707159369174/work/src/c_api/c_api.cc:1240: Saving into deprecated binary model format, please consider using `json` or `ubj`. Model format will default to JSON in XGBoost 2.2 if not specified.\n",
      "[06:25:30] WARNING: /home/conda/feedstock_root/build_artifacts/xgboost-split_1707159369174/work/src/c_api/c_api.cc:1240: Saving into deprecated binary model format, please consider using `json` or `ubj`. Model format will default to JSON in XGBoost 2.2 if not specified.\n",
      "[06:25:33] WARNING: /home/conda/feedstock_root/build_artifacts/xgboost-split_1707159369174/work/src/c_api/c_api.cc:1240: Saving into deprecated binary model format, please consider using `json` or `ubj`. Model format will default to JSON in XGBoost 2.2 if not specified.\n",
      "[06:25:37] WARNING: /home/conda/feedstock_root/build_artifacts/xgboost-split_1707159369174/work/src/c_api/c_api.cc:1240: Saving into deprecated binary model format, please consider using `json` or `ubj`. Model format will default to JSON in XGBoost 2.2 if not specified.\n",
      "[06:25:39] WARNING: /home/conda/feedstock_root/build_artifacts/xgboost-split_1707159369174/work/src/c_api/c_api.cc:1240: Saving into deprecated binary model format, please consider using `json` or `ubj`. Model format will default to JSON in XGBoost 2.2 if not specified.\n"
     ]
    },
    {
     "name": "stdout",
     "output_type": "stream",
     "text": [
      "Best Parameters: {'learning_rate': 0.03446282198453966, 'max_depth': 24, 'subsample': 0.5767262079007651, 'gamma': 0.5378776108825678, 'colsample_bytree': 0.72437406440675, 'lambda': 7.795029544093098, 'alpha': 11.7204139505197}\n"
     ]
    },
    {
     "name": "stderr",
     "output_type": "stream",
     "text": [
      "[06:25:42] WARNING: /home/conda/feedstock_root/build_artifacts/xgboost-split_1707159369174/work/src/c_api/c_api.cc:1240: Saving into deprecated binary model format, please consider using `json` or `ubj`. Model format will default to JSON in XGBoost 2.2 if not specified.\n"
     ]
    },
    {
     "name": "stdout",
     "output_type": "stream",
     "text": [
      "Results Summary: {'Match': 13, 'Mismatch': 2, 'No Evaluation': 1}\n",
      "Removing mismatch feature: H4K5Ac\n",
      "Remaining Features: ['H2A.2', 'H3K4me1', 'H2A.13', 'H3K4me3', 'H3K36me3', 'H2A.Z.11', 'expression_category', 'H3K27me3_log', 'H3K9Ac_log', 'cpg_percentage_log', 'H3K9K14Ac_log', 'H3Ac_log', 'chh_percentage_log', 'H4K20me1_log', 'chg_percentage_log', 'H3K9me1_log', 'H2A.W.6_log', 'H2A.Z.9_log', 'H3K23me1_log', 'H3K9me2_log']\n"
     ]
    },
    {
     "name": "stderr",
     "output_type": "stream",
     "text": [
      "[06:25:45] WARNING: /home/conda/feedstock_root/build_artifacts/xgboost-split_1707159369174/work/src/c_api/c_api.cc:1240: Saving into deprecated binary model format, please consider using `json` or `ubj`. Model format will default to JSON in XGBoost 2.2 if not specified.\n",
      "[06:25:51] WARNING: /home/conda/feedstock_root/build_artifacts/xgboost-split_1707159369174/work/src/c_api/c_api.cc:1240: Saving into deprecated binary model format, please consider using `json` or `ubj`. Model format will default to JSON in XGBoost 2.2 if not specified.\n",
      "[06:25:56] WARNING: /home/conda/feedstock_root/build_artifacts/xgboost-split_1707159369174/work/src/c_api/c_api.cc:1240: Saving into deprecated binary model format, please consider using `json` or `ubj`. Model format will default to JSON in XGBoost 2.2 if not specified.\n",
      "[06:25:59] WARNING: /home/conda/feedstock_root/build_artifacts/xgboost-split_1707159369174/work/src/c_api/c_api.cc:1240: Saving into deprecated binary model format, please consider using `json` or `ubj`. Model format will default to JSON in XGBoost 2.2 if not specified.\n",
      "[06:26:03] WARNING: /home/conda/feedstock_root/build_artifacts/xgboost-split_1707159369174/work/src/c_api/c_api.cc:1240: Saving into deprecated binary model format, please consider using `json` or `ubj`. Model format will default to JSON in XGBoost 2.2 if not specified.\n",
      "[06:26:06] WARNING: /home/conda/feedstock_root/build_artifacts/xgboost-split_1707159369174/work/src/c_api/c_api.cc:1240: Saving into deprecated binary model format, please consider using `json` or `ubj`. Model format will default to JSON in XGBoost 2.2 if not specified.\n",
      "[06:26:10] WARNING: /home/conda/feedstock_root/build_artifacts/xgboost-split_1707159369174/work/src/c_api/c_api.cc:1240: Saving into deprecated binary model format, please consider using `json` or `ubj`. Model format will default to JSON in XGBoost 2.2 if not specified.\n",
      "[06:26:21] WARNING: /home/conda/feedstock_root/build_artifacts/xgboost-split_1707159369174/work/src/c_api/c_api.cc:1240: Saving into deprecated binary model format, please consider using `json` or `ubj`. Model format will default to JSON in XGBoost 2.2 if not specified.\n",
      "[06:26:29] WARNING: /home/conda/feedstock_root/build_artifacts/xgboost-split_1707159369174/work/src/c_api/c_api.cc:1240: Saving into deprecated binary model format, please consider using `json` or `ubj`. Model format will default to JSON in XGBoost 2.2 if not specified.\n",
      "[06:26:32] WARNING: /home/conda/feedstock_root/build_artifacts/xgboost-split_1707159369174/work/src/c_api/c_api.cc:1240: Saving into deprecated binary model format, please consider using `json` or `ubj`. Model format will default to JSON in XGBoost 2.2 if not specified.\n",
      "[06:26:34] WARNING: /home/conda/feedstock_root/build_artifacts/xgboost-split_1707159369174/work/src/c_api/c_api.cc:1240: Saving into deprecated binary model format, please consider using `json` or `ubj`. Model format will default to JSON in XGBoost 2.2 if not specified.\n",
      "[06:26:37] WARNING: /home/conda/feedstock_root/build_artifacts/xgboost-split_1707159369174/work/src/c_api/c_api.cc:1240: Saving into deprecated binary model format, please consider using `json` or `ubj`. Model format will default to JSON in XGBoost 2.2 if not specified.\n",
      "[06:26:39] WARNING: /home/conda/feedstock_root/build_artifacts/xgboost-split_1707159369174/work/src/c_api/c_api.cc:1240: Saving into deprecated binary model format, please consider using `json` or `ubj`. Model format will default to JSON in XGBoost 2.2 if not specified.\n",
      "[06:26:43] WARNING: /home/conda/feedstock_root/build_artifacts/xgboost-split_1707159369174/work/src/c_api/c_api.cc:1240: Saving into deprecated binary model format, please consider using `json` or `ubj`. Model format will default to JSON in XGBoost 2.2 if not specified.\n",
      "[06:26:46] WARNING: /home/conda/feedstock_root/build_artifacts/xgboost-split_1707159369174/work/src/c_api/c_api.cc:1240: Saving into deprecated binary model format, please consider using `json` or `ubj`. Model format will default to JSON in XGBoost 2.2 if not specified.\n",
      "[06:26:50] WARNING: /home/conda/feedstock_root/build_artifacts/xgboost-split_1707159369174/work/src/c_api/c_api.cc:1240: Saving into deprecated binary model format, please consider using `json` or `ubj`. Model format will default to JSON in XGBoost 2.2 if not specified.\n",
      "[06:26:54] WARNING: /home/conda/feedstock_root/build_artifacts/xgboost-split_1707159369174/work/src/c_api/c_api.cc:1240: Saving into deprecated binary model format, please consider using `json` or `ubj`. Model format will default to JSON in XGBoost 2.2 if not specified.\n",
      "[06:26:56] WARNING: /home/conda/feedstock_root/build_artifacts/xgboost-split_1707159369174/work/src/c_api/c_api.cc:1240: Saving into deprecated binary model format, please consider using `json` or `ubj`. Model format will default to JSON in XGBoost 2.2 if not specified.\n",
      "[06:26:58] WARNING: /home/conda/feedstock_root/build_artifacts/xgboost-split_1707159369174/work/src/c_api/c_api.cc:1240: Saving into deprecated binary model format, please consider using `json` or `ubj`. Model format will default to JSON in XGBoost 2.2 if not specified.\n",
      "[06:27:01] WARNING: /home/conda/feedstock_root/build_artifacts/xgboost-split_1707159369174/work/src/c_api/c_api.cc:1240: Saving into deprecated binary model format, please consider using `json` or `ubj`. Model format will default to JSON in XGBoost 2.2 if not specified.\n",
      "[06:27:05] WARNING: /home/conda/feedstock_root/build_artifacts/xgboost-split_1707159369174/work/src/c_api/c_api.cc:1240: Saving into deprecated binary model format, please consider using `json` or `ubj`. Model format will default to JSON in XGBoost 2.2 if not specified.\n",
      "[06:27:07] WARNING: /home/conda/feedstock_root/build_artifacts/xgboost-split_1707159369174/work/src/c_api/c_api.cc:1240: Saving into deprecated binary model format, please consider using `json` or `ubj`. Model format will default to JSON in XGBoost 2.2 if not specified.\n",
      "[06:27:10] WARNING: /home/conda/feedstock_root/build_artifacts/xgboost-split_1707159369174/work/src/c_api/c_api.cc:1240: Saving into deprecated binary model format, please consider using `json` or `ubj`. Model format will default to JSON in XGBoost 2.2 if not specified.\n",
      "[06:27:14] WARNING: /home/conda/feedstock_root/build_artifacts/xgboost-split_1707159369174/work/src/c_api/c_api.cc:1240: Saving into deprecated binary model format, please consider using `json` or `ubj`. Model format will default to JSON in XGBoost 2.2 if not specified.\n",
      "[06:27:17] WARNING: /home/conda/feedstock_root/build_artifacts/xgboost-split_1707159369174/work/src/c_api/c_api.cc:1240: Saving into deprecated binary model format, please consider using `json` or `ubj`. Model format will default to JSON in XGBoost 2.2 if not specified.\n",
      "[06:27:21] WARNING: /home/conda/feedstock_root/build_artifacts/xgboost-split_1707159369174/work/src/c_api/c_api.cc:1240: Saving into deprecated binary model format, please consider using `json` or `ubj`. Model format will default to JSON in XGBoost 2.2 if not specified.\n",
      "[06:27:24] WARNING: /home/conda/feedstock_root/build_artifacts/xgboost-split_1707159369174/work/src/c_api/c_api.cc:1240: Saving into deprecated binary model format, please consider using `json` or `ubj`. Model format will default to JSON in XGBoost 2.2 if not specified.\n",
      "[06:27:27] WARNING: /home/conda/feedstock_root/build_artifacts/xgboost-split_1707159369174/work/src/c_api/c_api.cc:1240: Saving into deprecated binary model format, please consider using `json` or `ubj`. Model format will default to JSON in XGBoost 2.2 if not specified.\n",
      "[06:27:30] WARNING: /home/conda/feedstock_root/build_artifacts/xgboost-split_1707159369174/work/src/c_api/c_api.cc:1240: Saving into deprecated binary model format, please consider using `json` or `ubj`. Model format will default to JSON in XGBoost 2.2 if not specified.\n",
      "[06:27:33] WARNING: /home/conda/feedstock_root/build_artifacts/xgboost-split_1707159369174/work/src/c_api/c_api.cc:1240: Saving into deprecated binary model format, please consider using `json` or `ubj`. Model format will default to JSON in XGBoost 2.2 if not specified.\n",
      "[06:27:38] WARNING: /home/conda/feedstock_root/build_artifacts/xgboost-split_1707159369174/work/src/c_api/c_api.cc:1240: Saving into deprecated binary model format, please consider using `json` or `ubj`. Model format will default to JSON in XGBoost 2.2 if not specified.\n",
      "[06:27:41] WARNING: /home/conda/feedstock_root/build_artifacts/xgboost-split_1707159369174/work/src/c_api/c_api.cc:1240: Saving into deprecated binary model format, please consider using `json` or `ubj`. Model format will default to JSON in XGBoost 2.2 if not specified.\n",
      "[06:27:45] WARNING: /home/conda/feedstock_root/build_artifacts/xgboost-split_1707159369174/work/src/c_api/c_api.cc:1240: Saving into deprecated binary model format, please consider using `json` or `ubj`. Model format will default to JSON in XGBoost 2.2 if not specified.\n",
      "[06:27:51] WARNING: /home/conda/feedstock_root/build_artifacts/xgboost-split_1707159369174/work/src/c_api/c_api.cc:1240: Saving into deprecated binary model format, please consider using `json` or `ubj`. Model format will default to JSON in XGBoost 2.2 if not specified.\n",
      "[06:27:56] WARNING: /home/conda/feedstock_root/build_artifacts/xgboost-split_1707159369174/work/src/c_api/c_api.cc:1240: Saving into deprecated binary model format, please consider using `json` or `ubj`. Model format will default to JSON in XGBoost 2.2 if not specified.\n",
      "[06:28:00] WARNING: /home/conda/feedstock_root/build_artifacts/xgboost-split_1707159369174/work/src/c_api/c_api.cc:1240: Saving into deprecated binary model format, please consider using `json` or `ubj`. Model format will default to JSON in XGBoost 2.2 if not specified.\n",
      "[06:28:05] WARNING: /home/conda/feedstock_root/build_artifacts/xgboost-split_1707159369174/work/src/c_api/c_api.cc:1240: Saving into deprecated binary model format, please consider using `json` or `ubj`. Model format will default to JSON in XGBoost 2.2 if not specified.\n",
      "[06:28:10] WARNING: /home/conda/feedstock_root/build_artifacts/xgboost-split_1707159369174/work/src/c_api/c_api.cc:1240: Saving into deprecated binary model format, please consider using `json` or `ubj`. Model format will default to JSON in XGBoost 2.2 if not specified.\n",
      "[06:28:16] WARNING: /home/conda/feedstock_root/build_artifacts/xgboost-split_1707159369174/work/src/c_api/c_api.cc:1240: Saving into deprecated binary model format, please consider using `json` or `ubj`. Model format will default to JSON in XGBoost 2.2 if not specified.\n",
      "[06:28:23] WARNING: /home/conda/feedstock_root/build_artifacts/xgboost-split_1707159369174/work/src/c_api/c_api.cc:1240: Saving into deprecated binary model format, please consider using `json` or `ubj`. Model format will default to JSON in XGBoost 2.2 if not specified.\n"
     ]
    },
    {
     "name": "stdout",
     "output_type": "stream",
     "text": [
      "Best Parameters: {'learning_rate': 0.04447096626933065, 'max_depth': 24, 'subsample': 0.6928953674216588, 'gamma': 0.13507997605102556, 'colsample_bytree': 0.73000589165361, 'lambda': 10.979079284565902, 'alpha': 8.870099382391945}\n"
     ]
    },
    {
     "name": "stderr",
     "output_type": "stream",
     "text": [
      "[06:28:29] WARNING: /home/conda/feedstock_root/build_artifacts/xgboost-split_1707159369174/work/src/c_api/c_api.cc:1240: Saving into deprecated binary model format, please consider using `json` or `ubj`. Model format will default to JSON in XGBoost 2.2 if not specified.\n"
     ]
    },
    {
     "name": "stdout",
     "output_type": "stream",
     "text": [
      "Results Summary: {'Match': 13, 'Mismatch': 1, 'No Evaluation': 1}\n",
      "Removing mismatch feature: H3K4me1\n",
      "Remaining Features: ['H2A.2', 'H2A.13', 'H3K4me3', 'H3K36me3', 'H2A.Z.11', 'expression_category', 'H3K27me3_log', 'H3K9Ac_log', 'cpg_percentage_log', 'H3K9K14Ac_log', 'H3Ac_log', 'chh_percentage_log', 'H4K20me1_log', 'chg_percentage_log', 'H3K9me1_log', 'H2A.W.6_log', 'H2A.Z.9_log', 'H3K23me1_log', 'H3K9me2_log']\n"
     ]
    },
    {
     "name": "stderr",
     "output_type": "stream",
     "text": [
      "[06:28:32] WARNING: /home/conda/feedstock_root/build_artifacts/xgboost-split_1707159369174/work/src/c_api/c_api.cc:1240: Saving into deprecated binary model format, please consider using `json` or `ubj`. Model format will default to JSON in XGBoost 2.2 if not specified.\n",
      "[06:28:36] WARNING: /home/conda/feedstock_root/build_artifacts/xgboost-split_1707159369174/work/src/c_api/c_api.cc:1240: Saving into deprecated binary model format, please consider using `json` or `ubj`. Model format will default to JSON in XGBoost 2.2 if not specified.\n",
      "[06:28:39] WARNING: /home/conda/feedstock_root/build_artifacts/xgboost-split_1707159369174/work/src/c_api/c_api.cc:1240: Saving into deprecated binary model format, please consider using `json` or `ubj`. Model format will default to JSON in XGBoost 2.2 if not specified.\n",
      "[06:28:41] WARNING: /home/conda/feedstock_root/build_artifacts/xgboost-split_1707159369174/work/src/c_api/c_api.cc:1240: Saving into deprecated binary model format, please consider using `json` or `ubj`. Model format will default to JSON in XGBoost 2.2 if not specified.\n",
      "[06:28:45] WARNING: /home/conda/feedstock_root/build_artifacts/xgboost-split_1707159369174/work/src/c_api/c_api.cc:1240: Saving into deprecated binary model format, please consider using `json` or `ubj`. Model format will default to JSON in XGBoost 2.2 if not specified.\n",
      "[06:28:49] WARNING: /home/conda/feedstock_root/build_artifacts/xgboost-split_1707159369174/work/src/c_api/c_api.cc:1240: Saving into deprecated binary model format, please consider using `json` or `ubj`. Model format will default to JSON in XGBoost 2.2 if not specified.\n",
      "[06:28:52] WARNING: /home/conda/feedstock_root/build_artifacts/xgboost-split_1707159369174/work/src/c_api/c_api.cc:1240: Saving into deprecated binary model format, please consider using `json` or `ubj`. Model format will default to JSON in XGBoost 2.2 if not specified.\n",
      "[06:28:56] WARNING: /home/conda/feedstock_root/build_artifacts/xgboost-split_1707159369174/work/src/c_api/c_api.cc:1240: Saving into deprecated binary model format, please consider using `json` or `ubj`. Model format will default to JSON in XGBoost 2.2 if not specified.\n",
      "[06:29:00] WARNING: /home/conda/feedstock_root/build_artifacts/xgboost-split_1707159369174/work/src/c_api/c_api.cc:1240: Saving into deprecated binary model format, please consider using `json` or `ubj`. Model format will default to JSON in XGBoost 2.2 if not specified.\n",
      "[06:29:02] WARNING: /home/conda/feedstock_root/build_artifacts/xgboost-split_1707159369174/work/src/c_api/c_api.cc:1240: Saving into deprecated binary model format, please consider using `json` or `ubj`. Model format will default to JSON in XGBoost 2.2 if not specified.\n",
      "[06:29:05] WARNING: /home/conda/feedstock_root/build_artifacts/xgboost-split_1707159369174/work/src/c_api/c_api.cc:1240: Saving into deprecated binary model format, please consider using `json` or `ubj`. Model format will default to JSON in XGBoost 2.2 if not specified.\n",
      "[06:29:09] WARNING: /home/conda/feedstock_root/build_artifacts/xgboost-split_1707159369174/work/src/c_api/c_api.cc:1240: Saving into deprecated binary model format, please consider using `json` or `ubj`. Model format will default to JSON in XGBoost 2.2 if not specified.\n",
      "[06:29:14] WARNING: /home/conda/feedstock_root/build_artifacts/xgboost-split_1707159369174/work/src/c_api/c_api.cc:1240: Saving into deprecated binary model format, please consider using `json` or `ubj`. Model format will default to JSON in XGBoost 2.2 if not specified.\n",
      "[06:29:18] WARNING: /home/conda/feedstock_root/build_artifacts/xgboost-split_1707159369174/work/src/c_api/c_api.cc:1240: Saving into deprecated binary model format, please consider using `json` or `ubj`. Model format will default to JSON in XGBoost 2.2 if not specified.\n",
      "[06:29:21] WARNING: /home/conda/feedstock_root/build_artifacts/xgboost-split_1707159369174/work/src/c_api/c_api.cc:1240: Saving into deprecated binary model format, please consider using `json` or `ubj`. Model format will default to JSON in XGBoost 2.2 if not specified.\n",
      "[06:29:23] WARNING: /home/conda/feedstock_root/build_artifacts/xgboost-split_1707159369174/work/src/c_api/c_api.cc:1240: Saving into deprecated binary model format, please consider using `json` or `ubj`. Model format will default to JSON in XGBoost 2.2 if not specified.\n",
      "[06:29:27] WARNING: /home/conda/feedstock_root/build_artifacts/xgboost-split_1707159369174/work/src/c_api/c_api.cc:1240: Saving into deprecated binary model format, please consider using `json` or `ubj`. Model format will default to JSON in XGBoost 2.2 if not specified.\n",
      "[06:29:32] WARNING: /home/conda/feedstock_root/build_artifacts/xgboost-split_1707159369174/work/src/c_api/c_api.cc:1240: Saving into deprecated binary model format, please consider using `json` or `ubj`. Model format will default to JSON in XGBoost 2.2 if not specified.\n",
      "[06:29:35] WARNING: /home/conda/feedstock_root/build_artifacts/xgboost-split_1707159369174/work/src/c_api/c_api.cc:1240: Saving into deprecated binary model format, please consider using `json` or `ubj`. Model format will default to JSON in XGBoost 2.2 if not specified.\n",
      "[06:29:38] WARNING: /home/conda/feedstock_root/build_artifacts/xgboost-split_1707159369174/work/src/c_api/c_api.cc:1240: Saving into deprecated binary model format, please consider using `json` or `ubj`. Model format will default to JSON in XGBoost 2.2 if not specified.\n",
      "[06:29:43] WARNING: /home/conda/feedstock_root/build_artifacts/xgboost-split_1707159369174/work/src/c_api/c_api.cc:1240: Saving into deprecated binary model format, please consider using `json` or `ubj`. Model format will default to JSON in XGBoost 2.2 if not specified.\n",
      "[06:29:47] WARNING: /home/conda/feedstock_root/build_artifacts/xgboost-split_1707159369174/work/src/c_api/c_api.cc:1240: Saving into deprecated binary model format, please consider using `json` or `ubj`. Model format will default to JSON in XGBoost 2.2 if not specified.\n",
      "[06:29:52] WARNING: /home/conda/feedstock_root/build_artifacts/xgboost-split_1707159369174/work/src/c_api/c_api.cc:1240: Saving into deprecated binary model format, please consider using `json` or `ubj`. Model format will default to JSON in XGBoost 2.2 if not specified.\n",
      "[06:29:56] WARNING: /home/conda/feedstock_root/build_artifacts/xgboost-split_1707159369174/work/src/c_api/c_api.cc:1240: Saving into deprecated binary model format, please consider using `json` or `ubj`. Model format will default to JSON in XGBoost 2.2 if not specified.\n",
      "[06:30:01] WARNING: /home/conda/feedstock_root/build_artifacts/xgboost-split_1707159369174/work/src/c_api/c_api.cc:1240: Saving into deprecated binary model format, please consider using `json` or `ubj`. Model format will default to JSON in XGBoost 2.2 if not specified.\n",
      "[06:30:06] WARNING: /home/conda/feedstock_root/build_artifacts/xgboost-split_1707159369174/work/src/c_api/c_api.cc:1240: Saving into deprecated binary model format, please consider using `json` or `ubj`. Model format will default to JSON in XGBoost 2.2 if not specified.\n",
      "[06:30:12] WARNING: /home/conda/feedstock_root/build_artifacts/xgboost-split_1707159369174/work/src/c_api/c_api.cc:1240: Saving into deprecated binary model format, please consider using `json` or `ubj`. Model format will default to JSON in XGBoost 2.2 if not specified.\n",
      "[06:30:17] WARNING: /home/conda/feedstock_root/build_artifacts/xgboost-split_1707159369174/work/src/c_api/c_api.cc:1240: Saving into deprecated binary model format, please consider using `json` or `ubj`. Model format will default to JSON in XGBoost 2.2 if not specified.\n",
      "[06:30:21] WARNING: /home/conda/feedstock_root/build_artifacts/xgboost-split_1707159369174/work/src/c_api/c_api.cc:1240: Saving into deprecated binary model format, please consider using `json` or `ubj`. Model format will default to JSON in XGBoost 2.2 if not specified.\n",
      "[06:30:25] WARNING: /home/conda/feedstock_root/build_artifacts/xgboost-split_1707159369174/work/src/c_api/c_api.cc:1240: Saving into deprecated binary model format, please consider using `json` or `ubj`. Model format will default to JSON in XGBoost 2.2 if not specified.\n",
      "[06:30:30] WARNING: /home/conda/feedstock_root/build_artifacts/xgboost-split_1707159369174/work/src/c_api/c_api.cc:1240: Saving into deprecated binary model format, please consider using `json` or `ubj`. Model format will default to JSON in XGBoost 2.2 if not specified.\n",
      "[06:30:35] WARNING: /home/conda/feedstock_root/build_artifacts/xgboost-split_1707159369174/work/src/c_api/c_api.cc:1240: Saving into deprecated binary model format, please consider using `json` or `ubj`. Model format will default to JSON in XGBoost 2.2 if not specified.\n",
      "[06:30:41] WARNING: /home/conda/feedstock_root/build_artifacts/xgboost-split_1707159369174/work/src/c_api/c_api.cc:1240: Saving into deprecated binary model format, please consider using `json` or `ubj`. Model format will default to JSON in XGBoost 2.2 if not specified.\n",
      "[06:30:46] WARNING: /home/conda/feedstock_root/build_artifacts/xgboost-split_1707159369174/work/src/c_api/c_api.cc:1240: Saving into deprecated binary model format, please consider using `json` or `ubj`. Model format will default to JSON in XGBoost 2.2 if not specified.\n",
      "[06:30:52] WARNING: /home/conda/feedstock_root/build_artifacts/xgboost-split_1707159369174/work/src/c_api/c_api.cc:1240: Saving into deprecated binary model format, please consider using `json` or `ubj`. Model format will default to JSON in XGBoost 2.2 if not specified.\n",
      "[06:30:58] WARNING: /home/conda/feedstock_root/build_artifacts/xgboost-split_1707159369174/work/src/c_api/c_api.cc:1240: Saving into deprecated binary model format, please consider using `json` or `ubj`. Model format will default to JSON in XGBoost 2.2 if not specified.\n",
      "[06:31:04] WARNING: /home/conda/feedstock_root/build_artifacts/xgboost-split_1707159369174/work/src/c_api/c_api.cc:1240: Saving into deprecated binary model format, please consider using `json` or `ubj`. Model format will default to JSON in XGBoost 2.2 if not specified.\n",
      "[06:31:10] WARNING: /home/conda/feedstock_root/build_artifacts/xgboost-split_1707159369174/work/src/c_api/c_api.cc:1240: Saving into deprecated binary model format, please consider using `json` or `ubj`. Model format will default to JSON in XGBoost 2.2 if not specified.\n",
      "[06:31:16] WARNING: /home/conda/feedstock_root/build_artifacts/xgboost-split_1707159369174/work/src/c_api/c_api.cc:1240: Saving into deprecated binary model format, please consider using `json` or `ubj`. Model format will default to JSON in XGBoost 2.2 if not specified.\n",
      "[06:31:20] WARNING: /home/conda/feedstock_root/build_artifacts/xgboost-split_1707159369174/work/src/c_api/c_api.cc:1240: Saving into deprecated binary model format, please consider using `json` or `ubj`. Model format will default to JSON in XGBoost 2.2 if not specified.\n"
     ]
    },
    {
     "name": "stdout",
     "output_type": "stream",
     "text": [
      "Best Parameters: {'learning_rate': 0.018794924211617797, 'max_depth': 30, 'subsample': 0.860457145028726, 'gamma': 0.5214717292483121, 'colsample_bytree': 0.8446838073018941, 'lambda': 11.492512521935442, 'alpha': 5.592959282779213}\n"
     ]
    },
    {
     "name": "stderr",
     "output_type": "stream",
     "text": [
      "[06:31:25] WARNING: /home/conda/feedstock_root/build_artifacts/xgboost-split_1707159369174/work/src/c_api/c_api.cc:1240: Saving into deprecated binary model format, please consider using `json` or `ubj`. Model format will default to JSON in XGBoost 2.2 if not specified.\n"
     ]
    },
    {
     "name": "stdout",
     "output_type": "stream",
     "text": [
      "Results Summary: {'Match': 13, 'No Evaluation': 1}\n",
      "\n",
      "--- Evaluating model with feature H2A.W.7_log added back ---\n",
      "\n"
     ]
    },
    {
     "name": "stderr",
     "output_type": "stream",
     "text": [
      "[06:31:30] WARNING: /home/conda/feedstock_root/build_artifacts/xgboost-split_1707159369174/work/src/c_api/c_api.cc:1240: Saving into deprecated binary model format, please consider using `json` or `ubj`. Model format will default to JSON in XGBoost 2.2 if not specified.\n"
     ]
    },
    {
     "name": "stdout",
     "output_type": "stream",
     "text": [
      "Results Summary: {'Match': 13, 'No Evaluation': 1, 'Mismatch': 1}\n",
      "Feature: H2A.W.7_log, Known Function: Repressive, Result: Mismatch\n",
      "\n",
      "--- Performing LOO for feature H3K9me1_log ---\n",
      "\n",
      "Remaining Features: ['H2A.2', 'H3K4me1', 'H2A.13', 'H3K4me3', 'H3K36me3', 'H4K5Ac', 'H2A.Z.11', 'expression_category', 'H3K27me3_log', 'H3K9Ac_log', 'cpg_percentage_log', 'H3K9K14Ac_log', 'H3Ac_log', 'chh_percentage_log', 'H4K20me1_log', 'chg_percentage_log', 'H2A.W.7_log', 'H2A.W.6_log', 'H2A.Z.9_log', 'H3K23me1_log', 'H3K9me2_log']\n"
     ]
    },
    {
     "name": "stderr",
     "output_type": "stream",
     "text": [
      "[06:31:34] WARNING: /home/conda/feedstock_root/build_artifacts/xgboost-split_1707159369174/work/src/c_api/c_api.cc:1240: Saving into deprecated binary model format, please consider using `json` or `ubj`. Model format will default to JSON in XGBoost 2.2 if not specified.\n",
      "[06:31:36] WARNING: /home/conda/feedstock_root/build_artifacts/xgboost-split_1707159369174/work/src/c_api/c_api.cc:1240: Saving into deprecated binary model format, please consider using `json` or `ubj`. Model format will default to JSON in XGBoost 2.2 if not specified.\n",
      "[06:31:39] WARNING: /home/conda/feedstock_root/build_artifacts/xgboost-split_1707159369174/work/src/c_api/c_api.cc:1240: Saving into deprecated binary model format, please consider using `json` or `ubj`. Model format will default to JSON in XGBoost 2.2 if not specified.\n",
      "[06:31:41] WARNING: /home/conda/feedstock_root/build_artifacts/xgboost-split_1707159369174/work/src/c_api/c_api.cc:1240: Saving into deprecated binary model format, please consider using `json` or `ubj`. Model format will default to JSON in XGBoost 2.2 if not specified.\n",
      "[06:31:44] WARNING: /home/conda/feedstock_root/build_artifacts/xgboost-split_1707159369174/work/src/c_api/c_api.cc:1240: Saving into deprecated binary model format, please consider using `json` or `ubj`. Model format will default to JSON in XGBoost 2.2 if not specified.\n",
      "[06:31:46] WARNING: /home/conda/feedstock_root/build_artifacts/xgboost-split_1707159369174/work/src/c_api/c_api.cc:1240: Saving into deprecated binary model format, please consider using `json` or `ubj`. Model format will default to JSON in XGBoost 2.2 if not specified.\n",
      "[06:31:48] WARNING: /home/conda/feedstock_root/build_artifacts/xgboost-split_1707159369174/work/src/c_api/c_api.cc:1240: Saving into deprecated binary model format, please consider using `json` or `ubj`. Model format will default to JSON in XGBoost 2.2 if not specified.\n",
      "[06:31:50] WARNING: /home/conda/feedstock_root/build_artifacts/xgboost-split_1707159369174/work/src/c_api/c_api.cc:1240: Saving into deprecated binary model format, please consider using `json` or `ubj`. Model format will default to JSON in XGBoost 2.2 if not specified.\n",
      "[06:31:54] WARNING: /home/conda/feedstock_root/build_artifacts/xgboost-split_1707159369174/work/src/c_api/c_api.cc:1240: Saving into deprecated binary model format, please consider using `json` or `ubj`. Model format will default to JSON in XGBoost 2.2 if not specified.\n",
      "[06:32:06] WARNING: /home/conda/feedstock_root/build_artifacts/xgboost-split_1707159369174/work/src/c_api/c_api.cc:1240: Saving into deprecated binary model format, please consider using `json` or `ubj`. Model format will default to JSON in XGBoost 2.2 if not specified.\n",
      "[06:32:15] WARNING: /home/conda/feedstock_root/build_artifacts/xgboost-split_1707159369174/work/src/c_api/c_api.cc:1240: Saving into deprecated binary model format, please consider using `json` or `ubj`. Model format will default to JSON in XGBoost 2.2 if not specified.\n",
      "[06:32:21] WARNING: /home/conda/feedstock_root/build_artifacts/xgboost-split_1707159369174/work/src/c_api/c_api.cc:1240: Saving into deprecated binary model format, please consider using `json` or `ubj`. Model format will default to JSON in XGBoost 2.2 if not specified.\n",
      "[06:32:25] WARNING: /home/conda/feedstock_root/build_artifacts/xgboost-split_1707159369174/work/src/c_api/c_api.cc:1240: Saving into deprecated binary model format, please consider using `json` or `ubj`. Model format will default to JSON in XGBoost 2.2 if not specified.\n",
      "[06:32:29] WARNING: /home/conda/feedstock_root/build_artifacts/xgboost-split_1707159369174/work/src/c_api/c_api.cc:1240: Saving into deprecated binary model format, please consider using `json` or `ubj`. Model format will default to JSON in XGBoost 2.2 if not specified.\n",
      "[06:32:35] WARNING: /home/conda/feedstock_root/build_artifacts/xgboost-split_1707159369174/work/src/c_api/c_api.cc:1240: Saving into deprecated binary model format, please consider using `json` or `ubj`. Model format will default to JSON in XGBoost 2.2 if not specified.\n",
      "[06:32:40] WARNING: /home/conda/feedstock_root/build_artifacts/xgboost-split_1707159369174/work/src/c_api/c_api.cc:1240: Saving into deprecated binary model format, please consider using `json` or `ubj`. Model format will default to JSON in XGBoost 2.2 if not specified.\n",
      "[06:32:44] WARNING: /home/conda/feedstock_root/build_artifacts/xgboost-split_1707159369174/work/src/c_api/c_api.cc:1240: Saving into deprecated binary model format, please consider using `json` or `ubj`. Model format will default to JSON in XGBoost 2.2 if not specified.\n",
      "[06:32:48] WARNING: /home/conda/feedstock_root/build_artifacts/xgboost-split_1707159369174/work/src/c_api/c_api.cc:1240: Saving into deprecated binary model format, please consider using `json` or `ubj`. Model format will default to JSON in XGBoost 2.2 if not specified.\n",
      "[06:32:53] WARNING: /home/conda/feedstock_root/build_artifacts/xgboost-split_1707159369174/work/src/c_api/c_api.cc:1240: Saving into deprecated binary model format, please consider using `json` or `ubj`. Model format will default to JSON in XGBoost 2.2 if not specified.\n",
      "[06:32:58] WARNING: /home/conda/feedstock_root/build_artifacts/xgboost-split_1707159369174/work/src/c_api/c_api.cc:1240: Saving into deprecated binary model format, please consider using `json` or `ubj`. Model format will default to JSON in XGBoost 2.2 if not specified.\n",
      "[06:33:01] WARNING: /home/conda/feedstock_root/build_artifacts/xgboost-split_1707159369174/work/src/c_api/c_api.cc:1240: Saving into deprecated binary model format, please consider using `json` or `ubj`. Model format will default to JSON in XGBoost 2.2 if not specified.\n",
      "[06:33:05] WARNING: /home/conda/feedstock_root/build_artifacts/xgboost-split_1707159369174/work/src/c_api/c_api.cc:1240: Saving into deprecated binary model format, please consider using `json` or `ubj`. Model format will default to JSON in XGBoost 2.2 if not specified.\n",
      "[06:33:09] WARNING: /home/conda/feedstock_root/build_artifacts/xgboost-split_1707159369174/work/src/c_api/c_api.cc:1240: Saving into deprecated binary model format, please consider using `json` or `ubj`. Model format will default to JSON in XGBoost 2.2 if not specified.\n",
      "[06:33:15] WARNING: /home/conda/feedstock_root/build_artifacts/xgboost-split_1707159369174/work/src/c_api/c_api.cc:1240: Saving into deprecated binary model format, please consider using `json` or `ubj`. Model format will default to JSON in XGBoost 2.2 if not specified.\n",
      "[06:33:20] WARNING: /home/conda/feedstock_root/build_artifacts/xgboost-split_1707159369174/work/src/c_api/c_api.cc:1240: Saving into deprecated binary model format, please consider using `json` or `ubj`. Model format will default to JSON in XGBoost 2.2 if not specified.\n",
      "[06:33:24] WARNING: /home/conda/feedstock_root/build_artifacts/xgboost-split_1707159369174/work/src/c_api/c_api.cc:1240: Saving into deprecated binary model format, please consider using `json` or `ubj`. Model format will default to JSON in XGBoost 2.2 if not specified.\n",
      "[06:33:28] WARNING: /home/conda/feedstock_root/build_artifacts/xgboost-split_1707159369174/work/src/c_api/c_api.cc:1240: Saving into deprecated binary model format, please consider using `json` or `ubj`. Model format will default to JSON in XGBoost 2.2 if not specified.\n",
      "[06:33:31] WARNING: /home/conda/feedstock_root/build_artifacts/xgboost-split_1707159369174/work/src/c_api/c_api.cc:1240: Saving into deprecated binary model format, please consider using `json` or `ubj`. Model format will default to JSON in XGBoost 2.2 if not specified.\n",
      "[06:33:34] WARNING: /home/conda/feedstock_root/build_artifacts/xgboost-split_1707159369174/work/src/c_api/c_api.cc:1240: Saving into deprecated binary model format, please consider using `json` or `ubj`. Model format will default to JSON in XGBoost 2.2 if not specified.\n",
      "[06:33:39] WARNING: /home/conda/feedstock_root/build_artifacts/xgboost-split_1707159369174/work/src/c_api/c_api.cc:1240: Saving into deprecated binary model format, please consider using `json` or `ubj`. Model format will default to JSON in XGBoost 2.2 if not specified.\n",
      "[06:33:43] WARNING: /home/conda/feedstock_root/build_artifacts/xgboost-split_1707159369174/work/src/c_api/c_api.cc:1240: Saving into deprecated binary model format, please consider using `json` or `ubj`. Model format will default to JSON in XGBoost 2.2 if not specified.\n",
      "[06:33:47] WARNING: /home/conda/feedstock_root/build_artifacts/xgboost-split_1707159369174/work/src/c_api/c_api.cc:1240: Saving into deprecated binary model format, please consider using `json` or `ubj`. Model format will default to JSON in XGBoost 2.2 if not specified.\n",
      "[06:33:53] WARNING: /home/conda/feedstock_root/build_artifacts/xgboost-split_1707159369174/work/src/c_api/c_api.cc:1240: Saving into deprecated binary model format, please consider using `json` or `ubj`. Model format will default to JSON in XGBoost 2.2 if not specified.\n",
      "[06:33:58] WARNING: /home/conda/feedstock_root/build_artifacts/xgboost-split_1707159369174/work/src/c_api/c_api.cc:1240: Saving into deprecated binary model format, please consider using `json` or `ubj`. Model format will default to JSON in XGBoost 2.2 if not specified.\n",
      "[06:34:03] WARNING: /home/conda/feedstock_root/build_artifacts/xgboost-split_1707159369174/work/src/c_api/c_api.cc:1240: Saving into deprecated binary model format, please consider using `json` or `ubj`. Model format will default to JSON in XGBoost 2.2 if not specified.\n",
      "[06:34:07] WARNING: /home/conda/feedstock_root/build_artifacts/xgboost-split_1707159369174/work/src/c_api/c_api.cc:1240: Saving into deprecated binary model format, please consider using `json` or `ubj`. Model format will default to JSON in XGBoost 2.2 if not specified.\n",
      "[06:34:12] WARNING: /home/conda/feedstock_root/build_artifacts/xgboost-split_1707159369174/work/src/c_api/c_api.cc:1240: Saving into deprecated binary model format, please consider using `json` or `ubj`. Model format will default to JSON in XGBoost 2.2 if not specified.\n",
      "[06:34:16] WARNING: /home/conda/feedstock_root/build_artifacts/xgboost-split_1707159369174/work/src/c_api/c_api.cc:1240: Saving into deprecated binary model format, please consider using `json` or `ubj`. Model format will default to JSON in XGBoost 2.2 if not specified.\n",
      "[06:34:18] WARNING: /home/conda/feedstock_root/build_artifacts/xgboost-split_1707159369174/work/src/c_api/c_api.cc:1240: Saving into deprecated binary model format, please consider using `json` or `ubj`. Model format will default to JSON in XGBoost 2.2 if not specified.\n",
      "[06:34:21] WARNING: /home/conda/feedstock_root/build_artifacts/xgboost-split_1707159369174/work/src/c_api/c_api.cc:1240: Saving into deprecated binary model format, please consider using `json` or `ubj`. Model format will default to JSON in XGBoost 2.2 if not specified.\n"
     ]
    },
    {
     "name": "stdout",
     "output_type": "stream",
     "text": [
      "Best Parameters: {'learning_rate': 0.023823922000247362, 'max_depth': 10, 'subsample': 0.5518313251598889, 'gamma': 0.1275241094502939, 'colsample_bytree': 0.6649378688312451, 'lambda': 9.446818456431526, 'alpha': 3.215845030523759}\n"
     ]
    },
    {
     "name": "stderr",
     "output_type": "stream",
     "text": [
      "[06:34:24] WARNING: /home/conda/feedstock_root/build_artifacts/xgboost-split_1707159369174/work/src/c_api/c_api.cc:1240: Saving into deprecated binary model format, please consider using `json` or `ubj`. Model format will default to JSON in XGBoost 2.2 if not specified.\n"
     ]
    },
    {
     "name": "stdout",
     "output_type": "stream",
     "text": [
      "Results Summary: {'Match': 13, 'Mismatch': 2, 'No Evaluation': 1}\n",
      "Removing mismatch feature: H4K5Ac\n",
      "Remaining Features: ['H2A.2', 'H3K4me1', 'H2A.13', 'H3K4me3', 'H3K36me3', 'H2A.Z.11', 'expression_category', 'H3K27me3_log', 'H3K9Ac_log', 'cpg_percentage_log', 'H3K9K14Ac_log', 'H3Ac_log', 'chh_percentage_log', 'H4K20me1_log', 'chg_percentage_log', 'H2A.W.7_log', 'H2A.W.6_log', 'H2A.Z.9_log', 'H3K23me1_log', 'H3K9me2_log']\n"
     ]
    },
    {
     "name": "stderr",
     "output_type": "stream",
     "text": [
      "[06:34:31] WARNING: /home/conda/feedstock_root/build_artifacts/xgboost-split_1707159369174/work/src/c_api/c_api.cc:1240: Saving into deprecated binary model format, please consider using `json` or `ubj`. Model format will default to JSON in XGBoost 2.2 if not specified.\n",
      "[06:34:36] WARNING: /home/conda/feedstock_root/build_artifacts/xgboost-split_1707159369174/work/src/c_api/c_api.cc:1240: Saving into deprecated binary model format, please consider using `json` or `ubj`. Model format will default to JSON in XGBoost 2.2 if not specified.\n",
      "[06:34:39] WARNING: /home/conda/feedstock_root/build_artifacts/xgboost-split_1707159369174/work/src/c_api/c_api.cc:1240: Saving into deprecated binary model format, please consider using `json` or `ubj`. Model format will default to JSON in XGBoost 2.2 if not specified.\n",
      "[06:34:45] WARNING: /home/conda/feedstock_root/build_artifacts/xgboost-split_1707159369174/work/src/c_api/c_api.cc:1240: Saving into deprecated binary model format, please consider using `json` or `ubj`. Model format will default to JSON in XGBoost 2.2 if not specified.\n",
      "[06:34:50] WARNING: /home/conda/feedstock_root/build_artifacts/xgboost-split_1707159369174/work/src/c_api/c_api.cc:1240: Saving into deprecated binary model format, please consider using `json` or `ubj`. Model format will default to JSON in XGBoost 2.2 if not specified.\n",
      "[06:34:56] WARNING: /home/conda/feedstock_root/build_artifacts/xgboost-split_1707159369174/work/src/c_api/c_api.cc:1240: Saving into deprecated binary model format, please consider using `json` or `ubj`. Model format will default to JSON in XGBoost 2.2 if not specified.\n",
      "[06:35:01] WARNING: /home/conda/feedstock_root/build_artifacts/xgboost-split_1707159369174/work/src/c_api/c_api.cc:1240: Saving into deprecated binary model format, please consider using `json` or `ubj`. Model format will default to JSON in XGBoost 2.2 if not specified.\n",
      "[06:35:06] WARNING: /home/conda/feedstock_root/build_artifacts/xgboost-split_1707159369174/work/src/c_api/c_api.cc:1240: Saving into deprecated binary model format, please consider using `json` or `ubj`. Model format will default to JSON in XGBoost 2.2 if not specified.\n",
      "[06:35:10] WARNING: /home/conda/feedstock_root/build_artifacts/xgboost-split_1707159369174/work/src/c_api/c_api.cc:1240: Saving into deprecated binary model format, please consider using `json` or `ubj`. Model format will default to JSON in XGBoost 2.2 if not specified.\n",
      "[06:35:13] WARNING: /home/conda/feedstock_root/build_artifacts/xgboost-split_1707159369174/work/src/c_api/c_api.cc:1240: Saving into deprecated binary model format, please consider using `json` or `ubj`. Model format will default to JSON in XGBoost 2.2 if not specified.\n",
      "[06:35:14] WARNING: /home/conda/feedstock_root/build_artifacts/xgboost-split_1707159369174/work/src/c_api/c_api.cc:1240: Saving into deprecated binary model format, please consider using `json` or `ubj`. Model format will default to JSON in XGBoost 2.2 if not specified.\n",
      "[06:35:16] WARNING: /home/conda/feedstock_root/build_artifacts/xgboost-split_1707159369174/work/src/c_api/c_api.cc:1240: Saving into deprecated binary model format, please consider using `json` or `ubj`. Model format will default to JSON in XGBoost 2.2 if not specified.\n",
      "[06:35:18] WARNING: /home/conda/feedstock_root/build_artifacts/xgboost-split_1707159369174/work/src/c_api/c_api.cc:1240: Saving into deprecated binary model format, please consider using `json` or `ubj`. Model format will default to JSON in XGBoost 2.2 if not specified.\n",
      "[06:35:22] WARNING: /home/conda/feedstock_root/build_artifacts/xgboost-split_1707159369174/work/src/c_api/c_api.cc:1240: Saving into deprecated binary model format, please consider using `json` or `ubj`. Model format will default to JSON in XGBoost 2.2 if not specified.\n",
      "[06:35:26] WARNING: /home/conda/feedstock_root/build_artifacts/xgboost-split_1707159369174/work/src/c_api/c_api.cc:1240: Saving into deprecated binary model format, please consider using `json` or `ubj`. Model format will default to JSON in XGBoost 2.2 if not specified.\n",
      "[06:35:30] WARNING: /home/conda/feedstock_root/build_artifacts/xgboost-split_1707159369174/work/src/c_api/c_api.cc:1240: Saving into deprecated binary model format, please consider using `json` or `ubj`. Model format will default to JSON in XGBoost 2.2 if not specified.\n",
      "[06:35:37] WARNING: /home/conda/feedstock_root/build_artifacts/xgboost-split_1707159369174/work/src/c_api/c_api.cc:1240: Saving into deprecated binary model format, please consider using `json` or `ubj`. Model format will default to JSON in XGBoost 2.2 if not specified.\n",
      "[06:35:41] WARNING: /home/conda/feedstock_root/build_artifacts/xgboost-split_1707159369174/work/src/c_api/c_api.cc:1240: Saving into deprecated binary model format, please consider using `json` or `ubj`. Model format will default to JSON in XGBoost 2.2 if not specified.\n",
      "[06:35:45] WARNING: /home/conda/feedstock_root/build_artifacts/xgboost-split_1707159369174/work/src/c_api/c_api.cc:1240: Saving into deprecated binary model format, please consider using `json` or `ubj`. Model format will default to JSON in XGBoost 2.2 if not specified.\n",
      "[06:35:51] WARNING: /home/conda/feedstock_root/build_artifacts/xgboost-split_1707159369174/work/src/c_api/c_api.cc:1240: Saving into deprecated binary model format, please consider using `json` or `ubj`. Model format will default to JSON in XGBoost 2.2 if not specified.\n",
      "[06:35:55] WARNING: /home/conda/feedstock_root/build_artifacts/xgboost-split_1707159369174/work/src/c_api/c_api.cc:1240: Saving into deprecated binary model format, please consider using `json` or `ubj`. Model format will default to JSON in XGBoost 2.2 if not specified.\n",
      "[06:35:59] WARNING: /home/conda/feedstock_root/build_artifacts/xgboost-split_1707159369174/work/src/c_api/c_api.cc:1240: Saving into deprecated binary model format, please consider using `json` or `ubj`. Model format will default to JSON in XGBoost 2.2 if not specified.\n",
      "[06:36:03] WARNING: /home/conda/feedstock_root/build_artifacts/xgboost-split_1707159369174/work/src/c_api/c_api.cc:1240: Saving into deprecated binary model format, please consider using `json` or `ubj`. Model format will default to JSON in XGBoost 2.2 if not specified.\n",
      "[06:36:08] WARNING: /home/conda/feedstock_root/build_artifacts/xgboost-split_1707159369174/work/src/c_api/c_api.cc:1240: Saving into deprecated binary model format, please consider using `json` or `ubj`. Model format will default to JSON in XGBoost 2.2 if not specified.\n",
      "[06:36:14] WARNING: /home/conda/feedstock_root/build_artifacts/xgboost-split_1707159369174/work/src/c_api/c_api.cc:1240: Saving into deprecated binary model format, please consider using `json` or `ubj`. Model format will default to JSON in XGBoost 2.2 if not specified.\n",
      "[06:36:19] WARNING: /home/conda/feedstock_root/build_artifacts/xgboost-split_1707159369174/work/src/c_api/c_api.cc:1240: Saving into deprecated binary model format, please consider using `json` or `ubj`. Model format will default to JSON in XGBoost 2.2 if not specified.\n",
      "[06:36:23] WARNING: /home/conda/feedstock_root/build_artifacts/xgboost-split_1707159369174/work/src/c_api/c_api.cc:1240: Saving into deprecated binary model format, please consider using `json` or `ubj`. Model format will default to JSON in XGBoost 2.2 if not specified.\n",
      "[06:36:27] WARNING: /home/conda/feedstock_root/build_artifacts/xgboost-split_1707159369174/work/src/c_api/c_api.cc:1240: Saving into deprecated binary model format, please consider using `json` or `ubj`. Model format will default to JSON in XGBoost 2.2 if not specified.\n",
      "[06:36:31] WARNING: /home/conda/feedstock_root/build_artifacts/xgboost-split_1707159369174/work/src/c_api/c_api.cc:1240: Saving into deprecated binary model format, please consider using `json` or `ubj`. Model format will default to JSON in XGBoost 2.2 if not specified.\n",
      "[06:36:35] WARNING: /home/conda/feedstock_root/build_artifacts/xgboost-split_1707159369174/work/src/c_api/c_api.cc:1240: Saving into deprecated binary model format, please consider using `json` or `ubj`. Model format will default to JSON in XGBoost 2.2 if not specified.\n",
      "[06:36:38] WARNING: /home/conda/feedstock_root/build_artifacts/xgboost-split_1707159369174/work/src/c_api/c_api.cc:1240: Saving into deprecated binary model format, please consider using `json` or `ubj`. Model format will default to JSON in XGBoost 2.2 if not specified.\n",
      "[06:36:41] WARNING: /home/conda/feedstock_root/build_artifacts/xgboost-split_1707159369174/work/src/c_api/c_api.cc:1240: Saving into deprecated binary model format, please consider using `json` or `ubj`. Model format will default to JSON in XGBoost 2.2 if not specified.\n",
      "[06:36:45] WARNING: /home/conda/feedstock_root/build_artifacts/xgboost-split_1707159369174/work/src/c_api/c_api.cc:1240: Saving into deprecated binary model format, please consider using `json` or `ubj`. Model format will default to JSON in XGBoost 2.2 if not specified.\n",
      "[06:36:49] WARNING: /home/conda/feedstock_root/build_artifacts/xgboost-split_1707159369174/work/src/c_api/c_api.cc:1240: Saving into deprecated binary model format, please consider using `json` or `ubj`. Model format will default to JSON in XGBoost 2.2 if not specified.\n",
      "[06:36:53] WARNING: /home/conda/feedstock_root/build_artifacts/xgboost-split_1707159369174/work/src/c_api/c_api.cc:1240: Saving into deprecated binary model format, please consider using `json` or `ubj`. Model format will default to JSON in XGBoost 2.2 if not specified.\n",
      "[06:36:57] WARNING: /home/conda/feedstock_root/build_artifacts/xgboost-split_1707159369174/work/src/c_api/c_api.cc:1240: Saving into deprecated binary model format, please consider using `json` or `ubj`. Model format will default to JSON in XGBoost 2.2 if not specified.\n",
      "[06:37:03] WARNING: /home/conda/feedstock_root/build_artifacts/xgboost-split_1707159369174/work/src/c_api/c_api.cc:1240: Saving into deprecated binary model format, please consider using `json` or `ubj`. Model format will default to JSON in XGBoost 2.2 if not specified.\n",
      "[06:37:10] WARNING: /home/conda/feedstock_root/build_artifacts/xgboost-split_1707159369174/work/src/c_api/c_api.cc:1240: Saving into deprecated binary model format, please consider using `json` or `ubj`. Model format will default to JSON in XGBoost 2.2 if not specified.\n",
      "[06:37:18] WARNING: /home/conda/feedstock_root/build_artifacts/xgboost-split_1707159369174/work/src/c_api/c_api.cc:1240: Saving into deprecated binary model format, please consider using `json` or `ubj`. Model format will default to JSON in XGBoost 2.2 if not specified.\n",
      "[06:37:24] WARNING: /home/conda/feedstock_root/build_artifacts/xgboost-split_1707159369174/work/src/c_api/c_api.cc:1240: Saving into deprecated binary model format, please consider using `json` or `ubj`. Model format will default to JSON in XGBoost 2.2 if not specified.\n"
     ]
    },
    {
     "name": "stdout",
     "output_type": "stream",
     "text": [
      "Best Parameters: {'learning_rate': 0.038187044301904845, 'max_depth': 25, 'subsample': 0.4441228171775978, 'gamma': 0.12214272099789968, 'colsample_bytree': 0.5807306109597331, 'lambda': 10.654491460068755, 'alpha': 8.484512853954914}\n"
     ]
    },
    {
     "name": "stderr",
     "output_type": "stream",
     "text": [
      "[06:37:28] WARNING: /home/conda/feedstock_root/build_artifacts/xgboost-split_1707159369174/work/src/c_api/c_api.cc:1240: Saving into deprecated binary model format, please consider using `json` or `ubj`. Model format will default to JSON in XGBoost 2.2 if not specified.\n"
     ]
    },
    {
     "name": "stdout",
     "output_type": "stream",
     "text": [
      "Results Summary: {'Match': 13, 'Mismatch': 1, 'No Evaluation': 1}\n",
      "Removing mismatch feature: H3K4me1\n",
      "Remaining Features: ['H2A.2', 'H2A.13', 'H3K4me3', 'H3K36me3', 'H2A.Z.11', 'expression_category', 'H3K27me3_log', 'H3K9Ac_log', 'cpg_percentage_log', 'H3K9K14Ac_log', 'H3Ac_log', 'chh_percentage_log', 'H4K20me1_log', 'chg_percentage_log', 'H2A.W.7_log', 'H2A.W.6_log', 'H2A.Z.9_log', 'H3K23me1_log', 'H3K9me2_log']\n"
     ]
    },
    {
     "name": "stderr",
     "output_type": "stream",
     "text": [
      "[06:37:31] WARNING: /home/conda/feedstock_root/build_artifacts/xgboost-split_1707159369174/work/src/c_api/c_api.cc:1240: Saving into deprecated binary model format, please consider using `json` or `ubj`. Model format will default to JSON in XGBoost 2.2 if not specified.\n",
      "[06:37:34] WARNING: /home/conda/feedstock_root/build_artifacts/xgboost-split_1707159369174/work/src/c_api/c_api.cc:1240: Saving into deprecated binary model format, please consider using `json` or `ubj`. Model format will default to JSON in XGBoost 2.2 if not specified.\n",
      "[06:37:38] WARNING: /home/conda/feedstock_root/build_artifacts/xgboost-split_1707159369174/work/src/c_api/c_api.cc:1240: Saving into deprecated binary model format, please consider using `json` or `ubj`. Model format will default to JSON in XGBoost 2.2 if not specified.\n",
      "[06:37:42] WARNING: /home/conda/feedstock_root/build_artifacts/xgboost-split_1707159369174/work/src/c_api/c_api.cc:1240: Saving into deprecated binary model format, please consider using `json` or `ubj`. Model format will default to JSON in XGBoost 2.2 if not specified.\n",
      "[06:37:46] WARNING: /home/conda/feedstock_root/build_artifacts/xgboost-split_1707159369174/work/src/c_api/c_api.cc:1240: Saving into deprecated binary model format, please consider using `json` or `ubj`. Model format will default to JSON in XGBoost 2.2 if not specified.\n",
      "[06:37:54] WARNING: /home/conda/feedstock_root/build_artifacts/xgboost-split_1707159369174/work/src/c_api/c_api.cc:1240: Saving into deprecated binary model format, please consider using `json` or `ubj`. Model format will default to JSON in XGBoost 2.2 if not specified.\n",
      "[06:37:59] WARNING: /home/conda/feedstock_root/build_artifacts/xgboost-split_1707159369174/work/src/c_api/c_api.cc:1240: Saving into deprecated binary model format, please consider using `json` or `ubj`. Model format will default to JSON in XGBoost 2.2 if not specified.\n",
      "[06:38:03] WARNING: /home/conda/feedstock_root/build_artifacts/xgboost-split_1707159369174/work/src/c_api/c_api.cc:1240: Saving into deprecated binary model format, please consider using `json` or `ubj`. Model format will default to JSON in XGBoost 2.2 if not specified.\n",
      "[06:38:08] WARNING: /home/conda/feedstock_root/build_artifacts/xgboost-split_1707159369174/work/src/c_api/c_api.cc:1240: Saving into deprecated binary model format, please consider using `json` or `ubj`. Model format will default to JSON in XGBoost 2.2 if not specified.\n",
      "[06:38:12] WARNING: /home/conda/feedstock_root/build_artifacts/xgboost-split_1707159369174/work/src/c_api/c_api.cc:1240: Saving into deprecated binary model format, please consider using `json` or `ubj`. Model format will default to JSON in XGBoost 2.2 if not specified.\n",
      "[06:38:15] WARNING: /home/conda/feedstock_root/build_artifacts/xgboost-split_1707159369174/work/src/c_api/c_api.cc:1240: Saving into deprecated binary model format, please consider using `json` or `ubj`. Model format will default to JSON in XGBoost 2.2 if not specified.\n",
      "[06:38:19] WARNING: /home/conda/feedstock_root/build_artifacts/xgboost-split_1707159369174/work/src/c_api/c_api.cc:1240: Saving into deprecated binary model format, please consider using `json` or `ubj`. Model format will default to JSON in XGBoost 2.2 if not specified.\n",
      "[06:38:23] WARNING: /home/conda/feedstock_root/build_artifacts/xgboost-split_1707159369174/work/src/c_api/c_api.cc:1240: Saving into deprecated binary model format, please consider using `json` or `ubj`. Model format will default to JSON in XGBoost 2.2 if not specified.\n",
      "[06:38:27] WARNING: /home/conda/feedstock_root/build_artifacts/xgboost-split_1707159369174/work/src/c_api/c_api.cc:1240: Saving into deprecated binary model format, please consider using `json` or `ubj`. Model format will default to JSON in XGBoost 2.2 if not specified.\n",
      "[06:38:31] WARNING: /home/conda/feedstock_root/build_artifacts/xgboost-split_1707159369174/work/src/c_api/c_api.cc:1240: Saving into deprecated binary model format, please consider using `json` or `ubj`. Model format will default to JSON in XGBoost 2.2 if not specified.\n",
      "[06:38:36] WARNING: /home/conda/feedstock_root/build_artifacts/xgboost-split_1707159369174/work/src/c_api/c_api.cc:1240: Saving into deprecated binary model format, please consider using `json` or `ubj`. Model format will default to JSON in XGBoost 2.2 if not specified.\n",
      "[06:38:40] WARNING: /home/conda/feedstock_root/build_artifacts/xgboost-split_1707159369174/work/src/c_api/c_api.cc:1240: Saving into deprecated binary model format, please consider using `json` or `ubj`. Model format will default to JSON in XGBoost 2.2 if not specified.\n",
      "[06:38:44] WARNING: /home/conda/feedstock_root/build_artifacts/xgboost-split_1707159369174/work/src/c_api/c_api.cc:1240: Saving into deprecated binary model format, please consider using `json` or `ubj`. Model format will default to JSON in XGBoost 2.2 if not specified.\n",
      "[06:38:48] WARNING: /home/conda/feedstock_root/build_artifacts/xgboost-split_1707159369174/work/src/c_api/c_api.cc:1240: Saving into deprecated binary model format, please consider using `json` or `ubj`. Model format will default to JSON in XGBoost 2.2 if not specified.\n",
      "[06:38:56] WARNING: /home/conda/feedstock_root/build_artifacts/xgboost-split_1707159369174/work/src/c_api/c_api.cc:1240: Saving into deprecated binary model format, please consider using `json` or `ubj`. Model format will default to JSON in XGBoost 2.2 if not specified.\n",
      "[06:39:01] WARNING: /home/conda/feedstock_root/build_artifacts/xgboost-split_1707159369174/work/src/c_api/c_api.cc:1240: Saving into deprecated binary model format, please consider using `json` or `ubj`. Model format will default to JSON in XGBoost 2.2 if not specified.\n",
      "[06:39:05] WARNING: /home/conda/feedstock_root/build_artifacts/xgboost-split_1707159369174/work/src/c_api/c_api.cc:1240: Saving into deprecated binary model format, please consider using `json` or `ubj`. Model format will default to JSON in XGBoost 2.2 if not specified.\n",
      "[06:39:09] WARNING: /home/conda/feedstock_root/build_artifacts/xgboost-split_1707159369174/work/src/c_api/c_api.cc:1240: Saving into deprecated binary model format, please consider using `json` or `ubj`. Model format will default to JSON in XGBoost 2.2 if not specified.\n",
      "[06:39:12] WARNING: /home/conda/feedstock_root/build_artifacts/xgboost-split_1707159369174/work/src/c_api/c_api.cc:1240: Saving into deprecated binary model format, please consider using `json` or `ubj`. Model format will default to JSON in XGBoost 2.2 if not specified.\n",
      "[06:39:14] WARNING: /home/conda/feedstock_root/build_artifacts/xgboost-split_1707159369174/work/src/c_api/c_api.cc:1240: Saving into deprecated binary model format, please consider using `json` or `ubj`. Model format will default to JSON in XGBoost 2.2 if not specified.\n",
      "[06:39:17] WARNING: /home/conda/feedstock_root/build_artifacts/xgboost-split_1707159369174/work/src/c_api/c_api.cc:1240: Saving into deprecated binary model format, please consider using `json` or `ubj`. Model format will default to JSON in XGBoost 2.2 if not specified.\n",
      "[06:39:21] WARNING: /home/conda/feedstock_root/build_artifacts/xgboost-split_1707159369174/work/src/c_api/c_api.cc:1240: Saving into deprecated binary model format, please consider using `json` or `ubj`. Model format will default to JSON in XGBoost 2.2 if not specified.\n",
      "[06:39:25] WARNING: /home/conda/feedstock_root/build_artifacts/xgboost-split_1707159369174/work/src/c_api/c_api.cc:1240: Saving into deprecated binary model format, please consider using `json` or `ubj`. Model format will default to JSON in XGBoost 2.2 if not specified.\n",
      "[06:39:28] WARNING: /home/conda/feedstock_root/build_artifacts/xgboost-split_1707159369174/work/src/c_api/c_api.cc:1240: Saving into deprecated binary model format, please consider using `json` or `ubj`. Model format will default to JSON in XGBoost 2.2 if not specified.\n",
      "[06:39:30] WARNING: /home/conda/feedstock_root/build_artifacts/xgboost-split_1707159369174/work/src/c_api/c_api.cc:1240: Saving into deprecated binary model format, please consider using `json` or `ubj`. Model format will default to JSON in XGBoost 2.2 if not specified.\n",
      "[06:39:32] WARNING: /home/conda/feedstock_root/build_artifacts/xgboost-split_1707159369174/work/src/c_api/c_api.cc:1240: Saving into deprecated binary model format, please consider using `json` or `ubj`. Model format will default to JSON in XGBoost 2.2 if not specified.\n",
      "[06:39:36] WARNING: /home/conda/feedstock_root/build_artifacts/xgboost-split_1707159369174/work/src/c_api/c_api.cc:1240: Saving into deprecated binary model format, please consider using `json` or `ubj`. Model format will default to JSON in XGBoost 2.2 if not specified.\n",
      "[06:39:40] WARNING: /home/conda/feedstock_root/build_artifacts/xgboost-split_1707159369174/work/src/c_api/c_api.cc:1240: Saving into deprecated binary model format, please consider using `json` or `ubj`. Model format will default to JSON in XGBoost 2.2 if not specified.\n",
      "[06:39:45] WARNING: /home/conda/feedstock_root/build_artifacts/xgboost-split_1707159369174/work/src/c_api/c_api.cc:1240: Saving into deprecated binary model format, please consider using `json` or `ubj`. Model format will default to JSON in XGBoost 2.2 if not specified.\n",
      "[06:39:51] WARNING: /home/conda/feedstock_root/build_artifacts/xgboost-split_1707159369174/work/src/c_api/c_api.cc:1240: Saving into deprecated binary model format, please consider using `json` or `ubj`. Model format will default to JSON in XGBoost 2.2 if not specified.\n",
      "[06:39:56] WARNING: /home/conda/feedstock_root/build_artifacts/xgboost-split_1707159369174/work/src/c_api/c_api.cc:1240: Saving into deprecated binary model format, please consider using `json` or `ubj`. Model format will default to JSON in XGBoost 2.2 if not specified.\n",
      "[06:40:00] WARNING: /home/conda/feedstock_root/build_artifacts/xgboost-split_1707159369174/work/src/c_api/c_api.cc:1240: Saving into deprecated binary model format, please consider using `json` or `ubj`. Model format will default to JSON in XGBoost 2.2 if not specified.\n",
      "[06:40:05] WARNING: /home/conda/feedstock_root/build_artifacts/xgboost-split_1707159369174/work/src/c_api/c_api.cc:1240: Saving into deprecated binary model format, please consider using `json` or `ubj`. Model format will default to JSON in XGBoost 2.2 if not specified.\n",
      "[06:40:09] WARNING: /home/conda/feedstock_root/build_artifacts/xgboost-split_1707159369174/work/src/c_api/c_api.cc:1240: Saving into deprecated binary model format, please consider using `json` or `ubj`. Model format will default to JSON in XGBoost 2.2 if not specified.\n",
      "[06:40:12] WARNING: /home/conda/feedstock_root/build_artifacts/xgboost-split_1707159369174/work/src/c_api/c_api.cc:1240: Saving into deprecated binary model format, please consider using `json` or `ubj`. Model format will default to JSON in XGBoost 2.2 if not specified.\n"
     ]
    },
    {
     "name": "stdout",
     "output_type": "stream",
     "text": [
      "Best Parameters: {'learning_rate': 0.031515986263533746, 'max_depth': 12, 'subsample': 0.5549816350961032, 'gamma': 0.9977734522367939, 'colsample_bytree': 0.5763109099431711, 'lambda': 10.374016867325142, 'alpha': 0.006927369146859482}\n"
     ]
    },
    {
     "name": "stderr",
     "output_type": "stream",
     "text": [
      "[06:40:15] WARNING: /home/conda/feedstock_root/build_artifacts/xgboost-split_1707159369174/work/src/c_api/c_api.cc:1240: Saving into deprecated binary model format, please consider using `json` or `ubj`. Model format will default to JSON in XGBoost 2.2 if not specified.\n"
     ]
    },
    {
     "name": "stdout",
     "output_type": "stream",
     "text": [
      "Results Summary: {'Match': 13, 'No Evaluation': 1}\n",
      "\n",
      "--- Evaluating model with feature H3K9me1_log added back ---\n",
      "\n"
     ]
    },
    {
     "name": "stderr",
     "output_type": "stream",
     "text": [
      "[06:40:17] WARNING: /home/conda/feedstock_root/build_artifacts/xgboost-split_1707159369174/work/src/c_api/c_api.cc:1240: Saving into deprecated binary model format, please consider using `json` or `ubj`. Model format will default to JSON in XGBoost 2.2 if not specified.\n"
     ]
    },
    {
     "name": "stdout",
     "output_type": "stream",
     "text": [
      "Results Summary: {'Match': 11, 'Mismatch': 3, 'No Evaluation': 1}\n",
      "Feature: H3K9me1_log, Known Function: Repressive, Result: Match\n",
      "\n",
      "--- Performing LOO for feature H2A.W.6_log ---\n",
      "\n",
      "Remaining Features: ['H2A.2', 'H3K4me1', 'H2A.13', 'H3K4me3', 'H3K36me3', 'H4K5Ac', 'H2A.Z.11', 'expression_category', 'H3K27me3_log', 'H3K9Ac_log', 'cpg_percentage_log', 'H3K9K14Ac_log', 'H3Ac_log', 'chh_percentage_log', 'H4K20me1_log', 'chg_percentage_log', 'H2A.W.7_log', 'H3K9me1_log', 'H2A.Z.9_log', 'H3K23me1_log', 'H3K9me2_log']\n"
     ]
    },
    {
     "name": "stderr",
     "output_type": "stream",
     "text": [
      "[06:40:23] WARNING: /home/conda/feedstock_root/build_artifacts/xgboost-split_1707159369174/work/src/c_api/c_api.cc:1240: Saving into deprecated binary model format, please consider using `json` or `ubj`. Model format will default to JSON in XGBoost 2.2 if not specified.\n",
      "[06:40:27] WARNING: /home/conda/feedstock_root/build_artifacts/xgboost-split_1707159369174/work/src/c_api/c_api.cc:1240: Saving into deprecated binary model format, please consider using `json` or `ubj`. Model format will default to JSON in XGBoost 2.2 if not specified.\n",
      "[06:40:30] WARNING: /home/conda/feedstock_root/build_artifacts/xgboost-split_1707159369174/work/src/c_api/c_api.cc:1240: Saving into deprecated binary model format, please consider using `json` or `ubj`. Model format will default to JSON in XGBoost 2.2 if not specified.\n",
      "[06:40:34] WARNING: /home/conda/feedstock_root/build_artifacts/xgboost-split_1707159369174/work/src/c_api/c_api.cc:1240: Saving into deprecated binary model format, please consider using `json` or `ubj`. Model format will default to JSON in XGBoost 2.2 if not specified.\n",
      "[06:40:37] WARNING: /home/conda/feedstock_root/build_artifacts/xgboost-split_1707159369174/work/src/c_api/c_api.cc:1240: Saving into deprecated binary model format, please consider using `json` or `ubj`. Model format will default to JSON in XGBoost 2.2 if not specified.\n",
      "[06:40:42] WARNING: /home/conda/feedstock_root/build_artifacts/xgboost-split_1707159369174/work/src/c_api/c_api.cc:1240: Saving into deprecated binary model format, please consider using `json` or `ubj`. Model format will default to JSON in XGBoost 2.2 if not specified.\n",
      "[06:40:51] WARNING: /home/conda/feedstock_root/build_artifacts/xgboost-split_1707159369174/work/src/c_api/c_api.cc:1240: Saving into deprecated binary model format, please consider using `json` or `ubj`. Model format will default to JSON in XGBoost 2.2 if not specified.\n",
      "[06:40:56] WARNING: /home/conda/feedstock_root/build_artifacts/xgboost-split_1707159369174/work/src/c_api/c_api.cc:1240: Saving into deprecated binary model format, please consider using `json` or `ubj`. Model format will default to JSON in XGBoost 2.2 if not specified.\n",
      "[06:41:02] WARNING: /home/conda/feedstock_root/build_artifacts/xgboost-split_1707159369174/work/src/c_api/c_api.cc:1240: Saving into deprecated binary model format, please consider using `json` or `ubj`. Model format will default to JSON in XGBoost 2.2 if not specified.\n",
      "[06:41:09] WARNING: /home/conda/feedstock_root/build_artifacts/xgboost-split_1707159369174/work/src/c_api/c_api.cc:1240: Saving into deprecated binary model format, please consider using `json` or `ubj`. Model format will default to JSON in XGBoost 2.2 if not specified.\n",
      "[06:41:13] WARNING: /home/conda/feedstock_root/build_artifacts/xgboost-split_1707159369174/work/src/c_api/c_api.cc:1240: Saving into deprecated binary model format, please consider using `json` or `ubj`. Model format will default to JSON in XGBoost 2.2 if not specified.\n",
      "[06:41:15] WARNING: /home/conda/feedstock_root/build_artifacts/xgboost-split_1707159369174/work/src/c_api/c_api.cc:1240: Saving into deprecated binary model format, please consider using `json` or `ubj`. Model format will default to JSON in XGBoost 2.2 if not specified.\n",
      "[06:41:18] WARNING: /home/conda/feedstock_root/build_artifacts/xgboost-split_1707159369174/work/src/c_api/c_api.cc:1240: Saving into deprecated binary model format, please consider using `json` or `ubj`. Model format will default to JSON in XGBoost 2.2 if not specified.\n",
      "[06:41:21] WARNING: /home/conda/feedstock_root/build_artifacts/xgboost-split_1707159369174/work/src/c_api/c_api.cc:1240: Saving into deprecated binary model format, please consider using `json` or `ubj`. Model format will default to JSON in XGBoost 2.2 if not specified.\n",
      "[06:41:23] WARNING: /home/conda/feedstock_root/build_artifacts/xgboost-split_1707159369174/work/src/c_api/c_api.cc:1240: Saving into deprecated binary model format, please consider using `json` or `ubj`. Model format will default to JSON in XGBoost 2.2 if not specified.\n",
      "[06:41:27] WARNING: /home/conda/feedstock_root/build_artifacts/xgboost-split_1707159369174/work/src/c_api/c_api.cc:1240: Saving into deprecated binary model format, please consider using `json` or `ubj`. Model format will default to JSON in XGBoost 2.2 if not specified.\n",
      "[06:41:30] WARNING: /home/conda/feedstock_root/build_artifacts/xgboost-split_1707159369174/work/src/c_api/c_api.cc:1240: Saving into deprecated binary model format, please consider using `json` or `ubj`. Model format will default to JSON in XGBoost 2.2 if not specified.\n",
      "[06:41:33] WARNING: /home/conda/feedstock_root/build_artifacts/xgboost-split_1707159369174/work/src/c_api/c_api.cc:1240: Saving into deprecated binary model format, please consider using `json` or `ubj`. Model format will default to JSON in XGBoost 2.2 if not specified.\n",
      "[06:41:37] WARNING: /home/conda/feedstock_root/build_artifacts/xgboost-split_1707159369174/work/src/c_api/c_api.cc:1240: Saving into deprecated binary model format, please consider using `json` or `ubj`. Model format will default to JSON in XGBoost 2.2 if not specified.\n",
      "[06:41:40] WARNING: /home/conda/feedstock_root/build_artifacts/xgboost-split_1707159369174/work/src/c_api/c_api.cc:1240: Saving into deprecated binary model format, please consider using `json` or `ubj`. Model format will default to JSON in XGBoost 2.2 if not specified.\n",
      "[06:41:43] WARNING: /home/conda/feedstock_root/build_artifacts/xgboost-split_1707159369174/work/src/c_api/c_api.cc:1240: Saving into deprecated binary model format, please consider using `json` or `ubj`. Model format will default to JSON in XGBoost 2.2 if not specified.\n",
      "[06:41:46] WARNING: /home/conda/feedstock_root/build_artifacts/xgboost-split_1707159369174/work/src/c_api/c_api.cc:1240: Saving into deprecated binary model format, please consider using `json` or `ubj`. Model format will default to JSON in XGBoost 2.2 if not specified.\n",
      "[06:41:50] WARNING: /home/conda/feedstock_root/build_artifacts/xgboost-split_1707159369174/work/src/c_api/c_api.cc:1240: Saving into deprecated binary model format, please consider using `json` or `ubj`. Model format will default to JSON in XGBoost 2.2 if not specified.\n",
      "[06:41:54] WARNING: /home/conda/feedstock_root/build_artifacts/xgboost-split_1707159369174/work/src/c_api/c_api.cc:1240: Saving into deprecated binary model format, please consider using `json` or `ubj`. Model format will default to JSON in XGBoost 2.2 if not specified.\n",
      "[06:41:57] WARNING: /home/conda/feedstock_root/build_artifacts/xgboost-split_1707159369174/work/src/c_api/c_api.cc:1240: Saving into deprecated binary model format, please consider using `json` or `ubj`. Model format will default to JSON in XGBoost 2.2 if not specified.\n",
      "[06:42:01] WARNING: /home/conda/feedstock_root/build_artifacts/xgboost-split_1707159369174/work/src/c_api/c_api.cc:1240: Saving into deprecated binary model format, please consider using `json` or `ubj`. Model format will default to JSON in XGBoost 2.2 if not specified.\n",
      "[06:42:05] WARNING: /home/conda/feedstock_root/build_artifacts/xgboost-split_1707159369174/work/src/c_api/c_api.cc:1240: Saving into deprecated binary model format, please consider using `json` or `ubj`. Model format will default to JSON in XGBoost 2.2 if not specified.\n",
      "[06:42:09] WARNING: /home/conda/feedstock_root/build_artifacts/xgboost-split_1707159369174/work/src/c_api/c_api.cc:1240: Saving into deprecated binary model format, please consider using `json` or `ubj`. Model format will default to JSON in XGBoost 2.2 if not specified.\n",
      "[06:42:13] WARNING: /home/conda/feedstock_root/build_artifacts/xgboost-split_1707159369174/work/src/c_api/c_api.cc:1240: Saving into deprecated binary model format, please consider using `json` or `ubj`. Model format will default to JSON in XGBoost 2.2 if not specified.\n",
      "[06:42:17] WARNING: /home/conda/feedstock_root/build_artifacts/xgboost-split_1707159369174/work/src/c_api/c_api.cc:1240: Saving into deprecated binary model format, please consider using `json` or `ubj`. Model format will default to JSON in XGBoost 2.2 if not specified.\n",
      "[06:42:22] WARNING: /home/conda/feedstock_root/build_artifacts/xgboost-split_1707159369174/work/src/c_api/c_api.cc:1240: Saving into deprecated binary model format, please consider using `json` or `ubj`. Model format will default to JSON in XGBoost 2.2 if not specified.\n",
      "[06:42:26] WARNING: /home/conda/feedstock_root/build_artifacts/xgboost-split_1707159369174/work/src/c_api/c_api.cc:1240: Saving into deprecated binary model format, please consider using `json` or `ubj`. Model format will default to JSON in XGBoost 2.2 if not specified.\n",
      "[06:42:30] WARNING: /home/conda/feedstock_root/build_artifacts/xgboost-split_1707159369174/work/src/c_api/c_api.cc:1240: Saving into deprecated binary model format, please consider using `json` or `ubj`. Model format will default to JSON in XGBoost 2.2 if not specified.\n",
      "[06:42:34] WARNING: /home/conda/feedstock_root/build_artifacts/xgboost-split_1707159369174/work/src/c_api/c_api.cc:1240: Saving into deprecated binary model format, please consider using `json` or `ubj`. Model format will default to JSON in XGBoost 2.2 if not specified.\n",
      "[06:42:37] WARNING: /home/conda/feedstock_root/build_artifacts/xgboost-split_1707159369174/work/src/c_api/c_api.cc:1240: Saving into deprecated binary model format, please consider using `json` or `ubj`. Model format will default to JSON in XGBoost 2.2 if not specified.\n",
      "[06:42:40] WARNING: /home/conda/feedstock_root/build_artifacts/xgboost-split_1707159369174/work/src/c_api/c_api.cc:1240: Saving into deprecated binary model format, please consider using `json` or `ubj`. Model format will default to JSON in XGBoost 2.2 if not specified.\n",
      "[06:42:43] WARNING: /home/conda/feedstock_root/build_artifacts/xgboost-split_1707159369174/work/src/c_api/c_api.cc:1240: Saving into deprecated binary model format, please consider using `json` or `ubj`. Model format will default to JSON in XGBoost 2.2 if not specified.\n",
      "[06:42:47] WARNING: /home/conda/feedstock_root/build_artifacts/xgboost-split_1707159369174/work/src/c_api/c_api.cc:1240: Saving into deprecated binary model format, please consider using `json` or `ubj`. Model format will default to JSON in XGBoost 2.2 if not specified.\n",
      "[06:42:49] WARNING: /home/conda/feedstock_root/build_artifacts/xgboost-split_1707159369174/work/src/c_api/c_api.cc:1240: Saving into deprecated binary model format, please consider using `json` or `ubj`. Model format will default to JSON in XGBoost 2.2 if not specified.\n",
      "[06:42:52] WARNING: /home/conda/feedstock_root/build_artifacts/xgboost-split_1707159369174/work/src/c_api/c_api.cc:1240: Saving into deprecated binary model format, please consider using `json` or `ubj`. Model format will default to JSON in XGBoost 2.2 if not specified.\n"
     ]
    },
    {
     "name": "stdout",
     "output_type": "stream",
     "text": [
      "Best Parameters: {'learning_rate': 0.03498043025700154, 'max_depth': 21, 'subsample': 0.7101102169410771, 'gamma': 0.5744830420111485, 'colsample_bytree': 0.6573838350311343, 'lambda': 11.181717131461852, 'alpha': 8.535165754711738}\n"
     ]
    },
    {
     "name": "stderr",
     "output_type": "stream",
     "text": [
      "[06:42:56] WARNING: /home/conda/feedstock_root/build_artifacts/xgboost-split_1707159369174/work/src/c_api/c_api.cc:1240: Saving into deprecated binary model format, please consider using `json` or `ubj`. Model format will default to JSON in XGBoost 2.2 if not specified.\n"
     ]
    },
    {
     "name": "stdout",
     "output_type": "stream",
     "text": [
      "Results Summary: {'Match': 13, 'Mismatch': 2, 'No Evaluation': 1}\n",
      "Removing mismatch feature: H4K5Ac\n",
      "Remaining Features: ['H2A.2', 'H3K4me1', 'H2A.13', 'H3K4me3', 'H3K36me3', 'H2A.Z.11', 'expression_category', 'H3K27me3_log', 'H3K9Ac_log', 'cpg_percentage_log', 'H3K9K14Ac_log', 'H3Ac_log', 'chh_percentage_log', 'H4K20me1_log', 'chg_percentage_log', 'H2A.W.7_log', 'H3K9me1_log', 'H2A.Z.9_log', 'H3K23me1_log', 'H3K9me2_log']\n"
     ]
    },
    {
     "name": "stderr",
     "output_type": "stream",
     "text": [
      "[06:43:00] WARNING: /home/conda/feedstock_root/build_artifacts/xgboost-split_1707159369174/work/src/c_api/c_api.cc:1240: Saving into deprecated binary model format, please consider using `json` or `ubj`. Model format will default to JSON in XGBoost 2.2 if not specified.\n",
      "[06:43:05] WARNING: /home/conda/feedstock_root/build_artifacts/xgboost-split_1707159369174/work/src/c_api/c_api.cc:1240: Saving into deprecated binary model format, please consider using `json` or `ubj`. Model format will default to JSON in XGBoost 2.2 if not specified.\n",
      "[06:43:09] WARNING: /home/conda/feedstock_root/build_artifacts/xgboost-split_1707159369174/work/src/c_api/c_api.cc:1240: Saving into deprecated binary model format, please consider using `json` or `ubj`. Model format will default to JSON in XGBoost 2.2 if not specified.\n",
      "[06:43:15] WARNING: /home/conda/feedstock_root/build_artifacts/xgboost-split_1707159369174/work/src/c_api/c_api.cc:1240: Saving into deprecated binary model format, please consider using `json` or `ubj`. Model format will default to JSON in XGBoost 2.2 if not specified.\n",
      "[06:43:22] WARNING: /home/conda/feedstock_root/build_artifacts/xgboost-split_1707159369174/work/src/c_api/c_api.cc:1240: Saving into deprecated binary model format, please consider using `json` or `ubj`. Model format will default to JSON in XGBoost 2.2 if not specified.\n",
      "[06:43:28] WARNING: /home/conda/feedstock_root/build_artifacts/xgboost-split_1707159369174/work/src/c_api/c_api.cc:1240: Saving into deprecated binary model format, please consider using `json` or `ubj`. Model format will default to JSON in XGBoost 2.2 if not specified.\n",
      "[06:43:34] WARNING: /home/conda/feedstock_root/build_artifacts/xgboost-split_1707159369174/work/src/c_api/c_api.cc:1240: Saving into deprecated binary model format, please consider using `json` or `ubj`. Model format will default to JSON in XGBoost 2.2 if not specified.\n",
      "[06:43:41] WARNING: /home/conda/feedstock_root/build_artifacts/xgboost-split_1707159369174/work/src/c_api/c_api.cc:1240: Saving into deprecated binary model format, please consider using `json` or `ubj`. Model format will default to JSON in XGBoost 2.2 if not specified.\n",
      "[06:43:48] WARNING: /home/conda/feedstock_root/build_artifacts/xgboost-split_1707159369174/work/src/c_api/c_api.cc:1240: Saving into deprecated binary model format, please consider using `json` or `ubj`. Model format will default to JSON in XGBoost 2.2 if not specified.\n",
      "[06:43:52] WARNING: /home/conda/feedstock_root/build_artifacts/xgboost-split_1707159369174/work/src/c_api/c_api.cc:1240: Saving into deprecated binary model format, please consider using `json` or `ubj`. Model format will default to JSON in XGBoost 2.2 if not specified.\n",
      "[06:43:54] WARNING: /home/conda/feedstock_root/build_artifacts/xgboost-split_1707159369174/work/src/c_api/c_api.cc:1240: Saving into deprecated binary model format, please consider using `json` or `ubj`. Model format will default to JSON in XGBoost 2.2 if not specified.\n",
      "[06:43:56] WARNING: /home/conda/feedstock_root/build_artifacts/xgboost-split_1707159369174/work/src/c_api/c_api.cc:1240: Saving into deprecated binary model format, please consider using `json` or `ubj`. Model format will default to JSON in XGBoost 2.2 if not specified.\n",
      "[06:44:01] WARNING: /home/conda/feedstock_root/build_artifacts/xgboost-split_1707159369174/work/src/c_api/c_api.cc:1240: Saving into deprecated binary model format, please consider using `json` or `ubj`. Model format will default to JSON in XGBoost 2.2 if not specified.\n",
      "[06:44:06] WARNING: /home/conda/feedstock_root/build_artifacts/xgboost-split_1707159369174/work/src/c_api/c_api.cc:1240: Saving into deprecated binary model format, please consider using `json` or `ubj`. Model format will default to JSON in XGBoost 2.2 if not specified.\n",
      "[06:44:11] WARNING: /home/conda/feedstock_root/build_artifacts/xgboost-split_1707159369174/work/src/c_api/c_api.cc:1240: Saving into deprecated binary model format, please consider using `json` or `ubj`. Model format will default to JSON in XGBoost 2.2 if not specified.\n",
      "[06:44:15] WARNING: /home/conda/feedstock_root/build_artifacts/xgboost-split_1707159369174/work/src/c_api/c_api.cc:1240: Saving into deprecated binary model format, please consider using `json` or `ubj`. Model format will default to JSON in XGBoost 2.2 if not specified.\n",
      "[06:44:19] WARNING: /home/conda/feedstock_root/build_artifacts/xgboost-split_1707159369174/work/src/c_api/c_api.cc:1240: Saving into deprecated binary model format, please consider using `json` or `ubj`. Model format will default to JSON in XGBoost 2.2 if not specified.\n",
      "[06:44:22] WARNING: /home/conda/feedstock_root/build_artifacts/xgboost-split_1707159369174/work/src/c_api/c_api.cc:1240: Saving into deprecated binary model format, please consider using `json` or `ubj`. Model format will default to JSON in XGBoost 2.2 if not specified.\n",
      "[06:44:25] WARNING: /home/conda/feedstock_root/build_artifacts/xgboost-split_1707159369174/work/src/c_api/c_api.cc:1240: Saving into deprecated binary model format, please consider using `json` or `ubj`. Model format will default to JSON in XGBoost 2.2 if not specified.\n",
      "[06:44:29] WARNING: /home/conda/feedstock_root/build_artifacts/xgboost-split_1707159369174/work/src/c_api/c_api.cc:1240: Saving into deprecated binary model format, please consider using `json` or `ubj`. Model format will default to JSON in XGBoost 2.2 if not specified.\n",
      "[06:44:33] WARNING: /home/conda/feedstock_root/build_artifacts/xgboost-split_1707159369174/work/src/c_api/c_api.cc:1240: Saving into deprecated binary model format, please consider using `json` or `ubj`. Model format will default to JSON in XGBoost 2.2 if not specified.\n",
      "[06:44:37] WARNING: /home/conda/feedstock_root/build_artifacts/xgboost-split_1707159369174/work/src/c_api/c_api.cc:1240: Saving into deprecated binary model format, please consider using `json` or `ubj`. Model format will default to JSON in XGBoost 2.2 if not specified.\n",
      "[06:44:40] WARNING: /home/conda/feedstock_root/build_artifacts/xgboost-split_1707159369174/work/src/c_api/c_api.cc:1240: Saving into deprecated binary model format, please consider using `json` or `ubj`. Model format will default to JSON in XGBoost 2.2 if not specified.\n",
      "[06:44:44] WARNING: /home/conda/feedstock_root/build_artifacts/xgboost-split_1707159369174/work/src/c_api/c_api.cc:1240: Saving into deprecated binary model format, please consider using `json` or `ubj`. Model format will default to JSON in XGBoost 2.2 if not specified.\n",
      "[06:44:50] WARNING: /home/conda/feedstock_root/build_artifacts/xgboost-split_1707159369174/work/src/c_api/c_api.cc:1240: Saving into deprecated binary model format, please consider using `json` or `ubj`. Model format will default to JSON in XGBoost 2.2 if not specified.\n",
      "[06:44:55] WARNING: /home/conda/feedstock_root/build_artifacts/xgboost-split_1707159369174/work/src/c_api/c_api.cc:1240: Saving into deprecated binary model format, please consider using `json` or `ubj`. Model format will default to JSON in XGBoost 2.2 if not specified.\n",
      "[06:44:57] WARNING: /home/conda/feedstock_root/build_artifacts/xgboost-split_1707159369174/work/src/c_api/c_api.cc:1240: Saving into deprecated binary model format, please consider using `json` or `ubj`. Model format will default to JSON in XGBoost 2.2 if not specified.\n",
      "[06:45:01] WARNING: /home/conda/feedstock_root/build_artifacts/xgboost-split_1707159369174/work/src/c_api/c_api.cc:1240: Saving into deprecated binary model format, please consider using `json` or `ubj`. Model format will default to JSON in XGBoost 2.2 if not specified.\n",
      "[06:45:04] WARNING: /home/conda/feedstock_root/build_artifacts/xgboost-split_1707159369174/work/src/c_api/c_api.cc:1240: Saving into deprecated binary model format, please consider using `json` or `ubj`. Model format will default to JSON in XGBoost 2.2 if not specified.\n",
      "[06:45:08] WARNING: /home/conda/feedstock_root/build_artifacts/xgboost-split_1707159369174/work/src/c_api/c_api.cc:1240: Saving into deprecated binary model format, please consider using `json` or `ubj`. Model format will default to JSON in XGBoost 2.2 if not specified.\n",
      "[06:45:12] WARNING: /home/conda/feedstock_root/build_artifacts/xgboost-split_1707159369174/work/src/c_api/c_api.cc:1240: Saving into deprecated binary model format, please consider using `json` or `ubj`. Model format will default to JSON in XGBoost 2.2 if not specified.\n",
      "[06:45:17] WARNING: /home/conda/feedstock_root/build_artifacts/xgboost-split_1707159369174/work/src/c_api/c_api.cc:1240: Saving into deprecated binary model format, please consider using `json` or `ubj`. Model format will default to JSON in XGBoost 2.2 if not specified.\n",
      "[06:45:19] WARNING: /home/conda/feedstock_root/build_artifacts/xgboost-split_1707159369174/work/src/c_api/c_api.cc:1240: Saving into deprecated binary model format, please consider using `json` or `ubj`. Model format will default to JSON in XGBoost 2.2 if not specified.\n",
      "[06:45:23] WARNING: /home/conda/feedstock_root/build_artifacts/xgboost-split_1707159369174/work/src/c_api/c_api.cc:1240: Saving into deprecated binary model format, please consider using `json` or `ubj`. Model format will default to JSON in XGBoost 2.2 if not specified.\n",
      "[06:45:27] WARNING: /home/conda/feedstock_root/build_artifacts/xgboost-split_1707159369174/work/src/c_api/c_api.cc:1240: Saving into deprecated binary model format, please consider using `json` or `ubj`. Model format will default to JSON in XGBoost 2.2 if not specified.\n",
      "[06:45:30] WARNING: /home/conda/feedstock_root/build_artifacts/xgboost-split_1707159369174/work/src/c_api/c_api.cc:1240: Saving into deprecated binary model format, please consider using `json` or `ubj`. Model format will default to JSON in XGBoost 2.2 if not specified.\n",
      "[06:45:35] WARNING: /home/conda/feedstock_root/build_artifacts/xgboost-split_1707159369174/work/src/c_api/c_api.cc:1240: Saving into deprecated binary model format, please consider using `json` or `ubj`. Model format will default to JSON in XGBoost 2.2 if not specified.\n",
      "[06:45:39] WARNING: /home/conda/feedstock_root/build_artifacts/xgboost-split_1707159369174/work/src/c_api/c_api.cc:1240: Saving into deprecated binary model format, please consider using `json` or `ubj`. Model format will default to JSON in XGBoost 2.2 if not specified.\n",
      "[06:45:43] WARNING: /home/conda/feedstock_root/build_artifacts/xgboost-split_1707159369174/work/src/c_api/c_api.cc:1240: Saving into deprecated binary model format, please consider using `json` or `ubj`. Model format will default to JSON in XGBoost 2.2 if not specified.\n",
      "[06:45:49] WARNING: /home/conda/feedstock_root/build_artifacts/xgboost-split_1707159369174/work/src/c_api/c_api.cc:1240: Saving into deprecated binary model format, please consider using `json` or `ubj`. Model format will default to JSON in XGBoost 2.2 if not specified.\n"
     ]
    },
    {
     "name": "stdout",
     "output_type": "stream",
     "text": [
      "Best Parameters: {'learning_rate': 0.023663689676673077, 'max_depth': 27, 'subsample': 0.6594577562326289, 'gamma': 0.18241089398533633, 'colsample_bytree': 0.8518940954610197, 'lambda': 8.19303548748091, 'alpha': 14.90529202811986}\n"
     ]
    },
    {
     "name": "stderr",
     "output_type": "stream",
     "text": [
      "[06:45:54] WARNING: /home/conda/feedstock_root/build_artifacts/xgboost-split_1707159369174/work/src/c_api/c_api.cc:1240: Saving into deprecated binary model format, please consider using `json` or `ubj`. Model format will default to JSON in XGBoost 2.2 if not specified.\n"
     ]
    },
    {
     "name": "stdout",
     "output_type": "stream",
     "text": [
      "Results Summary: {'Match': 13, 'Mismatch': 1, 'No Evaluation': 1}\n",
      "Removing mismatch feature: H3K4me1\n",
      "Remaining Features: ['H2A.2', 'H2A.13', 'H3K4me3', 'H3K36me3', 'H2A.Z.11', 'expression_category', 'H3K27me3_log', 'H3K9Ac_log', 'cpg_percentage_log', 'H3K9K14Ac_log', 'H3Ac_log', 'chh_percentage_log', 'H4K20me1_log', 'chg_percentage_log', 'H2A.W.7_log', 'H3K9me1_log', 'H2A.Z.9_log', 'H3K23me1_log', 'H3K9me2_log']\n"
     ]
    },
    {
     "name": "stderr",
     "output_type": "stream",
     "text": [
      "[06:45:58] WARNING: /home/conda/feedstock_root/build_artifacts/xgboost-split_1707159369174/work/src/c_api/c_api.cc:1240: Saving into deprecated binary model format, please consider using `json` or `ubj`. Model format will default to JSON in XGBoost 2.2 if not specified.\n",
      "[06:46:04] WARNING: /home/conda/feedstock_root/build_artifacts/xgboost-split_1707159369174/work/src/c_api/c_api.cc:1240: Saving into deprecated binary model format, please consider using `json` or `ubj`. Model format will default to JSON in XGBoost 2.2 if not specified.\n",
      "[06:46:09] WARNING: /home/conda/feedstock_root/build_artifacts/xgboost-split_1707159369174/work/src/c_api/c_api.cc:1240: Saving into deprecated binary model format, please consider using `json` or `ubj`. Model format will default to JSON in XGBoost 2.2 if not specified.\n",
      "[06:46:12] WARNING: /home/conda/feedstock_root/build_artifacts/xgboost-split_1707159369174/work/src/c_api/c_api.cc:1240: Saving into deprecated binary model format, please consider using `json` or `ubj`. Model format will default to JSON in XGBoost 2.2 if not specified.\n",
      "[06:46:16] WARNING: /home/conda/feedstock_root/build_artifacts/xgboost-split_1707159369174/work/src/c_api/c_api.cc:1240: Saving into deprecated binary model format, please consider using `json` or `ubj`. Model format will default to JSON in XGBoost 2.2 if not specified.\n",
      "[06:46:20] WARNING: /home/conda/feedstock_root/build_artifacts/xgboost-split_1707159369174/work/src/c_api/c_api.cc:1240: Saving into deprecated binary model format, please consider using `json` or `ubj`. Model format will default to JSON in XGBoost 2.2 if not specified.\n",
      "[06:46:22] WARNING: /home/conda/feedstock_root/build_artifacts/xgboost-split_1707159369174/work/src/c_api/c_api.cc:1240: Saving into deprecated binary model format, please consider using `json` or `ubj`. Model format will default to JSON in XGBoost 2.2 if not specified.\n",
      "[06:46:24] WARNING: /home/conda/feedstock_root/build_artifacts/xgboost-split_1707159369174/work/src/c_api/c_api.cc:1240: Saving into deprecated binary model format, please consider using `json` or `ubj`. Model format will default to JSON in XGBoost 2.2 if not specified.\n",
      "[06:46:31] WARNING: /home/conda/feedstock_root/build_artifacts/xgboost-split_1707159369174/work/src/c_api/c_api.cc:1240: Saving into deprecated binary model format, please consider using `json` or `ubj`. Model format will default to JSON in XGBoost 2.2 if not specified.\n",
      "[06:46:36] WARNING: /home/conda/feedstock_root/build_artifacts/xgboost-split_1707159369174/work/src/c_api/c_api.cc:1240: Saving into deprecated binary model format, please consider using `json` or `ubj`. Model format will default to JSON in XGBoost 2.2 if not specified.\n",
      "[06:46:39] WARNING: /home/conda/feedstock_root/build_artifacts/xgboost-split_1707159369174/work/src/c_api/c_api.cc:1240: Saving into deprecated binary model format, please consider using `json` or `ubj`. Model format will default to JSON in XGBoost 2.2 if not specified.\n",
      "[06:46:42] WARNING: /home/conda/feedstock_root/build_artifacts/xgboost-split_1707159369174/work/src/c_api/c_api.cc:1240: Saving into deprecated binary model format, please consider using `json` or `ubj`. Model format will default to JSON in XGBoost 2.2 if not specified.\n",
      "[06:46:46] WARNING: /home/conda/feedstock_root/build_artifacts/xgboost-split_1707159369174/work/src/c_api/c_api.cc:1240: Saving into deprecated binary model format, please consider using `json` or `ubj`. Model format will default to JSON in XGBoost 2.2 if not specified.\n",
      "[06:46:49] WARNING: /home/conda/feedstock_root/build_artifacts/xgboost-split_1707159369174/work/src/c_api/c_api.cc:1240: Saving into deprecated binary model format, please consider using `json` or `ubj`. Model format will default to JSON in XGBoost 2.2 if not specified.\n",
      "[06:46:52] WARNING: /home/conda/feedstock_root/build_artifacts/xgboost-split_1707159369174/work/src/c_api/c_api.cc:1240: Saving into deprecated binary model format, please consider using `json` or `ubj`. Model format will default to JSON in XGBoost 2.2 if not specified.\n",
      "[06:46:55] WARNING: /home/conda/feedstock_root/build_artifacts/xgboost-split_1707159369174/work/src/c_api/c_api.cc:1240: Saving into deprecated binary model format, please consider using `json` or `ubj`. Model format will default to JSON in XGBoost 2.2 if not specified.\n",
      "[06:46:56] WARNING: /home/conda/feedstock_root/build_artifacts/xgboost-split_1707159369174/work/src/c_api/c_api.cc:1240: Saving into deprecated binary model format, please consider using `json` or `ubj`. Model format will default to JSON in XGBoost 2.2 if not specified.\n",
      "[06:46:59] WARNING: /home/conda/feedstock_root/build_artifacts/xgboost-split_1707159369174/work/src/c_api/c_api.cc:1240: Saving into deprecated binary model format, please consider using `json` or `ubj`. Model format will default to JSON in XGBoost 2.2 if not specified.\n",
      "[06:47:04] WARNING: /home/conda/feedstock_root/build_artifacts/xgboost-split_1707159369174/work/src/c_api/c_api.cc:1240: Saving into deprecated binary model format, please consider using `json` or `ubj`. Model format will default to JSON in XGBoost 2.2 if not specified.\n",
      "[06:47:09] WARNING: /home/conda/feedstock_root/build_artifacts/xgboost-split_1707159369174/work/src/c_api/c_api.cc:1240: Saving into deprecated binary model format, please consider using `json` or `ubj`. Model format will default to JSON in XGBoost 2.2 if not specified.\n",
      "[06:47:12] WARNING: /home/conda/feedstock_root/build_artifacts/xgboost-split_1707159369174/work/src/c_api/c_api.cc:1240: Saving into deprecated binary model format, please consider using `json` or `ubj`. Model format will default to JSON in XGBoost 2.2 if not specified.\n",
      "[06:47:16] WARNING: /home/conda/feedstock_root/build_artifacts/xgboost-split_1707159369174/work/src/c_api/c_api.cc:1240: Saving into deprecated binary model format, please consider using `json` or `ubj`. Model format will default to JSON in XGBoost 2.2 if not specified.\n",
      "[06:47:21] WARNING: /home/conda/feedstock_root/build_artifacts/xgboost-split_1707159369174/work/src/c_api/c_api.cc:1240: Saving into deprecated binary model format, please consider using `json` or `ubj`. Model format will default to JSON in XGBoost 2.2 if not specified.\n",
      "[06:47:27] WARNING: /home/conda/feedstock_root/build_artifacts/xgboost-split_1707159369174/work/src/c_api/c_api.cc:1240: Saving into deprecated binary model format, please consider using `json` or `ubj`. Model format will default to JSON in XGBoost 2.2 if not specified.\n",
      "[06:47:33] WARNING: /home/conda/feedstock_root/build_artifacts/xgboost-split_1707159369174/work/src/c_api/c_api.cc:1240: Saving into deprecated binary model format, please consider using `json` or `ubj`. Model format will default to JSON in XGBoost 2.2 if not specified.\n",
      "[06:47:37] WARNING: /home/conda/feedstock_root/build_artifacts/xgboost-split_1707159369174/work/src/c_api/c_api.cc:1240: Saving into deprecated binary model format, please consider using `json` or `ubj`. Model format will default to JSON in XGBoost 2.2 if not specified.\n",
      "[06:47:39] WARNING: /home/conda/feedstock_root/build_artifacts/xgboost-split_1707159369174/work/src/c_api/c_api.cc:1240: Saving into deprecated binary model format, please consider using `json` or `ubj`. Model format will default to JSON in XGBoost 2.2 if not specified.\n",
      "[06:47:42] WARNING: /home/conda/feedstock_root/build_artifacts/xgboost-split_1707159369174/work/src/c_api/c_api.cc:1240: Saving into deprecated binary model format, please consider using `json` or `ubj`. Model format will default to JSON in XGBoost 2.2 if not specified.\n",
      "[06:47:46] WARNING: /home/conda/feedstock_root/build_artifacts/xgboost-split_1707159369174/work/src/c_api/c_api.cc:1240: Saving into deprecated binary model format, please consider using `json` or `ubj`. Model format will default to JSON in XGBoost 2.2 if not specified.\n",
      "[06:47:50] WARNING: /home/conda/feedstock_root/build_artifacts/xgboost-split_1707159369174/work/src/c_api/c_api.cc:1240: Saving into deprecated binary model format, please consider using `json` or `ubj`. Model format will default to JSON in XGBoost 2.2 if not specified.\n",
      "[06:47:54] WARNING: /home/conda/feedstock_root/build_artifacts/xgboost-split_1707159369174/work/src/c_api/c_api.cc:1240: Saving into deprecated binary model format, please consider using `json` or `ubj`. Model format will default to JSON in XGBoost 2.2 if not specified.\n",
      "[06:47:57] WARNING: /home/conda/feedstock_root/build_artifacts/xgboost-split_1707159369174/work/src/c_api/c_api.cc:1240: Saving into deprecated binary model format, please consider using `json` or `ubj`. Model format will default to JSON in XGBoost 2.2 if not specified.\n",
      "[06:48:01] WARNING: /home/conda/feedstock_root/build_artifacts/xgboost-split_1707159369174/work/src/c_api/c_api.cc:1240: Saving into deprecated binary model format, please consider using `json` or `ubj`. Model format will default to JSON in XGBoost 2.2 if not specified.\n",
      "[06:48:05] WARNING: /home/conda/feedstock_root/build_artifacts/xgboost-split_1707159369174/work/src/c_api/c_api.cc:1240: Saving into deprecated binary model format, please consider using `json` or `ubj`. Model format will default to JSON in XGBoost 2.2 if not specified.\n",
      "[06:48:09] WARNING: /home/conda/feedstock_root/build_artifacts/xgboost-split_1707159369174/work/src/c_api/c_api.cc:1240: Saving into deprecated binary model format, please consider using `json` or `ubj`. Model format will default to JSON in XGBoost 2.2 if not specified.\n",
      "[06:48:11] WARNING: /home/conda/feedstock_root/build_artifacts/xgboost-split_1707159369174/work/src/c_api/c_api.cc:1240: Saving into deprecated binary model format, please consider using `json` or `ubj`. Model format will default to JSON in XGBoost 2.2 if not specified.\n",
      "[06:48:14] WARNING: /home/conda/feedstock_root/build_artifacts/xgboost-split_1707159369174/work/src/c_api/c_api.cc:1240: Saving into deprecated binary model format, please consider using `json` or `ubj`. Model format will default to JSON in XGBoost 2.2 if not specified.\n",
      "[06:48:18] WARNING: /home/conda/feedstock_root/build_artifacts/xgboost-split_1707159369174/work/src/c_api/c_api.cc:1240: Saving into deprecated binary model format, please consider using `json` or `ubj`. Model format will default to JSON in XGBoost 2.2 if not specified.\n",
      "[06:48:22] WARNING: /home/conda/feedstock_root/build_artifacts/xgboost-split_1707159369174/work/src/c_api/c_api.cc:1240: Saving into deprecated binary model format, please consider using `json` or `ubj`. Model format will default to JSON in XGBoost 2.2 if not specified.\n",
      "[06:48:26] WARNING: /home/conda/feedstock_root/build_artifacts/xgboost-split_1707159369174/work/src/c_api/c_api.cc:1240: Saving into deprecated binary model format, please consider using `json` or `ubj`. Model format will default to JSON in XGBoost 2.2 if not specified.\n"
     ]
    },
    {
     "name": "stdout",
     "output_type": "stream",
     "text": [
      "Best Parameters: {'learning_rate': 0.031271423474450895, 'max_depth': 25, 'subsample': 0.5215754282242485, 'gamma': 0.5363418516206945, 'colsample_bytree': 0.7021961634413949, 'lambda': 0.03253583896495371, 'alpha': 8.866176435122803}\n"
     ]
    },
    {
     "name": "stderr",
     "output_type": "stream",
     "text": [
      "[06:48:29] WARNING: /home/conda/feedstock_root/build_artifacts/xgboost-split_1707159369174/work/src/c_api/c_api.cc:1240: Saving into deprecated binary model format, please consider using `json` or `ubj`. Model format will default to JSON in XGBoost 2.2 if not specified.\n"
     ]
    },
    {
     "name": "stdout",
     "output_type": "stream",
     "text": [
      "Results Summary: {'Match': 13, 'No Evaluation': 1}\n",
      "\n",
      "--- Evaluating model with feature H2A.W.6_log added back ---\n",
      "\n"
     ]
    },
    {
     "name": "stderr",
     "output_type": "stream",
     "text": [
      "[06:48:33] WARNING: /home/conda/feedstock_root/build_artifacts/xgboost-split_1707159369174/work/src/c_api/c_api.cc:1240: Saving into deprecated binary model format, please consider using `json` or `ubj`. Model format will default to JSON in XGBoost 2.2 if not specified.\n"
     ]
    },
    {
     "name": "stdout",
     "output_type": "stream",
     "text": [
      "Results Summary: {'Match': 11, 'Mismatch': 3, 'No Evaluation': 1}\n",
      "Feature: H2A.W.6_log, Known Function: Repressive, Result: Match\n",
      "\n",
      "--- Performing LOO for feature H3Ac_log ---\n",
      "\n",
      "Remaining Features: ['H2A.2', 'H3K4me1', 'H2A.13', 'H3K4me3', 'H3K36me3', 'H4K5Ac', 'H2A.Z.11', 'expression_category', 'H3K27me3_log', 'H3K9Ac_log', 'cpg_percentage_log', 'H3K9K14Ac_log', 'chh_percentage_log', 'H4K20me1_log', 'chg_percentage_log', 'H2A.W.7_log', 'H3K9me1_log', 'H2A.W.6_log', 'H2A.Z.9_log', 'H3K23me1_log', 'H3K9me2_log']\n"
     ]
    },
    {
     "name": "stderr",
     "output_type": "stream",
     "text": [
      "[06:48:38] WARNING: /home/conda/feedstock_root/build_artifacts/xgboost-split_1707159369174/work/src/c_api/c_api.cc:1240: Saving into deprecated binary model format, please consider using `json` or `ubj`. Model format will default to JSON in XGBoost 2.2 if not specified.\n",
      "[06:48:41] WARNING: /home/conda/feedstock_root/build_artifacts/xgboost-split_1707159369174/work/src/c_api/c_api.cc:1240: Saving into deprecated binary model format, please consider using `json` or `ubj`. Model format will default to JSON in XGBoost 2.2 if not specified.\n",
      "[06:48:46] WARNING: /home/conda/feedstock_root/build_artifacts/xgboost-split_1707159369174/work/src/c_api/c_api.cc:1240: Saving into deprecated binary model format, please consider using `json` or `ubj`. Model format will default to JSON in XGBoost 2.2 if not specified.\n",
      "[06:48:50] WARNING: /home/conda/feedstock_root/build_artifacts/xgboost-split_1707159369174/work/src/c_api/c_api.cc:1240: Saving into deprecated binary model format, please consider using `json` or `ubj`. Model format will default to JSON in XGBoost 2.2 if not specified.\n",
      "[06:48:55] WARNING: /home/conda/feedstock_root/build_artifacts/xgboost-split_1707159369174/work/src/c_api/c_api.cc:1240: Saving into deprecated binary model format, please consider using `json` or `ubj`. Model format will default to JSON in XGBoost 2.2 if not specified.\n",
      "[06:49:01] WARNING: /home/conda/feedstock_root/build_artifacts/xgboost-split_1707159369174/work/src/c_api/c_api.cc:1240: Saving into deprecated binary model format, please consider using `json` or `ubj`. Model format will default to JSON in XGBoost 2.2 if not specified.\n",
      "[06:49:08] WARNING: /home/conda/feedstock_root/build_artifacts/xgboost-split_1707159369174/work/src/c_api/c_api.cc:1240: Saving into deprecated binary model format, please consider using `json` or `ubj`. Model format will default to JSON in XGBoost 2.2 if not specified.\n",
      "[06:49:13] WARNING: /home/conda/feedstock_root/build_artifacts/xgboost-split_1707159369174/work/src/c_api/c_api.cc:1240: Saving into deprecated binary model format, please consider using `json` or `ubj`. Model format will default to JSON in XGBoost 2.2 if not specified.\n",
      "[06:49:16] WARNING: /home/conda/feedstock_root/build_artifacts/xgboost-split_1707159369174/work/src/c_api/c_api.cc:1240: Saving into deprecated binary model format, please consider using `json` or `ubj`. Model format will default to JSON in XGBoost 2.2 if not specified.\n",
      "[06:49:20] WARNING: /home/conda/feedstock_root/build_artifacts/xgboost-split_1707159369174/work/src/c_api/c_api.cc:1240: Saving into deprecated binary model format, please consider using `json` or `ubj`. Model format will default to JSON in XGBoost 2.2 if not specified.\n",
      "[06:49:23] WARNING: /home/conda/feedstock_root/build_artifacts/xgboost-split_1707159369174/work/src/c_api/c_api.cc:1240: Saving into deprecated binary model format, please consider using `json` or `ubj`. Model format will default to JSON in XGBoost 2.2 if not specified.\n",
      "[06:49:27] WARNING: /home/conda/feedstock_root/build_artifacts/xgboost-split_1707159369174/work/src/c_api/c_api.cc:1240: Saving into deprecated binary model format, please consider using `json` or `ubj`. Model format will default to JSON in XGBoost 2.2 if not specified.\n",
      "[06:49:31] WARNING: /home/conda/feedstock_root/build_artifacts/xgboost-split_1707159369174/work/src/c_api/c_api.cc:1240: Saving into deprecated binary model format, please consider using `json` or `ubj`. Model format will default to JSON in XGBoost 2.2 if not specified.\n",
      "[06:49:34] WARNING: /home/conda/feedstock_root/build_artifacts/xgboost-split_1707159369174/work/src/c_api/c_api.cc:1240: Saving into deprecated binary model format, please consider using `json` or `ubj`. Model format will default to JSON in XGBoost 2.2 if not specified.\n",
      "[06:49:37] WARNING: /home/conda/feedstock_root/build_artifacts/xgboost-split_1707159369174/work/src/c_api/c_api.cc:1240: Saving into deprecated binary model format, please consider using `json` or `ubj`. Model format will default to JSON in XGBoost 2.2 if not specified.\n",
      "[06:49:41] WARNING: /home/conda/feedstock_root/build_artifacts/xgboost-split_1707159369174/work/src/c_api/c_api.cc:1240: Saving into deprecated binary model format, please consider using `json` or `ubj`. Model format will default to JSON in XGBoost 2.2 if not specified.\n",
      "[06:49:45] WARNING: /home/conda/feedstock_root/build_artifacts/xgboost-split_1707159369174/work/src/c_api/c_api.cc:1240: Saving into deprecated binary model format, please consider using `json` or `ubj`. Model format will default to JSON in XGBoost 2.2 if not specified.\n",
      "[06:49:49] WARNING: /home/conda/feedstock_root/build_artifacts/xgboost-split_1707159369174/work/src/c_api/c_api.cc:1240: Saving into deprecated binary model format, please consider using `json` or `ubj`. Model format will default to JSON in XGBoost 2.2 if not specified.\n",
      "[06:49:53] WARNING: /home/conda/feedstock_root/build_artifacts/xgboost-split_1707159369174/work/src/c_api/c_api.cc:1240: Saving into deprecated binary model format, please consider using `json` or `ubj`. Model format will default to JSON in XGBoost 2.2 if not specified.\n",
      "[06:49:57] WARNING: /home/conda/feedstock_root/build_artifacts/xgboost-split_1707159369174/work/src/c_api/c_api.cc:1240: Saving into deprecated binary model format, please consider using `json` or `ubj`. Model format will default to JSON in XGBoost 2.2 if not specified.\n",
      "[06:50:01] WARNING: /home/conda/feedstock_root/build_artifacts/xgboost-split_1707159369174/work/src/c_api/c_api.cc:1240: Saving into deprecated binary model format, please consider using `json` or `ubj`. Model format will default to JSON in XGBoost 2.2 if not specified.\n",
      "[06:50:04] WARNING: /home/conda/feedstock_root/build_artifacts/xgboost-split_1707159369174/work/src/c_api/c_api.cc:1240: Saving into deprecated binary model format, please consider using `json` or `ubj`. Model format will default to JSON in XGBoost 2.2 if not specified.\n",
      "[06:50:08] WARNING: /home/conda/feedstock_root/build_artifacts/xgboost-split_1707159369174/work/src/c_api/c_api.cc:1240: Saving into deprecated binary model format, please consider using `json` or `ubj`. Model format will default to JSON in XGBoost 2.2 if not specified.\n",
      "[06:50:12] WARNING: /home/conda/feedstock_root/build_artifacts/xgboost-split_1707159369174/work/src/c_api/c_api.cc:1240: Saving into deprecated binary model format, please consider using `json` or `ubj`. Model format will default to JSON in XGBoost 2.2 if not specified.\n",
      "[06:50:15] WARNING: /home/conda/feedstock_root/build_artifacts/xgboost-split_1707159369174/work/src/c_api/c_api.cc:1240: Saving into deprecated binary model format, please consider using `json` or `ubj`. Model format will default to JSON in XGBoost 2.2 if not specified.\n",
      "[06:50:20] WARNING: /home/conda/feedstock_root/build_artifacts/xgboost-split_1707159369174/work/src/c_api/c_api.cc:1240: Saving into deprecated binary model format, please consider using `json` or `ubj`. Model format will default to JSON in XGBoost 2.2 if not specified.\n",
      "[06:50:24] WARNING: /home/conda/feedstock_root/build_artifacts/xgboost-split_1707159369174/work/src/c_api/c_api.cc:1240: Saving into deprecated binary model format, please consider using `json` or `ubj`. Model format will default to JSON in XGBoost 2.2 if not specified.\n",
      "[06:50:28] WARNING: /home/conda/feedstock_root/build_artifacts/xgboost-split_1707159369174/work/src/c_api/c_api.cc:1240: Saving into deprecated binary model format, please consider using `json` or `ubj`. Model format will default to JSON in XGBoost 2.2 if not specified.\n",
      "[06:50:31] WARNING: /home/conda/feedstock_root/build_artifacts/xgboost-split_1707159369174/work/src/c_api/c_api.cc:1240: Saving into deprecated binary model format, please consider using `json` or `ubj`. Model format will default to JSON in XGBoost 2.2 if not specified.\n",
      "[06:50:34] WARNING: /home/conda/feedstock_root/build_artifacts/xgboost-split_1707159369174/work/src/c_api/c_api.cc:1240: Saving into deprecated binary model format, please consider using `json` or `ubj`. Model format will default to JSON in XGBoost 2.2 if not specified.\n",
      "[06:50:39] WARNING: /home/conda/feedstock_root/build_artifacts/xgboost-split_1707159369174/work/src/c_api/c_api.cc:1240: Saving into deprecated binary model format, please consider using `json` or `ubj`. Model format will default to JSON in XGBoost 2.2 if not specified.\n",
      "[06:50:44] WARNING: /home/conda/feedstock_root/build_artifacts/xgboost-split_1707159369174/work/src/c_api/c_api.cc:1240: Saving into deprecated binary model format, please consider using `json` or `ubj`. Model format will default to JSON in XGBoost 2.2 if not specified.\n",
      "[06:50:48] WARNING: /home/conda/feedstock_root/build_artifacts/xgboost-split_1707159369174/work/src/c_api/c_api.cc:1240: Saving into deprecated binary model format, please consider using `json` or `ubj`. Model format will default to JSON in XGBoost 2.2 if not specified.\n",
      "[06:50:51] WARNING: /home/conda/feedstock_root/build_artifacts/xgboost-split_1707159369174/work/src/c_api/c_api.cc:1240: Saving into deprecated binary model format, please consider using `json` or `ubj`. Model format will default to JSON in XGBoost 2.2 if not specified.\n",
      "[06:50:56] WARNING: /home/conda/feedstock_root/build_artifacts/xgboost-split_1707159369174/work/src/c_api/c_api.cc:1240: Saving into deprecated binary model format, please consider using `json` or `ubj`. Model format will default to JSON in XGBoost 2.2 if not specified.\n",
      "[06:51:00] WARNING: /home/conda/feedstock_root/build_artifacts/xgboost-split_1707159369174/work/src/c_api/c_api.cc:1240: Saving into deprecated binary model format, please consider using `json` or `ubj`. Model format will default to JSON in XGBoost 2.2 if not specified.\n",
      "[06:51:04] WARNING: /home/conda/feedstock_root/build_artifacts/xgboost-split_1707159369174/work/src/c_api/c_api.cc:1240: Saving into deprecated binary model format, please consider using `json` or `ubj`. Model format will default to JSON in XGBoost 2.2 if not specified.\n",
      "[06:51:07] WARNING: /home/conda/feedstock_root/build_artifacts/xgboost-split_1707159369174/work/src/c_api/c_api.cc:1240: Saving into deprecated binary model format, please consider using `json` or `ubj`. Model format will default to JSON in XGBoost 2.2 if not specified.\n",
      "[06:51:15] WARNING: /home/conda/feedstock_root/build_artifacts/xgboost-split_1707159369174/work/src/c_api/c_api.cc:1240: Saving into deprecated binary model format, please consider using `json` or `ubj`. Model format will default to JSON in XGBoost 2.2 if not specified.\n",
      "[06:51:20] WARNING: /home/conda/feedstock_root/build_artifacts/xgboost-split_1707159369174/work/src/c_api/c_api.cc:1240: Saving into deprecated binary model format, please consider using `json` or `ubj`. Model format will default to JSON in XGBoost 2.2 if not specified.\n"
     ]
    },
    {
     "name": "stdout",
     "output_type": "stream",
     "text": [
      "Best Parameters: {'learning_rate': 0.032392415573410036, 'max_depth': 23, 'subsample': 0.5867866018887475, 'gamma': 0.03928518428446763, 'colsample_bytree': 0.5017811853717092, 'lambda': 6.83644877157766, 'alpha': 11.695836715367829}\n"
     ]
    },
    {
     "name": "stderr",
     "output_type": "stream",
     "text": [
      "[06:51:24] WARNING: /home/conda/feedstock_root/build_artifacts/xgboost-split_1707159369174/work/src/c_api/c_api.cc:1240: Saving into deprecated binary model format, please consider using `json` or `ubj`. Model format will default to JSON in XGBoost 2.2 if not specified.\n"
     ]
    },
    {
     "name": "stdout",
     "output_type": "stream",
     "text": [
      "Results Summary: {'Match': 13, 'Mismatch': 2, 'No Evaluation': 1}\n",
      "Removing mismatch feature: H4K5Ac\n",
      "Remaining Features: ['H2A.2', 'H3K4me1', 'H2A.13', 'H3K4me3', 'H3K36me3', 'H2A.Z.11', 'expression_category', 'H3K27me3_log', 'H3K9Ac_log', 'cpg_percentage_log', 'H3K9K14Ac_log', 'chh_percentage_log', 'H4K20me1_log', 'chg_percentage_log', 'H2A.W.7_log', 'H3K9me1_log', 'H2A.W.6_log', 'H2A.Z.9_log', 'H3K23me1_log', 'H3K9me2_log']\n"
     ]
    },
    {
     "name": "stderr",
     "output_type": "stream",
     "text": [
      "[06:51:28] WARNING: /home/conda/feedstock_root/build_artifacts/xgboost-split_1707159369174/work/src/c_api/c_api.cc:1240: Saving into deprecated binary model format, please consider using `json` or `ubj`. Model format will default to JSON in XGBoost 2.2 if not specified.\n",
      "[06:51:32] WARNING: /home/conda/feedstock_root/build_artifacts/xgboost-split_1707159369174/work/src/c_api/c_api.cc:1240: Saving into deprecated binary model format, please consider using `json` or `ubj`. Model format will default to JSON in XGBoost 2.2 if not specified.\n",
      "[06:51:35] WARNING: /home/conda/feedstock_root/build_artifacts/xgboost-split_1707159369174/work/src/c_api/c_api.cc:1240: Saving into deprecated binary model format, please consider using `json` or `ubj`. Model format will default to JSON in XGBoost 2.2 if not specified.\n",
      "[06:51:40] WARNING: /home/conda/feedstock_root/build_artifacts/xgboost-split_1707159369174/work/src/c_api/c_api.cc:1240: Saving into deprecated binary model format, please consider using `json` or `ubj`. Model format will default to JSON in XGBoost 2.2 if not specified.\n",
      "[06:51:44] WARNING: /home/conda/feedstock_root/build_artifacts/xgboost-split_1707159369174/work/src/c_api/c_api.cc:1240: Saving into deprecated binary model format, please consider using `json` or `ubj`. Model format will default to JSON in XGBoost 2.2 if not specified.\n",
      "[06:51:48] WARNING: /home/conda/feedstock_root/build_artifacts/xgboost-split_1707159369174/work/src/c_api/c_api.cc:1240: Saving into deprecated binary model format, please consider using `json` or `ubj`. Model format will default to JSON in XGBoost 2.2 if not specified.\n",
      "[06:51:52] WARNING: /home/conda/feedstock_root/build_artifacts/xgboost-split_1707159369174/work/src/c_api/c_api.cc:1240: Saving into deprecated binary model format, please consider using `json` or `ubj`. Model format will default to JSON in XGBoost 2.2 if not specified.\n",
      "[06:51:55] WARNING: /home/conda/feedstock_root/build_artifacts/xgboost-split_1707159369174/work/src/c_api/c_api.cc:1240: Saving into deprecated binary model format, please consider using `json` or `ubj`. Model format will default to JSON in XGBoost 2.2 if not specified.\n",
      "[06:51:59] WARNING: /home/conda/feedstock_root/build_artifacts/xgboost-split_1707159369174/work/src/c_api/c_api.cc:1240: Saving into deprecated binary model format, please consider using `json` or `ubj`. Model format will default to JSON in XGBoost 2.2 if not specified.\n",
      "[06:52:02] WARNING: /home/conda/feedstock_root/build_artifacts/xgboost-split_1707159369174/work/src/c_api/c_api.cc:1240: Saving into deprecated binary model format, please consider using `json` or `ubj`. Model format will default to JSON in XGBoost 2.2 if not specified.\n",
      "[06:52:04] WARNING: /home/conda/feedstock_root/build_artifacts/xgboost-split_1707159369174/work/src/c_api/c_api.cc:1240: Saving into deprecated binary model format, please consider using `json` or `ubj`. Model format will default to JSON in XGBoost 2.2 if not specified.\n",
      "[06:52:07] WARNING: /home/conda/feedstock_root/build_artifacts/xgboost-split_1707159369174/work/src/c_api/c_api.cc:1240: Saving into deprecated binary model format, please consider using `json` or `ubj`. Model format will default to JSON in XGBoost 2.2 if not specified.\n",
      "[06:52:09] WARNING: /home/conda/feedstock_root/build_artifacts/xgboost-split_1707159369174/work/src/c_api/c_api.cc:1240: Saving into deprecated binary model format, please consider using `json` or `ubj`. Model format will default to JSON in XGBoost 2.2 if not specified.\n",
      "[06:52:11] WARNING: /home/conda/feedstock_root/build_artifacts/xgboost-split_1707159369174/work/src/c_api/c_api.cc:1240: Saving into deprecated binary model format, please consider using `json` or `ubj`. Model format will default to JSON in XGBoost 2.2 if not specified.\n",
      "[06:52:14] WARNING: /home/conda/feedstock_root/build_artifacts/xgboost-split_1707159369174/work/src/c_api/c_api.cc:1240: Saving into deprecated binary model format, please consider using `json` or `ubj`. Model format will default to JSON in XGBoost 2.2 if not specified.\n",
      "[06:52:17] WARNING: /home/conda/feedstock_root/build_artifacts/xgboost-split_1707159369174/work/src/c_api/c_api.cc:1240: Saving into deprecated binary model format, please consider using `json` or `ubj`. Model format will default to JSON in XGBoost 2.2 if not specified.\n",
      "[06:52:20] WARNING: /home/conda/feedstock_root/build_artifacts/xgboost-split_1707159369174/work/src/c_api/c_api.cc:1240: Saving into deprecated binary model format, please consider using `json` or `ubj`. Model format will default to JSON in XGBoost 2.2 if not specified.\n",
      "[06:52:23] WARNING: /home/conda/feedstock_root/build_artifacts/xgboost-split_1707159369174/work/src/c_api/c_api.cc:1240: Saving into deprecated binary model format, please consider using `json` or `ubj`. Model format will default to JSON in XGBoost 2.2 if not specified.\n",
      "[06:52:28] WARNING: /home/conda/feedstock_root/build_artifacts/xgboost-split_1707159369174/work/src/c_api/c_api.cc:1240: Saving into deprecated binary model format, please consider using `json` or `ubj`. Model format will default to JSON in XGBoost 2.2 if not specified.\n",
      "[06:52:31] WARNING: /home/conda/feedstock_root/build_artifacts/xgboost-split_1707159369174/work/src/c_api/c_api.cc:1240: Saving into deprecated binary model format, please consider using `json` or `ubj`. Model format will default to JSON in XGBoost 2.2 if not specified.\n",
      "[06:52:33] WARNING: /home/conda/feedstock_root/build_artifacts/xgboost-split_1707159369174/work/src/c_api/c_api.cc:1240: Saving into deprecated binary model format, please consider using `json` or `ubj`. Model format will default to JSON in XGBoost 2.2 if not specified.\n",
      "[06:52:36] WARNING: /home/conda/feedstock_root/build_artifacts/xgboost-split_1707159369174/work/src/c_api/c_api.cc:1240: Saving into deprecated binary model format, please consider using `json` or `ubj`. Model format will default to JSON in XGBoost 2.2 if not specified.\n",
      "[06:52:39] WARNING: /home/conda/feedstock_root/build_artifacts/xgboost-split_1707159369174/work/src/c_api/c_api.cc:1240: Saving into deprecated binary model format, please consider using `json` or `ubj`. Model format will default to JSON in XGBoost 2.2 if not specified.\n",
      "[06:52:42] WARNING: /home/conda/feedstock_root/build_artifacts/xgboost-split_1707159369174/work/src/c_api/c_api.cc:1240: Saving into deprecated binary model format, please consider using `json` or `ubj`. Model format will default to JSON in XGBoost 2.2 if not specified.\n",
      "[06:52:45] WARNING: /home/conda/feedstock_root/build_artifacts/xgboost-split_1707159369174/work/src/c_api/c_api.cc:1240: Saving into deprecated binary model format, please consider using `json` or `ubj`. Model format will default to JSON in XGBoost 2.2 if not specified.\n",
      "[06:52:48] WARNING: /home/conda/feedstock_root/build_artifacts/xgboost-split_1707159369174/work/src/c_api/c_api.cc:1240: Saving into deprecated binary model format, please consider using `json` or `ubj`. Model format will default to JSON in XGBoost 2.2 if not specified.\n",
      "[06:52:50] WARNING: /home/conda/feedstock_root/build_artifacts/xgboost-split_1707159369174/work/src/c_api/c_api.cc:1240: Saving into deprecated binary model format, please consider using `json` or `ubj`. Model format will default to JSON in XGBoost 2.2 if not specified.\n",
      "[06:52:53] WARNING: /home/conda/feedstock_root/build_artifacts/xgboost-split_1707159369174/work/src/c_api/c_api.cc:1240: Saving into deprecated binary model format, please consider using `json` or `ubj`. Model format will default to JSON in XGBoost 2.2 if not specified.\n",
      "[06:52:55] WARNING: /home/conda/feedstock_root/build_artifacts/xgboost-split_1707159369174/work/src/c_api/c_api.cc:1240: Saving into deprecated binary model format, please consider using `json` or `ubj`. Model format will default to JSON in XGBoost 2.2 if not specified.\n",
      "[06:52:58] WARNING: /home/conda/feedstock_root/build_artifacts/xgboost-split_1707159369174/work/src/c_api/c_api.cc:1240: Saving into deprecated binary model format, please consider using `json` or `ubj`. Model format will default to JSON in XGBoost 2.2 if not specified.\n",
      "[06:53:00] WARNING: /home/conda/feedstock_root/build_artifacts/xgboost-split_1707159369174/work/src/c_api/c_api.cc:1240: Saving into deprecated binary model format, please consider using `json` or `ubj`. Model format will default to JSON in XGBoost 2.2 if not specified.\n",
      "[06:53:02] WARNING: /home/conda/feedstock_root/build_artifacts/xgboost-split_1707159369174/work/src/c_api/c_api.cc:1240: Saving into deprecated binary model format, please consider using `json` or `ubj`. Model format will default to JSON in XGBoost 2.2 if not specified.\n",
      "[06:53:04] WARNING: /home/conda/feedstock_root/build_artifacts/xgboost-split_1707159369174/work/src/c_api/c_api.cc:1240: Saving into deprecated binary model format, please consider using `json` or `ubj`. Model format will default to JSON in XGBoost 2.2 if not specified.\n",
      "[06:53:06] WARNING: /home/conda/feedstock_root/build_artifacts/xgboost-split_1707159369174/work/src/c_api/c_api.cc:1240: Saving into deprecated binary model format, please consider using `json` or `ubj`. Model format will default to JSON in XGBoost 2.2 if not specified.\n",
      "[06:53:08] WARNING: /home/conda/feedstock_root/build_artifacts/xgboost-split_1707159369174/work/src/c_api/c_api.cc:1240: Saving into deprecated binary model format, please consider using `json` or `ubj`. Model format will default to JSON in XGBoost 2.2 if not specified.\n",
      "[06:53:11] WARNING: /home/conda/feedstock_root/build_artifacts/xgboost-split_1707159369174/work/src/c_api/c_api.cc:1240: Saving into deprecated binary model format, please consider using `json` or `ubj`. Model format will default to JSON in XGBoost 2.2 if not specified.\n",
      "[06:53:14] WARNING: /home/conda/feedstock_root/build_artifacts/xgboost-split_1707159369174/work/src/c_api/c_api.cc:1240: Saving into deprecated binary model format, please consider using `json` or `ubj`. Model format will default to JSON in XGBoost 2.2 if not specified.\n",
      "[06:53:17] WARNING: /home/conda/feedstock_root/build_artifacts/xgboost-split_1707159369174/work/src/c_api/c_api.cc:1240: Saving into deprecated binary model format, please consider using `json` or `ubj`. Model format will default to JSON in XGBoost 2.2 if not specified.\n",
      "[06:53:19] WARNING: /home/conda/feedstock_root/build_artifacts/xgboost-split_1707159369174/work/src/c_api/c_api.cc:1240: Saving into deprecated binary model format, please consider using `json` or `ubj`. Model format will default to JSON in XGBoost 2.2 if not specified.\n",
      "[06:53:22] WARNING: /home/conda/feedstock_root/build_artifacts/xgboost-split_1707159369174/work/src/c_api/c_api.cc:1240: Saving into deprecated binary model format, please consider using `json` or `ubj`. Model format will default to JSON in XGBoost 2.2 if not specified.\n"
     ]
    },
    {
     "name": "stdout",
     "output_type": "stream",
     "text": [
      "Best Parameters: {'learning_rate': 0.02793812517467547, 'max_depth': 18, 'subsample': 0.46007491536435163, 'gamma': 0.4685406379347352, 'colsample_bytree': 0.5721076577543084, 'lambda': 11.509564312426376, 'alpha': 8.863922044745104}\n"
     ]
    },
    {
     "name": "stderr",
     "output_type": "stream",
     "text": [
      "[06:53:25] WARNING: /home/conda/feedstock_root/build_artifacts/xgboost-split_1707159369174/work/src/c_api/c_api.cc:1240: Saving into deprecated binary model format, please consider using `json` or `ubj`. Model format will default to JSON in XGBoost 2.2 if not specified.\n"
     ]
    },
    {
     "name": "stdout",
     "output_type": "stream",
     "text": [
      "Results Summary: {'Match': 13, 'Mismatch': 1, 'No Evaluation': 1}\n",
      "Removing mismatch feature: H3K4me1\n",
      "Remaining Features: ['H2A.2', 'H2A.13', 'H3K4me3', 'H3K36me3', 'H2A.Z.11', 'expression_category', 'H3K27me3_log', 'H3K9Ac_log', 'cpg_percentage_log', 'H3K9K14Ac_log', 'chh_percentage_log', 'H4K20me1_log', 'chg_percentage_log', 'H2A.W.7_log', 'H3K9me1_log', 'H2A.W.6_log', 'H2A.Z.9_log', 'H3K23me1_log', 'H3K9me2_log']\n"
     ]
    },
    {
     "name": "stderr",
     "output_type": "stream",
     "text": [
      "[06:53:27] WARNING: /home/conda/feedstock_root/build_artifacts/xgboost-split_1707159369174/work/src/c_api/c_api.cc:1240: Saving into deprecated binary model format, please consider using `json` or `ubj`. Model format will default to JSON in XGBoost 2.2 if not specified.\n",
      "[06:53:31] WARNING: /home/conda/feedstock_root/build_artifacts/xgboost-split_1707159369174/work/src/c_api/c_api.cc:1240: Saving into deprecated binary model format, please consider using `json` or `ubj`. Model format will default to JSON in XGBoost 2.2 if not specified.\n",
      "[06:53:34] WARNING: /home/conda/feedstock_root/build_artifacts/xgboost-split_1707159369174/work/src/c_api/c_api.cc:1240: Saving into deprecated binary model format, please consider using `json` or `ubj`. Model format will default to JSON in XGBoost 2.2 if not specified.\n",
      "[06:53:35] WARNING: /home/conda/feedstock_root/build_artifacts/xgboost-split_1707159369174/work/src/c_api/c_api.cc:1240: Saving into deprecated binary model format, please consider using `json` or `ubj`. Model format will default to JSON in XGBoost 2.2 if not specified.\n",
      "[06:53:43] WARNING: /home/conda/feedstock_root/build_artifacts/xgboost-split_1707159369174/work/src/c_api/c_api.cc:1240: Saving into deprecated binary model format, please consider using `json` or `ubj`. Model format will default to JSON in XGBoost 2.2 if not specified.\n",
      "[06:53:52] WARNING: /home/conda/feedstock_root/build_artifacts/xgboost-split_1707159369174/work/src/c_api/c_api.cc:1240: Saving into deprecated binary model format, please consider using `json` or `ubj`. Model format will default to JSON in XGBoost 2.2 if not specified.\n",
      "[06:53:56] WARNING: /home/conda/feedstock_root/build_artifacts/xgboost-split_1707159369174/work/src/c_api/c_api.cc:1240: Saving into deprecated binary model format, please consider using `json` or `ubj`. Model format will default to JSON in XGBoost 2.2 if not specified.\n",
      "[06:53:59] WARNING: /home/conda/feedstock_root/build_artifacts/xgboost-split_1707159369174/work/src/c_api/c_api.cc:1240: Saving into deprecated binary model format, please consider using `json` or `ubj`. Model format will default to JSON in XGBoost 2.2 if not specified.\n",
      "[06:54:03] WARNING: /home/conda/feedstock_root/build_artifacts/xgboost-split_1707159369174/work/src/c_api/c_api.cc:1240: Saving into deprecated binary model format, please consider using `json` or `ubj`. Model format will default to JSON in XGBoost 2.2 if not specified.\n",
      "[06:54:07] WARNING: /home/conda/feedstock_root/build_artifacts/xgboost-split_1707159369174/work/src/c_api/c_api.cc:1240: Saving into deprecated binary model format, please consider using `json` or `ubj`. Model format will default to JSON in XGBoost 2.2 if not specified.\n",
      "[06:54:11] WARNING: /home/conda/feedstock_root/build_artifacts/xgboost-split_1707159369174/work/src/c_api/c_api.cc:1240: Saving into deprecated binary model format, please consider using `json` or `ubj`. Model format will default to JSON in XGBoost 2.2 if not specified.\n",
      "[06:54:13] WARNING: /home/conda/feedstock_root/build_artifacts/xgboost-split_1707159369174/work/src/c_api/c_api.cc:1240: Saving into deprecated binary model format, please consider using `json` or `ubj`. Model format will default to JSON in XGBoost 2.2 if not specified.\n",
      "[06:54:15] WARNING: /home/conda/feedstock_root/build_artifacts/xgboost-split_1707159369174/work/src/c_api/c_api.cc:1240: Saving into deprecated binary model format, please consider using `json` or `ubj`. Model format will default to JSON in XGBoost 2.2 if not specified.\n",
      "[06:54:17] WARNING: /home/conda/feedstock_root/build_artifacts/xgboost-split_1707159369174/work/src/c_api/c_api.cc:1240: Saving into deprecated binary model format, please consider using `json` or `ubj`. Model format will default to JSON in XGBoost 2.2 if not specified.\n",
      "[06:54:18] WARNING: /home/conda/feedstock_root/build_artifacts/xgboost-split_1707159369174/work/src/c_api/c_api.cc:1240: Saving into deprecated binary model format, please consider using `json` or `ubj`. Model format will default to JSON in XGBoost 2.2 if not specified.\n",
      "[06:54:20] WARNING: /home/conda/feedstock_root/build_artifacts/xgboost-split_1707159369174/work/src/c_api/c_api.cc:1240: Saving into deprecated binary model format, please consider using `json` or `ubj`. Model format will default to JSON in XGBoost 2.2 if not specified.\n",
      "[06:54:23] WARNING: /home/conda/feedstock_root/build_artifacts/xgboost-split_1707159369174/work/src/c_api/c_api.cc:1240: Saving into deprecated binary model format, please consider using `json` or `ubj`. Model format will default to JSON in XGBoost 2.2 if not specified.\n",
      "[06:54:25] WARNING: /home/conda/feedstock_root/build_artifacts/xgboost-split_1707159369174/work/src/c_api/c_api.cc:1240: Saving into deprecated binary model format, please consider using `json` or `ubj`. Model format will default to JSON in XGBoost 2.2 if not specified.\n",
      "[06:54:28] WARNING: /home/conda/feedstock_root/build_artifacts/xgboost-split_1707159369174/work/src/c_api/c_api.cc:1240: Saving into deprecated binary model format, please consider using `json` or `ubj`. Model format will default to JSON in XGBoost 2.2 if not specified.\n",
      "[06:54:31] WARNING: /home/conda/feedstock_root/build_artifacts/xgboost-split_1707159369174/work/src/c_api/c_api.cc:1240: Saving into deprecated binary model format, please consider using `json` or `ubj`. Model format will default to JSON in XGBoost 2.2 if not specified.\n",
      "[06:54:33] WARNING: /home/conda/feedstock_root/build_artifacts/xgboost-split_1707159369174/work/src/c_api/c_api.cc:1240: Saving into deprecated binary model format, please consider using `json` or `ubj`. Model format will default to JSON in XGBoost 2.2 if not specified.\n",
      "[06:54:34] WARNING: /home/conda/feedstock_root/build_artifacts/xgboost-split_1707159369174/work/src/c_api/c_api.cc:1240: Saving into deprecated binary model format, please consider using `json` or `ubj`. Model format will default to JSON in XGBoost 2.2 if not specified.\n",
      "[06:54:36] WARNING: /home/conda/feedstock_root/build_artifacts/xgboost-split_1707159369174/work/src/c_api/c_api.cc:1240: Saving into deprecated binary model format, please consider using `json` or `ubj`. Model format will default to JSON in XGBoost 2.2 if not specified.\n",
      "[06:54:39] WARNING: /home/conda/feedstock_root/build_artifacts/xgboost-split_1707159369174/work/src/c_api/c_api.cc:1240: Saving into deprecated binary model format, please consider using `json` or `ubj`. Model format will default to JSON in XGBoost 2.2 if not specified.\n",
      "[06:54:42] WARNING: /home/conda/feedstock_root/build_artifacts/xgboost-split_1707159369174/work/src/c_api/c_api.cc:1240: Saving into deprecated binary model format, please consider using `json` or `ubj`. Model format will default to JSON in XGBoost 2.2 if not specified.\n",
      "[06:54:45] WARNING: /home/conda/feedstock_root/build_artifacts/xgboost-split_1707159369174/work/src/c_api/c_api.cc:1240: Saving into deprecated binary model format, please consider using `json` or `ubj`. Model format will default to JSON in XGBoost 2.2 if not specified.\n",
      "[06:54:48] WARNING: /home/conda/feedstock_root/build_artifacts/xgboost-split_1707159369174/work/src/c_api/c_api.cc:1240: Saving into deprecated binary model format, please consider using `json` or `ubj`. Model format will default to JSON in XGBoost 2.2 if not specified.\n",
      "[06:54:51] WARNING: /home/conda/feedstock_root/build_artifacts/xgboost-split_1707159369174/work/src/c_api/c_api.cc:1240: Saving into deprecated binary model format, please consider using `json` or `ubj`. Model format will default to JSON in XGBoost 2.2 if not specified.\n",
      "[06:54:54] WARNING: /home/conda/feedstock_root/build_artifacts/xgboost-split_1707159369174/work/src/c_api/c_api.cc:1240: Saving into deprecated binary model format, please consider using `json` or `ubj`. Model format will default to JSON in XGBoost 2.2 if not specified.\n",
      "[06:54:57] WARNING: /home/conda/feedstock_root/build_artifacts/xgboost-split_1707159369174/work/src/c_api/c_api.cc:1240: Saving into deprecated binary model format, please consider using `json` or `ubj`. Model format will default to JSON in XGBoost 2.2 if not specified.\n",
      "[06:55:00] WARNING: /home/conda/feedstock_root/build_artifacts/xgboost-split_1707159369174/work/src/c_api/c_api.cc:1240: Saving into deprecated binary model format, please consider using `json` or `ubj`. Model format will default to JSON in XGBoost 2.2 if not specified.\n",
      "[06:55:01] WARNING: /home/conda/feedstock_root/build_artifacts/xgboost-split_1707159369174/work/src/c_api/c_api.cc:1240: Saving into deprecated binary model format, please consider using `json` or `ubj`. Model format will default to JSON in XGBoost 2.2 if not specified.\n",
      "[06:55:03] WARNING: /home/conda/feedstock_root/build_artifacts/xgboost-split_1707159369174/work/src/c_api/c_api.cc:1240: Saving into deprecated binary model format, please consider using `json` or `ubj`. Model format will default to JSON in XGBoost 2.2 if not specified.\n",
      "[06:55:04] WARNING: /home/conda/feedstock_root/build_artifacts/xgboost-split_1707159369174/work/src/c_api/c_api.cc:1240: Saving into deprecated binary model format, please consider using `json` or `ubj`. Model format will default to JSON in XGBoost 2.2 if not specified.\n",
      "[06:55:06] WARNING: /home/conda/feedstock_root/build_artifacts/xgboost-split_1707159369174/work/src/c_api/c_api.cc:1240: Saving into deprecated binary model format, please consider using `json` or `ubj`. Model format will default to JSON in XGBoost 2.2 if not specified.\n",
      "[06:55:08] WARNING: /home/conda/feedstock_root/build_artifacts/xgboost-split_1707159369174/work/src/c_api/c_api.cc:1240: Saving into deprecated binary model format, please consider using `json` or `ubj`. Model format will default to JSON in XGBoost 2.2 if not specified.\n",
      "[06:55:09] WARNING: /home/conda/feedstock_root/build_artifacts/xgboost-split_1707159369174/work/src/c_api/c_api.cc:1240: Saving into deprecated binary model format, please consider using `json` or `ubj`. Model format will default to JSON in XGBoost 2.2 if not specified.\n",
      "[06:55:12] WARNING: /home/conda/feedstock_root/build_artifacts/xgboost-split_1707159369174/work/src/c_api/c_api.cc:1240: Saving into deprecated binary model format, please consider using `json` or `ubj`. Model format will default to JSON in XGBoost 2.2 if not specified.\n",
      "[06:55:14] WARNING: /home/conda/feedstock_root/build_artifacts/xgboost-split_1707159369174/work/src/c_api/c_api.cc:1240: Saving into deprecated binary model format, please consider using `json` or `ubj`. Model format will default to JSON in XGBoost 2.2 if not specified.\n",
      "[06:55:16] WARNING: /home/conda/feedstock_root/build_artifacts/xgboost-split_1707159369174/work/src/c_api/c_api.cc:1240: Saving into deprecated binary model format, please consider using `json` or `ubj`. Model format will default to JSON in XGBoost 2.2 if not specified.\n"
     ]
    },
    {
     "name": "stdout",
     "output_type": "stream",
     "text": [
      "Best Parameters: {'learning_rate': 0.01872008859748947, 'max_depth': 16, 'subsample': 0.43726738652430247, 'gamma': 0.6203867433275583, 'colsample_bytree': 0.8096403117526134, 'lambda': 9.836705754600214, 'alpha': 14.207054189991684}\n"
     ]
    },
    {
     "name": "stderr",
     "output_type": "stream",
     "text": [
      "[06:55:18] WARNING: /home/conda/feedstock_root/build_artifacts/xgboost-split_1707159369174/work/src/c_api/c_api.cc:1240: Saving into deprecated binary model format, please consider using `json` or `ubj`. Model format will default to JSON in XGBoost 2.2 if not specified.\n"
     ]
    },
    {
     "name": "stdout",
     "output_type": "stream",
     "text": [
      "Results Summary: {'Match': 13, 'No Evaluation': 1}\n",
      "\n",
      "--- Evaluating model with feature H3Ac_log added back ---\n",
      "\n"
     ]
    },
    {
     "name": "stderr",
     "output_type": "stream",
     "text": [
      "[06:55:20] WARNING: /home/conda/feedstock_root/build_artifacts/xgboost-split_1707159369174/work/src/c_api/c_api.cc:1240: Saving into deprecated binary model format, please consider using `json` or `ubj`. Model format will default to JSON in XGBoost 2.2 if not specified.\n"
     ]
    },
    {
     "name": "stdout",
     "output_type": "stream",
     "text": [
      "Results Summary: {'Match': 12, 'Mismatch': 2, 'No Evaluation': 1}\n",
      "Feature: H3Ac_log, Known Function: Activating, Result: Mismatch\n",
      "\n",
      "--- Performing LOO for feature H3K9K14Ac_log ---\n",
      "\n",
      "Remaining Features: ['H2A.2', 'H3K4me1', 'H2A.13', 'H3K4me3', 'H3K36me3', 'H4K5Ac', 'H2A.Z.11', 'expression_category', 'H3K27me3_log', 'H3K9Ac_log', 'cpg_percentage_log', 'H3Ac_log', 'chh_percentage_log', 'H4K20me1_log', 'chg_percentage_log', 'H2A.W.7_log', 'H3K9me1_log', 'H2A.W.6_log', 'H2A.Z.9_log', 'H3K23me1_log', 'H3K9me2_log']\n"
     ]
    },
    {
     "name": "stderr",
     "output_type": "stream",
     "text": [
      "[06:55:23] WARNING: /home/conda/feedstock_root/build_artifacts/xgboost-split_1707159369174/work/src/c_api/c_api.cc:1240: Saving into deprecated binary model format, please consider using `json` or `ubj`. Model format will default to JSON in XGBoost 2.2 if not specified.\n",
      "[06:55:30] WARNING: /home/conda/feedstock_root/build_artifacts/xgboost-split_1707159369174/work/src/c_api/c_api.cc:1240: Saving into deprecated binary model format, please consider using `json` or `ubj`. Model format will default to JSON in XGBoost 2.2 if not specified.\n",
      "[06:55:35] WARNING: /home/conda/feedstock_root/build_artifacts/xgboost-split_1707159369174/work/src/c_api/c_api.cc:1240: Saving into deprecated binary model format, please consider using `json` or `ubj`. Model format will default to JSON in XGBoost 2.2 if not specified.\n",
      "[06:55:38] WARNING: /home/conda/feedstock_root/build_artifacts/xgboost-split_1707159369174/work/src/c_api/c_api.cc:1240: Saving into deprecated binary model format, please consider using `json` or `ubj`. Model format will default to JSON in XGBoost 2.2 if not specified.\n",
      "[06:55:41] WARNING: /home/conda/feedstock_root/build_artifacts/xgboost-split_1707159369174/work/src/c_api/c_api.cc:1240: Saving into deprecated binary model format, please consider using `json` or `ubj`. Model format will default to JSON in XGBoost 2.2 if not specified.\n",
      "[06:55:45] WARNING: /home/conda/feedstock_root/build_artifacts/xgboost-split_1707159369174/work/src/c_api/c_api.cc:1240: Saving into deprecated binary model format, please consider using `json` or `ubj`. Model format will default to JSON in XGBoost 2.2 if not specified.\n",
      "[06:55:49] WARNING: /home/conda/feedstock_root/build_artifacts/xgboost-split_1707159369174/work/src/c_api/c_api.cc:1240: Saving into deprecated binary model format, please consider using `json` or `ubj`. Model format will default to JSON in XGBoost 2.2 if not specified.\n",
      "[06:55:56] WARNING: /home/conda/feedstock_root/build_artifacts/xgboost-split_1707159369174/work/src/c_api/c_api.cc:1240: Saving into deprecated binary model format, please consider using `json` or `ubj`. Model format will default to JSON in XGBoost 2.2 if not specified.\n",
      "[06:56:02] WARNING: /home/conda/feedstock_root/build_artifacts/xgboost-split_1707159369174/work/src/c_api/c_api.cc:1240: Saving into deprecated binary model format, please consider using `json` or `ubj`. Model format will default to JSON in XGBoost 2.2 if not specified.\n",
      "[06:56:08] WARNING: /home/conda/feedstock_root/build_artifacts/xgboost-split_1707159369174/work/src/c_api/c_api.cc:1240: Saving into deprecated binary model format, please consider using `json` or `ubj`. Model format will default to JSON in XGBoost 2.2 if not specified.\n",
      "[06:56:11] WARNING: /home/conda/feedstock_root/build_artifacts/xgboost-split_1707159369174/work/src/c_api/c_api.cc:1240: Saving into deprecated binary model format, please consider using `json` or `ubj`. Model format will default to JSON in XGBoost 2.2 if not specified.\n",
      "[06:56:15] WARNING: /home/conda/feedstock_root/build_artifacts/xgboost-split_1707159369174/work/src/c_api/c_api.cc:1240: Saving into deprecated binary model format, please consider using `json` or `ubj`. Model format will default to JSON in XGBoost 2.2 if not specified.\n",
      "[06:56:19] WARNING: /home/conda/feedstock_root/build_artifacts/xgboost-split_1707159369174/work/src/c_api/c_api.cc:1240: Saving into deprecated binary model format, please consider using `json` or `ubj`. Model format will default to JSON in XGBoost 2.2 if not specified.\n",
      "[06:56:24] WARNING: /home/conda/feedstock_root/build_artifacts/xgboost-split_1707159369174/work/src/c_api/c_api.cc:1240: Saving into deprecated binary model format, please consider using `json` or `ubj`. Model format will default to JSON in XGBoost 2.2 if not specified.\n",
      "[06:56:28] WARNING: /home/conda/feedstock_root/build_artifacts/xgboost-split_1707159369174/work/src/c_api/c_api.cc:1240: Saving into deprecated binary model format, please consider using `json` or `ubj`. Model format will default to JSON in XGBoost 2.2 if not specified.\n",
      "[06:56:30] WARNING: /home/conda/feedstock_root/build_artifacts/xgboost-split_1707159369174/work/src/c_api/c_api.cc:1240: Saving into deprecated binary model format, please consider using `json` or `ubj`. Model format will default to JSON in XGBoost 2.2 if not specified.\n",
      "[06:56:34] WARNING: /home/conda/feedstock_root/build_artifacts/xgboost-split_1707159369174/work/src/c_api/c_api.cc:1240: Saving into deprecated binary model format, please consider using `json` or `ubj`. Model format will default to JSON in XGBoost 2.2 if not specified.\n",
      "[06:56:41] WARNING: /home/conda/feedstock_root/build_artifacts/xgboost-split_1707159369174/work/src/c_api/c_api.cc:1240: Saving into deprecated binary model format, please consider using `json` or `ubj`. Model format will default to JSON in XGBoost 2.2 if not specified.\n",
      "[06:56:45] WARNING: /home/conda/feedstock_root/build_artifacts/xgboost-split_1707159369174/work/src/c_api/c_api.cc:1240: Saving into deprecated binary model format, please consider using `json` or `ubj`. Model format will default to JSON in XGBoost 2.2 if not specified.\n",
      "[06:56:49] WARNING: /home/conda/feedstock_root/build_artifacts/xgboost-split_1707159369174/work/src/c_api/c_api.cc:1240: Saving into deprecated binary model format, please consider using `json` or `ubj`. Model format will default to JSON in XGBoost 2.2 if not specified.\n",
      "[06:56:52] WARNING: /home/conda/feedstock_root/build_artifacts/xgboost-split_1707159369174/work/src/c_api/c_api.cc:1240: Saving into deprecated binary model format, please consider using `json` or `ubj`. Model format will default to JSON in XGBoost 2.2 if not specified.\n",
      "[06:56:54] WARNING: /home/conda/feedstock_root/build_artifacts/xgboost-split_1707159369174/work/src/c_api/c_api.cc:1240: Saving into deprecated binary model format, please consider using `json` or `ubj`. Model format will default to JSON in XGBoost 2.2 if not specified.\n",
      "[06:56:55] WARNING: /home/conda/feedstock_root/build_artifacts/xgboost-split_1707159369174/work/src/c_api/c_api.cc:1240: Saving into deprecated binary model format, please consider using `json` or `ubj`. Model format will default to JSON in XGBoost 2.2 if not specified.\n",
      "[06:56:57] WARNING: /home/conda/feedstock_root/build_artifacts/xgboost-split_1707159369174/work/src/c_api/c_api.cc:1240: Saving into deprecated binary model format, please consider using `json` or `ubj`. Model format will default to JSON in XGBoost 2.2 if not specified.\n",
      "[06:57:00] WARNING: /home/conda/feedstock_root/build_artifacts/xgboost-split_1707159369174/work/src/c_api/c_api.cc:1240: Saving into deprecated binary model format, please consider using `json` or `ubj`. Model format will default to JSON in XGBoost 2.2 if not specified.\n",
      "[06:57:03] WARNING: /home/conda/feedstock_root/build_artifacts/xgboost-split_1707159369174/work/src/c_api/c_api.cc:1240: Saving into deprecated binary model format, please consider using `json` or `ubj`. Model format will default to JSON in XGBoost 2.2 if not specified.\n",
      "[06:57:06] WARNING: /home/conda/feedstock_root/build_artifacts/xgboost-split_1707159369174/work/src/c_api/c_api.cc:1240: Saving into deprecated binary model format, please consider using `json` or `ubj`. Model format will default to JSON in XGBoost 2.2 if not specified.\n",
      "[06:57:09] WARNING: /home/conda/feedstock_root/build_artifacts/xgboost-split_1707159369174/work/src/c_api/c_api.cc:1240: Saving into deprecated binary model format, please consider using `json` or `ubj`. Model format will default to JSON in XGBoost 2.2 if not specified.\n",
      "[06:57:11] WARNING: /home/conda/feedstock_root/build_artifacts/xgboost-split_1707159369174/work/src/c_api/c_api.cc:1240: Saving into deprecated binary model format, please consider using `json` or `ubj`. Model format will default to JSON in XGBoost 2.2 if not specified.\n",
      "[06:57:14] WARNING: /home/conda/feedstock_root/build_artifacts/xgboost-split_1707159369174/work/src/c_api/c_api.cc:1240: Saving into deprecated binary model format, please consider using `json` or `ubj`. Model format will default to JSON in XGBoost 2.2 if not specified.\n",
      "[06:57:17] WARNING: /home/conda/feedstock_root/build_artifacts/xgboost-split_1707159369174/work/src/c_api/c_api.cc:1240: Saving into deprecated binary model format, please consider using `json` or `ubj`. Model format will default to JSON in XGBoost 2.2 if not specified.\n",
      "[06:57:20] WARNING: /home/conda/feedstock_root/build_artifacts/xgboost-split_1707159369174/work/src/c_api/c_api.cc:1240: Saving into deprecated binary model format, please consider using `json` or `ubj`. Model format will default to JSON in XGBoost 2.2 if not specified.\n",
      "[06:57:23] WARNING: /home/conda/feedstock_root/build_artifacts/xgboost-split_1707159369174/work/src/c_api/c_api.cc:1240: Saving into deprecated binary model format, please consider using `json` or `ubj`. Model format will default to JSON in XGBoost 2.2 if not specified.\n",
      "[06:57:27] WARNING: /home/conda/feedstock_root/build_artifacts/xgboost-split_1707159369174/work/src/c_api/c_api.cc:1240: Saving into deprecated binary model format, please consider using `json` or `ubj`. Model format will default to JSON in XGBoost 2.2 if not specified.\n",
      "[06:57:30] WARNING: /home/conda/feedstock_root/build_artifacts/xgboost-split_1707159369174/work/src/c_api/c_api.cc:1240: Saving into deprecated binary model format, please consider using `json` or `ubj`. Model format will default to JSON in XGBoost 2.2 if not specified.\n",
      "[06:57:34] WARNING: /home/conda/feedstock_root/build_artifacts/xgboost-split_1707159369174/work/src/c_api/c_api.cc:1240: Saving into deprecated binary model format, please consider using `json` or `ubj`. Model format will default to JSON in XGBoost 2.2 if not specified.\n",
      "[06:57:37] WARNING: /home/conda/feedstock_root/build_artifacts/xgboost-split_1707159369174/work/src/c_api/c_api.cc:1240: Saving into deprecated binary model format, please consider using `json` or `ubj`. Model format will default to JSON in XGBoost 2.2 if not specified.\n",
      "[06:57:43] WARNING: /home/conda/feedstock_root/build_artifacts/xgboost-split_1707159369174/work/src/c_api/c_api.cc:1240: Saving into deprecated binary model format, please consider using `json` or `ubj`. Model format will default to JSON in XGBoost 2.2 if not specified.\n",
      "[06:57:48] WARNING: /home/conda/feedstock_root/build_artifacts/xgboost-split_1707159369174/work/src/c_api/c_api.cc:1240: Saving into deprecated binary model format, please consider using `json` or `ubj`. Model format will default to JSON in XGBoost 2.2 if not specified.\n",
      "[06:57:51] WARNING: /home/conda/feedstock_root/build_artifacts/xgboost-split_1707159369174/work/src/c_api/c_api.cc:1240: Saving into deprecated binary model format, please consider using `json` or `ubj`. Model format will default to JSON in XGBoost 2.2 if not specified.\n"
     ]
    },
    {
     "name": "stdout",
     "output_type": "stream",
     "text": [
      "Best Parameters: {'learning_rate': 0.03580752262227231, 'max_depth': 14, 'subsample': 0.511439549112598, 'gamma': 0.47066491907611163, 'colsample_bytree': 0.7457710132762743, 'lambda': 5.60730614085211, 'alpha': 14.952767232444216}\n"
     ]
    },
    {
     "name": "stderr",
     "output_type": "stream",
     "text": [
      "[06:57:54] WARNING: /home/conda/feedstock_root/build_artifacts/xgboost-split_1707159369174/work/src/c_api/c_api.cc:1240: Saving into deprecated binary model format, please consider using `json` or `ubj`. Model format will default to JSON in XGBoost 2.2 if not specified.\n"
     ]
    },
    {
     "name": "stdout",
     "output_type": "stream",
     "text": [
      "Results Summary: {'Match': 13, 'Mismatch': 2, 'No Evaluation': 1}\n",
      "Removing mismatch feature: H4K5Ac\n",
      "Remaining Features: ['H2A.2', 'H3K4me1', 'H2A.13', 'H3K4me3', 'H3K36me3', 'H2A.Z.11', 'expression_category', 'H3K27me3_log', 'H3K9Ac_log', 'cpg_percentage_log', 'H3Ac_log', 'chh_percentage_log', 'H4K20me1_log', 'chg_percentage_log', 'H2A.W.7_log', 'H3K9me1_log', 'H2A.W.6_log', 'H2A.Z.9_log', 'H3K23me1_log', 'H3K9me2_log']\n"
     ]
    },
    {
     "name": "stderr",
     "output_type": "stream",
     "text": [
      "[06:57:56] WARNING: /home/conda/feedstock_root/build_artifacts/xgboost-split_1707159369174/work/src/c_api/c_api.cc:1240: Saving into deprecated binary model format, please consider using `json` or `ubj`. Model format will default to JSON in XGBoost 2.2 if not specified.\n",
      "[06:58:02] WARNING: /home/conda/feedstock_root/build_artifacts/xgboost-split_1707159369174/work/src/c_api/c_api.cc:1240: Saving into deprecated binary model format, please consider using `json` or `ubj`. Model format will default to JSON in XGBoost 2.2 if not specified.\n",
      "[06:58:06] WARNING: /home/conda/feedstock_root/build_artifacts/xgboost-split_1707159369174/work/src/c_api/c_api.cc:1240: Saving into deprecated binary model format, please consider using `json` or `ubj`. Model format will default to JSON in XGBoost 2.2 if not specified.\n",
      "[06:58:10] WARNING: /home/conda/feedstock_root/build_artifacts/xgboost-split_1707159369174/work/src/c_api/c_api.cc:1240: Saving into deprecated binary model format, please consider using `json` or `ubj`. Model format will default to JSON in XGBoost 2.2 if not specified.\n",
      "[06:58:14] WARNING: /home/conda/feedstock_root/build_artifacts/xgboost-split_1707159369174/work/src/c_api/c_api.cc:1240: Saving into deprecated binary model format, please consider using `json` or `ubj`. Model format will default to JSON in XGBoost 2.2 if not specified.\n",
      "[06:58:19] WARNING: /home/conda/feedstock_root/build_artifacts/xgboost-split_1707159369174/work/src/c_api/c_api.cc:1240: Saving into deprecated binary model format, please consider using `json` or `ubj`. Model format will default to JSON in XGBoost 2.2 if not specified.\n",
      "[06:58:21] WARNING: /home/conda/feedstock_root/build_artifacts/xgboost-split_1707159369174/work/src/c_api/c_api.cc:1240: Saving into deprecated binary model format, please consider using `json` or `ubj`. Model format will default to JSON in XGBoost 2.2 if not specified.\n",
      "[06:58:24] WARNING: /home/conda/feedstock_root/build_artifacts/xgboost-split_1707159369174/work/src/c_api/c_api.cc:1240: Saving into deprecated binary model format, please consider using `json` or `ubj`. Model format will default to JSON in XGBoost 2.2 if not specified.\n",
      "[06:58:27] WARNING: /home/conda/feedstock_root/build_artifacts/xgboost-split_1707159369174/work/src/c_api/c_api.cc:1240: Saving into deprecated binary model format, please consider using `json` or `ubj`. Model format will default to JSON in XGBoost 2.2 if not specified.\n",
      "[06:58:35] WARNING: /home/conda/feedstock_root/build_artifacts/xgboost-split_1707159369174/work/src/c_api/c_api.cc:1240: Saving into deprecated binary model format, please consider using `json` or `ubj`. Model format will default to JSON in XGBoost 2.2 if not specified.\n",
      "[06:58:42] WARNING: /home/conda/feedstock_root/build_artifacts/xgboost-split_1707159369174/work/src/c_api/c_api.cc:1240: Saving into deprecated binary model format, please consider using `json` or `ubj`. Model format will default to JSON in XGBoost 2.2 if not specified.\n",
      "[06:58:45] WARNING: /home/conda/feedstock_root/build_artifacts/xgboost-split_1707159369174/work/src/c_api/c_api.cc:1240: Saving into deprecated binary model format, please consider using `json` or `ubj`. Model format will default to JSON in XGBoost 2.2 if not specified.\n",
      "[06:58:48] WARNING: /home/conda/feedstock_root/build_artifacts/xgboost-split_1707159369174/work/src/c_api/c_api.cc:1240: Saving into deprecated binary model format, please consider using `json` or `ubj`. Model format will default to JSON in XGBoost 2.2 if not specified.\n",
      "[06:58:52] WARNING: /home/conda/feedstock_root/build_artifacts/xgboost-split_1707159369174/work/src/c_api/c_api.cc:1240: Saving into deprecated binary model format, please consider using `json` or `ubj`. Model format will default to JSON in XGBoost 2.2 if not specified.\n",
      "[06:58:55] WARNING: /home/conda/feedstock_root/build_artifacts/xgboost-split_1707159369174/work/src/c_api/c_api.cc:1240: Saving into deprecated binary model format, please consider using `json` or `ubj`. Model format will default to JSON in XGBoost 2.2 if not specified.\n",
      "[06:58:59] WARNING: /home/conda/feedstock_root/build_artifacts/xgboost-split_1707159369174/work/src/c_api/c_api.cc:1240: Saving into deprecated binary model format, please consider using `json` or `ubj`. Model format will default to JSON in XGBoost 2.2 if not specified.\n",
      "[06:59:03] WARNING: /home/conda/feedstock_root/build_artifacts/xgboost-split_1707159369174/work/src/c_api/c_api.cc:1240: Saving into deprecated binary model format, please consider using `json` or `ubj`. Model format will default to JSON in XGBoost 2.2 if not specified.\n",
      "[06:59:07] WARNING: /home/conda/feedstock_root/build_artifacts/xgboost-split_1707159369174/work/src/c_api/c_api.cc:1240: Saving into deprecated binary model format, please consider using `json` or `ubj`. Model format will default to JSON in XGBoost 2.2 if not specified.\n",
      "[06:59:11] WARNING: /home/conda/feedstock_root/build_artifacts/xgboost-split_1707159369174/work/src/c_api/c_api.cc:1240: Saving into deprecated binary model format, please consider using `json` or `ubj`. Model format will default to JSON in XGBoost 2.2 if not specified.\n",
      "[06:59:17] WARNING: /home/conda/feedstock_root/build_artifacts/xgboost-split_1707159369174/work/src/c_api/c_api.cc:1240: Saving into deprecated binary model format, please consider using `json` or `ubj`. Model format will default to JSON in XGBoost 2.2 if not specified.\n",
      "[06:59:25] WARNING: /home/conda/feedstock_root/build_artifacts/xgboost-split_1707159369174/work/src/c_api/c_api.cc:1240: Saving into deprecated binary model format, please consider using `json` or `ubj`. Model format will default to JSON in XGBoost 2.2 if not specified.\n",
      "[06:59:32] WARNING: /home/conda/feedstock_root/build_artifacts/xgboost-split_1707159369174/work/src/c_api/c_api.cc:1240: Saving into deprecated binary model format, please consider using `json` or `ubj`. Model format will default to JSON in XGBoost 2.2 if not specified.\n",
      "[06:59:37] WARNING: /home/conda/feedstock_root/build_artifacts/xgboost-split_1707159369174/work/src/c_api/c_api.cc:1240: Saving into deprecated binary model format, please consider using `json` or `ubj`. Model format will default to JSON in XGBoost 2.2 if not specified.\n",
      "[06:59:42] WARNING: /home/conda/feedstock_root/build_artifacts/xgboost-split_1707159369174/work/src/c_api/c_api.cc:1240: Saving into deprecated binary model format, please consider using `json` or `ubj`. Model format will default to JSON in XGBoost 2.2 if not specified.\n",
      "[06:59:47] WARNING: /home/conda/feedstock_root/build_artifacts/xgboost-split_1707159369174/work/src/c_api/c_api.cc:1240: Saving into deprecated binary model format, please consider using `json` or `ubj`. Model format will default to JSON in XGBoost 2.2 if not specified.\n",
      "[06:59:51] WARNING: /home/conda/feedstock_root/build_artifacts/xgboost-split_1707159369174/work/src/c_api/c_api.cc:1240: Saving into deprecated binary model format, please consider using `json` or `ubj`. Model format will default to JSON in XGBoost 2.2 if not specified.\n",
      "[06:59:57] WARNING: /home/conda/feedstock_root/build_artifacts/xgboost-split_1707159369174/work/src/c_api/c_api.cc:1240: Saving into deprecated binary model format, please consider using `json` or `ubj`. Model format will default to JSON in XGBoost 2.2 if not specified.\n",
      "[07:00:02] WARNING: /home/conda/feedstock_root/build_artifacts/xgboost-split_1707159369174/work/src/c_api/c_api.cc:1240: Saving into deprecated binary model format, please consider using `json` or `ubj`. Model format will default to JSON in XGBoost 2.2 if not specified.\n",
      "[07:00:09] WARNING: /home/conda/feedstock_root/build_artifacts/xgboost-split_1707159369174/work/src/c_api/c_api.cc:1240: Saving into deprecated binary model format, please consider using `json` or `ubj`. Model format will default to JSON in XGBoost 2.2 if not specified.\n",
      "[07:00:15] WARNING: /home/conda/feedstock_root/build_artifacts/xgboost-split_1707159369174/work/src/c_api/c_api.cc:1240: Saving into deprecated binary model format, please consider using `json` or `ubj`. Model format will default to JSON in XGBoost 2.2 if not specified.\n",
      "[07:00:19] WARNING: /home/conda/feedstock_root/build_artifacts/xgboost-split_1707159369174/work/src/c_api/c_api.cc:1240: Saving into deprecated binary model format, please consider using `json` or `ubj`. Model format will default to JSON in XGBoost 2.2 if not specified.\n",
      "[07:00:26] WARNING: /home/conda/feedstock_root/build_artifacts/xgboost-split_1707159369174/work/src/c_api/c_api.cc:1240: Saving into deprecated binary model format, please consider using `json` or `ubj`. Model format will default to JSON in XGBoost 2.2 if not specified.\n",
      "[07:00:31] WARNING: /home/conda/feedstock_root/build_artifacts/xgboost-split_1707159369174/work/src/c_api/c_api.cc:1240: Saving into deprecated binary model format, please consider using `json` or `ubj`. Model format will default to JSON in XGBoost 2.2 if not specified.\n",
      "[07:00:37] WARNING: /home/conda/feedstock_root/build_artifacts/xgboost-split_1707159369174/work/src/c_api/c_api.cc:1240: Saving into deprecated binary model format, please consider using `json` or `ubj`. Model format will default to JSON in XGBoost 2.2 if not specified.\n",
      "[07:00:43] WARNING: /home/conda/feedstock_root/build_artifacts/xgboost-split_1707159369174/work/src/c_api/c_api.cc:1240: Saving into deprecated binary model format, please consider using `json` or `ubj`. Model format will default to JSON in XGBoost 2.2 if not specified.\n",
      "[07:00:48] WARNING: /home/conda/feedstock_root/build_artifacts/xgboost-split_1707159369174/work/src/c_api/c_api.cc:1240: Saving into deprecated binary model format, please consider using `json` or `ubj`. Model format will default to JSON in XGBoost 2.2 if not specified.\n",
      "[07:00:53] WARNING: /home/conda/feedstock_root/build_artifacts/xgboost-split_1707159369174/work/src/c_api/c_api.cc:1240: Saving into deprecated binary model format, please consider using `json` or `ubj`. Model format will default to JSON in XGBoost 2.2 if not specified.\n",
      "[07:01:00] WARNING: /home/conda/feedstock_root/build_artifacts/xgboost-split_1707159369174/work/src/c_api/c_api.cc:1240: Saving into deprecated binary model format, please consider using `json` or `ubj`. Model format will default to JSON in XGBoost 2.2 if not specified.\n",
      "[07:01:06] WARNING: /home/conda/feedstock_root/build_artifacts/xgboost-split_1707159369174/work/src/c_api/c_api.cc:1240: Saving into deprecated binary model format, please consider using `json` or `ubj`. Model format will default to JSON in XGBoost 2.2 if not specified.\n",
      "[07:01:11] WARNING: /home/conda/feedstock_root/build_artifacts/xgboost-split_1707159369174/work/src/c_api/c_api.cc:1240: Saving into deprecated binary model format, please consider using `json` or `ubj`. Model format will default to JSON in XGBoost 2.2 if not specified.\n"
     ]
    },
    {
     "name": "stdout",
     "output_type": "stream",
     "text": [
      "Best Parameters: {'learning_rate': 0.034112434608522715, 'max_depth': 26, 'subsample': 0.43921921272114633, 'gamma': 0.11424931144358115, 'colsample_bytree': 0.8006946126694321, 'lambda': 4.996985827832639, 'alpha': 6.790347691426793}\n"
     ]
    },
    {
     "name": "stderr",
     "output_type": "stream",
     "text": [
      "[07:01:16] WARNING: /home/conda/feedstock_root/build_artifacts/xgboost-split_1707159369174/work/src/c_api/c_api.cc:1240: Saving into deprecated binary model format, please consider using `json` or `ubj`. Model format will default to JSON in XGBoost 2.2 if not specified.\n"
     ]
    },
    {
     "name": "stdout",
     "output_type": "stream",
     "text": [
      "Results Summary: {'Match': 13, 'Mismatch': 1, 'No Evaluation': 1}\n",
      "Removing mismatch feature: H3K4me1\n",
      "Remaining Features: ['H2A.2', 'H2A.13', 'H3K4me3', 'H3K36me3', 'H2A.Z.11', 'expression_category', 'H3K27me3_log', 'H3K9Ac_log', 'cpg_percentage_log', 'H3Ac_log', 'chh_percentage_log', 'H4K20me1_log', 'chg_percentage_log', 'H2A.W.7_log', 'H3K9me1_log', 'H2A.W.6_log', 'H2A.Z.9_log', 'H3K23me1_log', 'H3K9me2_log']\n"
     ]
    },
    {
     "name": "stderr",
     "output_type": "stream",
     "text": [
      "[07:01:19] WARNING: /home/conda/feedstock_root/build_artifacts/xgboost-split_1707159369174/work/src/c_api/c_api.cc:1240: Saving into deprecated binary model format, please consider using `json` or `ubj`. Model format will default to JSON in XGBoost 2.2 if not specified.\n",
      "[07:01:22] WARNING: /home/conda/feedstock_root/build_artifacts/xgboost-split_1707159369174/work/src/c_api/c_api.cc:1240: Saving into deprecated binary model format, please consider using `json` or `ubj`. Model format will default to JSON in XGBoost 2.2 if not specified.\n",
      "[07:01:26] WARNING: /home/conda/feedstock_root/build_artifacts/xgboost-split_1707159369174/work/src/c_api/c_api.cc:1240: Saving into deprecated binary model format, please consider using `json` or `ubj`. Model format will default to JSON in XGBoost 2.2 if not specified.\n",
      "[07:01:29] WARNING: /home/conda/feedstock_root/build_artifacts/xgboost-split_1707159369174/work/src/c_api/c_api.cc:1240: Saving into deprecated binary model format, please consider using `json` or `ubj`. Model format will default to JSON in XGBoost 2.2 if not specified.\n",
      "[07:01:35] WARNING: /home/conda/feedstock_root/build_artifacts/xgboost-split_1707159369174/work/src/c_api/c_api.cc:1240: Saving into deprecated binary model format, please consider using `json` or `ubj`. Model format will default to JSON in XGBoost 2.2 if not specified.\n",
      "[07:01:41] WARNING: /home/conda/feedstock_root/build_artifacts/xgboost-split_1707159369174/work/src/c_api/c_api.cc:1240: Saving into deprecated binary model format, please consider using `json` or `ubj`. Model format will default to JSON in XGBoost 2.2 if not specified.\n",
      "[07:01:45] WARNING: /home/conda/feedstock_root/build_artifacts/xgboost-split_1707159369174/work/src/c_api/c_api.cc:1240: Saving into deprecated binary model format, please consider using `json` or `ubj`. Model format will default to JSON in XGBoost 2.2 if not specified.\n",
      "[07:01:49] WARNING: /home/conda/feedstock_root/build_artifacts/xgboost-split_1707159369174/work/src/c_api/c_api.cc:1240: Saving into deprecated binary model format, please consider using `json` or `ubj`. Model format will default to JSON in XGBoost 2.2 if not specified.\n",
      "[07:01:51] WARNING: /home/conda/feedstock_root/build_artifacts/xgboost-split_1707159369174/work/src/c_api/c_api.cc:1240: Saving into deprecated binary model format, please consider using `json` or `ubj`. Model format will default to JSON in XGBoost 2.2 if not specified.\n",
      "[07:01:53] WARNING: /home/conda/feedstock_root/build_artifacts/xgboost-split_1707159369174/work/src/c_api/c_api.cc:1240: Saving into deprecated binary model format, please consider using `json` or `ubj`. Model format will default to JSON in XGBoost 2.2 if not specified.\n",
      "[07:01:56] WARNING: /home/conda/feedstock_root/build_artifacts/xgboost-split_1707159369174/work/src/c_api/c_api.cc:1240: Saving into deprecated binary model format, please consider using `json` or `ubj`. Model format will default to JSON in XGBoost 2.2 if not specified.\n",
      "[07:02:00] WARNING: /home/conda/feedstock_root/build_artifacts/xgboost-split_1707159369174/work/src/c_api/c_api.cc:1240: Saving into deprecated binary model format, please consider using `json` or `ubj`. Model format will default to JSON in XGBoost 2.2 if not specified.\n",
      "[07:02:04] WARNING: /home/conda/feedstock_root/build_artifacts/xgboost-split_1707159369174/work/src/c_api/c_api.cc:1240: Saving into deprecated binary model format, please consider using `json` or `ubj`. Model format will default to JSON in XGBoost 2.2 if not specified.\n",
      "[07:02:09] WARNING: /home/conda/feedstock_root/build_artifacts/xgboost-split_1707159369174/work/src/c_api/c_api.cc:1240: Saving into deprecated binary model format, please consider using `json` or `ubj`. Model format will default to JSON in XGBoost 2.2 if not specified.\n",
      "[07:02:16] WARNING: /home/conda/feedstock_root/build_artifacts/xgboost-split_1707159369174/work/src/c_api/c_api.cc:1240: Saving into deprecated binary model format, please consider using `json` or `ubj`. Model format will default to JSON in XGBoost 2.2 if not specified.\n",
      "[07:02:22] WARNING: /home/conda/feedstock_root/build_artifacts/xgboost-split_1707159369174/work/src/c_api/c_api.cc:1240: Saving into deprecated binary model format, please consider using `json` or `ubj`. Model format will default to JSON in XGBoost 2.2 if not specified.\n",
      "[07:02:26] WARNING: /home/conda/feedstock_root/build_artifacts/xgboost-split_1707159369174/work/src/c_api/c_api.cc:1240: Saving into deprecated binary model format, please consider using `json` or `ubj`. Model format will default to JSON in XGBoost 2.2 if not specified.\n",
      "[07:02:30] WARNING: /home/conda/feedstock_root/build_artifacts/xgboost-split_1707159369174/work/src/c_api/c_api.cc:1240: Saving into deprecated binary model format, please consider using `json` or `ubj`. Model format will default to JSON in XGBoost 2.2 if not specified.\n",
      "[07:02:32] WARNING: /home/conda/feedstock_root/build_artifacts/xgboost-split_1707159369174/work/src/c_api/c_api.cc:1240: Saving into deprecated binary model format, please consider using `json` or `ubj`. Model format will default to JSON in XGBoost 2.2 if not specified.\n",
      "[07:02:36] WARNING: /home/conda/feedstock_root/build_artifacts/xgboost-split_1707159369174/work/src/c_api/c_api.cc:1240: Saving into deprecated binary model format, please consider using `json` or `ubj`. Model format will default to JSON in XGBoost 2.2 if not specified.\n",
      "[07:02:39] WARNING: /home/conda/feedstock_root/build_artifacts/xgboost-split_1707159369174/work/src/c_api/c_api.cc:1240: Saving into deprecated binary model format, please consider using `json` or `ubj`. Model format will default to JSON in XGBoost 2.2 if not specified.\n",
      "[07:02:42] WARNING: /home/conda/feedstock_root/build_artifacts/xgboost-split_1707159369174/work/src/c_api/c_api.cc:1240: Saving into deprecated binary model format, please consider using `json` or `ubj`. Model format will default to JSON in XGBoost 2.2 if not specified.\n",
      "[07:02:45] WARNING: /home/conda/feedstock_root/build_artifacts/xgboost-split_1707159369174/work/src/c_api/c_api.cc:1240: Saving into deprecated binary model format, please consider using `json` or `ubj`. Model format will default to JSON in XGBoost 2.2 if not specified.\n",
      "[07:02:47] WARNING: /home/conda/feedstock_root/build_artifacts/xgboost-split_1707159369174/work/src/c_api/c_api.cc:1240: Saving into deprecated binary model format, please consider using `json` or `ubj`. Model format will default to JSON in XGBoost 2.2 if not specified.\n",
      "[07:02:49] WARNING: /home/conda/feedstock_root/build_artifacts/xgboost-split_1707159369174/work/src/c_api/c_api.cc:1240: Saving into deprecated binary model format, please consider using `json` or `ubj`. Model format will default to JSON in XGBoost 2.2 if not specified.\n",
      "[07:02:51] WARNING: /home/conda/feedstock_root/build_artifacts/xgboost-split_1707159369174/work/src/c_api/c_api.cc:1240: Saving into deprecated binary model format, please consider using `json` or `ubj`. Model format will default to JSON in XGBoost 2.2 if not specified.\n",
      "[07:02:53] WARNING: /home/conda/feedstock_root/build_artifacts/xgboost-split_1707159369174/work/src/c_api/c_api.cc:1240: Saving into deprecated binary model format, please consider using `json` or `ubj`. Model format will default to JSON in XGBoost 2.2 if not specified.\n",
      "[07:02:54] WARNING: /home/conda/feedstock_root/build_artifacts/xgboost-split_1707159369174/work/src/c_api/c_api.cc:1240: Saving into deprecated binary model format, please consider using `json` or `ubj`. Model format will default to JSON in XGBoost 2.2 if not specified.\n",
      "[07:02:56] WARNING: /home/conda/feedstock_root/build_artifacts/xgboost-split_1707159369174/work/src/c_api/c_api.cc:1240: Saving into deprecated binary model format, please consider using `json` or `ubj`. Model format will default to JSON in XGBoost 2.2 if not specified.\n",
      "[07:02:59] WARNING: /home/conda/feedstock_root/build_artifacts/xgboost-split_1707159369174/work/src/c_api/c_api.cc:1240: Saving into deprecated binary model format, please consider using `json` or `ubj`. Model format will default to JSON in XGBoost 2.2 if not specified.\n",
      "[07:03:01] WARNING: /home/conda/feedstock_root/build_artifacts/xgboost-split_1707159369174/work/src/c_api/c_api.cc:1240: Saving into deprecated binary model format, please consider using `json` or `ubj`. Model format will default to JSON in XGBoost 2.2 if not specified.\n",
      "[07:03:03] WARNING: /home/conda/feedstock_root/build_artifacts/xgboost-split_1707159369174/work/src/c_api/c_api.cc:1240: Saving into deprecated binary model format, please consider using `json` or `ubj`. Model format will default to JSON in XGBoost 2.2 if not specified.\n",
      "[07:03:05] WARNING: /home/conda/feedstock_root/build_artifacts/xgboost-split_1707159369174/work/src/c_api/c_api.cc:1240: Saving into deprecated binary model format, please consider using `json` or `ubj`. Model format will default to JSON in XGBoost 2.2 if not specified.\n",
      "[07:03:07] WARNING: /home/conda/feedstock_root/build_artifacts/xgboost-split_1707159369174/work/src/c_api/c_api.cc:1240: Saving into deprecated binary model format, please consider using `json` or `ubj`. Model format will default to JSON in XGBoost 2.2 if not specified.\n",
      "[07:03:09] WARNING: /home/conda/feedstock_root/build_artifacts/xgboost-split_1707159369174/work/src/c_api/c_api.cc:1240: Saving into deprecated binary model format, please consider using `json` or `ubj`. Model format will default to JSON in XGBoost 2.2 if not specified.\n",
      "[07:03:12] WARNING: /home/conda/feedstock_root/build_artifacts/xgboost-split_1707159369174/work/src/c_api/c_api.cc:1240: Saving into deprecated binary model format, please consider using `json` or `ubj`. Model format will default to JSON in XGBoost 2.2 if not specified.\n",
      "[07:03:14] WARNING: /home/conda/feedstock_root/build_artifacts/xgboost-split_1707159369174/work/src/c_api/c_api.cc:1240: Saving into deprecated binary model format, please consider using `json` or `ubj`. Model format will default to JSON in XGBoost 2.2 if not specified.\n",
      "[07:03:16] WARNING: /home/conda/feedstock_root/build_artifacts/xgboost-split_1707159369174/work/src/c_api/c_api.cc:1240: Saving into deprecated binary model format, please consider using `json` or `ubj`. Model format will default to JSON in XGBoost 2.2 if not specified.\n",
      "[07:03:19] WARNING: /home/conda/feedstock_root/build_artifacts/xgboost-split_1707159369174/work/src/c_api/c_api.cc:1240: Saving into deprecated binary model format, please consider using `json` or `ubj`. Model format will default to JSON in XGBoost 2.2 if not specified.\n",
      "[07:03:21] WARNING: /home/conda/feedstock_root/build_artifacts/xgboost-split_1707159369174/work/src/c_api/c_api.cc:1240: Saving into deprecated binary model format, please consider using `json` or `ubj`. Model format will default to JSON in XGBoost 2.2 if not specified.\n"
     ]
    },
    {
     "name": "stdout",
     "output_type": "stream",
     "text": [
      "Best Parameters: {'learning_rate': 0.022378018350126656, 'max_depth': 20, 'subsample': 0.40874511914821254, 'gamma': 0.9022330738219806, 'colsample_bytree': 0.9939588562629744, 'lambda': 12.598259724278067, 'alpha': 14.88285011245708}\n"
     ]
    },
    {
     "name": "stderr",
     "output_type": "stream",
     "text": [
      "[07:03:23] WARNING: /home/conda/feedstock_root/build_artifacts/xgboost-split_1707159369174/work/src/c_api/c_api.cc:1240: Saving into deprecated binary model format, please consider using `json` or `ubj`. Model format will default to JSON in XGBoost 2.2 if not specified.\n"
     ]
    },
    {
     "name": "stdout",
     "output_type": "stream",
     "text": [
      "Results Summary: {'Match': 13, 'No Evaluation': 1}\n",
      "\n",
      "--- Evaluating model with feature H3K9K14Ac_log added back ---\n",
      "\n"
     ]
    },
    {
     "name": "stderr",
     "output_type": "stream",
     "text": [
      "[07:03:26] WARNING: /home/conda/feedstock_root/build_artifacts/xgboost-split_1707159369174/work/src/c_api/c_api.cc:1240: Saving into deprecated binary model format, please consider using `json` or `ubj`. Model format will default to JSON in XGBoost 2.2 if not specified.\n"
     ]
    },
    {
     "name": "stdout",
     "output_type": "stream",
     "text": [
      "Results Summary: {'Match': 12, 'Mismatch': 2, 'No Evaluation': 1}\n",
      "Feature: H3K9K14Ac_log, Known Function: Activating, Result: Match\n",
      "\n",
      "--- Performing LOO for feature H3K23me1_log ---\n",
      "\n",
      "Remaining Features: ['H2A.2', 'H3K4me1', 'H2A.13', 'H3K4me3', 'H3K36me3', 'H4K5Ac', 'H2A.Z.11', 'expression_category', 'H3K27me3_log', 'H3K9Ac_log', 'cpg_percentage_log', 'H3K9K14Ac_log', 'H3Ac_log', 'chh_percentage_log', 'H4K20me1_log', 'chg_percentage_log', 'H2A.W.7_log', 'H3K9me1_log', 'H2A.W.6_log', 'H2A.Z.9_log', 'H3K9me2_log']\n"
     ]
    },
    {
     "name": "stderr",
     "output_type": "stream",
     "text": [
      "[07:03:28] WARNING: /home/conda/feedstock_root/build_artifacts/xgboost-split_1707159369174/work/src/c_api/c_api.cc:1240: Saving into deprecated binary model format, please consider using `json` or `ubj`. Model format will default to JSON in XGBoost 2.2 if not specified.\n",
      "[07:03:31] WARNING: /home/conda/feedstock_root/build_artifacts/xgboost-split_1707159369174/work/src/c_api/c_api.cc:1240: Saving into deprecated binary model format, please consider using `json` or `ubj`. Model format will default to JSON in XGBoost 2.2 if not specified.\n",
      "[10:05:30] WARNING: /home/conda/feedstock_root/build_artifacts/xgboost-split_1707159369174/work/src/c_api/c_api.cc:1240: Saving into deprecated binary model format, please consider using `json` or `ubj`. Model format will default to JSON in XGBoost 2.2 if not specified.\n",
      "[17:36:49] WARNING: /home/conda/feedstock_root/build_artifacts/xgboost-split_1707159369174/work/src/c_api/c_api.cc:1240: Saving into deprecated binary model format, please consider using `json` or `ubj`. Model format will default to JSON in XGBoost 2.2 if not specified.\n",
      "[17:36:54] WARNING: /home/conda/feedstock_root/build_artifacts/xgboost-split_1707159369174/work/src/c_api/c_api.cc:1240: Saving into deprecated binary model format, please consider using `json` or `ubj`. Model format will default to JSON in XGBoost 2.2 if not specified.\n",
      "[17:36:56] WARNING: /home/conda/feedstock_root/build_artifacts/xgboost-split_1707159369174/work/src/c_api/c_api.cc:1240: Saving into deprecated binary model format, please consider using `json` or `ubj`. Model format will default to JSON in XGBoost 2.2 if not specified.\n",
      "[17:36:59] WARNING: /home/conda/feedstock_root/build_artifacts/xgboost-split_1707159369174/work/src/c_api/c_api.cc:1240: Saving into deprecated binary model format, please consider using `json` or `ubj`. Model format will default to JSON in XGBoost 2.2 if not specified.\n",
      "[17:37:01] WARNING: /home/conda/feedstock_root/build_artifacts/xgboost-split_1707159369174/work/src/c_api/c_api.cc:1240: Saving into deprecated binary model format, please consider using `json` or `ubj`. Model format will default to JSON in XGBoost 2.2 if not specified.\n",
      "[17:37:05] WARNING: /home/conda/feedstock_root/build_artifacts/xgboost-split_1707159369174/work/src/c_api/c_api.cc:1240: Saving into deprecated binary model format, please consider using `json` or `ubj`. Model format will default to JSON in XGBoost 2.2 if not specified.\n",
      "[17:37:09] WARNING: /home/conda/feedstock_root/build_artifacts/xgboost-split_1707159369174/work/src/c_api/c_api.cc:1240: Saving into deprecated binary model format, please consider using `json` or `ubj`. Model format will default to JSON in XGBoost 2.2 if not specified.\n",
      "[17:37:14] WARNING: /home/conda/feedstock_root/build_artifacts/xgboost-split_1707159369174/work/src/c_api/c_api.cc:1240: Saving into deprecated binary model format, please consider using `json` or `ubj`. Model format will default to JSON in XGBoost 2.2 if not specified.\n",
      "[17:37:18] WARNING: /home/conda/feedstock_root/build_artifacts/xgboost-split_1707159369174/work/src/c_api/c_api.cc:1240: Saving into deprecated binary model format, please consider using `json` or `ubj`. Model format will default to JSON in XGBoost 2.2 if not specified.\n",
      "[17:37:20] WARNING: /home/conda/feedstock_root/build_artifacts/xgboost-split_1707159369174/work/src/c_api/c_api.cc:1240: Saving into deprecated binary model format, please consider using `json` or `ubj`. Model format will default to JSON in XGBoost 2.2 if not specified.\n",
      "[17:37:22] WARNING: /home/conda/feedstock_root/build_artifacts/xgboost-split_1707159369174/work/src/c_api/c_api.cc:1240: Saving into deprecated binary model format, please consider using `json` or `ubj`. Model format will default to JSON in XGBoost 2.2 if not specified.\n",
      "[17:37:25] WARNING: /home/conda/feedstock_root/build_artifacts/xgboost-split_1707159369174/work/src/c_api/c_api.cc:1240: Saving into deprecated binary model format, please consider using `json` or `ubj`. Model format will default to JSON in XGBoost 2.2 if not specified.\n",
      "[17:37:28] WARNING: /home/conda/feedstock_root/build_artifacts/xgboost-split_1707159369174/work/src/c_api/c_api.cc:1240: Saving into deprecated binary model format, please consider using `json` or `ubj`. Model format will default to JSON in XGBoost 2.2 if not specified.\n",
      "[17:37:32] WARNING: /home/conda/feedstock_root/build_artifacts/xgboost-split_1707159369174/work/src/c_api/c_api.cc:1240: Saving into deprecated binary model format, please consider using `json` or `ubj`. Model format will default to JSON in XGBoost 2.2 if not specified.\n",
      "[17:37:37] WARNING: /home/conda/feedstock_root/build_artifacts/xgboost-split_1707159369174/work/src/c_api/c_api.cc:1240: Saving into deprecated binary model format, please consider using `json` or `ubj`. Model format will default to JSON in XGBoost 2.2 if not specified.\n",
      "[17:37:40] WARNING: /home/conda/feedstock_root/build_artifacts/xgboost-split_1707159369174/work/src/c_api/c_api.cc:1240: Saving into deprecated binary model format, please consider using `json` or `ubj`. Model format will default to JSON in XGBoost 2.2 if not specified.\n",
      "[17:37:44] WARNING: /home/conda/feedstock_root/build_artifacts/xgboost-split_1707159369174/work/src/c_api/c_api.cc:1240: Saving into deprecated binary model format, please consider using `json` or `ubj`. Model format will default to JSON in XGBoost 2.2 if not specified.\n",
      "[17:37:51] WARNING: /home/conda/feedstock_root/build_artifacts/xgboost-split_1707159369174/work/src/c_api/c_api.cc:1240: Saving into deprecated binary model format, please consider using `json` or `ubj`. Model format will default to JSON in XGBoost 2.2 if not specified.\n",
      "[17:37:56] WARNING: /home/conda/feedstock_root/build_artifacts/xgboost-split_1707159369174/work/src/c_api/c_api.cc:1240: Saving into deprecated binary model format, please consider using `json` or `ubj`. Model format will default to JSON in XGBoost 2.2 if not specified.\n",
      "[17:38:01] WARNING: /home/conda/feedstock_root/build_artifacts/xgboost-split_1707159369174/work/src/c_api/c_api.cc:1240: Saving into deprecated binary model format, please consider using `json` or `ubj`. Model format will default to JSON in XGBoost 2.2 if not specified.\n",
      "[17:38:05] WARNING: /home/conda/feedstock_root/build_artifacts/xgboost-split_1707159369174/work/src/c_api/c_api.cc:1240: Saving into deprecated binary model format, please consider using `json` or `ubj`. Model format will default to JSON in XGBoost 2.2 if not specified.\n",
      "[17:38:10] WARNING: /home/conda/feedstock_root/build_artifacts/xgboost-split_1707159369174/work/src/c_api/c_api.cc:1240: Saving into deprecated binary model format, please consider using `json` or `ubj`. Model format will default to JSON in XGBoost 2.2 if not specified.\n",
      "[17:38:15] WARNING: /home/conda/feedstock_root/build_artifacts/xgboost-split_1707159369174/work/src/c_api/c_api.cc:1240: Saving into deprecated binary model format, please consider using `json` or `ubj`. Model format will default to JSON in XGBoost 2.2 if not specified.\n",
      "[17:38:21] WARNING: /home/conda/feedstock_root/build_artifacts/xgboost-split_1707159369174/work/src/c_api/c_api.cc:1240: Saving into deprecated binary model format, please consider using `json` or `ubj`. Model format will default to JSON in XGBoost 2.2 if not specified.\n",
      "[17:38:27] WARNING: /home/conda/feedstock_root/build_artifacts/xgboost-split_1707159369174/work/src/c_api/c_api.cc:1240: Saving into deprecated binary model format, please consider using `json` or `ubj`. Model format will default to JSON in XGBoost 2.2 if not specified.\n",
      "[17:38:32] WARNING: /home/conda/feedstock_root/build_artifacts/xgboost-split_1707159369174/work/src/c_api/c_api.cc:1240: Saving into deprecated binary model format, please consider using `json` or `ubj`. Model format will default to JSON in XGBoost 2.2 if not specified.\n",
      "[17:38:37] WARNING: /home/conda/feedstock_root/build_artifacts/xgboost-split_1707159369174/work/src/c_api/c_api.cc:1240: Saving into deprecated binary model format, please consider using `json` or `ubj`. Model format will default to JSON in XGBoost 2.2 if not specified.\n",
      "[17:38:41] WARNING: /home/conda/feedstock_root/build_artifacts/xgboost-split_1707159369174/work/src/c_api/c_api.cc:1240: Saving into deprecated binary model format, please consider using `json` or `ubj`. Model format will default to JSON in XGBoost 2.2 if not specified.\n",
      "[17:38:45] WARNING: /home/conda/feedstock_root/build_artifacts/xgboost-split_1707159369174/work/src/c_api/c_api.cc:1240: Saving into deprecated binary model format, please consider using `json` or `ubj`. Model format will default to JSON in XGBoost 2.2 if not specified.\n",
      "[17:38:49] WARNING: /home/conda/feedstock_root/build_artifacts/xgboost-split_1707159369174/work/src/c_api/c_api.cc:1240: Saving into deprecated binary model format, please consider using `json` or `ubj`. Model format will default to JSON in XGBoost 2.2 if not specified.\n",
      "[17:38:53] WARNING: /home/conda/feedstock_root/build_artifacts/xgboost-split_1707159369174/work/src/c_api/c_api.cc:1240: Saving into deprecated binary model format, please consider using `json` or `ubj`. Model format will default to JSON in XGBoost 2.2 if not specified.\n",
      "[17:38:58] WARNING: /home/conda/feedstock_root/build_artifacts/xgboost-split_1707159369174/work/src/c_api/c_api.cc:1240: Saving into deprecated binary model format, please consider using `json` or `ubj`. Model format will default to JSON in XGBoost 2.2 if not specified.\n",
      "[17:39:03] WARNING: /home/conda/feedstock_root/build_artifacts/xgboost-split_1707159369174/work/src/c_api/c_api.cc:1240: Saving into deprecated binary model format, please consider using `json` or `ubj`. Model format will default to JSON in XGBoost 2.2 if not specified.\n",
      "[17:39:07] WARNING: /home/conda/feedstock_root/build_artifacts/xgboost-split_1707159369174/work/src/c_api/c_api.cc:1240: Saving into deprecated binary model format, please consider using `json` or `ubj`. Model format will default to JSON in XGBoost 2.2 if not specified.\n",
      "[17:39:11] WARNING: /home/conda/feedstock_root/build_artifacts/xgboost-split_1707159369174/work/src/c_api/c_api.cc:1240: Saving into deprecated binary model format, please consider using `json` or `ubj`. Model format will default to JSON in XGBoost 2.2 if not specified.\n",
      "[17:39:18] WARNING: /home/conda/feedstock_root/build_artifacts/xgboost-split_1707159369174/work/src/c_api/c_api.cc:1240: Saving into deprecated binary model format, please consider using `json` or `ubj`. Model format will default to JSON in XGBoost 2.2 if not specified.\n",
      "[17:39:22] WARNING: /home/conda/feedstock_root/build_artifacts/xgboost-split_1707159369174/work/src/c_api/c_api.cc:1240: Saving into deprecated binary model format, please consider using `json` or `ubj`. Model format will default to JSON in XGBoost 2.2 if not specified.\n"
     ]
    },
    {
     "name": "stdout",
     "output_type": "stream",
     "text": [
      "Best Parameters: {'learning_rate': 0.027956044721640937, 'max_depth': 22, 'subsample': 0.4732944998132392, 'gamma': 0.7616674917870077, 'colsample_bytree': 0.5940524543075539, 'lambda': 3.7962635940176606, 'alpha': 7.599770101029521}\n"
     ]
    },
    {
     "name": "stderr",
     "output_type": "stream",
     "text": [
      "[17:39:26] WARNING: /home/conda/feedstock_root/build_artifacts/xgboost-split_1707159369174/work/src/c_api/c_api.cc:1240: Saving into deprecated binary model format, please consider using `json` or `ubj`. Model format will default to JSON in XGBoost 2.2 if not specified.\n"
     ]
    },
    {
     "name": "stdout",
     "output_type": "stream",
     "text": [
      "Results Summary: {'Match': 14, 'Mismatch': 2}\n",
      "Removing mismatch feature: H4K5Ac\n",
      "Remaining Features: ['H2A.2', 'H3K4me1', 'H2A.13', 'H3K4me3', 'H3K36me3', 'H2A.Z.11', 'expression_category', 'H3K27me3_log', 'H3K9Ac_log', 'cpg_percentage_log', 'H3K9K14Ac_log', 'H3Ac_log', 'chh_percentage_log', 'H4K20me1_log', 'chg_percentage_log', 'H2A.W.7_log', 'H3K9me1_log', 'H2A.W.6_log', 'H2A.Z.9_log', 'H3K9me2_log']\n"
     ]
    },
    {
     "name": "stderr",
     "output_type": "stream",
     "text": [
      "[17:39:30] WARNING: /home/conda/feedstock_root/build_artifacts/xgboost-split_1707159369174/work/src/c_api/c_api.cc:1240: Saving into deprecated binary model format, please consider using `json` or `ubj`. Model format will default to JSON in XGBoost 2.2 if not specified.\n",
      "[17:39:34] WARNING: /home/conda/feedstock_root/build_artifacts/xgboost-split_1707159369174/work/src/c_api/c_api.cc:1240: Saving into deprecated binary model format, please consider using `json` or `ubj`. Model format will default to JSON in XGBoost 2.2 if not specified.\n",
      "[17:39:36] WARNING: /home/conda/feedstock_root/build_artifacts/xgboost-split_1707159369174/work/src/c_api/c_api.cc:1240: Saving into deprecated binary model format, please consider using `json` or `ubj`. Model format will default to JSON in XGBoost 2.2 if not specified.\n",
      "[17:39:41] WARNING: /home/conda/feedstock_root/build_artifacts/xgboost-split_1707159369174/work/src/c_api/c_api.cc:1240: Saving into deprecated binary model format, please consider using `json` or `ubj`. Model format will default to JSON in XGBoost 2.2 if not specified.\n",
      "[17:39:44] WARNING: /home/conda/feedstock_root/build_artifacts/xgboost-split_1707159369174/work/src/c_api/c_api.cc:1240: Saving into deprecated binary model format, please consider using `json` or `ubj`. Model format will default to JSON in XGBoost 2.2 if not specified.\n",
      "[17:39:46] WARNING: /home/conda/feedstock_root/build_artifacts/xgboost-split_1707159369174/work/src/c_api/c_api.cc:1240: Saving into deprecated binary model format, please consider using `json` or `ubj`. Model format will default to JSON in XGBoost 2.2 if not specified.\n",
      "[17:39:50] WARNING: /home/conda/feedstock_root/build_artifacts/xgboost-split_1707159369174/work/src/c_api/c_api.cc:1240: Saving into deprecated binary model format, please consider using `json` or `ubj`. Model format will default to JSON in XGBoost 2.2 if not specified.\n",
      "[17:39:54] WARNING: /home/conda/feedstock_root/build_artifacts/xgboost-split_1707159369174/work/src/c_api/c_api.cc:1240: Saving into deprecated binary model format, please consider using `json` or `ubj`. Model format will default to JSON in XGBoost 2.2 if not specified.\n",
      "[17:39:58] WARNING: /home/conda/feedstock_root/build_artifacts/xgboost-split_1707159369174/work/src/c_api/c_api.cc:1240: Saving into deprecated binary model format, please consider using `json` or `ubj`. Model format will default to JSON in XGBoost 2.2 if not specified.\n",
      "[17:40:01] WARNING: /home/conda/feedstock_root/build_artifacts/xgboost-split_1707159369174/work/src/c_api/c_api.cc:1240: Saving into deprecated binary model format, please consider using `json` or `ubj`. Model format will default to JSON in XGBoost 2.2 if not specified.\n",
      "[17:40:07] WARNING: /home/conda/feedstock_root/build_artifacts/xgboost-split_1707159369174/work/src/c_api/c_api.cc:1240: Saving into deprecated binary model format, please consider using `json` or `ubj`. Model format will default to JSON in XGBoost 2.2 if not specified.\n",
      "[17:40:11] WARNING: /home/conda/feedstock_root/build_artifacts/xgboost-split_1707159369174/work/src/c_api/c_api.cc:1240: Saving into deprecated binary model format, please consider using `json` or `ubj`. Model format will default to JSON in XGBoost 2.2 if not specified.\n",
      "[17:40:14] WARNING: /home/conda/feedstock_root/build_artifacts/xgboost-split_1707159369174/work/src/c_api/c_api.cc:1240: Saving into deprecated binary model format, please consider using `json` or `ubj`. Model format will default to JSON in XGBoost 2.2 if not specified.\n",
      "[17:40:16] WARNING: /home/conda/feedstock_root/build_artifacts/xgboost-split_1707159369174/work/src/c_api/c_api.cc:1240: Saving into deprecated binary model format, please consider using `json` or `ubj`. Model format will default to JSON in XGBoost 2.2 if not specified.\n",
      "[17:40:21] WARNING: /home/conda/feedstock_root/build_artifacts/xgboost-split_1707159369174/work/src/c_api/c_api.cc:1240: Saving into deprecated binary model format, please consider using `json` or `ubj`. Model format will default to JSON in XGBoost 2.2 if not specified.\n",
      "[17:40:24] WARNING: /home/conda/feedstock_root/build_artifacts/xgboost-split_1707159369174/work/src/c_api/c_api.cc:1240: Saving into deprecated binary model format, please consider using `json` or `ubj`. Model format will default to JSON in XGBoost 2.2 if not specified.\n",
      "[17:40:26] WARNING: /home/conda/feedstock_root/build_artifacts/xgboost-split_1707159369174/work/src/c_api/c_api.cc:1240: Saving into deprecated binary model format, please consider using `json` or `ubj`. Model format will default to JSON in XGBoost 2.2 if not specified.\n",
      "[17:40:28] WARNING: /home/conda/feedstock_root/build_artifacts/xgboost-split_1707159369174/work/src/c_api/c_api.cc:1240: Saving into deprecated binary model format, please consider using `json` or `ubj`. Model format will default to JSON in XGBoost 2.2 if not specified.\n",
      "[17:40:32] WARNING: /home/conda/feedstock_root/build_artifacts/xgboost-split_1707159369174/work/src/c_api/c_api.cc:1240: Saving into deprecated binary model format, please consider using `json` or `ubj`. Model format will default to JSON in XGBoost 2.2 if not specified.\n",
      "[17:40:34] WARNING: /home/conda/feedstock_root/build_artifacts/xgboost-split_1707159369174/work/src/c_api/c_api.cc:1240: Saving into deprecated binary model format, please consider using `json` or `ubj`. Model format will default to JSON in XGBoost 2.2 if not specified.\n",
      "[17:40:36] WARNING: /home/conda/feedstock_root/build_artifacts/xgboost-split_1707159369174/work/src/c_api/c_api.cc:1240: Saving into deprecated binary model format, please consider using `json` or `ubj`. Model format will default to JSON in XGBoost 2.2 if not specified.\n",
      "[17:40:39] WARNING: /home/conda/feedstock_root/build_artifacts/xgboost-split_1707159369174/work/src/c_api/c_api.cc:1240: Saving into deprecated binary model format, please consider using `json` or `ubj`. Model format will default to JSON in XGBoost 2.2 if not specified.\n",
      "[17:40:41] WARNING: /home/conda/feedstock_root/build_artifacts/xgboost-split_1707159369174/work/src/c_api/c_api.cc:1240: Saving into deprecated binary model format, please consider using `json` or `ubj`. Model format will default to JSON in XGBoost 2.2 if not specified.\n",
      "[17:40:44] WARNING: /home/conda/feedstock_root/build_artifacts/xgboost-split_1707159369174/work/src/c_api/c_api.cc:1240: Saving into deprecated binary model format, please consider using `json` or `ubj`. Model format will default to JSON in XGBoost 2.2 if not specified.\n",
      "[17:40:47] WARNING: /home/conda/feedstock_root/build_artifacts/xgboost-split_1707159369174/work/src/c_api/c_api.cc:1240: Saving into deprecated binary model format, please consider using `json` or `ubj`. Model format will default to JSON in XGBoost 2.2 if not specified.\n",
      "[17:40:50] WARNING: /home/conda/feedstock_root/build_artifacts/xgboost-split_1707159369174/work/src/c_api/c_api.cc:1240: Saving into deprecated binary model format, please consider using `json` or `ubj`. Model format will default to JSON in XGBoost 2.2 if not specified.\n",
      "[17:40:52] WARNING: /home/conda/feedstock_root/build_artifacts/xgboost-split_1707159369174/work/src/c_api/c_api.cc:1240: Saving into deprecated binary model format, please consider using `json` or `ubj`. Model format will default to JSON in XGBoost 2.2 if not specified.\n",
      "[17:40:55] WARNING: /home/conda/feedstock_root/build_artifacts/xgboost-split_1707159369174/work/src/c_api/c_api.cc:1240: Saving into deprecated binary model format, please consider using `json` or `ubj`. Model format will default to JSON in XGBoost 2.2 if not specified.\n",
      "[17:40:59] WARNING: /home/conda/feedstock_root/build_artifacts/xgboost-split_1707159369174/work/src/c_api/c_api.cc:1240: Saving into deprecated binary model format, please consider using `json` or `ubj`. Model format will default to JSON in XGBoost 2.2 if not specified.\n",
      "[17:41:03] WARNING: /home/conda/feedstock_root/build_artifacts/xgboost-split_1707159369174/work/src/c_api/c_api.cc:1240: Saving into deprecated binary model format, please consider using `json` or `ubj`. Model format will default to JSON in XGBoost 2.2 if not specified.\n",
      "[17:41:05] WARNING: /home/conda/feedstock_root/build_artifacts/xgboost-split_1707159369174/work/src/c_api/c_api.cc:1240: Saving into deprecated binary model format, please consider using `json` or `ubj`. Model format will default to JSON in XGBoost 2.2 if not specified.\n",
      "[17:41:08] WARNING: /home/conda/feedstock_root/build_artifacts/xgboost-split_1707159369174/work/src/c_api/c_api.cc:1240: Saving into deprecated binary model format, please consider using `json` or `ubj`. Model format will default to JSON in XGBoost 2.2 if not specified.\n",
      "[17:41:10] WARNING: /home/conda/feedstock_root/build_artifacts/xgboost-split_1707159369174/work/src/c_api/c_api.cc:1240: Saving into deprecated binary model format, please consider using `json` or `ubj`. Model format will default to JSON in XGBoost 2.2 if not specified.\n",
      "[17:41:12] WARNING: /home/conda/feedstock_root/build_artifacts/xgboost-split_1707159369174/work/src/c_api/c_api.cc:1240: Saving into deprecated binary model format, please consider using `json` or `ubj`. Model format will default to JSON in XGBoost 2.2 if not specified.\n",
      "[17:41:14] WARNING: /home/conda/feedstock_root/build_artifacts/xgboost-split_1707159369174/work/src/c_api/c_api.cc:1240: Saving into deprecated binary model format, please consider using `json` or `ubj`. Model format will default to JSON in XGBoost 2.2 if not specified.\n",
      "[17:41:17] WARNING: /home/conda/feedstock_root/build_artifacts/xgboost-split_1707159369174/work/src/c_api/c_api.cc:1240: Saving into deprecated binary model format, please consider using `json` or `ubj`. Model format will default to JSON in XGBoost 2.2 if not specified.\n",
      "[17:41:21] WARNING: /home/conda/feedstock_root/build_artifacts/xgboost-split_1707159369174/work/src/c_api/c_api.cc:1240: Saving into deprecated binary model format, please consider using `json` or `ubj`. Model format will default to JSON in XGBoost 2.2 if not specified.\n",
      "[17:41:24] WARNING: /home/conda/feedstock_root/build_artifacts/xgboost-split_1707159369174/work/src/c_api/c_api.cc:1240: Saving into deprecated binary model format, please consider using `json` or `ubj`. Model format will default to JSON in XGBoost 2.2 if not specified.\n",
      "[17:41:27] WARNING: /home/conda/feedstock_root/build_artifacts/xgboost-split_1707159369174/work/src/c_api/c_api.cc:1240: Saving into deprecated binary model format, please consider using `json` or `ubj`. Model format will default to JSON in XGBoost 2.2 if not specified.\n",
      "[17:41:30] WARNING: /home/conda/feedstock_root/build_artifacts/xgboost-split_1707159369174/work/src/c_api/c_api.cc:1240: Saving into deprecated binary model format, please consider using `json` or `ubj`. Model format will default to JSON in XGBoost 2.2 if not specified.\n"
     ]
    },
    {
     "name": "stdout",
     "output_type": "stream",
     "text": [
      "Best Parameters: {'learning_rate': 0.030712552403156082, 'max_depth': 13, 'subsample': 0.7449144560727653, 'gamma': 0.4133437191434687, 'colsample_bytree': 0.5667151731230875, 'lambda': 5.165869593272847, 'alpha': 11.118268449222144}\n"
     ]
    },
    {
     "name": "stderr",
     "output_type": "stream",
     "text": [
      "[17:41:33] WARNING: /home/conda/feedstock_root/build_artifacts/xgboost-split_1707159369174/work/src/c_api/c_api.cc:1240: Saving into deprecated binary model format, please consider using `json` or `ubj`. Model format will default to JSON in XGBoost 2.2 if not specified.\n"
     ]
    },
    {
     "name": "stdout",
     "output_type": "stream",
     "text": [
      "Results Summary: {'Match': 14, 'Mismatch': 1}\n",
      "Removing mismatch feature: H3K4me1\n",
      "Remaining Features: ['H2A.2', 'H2A.13', 'H3K4me3', 'H3K36me3', 'H2A.Z.11', 'expression_category', 'H3K27me3_log', 'H3K9Ac_log', 'cpg_percentage_log', 'H3K9K14Ac_log', 'H3Ac_log', 'chh_percentage_log', 'H4K20me1_log', 'chg_percentage_log', 'H2A.W.7_log', 'H3K9me1_log', 'H2A.W.6_log', 'H2A.Z.9_log', 'H3K9me2_log']\n"
     ]
    },
    {
     "name": "stderr",
     "output_type": "stream",
     "text": [
      "[17:41:36] WARNING: /home/conda/feedstock_root/build_artifacts/xgboost-split_1707159369174/work/src/c_api/c_api.cc:1240: Saving into deprecated binary model format, please consider using `json` or `ubj`. Model format will default to JSON in XGBoost 2.2 if not specified.\n",
      "[17:41:40] WARNING: /home/conda/feedstock_root/build_artifacts/xgboost-split_1707159369174/work/src/c_api/c_api.cc:1240: Saving into deprecated binary model format, please consider using `json` or `ubj`. Model format will default to JSON in XGBoost 2.2 if not specified.\n",
      "[17:41:44] WARNING: /home/conda/feedstock_root/build_artifacts/xgboost-split_1707159369174/work/src/c_api/c_api.cc:1240: Saving into deprecated binary model format, please consider using `json` or `ubj`. Model format will default to JSON in XGBoost 2.2 if not specified.\n",
      "[17:41:48] WARNING: /home/conda/feedstock_root/build_artifacts/xgboost-split_1707159369174/work/src/c_api/c_api.cc:1240: Saving into deprecated binary model format, please consider using `json` or `ubj`. Model format will default to JSON in XGBoost 2.2 if not specified.\n",
      "[17:41:51] WARNING: /home/conda/feedstock_root/build_artifacts/xgboost-split_1707159369174/work/src/c_api/c_api.cc:1240: Saving into deprecated binary model format, please consider using `json` or `ubj`. Model format will default to JSON in XGBoost 2.2 if not specified.\n",
      "[17:41:54] WARNING: /home/conda/feedstock_root/build_artifacts/xgboost-split_1707159369174/work/src/c_api/c_api.cc:1240: Saving into deprecated binary model format, please consider using `json` or `ubj`. Model format will default to JSON in XGBoost 2.2 if not specified.\n",
      "[17:41:58] WARNING: /home/conda/feedstock_root/build_artifacts/xgboost-split_1707159369174/work/src/c_api/c_api.cc:1240: Saving into deprecated binary model format, please consider using `json` or `ubj`. Model format will default to JSON in XGBoost 2.2 if not specified.\n",
      "[17:42:02] WARNING: /home/conda/feedstock_root/build_artifacts/xgboost-split_1707159369174/work/src/c_api/c_api.cc:1240: Saving into deprecated binary model format, please consider using `json` or `ubj`. Model format will default to JSON in XGBoost 2.2 if not specified.\n",
      "[17:42:07] WARNING: /home/conda/feedstock_root/build_artifacts/xgboost-split_1707159369174/work/src/c_api/c_api.cc:1240: Saving into deprecated binary model format, please consider using `json` or `ubj`. Model format will default to JSON in XGBoost 2.2 if not specified.\n",
      "[17:42:11] WARNING: /home/conda/feedstock_root/build_artifacts/xgboost-split_1707159369174/work/src/c_api/c_api.cc:1240: Saving into deprecated binary model format, please consider using `json` or `ubj`. Model format will default to JSON in XGBoost 2.2 if not specified.\n",
      "[17:42:14] WARNING: /home/conda/feedstock_root/build_artifacts/xgboost-split_1707159369174/work/src/c_api/c_api.cc:1240: Saving into deprecated binary model format, please consider using `json` or `ubj`. Model format will default to JSON in XGBoost 2.2 if not specified.\n",
      "[17:42:17] WARNING: /home/conda/feedstock_root/build_artifacts/xgboost-split_1707159369174/work/src/c_api/c_api.cc:1240: Saving into deprecated binary model format, please consider using `json` or `ubj`. Model format will default to JSON in XGBoost 2.2 if not specified.\n",
      "[17:42:20] WARNING: /home/conda/feedstock_root/build_artifacts/xgboost-split_1707159369174/work/src/c_api/c_api.cc:1240: Saving into deprecated binary model format, please consider using `json` or `ubj`. Model format will default to JSON in XGBoost 2.2 if not specified.\n",
      "[17:42:22] WARNING: /home/conda/feedstock_root/build_artifacts/xgboost-split_1707159369174/work/src/c_api/c_api.cc:1240: Saving into deprecated binary model format, please consider using `json` or `ubj`. Model format will default to JSON in XGBoost 2.2 if not specified.\n",
      "[17:42:25] WARNING: /home/conda/feedstock_root/build_artifacts/xgboost-split_1707159369174/work/src/c_api/c_api.cc:1240: Saving into deprecated binary model format, please consider using `json` or `ubj`. Model format will default to JSON in XGBoost 2.2 if not specified.\n",
      "[17:42:39] WARNING: /home/conda/feedstock_root/build_artifacts/xgboost-split_1707159369174/work/src/c_api/c_api.cc:1240: Saving into deprecated binary model format, please consider using `json` or `ubj`. Model format will default to JSON in XGBoost 2.2 if not specified.\n",
      "[17:42:48] WARNING: /home/conda/feedstock_root/build_artifacts/xgboost-split_1707159369174/work/src/c_api/c_api.cc:1240: Saving into deprecated binary model format, please consider using `json` or `ubj`. Model format will default to JSON in XGBoost 2.2 if not specified.\n",
      "[17:42:50] WARNING: /home/conda/feedstock_root/build_artifacts/xgboost-split_1707159369174/work/src/c_api/c_api.cc:1240: Saving into deprecated binary model format, please consider using `json` or `ubj`. Model format will default to JSON in XGBoost 2.2 if not specified.\n",
      "[17:42:52] WARNING: /home/conda/feedstock_root/build_artifacts/xgboost-split_1707159369174/work/src/c_api/c_api.cc:1240: Saving into deprecated binary model format, please consider using `json` or `ubj`. Model format will default to JSON in XGBoost 2.2 if not specified.\n",
      "[17:42:55] WARNING: /home/conda/feedstock_root/build_artifacts/xgboost-split_1707159369174/work/src/c_api/c_api.cc:1240: Saving into deprecated binary model format, please consider using `json` or `ubj`. Model format will default to JSON in XGBoost 2.2 if not specified.\n",
      "[17:42:58] WARNING: /home/conda/feedstock_root/build_artifacts/xgboost-split_1707159369174/work/src/c_api/c_api.cc:1240: Saving into deprecated binary model format, please consider using `json` or `ubj`. Model format will default to JSON in XGBoost 2.2 if not specified.\n",
      "[17:43:00] WARNING: /home/conda/feedstock_root/build_artifacts/xgboost-split_1707159369174/work/src/c_api/c_api.cc:1240: Saving into deprecated binary model format, please consider using `json` or `ubj`. Model format will default to JSON in XGBoost 2.2 if not specified.\n",
      "[17:43:01] WARNING: /home/conda/feedstock_root/build_artifacts/xgboost-split_1707159369174/work/src/c_api/c_api.cc:1240: Saving into deprecated binary model format, please consider using `json` or `ubj`. Model format will default to JSON in XGBoost 2.2 if not specified.\n",
      "[17:43:04] WARNING: /home/conda/feedstock_root/build_artifacts/xgboost-split_1707159369174/work/src/c_api/c_api.cc:1240: Saving into deprecated binary model format, please consider using `json` or `ubj`. Model format will default to JSON in XGBoost 2.2 if not specified.\n",
      "[17:43:06] WARNING: /home/conda/feedstock_root/build_artifacts/xgboost-split_1707159369174/work/src/c_api/c_api.cc:1240: Saving into deprecated binary model format, please consider using `json` or `ubj`. Model format will default to JSON in XGBoost 2.2 if not specified.\n",
      "[17:43:09] WARNING: /home/conda/feedstock_root/build_artifacts/xgboost-split_1707159369174/work/src/c_api/c_api.cc:1240: Saving into deprecated binary model format, please consider using `json` or `ubj`. Model format will default to JSON in XGBoost 2.2 if not specified.\n",
      "[17:43:11] WARNING: /home/conda/feedstock_root/build_artifacts/xgboost-split_1707159369174/work/src/c_api/c_api.cc:1240: Saving into deprecated binary model format, please consider using `json` or `ubj`. Model format will default to JSON in XGBoost 2.2 if not specified.\n",
      "[17:43:14] WARNING: /home/conda/feedstock_root/build_artifacts/xgboost-split_1707159369174/work/src/c_api/c_api.cc:1240: Saving into deprecated binary model format, please consider using `json` or `ubj`. Model format will default to JSON in XGBoost 2.2 if not specified.\n",
      "[17:43:16] WARNING: /home/conda/feedstock_root/build_artifacts/xgboost-split_1707159369174/work/src/c_api/c_api.cc:1240: Saving into deprecated binary model format, please consider using `json` or `ubj`. Model format will default to JSON in XGBoost 2.2 if not specified.\n",
      "[17:43:20] WARNING: /home/conda/feedstock_root/build_artifacts/xgboost-split_1707159369174/work/src/c_api/c_api.cc:1240: Saving into deprecated binary model format, please consider using `json` or `ubj`. Model format will default to JSON in XGBoost 2.2 if not specified.\n",
      "[17:43:24] WARNING: /home/conda/feedstock_root/build_artifacts/xgboost-split_1707159369174/work/src/c_api/c_api.cc:1240: Saving into deprecated binary model format, please consider using `json` or `ubj`. Model format will default to JSON in XGBoost 2.2 if not specified.\n",
      "[17:43:26] WARNING: /home/conda/feedstock_root/build_artifacts/xgboost-split_1707159369174/work/src/c_api/c_api.cc:1240: Saving into deprecated binary model format, please consider using `json` or `ubj`. Model format will default to JSON in XGBoost 2.2 if not specified.\n",
      "[17:43:28] WARNING: /home/conda/feedstock_root/build_artifacts/xgboost-split_1707159369174/work/src/c_api/c_api.cc:1240: Saving into deprecated binary model format, please consider using `json` or `ubj`. Model format will default to JSON in XGBoost 2.2 if not specified.\n",
      "[17:43:31] WARNING: /home/conda/feedstock_root/build_artifacts/xgboost-split_1707159369174/work/src/c_api/c_api.cc:1240: Saving into deprecated binary model format, please consider using `json` or `ubj`. Model format will default to JSON in XGBoost 2.2 if not specified.\n",
      "[17:43:34] WARNING: /home/conda/feedstock_root/build_artifacts/xgboost-split_1707159369174/work/src/c_api/c_api.cc:1240: Saving into deprecated binary model format, please consider using `json` or `ubj`. Model format will default to JSON in XGBoost 2.2 if not specified.\n",
      "[17:43:37] WARNING: /home/conda/feedstock_root/build_artifacts/xgboost-split_1707159369174/work/src/c_api/c_api.cc:1240: Saving into deprecated binary model format, please consider using `json` or `ubj`. Model format will default to JSON in XGBoost 2.2 if not specified.\n",
      "[17:43:40] WARNING: /home/conda/feedstock_root/build_artifacts/xgboost-split_1707159369174/work/src/c_api/c_api.cc:1240: Saving into deprecated binary model format, please consider using `json` or `ubj`. Model format will default to JSON in XGBoost 2.2 if not specified.\n",
      "[17:43:45] WARNING: /home/conda/feedstock_root/build_artifacts/xgboost-split_1707159369174/work/src/c_api/c_api.cc:1240: Saving into deprecated binary model format, please consider using `json` or `ubj`. Model format will default to JSON in XGBoost 2.2 if not specified.\n",
      "[17:43:48] WARNING: /home/conda/feedstock_root/build_artifacts/xgboost-split_1707159369174/work/src/c_api/c_api.cc:1240: Saving into deprecated binary model format, please consider using `json` or `ubj`. Model format will default to JSON in XGBoost 2.2 if not specified.\n",
      "[17:43:51] WARNING: /home/conda/feedstock_root/build_artifacts/xgboost-split_1707159369174/work/src/c_api/c_api.cc:1240: Saving into deprecated binary model format, please consider using `json` or `ubj`. Model format will default to JSON in XGBoost 2.2 if not specified.\n"
     ]
    },
    {
     "name": "stdout",
     "output_type": "stream",
     "text": [
      "Best Parameters: {'learning_rate': 0.018064971807926218, 'max_depth': 20, 'subsample': 0.5534823057473445, 'gamma': 0.9191159761298259, 'colsample_bytree': 0.6750563081482891, 'lambda': 6.403741492196459, 'alpha': 8.107782194086186}\n"
     ]
    },
    {
     "name": "stderr",
     "output_type": "stream",
     "text": [
      "[17:43:53] WARNING: /home/conda/feedstock_root/build_artifacts/xgboost-split_1707159369174/work/src/c_api/c_api.cc:1240: Saving into deprecated binary model format, please consider using `json` or `ubj`. Model format will default to JSON in XGBoost 2.2 if not specified.\n"
     ]
    },
    {
     "name": "stdout",
     "output_type": "stream",
     "text": [
      "Results Summary: {'Match': 14}\n",
      "\n",
      "--- Evaluating model with feature H3K23me1_log added back ---\n",
      "\n"
     ]
    },
    {
     "name": "stderr",
     "output_type": "stream",
     "text": [
      "[17:43:56] WARNING: /home/conda/feedstock_root/build_artifacts/xgboost-split_1707159369174/work/src/c_api/c_api.cc:1240: Saving into deprecated binary model format, please consider using `json` or `ubj`. Model format will default to JSON in XGBoost 2.2 if not specified.\n"
     ]
    },
    {
     "name": "stdout",
     "output_type": "stream",
     "text": [
      "Results Summary: {'Match': 13, 'Mismatch': 1, 'No Evaluation': 1}\n",
      "Feature: H3K23me1_log, Known Function: Unknown, Result: No Evaluation\n",
      "\n",
      "--- Feature Analysis Results ---\n",
      "Feature: H3K4me1, Total Score: 1.3042715121991932, Known Function: Activating, Result: Mismatch\n",
      "Feature: H3K9me2_log, Total Score: 1.8885597929474898, Known Function: Repressive, Result: Match\n",
      "Feature: H3K4me3, Total Score: 1.8975745285861194, Known Function: Activating, Result: Match\n",
      "Feature: H3K36me3, Total Score: 1.6590399200795218, Known Function: Activating, Result: Match\n",
      "Feature: H4K5Ac, Total Score: 1.583871609531343, Known Function: Activating, Result: Mismatch\n",
      "Feature: H3K27me3_log, Total Score: 1.6270086739677936, Known Function: Repressive, Result: Match\n",
      "Feature: H3K9Ac_log, Total Score: 1.4494410338811576, Known Function: Activating, Result: Match\n",
      "Feature: cpg_percentage_log, Total Score: 1.7572835902683437, Known Function: Repressive, Result: Match\n",
      "Feature: chh_percentage_log, Total Score: 1.7452963892937987, Known Function: Repressive, Result: Mismatch\n",
      "Feature: H4K20me1_log, Total Score: 1.5855088391108438, Known Function: Repressive, Result: Match\n",
      "Feature: chg_percentage_log, Total Score: 1.657763923809398, Known Function: Repressive, Result: Match\n",
      "Feature: H2A.W.7_log, Total Score: 1.5567676736973226, Known Function: Repressive, Result: Mismatch\n",
      "Feature: H3K9me1_log, Total Score: 1.845669220900163, Known Function: Repressive, Result: Match\n",
      "Feature: H2A.W.6_log, Total Score: 1.7454911929089576, Known Function: Repressive, Result: Match\n",
      "Feature: H3Ac_log, Total Score: 1.5660669311328093, Known Function: Activating, Result: Mismatch\n",
      "Feature: H3K9K14Ac_log, Total Score: 1.5724182613193989, Known Function: Activating, Result: Match\n",
      "Feature: H3K23me1_log, Total Score: 1.6145811253227293, Known Function: Unknown, Result: No Evaluation\n",
      "\n",
      "--- Overall Accuracy ---\n",
      "Total Matches: 11\n",
      "Total Mismatches: 6\n",
      "Accuracy: 0.65\n"
     ]
    }
   ],
   "source": [
    "optuna.logging.set_verbosity(optuna.logging.WARNING)\n",
    "\n",
    "import warnings\n",
    "warnings.filterwarnings(\"ignore\", message=\"Saving into deprecated binary model format\")\n",
    "\n",
    "\n",
    "total_matches = 0\n",
    "total_mismatches = 0\n",
    "\n",
    "features = function_map[\"Features\"]\n",
    "known_functions = function_map[\"Known Function\"]\n",
    "\n",
    "feature_scores = {}\n",
    "\n",
    "for i, feature_to_leave_out in enumerate(features):\n",
    "    print(f\"\\n--- Performing LOO for feature {feature_to_leave_out} ---\\n\")\n",
    "\n",
    "    reduced_X_train = X_train.drop(columns = [feature_to_leave_out])\n",
    "    reduced_X_test = X_test.drop(columns = [feature_to_leave_out])\n",
    "\n",
    "    selected_features, study = feature_selection_with_optuna(reduced_X_train, reduced_X_test, y_train, y_test, function_map)\n",
    "\n",
    "    final_X_train = X_train[selected_features + [feature_to_leave_out]]\n",
    "    final_X_test = X_test[selected_features + [feature_to_leave_out]]\n",
    "\n",
    "    print(f\"\\n--- Evaluating model with feature {feature_to_leave_out} added back ---\\n\")\n",
    "\n",
    "    model, total_score, result_summary, results_df = evaluate_model(\n",
    "        final_X_train, final_X_test, y_train, y_test, optuna_study=study\n",
    "        )\n",
    "\n",
    "    known_function = known_functions[i]\n",
    "    feature_result = results_df[results_df[\"Features\"] == feature_to_leave_out]\n",
    "\n",
    "    if not feature_result.empty:\n",
    "        match_result = feature_result[\"Result\"].values[0]\n",
    "        print(f\"Feature: {feature_to_leave_out}, Known Function: {known_function}, Result: {match_result}\")\n",
    "\n",
    "        if match_result == \"Match\":\n",
    "            total_matches += 1\n",
    "        else:\n",
    "            total_mismatches += 1\n",
    "\n",
    "        feature_scores[feature_to_leave_out] = {\n",
    "            \"Total Score\": total_score,\n",
    "            \"Known Function\": known_function,\n",
    "            \"Result\": match_result\n",
    "        }\n",
    "\n",
    "total_features = total_matches + total_mismatches\n",
    "accuracy = total_matches / total_features if total_features > 0 else 0\n",
    "\n",
    "print(\"\\n--- Feature Analysis Results ---\")\n",
    "\n",
    "for feature, score in feature_scores.items():\n",
    "    print(f\"Feature: {feature}, Total Score: {score['Total Score']}, Known Function: {score['Known Function']}, Result: {score['Result']}\")\n",
    "\n",
    "print(\"\\n--- Overall Accuracy ---\")\n",
    "print(f\"Total Matches: {total_matches}\")\n",
    "print(f\"Total Mismatches: {total_mismatches}\")\n",
    "print(f\"Accuracy: {accuracy:.2f}\")"
   ]
  }
 ],
 "metadata": {
  "kernelspec": {
   "display_name": "rapids-24.04",
   "language": "python",
   "name": "python3"
  },
  "language_info": {
   "codemirror_mode": {
    "name": "ipython",
    "version": 3
   },
   "file_extension": ".py",
   "mimetype": "text/x-python",
   "name": "python",
   "nbconvert_exporter": "python",
   "pygments_lexer": "ipython3",
   "version": "3.11.9"
  }
 },
 "nbformat": 4,
 "nbformat_minor": 2
}
